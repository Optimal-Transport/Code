{
 "cells": [
  {
   "cell_type": "markdown",
   "metadata": {},
   "source": [
    "# A Linear Programming Model for Optimal Transport "
   ]
  },
  {
   "cell_type": "markdown",
   "metadata": {},
   "source": [
    "<div class=\"alert alert-block alert-success\">\n",
    "$\\newcommand{\\R}{\\mathbb{R}} \\newcommand{\\Z}{\\mathbb{Z}} \\newcommand{\\N}{\\mathbb{N}} \n",
    "\\newcommand{\\bff}{\\mathbf{f}} \\newcommand{\\bx}{\\mathbf{x}} \n",
    "\\newcommand{\\by}{\\mathbf{y}} \\newcommand{\\bo}{\\mathbb{1}} \\newcommand{\\bJ}{\\mathbf{J}}$\n",
    "In this notebook, we will aim to solve the following optimal transport problem in its linear form:\n",
    "\\begin{align}\n",
    "\\min c^\\top x,\n",
    "\\end{align}\n",
    "subject to\n",
    "\\begin{align}\n",
    "    \\begin{pmatrix} \\mathbb{1}_N^\\top \\otimes I_M \\\\ I_N \\otimes \\mathbb{1}_M^\\top \\end{pmatrix} x &= \n",
    "    \\begin{pmatrix} m \\\\ n \\end{pmatrix},\n",
    "    \\\\\n",
    "    x &\\geq 0;\n",
    "\\end{align}\n",
    "where $x\\in \\R^{M\\times N}$, $m \\in \\R^M$, $n \\in \\R^N$, and $c \\in \\R^{M\\times N}$ is a positive cost vector.\n",
    "</div>"
   ]
  },
  {
   "cell_type": "markdown",
   "metadata": {},
   "source": [
    "<div class=\"alert alert-block alert-info\">\n",
    "The following packages are loaded into the environment. \n",
    "</div>"
   ]
  },
  {
   "cell_type": "code",
   "execution_count": 1,
   "metadata": {},
   "outputs": [],
   "source": [
    "from gurobipy import *\n",
    "import time\n",
    "import numpy as np\n",
    "from numpy         import asarray, indices, double, allclose\n",
    "from pandas        import read_csv\n",
    "from skimage.io    import imread, imshow\n",
    "\n",
    "from skimage.transform      import rescale, resize\n",
    "from scipy.spatial          import distance_matrix\n",
    "from scipy.spatial.distance import cdist\n",
    "from scipy                  import sparse\n",
    "from scipy.sparse           import csr_matrix as csr\n",
    "\n",
    "%matplotlib inline\n",
    "import matplotlib.pyplot as plt\n",
    "import matplotlib.ticker as mticker"
   ]
  },
  {
   "cell_type": "markdown",
   "metadata": {},
   "source": [
    "<div class=\"alert alert-block alert-success\">\n",
    "We can actually solve the original problem with an LP solver that allows indexing:\n",
    "\\begin{align}\n",
    "    \\min c : \\gamma,\n",
    "\\end{align}\n",
    "subject to\n",
    "\\begin{align}\n",
    "    \\sum_{j} \\gamma_{i,j} &= m_i\n",
    "    \\\\\n",
    "    \\sum_{i} \\gamma_{i,j} &= n_j\n",
    "    \\\\\n",
    "    \\gamma_{i,j} &\\geq 0.\n",
    "\\end{align}\n",
    "</div>"
   ]
  },
  {
   "cell_type": "markdown",
   "metadata": {},
   "source": [
    "<div class=\"alert alert-block alert-info\">\n",
    "Here we define the following basic objects:\n",
    "    \n",
    "1. `M` and `N` are the number of points where the measures of `μ` and `ν` are concentrated,\n",
    "2. `c` is the vector of costs.\n",
    "</div>"
   ]
  },
  {
   "cell_type": "code",
   "execution_count": 2,
   "metadata": {},
   "outputs": [],
   "source": [
    "# File names\n",
    "Dir  = '../../DOTmark/Data/ClassicImages/'\n",
    "Main = 'Scalings/'\n",
    "nomᵤ = 'data128_1003.csv'\n",
    "nomᵥ = 'data128_1009.csv'"
   ]
  },
  {
   "cell_type": "code",
   "execution_count": 3,
   "metadata": {},
   "outputs": [],
   "source": [
    "μ = read_csv(Dir + nomᵤ).values.astype(double);    μ /= μ.max()\n",
    "ν = read_csv(Dir + nomᵥ).values.astype(double);    ν /= ν.max()"
   ]
  },
  {
   "cell_type": "code",
   "execution_count": 4,
   "metadata": {},
   "outputs": [],
   "source": [
    "μ = rescale(μ, 2**-1, preserve_range = True, anti_aliasing = False)\n",
    "ν = rescale(ν, 2**-1, preserve_range = True, anti_aliasing = False)"
   ]
  },
  {
   "cell_type": "code",
   "execution_count": 5,
   "metadata": {},
   "outputs": [],
   "source": [
    "M = μ.size\n",
    "N = ν.size"
   ]
  },
  {
   "cell_type": "code",
   "execution_count": 6,
   "metadata": {},
   "outputs": [],
   "source": [
    "# Coordinates:\n",
    "Iₘ = (indices(μ.shape)/(asarray(μ.shape)-1)[::,np.newaxis,np.newaxis]).reshape(2,M).T\n",
    "Iₙ = (indices(ν.shape)/(asarray(ν.shape)-1)[::,np.newaxis,np.newaxis]).reshape(2,N).T\n",
    "#Sparse alternatives:    indices(μ.shape, sparse=True)      &      indices(ν.shape, sparse=True)"
   ]
  },
  {
   "cell_type": "code",
   "execution_count": 7,
   "metadata": {},
   "outputs": [],
   "source": [
    "# Cost matrix:\n",
    "c = cdist(Iₘ, Iₙ, 'sqeuclidean')        # Alternative: distance_matrix(Iₘ, Iₙ) ** 2"
   ]
  },
  {
   "cell_type": "code",
   "execution_count": 8,
   "metadata": {},
   "outputs": [],
   "source": [
    "P = {'A': (None,'S2'), 'B': (1,'1'), 'C': (1.5,'1.5'), 'D': (2,'2'), 'E': (4,'4'), 'F': (np.inf,'∞')}\n",
    "test = 'A'"
   ]
  },
  {
   "cell_type": "code",
   "execution_count": 9,
   "metadata": {},
   "outputs": [],
   "source": [
    "p = '_p=' + P[test][1]"
   ]
  },
  {
   "cell_type": "code",
   "execution_count": 10,
   "metadata": {},
   "outputs": [],
   "source": [
    "if test != 'A':        c = cdist(Iₘ, Iₙ, 'minkowski', p = P[test][0])"
   ]
  },
  {
   "cell_type": "code",
   "execution_count": 11,
   "metadata": {},
   "outputs": [],
   "source": [
    "#μ = np.where(μ==0, 1e-4, μ)\n",
    "#ν = np.where(ν==0, 1e-4, ν)"
   ]
  },
  {
   "cell_type": "markdown",
   "metadata": {},
   "source": [
    "<div class=\"alert alert-block alert-warning\">\n",
    "Scale and optimise:\n",
    "</div>"
   ]
  },
  {
   "cell_type": "code",
   "execution_count": 13,
   "metadata": {
    "code_folding": [
     0
    ],
    "scrolled": true
   },
   "outputs": [
    {
     "name": "stdout",
     "output_type": "stream",
     "text": [
      "–––––  Scaling  1  –––––\n",
      "Freeing default Gurobi environment\n",
      "Set parameter Username\n",
      "Academic license - for non-commercial use only - expires 2022-10-17\n",
      "Time spent in building model:  2.278580904006958\n",
      "Set parameter IntFeasTol to value 1e-09\n",
      "Set parameter FeasibilityTol to value 1e-09\n",
      "Set parameter OptimalityTol to value 1e-09\n",
      "Set parameter Method to value 0\n",
      "Set parameter Presolve to value 0\n",
      "Gurobi Optimizer version 9.5.1 build v9.5.1rc2 (mac64[arm])\n",
      "Thread count: 8 physical cores, 8 logical processors, using up to 8 threads\n",
      "Optimize a model with 2048 rows, 1048576 columns and 2097152 nonzeros\n",
      "Model fingerprint: 0x7d4295a5\n",
      "Coefficient statistics:\n",
      "  Matrix range     [1e+00, 1e+00]\n",
      "  Objective range  [8e-04, 2e+00]\n",
      "  Bounds range     [0e+00, 0e+00]\n",
      "  RHS range        [2e-04, 2e-03]\n",
      "Iteration    Objective       Primal Inf.    Dual Inf.      Time\n",
      "       0    1.3685072e+00   9.981318e-01   1.046531e+12      0s\n",
      "   81534    2.5525384e-02   0.000000e+00   0.000000e+00      1s\n",
      "\n",
      "Solved in 81534 iterations and 1.00 seconds (2.17 work units)\n",
      "Optimal objective  2.552538354e-02\n"
     ]
    },
    {
     "data": {
      "image/png": "[encoded data removed]",
      "text/plain": [
       "<Figure size 360x360 with 1 Axes>"
      ]
     },
     "metadata": {
      "needs_background": "light"
     },
     "output_type": "display_data"
    },
    {
     "data": {
      "image/png": "[encoded data removed]",
      "text/plain": [
       "<Figure size 432x288 with 1 Axes>"
      ]
     },
     "metadata": {
      "needs_background": "light"
     },
     "output_type": "display_data"
    },
    {
     "name": "stdout",
     "output_type": "stream",
     "text": [
      "\n",
      "\n",
      "\n",
      "–––––  Scaling  2  –––––\n",
      "Freeing default Gurobi environment\n",
      "Set parameter Username\n",
      "Academic license - for non-commercial use only - expires 2022-10-17\n",
      "Time spent in building model:  0.18941307067871094\n",
      "Set parameter IntFeasTol to value 1e-09\n",
      "Set parameter FeasibilityTol to value 1e-09\n",
      "Set parameter OptimalityTol to value 1e-09\n",
      "Set parameter Method to value 0\n",
      "Set parameter Presolve to value 0\n",
      "Gurobi Optimizer version 9.5.1 build v9.5.1rc2 (mac64[arm])\n",
      "Thread count: 8 physical cores, 8 logical processors, using up to 8 threads\n",
      "Optimize a model with 512 rows, 65536 columns and 131072 nonzeros\n",
      "Model fingerprint: 0x93e49d61\n",
      "Coefficient statistics:\n",
      "  Matrix range     [1e+00, 1e+00]\n",
      "  Objective range  [1e-02, 2e+00]\n",
      "  Bounds range     [0e+00, 0e+00]\n",
      "  RHS range        [1e-03, 8e-03]\n",
      "Iteration    Objective       Primal Inf.    Dual Inf.      Time\n",
      "       0    1.1593759e+00   9.925744e-01   6.502505e+10      0s\n",
      "    8141    8.3348298e-02   0.000000e+00   0.000000e+00      0s\n",
      "\n",
      "Solved in 8141 iterations and 0.05 seconds (0.12 work units)\n",
      "Optimal objective  8.334829807e-02\n"
     ]
    },
    {
     "data": {
      "image/png": "[encoded data removed]",
      "text/plain": [
       "<Figure size 360x360 with 1 Axes>"
      ]
     },
     "metadata": {
      "needs_background": "light"
     },
     "output_type": "display_data"
    },
    {
     "data": {
      "image/png": "[encoded data removed]",
      "text/plain": [
       "<Figure size 432x288 with 1 Axes>"
      ]
     },
     "metadata": {
      "needs_background": "light"
     },
     "output_type": "display_data"
    },
    {
     "name": "stdout",
     "output_type": "stream",
     "text": [
      "\n",
      "\n",
      "\n",
      "–––––  Scaling  3  –––––\n",
      "Freeing default Gurobi environment\n",
      "Set parameter Username\n",
      "Academic license - for non-commercial use only - expires 2022-10-17\n",
      "Time spent in building model:  0.02927875518798828\n",
      "Set parameter IntFeasTol to value 1e-09\n",
      "Set parameter FeasibilityTol to value 1e-09\n",
      "Set parameter OptimalityTol to value 1e-09\n",
      "Set parameter Method to value 0\n",
      "Set parameter Presolve to value 0\n",
      "Gurobi Optimizer version 9.5.1 build v9.5.1rc2 (mac64[arm])\n",
      "Thread count: 8 physical cores, 8 logical processors, using up to 8 threads\n",
      "Optimize a model with 128 rows, 4096 columns and 8192 nonzeros\n",
      "Model fingerprint: 0x9b2fb429\n",
      "Coefficient statistics:\n",
      "  Matrix range     [1e+00, 1e+00]\n",
      "  Objective range  [1e-01, 1e+00]\n",
      "  Bounds range     [0e+00, 0e+00]\n",
      "  RHS range        [6e-03, 3e-02]\n",
      "Iteration    Objective       Primal Inf.    Dual Inf.      Time\n",
      "       0    8.8861245e-01   9.715315e-01   3.969002e+09      0s\n",
      "     631    1.6478929e-01   0.000000e+00   0.000000e+00      0s\n",
      "\n",
      "Solved in 631 iterations and 0.01 seconds (0.00 work units)\n",
      "Optimal objective  1.647892919e-01\n"
     ]
    },
    {
     "data": {
      "image/png": "[encoded data removed]",
      "text/plain": [
       "<Figure size 360x360 with 1 Axes>"
      ]
     },
     "metadata": {
      "needs_background": "light"
     },
     "output_type": "display_data"
    },
    {
     "data": {
      "image/png": "[encoded data removed]",
      "text/plain": [
       "<Figure size 432x288 with 1 Axes>"
      ]
     },
     "metadata": {
      "needs_background": "light"
     },
     "output_type": "display_data"
    },
    {
     "name": "stdout",
     "output_type": "stream",
     "text": [
      "\n",
      "\n",
      "\n",
      "–––––  Scaling  4  –––––\n",
      "Freeing default Gurobi environment\n",
      "Set parameter Username\n",
      "Academic license - for non-commercial use only - expires 2022-10-17\n",
      "Time spent in building model:  0.008506059646606445\n",
      "Set parameter IntFeasTol to value 1e-09\n",
      "Set parameter FeasibilityTol to value 1e-09\n",
      "Set parameter OptimalityTol to value 1e-09\n",
      "Set parameter Method to value 0\n",
      "Set parameter Presolve to value 0\n",
      "Gurobi Optimizer version 9.5.1 build v9.5.1rc2 (mac64[arm])\n",
      "Thread count: 8 physical cores, 8 logical processors, using up to 8 threads\n",
      "Optimize a model with 32 rows, 256 columns and 512 nonzeros\n",
      "Model fingerprint: 0x665f5f0e\n",
      "Coefficient statistics:\n",
      "  Matrix range     [1e+00, 1e+00]\n",
      "  Objective range  [2e-01, 1e+00]\n",
      "  Bounds range     [0e+00, 0e+00]\n",
      "  RHS range        [3e-02, 1e-01]\n",
      "Iteration    Objective       Primal Inf.    Dual Inf.      Time\n",
      "       0    8.2975929e-01   8.901232e-01   2.250001e+08      0s\n",
      "      87    1.6716167e-01   0.000000e+00   0.000000e+00      0s\n",
      "\n",
      "Solved in 87 iterations and 0.01 seconds (0.00 work units)\n",
      "Optimal objective  1.671616738e-01\n"
     ]
    },
    {
     "data": {
      "image/png": "[encoded data removed]",
      "text/plain": [
       "<Figure size 360x360 with 1 Axes>"
      ]
     },
     "metadata": {
      "needs_background": "light"
     },
     "output_type": "display_data"
    },
    {
     "data": {
      "image/png": "[encoded data removed]",
      "text/plain": [
       "<Figure size 432x288 with 1 Axes>"
      ]
     },
     "metadata": {
      "needs_background": "light"
     },
     "output_type": "display_data"
    },
    {
     "name": "stdout",
     "output_type": "stream",
     "text": [
      "\n",
      "\n",
      "\n"
     ]
    }
   ],
   "source": [
    "for i in range(5):\n",
    "    \n",
    "    print('–'*5, ' Scaling ', i, ' ' + '–'*5)\n",
    "    \n",
    "    if i != 0:\n",
    "        μ = rescale(μ, 0.5, preserve_range = True, anti_aliasing = False)\n",
    "        ν = rescale(ν, 0.5, preserve_range = True, anti_aliasing = False)\n",
    "        c = resize(c, (μ.size, ν.size), preserve_range = True, anti_aliasing=True)\n",
    "        \n",
    "        M = μ.size\n",
    "        N = ν.size\n",
    "    m = μ.ravel() / μ.sum()\n",
    "    n = ν.ravel() / ν.sum()\n",
    "    \n",
    "    # Optimise\n",
    "    disposeDefaultEnv()\n",
    "    if 'mo' in globals(): del mo\n",
    "    if 'γ'  in globals(): del γ\n",
    "    \n",
    "    \n",
    "    # Model\n",
    "    start = time.time()\n",
    "    mo = Model()\n",
    "    γ  = {}\n",
    "    γ = mo.addMVar( (M,N), vtype = 'C', name ='g', obj = c, lb = 0.0)\n",
    "\n",
    "    mo.addConstrs( (γ[i,:].sum() == m[i] for i in range(M)), name='m' );\n",
    "    mo.addConstrs( (γ[:,j].sum() == n[j] for j in range(N)), name='n');\n",
    "    end = time.time()\n",
    "    print('Time spent in building model: ', end-start)\n",
    "    γ.setAttr('obj', c)\n",
    "    mo.Params.IntFeasTol, mo.Params.FeasibilityTol, mo.Params.OptimalityTol = 1e-9, 1e-9, 1e-9\n",
    "    \n",
    "    mo.setParam('Method', 0);    mo.Params.Presolve = 0;    mo.optimize()\n",
    "    \n",
    "    # Compress solution\n",
    "    sparse_solution = csr(γ.x)\n",
    "    General_Name = Main + 'I_' + str(M) + '-' + str(N) + '_' + p\n",
    "    \n",
    "    # Plot\n",
    "    plt.figure(figsize = (5,5))\n",
    "    plt.spy(sparse_solution, markersize=1, aspect = 1, markeredgecolor = 'orange', alpha=0.5);    plt.axis('off')\n",
    "    plt.savefig(General_Name + '_Plot.pdf', bbox_inches='tight',transparent=True)\n",
    "    plt.show()\n",
    "    \n",
    "    plt.imshow(sparse_solution[:100,:100].A);  plt.axis('off');  \n",
    "    plt.show()\n",
    "    \n",
    "    # Store data\n",
    "    np.save(General_Name + '_m'   ,   m)    # Source measure m\n",
    "    np.save(General_Name + '_n'   ,   n)    # Target measure m\n",
    "    sparse.save_npz(General_Name + '_Sol', sparse_solution)  # solution in csr\n",
    "    np.savez_compressed(General_Name + '_Cost', c=c)         # compressed cost\n",
    "    \n",
    "    print('\\n\\n')"
   ]
  },
  {
   "cell_type": "markdown",
   "metadata": {},
   "source": [
    "<div class=\"alert alert-block alert-warning\">\n",
    "Notes\n",
    "</div>"
   ]
  },
  {
   "cell_type": "markdown",
   "metadata": {},
   "source": [
    "We no longer use the following for storing the solution and cost matrices:\n",
    "```Python\n",
    "    np.save(General_Name + '_Cost',   c)    # Cost matrix c\n",
    "    np.save(General_Name + '_Sol' , γ.x)    # Solution\n",
    "```\n",
    "We store two separate structures which can be easily read back with\n",
    "```Python\n",
    "    sparse.load_npz(General_Name + '_Sol.npz').A  # for solution map\n",
    "    np.load(General_Name + '_Cost.npz')['c']    # for cost matrix\n",
    "```"
   ]
  },
  {
   "cell_type": "markdown",
   "metadata": {},
   "source": [
    "---"
   ]
  }
 ],
 "metadata": {
  "kernelspec": {
   "display_name": "Python 3 (ipykernel)",
   "language": "python",
   "name": "python3"
  },
  "language_info": {
   "codemirror_mode": {
    "name": "ipython",
    "version": 3
   },
   "file_extension": ".py",
   "mimetype": "text/x-python",
   "name": "python",
   "nbconvert_exporter": "python",
   "pygments_lexer": "ipython3",
   "version": "3.9.10"
  },
  "nbTranslate": {
   "displayLangs": [
    "*"
   ],
   "hotkey": "alt-t",
   "langInMainMenu": true,
   "sourceLang": "en",
   "targetLang": "fr",
   "useGoogleTranslate": true
  }
 },
 "nbformat": 4,
 "nbformat_minor": 4
}
