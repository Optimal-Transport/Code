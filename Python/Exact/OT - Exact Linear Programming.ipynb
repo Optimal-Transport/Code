{
 "cells": [
  {
   "cell_type": "markdown",
   "metadata": {},
   "source": [
    "# A Linear Programming Model for Optimal Transport "
   ]
  },
  {
   "cell_type": "markdown",
   "metadata": {},
   "source": [
    "<div class=\"alert alert-block alert-success\">\n",
    "$\\newcommand{\\R}{\\mathbb{R}} \\newcommand{\\Z}{\\mathbb{Z}} \\newcommand{\\N}{\\mathbb{N}} \n",
    "\\newcommand{\\bff}{\\mathbf{f}} \\newcommand{\\bx}{\\mathbf{x}} \n",
    "\\newcommand{\\by}{\\mathbf{y}} \\newcommand{\\bo}{\\mathbb{1}} \\newcommand{\\bJ}{\\mathbf{J}}$\n",
    "In this notebook, we will aim to solve the following optimal transport problem in its linear form:\n",
    "\\begin{align}\n",
    "\\min c^\\top x,\n",
    "\\end{align}\n",
    "subject to\n",
    "\\begin{align}\n",
    "    \\begin{pmatrix} \\mathbb{1}_N^\\top \\otimes I_M \\\\ I_N \\otimes \\mathbb{1}_M^\\top \\end{pmatrix} x &= \n",
    "    \\begin{pmatrix} m \\\\ n \\end{pmatrix},\n",
    "    \\\\\n",
    "    x &\\geq 0;\n",
    "\\end{align}\n",
    "where $x\\in \\R^{M\\times N}$, $m \\in \\R^M$, $n \\in \\R^N$, and $c \\in \\R^{M\\times N}$ is a positive cost vector.\n",
    "</div>"
   ]
  },
  {
   "cell_type": "markdown",
   "metadata": {},
   "source": [
    "<div class=\"alert alert-block alert-info\">\n",
    "The following packages are loaded into the environment. \n",
    "</div>"
   ]
  },
  {
   "cell_type": "code",
   "execution_count": 1,
   "metadata": {},
   "outputs": [],
   "source": [
    "from gurobipy import *\n",
    "import numpy as np\n",
    "from numpy         import asarray, indices, double, allclose\n",
    "from pandas        import read_csv\n",
    "from skimage.io    import imread, imshow\n",
    "from scipy.spatial import distance_matrix\n",
    "from scipy.spatial.distance import cdist\n",
    "\n",
    "%matplotlib inline\n",
    "import matplotlib.pyplot as plt\n",
    "import matplotlib.ticker as mticker"
   ]
  },
  {
   "cell_type": "markdown",
   "metadata": {},
   "source": [
    "<div class=\"alert alert-block alert-success\">\n",
    "We can actually solve the original problem with an LP solver that allows indexing:\n",
    "\\begin{align}\n",
    "    \\min c : \\gamma,\n",
    "\\end{align}\n",
    "subject to\n",
    "\\begin{align}\n",
    "    \\sum_{j} \\gamma_{i,j} &= m_i\n",
    "    \\\\\n",
    "    \\sum_{i} \\gamma_{i,j} &= n_j\n",
    "    \\\\\n",
    "    \\gamma_{i,j} &\\geq 0.\n",
    "\\end{align}\n",
    "</div>"
   ]
  },
  {
   "cell_type": "markdown",
   "metadata": {},
   "source": [
    "<div class=\"alert alert-block alert-info\">\n",
    "Here we define the following basic objects:\n",
    "    \n",
    "1. `M` and `N` are the number of points where the measures of `μ` and `ν` are concentrated,\n",
    "2. `c` is the vector of costs.\n",
    "</div>"
   ]
  },
  {
   "cell_type": "code",
   "execution_count": 2,
   "metadata": {},
   "outputs": [],
   "source": [
    "# File names\n",
    "nomᵤ = 'data32_1001.csv'\n",
    "nomᵥ = 'data32_1002.csv'"
   ]
  },
  {
   "cell_type": "code",
   "execution_count": 3,
   "metadata": {},
   "outputs": [],
   "source": [
    "μ = read_csv(nomᵤ).values.astype(double);    μ /= μ.max()\n",
    "ν = read_csv(nomᵥ).values.astype(double);    ν /= ν.max()"
   ]
  },
  {
   "cell_type": "code",
   "execution_count": 4,
   "metadata": {},
   "outputs": [],
   "source": [
    "M = μ.size\n",
    "N = ν.size"
   ]
  },
  {
   "cell_type": "code",
   "execution_count": 5,
   "metadata": {},
   "outputs": [],
   "source": [
    "# Coordinates:\n",
    "Iₘ = (indices(μ.shape)/(asarray(μ.shape)-1)[::,np.newaxis,np.newaxis]).reshape(2,M).T\n",
    "Iₙ = (indices(ν.shape)/(asarray(ν.shape)-1)[::,np.newaxis,np.newaxis]).reshape(2,N).T\n",
    "#Sparse alternatives:    indices(μ.shape, sparse=True)      &      indices(ν.shape, sparse=True)"
   ]
  },
  {
   "cell_type": "code",
   "execution_count": 6,
   "metadata": {},
   "outputs": [],
   "source": [
    "# Cost matrix:\n",
    "c = cdist(Iₘ, Iₙ, 'sqeuclidean')        # Alternative: distance_matrix(Iₘ, Iₙ) ** 2"
   ]
  },
  {
   "cell_type": "code",
   "execution_count": 7,
   "metadata": {},
   "outputs": [],
   "source": [
    "m = μ.ravel() / μ.sum()\n",
    "n = ν.ravel() / ν.sum()"
   ]
  },
  {
   "cell_type": "markdown",
   "metadata": {},
   "source": [
    "<div class=\"alert alert-block alert-warning\">\n",
    "Optimisation model\n",
    "</div>"
   ]
  },
  {
   "cell_type": "code",
   "execution_count": 8,
   "metadata": {
    "code_folding": []
   },
   "outputs": [
    {
     "name": "stdout",
     "output_type": "stream",
     "text": [
      "Academic license - for non-commercial use only - expires 2021-07-17\n",
      "Using license file /Users/andy/gurobi.lic\n"
     ]
    }
   ],
   "source": [
    "# Model\n",
    "mo = Model()\n",
    "γ  = {}\n",
    "γ = mo.addMVar( (M,N), vtype = 'C', name ='g', obj = c, lb = 0.0)\n",
    "\n",
    "mo.addConstrs( (γ[i,:].sum() == m[i] for i in range(M)), name='m' );\n",
    "mo.addConstrs( (γ[:,j].sum() == n[j] for j in range(N)), name='n');"
   ]
  },
  {
   "cell_type": "code",
   "execution_count": 9,
   "metadata": {
    "code_folding": [],
    "scrolled": false
   },
   "outputs": [
    {
     "name": "stdout",
     "output_type": "stream",
     "text": [
      "Changed value of parameter Method to 0\n",
      "   Prev: -1  Min: -1  Max: 5  Default: -1\n",
      "Changed value of parameter Presolve to 0\n",
      "   Prev: -1  Min: -1  Max: 2  Default: -1\n",
      "Gurobi Optimizer version 9.1.2 build v9.1.2rc0 (mac64)\n",
      "Thread count: 8 physical cores, 8 logical processors, using up to 8 threads\n",
      "Optimize a model with 1984 rows, 984064 columns and 1968128 nonzeros\n",
      "Model fingerprint: 0x0603826e\n",
      "Coefficient statistics:\n",
      "  Matrix range     [1e+00, 1e+00]\n",
      "  Objective range  [1e-03, 2e+00]\n",
      "  Bounds range     [0e+00, 0e+00]\n",
      "  RHS range        [3e-04, 8e-03]\n",
      "Iteration    Objective       Primal Inf.    Dual Inf.      Time\n",
      "       0    1.5973186e+00   9.988030e-01   9.820830e+11      0s\n",
      "   81601    1.1831609e-02   0.000000e+00   0.000000e+00      1s\n",
      "\n",
      "Solved in 81601 iterations and 1.11 seconds\n",
      "Optimal objective  1.183160853e-02\n"
     ]
    }
   ],
   "source": [
    "mo.setParam('Method', 0);    mo.Params.Presolve = 0;    mo.optimize()\n",
    "#?mo.Params.Method"
   ]
  },
  {
   "cell_type": "code",
   "execution_count": 10,
   "metadata": {
    "scrolled": true
   },
   "outputs": [
    {
     "name": "stdout",
     "output_type": "stream",
     "text": [
      "Discarded solution information\n",
      "Changed value of parameter Method to 2\n",
      "   Prev: 0  Min: -1  Max: 5  Default: -1\n",
      "Gurobi Optimizer version 9.1.2 build v9.1.2rc0 (mac64)\n",
      "Thread count: 8 physical cores, 8 logical processors, using up to 8 threads\n",
      "Optimize a model with 1984 rows, 984064 columns and 1968128 nonzeros\n",
      "Model fingerprint: 0x0603826e\n",
      "Coefficient statistics:\n",
      "  Matrix range     [1e+00, 1e+00]\n",
      "  Objective range  [1e-03, 2e+00]\n",
      "  Bounds range     [0e+00, 0e+00]\n",
      "  RHS range        [3e-04, 8e-03]\n",
      "Ordering time: 0.01s\n",
      "\n",
      "Barrier statistics:\n",
      " AA' NZ     : 9.841e+05\n",
      " Factor NZ  : 1.969e+06 (roughly 400 MBytes of memory)\n",
      " Factor Ops : 2.605e+09 (less than 1 second per iteration)\n",
      " Threads    : 8\n",
      "\n",
      "                  Objective                Residual\n",
      "Iter       Primal          Dual         Primal    Dual     Compl     Time\n",
      "   0   3.49539779e+04  0.00000000e+00  9.92e+01 0.00e+00  1.68e-01     1s\n",
      "   1   2.86197676e+03 -5.49082320e-01  9.07e+00 1.33e-15  1.55e-02     1s\n",
      "   2   1.00409861e+00 -5.48724251e-01  2.48e-03 2.22e-15  5.81e-06     1s\n",
      "   3   2.51581261e-01 -1.94613981e-01  2.76e-04 1.05e-14  1.17e-06     2s\n",
      "   4   1.32413436e-01 -5.01608576e-02  4.07e-05 7.33e-15  4.04e-07     2s\n",
      "   5   7.75413211e-02 -3.95086326e-03  6.58e-06 6.22e-15  1.71e-07     2s\n",
      "   6   3.91170413e-02  5.70489481e-03  5.55e-07 6.22e-15  6.85e-08     3s\n",
      "   7   2.17021987e-02  9.19477052e-03  5.04e-08 8.15e-15  2.55e-08     3s\n",
      "   8   1.61460869e-02  1.03264840e-02  1.33e-08 7.44e-15  1.19e-08     3s\n",
      "   9   1.31309865e-02  1.14735887e-02  2.04e-09 1.69e-14  3.39e-09     4s\n",
      "  10   1.20242701e-02  1.17142308e-02  1.43e-10 3.73e-14  6.33e-10     4s\n",
      "  11   1.19163652e-02  1.17892051e-02  5.81e-11 1.35e-13  2.63e-10     4s\n",
      "  12   1.18596060e-02  1.18154744e-02  1.83e-11 1.54e-13  9.16e-11     5s\n",
      "  13   1.18402662e-02  1.18226609e-02  5.42e-12 1.84e-13  3.64e-11     5s\n",
      "  14   1.18335412e-02  1.18293469e-02  1.03e-12 3.10e-13  8.77e-12     5s\n",
      "  15   1.18323391e-02  1.18308984e-02  3.78e-13 5.03e-13  3.05e-12     6s\n",
      "  16   1.18317490e-02  1.18315007e-02  6.20e-14 8.07e-13  5.33e-13     6s\n",
      "  17   1.18316122e-02  1.18316085e-02  3.73e-14 1.01e-12  7.93e-15     6s\n",
      "\n",
      "Barrier solved model in 17 iterations and 6.47 seconds\n",
      "Optimal objective 1.18316122e-02\n",
      "\n",
      "Crossover log...\n",
      "\n",
      "     582 DPushes remaining with DInf 8.4634062e-04                 7s\n",
      "       0 DPushes remaining with DInf 8.4634062e-04                 7s\n",
      "\n",
      "       1 Dual superbasic variables remain\n",
      "\n",
      "     511 PPushes remaining with PInf 0.0000000e+00                 7s\n",
      "       0 PPushes remaining with PInf 2.1444828e-04                 7s\n",
      "\n",
      "  Push phase complete: Pinf 2.1444828e-04, Dinf 2.5898948e-03      7s\n",
      "\n",
      "Iteration    Objective       Primal Inf.    Dual Inf.      Time\n",
      "    1095    1.1831621e-02   0.000000e+00   2.589895e-03      7s\n",
      "    1099    1.1831609e-02   0.000000e+00   0.000000e+00      7s\n",
      "\n",
      "Solved in 1099 iterations and 6.67 seconds\n",
      "Optimal objective  1.183160891e-02\n"
     ]
    }
   ],
   "source": [
    "# Solve with barrier\n",
    "mo.reset();    mo.setParam('Method', 2);    mo.optimize()"
   ]
  },
  {
   "cell_type": "markdown",
   "metadata": {},
   "source": [
    "<div class=\"alert alert-block alert-warning\">\n",
    "Output\n",
    "</div>"
   ]
  },
  {
   "cell_type": "code",
   "execution_count": 11,
   "metadata": {
    "cell_style": "split"
   },
   "outputs": [
    {
     "data": {
      "image/png": "[encoded data removed]",
      "text/plain": [
       "<Figure size 432x288 with 1 Axes>"
      ]
     },
     "metadata": {
      "needs_background": "light"
     },
     "output_type": "display_data"
    }
   ],
   "source": [
    "plt.imshow(γ.x[:50,:50]);  plt.axis('off');  plt.show()"
   ]
  },
  {
   "cell_type": "code",
   "execution_count": 12,
   "metadata": {
    "cell_style": "split"
   },
   "outputs": [
    {
     "name": "stdout",
     "output_type": "stream",
     "text": [
      "[[0.         0.         0.         ... 0.         0.         0.        ]\n",
      " [0.         0.         0.         ... 0.         0.         0.        ]\n",
      " [0.         0.00064002 0.00030815 ... 0.         0.         0.        ]\n",
      " ...\n",
      " [0.         0.         0.         ... 0.         0.         0.        ]\n",
      " [0.         0.         0.         ... 0.         0.         0.        ]\n",
      " [0.         0.         0.         ... 0.         0.         0.000557  ]]\n"
     ]
    }
   ],
   "source": [
    "print(γ.x)"
   ]
  },
  {
   "cell_type": "markdown",
   "metadata": {},
   "source": [
    "Now we check that the conditional densities coincide:"
   ]
  },
  {
   "cell_type": "code",
   "execution_count": 13,
   "metadata": {},
   "outputs": [
    {
     "data": {
      "text/plain": [
       "(True, True)"
      ]
     },
     "execution_count": 13,
     "metadata": {},
     "output_type": "execute_result"
    }
   ],
   "source": [
    "allclose(γ.x.sum(0), n), allclose(γ.x.sum(1), m)"
   ]
  },
  {
   "cell_type": "markdown",
   "metadata": {},
   "source": [
    "We can then export our inputs and outputs for comparison:"
   ]
  },
  {
   "cell_type": "code",
   "execution_count": 14,
   "metadata": {},
   "outputs": [],
   "source": [
    "np.save(nomᵤ[:-4] + '-' + nomᵥ[:-4] + '_Cost',   c)    # Cost matrix c\n",
    "np.save(nomᵤ[:-4] + '-' + nomᵥ[:-4] + '_m'   ,   m)    # Source measure m\n",
    "np.save(nomᵤ[:-4] + '-' + nomᵥ[:-4] + '_n'   ,   n)    # Target measure m\n",
    "np.save(nomᵤ[:-4] + '-' + nomᵥ[:-4] + '_Sol' , γ.x)    # Source measure m"
   ]
  },
  {
   "cell_type": "markdown",
   "metadata": {},
   "source": [
    "---"
   ]
  }
 ],
 "metadata": {
  "kernelspec": {
   "display_name": "Python 3",
   "language": "python",
   "name": "python3"
  },
  "language_info": {
   "codemirror_mode": {
    "name": "ipython",
    "version": 3
   },
   "file_extension": ".py",
   "mimetype": "text/x-python",
   "name": "python",
   "nbconvert_exporter": "python",
   "pygments_lexer": "ipython3",
   "version": "3.7.10"
  }
 },
 "nbformat": 4,
 "nbformat_minor": 4
}
