{
 "cells": [
  {
   "cell_type": "markdown",
   "id": "f23a4415",
   "metadata": {},
   "source": [
    "# Tests on the projection onto the set of real-valued matrices with prescribed row and column sums"
   ]
  },
  {
   "cell_type": "code",
   "execution_count": 1,
   "id": "797497ed",
   "metadata": {},
   "outputs": [],
   "source": [
    "import numpy  as np\n",
    "import pandas as pd\n",
    "import time\n",
    "import os\n",
    "import matplotlib.pyplot as plt\n",
    "\n",
    "# Particular functions\n",
    "from numpy import zeros, zeros_like, allclose, where, ones, inf, absolute, linspace, tile, maximum, newaxis, broadcast_to\n",
    "from numpy.random import default_rng as rng\n",
    "from numba import jit\n",
    "from scipy.spatial.distance import cdist\n",
    "from scipy.linalg import norm"
   ]
  },
  {
   "cell_type": "markdown",
   "id": "bae39c7d",
   "metadata": {},
   "source": [
    "Set dimensions of problem and create randomised instance:"
   ]
  },
  {
   "cell_type": "code",
   "execution_count": 2,
   "id": "8cb549a9",
   "metadata": {},
   "outputs": [],
   "source": [
    "N = 50*50\n",
    "M = 65*65\n",
    "n = rng(0).uniform(0.1,1,N)\n",
    "n/= n.sum()\n",
    "m = rng(0).uniform(0.1,1,M)\n",
    "m/= m.sum()\n",
    "N, M = n.size, m.size\n",
    "c = (n.reshape(N,1) + m).T"
   ]
  },
  {
   "cell_type": "markdown",
   "id": "fc159a5a",
   "metadata": {},
   "source": [
    "Initialise variables and compute desired result"
   ]
  },
  {
   "cell_type": "code",
   "execution_count": 3,
   "id": "0ca6b240",
   "metadata": {},
   "outputs": [],
   "source": [
    "τ = 1e-3 * 1.9\n",
    "    \n",
    "# Initialise σ\n",
    "σ = 1.0/τ - 1e-5\n",
    "\n",
    "# Initialise ρ\n",
    "ρ = 1.9 #- 1e-4 # this helped in 8x8 but not for bigger colour instances\n",
    "\n",
    "# Fetch lengths of m and n.\n",
    "N = n.size\n",
    "M = m.size\n",
    "    \n",
    "x, y = zeros((2,M,N)) + 1;\n",
    "xₖ, yₖ, xₚ, u = zeros((4,M,N))\n",
    "κ_1, κ_2 = zeros(M), zeros(N)\n",
    "        \n",
    "xₖ = x - τ * (c + y);    maximum(xₖ, 0.0, xₖ)\n",
    "\n",
    "u = y/σ + 2.0*xₖ - x\n",
    "u += 0.1                # To have at least a non-zero value\n",
    "\n",
    "κ_1 = u.sum(1) - m\n",
    "κ_2 = u.sum(0) - n\n",
    "\n",
    "β_1 = κ_1.sum() / (M + N)\n",
    "β_2 = κ_2.sum() / (M + N)\n",
    "\n",
    "yₖ = σ*(tile( (κ_1 - β_1)/N, (N,1)).T + tile( (κ_2 - β_2)/M, (M,1)))"
   ]
  },
  {
   "cell_type": "markdown",
   "id": "94acff2d",
   "metadata": {},
   "source": [
    "Testing different ways of computing the projection complement:"
   ]
  },
  {
   "cell_type": "code",
   "execution_count": 4,
   "id": "ef2b566f",
   "metadata": {},
   "outputs": [
    {
     "name": "stdout",
     "output_type": "stream",
     "text": [
      "4 True\n",
      "3 True\n",
      "2 True\n",
      "1 True\n"
     ]
    }
   ],
   "source": [
    "# Original\n",
    "print(4, allclose(yₖ, σ*(tile( (κ_1 - β_1)/N, (N,1)).T + tile( (κ_2 - β_2)/M, (M,1))) ))\n",
    "# Broadcasting between two shapes\n",
    "print(3, allclose(yₖ, σ*((κ_1 - β_1).reshape(M,1)/N + (κ_2 - β_2)/M) ))\n",
    "# Broadcasting between two shapes but with pre-multiplication by σ\n",
    "print(2, allclose(yₖ, ( ( (κ_1 - β_1)*σ/N).reshape(M,1) + σ*(κ_2 - β_2)/M) ))\n",
    "# Using a new axis object instead of reshaping\n",
    "print(1, allclose(yₖ, ( ( (κ_1 - β_1)*σ/N)[..., newaxis] + σ*(κ_2 - β_2)/M) ))"
   ]
  },
  {
   "cell_type": "markdown",
   "id": "3fafc06d",
   "metadata": {},
   "source": [
    "Let's time the different methods:"
   ]
  },
  {
   "cell_type": "code",
   "execution_count": 5,
   "id": "d9dc1207",
   "metadata": {},
   "outputs": [
    {
     "name": "stdout",
     "output_type": "stream",
     "text": [
      "7.32 ms ± 65.6 µs per loop (mean ± std. dev. of 10 runs, 200 loops each)\n"
     ]
    }
   ],
   "source": [
    "%timeit -r 10 -n 200  ( ( (κ_1 - β_1)*σ/N)[..., newaxis] + σ*(κ_2 - β_2)/M)"
   ]
  },
  {
   "cell_type": "code",
   "execution_count": 6,
   "id": "41dfc7e6",
   "metadata": {},
   "outputs": [
    {
     "name": "stdout",
     "output_type": "stream",
     "text": [
      "7.09 ms ± 12.8 µs per loop (mean ± std. dev. of 10 runs, 200 loops each)\n"
     ]
    }
   ],
   "source": [
    "%timeit -r 10 -n 200 ( ( (κ_1 - β_1)*σ/N).reshape(M,1) + σ*(κ_2 - β_2)/M)"
   ]
  },
  {
   "cell_type": "code",
   "execution_count": 7,
   "id": "cd019b8d",
   "metadata": {},
   "outputs": [
    {
     "name": "stdout",
     "output_type": "stream",
     "text": [
      "10.1 ms ± 13.3 µs per loop (mean ± std. dev. of 10 runs, 200 loops each)\n"
     ]
    }
   ],
   "source": [
    "%timeit -r 10 -n 200 σ*((κ_1 - β_1).reshape(M,1)/N + (κ_2 - β_2)/M)"
   ]
  },
  {
   "cell_type": "code",
   "execution_count": 8,
   "id": "44026d05",
   "metadata": {},
   "outputs": [
    {
     "name": "stdout",
     "output_type": "stream",
     "text": [
      "26.8 ms ± 660 µs per loop (mean ± std. dev. of 10 runs, 200 loops each)\n"
     ]
    }
   ],
   "source": [
    "%timeit -r 10 -n 200 σ*(tile( (κ_1 - β_1)/N, (N,1)).T + tile( (κ_2 - β_2)/M, (M,1)))"
   ]
  },
  {
   "cell_type": "markdown",
   "id": "07078972",
   "metadata": {},
   "source": [
    "Alternative by ```broadcast_to```:"
   ]
  },
  {
   "cell_type": "code",
   "execution_count": 12,
   "id": "1f18c1c5",
   "metadata": {},
   "outputs": [
    {
     "name": "stdout",
     "output_type": "stream",
     "text": [
      "5 True\n"
     ]
    }
   ],
   "source": [
    "print(5, allclose(yₖ, σ*(broadcast_to((κ_1 - β_1)/N, (N, M)).T + broadcast_to((κ_2 - β_2)/M, (M, N))) ) )"
   ]
  },
  {
   "cell_type": "markdown",
   "id": "3968cf82",
   "metadata": {},
   "source": [
    "The difference in performance between tiling and broadcasting is impressive:"
   ]
  },
  {
   "cell_type": "code",
   "execution_count": 13,
   "id": "a134355a",
   "metadata": {},
   "outputs": [
    {
     "name": "stdout",
     "output_type": "stream",
     "text": [
      "21.2 µs ± 11.1 µs per loop (mean ± std. dev. of 10 runs, 200 loops each)\n",
      "3.25 ms ± 98.4 µs per loop (mean ± std. dev. of 10 runs, 200 loops each)\n"
     ]
    }
   ],
   "source": [
    "%timeit -r 10 -n 200 broadcast_to((κ_1 - β_1)/N, (N, M)).T\n",
    "%timeit -r 10 -n 200 tile( (κ_1 - β_1)/N, (N,1)).T"
   ]
  },
  {
   "cell_type": "markdown",
   "id": "1ce8b2ad",
   "metadata": {},
   "source": [
    "However using ```broadcast_to``` does exactly the same as method 2 above (and even has additional overhead)."
   ]
  },
  {
   "cell_type": "code",
   "execution_count": 14,
   "id": "06c7402c",
   "metadata": {},
   "outputs": [
    {
     "name": "stdout",
     "output_type": "stream",
     "text": [
      "10.1 ms ± 57.1 µs per loop (mean ± std. dev. of 10 runs, 200 loops each)\n"
     ]
    }
   ],
   "source": [
    "%timeit -r 10 -n 200 σ*(broadcast_to((κ_1 - β_1)/N, (N, M)).T + broadcast_to((κ_2 - β_2)/M, (M, N)))"
   ]
  },
  {
   "cell_type": "markdown",
   "id": "9777f5df",
   "metadata": {},
   "source": [
    "---"
   ]
  }
 ],
 "metadata": {
  "kernelspec": {
   "display_name": "Python 3 (ipykernel)",
   "language": "python",
   "name": "python3"
  },
  "language_info": {
   "codemirror_mode": {
    "name": "ipython",
    "version": 3
   },
   "file_extension": ".py",
   "mimetype": "text/x-python",
   "name": "python",
   "nbconvert_exporter": "python",
   "pygments_lexer": "ipython3",
   "version": "3.8.12"
  }
 },
 "nbformat": 4,
 "nbformat_minor": 5
}
