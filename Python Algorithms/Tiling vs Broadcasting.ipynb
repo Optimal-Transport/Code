{
 "cells": [
  {
   "cell_type": "markdown",
   "id": "f23a4415",
   "metadata": {},
   "source": [
    "# Tests on the projection onto the set of real-valued matrices with prescribed row and column sums"
   ]
  },
  {
   "cell_type": "code",
   "execution_count": 1,
   "id": "797497ed",
   "metadata": {},
   "outputs": [],
   "source": [
    "import numpy  as np\n",
    "import pandas as pd\n",
    "import time\n",
    "import os\n",
    "import matplotlib.pyplot as plt\n",
    "\n",
    "# Particular functions\n",
    "from numpy import zeros, zeros_like, allclose, where, ones, inf, absolute, linspace, tile, maximum, newaxis, broadcast_to\n",
    "from numpy.random import default_rng as rng\n",
    "from numba import jit\n",
    "from scipy.spatial.distance import cdist\n",
    "from scipy.linalg import norm"
   ]
  },
  {
   "cell_type": "markdown",
   "id": "bae39c7d",
   "metadata": {},
   "source": [
    "Set dimensions of problem and create randomised instance:"
   ]
  },
  {
   "cell_type": "code",
   "execution_count": 120,
   "id": "8cb549a9",
   "metadata": {},
   "outputs": [],
   "source": [
    "N = 50*50\n",
    "M = 65*65\n",
    "#N = 90*120\n",
    "#M = 131*72\n",
    "n = rng(0).uniform(0.1,1,N)\n",
    "n/= n.sum()\n",
    "m = rng(0).uniform(0.1,1,M)\n",
    "m/= m.sum()\n",
    "N, M = n.size, m.size\n",
    "c = (n.reshape(N,1) + m).T"
   ]
  },
  {
   "cell_type": "markdown",
   "id": "fc159a5a",
   "metadata": {},
   "source": [
    "Initialise variables and compute desired result"
   ]
  },
  {
   "cell_type": "code",
   "execution_count": 121,
   "id": "0ca6b240",
   "metadata": {},
   "outputs": [],
   "source": [
    "τ = 1e-3 * 1.9\n",
    "    \n",
    "# Initialise σ\n",
    "σ = 1.0/τ - 1e-5\n",
    "\n",
    "# Initialise ρ\n",
    "ρ = 1.9 #- 1e-4 # this helped in 8x8 but not for bigger colour instances\n",
    "\n",
    "# Fetch lengths of m and n.\n",
    "N = n.size\n",
    "M = m.size\n",
    "    \n",
    "x, y = zeros((2,M,N)) + 1;\n",
    "xₖ, yₖ, xₚ, u = zeros((4,M,N))\n",
    "κ_1, κ_2 = zeros(M), zeros(N)\n",
    "        \n",
    "xₖ = x - τ * (c + y);    maximum(xₖ, 0.0, xₖ)\n",
    "\n",
    "u = y/σ + 2.0*xₖ - x\n",
    "u += 0.1                # To have at least a non-zero value\n",
    "\n",
    "κ_1 = u.sum(1) - m\n",
    "κ_2 = u.sum(0) - n\n",
    "\n",
    "β_1 = κ_1.sum() / (M + N)\n",
    "β_2 = κ_2.sum() / (M + N)\n",
    "\n",
    "yₖ = σ*(tile( (κ_1 - β_1)/N, (N,1)).T + tile( (κ_2 - β_2)/M, (M,1)))"
   ]
  },
  {
   "cell_type": "markdown",
   "id": "94acff2d",
   "metadata": {},
   "source": [
    "Testing different ways of computing the projection complement:"
   ]
  },
  {
   "cell_type": "code",
   "execution_count": 4,
   "id": "ef2b566f",
   "metadata": {},
   "outputs": [
    {
     "name": "stdout",
     "output_type": "stream",
     "text": [
      "4 True\n",
      "3 True\n",
      "2 True\n",
      "1 True\n"
     ]
    }
   ],
   "source": [
    "# Original\n",
    "print(4, allclose(yₖ, σ*(tile( (κ_1 - β_1)/N, (N,1)).T + tile( (κ_2 - β_2)/M, (M,1))) ))\n",
    "# Broadcasting between two shapes\n",
    "print(3, allclose(yₖ, σ*((κ_1 - β_1).reshape(M,1)/N + (κ_2 - β_2)/M) ))\n",
    "# Broadcasting between two shapes but with pre-multiplication by σ\n",
    "print(2, allclose(yₖ, ( ( (κ_1 - β_1)*σ/N).reshape(M,1) + σ*(κ_2 - β_2)/M) ))\n",
    "# Using a new axis object instead of reshaping\n",
    "print(1, allclose(yₖ, ( ( (κ_1 - β_1)*σ/N)[..., newaxis] + σ*(κ_2 - β_2)/M) ))"
   ]
  },
  {
   "cell_type": "markdown",
   "id": "3fafc06d",
   "metadata": {},
   "source": [
    "Let's time the different methods:"
   ]
  },
  {
   "cell_type": "code",
   "execution_count": 5,
   "id": "d9dc1207",
   "metadata": {},
   "outputs": [
    {
     "name": "stdout",
     "output_type": "stream",
     "text": [
      "7.32 ms ± 65.6 µs per loop (mean ± std. dev. of 10 runs, 200 loops each)\n"
     ]
    }
   ],
   "source": [
    "%timeit -r 10 -n 200  ( ( (κ_1 - β_1)*σ/N)[..., newaxis] + σ*(κ_2 - β_2)/M)"
   ]
  },
  {
   "cell_type": "code",
   "execution_count": 6,
   "id": "41dfc7e6",
   "metadata": {},
   "outputs": [
    {
     "name": "stdout",
     "output_type": "stream",
     "text": [
      "7.09 ms ± 12.8 µs per loop (mean ± std. dev. of 10 runs, 200 loops each)\n"
     ]
    }
   ],
   "source": [
    "%timeit -r 10 -n 200 ( ( (κ_1 - β_1)*σ/N).reshape(M,1) + σ*(κ_2 - β_2)/M)"
   ]
  },
  {
   "cell_type": "code",
   "execution_count": 7,
   "id": "cd019b8d",
   "metadata": {},
   "outputs": [
    {
     "name": "stdout",
     "output_type": "stream",
     "text": [
      "10.1 ms ± 13.3 µs per loop (mean ± std. dev. of 10 runs, 200 loops each)\n"
     ]
    }
   ],
   "source": [
    "%timeit -r 10 -n 200 σ*((κ_1 - β_1).reshape(M,1)/N + (κ_2 - β_2)/M)"
   ]
  },
  {
   "cell_type": "code",
   "execution_count": 8,
   "id": "44026d05",
   "metadata": {},
   "outputs": [
    {
     "name": "stdout",
     "output_type": "stream",
     "text": [
      "26.8 ms ± 660 µs per loop (mean ± std. dev. of 10 runs, 200 loops each)\n"
     ]
    }
   ],
   "source": [
    "%timeit -r 10 -n 200 σ*(tile( (κ_1 - β_1)/N, (N,1)).T + tile( (κ_2 - β_2)/M, (M,1)))"
   ]
  },
  {
   "cell_type": "markdown",
   "id": "07078972",
   "metadata": {},
   "source": [
    "Alternative by ```broadcast_to```:"
   ]
  },
  {
   "cell_type": "code",
   "execution_count": 12,
   "id": "1f18c1c5",
   "metadata": {},
   "outputs": [
    {
     "name": "stdout",
     "output_type": "stream",
     "text": [
      "5 True\n"
     ]
    }
   ],
   "source": [
    "print(5, allclose(yₖ, σ*(broadcast_to((κ_1 - β_1)/N, (N, M)).T + broadcast_to((κ_2 - β_2)/M, (M, N))) ) )"
   ]
  },
  {
   "cell_type": "markdown",
   "id": "3968cf82",
   "metadata": {},
   "source": [
    "The difference in performance between tiling and broadcasting is impressive:"
   ]
  },
  {
   "cell_type": "code",
   "execution_count": 13,
   "id": "a134355a",
   "metadata": {},
   "outputs": [
    {
     "name": "stdout",
     "output_type": "stream",
     "text": [
      "21.2 µs ± 11.1 µs per loop (mean ± std. dev. of 10 runs, 200 loops each)\n",
      "3.25 ms ± 98.4 µs per loop (mean ± std. dev. of 10 runs, 200 loops each)\n"
     ]
    }
   ],
   "source": [
    "%timeit -r 10 -n 200 broadcast_to((κ_1 - β_1)/N, (N, M)).T\n",
    "%timeit -r 10 -n 200 tile( (κ_1 - β_1)/N, (N,1)).T"
   ]
  },
  {
   "cell_type": "markdown",
   "id": "1ce8b2ad",
   "metadata": {},
   "source": [
    "However using ```broadcast_to``` does exactly the same as method 2 above (and even has additional overhead)."
   ]
  },
  {
   "cell_type": "code",
   "execution_count": 14,
   "id": "06c7402c",
   "metadata": {},
   "outputs": [
    {
     "name": "stdout",
     "output_type": "stream",
     "text": [
      "10.1 ms ± 57.1 µs per loop (mean ± std. dev. of 10 runs, 200 loops each)\n"
     ]
    }
   ],
   "source": [
    "%timeit -r 10 -n 200 σ*(broadcast_to((κ_1 - β_1)/N, (N, M)).T + broadcast_to((κ_2 - β_2)/M, (M, N)))"
   ]
  },
  {
   "cell_type": "markdown",
   "id": "9777f5df",
   "metadata": {},
   "source": [
    "---"
   ]
  },
  {
   "cell_type": "markdown",
   "id": "e4482bb7",
   "metadata": {},
   "source": [
    "### Test for reducing complexity"
   ]
  },
  {
   "cell_type": "code",
   "execution_count": 99,
   "id": "f0ff5ab5",
   "metadata": {},
   "outputs": [],
   "source": [
    "from numpy import add, subtract"
   ]
  },
  {
   "cell_type": "code",
   "execution_count": 82,
   "id": "cfddf8ad",
   "metadata": {},
   "outputs": [],
   "source": [
    "def test_1():\n",
    "    y = ones((M,N));\n",
    "    yₖ = ( (κ_1 - β_1)*σ/N).reshape(M,1) + σ*(κ_2 - β_2)/M\n",
    "    y *= 1-ρ;   yₖ *= ρ;     y += yₖ\n",
    "    \n",
    "def test_2():\n",
    "    y = ones((M,N));\n",
    "    yᵢₖ = (κ_1 - β_1)*ρ*σ/N\n",
    "    yⱼₖ = (κ_2 - β_2)*ρ*σ/M\n",
    "    \n",
    "    y *= 1-ρ\n",
    "    add(y,yⱼₖ, out=y)\n",
    "    add(y,yᵢₖ.reshape(M,1), out=y)"
   ]
  },
  {
   "cell_type": "markdown",
   "id": "62c01d4c",
   "metadata": {},
   "source": [
    "$(M,N) = (4225, 2500)$:"
   ]
  },
  {
   "cell_type": "code",
   "execution_count": 83,
   "id": "68231fbb",
   "metadata": {},
   "outputs": [
    {
     "name": "stdout",
     "output_type": "stream",
     "text": [
      "21 ms ± 950 µs per loop (mean ± std. dev. of 10 runs, 10 loops each)\n",
      "14.7 ms ± 340 µs per loop (mean ± std. dev. of 10 runs, 10 loops each)\n"
     ]
    }
   ],
   "source": [
    "%timeit -r 10 -n 10 test_1()\n",
    "%timeit -r 10 -n 10 test_2()"
   ]
  },
  {
   "cell_type": "markdown",
   "id": "da62e8cd",
   "metadata": {},
   "source": [
    "$(M,N) = (9432, 10800)$:"
   ]
  },
  {
   "cell_type": "code",
   "execution_count": 79,
   "id": "b04562be",
   "metadata": {},
   "outputs": [
    {
     "name": "stdout",
     "output_type": "stream",
     "text": [
      "618 ms ± 81.9 ms per loop (mean ± std. dev. of 10 runs, 10 loops each)\n",
      "323 ms ± 14 ms per loop (mean ± std. dev. of 10 runs, 10 loops each)\n"
     ]
    }
   ],
   "source": [
    "%timeit -r 10 -n 10 test_1()\n",
    "%timeit -r 10 -n 10 test_2()"
   ]
  },
  {
   "cell_type": "code",
   "execution_count": 52,
   "id": "593c6eab",
   "metadata": {},
   "outputs": [
    {
     "data": {
      "text/plain": [
       "True"
      ]
     },
     "execution_count": 52,
     "metadata": {},
     "output_type": "execute_result"
    }
   ],
   "source": [
    "allclose(np.add(np.add(y,yⱼₖ),yᵢₖ.reshape(M,1)), np.add(y,yₖ))"
   ]
  },
  {
   "cell_type": "markdown",
   "id": "caafc0b2",
   "metadata": {},
   "source": [
    "We can further reduce the complexity and memory requirements of using $y$:"
   ]
  },
  {
   "cell_type": "code",
   "execution_count": 115,
   "id": "910a1bfa",
   "metadata": {
    "code_folding": [
     0
    ]
   },
   "outputs": [],
   "source": [
    "def Test_A():\n",
    "    x, y, xₖ, u = ones((4,M,N));\n",
    "\n",
    "    xₖ = x - τ * (c + y)\n",
    "    maximum(xₖ, 0.0, xₖ)\n",
    "\n",
    "    u = y/σ + 2.0*xₖ - x\n",
    "\n",
    "    κ_1 = u.sum(1) - m\n",
    "    κ_2 = u.sum(0) - n\n",
    "\n",
    "    β_1 = κ_1.sum() / (M + N)\n",
    "    β_2 = κ_2.sum() / (M + N)\n",
    "\n",
    "    yₖ = ( (κ_1 - β_1)*σ/N).reshape(M,1) + σ*(κ_2 - β_2)/M                       # Broadcasting\n",
    "\n",
    "    # Reset x and y for the next iteration\n",
    "    x *= 1-ρ;   xₖ *= ρ;     x += xₖ\n",
    "    y *= 1-ρ;   yₖ *= ρ;     y += yₖ"
   ]
  },
  {
   "cell_type": "code",
   "execution_count": 116,
   "id": "376421d5",
   "metadata": {
    "code_folding": [
     0
    ]
   },
   "outputs": [],
   "source": [
    "def Test_B():\n",
    "    x, y, xₖ, u = ones((4,M,N));\n",
    "\n",
    "    xₖ = x - τ * (c + y)\n",
    "    maximum(xₖ, 0.0, xₖ)\n",
    "\n",
    "    u = y/σ + 2.0*xₖ - x\n",
    "\n",
    "    κ_1 = u.sum(1) - m\n",
    "    κ_2 = u.sum(0) - n\n",
    "\n",
    "    β_1 = κ_1.sum() / (M + N)\n",
    "    β_2 = κ_2.sum() / (M + N)\n",
    "\n",
    "    yᵢₖ = (ρ*σ/N) * (κ_1 - β_1)\n",
    "    yⱼₖ = (ρ*σ/M) * (κ_2 - β_2)\n",
    "\n",
    "    # Reset x and y for the next iteration\n",
    "    x *= 1-ρ;   xₖ *= ρ;     x += xₖ\n",
    "    y *= 1-ρ\n",
    "    add(y,yⱼₖ, out=y)\n",
    "    add(y,yᵢₖ.reshape(M,1), out=y)"
   ]
  },
  {
   "cell_type": "code",
   "execution_count": 117,
   "id": "32ada76a",
   "metadata": {
    "code_folding": [
     0,
     31,
     62
    ]
   },
   "outputs": [],
   "source": [
    "def Test_C():\n",
    "    x,p,u = ones((3,M,N));\n",
    "    ϕ = 0.5*ones(M);\n",
    "    ψ = 0.5*ones(N);\n",
    "    \n",
    "    # Primal step\n",
    "    #p = x - τ * (c + y)\n",
    "    add(c,ψ, out=p)\n",
    "    add(p,ϕ.reshape(M,1), out=p)\n",
    "    maximum(x - τ * p, 0.0, p)\n",
    "    \n",
    "    # Dual step\n",
    "    u = 2.0*p - x\n",
    "    add(u,ψ/σ, out=u)\n",
    "    add(u,ϕ.reshape(M,1)/σ, out=u)\n",
    "    \n",
    "    # Projection step\n",
    "    κ_1 = u.sum(1) - m\n",
    "    κ_2 = u.sum(0) - n\n",
    "\n",
    "    β_1 = κ_1.sum() / (M + N)\n",
    "    β_2 = κ_2.sum() / (M + N)\n",
    "\n",
    "    yᵢ = (ρ*σ/N) * (κ_1 - β_1)\n",
    "    yⱼ = (ρ*σ/M) * (κ_2 - β_2)\n",
    "\n",
    "    # Reset x and y for the next iteration\n",
    "    x *= 1-ρ;   p *= ρ;     x += p\n",
    "    ϕ *= 1-ρ;   ϕ += yᵢ\n",
    "    ψ *= 1-ρ;   ψ += yⱼ\n",
    "    \n",
    "def Test_D():\n",
    "    x,p,u = ones((3,M,N));\n",
    "    ϕ = 0.5*ones(M);\n",
    "    ψ = 0.5*ones(N);\n",
    "    \n",
    "    # Primal step\n",
    "    #p = x - τ * (c + y)\n",
    "    add(c,ψ, out=p)\n",
    "    add(p,ϕ.reshape(M,1), out=p)\n",
    "    maximum(x - τ * p, 0.0, p)\n",
    "    \n",
    "    # Dual step\n",
    "    subtract(2.0*p, x, out=u)\n",
    "    add(u,ψ/σ, out=u)\n",
    "    add(u,ϕ.reshape(M,1)/σ, out=u)\n",
    "    \n",
    "    # Projection step\n",
    "    κ_1 = u.sum(1) - m\n",
    "    κ_2 = u.sum(0) - n\n",
    "\n",
    "    β_1 = κ_1.sum() / (M + N)\n",
    "    β_2 = κ_2.sum() / (M + N)\n",
    "\n",
    "    yᵢ = (ρ*σ/N) * (κ_1 - β_1)\n",
    "    yⱼ = (ρ*σ/M) * (κ_2 - β_2)\n",
    "\n",
    "    # Reset x and y for the next iteration\n",
    "    x *= 1-ρ;   p *= ρ;     x += p\n",
    "    ϕ *= 1-ρ;   ϕ += yᵢ\n",
    "    ψ *= 1-ρ;   ψ += yⱼ\n",
    "    \n",
    "def Test_E():\n",
    "    x,p,u = ones((3,M,N));\n",
    "    ϕ = 0.5*ones(M);\n",
    "    ψ = 0.5*ones(N);\n",
    "    \n",
    "    # Primal step\n",
    "    #p = x - τ * (c + y)\n",
    "    add(c,ψ, out=p)\n",
    "    add(p,ϕ.reshape(M,1), out=p)\n",
    "    subtract(x, τ*p, out=p)\n",
    "    maximum(p, 0.0, p)\n",
    "    \n",
    "    # Dual step\n",
    "    subtract(2.0*p, x, out=u)\n",
    "    add(u,ψ/σ, out=u)\n",
    "    add(u,ϕ.reshape(M,1)/σ, out=u)\n",
    "    \n",
    "    # Projection step\n",
    "    κ_1 = u.sum(1) - m\n",
    "    κ_2 = u.sum(0) - n\n",
    "\n",
    "    β_1 = κ_1.sum() / (M + N)\n",
    "    β_2 = κ_2.sum() / (M + N)\n",
    "\n",
    "    yᵢ = (ρ*σ/N) * (κ_1 - β_1)\n",
    "    yⱼ = (ρ*σ/M) * (κ_2 - β_2)\n",
    "\n",
    "    # Reset x and y for the next iteration\n",
    "    x *= 1-ρ;   p *= ρ;     x += p\n",
    "    ϕ *= 1-ρ;   ϕ += yᵢ\n",
    "    ψ *= 1-ρ;   ψ += yⱼ"
   ]
  },
  {
   "cell_type": "markdown",
   "id": "7cf39e53",
   "metadata": {},
   "source": [
    "$(M,N) = (4225, 2500)$:"
   ]
  },
  {
   "cell_type": "code",
   "execution_count": 98,
   "id": "fecf4acf",
   "metadata": {},
   "outputs": [
    {
     "name": "stdout",
     "output_type": "stream",
     "text": [
      "180 ms ± 6.69 ms per loop (mean ± std. dev. of 10 runs, 20 loops each)\n",
      "172 ms ± 5.44 ms per loop (mean ± std. dev. of 10 runs, 20 loops each)\n",
      "145 ms ± 7.77 ms per loop (mean ± std. dev. of 10 runs, 20 loops each)\n"
     ]
    }
   ],
   "source": [
    "%timeit -r 10 -n 20 Test_A()\n",
    "%timeit -r 10 -n 20 Test_B()\n",
    "%timeit -r 10 -n 20 Test_C()"
   ]
  },
  {
   "cell_type": "code",
   "execution_count": 107,
   "id": "c9a00e16",
   "metadata": {},
   "outputs": [
    {
     "name": "stdout",
     "output_type": "stream",
     "text": [
      "144 ms ± 6.96 ms per loop (mean ± std. dev. of 10 runs, 20 loops each)\n",
      "147 ms ± 4.13 ms per loop (mean ± std. dev. of 10 runs, 20 loops each)\n",
      "145 ms ± 2.05 ms per loop (mean ± std. dev. of 10 runs, 20 loops each)\n"
     ]
    }
   ],
   "source": [
    "%timeit -r 10 -n 20 Test_C()\n",
    "%timeit -r 10 -n 20 Test_D()\n",
    "%timeit -r 10 -n 20 Test_E()"
   ]
  },
  {
   "cell_type": "markdown",
   "id": "c176ba43",
   "metadata": {},
   "source": [
    "$(M,N) = (9432, 10800)$:"
   ]
  },
  {
   "cell_type": "code",
   "execution_count": 118,
   "id": "623f3793",
   "metadata": {},
   "outputs": [
    {
     "name": "stdout",
     "output_type": "stream",
     "text": [
      "5.4 s ± 796 ms per loop (mean ± std. dev. of 10 runs, 20 loops each)\n",
      "4.99 s ± 400 ms per loop (mean ± std. dev. of 10 runs, 20 loops each)\n",
      "2.78 s ± 117 ms per loop (mean ± std. dev. of 10 runs, 20 loops each)\n"
     ]
    }
   ],
   "source": [
    "%timeit -r 10 -n 20 Test_A()\n",
    "%timeit -r 10 -n 20 Test_B()\n",
    "%timeit -r 10 -n 20 Test_C()"
   ]
  },
  {
   "cell_type": "code",
   "execution_count": 119,
   "id": "6d42577b",
   "metadata": {},
   "outputs": [
    {
     "name": "stdout",
     "output_type": "stream",
     "text": [
      "2.86 s ± 147 ms per loop (mean ± std. dev. of 10 runs, 20 loops each)\n",
      "2.86 s ± 63.4 ms per loop (mean ± std. dev. of 10 runs, 20 loops each)\n",
      "2.54 s ± 120 ms per loop (mean ± std. dev. of 10 runs, 20 loops each)\n"
     ]
    }
   ],
   "source": [
    "%timeit -r 10 -n 20 Test_C()\n",
    "%timeit -r 10 -n 20 Test_D()\n",
    "%timeit -r 10 -n 20 Test_E()"
   ]
  },
  {
   "cell_type": "markdown",
   "id": "cfc0410f",
   "metadata": {},
   "source": [
    "$(M,N) = (64, 64)$:"
   ]
  },
  {
   "cell_type": "code",
   "execution_count": 125,
   "id": "bcefcfd6",
   "metadata": {},
   "outputs": [
    {
     "name": "stdout",
     "output_type": "stream",
     "text": [
      "153 µs ± 69.6 µs per loop (mean ± std. dev. of 10 runs, 20 loops each)\n",
      "98.9 µs ± 10.6 µs per loop (mean ± std. dev. of 10 runs, 20 loops each)\n",
      "92 µs ± 10.7 µs per loop (mean ± std. dev. of 10 runs, 20 loops each)\n"
     ]
    }
   ],
   "source": [
    "%timeit -r 10 -n 20 Test_A()\n",
    "%timeit -r 10 -n 20 Test_B()\n",
    "%timeit -r 10 -n 20 Test_C()"
   ]
  },
  {
   "cell_type": "code",
   "execution_count": 126,
   "id": "0eee7457",
   "metadata": {},
   "outputs": [
    {
     "name": "stdout",
     "output_type": "stream",
     "text": [
      "164 µs ± 81.7 µs per loop (mean ± std. dev. of 10 runs, 20 loops each)\n",
      "95.4 µs ± 13 µs per loop (mean ± std. dev. of 10 runs, 20 loops each)\n",
      "85.4 µs ± 14.4 µs per loop (mean ± std. dev. of 10 runs, 20 loops each)\n"
     ]
    }
   ],
   "source": [
    "%timeit -r 10 -n 20 Test_C()\n",
    "%timeit -r 10 -n 20 Test_D()\n",
    "%timeit -r 10 -n 20 Test_E()"
   ]
  },
  {
   "cell_type": "markdown",
   "id": "e5ce7ede",
   "metadata": {},
   "source": [
    "---"
   ]
  }
 ],
 "metadata": {
  "kernelspec": {
   "display_name": "Python 3 (ipykernel)",
   "language": "python",
   "name": "python3"
  },
  "language_info": {
   "codemirror_mode": {
    "name": "ipython",
    "version": 3
   },
   "file_extension": ".py",
   "mimetype": "text/x-python",
   "name": "python",
   "nbconvert_exporter": "python",
   "pygments_lexer": "ipython3",
   "version": "3.8.12"
  }
 },
 "nbformat": 4,
 "nbformat_minor": 5
}
