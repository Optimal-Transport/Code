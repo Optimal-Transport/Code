{
 "cells": [
  {
   "cell_type": "markdown",
   "metadata": {},
   "source": [
    "# Accelerated Primal Dual to solve Discrete Optimal Transport"
   ]
  },
  {
   "cell_type": "markdown",
   "metadata": {},
   "source": [
    "<div class=\"alert alert-block alert-success\">\n",
    "    \n",
    "This notebook we aim at solving DOT instances using modern optimisation algorithms that outperform the simplex method. To do this we will use the Primal Dual framework. \n",
    "    \n",
    "The notebook is divided in three parts. First, Condat's projection into the ℓ<sub>1</sub> ball algorithm is implemented. Second, the algorithm is used to find feasible solutions of DOT. Finally, the Primal Dual algorithm is tested. The results are automatically stored with an unique identifier and some performance plots are presented.\n",
    "</div>\n",
    "\n",
    "* Laurent Condat. <i>Fast projection onto the simplex and the ℓ<sub>1</sub> ball</i>. Math. Program. 158, 575–585 (2016). [https://doi.org/10.1007/s10107-015-0946-6](https://doi.org/10.1007/s10107-015-0946-6). _Also available at_ [https://hal.archives-ouvertes.fr/hal-01056171v2](https://hal.archives-ouvertes.fr/hal-01056171v2).\n",
    "\n",
    "\n",
    "\n",
    "* V ̃u, B. (2011). <i>A splitting algorithm for dual monotone inclusions involving cocoercive operators </i>. Adv. Comput. Math, pages 667–681. [https://doi.org/10.1007/s10444-011-9254-8](https://doi.org/10.1007/s10444-011-9254-8)."
   ]
  },
  {
   "cell_type": "markdown",
   "metadata": {},
   "source": [
    "<div class=\"alert alert-block alert-info\">\n",
    "Packages\n",
    "</div>"
   ]
  },
  {
   "cell_type": "code",
   "execution_count": 1,
   "metadata": {},
   "outputs": [],
   "source": [
    "import numpy  as np\n",
    "import pandas as pd\n",
    "import time\n",
    "import os\n",
    "import matplotlib.pyplot as plt\n",
    "\n",
    "# Particular functions\n",
    "from numpy import zeros, zeros_like, allclose, where, ones, inf, absolute, linspace, maximum, minimum\n",
    "from numpy import asarray, add, subtract, multiply\n",
    "from numpy.random import default_rng as rng\n",
    "from numba import jit\n",
    "from scipy.spatial.distance import cdist\n",
    "from scipy.linalg import norm\n",
    "from numpy.polynomial.chebyshev import chebpts1"
   ]
  },
  {
   "cell_type": "markdown",
   "metadata": {},
   "source": [
    "# Algorithm"
   ]
  },
  {
   "cell_type": "markdown",
   "metadata": {},
   "source": [
    "Now, we will run the Primal Dual algorithm addapted for DOT. To test it, we will run it against some of the DOTMark files. We will aim to transport from one given image to another, which are normalised and flattened in ```C```-order. The matrix of costs is based on a uniform grid within $[0,1]^2$ with $M$ points for the source and $N$ points for the target."
   ]
  },
  {
   "cell_type": "markdown",
   "metadata": {},
   "source": [
    "## Instance information"
   ]
  },
  {
   "cell_type": "code",
   "execution_count": 36,
   "metadata": {},
   "outputs": [],
   "source": [
    "#folder = 'Microscopy_Sized'\n",
    "folder = 'Scalings'\n",
    "path = 'Exact/' + folder + '/'"
   ]
  },
  {
   "cell_type": "code",
   "execution_count": 52,
   "metadata": {},
   "outputs": [
    {
     "name": "stdout",
     "output_type": "stream",
     "text": [
      "There are 10 instances in this location:\n"
     ]
    },
    {
     "data": {
      "text/plain": [
       "['I_1024-1024__p=S2',\n",
       " 'I_16-16__p=S2',\n",
       " 'I_1024-1024__p=S2',\n",
       " 'I_16-16__p=S2',\n",
       " 'I_256-256__p=S2',\n",
       " 'I_4096-4096__p=S2',\n",
       " 'I_4096-4096__p=S2',\n",
       " 'I_64-64__p=S2',\n",
       " 'I_64-64__p=S2',\n",
       " 'I_256-256__p=S2']"
      ]
     },
     "metadata": {},
     "output_type": "display_data"
    }
   ],
   "source": [
    "#files = [f[:-9] for f in os.listdir(path) if f.endswith('.txt')]\n",
    "files = [f[:-6] for f in os.listdir(path) if f.endswith('.npy')]\n",
    "print('There are', len(files), 'instances in this location:')\n",
    "display(files)"
   ]
  },
  {
   "cell_type": "markdown",
   "metadata": {},
   "source": [
    "Select one instance:"
   ]
  },
  {
   "cell_type": "code",
   "execution_count": 101,
   "metadata": {},
   "outputs": [],
   "source": [
    "instance = files[3]\n",
    "full_path = path + instance"
   ]
  },
  {
   "cell_type": "markdown",
   "metadata": {},
   "source": [
    "Load data:"
   ]
  },
  {
   "cell_type": "code",
   "execution_count": 102,
   "metadata": {},
   "outputs": [],
   "source": [
    "from scipy.sparse import load_npz"
   ]
  },
  {
   "cell_type": "code",
   "execution_count": 103,
   "metadata": {},
   "outputs": [],
   "source": [
    "m = np.load(full_path + '_m.npy');    M = m.size\n",
    "n = np.load(full_path + '_n.npy');    N = n.size\n",
    "c = np.load(full_path + '_Cost.npz')['c']\n",
    "sol = load_npz(full_path + '_Sol.npz').A"
   ]
  },
  {
   "cell_type": "code",
   "execution_count": 104,
   "metadata": {},
   "outputs": [
    {
     "data": {
      "text/plain": [
       "array([[0.03790443, 0.        , 0.        , 0.        , 0.        ,\n",
       "        0.        , 0.        , 0.        , 0.        , 0.        ,\n",
       "        0.        , 0.        , 0.        , 0.        , 0.        ,\n",
       "        0.        ],\n",
       "       [0.05086806, 0.04024591, 0.        , 0.        , 0.        ,\n",
       "        0.        , 0.        , 0.        , 0.        , 0.        ,\n",
       "        0.        , 0.        , 0.        , 0.        , 0.        ,\n",
       "        0.        ],\n",
       "       [0.        , 0.03271454, 0.05915999, 0.        , 0.        ,\n",
       "        0.        , 0.        , 0.        , 0.        , 0.        ,\n",
       "        0.        , 0.        , 0.        , 0.        , 0.        ,\n",
       "        0.        ],\n",
       "       [0.        , 0.        , 0.00067198, 0.04887131, 0.00156378,\n",
       "        0.        , 0.        , 0.        , 0.        , 0.        ,\n",
       "        0.        , 0.        , 0.        , 0.        , 0.        ,\n",
       "        0.        ],\n",
       "       [0.        , 0.        , 0.        , 0.        , 0.03917862,\n",
       "        0.        , 0.        , 0.        , 0.        , 0.        ,\n",
       "        0.        , 0.        , 0.        , 0.        , 0.        ,\n",
       "        0.        ],\n",
       "       [0.        , 0.        , 0.        , 0.        , 0.04420351,\n",
       "        0.04518844, 0.        , 0.        , 0.        , 0.        ,\n",
       "        0.        , 0.        , 0.        , 0.        , 0.        ,\n",
       "        0.        ],\n",
       "       [0.        , 0.        , 0.        , 0.        , 0.        ,\n",
       "        0.02979664, 0.06712246, 0.        , 0.        , 0.        ,\n",
       "        0.        , 0.        , 0.        , 0.        , 0.        ,\n",
       "        0.        ],\n",
       "       [0.        , 0.        , 0.        , 0.        , 0.        ,\n",
       "        0.        , 0.00693296, 0.04717302, 0.        , 0.        ,\n",
       "        0.        , 0.        , 0.        , 0.        , 0.        ,\n",
       "        0.        ],\n",
       "       [0.        , 0.        , 0.        , 0.        , 0.        ,\n",
       "        0.        , 0.        , 0.00585179, 0.02652943, 0.        ,\n",
       "        0.        , 0.        , 0.        , 0.        , 0.        ,\n",
       "        0.        ],\n",
       "       [0.        , 0.        , 0.        , 0.        , 0.        ,\n",
       "        0.        , 0.        , 0.        , 0.04576844, 0.00493919,\n",
       "        0.        , 0.        , 0.        , 0.        , 0.        ,\n",
       "        0.        ],\n",
       "       [0.        , 0.        , 0.        , 0.        , 0.        ,\n",
       "        0.        , 0.        , 0.        , 0.        , 0.04721588,\n",
       "        0.00890429, 0.        , 0.        , 0.        , 0.        ,\n",
       "        0.        ],\n",
       "       [0.        , 0.        , 0.        , 0.        , 0.        ,\n",
       "        0.        , 0.        , 0.        , 0.        , 0.        ,\n",
       "        0.03547956, 0.00145603, 0.        , 0.        , 0.        ,\n",
       "        0.        ],\n",
       "       [0.        , 0.        , 0.        , 0.        , 0.        ,\n",
       "        0.        , 0.        , 0.        , 0.        , 0.        ,\n",
       "        0.        , 0.03911209, 0.01490165, 0.        , 0.        ,\n",
       "        0.        ],\n",
       "       [0.        , 0.        , 0.        , 0.        , 0.        ,\n",
       "        0.        , 0.        , 0.        , 0.        , 0.        ,\n",
       "        0.        , 0.        , 0.06241924, 0.        , 0.        ,\n",
       "        0.        ],\n",
       "       [0.        , 0.        , 0.        , 0.        , 0.        ,\n",
       "        0.        , 0.        , 0.        , 0.        , 0.        ,\n",
       "        0.        , 0.        , 0.00577761, 0.06631597, 0.01208123,\n",
       "        0.        ],\n",
       "       [0.        , 0.        , 0.        , 0.        , 0.        ,\n",
       "        0.        , 0.        , 0.        , 0.        , 0.        ,\n",
       "        0.        , 0.        , 0.        , 0.        , 0.03342715,\n",
       "        0.0382248 ]])"
      ]
     },
     "execution_count": 104,
     "metadata": {},
     "output_type": "execute_result"
    }
   ],
   "source": [
    "sol"
   ]
  },
  {
   "cell_type": "code",
   "execution_count": 105,
   "metadata": {},
   "outputs": [],
   "source": [
    "# with open(full_path + '_Time.txt', 'r') as f:\n",
    "#     obj_exact = eval((f.readlines())[0])['Obj']"
   ]
  },
  {
   "cell_type": "markdown",
   "metadata": {},
   "source": [
    "## Run algorithm"
   ]
  },
  {
   "cell_type": "markdown",
   "metadata": {},
   "source": [
    "<div class=\"alert alert-block alert-warning\">\n",
    "    \n",
    "In what follows, we provide tests for the chosen instance running the Primal Dual approach given by Bằng Công Vũ (2011) in its linesearch version as in Malitsky and Pock (2018). The projection operator is based on the one presented in Mai et al (2021).\n",
    "    \n",
    "    \n",
    "* Bằng Công Vũ (2011). <i>A splitting algorithm for dual monotone inclusions involving cocoercive operators</i>. Adv. Comput. Math, pp 667–681. [https://doi.org/10.1007/s10444-011-9254-8](https://doi.org/10.1007/s10444-011-9254-8).\n",
    "    \n",
    "* Vien V. Mai, Jacob Lindbäck, Mikael Johansson. (2021). <i>A Fast and Accurate Splitting Method for Optimal Transport: Analysis and Implementation</i>. arXiV preprint. [https://doi.org/10.48550/arXiv.2110.11738](https://doi.org/10.48550/arXiv.2110.11738).\n",
    "    \n",
    "* Yura Malitsky and Thomas Pock. (2018). <i>A first-order primal-dual algorithm with linesearch</i>. SIAM Journal on Optimization, pp 411–432. [https://doi.org/10.1137/16M1092015](https://doi.org/10.1137/16M1092015).\n",
    "</div>"
   ]
  },
  {
   "cell_type": "markdown",
   "metadata": {},
   "source": [
    "Let $\\mathcal{X}$ be the following set of real-valued matrices with prescribed row and column sums; i.e.,\n",
    "$\n",
    "    \\mathcal{X} := \n",
    "    \\big\\{\n",
    "        u \\in \\mathbb{R}^{M\\times N}:\\,   u \\mathbb{1}_N = m \n",
    "        \\,\\,\\text{ and }\\,\\,\n",
    "        \\mathbb{1}_M u = n\n",
    "    \\big\\}\n",
    "$;\n",
    "where $\\mathbb{1}_s$ is a vector of ones of size $s$."
   ]
  },
  {
   "cell_type": "markdown",
   "metadata": {
    "heading_collapsed": true
   },
   "source": [
    "## First choice of funcions"
   ]
  },
  {
   "cell_type": "markdown",
   "metadata": {
    "hidden": true
   },
   "source": [
    "In the framework of Malitsky and Pock (2018), we will identify $f(x) = 1:x + \\imath_{\\mathbb{R}_{\\geq 0}}(x)$, $g = \\imath_{\\mathcal{X}}$, and $K=c$.\n",
    "\n",
    "**Here the choice of $f$ might not be the proper one, since $\\imath_{\\mathbb{R}_{\\geq 0}}(c:x)$ may not be necessarily equal to $\\imath_{\\mathbb{R}_{\\geq 0}}(x)$. We will analyse what changes are needed to guarantee this.**"
   ]
  },
  {
   "cell_type": "markdown",
   "metadata": {
    "hidden": true
   },
   "source": [
    "<div style=\"background-color:rgba(0, 0, 0, 0.0470588); vertical-align: middle; padding:5px 0; padding-left: 40px;\">\n",
    "<h2 style=\"color: #5e9ca0;\">Primal Dual Algorithm with Linesearch</h2>\n",
    "<ol>\n",
    "<li>Set $\\tau_0,\\beta >0$, $\\mu,\\delta \\in (0,1)$\n",
    "<li>Set $\\theta_0 = 1$</li>\n",
    "<li>For $k \\in \\{1,\\ldots, K\\}$, do\n",
    "<ol>\n",
    "<li>$x_k = \\mathrm{prox}_{\\tau_{k-1} g} \\big( x_{k-1} - \\tau_{k-1} c y_k \\big)$\n",
    "<li>Choose $\\tau_k \\in [\\tau_{k-1}, \\tau_{k-1}\\sqrt{1+\\theta}]$\n",
    "<div style=\"color: #088A68;\">\n",
    "// Linesearch //\n",
    "</div>\n",
    "    <ol>\n",
    "    <li> $\\theta_k = {\\tau_k} \\big/ {\\tau_{k-1}}$\n",
    "    <li> $\\bar{x} = x_k + \\theta_k (x_k - x_{k-1})$\n",
    "    <li> $y_{k+1} = \\mathrm{prox}_{ \\beta\\tau_k f^*} (y_k + \\beta\\tau_k c \\bar{x}_k)$\n",
    "    <li> Break linesearch if $ \\sqrt{\\beta} \\tau_k \\| c(y_{k+1}-y_k) \\| \\leq \\delta \\| y_{k+1}-y_k \\| $, else $\\tau_k = \\mu \\tau_k$\n",
    "    </ol>\n",
    "</div>"
   ]
  },
  {
   "cell_type": "markdown",
   "metadata": {
    "hidden": true
   },
   "source": [
    "Now, the proximal of $g$ is the projection on $\\mathcal{X}$, which is of the form $\\mathrm{proj}_{\\mathcal{X}}(u) = u - G(u)$, where $G$ is known. Thus, step 3A is easy to compute. \n",
    "\n",
    "On the other hand, we have that the extended Moreau decomposition allows us to write\n",
    "\\begin{align}\n",
    "    \\mathrm{prox}_{\\sigma f^*}(u) = u - \\sigma \\mathrm{prox}_{ \\sigma^{-1} f } \\big( \\sigma^{-1} u \\big).\n",
    "\\end{align}\n",
    "Now, the proximity operator of $\\eta f$ is just $\\mathrm{prox}_{\\eta f} (u) = [ u - \\eta ]_+$. As a result, we have that\n",
    "\\begin{align}\n",
    "    \\mathrm{prox}_{\\sigma f^*}(u) = u - \\sigma [\\sigma^{-1} u - \\sigma^{-1} ]_+.\n",
    "\\end{align}\n",
    "However, we know that $[u]_+ = \\max\\{u,0\\} = \\frac{1}{2} (u + |u|)$. In this setting we have that\n",
    "\\begin{align}\n",
    "    \\sigma [\\sigma^{-1} u - \\sigma^{-1} ]_+ = \\frac{\\sigma}{2} \\big( \\sigma^{-1}(u-1) + \\sigma^{-1} |u-1|\\big) = [u-1]_+.\n",
    "\\end{align}\n",
    "On the other hand, we also have that $[u]_- = \\min\\{u,0\\} = \\frac{1}{2} (u - |u|)$. Hence we arrive at\n",
    "\\begin{align}\n",
    "    \\mathrm{prox}_{\\sigma f^*}(u) = u - [u-1]_+ = (u-1) - \\frac{1}{2} \\big( (u-1) + |u-1|\\big) + 1 = \\frac{1}{2} \\big( (u-1) - |u-1|\\big) + 1 = [u-1]_- + 1.\n",
    "\\end{align}"
   ]
  },
  {
   "cell_type": "markdown",
   "metadata": {
    "hidden": true
   },
   "source": [
    "We can now explicitly write each step of the algorithm:"
   ]
  },
  {
   "cell_type": "markdown",
   "metadata": {
    "hidden": true
   },
   "source": [
    "<div style=\"background-color:rgba(0, 0, 0, 0.0470588); vertical-align: middle; padding:5px 0; padding-left: 40px;\">\n",
    "<h2 style=\"color: #5e9ca0;\">Primal Dual Algorithm with Linesearch</h2>\n",
    "<ol>\n",
    "<li>Set $\\tau_0,\\beta >0$, $\\mu,\\delta \\in (0,1)$\n",
    "<li>Set $\\theta_0 = 1$</li>\n",
    "<li>For $k \\in \\{1,\\ldots, K\\}$, do\n",
    "<ol>\n",
    "<li>$u_k = x_{k-1} - \\tau_{k-1} c y_k$\n",
    "<div style=\"color: #088A68;\">\n",
    "// Projection onto the set of real-valued matrices with prescribed row and column sums //\n",
    "</div>\n",
    "<li>$\\kappa_1 = u_k\\mathbb{1}_{N} - m$\n",
    "<li>$\\beta_1 = \\langle \\kappa_1, \\mathbb{1}_M \\rangle \\big/ (M+N)$\n",
    "<li>$\\kappa_2 = \\mathbb{1}_{M}u_k - n$\n",
    "<li>$\\beta_2 = \\langle \\kappa_2, \\mathbb{1}_N \\rangle \\big/ (M+N)$\n",
    "<li>$q_k = \\sigma \\big( \\frac{1}{N}(\\kappa_1 - \\beta_1)\\mathbb{1}_{N}^\\top + \\frac{1}{M} \\mathbb{1}_{M}( \\kappa_2 - \\beta_2 )^\\top \\big) $\n",
    "<li>$x_k = u_k - q_k$\n",
    "<li>Choose $\\tau_k \\in [\\tau_{k-1}, \\tau_{k-1}\\sqrt{1+\\theta}]$\n",
    "<div style=\"color: #088A68;\">\n",
    "// Linesearch //\n",
    "</div>\n",
    "    <ol>\n",
    "    <li> $\\theta_k = {\\tau_k} \\big/ {\\tau_{k-1}}$\n",
    "    <li> $\\bar{x} = x_k + \\theta_k (x_k - x_{k-1})$\n",
    "    <li> $y_{k+1} = [y_k + \\beta\\tau_k c x_k - 1]_- + 1$\n",
    "    <li> Break linesearch if $ \\sqrt{\\beta} \\tau_k \\| c(y_{k+1}-y_k) \\| \\leq \\delta \\| y_{k+1}-y_k \\| $, else $\\tau_k = \\mu \\tau_k$\n",
    "    </ol>\n",
    "</div>"
   ]
  },
  {
   "cell_type": "markdown",
   "metadata": {
    "hidden": true
   },
   "source": [
    "Observe that the inequality $x\\geq 0$ is only satisfied for $f(Kx)$ if and only if $c_{i,j} > 0$ component-wise. In the current instance, we have a cost that is zero on diagonal elements (since we want to move mass on the same grid). As a result, the algorithm may not work as we expect. We could do the following fix: We take $\\tilde{c} = c + \\varepsilon$ and optimise the new cost functional (which would only have an offset in the objective value but the implication would hold while preserving the minimiser of the original problem)."
   ]
  },
  {
   "cell_type": "markdown",
   "metadata": {
    "hidden": true
   },
   "source": [
    "If we take this strategy, the optimal cost is given by $\\tilde{c}:x^* = c:x^* + \\varepsilon$."
   ]
  },
  {
   "cell_type": "code",
   "execution_count": 7,
   "metadata": {
    "code_folding": [
     0,
     58,
     62,
     73,
     79,
     148,
     156,
     176,
     206,
     207
    ],
    "hidden": true
   },
   "outputs": [],
   "source": [
    "def accelerated_primal_dual(c,m,n,iters, collect_obj = False, true_obj = None, \n",
    "                         true_obj_tol = 1e-4, true_solution = None, save_iter = False, \n",
    "                         guess_x = None,  guess_y = None, show = False,\n",
    "                         τ = 1e-3 * 1.9, σ = 1.0/(1e-3 * 1.9) - 1e-5, δ = 0.99, μ = 0.7, λ = 0.5, β = None):\n",
    "    # Algorithm for calculating solution x, in the primal space\n",
    "    # and y = [ψ, ϕ] in the dual space.\n",
    "    # Also returns the value of the objective function c*x at each\n",
    "    # iteration.\n",
    "    # μ = 0.7, δ = 0.99, τ0 = \\sqrt{ \\min\\{m,n\\} }, β = 1/400, = σ/τ [PDAL]\n",
    "    # μ, δ in (0,1)^2\n",
    "    \n",
    "    '''\n",
    "        Initialise parameters\n",
    "    '''\n",
    "    \n",
    "    # Fetch lengths of m and n\n",
    "    N = n.size\n",
    "    M = m.size\n",
    "    \n",
    "    #Initialise β\n",
    "    if β is None:\n",
    "        β  = σ/τ                       # Primal stepsize is updated\n",
    "    sβ = β**0.5\n",
    "    \n",
    "    # Base parameters\n",
    "    #τ = (min(M,N))**0.5            # Initial step from paper\n",
    "    τₖ = 0.0                       # Updated step\n",
    "    \n",
    "    #Initialise θ\n",
    "    θ = 1.0\n",
    "    \n",
    "\n",
    "    if show:\n",
    "        print('\\n*** Primal Dual with M = {}, N = {}, MN = {} ***\\n\\n'.format(M,N,M*N))\n",
    "    \n",
    "    \n",
    "    '''\n",
    "        Initialise matrices\n",
    "    '''\n",
    "    # Initialise x & y\n",
    "    if guess_x is not None:\n",
    "        x = guess_x.copy()\n",
    "    elif guess_y is not None:\n",
    "        y = y.copy()\n",
    "    else:\n",
    "        x,y = zeros((2,M,N));\n",
    "        \n",
    "    # Initialise p, y, u, κ\n",
    "    κₘ, yₘ = zeros((2,M))\n",
    "    κₙ, yₙ = zeros((2,N))\n",
    "    p, u = ones((2,M,N));\n",
    "    # Initialise previous copy of x\n",
    "    xₚ = x.copy()\n",
    "        \n",
    "    '''\n",
    "        Information from true solution (if available)\n",
    "    '''\n",
    "    # Store current objective value\n",
    "    if collect_obj == True:\n",
    "        obj = [ (c*x).sum() ]\n",
    "    \n",
    "    # Norm of true solution\n",
    "    if true_solution is not None:\n",
    "        true_obj_crit = 1.0\n",
    "        if true_obj is None:\n",
    "            true_obj = (c*sol).sum()\n",
    "        if show:\n",
    "            print('Objective from ground truth:', obj_exact,'\\n')\n",
    "            \n",
    "        \n",
    "    '''\n",
    "        Iterate the Primal Dual scheme\n",
    "    '''\n",
    "    every_iter = {\n",
    "        'it':[], 'obj':[], 'dist_obj':[], 'time':[], 'dist_x':[], 'rel_var':[], 'l_1':[],\n",
    "        'hyperₘ':{'L2': [], 'max': [], 'min':[]}, 'hyperₙ':{'L2': [], 'max': [], 'min':[]}\n",
    "                 }\n",
    "    every_critical = {'it':[], 'obj':[], 'tol':[], 'dist_obj':[], 'time':[], 'dist_x':[], 'l_1':[]}\n",
    "    \n",
    "    if true_solution is not None:\n",
    "        if show:\n",
    "            print('     It  | Tolerance |  obj dist |    Time    | ‖x-x*‖_F |  ‖x‖_1  ')\n",
    "            print( '{:-^66}'.format('') )\n",
    "        \n",
    "    timed = 0.0\n",
    "    \n",
    "    \n",
    "    for k in range(iters):\n",
    "        it_time = time.time()\n",
    "        \n",
    "        # ** Dual step ** # g = ι_\\_C \n",
    "        # p = x - τ * c * y\n",
    "        multiply(c,y, out=p);    p *= τ\n",
    "        subtract(x, p, out=p)\n",
    "        \n",
    "        \n",
    "        # Projection step for g\n",
    "        κₘ = p.sum(1) - m  # κ_1\n",
    "        κₙ = p.sum(0) - n  # κ_2\n",
    "\n",
    "        βₘ = κₘ.sum() / (M + N)        # dim M   β_1\n",
    "        βₙ = κₙ.sum() / (M + N)        # dim N   β_2\n",
    "        \n",
    "        \n",
    "        # Implicit yₖ = ( (κₘ - βₘ)/N).reshape(M,1) + (κₙ - βₙ)/M\n",
    "        ψ = (1.0/N) * (κₘ - βₘ)\n",
    "        ϕ = (1.0/M) * (κₙ - βₙ)\n",
    "        \n",
    "        # Projection: p = p - yₖ\n",
    "        subtract(p, ϕ, out=p);     subtract(p, ψ.reshape(M,1), out=p)\n",
    "        \n",
    "        \n",
    "        # Select extreme\n",
    "        #τₖ = τ * (1 + θ)**0.5                # From paper\n",
    "        #τₖ = 0.5 * τ * (1 + (1 + θ)**0.5)    # From Pete\n",
    "        τₖ = τ * (λ + (1-λ) * (1 + θ)**0.5 )\n",
    "        \n",
    "        # Primal step:    f = Id + ι_ℝ≥0\n",
    "        while True:\n",
    "            \n",
    "            θ = τₖ/τ\n",
    "            \n",
    "            x̄ = p + θ*(p - x)\n",
    "            \n",
    "            ỹ  = y + (β * τₖ) * c * x̄\n",
    "            yₙ = minimum(ỹ-1,0) + 1\n",
    "            \n",
    "            #print('F', sβ * τₖ * norm(c*(yₙ - y),'fro'), δ * norm(yₙ-y,'fro'))\n",
    "            #print('S',sβ * τₖ * norm(c*(yₙ - y)), δ * norm(yₙ-y))\n",
    "            \n",
    "            if (sβ * τₖ * norm(c*(yₙ - y)) < δ * norm(yₙ-y)):\n",
    "                break\n",
    "            # Else: reduce step size\n",
    "            τₖ *= μ\n",
    "        \n",
    "        τ = τₖ\n",
    "        x = p.copy()\n",
    "        y = yₙ\n",
    "        \n",
    "        \n",
    "        # Measure time up to this point!\n",
    "        end = time.time()\n",
    "        timed += end - it_time\n",
    "        \n",
    "        # Recover values from mask\n",
    "        ℓ_1 = norm(x.ravel(),1)\n",
    "        \n",
    "        # Update objective function\n",
    "        if collect_obj == True:\n",
    "            obj.append( (c*x).sum() )\n",
    "            # Compute relative objective distance\n",
    "            if true_solution is not None:\n",
    "                dist_true_sol = abs(obj[-1] - true_obj)/true_obj\n",
    "                \n",
    "                \n",
    "        # If all iterations are to be stored:\n",
    "        if save_iter == True:\n",
    "            frob_d = norm(sol-x, 'fro')/norm(sol, 'fro')\n",
    "            r, s   = x.sum(1) - m, x.sum(0) - n\n",
    "            \n",
    "            every_iter['it'].append( k )\n",
    "            every_iter['obj'].append( (c*x).sum() )\n",
    "            every_iter['dist_obj'].append( dist_true_sol if true_obj is not None else np.nan )\n",
    "            every_iter['time'].append( timed )\n",
    "            every_iter['dist_x'].append( frob_d )\n",
    "            every_iter['rel_var'].append( norm(xₚ-x, 'fro')/norm(x, 'fro') if not allclose(x,0) else np.nan )\n",
    "            every_iter['l_1'].append(ℓ_1)\n",
    "            # Constrained satisfactibility\n",
    "            every_iter['hyperₘ']['L2'].append( norm(r)/norm(m) )\n",
    "            every_iter['hyperₘ']['max'].append( abs(r/maximum(m,1e-7)).max() )\n",
    "            every_iter['hyperₘ']['min'].append( abs(r/maximum(m,1e-7)).min() )\n",
    "            every_iter['hyperₙ']['L2'].append( norm(s)/norm(n) )\n",
    "            every_iter['hyperₙ']['max'].append( abs(s/maximum(n,1e-7)).max() )\n",
    "            every_iter['hyperₙ']['min'].append( abs(s/maximum(n,1e-7)).min() )\n",
    "            \n",
    "        # If a true solution is available, we check the tolerance:\n",
    "        if true_solution is not None: \n",
    "            if dist_true_sol < true_obj_crit:\n",
    "                frob_d = norm(sol-x, 'fro')/norm(sol, 'fro')\n",
    "                \n",
    "                every_critical['it'].append( k )\n",
    "                every_critical['obj'].append( obj[-1] )\n",
    "                every_critical['tol'].append( true_obj_crit )\n",
    "                every_critical['dist_obj'].append( dist_true_sol )\n",
    "                every_critical['time'].append( timed )\n",
    "                every_critical['dist_x'].append( frob_d )\n",
    "                every_critical['l_1'].append(ℓ_1)\n",
    "\n",
    "                if show:\n",
    "                    print('* {0:6.0f} |   {1:.1e} |  {2:1.1e}  | {3:8.2f} s |   {4:4.4f} |  {5:4.4f}'.format(k,\n",
    "                                                                            true_obj_crit,\n",
    "                                                                            dist_true_sol,\n",
    "                                                                            timed,frob_d,ℓ_1))\n",
    "                \n",
    "                # If the prescribed tolerance is reached, we finish.\n",
    "                if dist_true_sol < true_obj_tol:\n",
    "                    if show:\n",
    "                        print('Solution found with given tolerance.')\n",
    "                    break\n",
    "                \n",
    "                # Adjust current level of inner tolerance\n",
    "                true_obj_crit *= 0.1\n",
    "        \n",
    "        # Update previous step\n",
    "        xₚ = x.copy()\n",
    "    \n",
    "    if true_solution is not None:\n",
    "        if show:\n",
    "            print( '{:-^66}'.format('') )\n",
    "\n",
    "    if show:\n",
    "        print('\\nAlgorithm stopped after {0:.4f} seconds and {1} iterations'.format(timed,k))\n",
    "    \n",
    "    #y = asarray([ψ, ϕ],dtype='object')\n",
    "    \n",
    "    if collect_obj == False and save_iter == True:\n",
    "        return x, y, every_iter\n",
    "    if collect_obj == True and save_iter == True:\n",
    "        return x, y, obj, every_critical, every_iter\n",
    "    else:\n",
    "        return x"
   ]
  },
  {
   "cell_type": "markdown",
   "metadata": {
    "hidden": true
   },
   "source": [
    "Let us compare the two strategies:"
   ]
  },
  {
   "cell_type": "code",
   "execution_count": 8,
   "metadata": {
    "code_folding": [
     0
    ],
    "hidden": true,
    "scrolled": true
   },
   "outputs": [
    {
     "name": "stdout",
     "output_type": "stream",
     "text": [
      "\n",
      "*** Primal Dual with M = 256, N = 256, MN = 65536 ***\n",
      "\n",
      "\n",
      "Objective from ground truth: 0.01188861757518317 \n",
      "\n",
      "     It  | Tolerance |  obj dist |    Time    | ‖x-x*‖_F |  ‖x‖_1  \n",
      "------------------------------------------------------------------\n",
      "*     34 |   1.0e+00 |  9.9e-01  |     0.12 s |   0.9636 |  1.6484\n",
      "*     58 |   1.0e-01 |  9.1e-02  |     0.16 s |   0.9471 |  1.7931\n",
      "*     63 |   1.0e-02 |  4.8e-03  |     0.18 s |   0.9440 |  1.8034\n",
      "*   1400 |   1.0e-03 |  8.1e-04  |     2.28 s |   1.2859 |  2.9992\n",
      "------------------------------------------------------------------\n",
      "\n",
      "Algorithm stopped after 4.9975 seconds and 3050 iterations\n"
     ]
    }
   ],
   "source": [
    "x, y, obj, every_critical, every_iter = accelerated_primal_dual(c,m,n, 3051, collect_obj = True, \n",
    "                                                             true_obj = obj_exact, true_obj_tol = 1e-7, \n",
    "                                                             true_solution = sol, save_iter = True, \n",
    "                                                                show = True, δ=0.9, μ=0.9)"
   ]
  },
  {
   "cell_type": "code",
   "execution_count": 9,
   "metadata": {
    "hidden": true
   },
   "outputs": [
    {
     "name": "stdout",
     "output_type": "stream",
     "text": [
      "Average time per iteration: 0.001637981040326934\n"
     ]
    }
   ],
   "source": [
    "print('Average time per iteration:',every_iter['time'][-1]/len(every_iter['time']))"
   ]
  },
  {
   "cell_type": "code",
   "execution_count": 10,
   "metadata": {
    "code_folding": [
     1
    ],
    "hidden": true,
    "scrolled": true
   },
   "outputs": [
    {
     "name": "stdout",
     "output_type": "stream",
     "text": [
      "\n",
      "*** Primal Dual with M = 256, N = 256, MN = 65536 ***\n",
      "\n",
      "\n",
      "Objective from ground truth: 0.01188861757518317 \n",
      "\n",
      "     It  | Tolerance |  obj dist |    Time    | ‖x-x*‖_F |  ‖x‖_1  \n",
      "------------------------------------------------------------------\n",
      "*      0 |   1.0e+00 |  2.9e-01  |     0.01 s |   0.9947 |  1.1404\n",
      "*    185 |   1.0e-01 |  1.0e-01  |     0.45 s |   0.8992 |  1.0598\n",
      "*    726 |   1.0e-02 |  1.0e-02  |     1.35 s |   0.6093 |  1.0350\n",
      "*   1158 |   1.0e-03 |  9.9e-04  |     2.06 s |   0.4959 |  1.0154\n",
      "*   1234 |   1.0e-04 |  8.5e-05  |     2.18 s |   0.4822 |  1.0149\n",
      "*   1239 |   1.0e-05 |  6.4e-06  |     2.18 s |   0.4814 |  1.0149\n",
      "*   1576 |   1.0e-06 |  5.8e-08  |     2.72 s |   0.4453 |  1.0106\n",
      "Solution found with given tolerance.\n",
      "------------------------------------------------------------------\n",
      "\n",
      "Algorithm stopped after 2.7208 seconds and 1576 iterations\n"
     ]
    }
   ],
   "source": [
    "ε = 1.0\n",
    "x, y, obj, every_critical, every_iter = accelerated_primal_dual(c+ε,m,n, 3051, collect_obj = True, \n",
    "                                                             true_obj = obj_exact+ε, true_obj_tol = 1e-7, \n",
    "                                                             true_solution = sol, save_iter = True, show = True,δ=0.9,μ=0.9)"
   ]
  },
  {
   "cell_type": "markdown",
   "metadata": {
    "hidden": true
   },
   "source": [
    "We have found a solution within the given tolerance!"
   ]
  },
  {
   "cell_type": "markdown",
   "metadata": {
    "hidden": true
   },
   "source": [
    "Let us also test the recommended parameter values of the algorithm:"
   ]
  },
  {
   "cell_type": "code",
   "execution_count": 11,
   "metadata": {
    "hidden": true,
    "scrolled": true
   },
   "outputs": [
    {
     "name": "stdout",
     "output_type": "stream",
     "text": [
      "\n",
      "*** Primal Dual with M = 256, N = 256, MN = 65536 ***\n",
      "\n",
      "\n",
      "Objective from ground truth: 0.01188861757518317 \n",
      "\n",
      "     It  | Tolerance |  obj dist |    Time    | ‖x-x*‖_F |  ‖x‖_1  \n",
      "------------------------------------------------------------------\n",
      "*      0 |   1.0e+00 |  2.9e-01  |     0.01 s |   0.9947 |  1.1404\n",
      "*    174 |   1.0e-01 |  1.0e-01  |     0.29 s |   0.8993 |  1.0574\n",
      "*    676 |   1.0e-02 |  9.9e-03  |     1.07 s |   0.6090 |  1.0340\n",
      "*   1078 |   1.0e-03 |  9.8e-04  |     2.02 s |   0.4956 |  1.0148\n",
      "*   1147 |   1.0e-04 |  6.9e-05  |     2.17 s |   0.4820 |  1.0143\n",
      "*   1153 |   1.0e-05 |  9.8e-06  |     2.19 s |   0.4810 |  1.0143\n",
      "*   1481 |   1.0e-06 |  7.0e-07  |     2.98 s |   0.4442 |  1.0104\n",
      "*   3879 |   1.0e-07 |  7.6e-09  |     8.01 s |   0.3927 |  1.0016\n",
      "Solution found with given tolerance.\n",
      "------------------------------------------------------------------\n",
      "\n",
      "Algorithm stopped after 8.0132 seconds and 3879 iterations\n"
     ]
    }
   ],
   "source": [
    "x, y, obj, every_critical, every_iter = accelerated_primal_dual(c+ε,m,n, 10000, collect_obj = True, \n",
    "                                                             true_obj = obj_exact+ε, true_obj_tol = 1e-7, \n",
    "                                                             true_solution = sol, save_iter = True, show = True,\n",
    "                                                             δ = 0.99, μ = 0.7, λ = 0)"
   ]
  },
  {
   "cell_type": "code",
   "execution_count": 12,
   "metadata": {
    "hidden": true,
    "scrolled": true
   },
   "outputs": [
    {
     "name": "stdout",
     "output_type": "stream",
     "text": [
      "\n",
      "*** Primal Dual with M = 64, N = 64, MN = 4096 ***\n",
      "\n",
      "\n",
      "Objective from ground truth: 0.016271821448840373 \n",
      "\n",
      "     It  | Tolerance |  obj dist |    Time    | ‖x-x*‖_F |  ‖x‖_1  \n",
      "------------------------------------------------------------------\n",
      "*      0 |   1.0e+00 |  3.3e-01  |     0.00 s |   0.9809 |  1.0846\n",
      "*     25 |   1.0e-01 |  9.7e-02  |     0.01 s |   0.8846 |  1.0871\n",
      "*     88 |   1.0e-02 |  9.7e-03  |     0.03 s |   0.7237 |  1.0472\n",
      "*    504 |   1.0e-03 |  9.9e-04  |     0.17 s |   0.4267 |  1.0063\n",
      "*    841 |   1.0e-04 |  9.6e-05  |     0.29 s |   0.3599 |  1.0041\n",
      "*    945 |   1.0e-05 |  8.6e-06  |     0.32 s |   0.3506 |  1.0038\n",
      "*   1215 |   1.0e-06 |  8.0e-07  |     0.42 s |   0.3331 |  1.0026\n",
      "*   1739 |   1.0e-07 |  2.4e-08  |     0.60 s |   0.3193 |  1.0010\n",
      "Solution found with given tolerance.\n",
      "------------------------------------------------------------------\n",
      "\n",
      "Algorithm stopped after 0.6036 seconds and 1739 iterations\n"
     ]
    }
   ],
   "source": [
    "x, y, obj, every_critical, every_iter = accelerated_primal_dual(c+ε,m,n, 10000, collect_obj = True, \n",
    "                                                             true_obj = obj_exact+ε, true_obj_tol = 1e-7, \n",
    "                                                             true_solution = sol, save_iter = True, show = True,\n",
    "                                                             δ = 0.99, μ = 0.7, λ = 0, β = 1e+5)"
   ]
  },
  {
   "cell_type": "code",
   "execution_count": 13,
   "metadata": {
    "hidden": true
   },
   "outputs": [
    {
     "name": "stdout",
     "output_type": "stream",
     "text": [
      "1.0\n",
      "10.0\n",
      "100.0\n",
      "1000.0\n",
      "10000.0\n",
      "100000.0\n",
      "1000000.0\n",
      "10000.0\n",
      "20000.0\n",
      "30000.0\n",
      "40000.0\n",
      "50000.0\n",
      "60000.0\n",
      "70000.0\n",
      "80000.0\n",
      "90000.0\n",
      "100000.0\n"
     ]
    }
   ],
   "source": [
    "B = [1e+0, 1e+1, 1e+2, 1e+3, 1e+4, 1e+5, 1e+6] + list(linspace(1e+4,1e+5,10))\n",
    "info = {'it':[], 'dist_obj':[]}\n",
    "for b in B:\n",
    "    print(b)\n",
    "    _, _, _, _, every_iter = accelerated_primal_dual(c+ε,m,n, 10000, collect_obj = True, \n",
    "                                                             true_obj = obj_exact+ε, true_obj_tol = 1e-7, \n",
    "                                                             true_solution = sol, save_iter = True, show = False,\n",
    "                                                             δ = 0.99, μ = 0.7, λ = 0, β = b)\n",
    "    info['it'].append( len(every_iter['it']) )\n",
    "    info['dist_obj'].append( every_iter['dist_obj'][-1] )"
   ]
  },
  {
   "cell_type": "code",
   "execution_count": 14,
   "metadata": {
    "hidden": true
   },
   "outputs": [
    {
     "data": {
      "image/png": "[encoded data removed]",
      "text/plain": [
       "<Figure size 432x288 with 1 Axes>"
      ]
     },
     "metadata": {
      "needs_background": "light"
     },
     "output_type": "display_data"
    }
   ],
   "source": [
    "plt.plot(B, info['it'], 'x')\n",
    "plt.xscale('log')"
   ]
  },
  {
   "cell_type": "code",
   "execution_count": 15,
   "metadata": {
    "hidden": true,
    "scrolled": true
   },
   "outputs": [
    {
     "name": "stdout",
     "output_type": "stream",
     "text": [
      "10000.0\n",
      "14871.794871794871\n",
      "19743.589743589742\n",
      "24615.384615384617\n",
      "29487.17948717949\n",
      "34358.97435897436\n",
      "39230.769230769234\n",
      "44102.5641025641\n",
      "48974.35897435898\n",
      "53846.15384615385\n",
      "58717.94871794872\n",
      "63589.74358974359\n",
      "68461.53846153847\n",
      "73333.33333333334\n",
      "78205.1282051282\n",
      "83076.92307692308\n",
      "87948.71794871795\n",
      "92820.51282051283\n",
      "97692.3076923077\n",
      "102564.10256410256\n",
      "107435.89743589744\n",
      "112307.69230769231\n",
      "117179.48717948719\n",
      "122051.28205128206\n",
      "126923.07692307694\n",
      "131794.8717948718\n",
      "136666.6666666667\n",
      "141538.46153846153\n",
      "146410.2564102564\n",
      "151282.05128205128\n",
      "156153.84615384616\n",
      "161025.64102564103\n",
      "165897.4358974359\n",
      "170769.23076923078\n",
      "175641.02564102566\n",
      "180512.82051282053\n",
      "185384.6153846154\n",
      "190256.41025641028\n",
      "195128.20512820513\n",
      "200000.0\n"
     ]
    }
   ],
   "source": [
    "B = list(linspace(1e+4,2e+5,40))\n",
    "info = {'it':[], 'dist_obj':[]}\n",
    "for b in B:\n",
    "    print(b)\n",
    "    _, _, _, _, every_iter = accelerated_primal_dual(c+ε,m,n, 10000, collect_obj = True, \n",
    "                                                             true_obj = obj_exact+ε, true_obj_tol = 1e-7, \n",
    "                                                             true_solution = sol, save_iter = True, show = False,\n",
    "                                                             δ = 0.99, μ = 0.7, λ = 0, β = b)\n",
    "    info['it'].append( len(every_iter['it']) )\n",
    "    info['dist_obj'].append( every_iter['dist_obj'][-1] )"
   ]
  },
  {
   "cell_type": "code",
   "execution_count": 16,
   "metadata": {
    "hidden": true
   },
   "outputs": [
    {
     "data": {
      "image/png": "[encoded data removed]",
      "text/plain": [
       "<Figure size 432x288 with 1 Axes>"
      ]
     },
     "metadata": {
      "needs_background": "light"
     },
     "output_type": "display_data"
    }
   ],
   "source": [
    "plt.plot(B, info['it'], 'x')\n",
    "plt.xscale('log')"
   ]
  },
  {
   "cell_type": "code",
   "execution_count": 17,
   "metadata": {
    "hidden": true,
    "scrolled": true
   },
   "outputs": [
    {
     "name": "stdout",
     "output_type": "stream",
     "text": [
      "80000.0\n",
      "80202.0202020202\n",
      "80404.04040404041\n",
      "80606.06060606061\n",
      "80808.0808080808\n",
      "81010.101010101\n",
      "81212.12121212122\n",
      "81414.14141414141\n",
      "81616.16161616161\n",
      "81818.18181818182\n",
      "82020.20202020202\n",
      "82222.22222222222\n",
      "82424.24242424243\n",
      "82626.26262626263\n",
      "82828.28282828283\n",
      "83030.30303030302\n",
      "83232.32323232324\n",
      "83434.34343434343\n",
      "83636.36363636363\n",
      "83838.38383838384\n",
      "84040.40404040404\n",
      "84242.42424242424\n",
      "84444.44444444444\n",
      "84646.46464646465\n",
      "84848.48484848485\n",
      "85050.50505050505\n",
      "85252.52525252526\n",
      "85454.54545454546\n",
      "85656.56565656565\n",
      "85858.58585858587\n",
      "86060.60606060606\n",
      "86262.62626262626\n",
      "86464.64646464646\n",
      "86666.66666666667\n",
      "86868.68686868687\n",
      "87070.70707070707\n",
      "87272.72727272728\n",
      "87474.74747474748\n",
      "87676.76767676767\n",
      "87878.78787878787\n",
      "88080.80808080808\n",
      "88282.82828282828\n",
      "88484.84848484848\n",
      "88686.8686868687\n",
      "88888.88888888889\n",
      "89090.90909090909\n",
      "89292.9292929293\n",
      "89494.9494949495\n",
      "89696.9696969697\n",
      "89898.9898989899\n",
      "90101.0101010101\n",
      "90303.0303030303\n",
      "90505.0505050505\n",
      "90707.0707070707\n",
      "90909.09090909091\n",
      "91111.11111111111\n",
      "91313.1313131313\n",
      "91515.15151515152\n",
      "91717.17171717172\n",
      "91919.19191919192\n",
      "92121.21212121213\n",
      "92323.23232323233\n",
      "92525.25252525252\n",
      "92727.27272727274\n",
      "92929.29292929293\n",
      "93131.31313131313\n",
      "93333.33333333333\n",
      "93535.35353535354\n",
      "93737.37373737374\n",
      "93939.39393939394\n",
      "94141.41414141413\n",
      "94343.43434343435\n",
      "94545.45454545454\n",
      "94747.47474747474\n",
      "94949.49494949495\n",
      "95151.51515151515\n",
      "95353.53535353535\n",
      "95555.55555555556\n",
      "95757.57575757576\n",
      "95959.59595959596\n",
      "96161.61616161617\n",
      "96363.63636363637\n",
      "96565.65656565657\n",
      "96767.67676767676\n",
      "96969.69696969696\n",
      "97171.71717171717\n",
      "97373.73737373737\n",
      "97575.75757575757\n",
      "97777.77777777778\n",
      "97979.79797979798\n",
      "98181.81818181818\n",
      "98383.83838383839\n",
      "98585.85858585859\n",
      "98787.87878787878\n",
      "98989.898989899\n",
      "99191.9191919192\n",
      "99393.93939393939\n",
      "99595.9595959596\n",
      "99797.9797979798\n",
      "100000.0\n"
     ]
    }
   ],
   "source": [
    "B = list(linspace(8e+4,1e+5,100))\n",
    "info = {'it':[], 'dist_obj':[]}\n",
    "for b in B:\n",
    "    print(b)\n",
    "    _, _, _, _, every_iter = accelerated_primal_dual(c+ε,m,n, 10000, collect_obj = True, \n",
    "                                                             true_obj = obj_exact+ε, true_obj_tol = 1e-7, \n",
    "                                                             true_solution = sol, save_iter = True, show = False,\n",
    "                                                             δ = 0.99, μ = 0.7, λ = 0, β = b)\n",
    "    info['it'].append( len(every_iter['it']) )\n",
    "    info['dist_obj'].append( every_iter['dist_obj'][-1] )"
   ]
  },
  {
   "cell_type": "code",
   "execution_count": 18,
   "metadata": {
    "hidden": true
   },
   "outputs": [
    {
     "data": {
      "image/png": "[encoded data removed]",
      "text/plain": [
       "<Figure size 1440x360 with 1 Axes>"
      ]
     },
     "metadata": {
      "needs_background": "light"
     },
     "output_type": "display_data"
    }
   ],
   "source": [
    "plt.figure(figsize = (20,5))\n",
    "plt.plot(B, info['it'], 'x')\n",
    "plt.xscale('log')"
   ]
  },
  {
   "cell_type": "code",
   "execution_count": 19,
   "metadata": {
    "hidden": true
   },
   "outputs": [],
   "source": [
    "x, y, obj, every_critical, every_iter = accelerated_primal_dual(c+ε,m,n, 10000, collect_obj = True, \n",
    "                                                            true_obj = obj_exact+ε, true_obj_tol = 1e-7, \n",
    "                                                            true_solution = sol, save_iter = True, show = False,\n",
    "                                                            δ = 0.99, μ = 0.7, λ = 0, β = B[np.argmin(info['it'])])"
   ]
  },
  {
   "cell_type": "markdown",
   "metadata": {
    "hidden": true
   },
   "source": [
    "We can see that some choices of $\\beta < \\tau^{-2}$ yield very fast convergence. However, we still get negative entries in the result:"
   ]
  },
  {
   "cell_type": "code",
   "execution_count": 20,
   "metadata": {
    "hidden": true
   },
   "outputs": [
    {
     "name": "stdout",
     "output_type": "stream",
     "text": [
      "Positive ratio: 52.880859375\n"
     ]
    }
   ],
   "source": [
    "print('Positive ratio:', 100*x[x<0].size/x.size)"
   ]
  },
  {
   "cell_type": "markdown",
   "metadata": {},
   "source": [
    "## Second choice of funcions"
   ]
  },
  {
   "cell_type": "markdown",
   "metadata": {},
   "source": [
    "Even though we have some parameter choices that arrive at the correct minimal function value, the choices for $f$ and $g$ that we have taken are not enough to guarantee a feasible solution satisfying all the constraints of the problem."
   ]
  },
  {
   "cell_type": "markdown",
   "metadata": {},
   "source": [
    "Let $\\mathcal{X}$ be the following set of real-valued matrices with prescribed row and column sums; i.e.,\n",
    "$\n",
    "    \\mathcal{X} := \n",
    "    \\big\\{\n",
    "        u \\in \\mathbb{R}^{M\\times N}:\\,   u \\mathbb{1}_N = m \n",
    "        \\,\\,\\text{ and }\\,\\,\n",
    "        \\mathbb{1}_M u = n\n",
    "    \\big\\}\n",
    "$;\n",
    "where $\\mathbb{1}_s$ is a vector of ones of size $s$.\n",
    "\n",
    "Again in the framework of Malitsky and Pock (2018), we now identify $g(x) = c:x + \\imath_{\\mathbb{R}_{\\geq 0}}(x)$, $f = \\imath_{\\mathcal{X}}$, and $K=\\mathsf{I}_{N\\times m}$. Observe that this choice does not suffer the drawbacks of a cost with some zero valued entries."
   ]
  },
  {
   "cell_type": "markdown",
   "metadata": {},
   "source": [
    "Doing this, we obtain a simplified version of APD as the linear operator is implicitly applied in $g$. This further simplifies the linesearch step, since we have to check whether $ \\sqrt{\\beta} \\tau_k \\| (y_{k+1}-y_k) \\| \\leq \\delta \\| y_{k+1}-y_k \\| $ is satisfied. However, this is trivial whenever $\\tau_k \\leq \\delta \\big/ \\sqrt{\\beta} $. We can take two paths here, one is to saturate this constraint, which results in a slight different version of the algorithm of Bằng Công Vũ (2011) as $\\mu$ and $\\theta$ are avoided."
   ]
  },
  {
   "cell_type": "markdown",
   "metadata": {},
   "source": [
    "<div style=\"background-color:rgba(0, 0, 0, 0.0470588); vertical-align: middle; padding:5px 0; padding-left: 40px;\">\n",
    "<h2 style=\"color: #5e9ca0;\">Tight Primal Dual Algorithm with Linesearch</h2>\n",
    "<ol>\n",
    "<li>Set $\\beta >0$, $\\delta \\in (0,1)$\n",
    "<li>Set $\\tau = \\delta \\big/ \\sqrt{\\beta} $\n",
    "<li>For $k \\in \\{1,\\ldots, K\\}$, do\n",
    "<ol>\n",
    "<li>$x_k = \\mathrm{prox}_{\\tau g} \\big( x_{k-1} - \\tau y_k \\big)$\n",
    "    <li> $\\bar{x}_k = 2x_k  - x_{k-1}$\n",
    "    <li> $y_{k+1} = \\mathrm{prox}_{ \\beta\\tau f^*} (y_k + \\beta\\tau \\bar{x}_k)$\n",
    "\n",
    "</div>"
   ]
  },
  {
   "cell_type": "markdown",
   "metadata": {},
   "source": [
    "Another approach that is a middle ground between the two algorithms, is to instead keep the linesearch, but with a simplified stopping criterium:"
   ]
  },
  {
   "cell_type": "markdown",
   "metadata": {},
   "source": [
    "<div style=\"background-color:rgba(0, 0, 0, 0.0470588); vertical-align: middle; padding:5px 0; padding-left: 40px;\">\n",
    "<h2 style=\"color: #5e9ca0;\">Simplified Primal Dual Algorithm with Linesearch</h2>\n",
    "<ol>\n",
    "<li>Set $\\tau_0,\\beta >0$, $\\mu,\\delta \\in (0,1)$\n",
    "<li>Set $\\theta_0 = 1$</li>\n",
    "<li>For $k \\in \\{1,\\ldots, K\\}$, do\n",
    "<ol>\n",
    "<li>$x_k = \\mathrm{prox}_{\\tau_{k-1} g} \\big( x_{k-1} - \\tau_{k-1} y_k \\big)$\n",
    "<li>Choose $\\tau_k \\in [\\tau_{k-1}, \\tau_{k-1}\\sqrt{1+\\theta}]$\n",
    "<div style=\"color: #088A68;\">\n",
    "// Linesearch //\n",
    "</div>\n",
    "    <ol>\n",
    "    <li> $\\theta_k = {\\tau_k} \\big/ {\\tau_{k-1}}$\n",
    "    <li> $\\bar{x}_k = x_k + \\theta_k (x_k - x_{k-1})$\n",
    "    <li> $y_{k+1} = \\mathrm{prox}_{ \\beta\\tau_k f^*} (y_k + \\beta\\tau_k \\bar{x}_k)$\n",
    "    <li> Break linesearch if $ \\sqrt{\\beta} \\tau_k \\leq \\delta $, else $\\tau_k = \\mu \\tau_k$\n",
    "    </ol>\n",
    "</div>"
   ]
  },
  {
   "cell_type": "markdown",
   "metadata": {},
   "source": [
    "Now, the proximity operator of $\\eta g$ is just $\\mathrm{prox}_{\\eta g} (u) = [ u - \\eta c ]_+$. Letting $u_k = x_{k-1} - \\tau_{k-1} y_k$, we obtain that\n",
    "\\begin{align}\n",
    "    x_k &= \\mathrm{prox}_{\\tau_{k-1} g} (u_k) = [ u_k - \\tau_{k-1} c ]_+\n",
    "    \\\\\n",
    "    &= [x_{k-1} - \\tau_{k-1} y_k - \\tau_{k-1} c]_+ = [x_{k-1} - \\tau_{k-1} (y+c) ]_+\n",
    "\\end{align}"
   ]
  },
  {
   "cell_type": "markdown",
   "metadata": {},
   "source": [
    "Now, the proximal of $g$ is the projection on $\\mathcal{X}$, which is of the form $\\mathrm{proj}_{\\mathcal{X}}(u) = u - G(u)$, where $G$ is known. Using again the extended Moreau decomposition (see the details in [OT - PD - Improved](OT%20-%20PD%20-%20Improved.ipynb)), we get that\n",
    "\\begin{align}\n",
    "    y_{k+1} &= (\\beta \\tau_k) G\\big( (\\beta \\tau_k)^{-1} y_k + \\bar{x}_k)\\big).\n",
    "\\end{align}\n",
    "This gives rise to the following adapted algorithm:"
   ]
  },
  {
   "cell_type": "markdown",
   "metadata": {},
   "source": [
    "<div style=\"background-color:rgba(0, 0, 0, 0.0470588); vertical-align: middle; padding:5px 0; padding-left: 40px;\">\n",
    "<h2 style=\"color: #5e9ca0;\">Primal Dual Algorithm with Linesearch</h2>\n",
    "<ol>\n",
    "<li>Set $\\tau_0,\\beta >0$, $\\mu,\\delta \\in (0,1)$\n",
    "<li>Set $\\theta_0 = 1$</li>\n",
    "<li>For $k \\in \\{1,\\ldots, K\\}$, do\n",
    "<ol>\n",
    "<li>$x_k = [x_{k-1} - \\tau_{k-1} (y+c) ]_+$\n",
    "<li>Choose $\\tau_k \\in [\\tau_{k-1}, \\tau_{k-1}\\sqrt{1+\\theta}]$\n",
    "<div style=\"color: #088A68;\">\n",
    "// Linesearch //\n",
    "</div>\n",
    "<ol>\n",
    "<li> $\\theta_k = {\\tau_k} \\big/ {\\tau_{k-1}}$\n",
    "<li> $\\bar{x}_k = x_k + \\theta_k (x_k - x_{k-1})$\n",
    "<li> $u_k = (\\beta \\tau_k)^{-1} y_k + \\bar{x}_k$\n",
    "\n",
    "<div style=\"color: #088A68;\">\n",
    "// Projection onto the set of real-valued matrices with prescribed row and column sums //\n",
    "</div>\n",
    "<li>$\\kappa_1 = u_k\\mathbb{1}_{N} - m$\n",
    "<li>$\\beta_1 = \\langle \\kappa_1, \\mathbb{1}_M \\rangle \\big/ (M+N)$\n",
    "<li>$\\kappa_2 = \\mathbb{1}_{M}u_k - n$\n",
    "<li>$\\beta_2 = \\langle \\kappa_2, \\mathbb{1}_N \\rangle \\big/ (M+N)$\n",
    "<li>$y_{k+1} = (\\beta \\tau_k) \\big( \\frac{1}{N}(\\kappa_1 - \\beta_1)\\mathbb{1}_{N}^\\top + \\frac{1}{M} \\mathbb{1}_{M}( \\kappa_2 - \\beta_2 )^\\top \\big) $\n",
    "\n",
    "<div style=\"color: #088A68;\">\n",
    "// Linesearch condition //\n",
    "</div>\n",
    "<li> Break linesearch if $ \\sqrt{\\beta} \\tau_k \\leq \\delta  $, else $\\tau_k = \\mu \\tau_k$\n",
    "    </ol>\n",
    "</div>"
   ]
  },
  {
   "cell_type": "code",
   "execution_count": 12,
   "metadata": {
    "code_folding": [
     0,
     40,
     42,
     44,
     60,
     64,
     75,
     81,
     104,
     141,
     149,
     169,
     199,
     203,
     208,
     210,
     212
    ]
   },
   "outputs": [],
   "source": [
    "def primal_dual_Ls(c,m,n,iters, collect_obj = False, true_obj = None, \n",
    "                         true_obj_tol = 1e-4, true_solution = None, save_iter = False, \n",
    "                         guess_x = None,  guess_y = None, show = False,\n",
    "                         τ = 1e-3 * 1.9, σ = 1.0/(1e-3 * 1.9) - 1e-5, δ = 0.99, μ = 0.7, λ = 0.5, β = None):\n",
    "    # Algorithm for calculating solution x, in the primal space\n",
    "    # and y = [ψ, ϕ] in the dual space.\n",
    "    # Also returns the value of the objective function c*x at each\n",
    "    # iteration.\n",
    "    # μ = 0.7, δ = 0.99, τ0 = \\sqrt{ \\min\\{m,n\\} }, β = 1/400, = σ/τ [PDAL]\n",
    "    # μ, δ in (0,1)^2\n",
    "    \n",
    "    '''\n",
    "        Initialise parameters\n",
    "    '''\n",
    "    \n",
    "    # Fetch lengths of m and n\n",
    "    N = n.size\n",
    "    M = m.size\n",
    "    \n",
    "    #Initialise β\n",
    "    if β is None:\n",
    "        β  = σ/τ                       # Primal stepsize is updated\n",
    "    sβ = β**0.5\n",
    "    \n",
    "    # Base parameters\n",
    "    #τ = (min(M,N))**0.5            # Initial step from paper\n",
    "    τₖ = 0.0                       # Updated step\n",
    "    \n",
    "    #Initialise θ\n",
    "    θ = 1.0\n",
    "    \n",
    "\n",
    "    if show:\n",
    "        print('\\n*** Primal Dual with M = {}, N = {}, MN = {} ***\\n\\n'.format(M,N,M*N))\n",
    "    \n",
    "    \n",
    "    '''\n",
    "        Initialise matrices\n",
    "    '''\n",
    "    # Initialise x & y\n",
    "    if guess_x is not None:\n",
    "        x = guess_x.copy()\n",
    "    elif guess_y is not None:\n",
    "        ψ, ϕ = y.copy()\n",
    "    else:\n",
    "        x = zeros((M,N));\n",
    "        ϕ = zeros(M);\n",
    "        ψ = zeros(N);\n",
    "        \n",
    "    # Initialise p, y, u, κ\n",
    "    κₘ, yₘ = zeros((2,M))\n",
    "    κₙ, yₙ = zeros((2,N))\n",
    "    p, u = ones((2,M,N));\n",
    "    # Initialise previous copy of x\n",
    "    xₚ = x.copy()\n",
    "        \n",
    "    '''\n",
    "        Information from true solution (if available)\n",
    "    '''\n",
    "    # Store current objective value\n",
    "    if collect_obj == True:\n",
    "        obj = [ (c*x).sum() ]\n",
    "    \n",
    "    # Norm of true solution\n",
    "    if true_solution is not None:\n",
    "        true_obj_crit = 1.0\n",
    "        if true_obj is None:\n",
    "            true_obj = (c*sol).sum()\n",
    "        if show:\n",
    "            print('Objective from ground truth:', obj_exact,'\\n')\n",
    "            \n",
    "        \n",
    "    '''\n",
    "        Iterate the Primal Dual scheme\n",
    "    '''\n",
    "    every_iter = {\n",
    "        'it':[], 'obj':[], 'dist_obj':[], 'time':[], 'dist_x':[], 'rel_var':[], 'l_1':[],\n",
    "        'hyperₘ':{'L2': [], 'max': [], 'min':[]}, 'hyperₙ':{'L2': [], 'max': [], 'min':[]}\n",
    "                 }\n",
    "    every_critical = {'it':[], 'obj':[], 'tol':[], 'dist_obj':[], 'time':[], 'dist_x':[], 'l_1':[]}\n",
    "    \n",
    "    if true_solution is not None:\n",
    "        if show:\n",
    "            print('     It  | Tolerance |  obj dist |    Time    | ‖x-x*‖_F |  ‖x‖_1  ')\n",
    "            print( '{:-^66}'.format('') )\n",
    "        \n",
    "    timed = 0.0\n",
    "    \n",
    "    \n",
    "    for k in range(iters):\n",
    "        it_time = time.time()\n",
    "        \n",
    "        # ** Primal step ** #\n",
    "        # p = x - τ * (c + y)\n",
    "        add(c,ψ, out=p);    add(p,ϕ.reshape(M,1), out=p);    subtract(x, τ*p, out=p)\n",
    "        # [p]_+\n",
    "        maximum(p, 0.0, p)\n",
    "        \n",
    "        # ** Select extreme ** #\n",
    "        #τₖ = τ * (1 + θ)**0.5                # From paper\n",
    "        #τₖ = 0.5 * τ * (1 + (1 + θ)**0.5)    # From Pete\n",
    "        τₖ = τ * (λ + (1-λ) * (1 + θ)**0.5 )\n",
    "        \n",
    "        # ** Dual step ** #\n",
    "        while True:\n",
    "            θ = τₖ/τ\n",
    "            σ = β * τₖ\n",
    "            \n",
    "            # x̄ = (1+θ)*p - θ*x\n",
    "            # u = y/σ + x̄\n",
    "            subtract( (1+θ)*p, θ*x, out=u);    add(u,ψ/σ, out=u);    add(u,ϕ.reshape(M,1)/σ, out=u)\n",
    "            \n",
    "            # Projection step\n",
    "            κₘ = u.sum(1) - m\n",
    "            κₙ = u.sum(0) - n\n",
    "\n",
    "            βₘ = κₘ.sum() / (M + N)        # dim M\n",
    "            βₙ = κₙ.sum() / (M + N)        # dim N\n",
    "\n",
    "            # Implicit yₖ = ( (κₘ - βₘ)*σ/N).reshape(M,1) + σ*(κₙ - βₙ)/M\n",
    "            ϕ = (σ/N) * (κₘ - βₘ)\n",
    "            ψ = (σ/M) * (κₙ - βₙ)\n",
    "        \n",
    "            # Linesearch stopping criterium\n",
    "            if (sβ * τₖ < δ):\n",
    "                break\n",
    "            # Else: reduce step size\n",
    "            τₖ *= μ\n",
    "        \n",
    "        \n",
    "        τ = τₖ\n",
    "        x = p.copy()\n",
    "        \n",
    "        \n",
    "        # Measure time up to this point!\n",
    "        end = time.time()\n",
    "        timed += end - it_time\n",
    "        \n",
    "        # Recover values from mask\n",
    "        ℓ_1 = norm(x.ravel(),1)\n",
    "        \n",
    "        # Update objective function\n",
    "        if collect_obj == True:\n",
    "            obj.append( (c*x).sum() )\n",
    "            # Compute relative objective distance\n",
    "            if true_solution is not None:\n",
    "                dist_true_sol = abs(obj[-1] - true_obj)/true_obj\n",
    "                \n",
    "                \n",
    "        # If all iterations are to be stored:\n",
    "        if save_iter == True:\n",
    "            frob_d = norm(sol-x, 'fro')/norm(sol, 'fro')\n",
    "            r, s   = x.sum(1) - m, x.sum(0) - n\n",
    "            \n",
    "            every_iter['it'].append( k )\n",
    "            every_iter['obj'].append( (c*x).sum() )\n",
    "            every_iter['dist_obj'].append( dist_true_sol if true_obj is not None else np.nan )\n",
    "            every_iter['time'].append( timed )\n",
    "            every_iter['dist_x'].append( frob_d )\n",
    "            every_iter['rel_var'].append( norm(xₚ-x, 'fro')/norm(x, 'fro') if not allclose(x,0) else np.nan )\n",
    "            every_iter['l_1'].append(ℓ_1)\n",
    "            # Constrained satisfactibility\n",
    "            every_iter['hyperₘ']['L2'].append( norm(r)/norm(m) )\n",
    "            every_iter['hyperₘ']['max'].append( abs(r/maximum(m,1e-7)).max() )\n",
    "            every_iter['hyperₘ']['min'].append( abs(r/maximum(m,1e-7)).min() )\n",
    "            every_iter['hyperₙ']['L2'].append( norm(s)/norm(n) )\n",
    "            every_iter['hyperₙ']['max'].append( abs(s/maximum(n,1e-7)).max() )\n",
    "            every_iter['hyperₙ']['min'].append( abs(s/maximum(n,1e-7)).min() )\n",
    "            \n",
    "        # If a true solution is available, we check the tolerance:\n",
    "        if true_solution is not None: \n",
    "            if dist_true_sol < true_obj_crit:\n",
    "                frob_d = norm(sol-x, 'fro')/norm(sol, 'fro')\n",
    "                \n",
    "                every_critical['it'].append( k )\n",
    "                every_critical['obj'].append( obj[-1] )\n",
    "                every_critical['tol'].append( true_obj_crit )\n",
    "                every_critical['dist_obj'].append( dist_true_sol )\n",
    "                every_critical['time'].append( timed )\n",
    "                every_critical['dist_x'].append( frob_d )\n",
    "                every_critical['l_1'].append(ℓ_1)\n",
    "\n",
    "                if show:\n",
    "                    print('* {0:6.0f} |   {1:.1e} |  {2:1.1e}  | {3:8.2f} s |   {4:4.4f} |  {5:4.4f}'.format(k,\n",
    "                                                                            true_obj_crit,\n",
    "                                                                            dist_true_sol,\n",
    "                                                                            timed,frob_d,ℓ_1))\n",
    "                \n",
    "                # If the prescribed tolerance is reached, we finish.\n",
    "                if dist_true_sol < true_obj_tol:\n",
    "                    if show:\n",
    "                        print('Solution found with given tolerance.')\n",
    "                    break\n",
    "                \n",
    "                # Adjust current level of inner tolerance\n",
    "                true_obj_crit *= 0.1\n",
    "        \n",
    "        # Update previous step\n",
    "        xₚ = x.copy()\n",
    "    \n",
    "    if true_solution is not None:\n",
    "        if show:\n",
    "            print( '{:-^66}'.format('') )\n",
    "\n",
    "    if show:\n",
    "        print('\\nAlgorithm stopped after {0:.4f} seconds and {1} iterations'.format(timed,k))\n",
    "    \n",
    "    y = asarray([ψ, ϕ],dtype='object')\n",
    "    \n",
    "    if collect_obj == False and save_iter == True:\n",
    "        return x, y, every_iter\n",
    "    if collect_obj == True and save_iter == True:\n",
    "        return x, y, obj, every_critical, every_iter\n",
    "    else:\n",
    "        return x"
   ]
  },
  {
   "cell_type": "code",
   "execution_count": 13,
   "metadata": {},
   "outputs": [],
   "source": [
    "def primal_dual_Ls_series(c,m,n,iters, collect_obj = False, true_obj = None, \n",
    "                         true_obj_tol = 1e-4, true_solution = None, save_iter = False, \n",
    "                         guess_x = None,  guess_y = None, show = False,\n",
    "                         τ = 1e-3 * 1.9, σ = 1.0/(1e-3 * 1.9) - 1e-5, δ = 0.99, μ = 0.7, λ = 0.5, β = None):\n",
    "    # Algorithm for calculating solution x, in the primal space\n",
    "    # and y = [ψ, ϕ] in the dual space.\n",
    "    # Also returns the value of the objective function c*x at each\n",
    "    # iteration.\n",
    "    # μ = 0.7, δ = 0.99, τ0 = \\sqrt{ \\min\\{m,n\\} }, β = 1/400, = σ/τ [PDAL]\n",
    "    # μ, δ in (0,1)^2\n",
    "    \n",
    "    '''\n",
    "        Initialise parameters\n",
    "    '''\n",
    "    \n",
    "    # Fetch lengths of m and n\n",
    "    N = n.size\n",
    "    M = m.size\n",
    "    \n",
    "    #log μ\n",
    "    lμ = np.log(μ)\n",
    "    \n",
    "    #Initialise β\n",
    "    if β is None:\n",
    "        β  = σ/τ                       # Primal stepsize is updated\n",
    "    sβ = β**0.5\n",
    "    \n",
    "    # Base parameters\n",
    "    #τ = (min(M,N))**0.5            # Initial step from paper\n",
    "    τₖ = 0.0                       # Updated step\n",
    "    \n",
    "    #Initialise θ\n",
    "    θ = 1.0\n",
    "    \n",
    "\n",
    "    if show:\n",
    "        print('\\n*** Primal Dual with M = {}, N = {}, MN = {} ***\\n\\n'.format(M,N,M*N))\n",
    "    \n",
    "    \n",
    "    '''\n",
    "        Initialise matrices\n",
    "    '''\n",
    "    # Initialise x & y\n",
    "    if guess_x is not None:\n",
    "        x = guess_x.copy()\n",
    "    elif guess_y is not None:\n",
    "        ψ, ϕ = y.copy()\n",
    "    else:\n",
    "        x = zeros((M,N));\n",
    "        ϕ = zeros(M);\n",
    "        ψ = zeros(N);\n",
    "        \n",
    "    # Initialise p, y, u, κ\n",
    "    κₘ, yₘ = zeros((2,M))\n",
    "    κₙ, yₙ = zeros((2,N))\n",
    "    p, u = ones((2,M,N));\n",
    "    # Initialise previous copy of x\n",
    "    xₚ = x.copy()\n",
    "        \n",
    "    '''\n",
    "        Information from true solution (if available)\n",
    "    '''\n",
    "    # Store current objective value\n",
    "    if collect_obj == True:\n",
    "        obj = [ (c*x).sum() ]\n",
    "    \n",
    "    # Norm of true solution\n",
    "    if true_solution is not None:\n",
    "        true_obj_crit = 1.0\n",
    "        if true_obj is None:\n",
    "            true_obj = (c*sol).sum()\n",
    "        if show:\n",
    "            print('Objective from ground truth:', obj_exact,'\\n')\n",
    "            \n",
    "        \n",
    "    '''\n",
    "        Iterate the Primal Dual scheme\n",
    "    '''\n",
    "    every_iter = {\n",
    "        'it':[], 'obj':[], 'dist_obj':[], 'time':[], 'dist_x':[], 'rel_var':[], 'l_1':[],\n",
    "        'hyperₘ':{'L2': [], 'max': [], 'min':[]}, 'hyperₙ':{'L2': [], 'max': [], 'min':[]}\n",
    "                 }\n",
    "    every_critical = {'it':[], 'obj':[], 'tol':[], 'dist_obj':[], 'time':[], 'dist_x':[], 'l_1':[]}\n",
    "    \n",
    "    if true_solution is not None:\n",
    "        if show:\n",
    "            print('     It  | Tolerance |  obj dist |    Time    | ‖x-x*‖_F |  ‖x‖_1  ')\n",
    "            print( '{:-^66}'.format('') )\n",
    "        \n",
    "    timed = 0.0\n",
    "    \n",
    "    \n",
    "    for k in range(iters):\n",
    "        it_time = time.time()\n",
    "        \n",
    "        # ** Primal step ** #\n",
    "        # p = x - τ * (c + y)\n",
    "        add(c,ψ, out=p);    add(p,ϕ.reshape(M,1), out=p);    subtract(x, τ*p, out=p)\n",
    "        # [p]_+\n",
    "        maximum(p, 0.0, p)\n",
    "        \n",
    "        # ** Select extreme ** #\n",
    "        #τₖ = τ * (1 + θ)**0.5                # From paper\n",
    "        #τₖ = 0.5 * τ * (1 + (1 + θ)**0.5)    # From Pete\n",
    "        τₖ = τ * (λ + (1-λ) * (1 + θ)**0.5 )\n",
    "        \n",
    "        # ** Dual step ** #\n",
    "        \n",
    "        num = np.ceil(np.log(δ/(sβ*τₖ))/lμ)\n",
    "        τₖ *= μ**num   \n",
    "            \n",
    "        θ = τₖ/τ\n",
    "        σ = β * τₖ\n",
    "            \n",
    "        subtract( (1+θ)*p, θ*x, out=u);    add(u,ψ/σ, out=u);    add(u,ϕ.reshape(M,1)/σ, out=u)\n",
    "\n",
    "        # Projection step\n",
    "        κₘ = u.sum(1) - m\n",
    "        κₙ = u.sum(0) - n\n",
    "\n",
    "        βₘ = κₘ.sum() / (M + N)        # dim M\n",
    "        βₙ = κₙ.sum() / (M + N)        # dim N\n",
    "\n",
    "        # Implicit yₖ = ( (κₘ - βₘ)*σ/N).reshape(M,1) + σ*(κₙ - βₙ)/M\n",
    "        ϕ = (σ/N) * (κₘ - βₘ)\n",
    "        ψ = (σ/M) * (κₙ - βₙ)\n",
    "        \n",
    "        τ = τₖ\n",
    "        x = p.copy()\n",
    "        \n",
    "        \n",
    "        # Measure time up to this point!\n",
    "        end = time.time()\n",
    "        timed += end - it_time\n",
    "        \n",
    "        # Recover values from mask\n",
    "        ℓ_1 = norm(x.ravel(),1)\n",
    "        \n",
    "        # Update objective function\n",
    "        if collect_obj == True:\n",
    "            obj.append( (c*x).sum() )\n",
    "            # Compute relative objective distance\n",
    "            if true_solution is not None:\n",
    "                dist_true_sol = abs(obj[-1] - true_obj)/true_obj\n",
    "                \n",
    "                \n",
    "        # If all iterations are to be stored:\n",
    "        if save_iter == True:\n",
    "            frob_d = norm(sol-x, 'fro')/norm(sol, 'fro')\n",
    "            r, s   = x.sum(1) - m, x.sum(0) - n\n",
    "            \n",
    "            every_iter['it'].append( k )\n",
    "            every_iter['obj'].append( (c*x).sum() )\n",
    "            every_iter['dist_obj'].append( dist_true_sol if true_obj is not None else np.nan )\n",
    "            every_iter['time'].append( timed )\n",
    "            every_iter['dist_x'].append( frob_d )\n",
    "            every_iter['rel_var'].append( norm(xₚ-x, 'fro')/norm(x, 'fro') if not allclose(x,0) else np.nan )\n",
    "            every_iter['l_1'].append(ℓ_1)\n",
    "            # Constrained satisfactibility\n",
    "            every_iter['hyperₘ']['L2'].append( norm(r)/norm(m) )\n",
    "            every_iter['hyperₘ']['max'].append( abs(r/maximum(m,1e-7)).max() )\n",
    "            every_iter['hyperₘ']['min'].append( abs(r/maximum(m,1e-7)).min() )\n",
    "            every_iter['hyperₙ']['L2'].append( norm(s)/norm(n) )\n",
    "            every_iter['hyperₙ']['max'].append( abs(s/maximum(n,1e-7)).max() )\n",
    "            every_iter['hyperₙ']['min'].append( abs(s/maximum(n,1e-7)).min() )\n",
    "            \n",
    "        # If a true solution is available, we check the tolerance:\n",
    "        if true_solution is not None: \n",
    "            if dist_true_sol < true_obj_crit:\n",
    "                frob_d = norm(sol-x, 'fro')/norm(sol, 'fro')\n",
    "                \n",
    "                every_critical['it'].append( k )\n",
    "                every_critical['obj'].append( obj[-1] )\n",
    "                every_critical['tol'].append( true_obj_crit )\n",
    "                every_critical['dist_obj'].append( dist_true_sol )\n",
    "                every_critical['time'].append( timed )\n",
    "                every_critical['dist_x'].append( frob_d )\n",
    "                every_critical['l_1'].append(ℓ_1)\n",
    "\n",
    "                if show:\n",
    "                    print('* {0:6.0f} |   {1:.1e} |  {2:1.1e}  | {3:8.2f} s |   {4:4.4f} |  {5:4.4f}'.format(k,\n",
    "                                                                            true_obj_crit,\n",
    "                                                                            dist_true_sol,\n",
    "                                                                            timed,frob_d,ℓ_1))\n",
    "                \n",
    "                # If the prescribed tolerance is reached, we finish.\n",
    "                if dist_true_sol < true_obj_tol:\n",
    "                    if show:\n",
    "                        print('Solution found with given tolerance.')\n",
    "                    break\n",
    "                \n",
    "                # Adjust current level of inner tolerance\n",
    "                true_obj_crit *= 0.1\n",
    "        \n",
    "        # Update previous step\n",
    "        xₚ = x.copy()\n",
    "    \n",
    "    if true_solution is not None:\n",
    "        if show:\n",
    "            print( '{:-^66}'.format('') )\n",
    "\n",
    "    if show:\n",
    "        print('\\nAlgorithm stopped after {0:.4f} seconds and {1} iterations'.format(timed,k))\n",
    "    \n",
    "    y = asarray([ψ, ϕ],dtype='object')\n",
    "    \n",
    "    if collect_obj == False and save_iter == True:\n",
    "        return x, y, every_iter\n",
    "    if collect_obj == True and save_iter == True:\n",
    "        return x, y, obj, every_critical, every_iter\n",
    "    else:\n",
    "        return x"
   ]
  },
  {
   "cell_type": "code",
   "execution_count": 72,
   "metadata": {},
   "outputs": [],
   "source": [
    "def primal_dual_Ls_series_sum(c,m,n,iters, collect_obj = False, true_obj = None, \n",
    "                         true_obj_tol = 1e-4, true_solution = None, save_iter = False, \n",
    "                         guess_x = None,  guess_y = None, show = False,\n",
    "                         τ = 1e-3 * 1.9, σ = 1.0/(1e-3 * 1.9) - 1e-5, δ = 0.99, μ = 0.7, λ = 0.5, β = None):\n",
    "    # Algorithm for calculating solution x, in the primal space\n",
    "    # and y = [ψ, ϕ] in the dual space.\n",
    "    # Also returns the value of the objective function c*x at each\n",
    "    # iteration.\n",
    "    # μ = 0.7, δ = 0.99, τ0 = \\sqrt{ \\min\\{m,n\\} }, β = 1/400, = σ/τ [PDAL]\n",
    "    # μ, δ in (0,1)^2\n",
    "    \n",
    "    '''\n",
    "        Initialise parameters\n",
    "    '''\n",
    "    \n",
    "    # Fetch lengths of m and n\n",
    "    N = n.size\n",
    "    M = m.size\n",
    "    \n",
    "    #log μ\n",
    "    lμ = np.log(μ)\n",
    "    \n",
    "    #Initialise β\n",
    "    if β is None:\n",
    "        β  = σ/τ                       # Primal stepsize is updated\n",
    "    sβ = β**0.5\n",
    "    \n",
    "    # Base parameters\n",
    "    #τ = (min(M,N))**0.5            # Initial step from paper\n",
    "    τₖ = 0.0                       # Updated step\n",
    "    \n",
    "    #Initialise θ\n",
    "    θ = 1.0\n",
    "    \n",
    "\n",
    "    if show:\n",
    "        print('\\n*** Primal Dual with M = {}, N = {}, MN = {} ***\\n\\n'.format(M,N,M*N))\n",
    "    \n",
    "    \n",
    "    '''\n",
    "        Initialise matrices\n",
    "    '''\n",
    "    # Initialise x & y\n",
    "    if guess_x is not None:\n",
    "        x = guess_x.copy()\n",
    "    elif guess_y is not None:\n",
    "        ψ, ϕ = y.copy()\n",
    "    else:\n",
    "        x = zeros((M,N));\n",
    "        ϕ = zeros(M);\n",
    "        ψ = zeros(N);\n",
    "        \n",
    "    # Initialise p, y, u, κ\n",
    "    κₘ, yₘ = zeros((2,M))\n",
    "    κₙ, yₙ = zeros((2,N))\n",
    "    p, u = ones((2,M,N));\n",
    "    # Initialise previous copy of x\n",
    "    xₚ = x.copy()\n",
    "        \n",
    "    '''\n",
    "        Information from true solution (if available)\n",
    "    '''\n",
    "    # Store current objective value\n",
    "    if collect_obj == True:\n",
    "        obj = [ (c*x).sum() ]\n",
    "    \n",
    "    # Norm of true solution\n",
    "    if true_solution is not None:\n",
    "        true_obj_crit = 1.0\n",
    "        if true_obj is None:\n",
    "            true_obj = (c*sol).sum()\n",
    "        if show:\n",
    "            print('Objective from ground truth:', obj_exact,'\\n')\n",
    "            \n",
    "        \n",
    "    '''\n",
    "        Iterate the Primal Dual scheme\n",
    "    '''\n",
    "    every_iter = {\n",
    "        'it':[], 'obj':[], 'dist_obj':[], 'time':[], 'dist_x':[], 'rel_var':[], 'l_1':[],\n",
    "        'hyperₘ':{'L2': [], 'max': [], 'min':[]}, 'hyperₙ':{'L2': [], 'max': [], 'min':[]}\n",
    "                 }\n",
    "    every_critical = {'it':[], 'obj':[], 'tol':[], 'dist_obj':[], 'time':[], 'dist_x':[], 'l_1':[]}\n",
    "    \n",
    "    if true_solution is not None:\n",
    "        if show:\n",
    "            print('     It  | Tolerance |  obj dist |    Time    | ‖x-x*‖_F |  ‖x‖_1  ')\n",
    "            print( '{:-^66}'.format('') )\n",
    "        \n",
    "    timed = 0.0\n",
    "    \n",
    "    \n",
    "    for k in range(iters):\n",
    "        it_time = time.time()\n",
    "        \n",
    "        # ** Primal step ** #\n",
    "        # p = x - τ * (c + y)\n",
    "        add(c,ψ, out=p);    add(p,ϕ.reshape(M,1), out=p);    subtract(x, τ*p, out=p)\n",
    "        # [p]_+\n",
    "        maximum(p, 0.0, p)\n",
    "        \n",
    "        # ** Select extreme ** #\n",
    "        #τₖ = τ * (1 + θ)**0.5                # From paper\n",
    "        #τₖ = 0.5 * τ * (1 + (1 + θ)**0.5)    # From Pete\n",
    "        τₖ = τ * (λ + (1-λ) * (1 + θ)**0.5 )\n",
    "        \n",
    "        # ** Dual step ** #\n",
    "        \n",
    "        num = np.ceil(np.log(δ/(sβ*τₖ))/lμ)\n",
    "        τₖ *= μ**num   \n",
    "            \n",
    "        θ = τₖ/τ\n",
    "        τ_sum = (τₖ*(1-μ**(num+1))/(1-μ))\n",
    "        σ = β * τ_sum\n",
    "            \n",
    "        subtract( (1+θ)*p, θ*x, out=u);    add(u,ψ/σ, out=u);    add(u,ϕ.reshape(M,1)/σ, out=u)\n",
    "\n",
    "        # Projection step\n",
    "        κₘ = u.sum(1) - m\n",
    "        κₙ = u.sum(0) - n\n",
    "\n",
    "        βₘ = κₘ.sum() / (M + N)        # dim M\n",
    "        βₙ = κₙ.sum() / (M + N)        # dim N\n",
    "\n",
    "        # Implicit yₖ = ( (κₘ - βₘ)*σ/N).reshape(M,1) + σ*(κₙ - βₙ)/M\n",
    "        ϕ = (σ/N) * (κₘ - βₘ)\n",
    "        ψ = (σ/M) * (κₙ - βₙ)\n",
    "        \n",
    "        τ = τₖ\n",
    "        x = p.copy()\n",
    "        \n",
    "        \n",
    "        # Measure time up to this point!\n",
    "        end = time.time()\n",
    "        timed += end - it_time\n",
    "        \n",
    "        # Recover values from mask\n",
    "        ℓ_1 = norm(x.ravel(),1)\n",
    "        \n",
    "        # Update objective function\n",
    "        if collect_obj == True:\n",
    "            obj.append( (c*x).sum() )\n",
    "            # Compute relative objective distance\n",
    "            if true_solution is not None:\n",
    "                dist_true_sol = abs(obj[-1] - true_obj)/true_obj\n",
    "                \n",
    "                \n",
    "        # If all iterations are to be stored:\n",
    "        if save_iter == True:\n",
    "            frob_d = norm(sol-x, 'fro')/norm(sol, 'fro')\n",
    "            r, s   = x.sum(1) - m, x.sum(0) - n\n",
    "            \n",
    "            every_iter['it'].append( k )\n",
    "            every_iter['obj'].append( (c*x).sum() )\n",
    "            every_iter['dist_obj'].append( dist_true_sol if true_obj is not None else np.nan )\n",
    "            every_iter['time'].append( timed )\n",
    "            every_iter['dist_x'].append( frob_d )\n",
    "            every_iter['rel_var'].append( norm(xₚ-x, 'fro')/norm(x, 'fro') if not allclose(x,0) else np.nan )\n",
    "            every_iter['l_1'].append(ℓ_1)\n",
    "            # Constrained satisfactibility\n",
    "            every_iter['hyperₘ']['L2'].append( norm(r)/norm(m) )\n",
    "            every_iter['hyperₘ']['max'].append( abs(r/maximum(m,1e-7)).max() )\n",
    "            every_iter['hyperₘ']['min'].append( abs(r/maximum(m,1e-7)).min() )\n",
    "            every_iter['hyperₙ']['L2'].append( norm(s)/norm(n) )\n",
    "            every_iter['hyperₙ']['max'].append( abs(s/maximum(n,1e-7)).max() )\n",
    "            every_iter['hyperₙ']['min'].append( abs(s/maximum(n,1e-7)).min() )\n",
    "            \n",
    "        # If a true solution is available, we check the tolerance:\n",
    "        if true_solution is not None: \n",
    "            if dist_true_sol < true_obj_crit:\n",
    "                frob_d = norm(sol-x, 'fro')/norm(sol, 'fro')\n",
    "                \n",
    "                every_critical['it'].append( k )\n",
    "                every_critical['obj'].append( obj[-1] )\n",
    "                every_critical['tol'].append( true_obj_crit )\n",
    "                every_critical['dist_obj'].append( dist_true_sol )\n",
    "                every_critical['time'].append( timed )\n",
    "                every_critical['dist_x'].append( frob_d )\n",
    "                every_critical['l_1'].append(ℓ_1)\n",
    "\n",
    "                if show:\n",
    "                    print('* {0:6.0f} |   {1:.1e} |  {2:1.1e}  | {3:8.2f} s |   {4:4.4f} |  {5:4.4f}'.format(k,\n",
    "                                                                            true_obj_crit,\n",
    "                                                                            dist_true_sol,\n",
    "                                                                            timed,frob_d,ℓ_1))\n",
    "                \n",
    "                # If the prescribed tolerance is reached, we finish.\n",
    "                if dist_true_sol < true_obj_tol:\n",
    "                    if show:\n",
    "                        print('Solution found with given tolerance.')\n",
    "                    break\n",
    "                \n",
    "                # Adjust current level of inner tolerance\n",
    "                true_obj_crit *= 0.1\n",
    "        \n",
    "        # Update previous step\n",
    "        xₚ = x.copy()\n",
    "    \n",
    "    if true_solution is not None:\n",
    "        if show:\n",
    "            print( '{:-^66}'.format('') )\n",
    "\n",
    "    if show:\n",
    "        print('\\nAlgorithm stopped after {0:.4f} seconds and {1} iterations'.format(timed,k))\n",
    "    \n",
    "    y = asarray([ψ, ϕ],dtype='object')\n",
    "    \n",
    "    if collect_obj == False and save_iter == True:\n",
    "        return x, y, every_iter\n",
    "    if collect_obj == True and save_iter == True:\n",
    "        return x, y, obj, every_critical, every_iter\n",
    "    else:\n",
    "        return x"
   ]
  },
  {
   "cell_type": "code",
   "execution_count": null,
   "metadata": {},
   "outputs": [],
   "source": []
  },
  {
   "cell_type": "code",
   "execution_count": null,
   "metadata": {},
   "outputs": [],
   "source": []
  },
  {
   "cell_type": "code",
   "execution_count": 106,
   "metadata": {
    "code_folding": [
     0
    ]
   },
   "outputs": [
    {
     "name": "stdout",
     "output_type": "stream",
     "text": [
      "\n",
      "*** Primal Dual with M = 16, N = 16, MN = 256 ***\n",
      "\n",
      "\n",
      "Objective from ground truth: 0.01188861757518317 \n",
      "\n",
      "     It  | Tolerance |  obj dist |    Time    | ‖x-x*‖_F |  ‖x‖_1  \n",
      "------------------------------------------------------------------\n",
      "*      2 |   1.0e+00 |  6.0e-01  |     0.00 s |   0.9978 |  0.0223\n",
      "*      4 |   1.0e-01 |  5.4e-02  |     0.00 s |   1.0038 |  0.0295\n",
      "*   1270 |   1.0e-02 |  9.9e-03  |     0.10 s |   0.9918 |  0.0457\n",
      "*  32496 |   1.0e-03 |  3.8e-04  |     2.51 s |   0.9732 |  0.0586\n",
      "------------------------------------------------------------------\n",
      "\n",
      "Algorithm stopped after 7.4555 seconds and 99999 iterations\n"
     ]
    }
   ],
   "source": [
    "τ_our = 0.85*1e-2\n",
    "\n",
    "x, y, obj, every_critical, every_iter = primal_dual_Ls(c,m,n, 100000, collect_obj = True, \n",
    "                                                             true_obj = obj_exact, true_obj_tol = 1e-20, \n",
    "                                                             true_solution = sol, save_iter = True, \n",
    "                                                                show = True, τ = τ_our, σ = 0.9/τ_our, δ = 0.9, μ = 0.9, λ = 0.5, β = None)"
   ]
  },
  {
   "cell_type": "code",
   "execution_count": 94,
   "metadata": {},
   "outputs": [
    {
     "name": "stdout",
     "output_type": "stream",
     "text": [
      "\n",
      "*** Primal Dual with M = 16, N = 16, MN = 256 ***\n",
      "\n",
      "\n",
      "Objective from ground truth: 0.01188861757518317 \n",
      "\n",
      "     It  | Tolerance |  obj dist |    Time    | ‖x-x*‖_F |  ‖x‖_1  \n",
      "------------------------------------------------------------------\n",
      "------------------------------------------------------------------\n",
      "\n",
      "Algorithm stopped after 4.3060 seconds and 99999 iterations\n"
     ]
    }
   ],
   "source": [
    "x, y, obj, every_critical, every_iter = primal_dual_Ls_series(c,m,n, 100000, collect_obj = True, \n",
    "                                                             true_obj = obj_exact, true_obj_tol = 1e-20, \n",
    "                                                             true_solution = sol, save_iter = True, \n",
    "                                                                show = True, τ = τ_our, σ = 0.9/τ_our, δ = 0.9, μ = 0.9, λ = 0.5, β = None)"
   ]
  },
  {
   "cell_type": "code",
   "execution_count": 96,
   "metadata": {},
   "outputs": [
    {
     "name": "stdout",
     "output_type": "stream",
     "text": [
      "\n",
      "*** Primal Dual with M = 16, N = 16, MN = 256 ***\n",
      "\n",
      "\n",
      "Objective from ground truth: 0.01188861757518317 \n",
      "\n",
      "     It  | Tolerance |  obj dist |    Time    | ‖x-x*‖_F |  ‖x‖_1  \n",
      "------------------------------------------------------------------\n",
      "*    528 |   1.0e+00 |  6.9e-01  |     0.03 s |   0.9856 |  0.1015\n",
      "*   5665 |   1.0e-01 |  4.8e-02  |     0.27 s |   0.9895 |  0.0626\n",
      "------------------------------------------------------------------\n",
      "\n",
      "Algorithm stopped after 0.4671 seconds and 9999 iterations\n"
     ]
    }
   ],
   "source": [
    "x, y, obj, every_critical, every_iter = primal_dual_Ls_series_sum(c,m,n, 10000, collect_obj = True, \n",
    "                                                             true_obj = obj_exact, true_obj_tol = 1e-20, \n",
    "                                                             true_solution = sol, save_iter = True, \n",
    "                                                                show = True, τ = τ_our, σ = 0.9/τ_our, δ = 0.9, μ = 0.9, λ = 0.5, β = None)"
   ]
  },
  {
   "cell_type": "code",
   "execution_count": 97,
   "metadata": {},
   "outputs": [
    {
     "data": {
      "text/plain": [
       "array([0.0085    , 0.00053125, 0.034     , 0.002125  ])"
      ]
     },
     "execution_count": 97,
     "metadata": {},
     "output_type": "execute_result"
    }
   ],
   "source": [
    "Taus"
   ]
  },
  {
   "cell_type": "code",
   "execution_count": 107,
   "metadata": {
    "scrolled": false
   },
   "outputs": [
    {
     "name": "stdout",
     "output_type": "stream",
     "text": [
      "***** 0.0085 *****\n",
      "\n",
      "\n",
      "\n",
      "*** Primal Dual with M = 16, N = 16, MN = 256 ***\n",
      "\n",
      "\n",
      "Objective from ground truth: 0.01188861757518317 \n",
      "\n",
      "     It  | Tolerance |  obj dist |    Time    | ‖x-x*‖_F |  ‖x‖_1  \n",
      "------------------------------------------------------------------\n",
      "*    528 |   1.0e+00 |  6.9e-01  |     0.05 s |   0.9856 |  0.1015\n",
      "*   5665 |   1.0e-01 |  4.8e-02  |     0.30 s |   0.9895 |  0.0626\n",
      "------------------------------------------------------------------\n",
      "\n",
      "Algorithm stopped after 4.6100 seconds and 99999 iterations\n",
      "***** 0.00053125 *****\n",
      "\n",
      "\n",
      "\n",
      "*** Primal Dual with M = 16, N = 16, MN = 256 ***\n",
      "\n",
      "\n",
      "Objective from ground truth: 0.01188861757518317 \n",
      "\n",
      "     It  | Tolerance |  obj dist |    Time    | ‖x-x*‖_F |  ‖x‖_1  \n",
      "------------------------------------------------------------------\n",
      "*      5 |   1.0e+00 |  9.7e-01  |     0.00 s |   0.9996 |  0.0019\n",
      "*     26 |   1.0e-01 |  8.3e-02  |     0.00 s |   0.9992 |  0.0338\n",
      "*   2653 |   1.0e-02 |  5.6e-03  |     0.13 s |   0.9957 |  0.0412\n",
      "*   5355 |   1.0e-03 |  6.0e-04  |     0.26 s |   0.9968 |  0.0386\n",
      "------------------------------------------------------------------\n",
      "\n",
      "Algorithm stopped after 4.7300 seconds and 99999 iterations\n",
      "***** 0.034 *****\n",
      "\n",
      "\n",
      "\n",
      "*** Primal Dual with M = 16, N = 16, MN = 256 ***\n",
      "\n",
      "\n",
      "Objective from ground truth: 0.01188861757518317 \n",
      "\n",
      "     It  | Tolerance |  obj dist |    Time    | ‖x-x*‖_F |  ‖x‖_1  \n",
      "------------------------------------------------------------------\n",
      "*     82 |   1.0e+00 |  6.0e-01  |     0.00 s |   0.9546 |  0.1037\n",
      "------------------------------------------------------------------\n",
      "\n",
      "Algorithm stopped after 4.6934 seconds and 99999 iterations\n",
      "***** 0.002125 *****\n",
      "\n",
      "\n",
      "\n",
      "*** Primal Dual with M = 16, N = 16, MN = 256 ***\n",
      "\n",
      "\n",
      "Objective from ground truth: 0.01188861757518317 \n",
      "\n",
      "     It  | Tolerance |  obj dist |    Time    | ‖x-x*‖_F |  ‖x‖_1  \n",
      "------------------------------------------------------------------\n",
      "*      2 |   1.0e+00 |  9.6e-01  |     0.00 s |   1.0000 |  0.0020\n",
      "*    162 |   1.0e-01 |  3.9e-02  |     0.01 s |   0.9978 |  0.0511\n",
      "------------------------------------------------------------------\n",
      "\n",
      "Algorithm stopped after 5.3599 seconds and 99999 iterations\n"
     ]
    }
   ],
   "source": [
    "\n",
    "τ_our = (0.85*1e-2)\n",
    "Taus = asarray([τ_our, τ_our * 2**-4, τ_our * 2**2, τ_our * 2**-2 ]) \n",
    "\n",
    "for τ in Taus:\n",
    "    print('*****',τ,'*****\\n\\n')\n",
    "    x, y, obj, every_critical, every_iter = primal_dual_Ls_series_sum(c,m,n, 100000, collect_obj = True, \n",
    "                                                             true_obj = obj_exact, true_obj_tol = 1e-20, \n",
    "                                                             true_solution = sol, save_iter = True, \n",
    "                                                                show = True, τ = τ, σ = 0.9/τ, δ = 0.9, μ = 0.9, λ = 0.5, β = None)"
   ]
  },
  {
   "cell_type": "markdown",
   "metadata": {},
   "source": [
    "Let us repeat some of the experiments we did above:"
   ]
  },
  {
   "cell_type": "code",
   "execution_count": null,
   "metadata": {
    "code_folding": [
     1
    ]
   },
   "outputs": [],
   "source": [
    "ε = 1.0\n",
    "x, y, obj, every_critical, every_iter = primal_dual_Ls(c+ε,m,n, 10000, collect_obj = True, \n",
    "                                                             true_obj = obj_exact+ε, true_obj_tol = 1e-7, \n",
    "                                                             true_solution = sol, save_iter = True, show = True,\n",
    "                                                             δ = 0.99, μ = 0.7, λ = 0)"
   ]
  },
  {
   "cell_type": "code",
   "execution_count": null,
   "metadata": {
    "code_folding": [
     0
    ]
   },
   "outputs": [],
   "source": [
    "x, y, obj, every_critical, every_iter = primal_dual_Ls(c+ε,m,n, 10000, collect_obj = True, \n",
    "                                                             true_obj = obj_exact+ε, true_obj_tol = 1e-7, \n",
    "                                                             true_solution = sol, save_iter = True, show = True,\n",
    "                                                             δ = 0.99, μ = 0.7, λ = 0, β = 1e+5)"
   ]
  },
  {
   "cell_type": "code",
   "execution_count": null,
   "metadata": {},
   "outputs": [],
   "source": [
    "print('Average time per iteration:',every_iter['time'][-1]/len(every_iter['time']))"
   ]
  },
  {
   "cell_type": "code",
   "execution_count": null,
   "metadata": {},
   "outputs": [],
   "source": [
    "γ = 2            # 2 less iterations\n",
    "γ = 3            # 360 l.i. (< 1e+4)\n",
    "γ = 5            # 576 l.i.\n",
    "x, y, obj, every_critical, every_iter = primal_dual_Ls( γ*(c+ε),m,n, 10000, collect_obj = True, \n",
    "                                                             true_obj = γ*(obj_exact+ε), true_obj_tol = 1e-7, \n",
    "                                                             true_solution = sol, save_iter = True, show = True,\n",
    "                                                             δ = 0.99, μ = 0.7, λ = 0, β = 1e+5)"
   ]
  },
  {
   "cell_type": "markdown",
   "metadata": {},
   "source": [
    "We have guaranteed that $x$ is positive, but now $x$ does not satisfy all the constraints:"
   ]
  },
  {
   "cell_type": "code",
   "execution_count": 31,
   "metadata": {},
   "outputs": [
    {
     "data": {
      "text/plain": [
       "(0.00022384770369041648, 0.00027537658203285353)"
      ]
     },
     "execution_count": 31,
     "metadata": {},
     "output_type": "execute_result"
    }
   ],
   "source": [
    "norm(x.sum(1) - m), norm(x.sum(0) - n)"
   ]
  },
  {
   "cell_type": "markdown",
   "metadata": {},
   "source": [
    "Let's do some additional tests:"
   ]
  },
  {
   "cell_type": "code",
   "execution_count": 32,
   "metadata": {},
   "outputs": [],
   "source": [
    "B = list(linspace(9e+4,2e+5,50))\n",
    "info = {'it':[], 'dist_obj':[]}\n",
    "for b in B:\n",
    "    #print(b)\n",
    "    _, _, _, _, every_iter = primal_dual_Ls( γ*(c+ε),m,n, 10000, collect_obj = True, \n",
    "                                                             true_obj = γ*(obj_exact+ε), true_obj_tol = 1e-7, \n",
    "                                                             true_solution = sol, save_iter = True, show = False,\n",
    "                                                             δ = 0.99, μ = 0.7, λ = 0, β = b)\n",
    "    info['it'].append( len(every_iter['it']) )\n",
    "    info['dist_obj'].append( every_iter['dist_obj'][-1] )"
   ]
  },
  {
   "cell_type": "code",
   "execution_count": 33,
   "metadata": {},
   "outputs": [
    {
     "data": {
      "image/png": "[encoded data removed]",
      "text/plain": [
       "<Figure size 1440x360 with 1 Axes>"
      ]
     },
     "metadata": {
      "needs_background": "light"
     },
     "output_type": "display_data"
    }
   ],
   "source": [
    "plt.figure(figsize = (20,5))\n",
    "plt.plot(B, info['it'], 'x')\n",
    "plt.xscale('log')"
   ]
  },
  {
   "cell_type": "code",
   "execution_count": 34,
   "metadata": {},
   "outputs": [
    {
     "name": "stdout",
     "output_type": "stream",
     "text": [
      "\n",
      "*** Primal Dual with M = 64, N = 64, MN = 4096 ***\n",
      "\n",
      "\n",
      "Objective from ground truth: 0.016271821448840373 \n",
      "\n",
      "     It  | Tolerance |  obj dist |    Time    | ‖x-x*‖_F |  ‖x‖_1  \n",
      "------------------------------------------------------------------\n",
      "*      7 |   1.0e+00 |  1.0e+00  |     0.00 s |   1.0000 |  0.0020\n",
      "*     68 |   1.0e-01 |  9.9e-02  |     0.02 s |   0.5193 |  0.8965\n",
      "*    102 |   1.0e-02 |  9.9e-03  |     0.02 s |   0.4275 |  0.9870\n",
      "*    129 |   1.0e-03 |  8.6e-04  |     0.03 s |   0.3890 |  0.9982\n",
      "*    130 |   1.0e-04 |  8.8e-05  |     0.03 s |   0.3880 |  0.9991\n",
      "*    192 |   1.0e-05 |  9.6e-08  |     0.04 s |   0.3393 |  1.0002\n",
      "Solution found with given tolerance.\n",
      "------------------------------------------------------------------\n",
      "\n",
      "Algorithm stopped after 0.0442 seconds and 192 iterations\n"
     ]
    }
   ],
   "source": [
    "x, y, obj, every_critical, every_iter = primal_dual_Ls( γ*(c+ε),m,n, 10000, collect_obj = True, \n",
    "                                                             true_obj = γ*(obj_exact+ε), true_obj_tol = 1e-7, \n",
    "                                                             true_solution = sol, save_iter = True, show = True,\n",
    "                                                             δ = 0.99, μ = 0.7, λ = 0, β = B[np.argmin(info['it'])])"
   ]
  },
  {
   "cell_type": "markdown",
   "metadata": {},
   "source": [
    "What happens if we take even more iterations?"
   ]
  },
  {
   "cell_type": "code",
   "execution_count": 35,
   "metadata": {},
   "outputs": [
    {
     "name": "stdout",
     "output_type": "stream",
     "text": [
      "\n",
      "*** Primal Dual with M = 64, N = 64, MN = 4096 ***\n",
      "\n",
      "\n",
      "Objective from ground truth: 0.016271821448840373 \n",
      "\n",
      "     It  | Tolerance |  obj dist |    Time    | ‖x-x*‖_F |  ‖x‖_1  \n",
      "------------------------------------------------------------------\n",
      "*      7 |   1.0e+00 |  1.0e+00  |     0.00 s |   1.0000 |  0.0020\n",
      "*     68 |   1.0e-01 |  9.9e-02  |     0.02 s |   0.5193 |  0.8965\n",
      "*    102 |   1.0e-02 |  9.9e-03  |     0.02 s |   0.4275 |  0.9870\n",
      "*    129 |   1.0e-03 |  8.6e-04  |     0.03 s |   0.3890 |  0.9982\n",
      "*    130 |   1.0e-04 |  8.8e-05  |     0.03 s |   0.3880 |  0.9991\n",
      "*    192 |   1.0e-05 |  9.6e-08  |     0.05 s |   0.3393 |  1.0002\n",
      "*    842 |   1.0e-06 |  6.6e-07  |     0.22 s |   0.3228 |  1.0000\n",
      "*   1120 |   1.0e-07 |  4.6e-09  |     0.29 s |   0.3228 |  1.0000\n",
      "*   3416 |   1.0e-08 |  9.0e-09  |     0.89 s |   0.3227 |  1.0000\n",
      "*   4217 |   1.0e-09 |  8.4e-10  |     1.09 s |   0.3227 |  1.0000\n",
      "*   4550 |   1.0e-10 |  1.4e-11  |     1.18 s |   0.3227 |  1.0000\n",
      "Solution found with given tolerance.\n",
      "------------------------------------------------------------------\n",
      "\n",
      "Algorithm stopped after 1.1768 seconds and 4550 iterations\n"
     ]
    }
   ],
   "source": [
    "x, y, obj, every_critical, every_iter = primal_dual_Ls( γ*(c+ε),m,n, 10000, collect_obj = True, \n",
    "                                                             true_obj = γ*(obj_exact+ε), true_obj_tol = 1e-10, \n",
    "                                                             true_solution = sol, save_iter = True, show = True,\n",
    "                                                             δ = 0.99, μ = 0.7, λ = 0, β = B[np.argmin(info['it'])])"
   ]
  },
  {
   "cell_type": "code",
   "execution_count": 36,
   "metadata": {},
   "outputs": [
    {
     "data": {
      "text/plain": [
       "(5.8820130006804184e-08, 5.613996700292183e-08)"
      ]
     },
     "execution_count": 36,
     "metadata": {},
     "output_type": "execute_result"
    }
   ],
   "source": [
    "norm(x.sum(1) - m), norm(x.sum(0) - n)"
   ]
  },
  {
   "cell_type": "markdown",
   "metadata": {},
   "source": [
    "We can even reach **under** the support…"
   ]
  },
  {
   "cell_type": "code",
   "execution_count": 37,
   "metadata": {
    "scrolled": true
   },
   "outputs": [
    {
     "data": {
      "text/plain": [
       "(3879, 3969)"
      ]
     },
     "execution_count": 37,
     "metadata": {},
     "output_type": "execute_result"
    }
   ],
   "source": [
    "x[x==0.0].size, sol[sol==0.0].size"
   ]
  },
  {
   "cell_type": "markdown",
   "metadata": {},
   "source": [
    "---"
   ]
  },
  {
   "cell_type": "code",
   "execution_count": 38,
   "metadata": {},
   "outputs": [
    {
     "name": "stdout",
     "output_type": "stream",
     "text": [
      "\n",
      "*** Primal Dual with M = 64, N = 64, MN = 4096 ***\n",
      "\n",
      "\n",
      "Objective from ground truth: 0.016271821448840373 \n",
      "\n",
      "     It  | Tolerance |  obj dist |    Time    | ‖x-x*‖_F |  ‖x‖_1  \n",
      "------------------------------------------------------------------\n",
      "*      7 |   1.0e+00 |  1.0e+00  |     0.00 s |   1.0000 |  0.0020\n",
      "*     68 |   1.0e-01 |  9.9e-02  |     0.02 s |   0.5193 |  0.8965\n",
      "*    102 |   1.0e-02 |  9.9e-03  |     0.03 s |   0.4275 |  0.9870\n",
      "*    129 |   1.0e-03 |  8.6e-04  |     0.04 s |   0.3890 |  0.9982\n",
      "*    130 |   1.0e-04 |  8.8e-05  |     0.04 s |   0.3880 |  0.9991\n",
      "*    192 |   1.0e-05 |  9.6e-08  |     0.06 s |   0.3393 |  1.0002\n",
      "*    842 |   1.0e-06 |  6.6e-07  |     0.23 s |   0.3228 |  1.0000\n",
      "*   1120 |   1.0e-07 |  4.6e-09  |     0.30 s |   0.3228 |  1.0000\n",
      "*   3416 |   1.0e-08 |  9.0e-09  |     0.89 s |   0.3227 |  1.0000\n",
      "*   4217 |   1.0e-09 |  8.4e-10  |     1.10 s |   0.3227 |  1.0000\n",
      "*   4550 |   1.0e-10 |  1.4e-11  |     1.19 s |   0.3227 |  1.0000\n",
      "*   6882 |   1.0e-11 |  8.1e-12  |     1.80 s |   0.3227 |  1.0000\n",
      "*   9679 |   1.0e-12 |  1.3e-13  |     2.43 s |   0.3227 |  1.0000\n",
      "*  11011 |   1.0e-13 |  8.9e-14  |     2.73 s |   0.3227 |  1.0000\n",
      "*  11078 |   1.0e-14 |  5.6e-15  |     2.75 s |   0.3227 |  1.0000\n",
      "*  14009 |   1.0e-15 |  0.0e+00  |     3.41 s |   0.3227 |  1.0000\n",
      "Solution found with given tolerance.\n",
      "------------------------------------------------------------------\n",
      "\n",
      "Algorithm stopped after 3.4056 seconds and 14009 iterations\n"
     ]
    }
   ],
   "source": [
    "x, y, obj, every_critical, every_iter = primal_dual_Ls( γ*(c+ε),m,n, 15000, collect_obj = True, \n",
    "                                                             true_obj = γ*(obj_exact+ε), true_obj_tol = 1e-18, \n",
    "                                                             true_solution = sol, save_iter = True, show = True,\n",
    "                                                             δ = 0.99, μ = 0.7, λ = 0, β = B[np.argmin(info['it'])])"
   ]
  },
  {
   "cell_type": "markdown",
   "metadata": {},
   "source": [
    "Observe that we have reached the minimal value!"
   ]
  },
  {
   "cell_type": "code",
   "execution_count": 39,
   "metadata": {},
   "outputs": [],
   "source": [
    "r, s = x.sum(1) - m, x.sum(0) - n"
   ]
  },
  {
   "cell_type": "code",
   "execution_count": 40,
   "metadata": {
    "code_folding": [
     0,
     3,
     5,
     7,
     9
    ]
   },
   "outputs": [
    {
     "name": "stdout",
     "output_type": "stream",
     "text": [
      "ℓ-error | r = x 𝟙ₙ - m |      r/m     | s = 𝟙ₘ x - n |      s/n \n",
      "-------------------------------------------------------------------\n",
      "   1    | 7.319145e-14 | 1.130113e-11 | 6.530974e-14 | 7.611514e-12 \n",
      "   2    | 1.142117e-14 | 2.539257e-12 | 1.069473e-14 | 1.568626e-12 \n",
      "   ∞    | 3.123803e-15 | 1.446959e-12 | 2.962908e-15 | 6.049050e-13 \n",
      "  -∞    | 0.000000e+00 | 0.000000e+00 | 1.734723e-18 | 1.853598e-16 \n",
      "-------------------------------------------------------------------\n"
     ]
    }
   ],
   "source": [
    "# Print error estimates\n",
    "print('ℓ-error | r = x 𝟙ₙ - m |      r/m     | s = 𝟙ₘ x - n |      s/n ')\n",
    "print( '{:-^67}'.format('') )\n",
    "print('   1    | {0:1.6e} | {1:1.6e} | {2:1.6e} | {3:1.6e} '.format(\n",
    "            norm(r,1), norm(r/maximum(m,1e-7),1), norm(s,1), norm(s/maximum(n,1e-7),1) ))\n",
    "print('   2    | {0:1.6e} | {1:1.6e} | {2:1.6e} | {3:1.6e} '.format(\n",
    "                            norm(r), norm(r/maximum(m,1e-7)), norm(s), norm(s/maximum(n,1e-7)) ))\n",
    "print('   ∞    | {0:1.6e} | {1:1.6e} | {2:1.6e} | {3:1.6e} '.format(\n",
    "            norm(r,np.inf), norm(r/maximum(m,1e-7),np.inf), norm(s,np.inf), norm(s/maximum(n,1e-7),np.inf) ))\n",
    "print('  -∞    | {0:1.6e} | {1:1.6e} | {2:1.6e} | {3:1.6e} '.format(\n",
    "            abs(r).min(), abs(r/maximum(m,1e-7)).min(), abs(s).min(), abs(s/maximum(m,1e-7)).min() ))\n",
    "print( '{:-^67}'.format('') )"
   ]
  },
  {
   "cell_type": "markdown",
   "metadata": {},
   "source": [
    "We can even reach **under** the support…"
   ]
  },
  {
   "cell_type": "code",
   "execution_count": 41,
   "metadata": {},
   "outputs": [
    {
     "data": {
      "text/plain": [
       "(3879, 3969)"
      ]
     },
     "execution_count": 41,
     "metadata": {},
     "output_type": "execute_result"
    }
   ],
   "source": [
    "x[x==0.0].size, sol[sol==0.0].size"
   ]
  },
  {
   "cell_type": "markdown",
   "metadata": {},
   "source": [
    "Running for 30000 iterations, we get tolerances of 9.9e-324 (21366) and the following result:\n",
    "```\n",
    "ℓ-error | r = x 𝟙ₙ - m |      r/m     | s = 𝟙ₘ x - n |      s/n \n",
    "-------------------------------------------------------------------\n",
    "   1    | 2.832803e-15 | 3.117459e-13 | 2.605555e-15 | 2.475104e-13 \n",
    "   2    | 4.423800e-16 | 5.974417e-14 | 4.017393e-16 | 4.385313e-14 \n",
    "   ∞    | 1.474515e-16 | 2.267641e-14 | 1.179612e-16 | 1.735443e-14 \n",
    "  -∞    | 8.673617e-19 | 1.414873e-16 | 0.000000e+00 | 0.000000e+00 \n",
    "-------------------------------------------------------------------\n",
    "```"
   ]
  },
  {
   "cell_type": "markdown",
   "metadata": {},
   "source": [
    "---"
   ]
  },
  {
   "cell_type": "markdown",
   "metadata": {},
   "source": [
    "The constraints are not satisfied with the same numerical tolerance as the base solution though:"
   ]
  },
  {
   "cell_type": "code",
   "execution_count": 42,
   "metadata": {},
   "outputs": [],
   "source": [
    "r, s = sol.sum(1) - m, sol.sum(0) - n"
   ]
  },
  {
   "cell_type": "code",
   "execution_count": 43,
   "metadata": {
    "code_folding": [
     0,
     3,
     5,
     7,
     9
    ]
   },
   "outputs": [
    {
     "name": "stdout",
     "output_type": "stream",
     "text": [
      "ℓ-error | r = x̄ 𝟙ₙ - m |      r/m     | s = 𝟙ₘ x̄ - n |      s/n \n",
      "-------------------------------------------------------------------\n",
      "   1    | 7.979728e-17 | 2.447586e-15 | 1.908196e-17 | 6.651720e-16 \n",
      "   2    | 5.663812e-17 | 1.593472e-15 | 9.341772e-18 | 2.990516e-16 \n",
      "   ∞    | 5.551115e-17 | 1.550475e-15 | 6.938894e-18 | 1.558086e-16 \n",
      "  -∞    | 0.000000e+00 | 0.000000e+00 | 0.000000e+00 | 0.000000e+00 \n",
      "-------------------------------------------------------------------\n"
     ]
    }
   ],
   "source": [
    "# Print error estimates\n",
    "print('ℓ-error | r = x̄ 𝟙ₙ - m |      r/m     | s = 𝟙ₘ x̄ - n |      s/n ')\n",
    "print( '{:-^67}'.format('') )\n",
    "print('   1    | {0:1.6e} | {1:1.6e} | {2:1.6e} | {3:1.6e} '.format(\n",
    "            norm(r,1), norm(r/maximum(m,1e-7),1), norm(s,1), norm(s/maximum(n,1e-7),1) ))\n",
    "print('   2    | {0:1.6e} | {1:1.6e} | {2:1.6e} | {3:1.6e} '.format(\n",
    "                            norm(r), norm(r/maximum(m,1e-7)), norm(s), norm(s/maximum(n,1e-7)) ))\n",
    "print('   ∞    | {0:1.6e} | {1:1.6e} | {2:1.6e} | {3:1.6e} '.format(\n",
    "            norm(r,np.inf), norm(r/maximum(m,1e-7),np.inf), norm(s,np.inf), norm(s/maximum(n,1e-7),np.inf) ))\n",
    "print('  -∞    | {0:1.6e} | {1:1.6e} | {2:1.6e} | {3:1.6e} '.format(\n",
    "            abs(r).min(), abs(r/maximum(m,1e-7)).min(), abs(s).min(), abs(s/maximum(m,1e-7)).min() ))\n",
    "print( '{:-^67}'.format('') )"
   ]
  },
  {
   "cell_type": "markdown",
   "metadata": {},
   "source": [
    "## Visualise and store results"
   ]
  },
  {
   "cell_type": "code",
   "execution_count": 44,
   "metadata": {},
   "outputs": [],
   "source": [
    "main_folder = folder + '_Results'\n",
    "out_folder  = main_folder + '/' + instance\n",
    "algorithm   = 'APD-'"
   ]
  },
  {
   "cell_type": "code",
   "execution_count": 45,
   "metadata": {},
   "outputs": [],
   "source": [
    "# Check if main folder for results exists, else create it\n",
    "if not os.path.exists(main_folder):    os.makedirs(main_folder)\n",
    "# Now create a folder for the results of the instance\n",
    "if not os.path.exists(out_folder):    os.makedirs(out_folder)\n",
    "out_folder += '/' + algorithm"
   ]
  },
  {
   "cell_type": "code",
   "execution_count": 46,
   "metadata": {
    "code_folding": [
     0
    ]
   },
   "outputs": [
    {
     "data": {
      "image/png": "[encoded data removed]",
      "text/plain": [
       "<Figure size 720x360 with 2 Axes>"
      ]
     },
     "metadata": {
      "needs_background": "light"
     },
     "output_type": "display_data"
    }
   ],
   "source": [
    "# Visualise solution\n",
    "plt.figure(figsize = (10,5))\n",
    "\n",
    "plt.subplot(1, 2, 1)\n",
    "plt.spy(x, markersize=1, aspect = 1, markeredgecolor = 'black', alpha=0.75);    plt.axis('off')\n",
    "plt.title('Sparse view')\n",
    "plt.subplot(1, 2, 2)\n",
    "plt.imshow(x);    plt.axis('off');    plt.title('Heat map\\n')\n",
    "\n",
    "#plt.savefig(out_folder+'Sparse-Heat.pdf', bbox_inches='tight',transparent=True)\n",
    "plt.show()"
   ]
  },
  {
   "cell_type": "code",
   "execution_count": 47,
   "metadata": {},
   "outputs": [],
   "source": [
    "if 'γ' not in locals():\n",
    "    γ = 1"
   ]
  },
  {
   "cell_type": "code",
   "execution_count": 48,
   "metadata": {
    "code_folding": [
     0
    ]
   },
   "outputs": [
    {
     "data": {
      "image/png": "[encoded data removed]",
      "text/plain": [
       "<Figure size 1440x360 with 2 Axes>"
      ]
     },
     "metadata": {
      "needs_background": "light"
     },
     "output_type": "display_data"
    }
   ],
   "source": [
    "# Visualise evolution of objective values\n",
    "plt.figure(figsize = (20,5))\n",
    "\n",
    "plt.subplot(1, 2, 1)\n",
    "plt.plot(obj)\n",
    "plt.axhline(y=γ*(obj_exact+ε), color='r', linestyle=':')\n",
    "plt.yscale('log');    plt.title('Objective values per iteration')\n",
    "plt.xlabel('Iteration count');    plt.ylabel('Objective cost (log scale)')\n",
    "plt.subplot(1, 2, 2)\n",
    "plt.plot(np.append([0], every_iter['time']),obj)\n",
    "plt.axhline(y=γ*(obj_exact+ε), color='r', linestyle=':')\n",
    "plt.yscale('log')\n",
    "plt.title('Objective values per iteration')\n",
    "plt.xlabel('Time');    plt.ylabel('Objective cost (log scale)')\n",
    "\n",
    "#plt.savefig(out_folder+'Objective.pdf', bbox_inches='tight',transparent=True)\n",
    "plt.show()"
   ]
  },
  {
   "cell_type": "code",
   "execution_count": 49,
   "metadata": {
    "code_folding": [
     0
    ]
   },
   "outputs": [
    {
     "data": {
      "image/png": "[encoded data removed]",
      "text/plain": [
       "<Figure size 1440x792 with 4 Axes>"
      ]
     },
     "metadata": {
      "needs_background": "light"
     },
     "output_type": "display_data"
    }
   ],
   "source": [
    "# Visualise evolution of relative errors\n",
    "plt.figure(figsize = (20,11))\n",
    "\n",
    "plt.subplot(2, 2, 1)\n",
    "plt.plot(every_iter['dist_obj'])\n",
    "plt.yscale('log')\n",
    "plt.title('Error in objective per iteration')\n",
    "plt.xlabel('Iteration count');    plt.ylabel('Relative error in objective (log scale)')\n",
    "plt.subplot(2, 2, 2)\n",
    "plt.plot(every_iter['time'],every_iter['dist_obj'])\n",
    "plt.yscale('log')\n",
    "plt.title('Error in objective per iteration')\n",
    "plt.xlabel('Time');    plt.ylabel('Relative error in objective (log scale)')\n",
    "plt.subplot(2, 2, 3)\n",
    "plt.plot(every_iter['dist_x'])\n",
    "plt.yscale('log')\n",
    "plt.title('Error in solution per iteration')\n",
    "plt.xlabel('Iteration count');    plt.ylabel('Relative error in solution (log scale)')\n",
    "plt.subplot(2, 2, 4)\n",
    "plt.plot(every_iter['time'],every_iter['dist_x'])\n",
    "plt.yscale('log')\n",
    "plt.title('Error in solution per iteration')\n",
    "plt.xlabel('Time');    plt.ylabel('Relative error in solution (log scale)')\n",
    "\n",
    "#plt.savefig(out_folder+'Rel_Error.pdf', bbox_inches='tight',transparent=True)\n",
    "plt.show()"
   ]
  },
  {
   "cell_type": "code",
   "execution_count": 50,
   "metadata": {
    "code_folding": [
     0
    ]
   },
   "outputs": [
    {
     "data": {
      "image/png": "[encoded data removed]",
      "text/plain": [
       "<Figure size 1440x360 with 2 Axes>"
      ]
     },
     "metadata": {
      "needs_background": "light"
     },
     "output_type": "display_data"
    }
   ],
   "source": [
    "# Relative variation\n",
    "plt.figure(figsize = (20,5))\n",
    "\n",
    "plt.subplot(1, 2, 1)\n",
    "plt.plot(every_iter['it'], every_iter['rel_var'])\n",
    "plt.yscale('log')\n",
    "plt.xlabel('Iteration count');    plt.ylabel('Relative variation (log scale)');\n",
    "plt.title('Relative variation of iterates per iteration')\n",
    "\n",
    "plt.subplot(1, 2, 2)\n",
    "plt.plot(every_iter['time'], every_iter['rel_var'])\n",
    "plt.yscale('log')\n",
    "plt.xlabel('Time');    plt.ylabel('Relative variation (log scale)');\n",
    "plt.title('Relative variation of iterates against time')\n",
    "\n",
    "#plt.savefig(out_folder+'Relative_Var.pdf', bbox_inches='tight',transparent=True)\n",
    "plt.show()"
   ]
  },
  {
   "cell_type": "code",
   "execution_count": 51,
   "metadata": {
    "code_folding": [
     0
    ]
   },
   "outputs": [
    {
     "data": {
      "image/png": "[encoded data removed]",
      "text/plain": [
       "<Figure size 1440x360 with 2 Axes>"
      ]
     },
     "metadata": {
      "needs_background": "light"
     },
     "output_type": "display_data"
    }
   ],
   "source": [
    "# Relative variation for x𝟙 = m\n",
    "plt.figure(figsize = (20,5))\n",
    "\n",
    "plt.subplot(1, 2, 1)\n",
    "plt.plot(every_iter['it'], every_iter['hyperₘ']['L2'], label='ℓ2')\n",
    "plt.plot(every_iter['it'], every_iter['hyperₘ']['max'], label='max')\n",
    "plt.plot(every_iter['it'], every_iter['hyperₘ']['min'], label='min')\n",
    "plt.yscale('log')\n",
    "plt.xlabel('Iteration count');    plt.ylabel('Relative error (log scale)');\n",
    "plt.title('Satisfactibility of hyperspace constaint x𝟙 = m')\n",
    "plt.legend()\n",
    "\n",
    "plt.subplot(1, 2, 2)\n",
    "plt.plot(every_iter['time'], every_iter['hyperₘ']['L2'], label='ℓ2')\n",
    "plt.plot(every_iter['time'], every_iter['hyperₘ']['max'], label='max')\n",
    "plt.plot(every_iter['time'], every_iter['hyperₘ']['min'], label='min')\n",
    "plt.yscale('log')\n",
    "plt.xlabel('Time');    plt.ylabel('Relative error (log scale)');\n",
    "plt.title('Satisfactibility of hyperspace constaint x𝟙 = m')\n",
    "\n",
    "#plt.savefig(out_folder+'RelE_m.pdf', bbox_inches='tight',transparent=True)\n",
    "plt.show()"
   ]
  },
  {
   "cell_type": "code",
   "execution_count": 52,
   "metadata": {
    "code_folding": [
     0
    ]
   },
   "outputs": [
    {
     "data": {
      "image/png": "[encoded data removed]",
      "text/plain": [
       "<Figure size 1440x360 with 2 Axes>"
      ]
     },
     "metadata": {
      "needs_background": "light"
     },
     "output_type": "display_data"
    }
   ],
   "source": [
    "# Relative variation for 𝟙ᵀx = n\n",
    "plt.figure(figsize = (20,5))\n",
    "\n",
    "plt.subplot(1, 2, 1)\n",
    "plt.plot(every_iter['it'], every_iter['hyperₙ']['L2'], label='ℓ2')\n",
    "plt.plot(every_iter['it'], every_iter['hyperₙ']['max'], label='max')\n",
    "plt.plot(every_iter['it'], every_iter['hyperₙ']['min'], label='min')\n",
    "plt.yscale('log')\n",
    "plt.xlabel('Iteration count');    plt.ylabel('Relative error (log scale)');\n",
    "plt.title('Satisfactibility of hyperspace constaint 𝟙ᵀx = n');    plt.legend()\n",
    "\n",
    "plt.subplot(1, 2, 2)\n",
    "plt.plot(every_iter['time'], every_iter['hyperₙ']['L2'], label='ℓ2')\n",
    "plt.plot(every_iter['time'], every_iter['hyperₙ']['max'], label='max')\n",
    "plt.plot(every_iter['time'], every_iter['hyperₙ']['min'], label='min')\n",
    "plt.yscale('log')\n",
    "plt.xlabel('Time');    plt.ylabel('Relative error (log scale)');\n",
    "plt.title('Satisfactibility of hyperspace constaint 𝟙ᵀx = n');    plt.legend()\n",
    "\n",
    "#plt.savefig(out_folder+'RelE_n.pdf', bbox_inches='tight',transparent=True)\n",
    "plt.show()"
   ]
  },
  {
   "cell_type": "markdown",
   "metadata": {},
   "source": [
    "All the data from the above two plots is also available as dataframes:"
   ]
  },
  {
   "cell_type": "code",
   "execution_count": 53,
   "metadata": {},
   "outputs": [
    {
     "data": {
      "text/html": [
       "<div>\n",
       "<style scoped>\n",
       "    .dataframe tbody tr th:only-of-type {\n",
       "        vertical-align: middle;\n",
       "    }\n",
       "\n",
       "    .dataframe tbody tr th {\n",
       "        vertical-align: top;\n",
       "    }\n",
       "\n",
       "    .dataframe thead th {\n",
       "        text-align: right;\n",
       "    }\n",
       "</style>\n",
       "<table border=\"1\" class=\"dataframe\">\n",
       "  <thead>\n",
       "    <tr style=\"text-align: right;\">\n",
       "      <th></th>\n",
       "      <th>it</th>\n",
       "      <th>obj</th>\n",
       "      <th>tol</th>\n",
       "      <th>dist_obj</th>\n",
       "      <th>time</th>\n",
       "      <th>dist_x</th>\n",
       "      <th>l_1</th>\n",
       "    </tr>\n",
       "  </thead>\n",
       "  <tbody>\n",
       "    <tr>\n",
       "      <th>0</th>\n",
       "      <td>7</td>\n",
       "      <td>0.011275</td>\n",
       "      <td>1.000000e+00</td>\n",
       "      <td>9.977812e-01</td>\n",
       "      <td>0.002234</td>\n",
       "      <td>1.000038</td>\n",
       "      <td>0.002002</td>\n",
       "    </tr>\n",
       "    <tr>\n",
       "      <th>1</th>\n",
       "      <td>68</td>\n",
       "      <td>4.580258</td>\n",
       "      <td>1.000000e-01</td>\n",
       "      <td>9.861555e-02</td>\n",
       "      <td>0.019335</td>\n",
       "      <td>0.519316</td>\n",
       "      <td>0.896478</td>\n",
       "    </tr>\n",
       "    <tr>\n",
       "      <th>2</th>\n",
       "      <td>102</td>\n",
       "      <td>5.031145</td>\n",
       "      <td>1.000000e-02</td>\n",
       "      <td>9.881995e-03</td>\n",
       "      <td>0.029040</td>\n",
       "      <td>0.427461</td>\n",
       "      <td>0.987001</td>\n",
       "    </tr>\n",
       "    <tr>\n",
       "      <th>3</th>\n",
       "      <td>129</td>\n",
       "      <td>5.076986</td>\n",
       "      <td>1.000000e-03</td>\n",
       "      <td>8.606866e-04</td>\n",
       "      <td>0.039969</td>\n",
       "      <td>0.388978</td>\n",
       "      <td>0.998212</td>\n",
       "    </tr>\n",
       "    <tr>\n",
       "      <th>4</th>\n",
       "      <td>130</td>\n",
       "      <td>5.080913</td>\n",
       "      <td>1.000000e-04</td>\n",
       "      <td>8.780187e-05</td>\n",
       "      <td>0.040252</td>\n",
       "      <td>0.387961</td>\n",
       "      <td>0.999059</td>\n",
       "    </tr>\n",
       "    <tr>\n",
       "      <th>5</th>\n",
       "      <td>192</td>\n",
       "      <td>5.081359</td>\n",
       "      <td>1.000000e-05</td>\n",
       "      <td>9.633077e-08</td>\n",
       "      <td>0.057214</td>\n",
       "      <td>0.339309</td>\n",
       "      <td>1.000188</td>\n",
       "    </tr>\n",
       "    <tr>\n",
       "      <th>6</th>\n",
       "      <td>842</td>\n",
       "      <td>5.081362</td>\n",
       "      <td>1.000000e-06</td>\n",
       "      <td>6.584793e-07</td>\n",
       "      <td>0.227754</td>\n",
       "      <td>0.322791</td>\n",
       "      <td>0.999969</td>\n",
       "    </tr>\n",
       "    <tr>\n",
       "      <th>7</th>\n",
       "      <td>1120</td>\n",
       "      <td>5.081359</td>\n",
       "      <td>1.000000e-07</td>\n",
       "      <td>4.550593e-09</td>\n",
       "      <td>0.298223</td>\n",
       "      <td>0.322769</td>\n",
       "      <td>0.999972</td>\n",
       "    </tr>\n",
       "    <tr>\n",
       "      <th>8</th>\n",
       "      <td>3416</td>\n",
       "      <td>5.081359</td>\n",
       "      <td>1.000000e-08</td>\n",
       "      <td>9.030682e-09</td>\n",
       "      <td>0.890367</td>\n",
       "      <td>0.322733</td>\n",
       "      <td>1.000000</td>\n",
       "    </tr>\n",
       "    <tr>\n",
       "      <th>9</th>\n",
       "      <td>4217</td>\n",
       "      <td>5.081359</td>\n",
       "      <td>1.000000e-09</td>\n",
       "      <td>8.442370e-10</td>\n",
       "      <td>1.102721</td>\n",
       "      <td>0.322733</td>\n",
       "      <td>1.000000</td>\n",
       "    </tr>\n",
       "    <tr>\n",
       "      <th>10</th>\n",
       "      <td>4550</td>\n",
       "      <td>5.081359</td>\n",
       "      <td>1.000000e-10</td>\n",
       "      <td>1.365681e-11</td>\n",
       "      <td>1.192673</td>\n",
       "      <td>0.322733</td>\n",
       "      <td>1.000000</td>\n",
       "    </tr>\n",
       "    <tr>\n",
       "      <th>11</th>\n",
       "      <td>6882</td>\n",
       "      <td>5.081359</td>\n",
       "      <td>1.000000e-11</td>\n",
       "      <td>8.131651e-12</td>\n",
       "      <td>1.797972</td>\n",
       "      <td>0.322733</td>\n",
       "      <td>1.000000</td>\n",
       "    </tr>\n",
       "    <tr>\n",
       "      <th>12</th>\n",
       "      <td>9679</td>\n",
       "      <td>5.081359</td>\n",
       "      <td>1.000000e-12</td>\n",
       "      <td>1.307440e-13</td>\n",
       "      <td>2.430404</td>\n",
       "      <td>0.322733</td>\n",
       "      <td>1.000000</td>\n",
       "    </tr>\n",
       "    <tr>\n",
       "      <th>13</th>\n",
       "      <td>11011</td>\n",
       "      <td>5.081359</td>\n",
       "      <td>1.000000e-13</td>\n",
       "      <td>8.879409e-14</td>\n",
       "      <td>2.732732</td>\n",
       "      <td>0.322733</td>\n",
       "      <td>1.000000</td>\n",
       "    </tr>\n",
       "    <tr>\n",
       "      <th>14</th>\n",
       "      <td>11078</td>\n",
       "      <td>5.081359</td>\n",
       "      <td>1.000000e-14</td>\n",
       "      <td>5.593328e-15</td>\n",
       "      <td>2.747780</td>\n",
       "      <td>0.322733</td>\n",
       "      <td>1.000000</td>\n",
       "    </tr>\n",
       "    <tr>\n",
       "      <th>15</th>\n",
       "      <td>14009</td>\n",
       "      <td>5.081359</td>\n",
       "      <td>1.000000e-15</td>\n",
       "      <td>0.000000e+00</td>\n",
       "      <td>3.405562</td>\n",
       "      <td>0.322733</td>\n",
       "      <td>1.000000</td>\n",
       "    </tr>\n",
       "  </tbody>\n",
       "</table>\n",
       "</div>"
      ],
      "text/plain": [
       "       it       obj           tol      dist_obj      time    dist_x       l_1\n",
       "0       7  0.011275  1.000000e+00  9.977812e-01  0.002234  1.000038  0.002002\n",
       "1      68  4.580258  1.000000e-01  9.861555e-02  0.019335  0.519316  0.896478\n",
       "2     102  5.031145  1.000000e-02  9.881995e-03  0.029040  0.427461  0.987001\n",
       "3     129  5.076986  1.000000e-03  8.606866e-04  0.039969  0.388978  0.998212\n",
       "4     130  5.080913  1.000000e-04  8.780187e-05  0.040252  0.387961  0.999059\n",
       "5     192  5.081359  1.000000e-05  9.633077e-08  0.057214  0.339309  1.000188\n",
       "6     842  5.081362  1.000000e-06  6.584793e-07  0.227754  0.322791  0.999969\n",
       "7    1120  5.081359  1.000000e-07  4.550593e-09  0.298223  0.322769  0.999972\n",
       "8    3416  5.081359  1.000000e-08  9.030682e-09  0.890367  0.322733  1.000000\n",
       "9    4217  5.081359  1.000000e-09  8.442370e-10  1.102721  0.322733  1.000000\n",
       "10   4550  5.081359  1.000000e-10  1.365681e-11  1.192673  0.322733  1.000000\n",
       "11   6882  5.081359  1.000000e-11  8.131651e-12  1.797972  0.322733  1.000000\n",
       "12   9679  5.081359  1.000000e-12  1.307440e-13  2.430404  0.322733  1.000000\n",
       "13  11011  5.081359  1.000000e-13  8.879409e-14  2.732732  0.322733  1.000000\n",
       "14  11078  5.081359  1.000000e-14  5.593328e-15  2.747780  0.322733  1.000000\n",
       "15  14009  5.081359  1.000000e-15  0.000000e+00  3.405562  0.322733  1.000000"
      ]
     },
     "metadata": {},
     "output_type": "display_data"
    },
    {
     "name": "stdout",
     "output_type": "stream",
     "text": [
      "\\begin{tabular}{rrrrrrr}\n",
      "\\toprule\n",
      "    it &       obj &           tol &      dist\\_obj &      time &    dist\\_x &       l\\_1 \\\\\n",
      "\\midrule\n",
      "     7 &  0.011275 &  1.000000e+00 &  9.977812e-01 &  0.002234 &  1.000038 &  0.002002 \\\\\n",
      "    68 &  4.580258 &  1.000000e-01 &  9.861555e-02 &  0.019335 &  0.519316 &  0.896478 \\\\\n",
      "   102 &  5.031145 &  1.000000e-02 &  9.881995e-03 &  0.029040 &  0.427461 &  0.987001 \\\\\n",
      "   129 &  5.076986 &  1.000000e-03 &  8.606866e-04 &  0.039969 &  0.388978 &  0.998212 \\\\\n",
      "   130 &  5.080913 &  1.000000e-04 &  8.780187e-05 &  0.040252 &  0.387961 &  0.999059 \\\\\n",
      "   192 &  5.081359 &  1.000000e-05 &  9.633077e-08 &  0.057214 &  0.339309 &  1.000188 \\\\\n",
      "   842 &  5.081362 &  1.000000e-06 &  6.584793e-07 &  0.227754 &  0.322791 &  0.999969 \\\\\n",
      "  1120 &  5.081359 &  1.000000e-07 &  4.550593e-09 &  0.298223 &  0.322769 &  0.999972 \\\\\n",
      "  3416 &  5.081359 &  1.000000e-08 &  9.030682e-09 &  0.890367 &  0.322733 &  1.000000 \\\\\n",
      "  4217 &  5.081359 &  1.000000e-09 &  8.442370e-10 &  1.102721 &  0.322733 &  1.000000 \\\\\n",
      "  4550 &  5.081359 &  1.000000e-10 &  1.365681e-11 &  1.192673 &  0.322733 &  1.000000 \\\\\n",
      "  6882 &  5.081359 &  1.000000e-11 &  8.131651e-12 &  1.797972 &  0.322733 &  1.000000 \\\\\n",
      "  9679 &  5.081359 &  1.000000e-12 &  1.307440e-13 &  2.430404 &  0.322733 &  1.000000 \\\\\n",
      " 11011 &  5.081359 &  1.000000e-13 &  8.879409e-14 &  2.732732 &  0.322733 &  1.000000 \\\\\n",
      " 11078 &  5.081359 &  1.000000e-14 &  5.593328e-15 &  2.747780 &  0.322733 &  1.000000 \\\\\n",
      " 14009 &  5.081359 &  1.000000e-15 &  0.000000e+00 &  3.405562 &  0.322733 &  1.000000 \\\\\n",
      "\\bottomrule\n",
      "\\end{tabular}\n",
      "\n"
     ]
    }
   ],
   "source": [
    "df_critical = pd.DataFrame.from_dict(every_critical)\n",
    "df_critical.to_pickle(out_folder+'Critical.pkl') # To read back use pd.read_pickle(file_name)\n",
    "df_critical.to_excel(out_folder+'Critical.xlsx')\n",
    "display(df_critical)\n",
    "\n",
    "# If we want this table in LaTeX format run:\n",
    "print(df_critical.to_latex(index=False))"
   ]
  },
  {
   "cell_type": "code",
   "execution_count": 54,
   "metadata": {
    "code_folding": [
     1
    ]
   },
   "outputs": [
    {
     "data": {
      "text/html": [
       "<div>\n",
       "<style scoped>\n",
       "    .dataframe tbody tr th:only-of-type {\n",
       "        vertical-align: middle;\n",
       "    }\n",
       "\n",
       "    .dataframe tbody tr th {\n",
       "        vertical-align: top;\n",
       "    }\n",
       "\n",
       "    .dataframe thead th {\n",
       "        text-align: right;\n",
       "    }\n",
       "</style>\n",
       "<table border=\"1\" class=\"dataframe\">\n",
       "  <thead>\n",
       "    <tr style=\"text-align: right;\">\n",
       "      <th></th>\n",
       "      <th>it</th>\n",
       "      <th>obj</th>\n",
       "      <th>dist_obj</th>\n",
       "      <th>time</th>\n",
       "      <th>dist_x</th>\n",
       "      <th>rel_var</th>\n",
       "      <th>l_1</th>\n",
       "      <th>hyperₘ-L2</th>\n",
       "      <th>hyperₘ-max</th>\n",
       "      <th>hyperₘ-min</th>\n",
       "      <th>hyperₙ-L2</th>\n",
       "      <th>hyperₙ-max</th>\n",
       "      <th>hyperₙ-min</th>\n",
       "    </tr>\n",
       "  </thead>\n",
       "  <tbody>\n",
       "    <tr>\n",
       "      <th>0</th>\n",
       "      <td>0</td>\n",
       "      <td>0.0</td>\n",
       "      <td>1.0</td>\n",
       "      <td>0.000307</td>\n",
       "      <td>1.0</td>\n",
       "      <td>NaN</td>\n",
       "      <td>0.0</td>\n",
       "      <td>1.0</td>\n",
       "      <td>1.0</td>\n",
       "      <td>1.0</td>\n",
       "      <td>1.0</td>\n",
       "      <td>1.0</td>\n",
       "      <td>1.0</td>\n",
       "    </tr>\n",
       "    <tr>\n",
       "      <th>1</th>\n",
       "      <td>1</td>\n",
       "      <td>0.0</td>\n",
       "      <td>1.0</td>\n",
       "      <td>0.000617</td>\n",
       "      <td>1.0</td>\n",
       "      <td>NaN</td>\n",
       "      <td>0.0</td>\n",
       "      <td>1.0</td>\n",
       "      <td>1.0</td>\n",
       "      <td>1.0</td>\n",
       "      <td>1.0</td>\n",
       "      <td>1.0</td>\n",
       "      <td>1.0</td>\n",
       "    </tr>\n",
       "    <tr>\n",
       "      <th>2</th>\n",
       "      <td>2</td>\n",
       "      <td>0.0</td>\n",
       "      <td>1.0</td>\n",
       "      <td>0.000900</td>\n",
       "      <td>1.0</td>\n",
       "      <td>NaN</td>\n",
       "      <td>0.0</td>\n",
       "      <td>1.0</td>\n",
       "      <td>1.0</td>\n",
       "      <td>1.0</td>\n",
       "      <td>1.0</td>\n",
       "      <td>1.0</td>\n",
       "      <td>1.0</td>\n",
       "    </tr>\n",
       "    <tr>\n",
       "      <th>3</th>\n",
       "      <td>3</td>\n",
       "      <td>0.0</td>\n",
       "      <td>1.0</td>\n",
       "      <td>0.001183</td>\n",
       "      <td>1.0</td>\n",
       "      <td>NaN</td>\n",
       "      <td>0.0</td>\n",
       "      <td>1.0</td>\n",
       "      <td>1.0</td>\n",
       "      <td>1.0</td>\n",
       "      <td>1.0</td>\n",
       "      <td>1.0</td>\n",
       "      <td>1.0</td>\n",
       "    </tr>\n",
       "    <tr>\n",
       "      <th>4</th>\n",
       "      <td>4</td>\n",
       "      <td>0.0</td>\n",
       "      <td>1.0</td>\n",
       "      <td>0.001449</td>\n",
       "      <td>1.0</td>\n",
       "      <td>NaN</td>\n",
       "      <td>0.0</td>\n",
       "      <td>1.0</td>\n",
       "      <td>1.0</td>\n",
       "      <td>1.0</td>\n",
       "      <td>1.0</td>\n",
       "      <td>1.0</td>\n",
       "      <td>1.0</td>\n",
       "    </tr>\n",
       "  </tbody>\n",
       "</table>\n",
       "</div>"
      ],
      "text/plain": [
       "   it  obj  dist_obj      time  dist_x  rel_var  l_1  hyperₘ-L2  hyperₘ-max  \\\n",
       "0   0  0.0       1.0  0.000307     1.0      NaN  0.0        1.0         1.0   \n",
       "1   1  0.0       1.0  0.000617     1.0      NaN  0.0        1.0         1.0   \n",
       "2   2  0.0       1.0  0.000900     1.0      NaN  0.0        1.0         1.0   \n",
       "3   3  0.0       1.0  0.001183     1.0      NaN  0.0        1.0         1.0   \n",
       "4   4  0.0       1.0  0.001449     1.0      NaN  0.0        1.0         1.0   \n",
       "\n",
       "   hyperₘ-min  hyperₙ-L2  hyperₙ-max  hyperₙ-min  \n",
       "0         1.0        1.0         1.0         1.0  \n",
       "1         1.0        1.0         1.0         1.0  \n",
       "2         1.0        1.0         1.0         1.0  \n",
       "3         1.0        1.0         1.0         1.0  \n",
       "4         1.0        1.0         1.0         1.0  "
      ]
     },
     "metadata": {},
     "output_type": "display_data"
    }
   ],
   "source": [
    "#df_every = pd.DataFrame.from_dict(every_iter)\n",
    "df_every = pd.concat([\n",
    "                pd.DataFrame.from_dict( {a:b for a,b in every_iter.items() if a not in ['hyperₘ', 'hyperₙ'] } ),\n",
    "                pd.DataFrame.from_dict( {'hyperₘ-'+a:b for a,b in every_iter['hyperₘ'].items()} ), \n",
    "                pd.DataFrame.from_dict( {'hyperₙ-'+a:b for a,b in every_iter['hyperₙ'].items()} )], axis = 1)\n",
    "df_every.to_pickle(out_folder+'Every.pkl') # To read back use pd.read_pickle(file_name)\n",
    "df_every.to_excel(out_folder+'Every.xlsx')\n",
    "display(df_every.head())"
   ]
  },
  {
   "cell_type": "code",
   "execution_count": 55,
   "metadata": {},
   "outputs": [
    {
     "data": {
      "text/html": [
       "<div>\n",
       "<style scoped>\n",
       "    .dataframe tbody tr th:only-of-type {\n",
       "        vertical-align: middle;\n",
       "    }\n",
       "\n",
       "    .dataframe tbody tr th {\n",
       "        vertical-align: top;\n",
       "    }\n",
       "\n",
       "    .dataframe thead th {\n",
       "        text-align: right;\n",
       "    }\n",
       "</style>\n",
       "<table border=\"1\" class=\"dataframe\">\n",
       "  <thead>\n",
       "    <tr style=\"text-align: right;\">\n",
       "      <th></th>\n",
       "      <th>it</th>\n",
       "      <th>obj</th>\n",
       "      <th>dist_obj</th>\n",
       "      <th>time</th>\n",
       "      <th>dist_x</th>\n",
       "      <th>rel_var</th>\n",
       "      <th>l_1</th>\n",
       "      <th>hyperₘ-L2</th>\n",
       "      <th>hyperₘ-max</th>\n",
       "      <th>hyperₘ-min</th>\n",
       "      <th>hyperₙ-L2</th>\n",
       "      <th>hyperₙ-max</th>\n",
       "      <th>hyperₙ-min</th>\n",
       "    </tr>\n",
       "  </thead>\n",
       "  <tbody>\n",
       "    <tr>\n",
       "      <th>count</th>\n",
       "      <td>14010.000000</td>\n",
       "      <td>14010.000000</td>\n",
       "      <td>1.401000e+04</td>\n",
       "      <td>14010.000000</td>\n",
       "      <td>14010.000000</td>\n",
       "      <td>1.400300e+04</td>\n",
       "      <td>14010.000000</td>\n",
       "      <td>1.401000e+04</td>\n",
       "      <td>1.401000e+04</td>\n",
       "      <td>1.401000e+04</td>\n",
       "      <td>1.401000e+04</td>\n",
       "      <td>1.401000e+04</td>\n",
       "      <td>1.401000e+04</td>\n",
       "    </tr>\n",
       "    <tr>\n",
       "      <th>mean</th>\n",
       "      <td>7004.500000</td>\n",
       "      <td>5.071890</td>\n",
       "      <td>1.890637e-03</td>\n",
       "      <td>1.767095</td>\n",
       "      <td>0.325597</td>\n",
       "      <td>6.385470e-04</td>\n",
       "      <td>0.998070</td>\n",
       "      <td>2.352175e-03</td>\n",
       "      <td>1.510176e-02</td>\n",
       "      <td>7.087064e-04</td>\n",
       "      <td>2.311648e-03</td>\n",
       "      <td>9.472900e-03</td>\n",
       "      <td>7.206741e-04</td>\n",
       "    </tr>\n",
       "    <tr>\n",
       "      <th>std</th>\n",
       "      <td>4044.482971</td>\n",
       "      <td>0.168221</td>\n",
       "      <td>3.310398e-02</td>\n",
       "      <td>0.982835</td>\n",
       "      <td>0.033838</td>\n",
       "      <td>1.449589e-02</td>\n",
       "      <td>0.033649</td>\n",
       "      <td>3.382292e-02</td>\n",
       "      <td>1.121229e-01</td>\n",
       "      <td>2.509272e-02</td>\n",
       "      <td>3.382078e-02</td>\n",
       "      <td>8.467442e-02</td>\n",
       "      <td>2.545499e-02</td>\n",
       "    </tr>\n",
       "    <tr>\n",
       "      <th>min</th>\n",
       "      <td>0.000000</td>\n",
       "      <td>0.000000</td>\n",
       "      <td>0.000000e+00</td>\n",
       "      <td>0.000307</td>\n",
       "      <td>0.322492</td>\n",
       "      <td>3.056362e-14</td>\n",
       "      <td>0.000000</td>\n",
       "      <td>7.518683e-14</td>\n",
       "      <td>1.446959e-12</td>\n",
       "      <td>0.000000e+00</td>\n",
       "      <td>6.930545e-14</td>\n",
       "      <td>6.049050e-13</td>\n",
       "      <td>0.000000e+00</td>\n",
       "    </tr>\n",
       "    <tr>\n",
       "      <th>25%</th>\n",
       "      <td>3502.250000</td>\n",
       "      <td>5.081359</td>\n",
       "      <td>2.586294e-11</td>\n",
       "      <td>0.913386</td>\n",
       "      <td>0.322733</td>\n",
       "      <td>7.528359e-11</td>\n",
       "      <td>1.000000</td>\n",
       "      <td>2.261364e-10</td>\n",
       "      <td>1.483112e-09</td>\n",
       "      <td>4.944831e-12</td>\n",
       "      <td>2.450115e-10</td>\n",
       "      <td>2.303840e-09</td>\n",
       "      <td>2.201695e-12</td>\n",
       "    </tr>\n",
       "    <tr>\n",
       "      <th>50%</th>\n",
       "      <td>7004.500000</td>\n",
       "      <td>5.081359</td>\n",
       "      <td>3.630689e-09</td>\n",
       "      <td>1.830059</td>\n",
       "      <td>0.322733</td>\n",
       "      <td>1.075215e-08</td>\n",
       "      <td>1.000000</td>\n",
       "      <td>3.287569e-08</td>\n",
       "      <td>2.221965e-07</td>\n",
       "      <td>5.924812e-10</td>\n",
       "      <td>3.534928e-08</td>\n",
       "      <td>3.159324e-07</td>\n",
       "      <td>8.031149e-10</td>\n",
       "    </tr>\n",
       "    <tr>\n",
       "      <th>75%</th>\n",
       "      <td>10506.750000</td>\n",
       "      <td>5.081359</td>\n",
       "      <td>5.565566e-07</td>\n",
       "      <td>2.619164</td>\n",
       "      <td>0.322733</td>\n",
       "      <td>1.712423e-06</td>\n",
       "      <td>1.000000</td>\n",
       "      <td>5.199473e-06</td>\n",
       "      <td>3.900638e-05</td>\n",
       "      <td>9.781441e-08</td>\n",
       "      <td>5.546006e-06</td>\n",
       "      <td>5.004439e-05</td>\n",
       "      <td>9.429113e-08</td>\n",
       "    </tr>\n",
       "    <tr>\n",
       "      <th>max</th>\n",
       "      <td>14009.000000</td>\n",
       "      <td>5.104322</td>\n",
       "      <td>1.000000e+00</td>\n",
       "      <td>3.405562</td>\n",
       "      <td>1.003342</td>\n",
       "      <td>1.000000e+00</td>\n",
       "      <td>1.004226</td>\n",
       "      <td>1.000000e+00</td>\n",
       "      <td>1.000000e+00</td>\n",
       "      <td>1.000000e+00</td>\n",
       "      <td>1.000000e+00</td>\n",
       "      <td>1.000000e+00</td>\n",
       "      <td>1.000000e+00</td>\n",
       "    </tr>\n",
       "  </tbody>\n",
       "</table>\n",
       "</div>"
      ],
      "text/plain": [
       "                 it           obj      dist_obj          time        dist_x  \\\n",
       "count  14010.000000  14010.000000  1.401000e+04  14010.000000  14010.000000   \n",
       "mean    7004.500000      5.071890  1.890637e-03      1.767095      0.325597   \n",
       "std     4044.482971      0.168221  3.310398e-02      0.982835      0.033838   \n",
       "min        0.000000      0.000000  0.000000e+00      0.000307      0.322492   \n",
       "25%     3502.250000      5.081359  2.586294e-11      0.913386      0.322733   \n",
       "50%     7004.500000      5.081359  3.630689e-09      1.830059      0.322733   \n",
       "75%    10506.750000      5.081359  5.565566e-07      2.619164      0.322733   \n",
       "max    14009.000000      5.104322  1.000000e+00      3.405562      1.003342   \n",
       "\n",
       "            rel_var           l_1     hyperₘ-L2    hyperₘ-max    hyperₘ-min  \\\n",
       "count  1.400300e+04  14010.000000  1.401000e+04  1.401000e+04  1.401000e+04   \n",
       "mean   6.385470e-04      0.998070  2.352175e-03  1.510176e-02  7.087064e-04   \n",
       "std    1.449589e-02      0.033649  3.382292e-02  1.121229e-01  2.509272e-02   \n",
       "min    3.056362e-14      0.000000  7.518683e-14  1.446959e-12  0.000000e+00   \n",
       "25%    7.528359e-11      1.000000  2.261364e-10  1.483112e-09  4.944831e-12   \n",
       "50%    1.075215e-08      1.000000  3.287569e-08  2.221965e-07  5.924812e-10   \n",
       "75%    1.712423e-06      1.000000  5.199473e-06  3.900638e-05  9.781441e-08   \n",
       "max    1.000000e+00      1.004226  1.000000e+00  1.000000e+00  1.000000e+00   \n",
       "\n",
       "          hyperₙ-L2    hyperₙ-max    hyperₙ-min  \n",
       "count  1.401000e+04  1.401000e+04  1.401000e+04  \n",
       "mean   2.311648e-03  9.472900e-03  7.206741e-04  \n",
       "std    3.382078e-02  8.467442e-02  2.545499e-02  \n",
       "min    6.930545e-14  6.049050e-13  0.000000e+00  \n",
       "25%    2.450115e-10  2.303840e-09  2.201695e-12  \n",
       "50%    3.534928e-08  3.159324e-07  8.031149e-10  \n",
       "75%    5.546006e-06  5.004439e-05  9.429113e-08  \n",
       "max    1.000000e+00  1.000000e+00  1.000000e+00  "
      ]
     },
     "execution_count": 55,
     "metadata": {},
     "output_type": "execute_result"
    }
   ],
   "source": [
    "df_every.describe()"
   ]
  },
  {
   "cell_type": "code",
   "execution_count": 56,
   "metadata": {},
   "outputs": [],
   "source": [
    "# Finally, store the latest solution:\n",
    "np.save(out_folder + '_Sol.npy' , x)            # To read back just run:   np.load(outfile)"
   ]
  },
  {
   "cell_type": "markdown",
   "metadata": {},
   "source": [
    "---\n",
    "Code used to do performance tests in each piece of code:\n",
    "```Python\n",
    "start = time.time()\n",
    "# ...\n",
    "end = time.time()\n",
    "print(end-start)\n",
    "\n",
    "%timeit -r 10 -n 200 `function(x)`\n",
    "```"
   ]
  },
  {
   "cell_type": "markdown",
   "metadata": {},
   "source": [
    "Not much of a speedup for interpolation:\n",
    "```Python\n",
    "@jit(nopython=True, fastmath = True)\n",
    "def interp(xₖ,x, yₖ,y, ρ):\n",
    "    return ρ*xₖ + (1 - ρ)*x, ρ*yₖ + (1 - ρ)*y\n",
    "\n",
    "xₖ, yₖ, x, y = ones((4,M,N)); ρ = 1.9\n",
    "interp(xₖ,x, yₖ,y, ρ); # Run it once\n",
    "```"
   ]
  },
  {
   "cell_type": "markdown",
   "metadata": {},
   "source": [
    "---"
   ]
  }
 ],
 "metadata": {
  "kernelspec": {
   "display_name": "Python 3",
   "language": "python",
   "name": "python3"
  },
  "language_info": {
   "codemirror_mode": {
    "name": "ipython",
    "version": 3
   },
   "file_extension": ".py",
   "mimetype": "text/x-python",
   "name": "python",
   "nbconvert_exporter": "python",
   "pygments_lexer": "ipython3",
   "version": "3.7.13"
  },
  "nbTranslate": {
   "displayLangs": [
    "*"
   ],
   "hotkey": "alt-t",
   "langInMainMenu": true,
   "sourceLang": "en",
   "targetLang": "fr",
   "useGoogleTranslate": true
  }
 },
 "nbformat": 4,
 "nbformat_minor": 2
}
