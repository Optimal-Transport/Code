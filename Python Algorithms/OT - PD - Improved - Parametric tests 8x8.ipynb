{
 "cells": [
  {
   "cell_type": "markdown",
   "metadata": {},
   "source": [
    "# Primal Dual to solve Discrete Optimal Transport"
   ]
  },
  {
   "cell_type": "markdown",
   "metadata": {},
   "source": [
    "<div class=\"alert alert-block alert-success\">\n",
    "    \n",
    "This notebook we aim at solving DOT instances using modern optimisation algorithms that outperform the simplex method. To do this we will use the Primal Dual framework. \n",
    "    \n",
    "The notebook is divided in three parts. First, Condat's projection into the ℓ<sub>1</sub> ball algorithm is implemented. Second, the algorithm is used to find feasible solutions of DOT. Finally, the Primal Dual algorithm is tested. The results are automatically stored with an unique identifier and some performance plots are presented.\n",
    "</div>\n",
    "\n",
    "* Laurent Condat. <i>Fast projection onto the simplex and the ℓ<sub>1</sub> ball</i>. Math. Program. 158, 575–585 (2016). [https://doi.org/10.1007/s10107-015-0946-6](https://doi.org/10.1007/s10107-015-0946-6). _Also available at_ [https://hal.archives-ouvertes.fr/hal-01056171v2](https://hal.archives-ouvertes.fr/hal-01056171v2).\n",
    "\n",
    "\n",
    "\n",
    "* V ̃u, B. (2011). <i>A splitting algorithm for dual monotone inclusions involving cocoercive operators </i>. Adv. Comput. Math, pages 667–681. [https://doi.org/10.1007/s10444-011-9254-8](https://doi.org/10.1007/s10444-011-9254-8)."
   ]
  },
  {
   "cell_type": "markdown",
   "metadata": {},
   "source": [
    "<div class=\"alert alert-block alert-info\">\n",
    "Packages\n",
    "</div>"
   ]
  },
  {
   "cell_type": "code",
   "execution_count": 1,
   "metadata": {},
   "outputs": [],
   "source": [
    "import numpy  as np\n",
    "import pandas as pd\n",
    "import time\n",
    "import os\n",
    "import matplotlib.pyplot as plt\n",
    "\n",
    "# Particular functions\n",
    "from numpy import zeros, zeros_like, allclose, where, ones, inf, absolute, linspace, maximum, minimum\n",
    "from numpy import asarray, add, subtract\n",
    "from numpy.random import default_rng as rng\n",
    "from numba import jit\n",
    "from scipy.spatial.distance import cdist\n",
    "from scipy.linalg import norm\n",
    "from numpy.polynomial.chebyshev import chebpts1"
   ]
  },
  {
   "cell_type": "markdown",
   "metadata": {},
   "source": [
    "# Algorithm"
   ]
  },
  {
   "cell_type": "markdown",
   "metadata": {},
   "source": [
    "Now, we will run the Primal Dual algorithm addapted for DOT. To test it, we will run it against some of the DOTMark files. We will aim to transport from one given image to another, which are normalised and flattened in ```C```-order. The matrix of costs is based on a uniform grid within $[0,1]^2$ with $M$ points for the source and $N$ points for the target."
   ]
  },
  {
   "cell_type": "markdown",
   "metadata": {
    "heading_collapsed": true
   },
   "source": [
    "## Instance information"
   ]
  },
  {
   "cell_type": "code",
   "execution_count": 2,
   "metadata": {
    "hidden": true
   },
   "outputs": [],
   "source": [
    "folder = 'Microscopy_Sized'\n",
    "path = 'Exact/' + folder + '/'"
   ]
  },
  {
   "cell_type": "code",
   "execution_count": 3,
   "metadata": {
    "hidden": true
   },
   "outputs": [
    {
     "name": "stdout",
     "output_type": "stream",
     "text": [
      "There are 4 instances in this location:\n"
     ]
    },
    {
     "data": {
      "text/plain": [
       "['data16_1002-data16_1010_p=S2',\n",
       " 'data8_1002-data8_1010_p=S2',\n",
       " 'data32_1002-data32_1010_p=S2',\n",
       " 'data64_1002-data64_1010_p=S2']"
      ]
     },
     "metadata": {},
     "output_type": "display_data"
    }
   ],
   "source": [
    "files = [f[:-9] for f in os.listdir(path) if f.endswith('.txt')]\n",
    "print('There are', len(files), 'instances in this location:')\n",
    "display(files)"
   ]
  },
  {
   "cell_type": "markdown",
   "metadata": {
    "hidden": true
   },
   "source": [
    "Select one instance:"
   ]
  },
  {
   "cell_type": "code",
   "execution_count": 4,
   "metadata": {
    "hidden": true
   },
   "outputs": [],
   "source": [
    "instance = files[1]\n",
    "full_path = path + instance"
   ]
  },
  {
   "cell_type": "markdown",
   "metadata": {
    "hidden": true
   },
   "source": [
    "Load data:"
   ]
  },
  {
   "cell_type": "code",
   "execution_count": 5,
   "metadata": {
    "hidden": true
   },
   "outputs": [],
   "source": [
    "m = np.load(full_path + '_m.npy');    M = m.size\n",
    "n = np.load(full_path + '_n.npy');    N = n.size\n",
    "c = np.load(full_path + '_Cost.npy')\n",
    "sol = np.load(full_path + '_Sol.npy')"
   ]
  },
  {
   "cell_type": "code",
   "execution_count": 6,
   "metadata": {
    "hidden": true
   },
   "outputs": [],
   "source": [
    "with open(full_path + '_Time.txt', 'r') as f:\n",
    "    obj_exact = eval((f.readlines())[0])['Obj']"
   ]
  },
  {
   "cell_type": "markdown",
   "metadata": {
    "heading_collapsed": true
   },
   "source": [
    "## Run algorithm"
   ]
  },
  {
   "cell_type": "markdown",
   "metadata": {
    "hidden": true
   },
   "source": [
    "<div class=\"alert alert-block alert-warning\">\n",
    "    \n",
    "In what follows, we provide tests for the chosen instance running the Primal Dual approach given by Bằng Công Vũ (2011). The projection operator is based on the one presented in Mai et al (2021).\n",
    "    \n",
    "    \n",
    "* Bằng Công Vũ (2011). <i>A splitting algorithm for dual monotone inclusions involving cocoercive operators</i>. Adv. Comput. Math, pages 667–681. [https://doi.org/10.1007/s10444-011-9254-8](https://doi.org/10.1007/s10444-011-9254-8).\n",
    "    \n",
    "* Vien V. Mai, Jacob Lindbäck, Mikael Johansson. (2021). <i>A Fast and Accurate Splitting Method for Optimal Transport: Analysis and Implementation</i>. arXiV preprint. [https://doi.org/10.48550/arXiv.2110.11738](https://doi.org/10.48550/arXiv.2110.11738).\n",
    "</div>"
   ]
  },
  {
   "cell_type": "markdown",
   "metadata": {
    "hidden": true
   },
   "source": [
    "Let $\\mathcal{X}$ be the following set of real-valued matrices with prescribed row and column sums; i.e.,\n",
    "$\n",
    "    \\mathcal{X} := \n",
    "    \\big\\{\n",
    "        u \\in \\mathbb{R}^{M\\times N}:\\,   u \\mathbb{1}_N = m \n",
    "        \\,\\,\\text{ and }\\,\\,\n",
    "        \\mathbb{1}_M u = n\n",
    "    \\big\\}\n",
    "$;\n",
    "where $\\mathbb{1}_s$ is a vector of ones of size $s$.\n",
    "\n",
    "In the framework of Problem 4.1 from (Vũ, 2011), we will identify $\\hat m = 1$, $ \\mathcal{H} = \\mathcal{G} = \\mathbb{R}^{M\\times N}$, $z = 0$, $\\omega = 1$, $r = 0$, $L = \\mathrm{I}_{M\\times N}$. Moreover, we identify $f  = \\imath_{\\mathbb{R}_{\\geq 0}}$, $\\ell  = \\imath_{ \\{0\\} }$, $g = \\imath_{\\mathcal{X}}$, and $h$ as the doble contraction product with $c$.\n",
    "\n",
    "In this context, we have that $h(x) =c:x $ is $\\infty$-Lipschitz differentiable, and $g \\square \\ell = g$."
   ]
  },
  {
   "cell_type": "markdown",
   "metadata": {
    "hidden": true
   },
   "source": [
    "<div style=\"background-color:rgba(0, 0, 0, 0.0470588); vertical-align: middle; padding:5px 0; padding-left: 40px;\">\n",
    "<h2 style=\"color: #5e9ca0;\">Bằng Công Vũ's Algorithm</h2>\n",
    "<ol>\n",
    "<li>Set $\\tau, \\sigma \\in \\mathbb{R}_+$ such that $\\tau \\sigma < 1$\n",
    "<li>Set $\\rho \\in (0,2)$</li>\n",
    "<li>For $k \\in \\{1,\\ldots, K\\}$, do\n",
    "<ol>\n",
    "<li>$p_k = \\mathrm{prox}_{\\tau f} \\big( x_k - \\tau ( \\nabla h(x_k) + y_k ) \\big)$\n",
    "<li>$u_k = 2 p_k - x_k$\n",
    "<div style=\"color: #088A68;\">\n",
    "// Dual step //\n",
    "</div>\n",
    "<li>$q_k = \\mathrm{prox}_{\\sigma g^*} ( y_k + \\sigma u_k) = ( y_k + \\sigma u_k) - \\sigma\\, \\mathrm{prox}_{g}( \\sigma^{-1} y_k + u_k)$\n",
    "<div style=\"color: #088A68;\">\n",
    "// Inertia step //\n",
    "</div>\n",
    "<li>$x_{k+1} = \\rho p_k + (1-\\rho) x_k$\n",
    "<li>$y_{k+1} = \\rho q_k + (1-\\rho) y_k$\n",
    "</div>"
   ]
  },
  {
   "cell_type": "markdown",
   "metadata": {
    "hidden": true
   },
   "source": [
    "Now, the proximal of $g$ is the projection on $\\mathcal{X}$, which is of the form $\\mathrm{proj}_{\\mathcal{X}}(u) = u - G(u)$, where $G$ is known. \n",
    "\n",
    "As a result\n",
    "\\begin{align}\n",
    "    q_k &= (y_k + \\sigma u_k) - \\sigma \\big(\\sigma^{-1}y_k + u_k - G(\\sigma^{-1} y_k + u_k)\\big)\n",
    "    \\\\\n",
    "    &= (y_k + \\sigma u_k) - (y_k + \\sigma u_k) + \\sigma G(\\sigma^{-1} y_k + u_k)\\big)\n",
    "    \\\\\n",
    "    &= \\sigma G(\\sigma^{-1} y_k + u_k)\\big)\n",
    "\\end{align}\n",
    "Another way to see this is by instead defining $u_k = \\sigma^{-1} y_k + 2p_k - x_k$. Here it is straightfoward that\n",
    "\\begin{align}\n",
    "    q_k &= \\mathrm{prox}_{\\sigma g^*} ( \\sigma u_k ) = \\sigma u_k - \\sigma \\mathrm{prox}_{g} ( u_k) = \\sigma G(u_k).\n",
    "\\end{align}\n",
    "This gives rise to the following adapted algorithm:"
   ]
  },
  {
   "cell_type": "markdown",
   "metadata": {
    "hidden": true
   },
   "source": [
    "<div style=\"background-color:rgba(0, 0, 0, 0.0470588); vertical-align: middle; padding:5px 0; padding-left: 40px;\">\n",
    "<h2 style=\"color: #5e9ca0;\">Bằng Công Vũ's Algorithm for OT</h2>\n",
    "<ol>\n",
    "<li>Set $\\tau, \\sigma \\in \\mathbb{R}_+$ such that $\\tau \\sigma < 1$\n",
    "<li>Set $\\rho \\in (0,2)$</li>\n",
    "<li>For $k \\in \\{1,\\ldots, K\\}$, do\n",
    "<ol>\n",
    "<li>$p_k = [x_k - \\tau (c + y_k)]_+$\n",
    "<li>$u_k = \\sigma^{-1} y_k + 2 p_k - x_k$\n",
    "<div style=\"color: #088A68;\">\n",
    "// Projection onto the set of real-valued matrices with prescribed row and column sums //\n",
    "</div>\n",
    "<li>$\\kappa_1 = u_k\\mathbb{1}_{N} - m$\n",
    "<li>$\\beta_1 = \\langle \\kappa_1, \\mathbb{1}_M \\rangle \\big/ (M+N)$\n",
    "<li>$\\kappa_2 = \\mathbb{1}_{M}u_k - n$\n",
    "<li>$\\beta_2 = \\langle \\kappa_2, \\mathbb{1}_N \\rangle \\big/ (M+N)$\n",
    "<li>$q_k = \\sigma \\big( \\frac{1}{N}(\\kappa_1 - \\beta_1)\\mathbb{1}_{N}^\\top + \\frac{1}{M} \\mathbb{1}_{M}( \\kappa_2 - \\beta_2 )^\\top \\big) $\n",
    "<div style=\"color: #088A68;\">\n",
    "// Inertia step //\n",
    "</div>\n",
    "<li>$x_{k+1} = \\rho p_k + (1-\\rho) x_k$\n",
    "<li>$y_{k+1} = \\rho q_k + (1-\\rho) y_k$\n",
    "</div>"
   ]
  },
  {
   "cell_type": "code",
   "execution_count": 7,
   "metadata": {
    "cell_style": "center",
    "code_folding": [
     0,
     52,
     56,
     67,
     74,
     118,
     125,
     145,
     175,
     179
    ],
    "hidden": true
   },
   "outputs": [],
   "source": [
    "def primal_dual_improved(c,m,n,iters, collect_obj = False, true_obj = None, \n",
    "                         true_obj_tol = 1e-4, true_solution = None, save_iter = False, \n",
    "                         guess_x = None,  guess_y = None, show = False,\n",
    "                         τ = 1e-3 * 1.9, σ = 1.0/(1e-3 * 1.9) - 1e-5, ρ = 1.9):\n",
    "    # Algorithm for calculating solution x, in the primal space\n",
    "    # and y = [ψ, ϕ] in the dual space.\n",
    "    # Also returns the value of the objective function c*x at each\n",
    "    # iteration.\n",
    "    \n",
    "    '''\n",
    "        Initialise parameters\n",
    "    '''\n",
    "    # Initialise τ\n",
    "    #τ = 1e-3 * 1.9\n",
    "    \n",
    "    # Initialise σ\n",
    "    #σ = 1.0/τ - 1e-5\n",
    "    \n",
    "    # Initialise ρ\n",
    "    #ρ = 1.9 #- 1e-4 # this helped in 8x8 but not for bigger colour instances\n",
    "    \n",
    "    # Fetch lengths of m and n\n",
    "    N = n.size\n",
    "    M = m.size\n",
    "\n",
    "    if show:\n",
    "        print('\\n*** Primal Dual with M = {}, N = {}, MN = {} ***\\n\\n'.format(M,N,M*N))\n",
    "    \n",
    "    \n",
    "    '''\n",
    "        Initialise matrices\n",
    "    '''\n",
    "    # Initialise x & y\n",
    "    if guess_x is not None:\n",
    "        x = guess_x.copy()\n",
    "    elif guess_y is not None:\n",
    "        ψ, ϕ = y.copy()\n",
    "    else:\n",
    "        x = zeros((M,N));\n",
    "        ϕ = zeros(M);\n",
    "        ψ = zeros(N);\n",
    "        \n",
    "    #Initialise p, y, u, κ\n",
    "    κₘ, yₘ = zeros((2,M))\n",
    "    κₙ, yₙ = zeros((2,N))\n",
    "    p, u = ones((2,M,N));\n",
    "    \n",
    "    \n",
    "    '''\n",
    "        Information from true solution (if available)\n",
    "    '''\n",
    "    # Store current objective value\n",
    "    if collect_obj == True:\n",
    "        obj = [ (c*x).sum() ]\n",
    "    \n",
    "    # Norm of true solution\n",
    "    if true_solution is not None:\n",
    "        true_obj_crit = 1.0\n",
    "        if true_obj is None:\n",
    "            true_obj = (c*sol).sum()\n",
    "        if show:\n",
    "            print('Objective from ground truth:', obj_exact,'\\n')\n",
    "        \n",
    "    '''\n",
    "        Iterate the Primal Dual scheme\n",
    "    '''\n",
    "    \n",
    "    every_iter = {\n",
    "        'it':[], 'obj':[], 'dist_obj':[], 'time':[], 'dist_x':[], 'rel_var':[], 'l_1':[],\n",
    "        'hyperₘ':{'L2': [], 'max': [], 'min':[]}, 'hyperₙ':{'L2': [], 'max': [], 'min':[]}\n",
    "                 }\n",
    "    every_critical = {'it':[], 'obj':[], 'tol':[], 'dist_obj':[], 'time':[], 'dist_x':[], 'l_1':[]}\n",
    "    \n",
    "    if true_solution is not None:\n",
    "        if show:\n",
    "            print('     It  | Tolerance |  obj dist |    Time    | ‖x-x*‖_F |  ‖x‖_1  ')\n",
    "            print( '{:-^66}'.format('') )\n",
    "        \n",
    "    timed = 0.0\n",
    "    \n",
    "    for k in range(iters):\n",
    "        it_time = time.time()\n",
    "        \n",
    "        # ** Primal step ** #\n",
    "        # p = x - τ * (c + y)\n",
    "        add(c,ψ, out=p);    add(p,ϕ.reshape(M,1), out=p);    subtract(x, τ*p, out=p)\n",
    "        # [p]_+\n",
    "        maximum(p, 0.0, p)\n",
    "\n",
    "        # ** Dual step ** #\n",
    "        # u = y/σ + 2.0*xₖ - x\n",
    "        subtract(2.0*p, x, out=u);    add(u,ψ/σ, out=u);    add(u,ϕ.reshape(M,1)/σ, out=u)\n",
    "\n",
    "        # Projection step\n",
    "        κₘ = u.sum(1) - m\n",
    "        κₙ = u.sum(0) - n\n",
    "\n",
    "        βₘ = κₘ.sum() / (M + N)        # dim M\n",
    "        βₙ = κₙ.sum() / (M + N)        # dim N\n",
    "\n",
    "        # Implicit yₖ = ( (κₘ - βₘ)*σ/N).reshape(M,1) + σ*(κₙ - βₙ)/M\n",
    "        yₘ = (ρ*σ/N) * (κₘ - βₘ)\n",
    "        yₙ = (ρ*σ/M) * (κₙ - βₙ)\n",
    "\n",
    "        # ** Inertia ** #\n",
    "        x *= 1-ρ;   p *= ρ;     x += p\n",
    "        ϕ *= 1-ρ;   ϕ += yₘ\n",
    "        ψ *= 1-ρ;   ψ += yₙ\n",
    "        \n",
    "        \n",
    "        # Measure time up to this point!\n",
    "        end = time.time()\n",
    "        timed += end - it_time\n",
    "        \n",
    "        # Recover values from mask\n",
    "        ℓ_1 = norm(x.ravel(),1)\n",
    "        \n",
    "        # Update objective function\n",
    "        if collect_obj == True:\n",
    "            obj.append( (c*x).sum() )\n",
    "            # Compute relative objective distance\n",
    "            if true_solution is not None:\n",
    "                dist_true_sol = abs(obj[-1] - true_obj)/true_obj\n",
    "        \n",
    "        # If all iterations are to be stored:\n",
    "        if save_iter == True:\n",
    "            frob_d = norm(sol-x, 'fro')/norm(sol, 'fro')\n",
    "            r, s   = x.sum(1) - m, x.sum(0) - n\n",
    "            \n",
    "            every_iter['it'].append( k )\n",
    "            every_iter['obj'].append( (c*x).sum() )\n",
    "            every_iter['dist_obj'].append( dist_true_sol if true_obj is not None else np.nan )\n",
    "            every_iter['time'].append( timed )\n",
    "            every_iter['dist_x'].append( frob_d )\n",
    "            every_iter['rel_var'].append( norm(xₚ-x, 'fro')/norm(x, 'fro') if not allclose(x,0) else np.nan )\n",
    "            every_iter['l_1'].append(ℓ_1)\n",
    "            # Constrained satisfactibility\n",
    "            every_iter['hyperₘ']['L2'].append( norm(r)/norm(m) )\n",
    "            every_iter['hyperₘ']['max'].append( abs(r/maximum(m,1e-7)).max() )\n",
    "            every_iter['hyperₘ']['min'].append( abs(r/maximum(m,1e-7)).min() )\n",
    "            every_iter['hyperₙ']['L2'].append( norm(s)/norm(n) )\n",
    "            every_iter['hyperₙ']['max'].append( abs(s/maximum(n,1e-7)).max() )\n",
    "            every_iter['hyperₙ']['min'].append( abs(s/maximum(n,1e-7)).min() )\n",
    "            \n",
    "        # If a true solution is available, we check the tolerance:\n",
    "        if true_solution is not None: \n",
    "            if dist_true_sol < true_obj_crit:\n",
    "                frob_d = norm(sol-x, 'fro')/norm(sol, 'fro')\n",
    "                \n",
    "                every_critical['it'].append( k )\n",
    "                every_critical['obj'].append( obj[-1] )\n",
    "                every_critical['tol'].append( true_obj_crit )\n",
    "                every_critical['dist_obj'].append( dist_true_sol )\n",
    "                every_critical['time'].append( timed )\n",
    "                every_critical['dist_x'].append( frob_d )\n",
    "                every_critical['l_1'].append(ℓ_1)\n",
    "\n",
    "                if show:\n",
    "                    print('* {0:6.0f} |   {1:.1e} |  {2:1.1e}  | {3:8.2f} s |   {4:4.4f} |  {5:4.4f}'.format(k,\n",
    "                                                                            true_obj_crit,\n",
    "                                                                            dist_true_sol,\n",
    "                                                                            timed,frob_d,ℓ_1))\n",
    "                \n",
    "                # If the prescribed tolerance is reached, we finish.\n",
    "                if dist_true_sol < true_obj_tol:\n",
    "                    if show:\n",
    "                        print('Solution found with given tolerance.')\n",
    "                    break\n",
    "                \n",
    "                # Adjust current level of inner tolerance\n",
    "                true_obj_crit *= 0.1\n",
    "        \n",
    "        # Update previous step\n",
    "        xₚ = x.copy()\n",
    "                \n",
    "    if true_solution is not None:\n",
    "        if show:\n",
    "            print( '{:-^66}'.format('') )\n",
    "\n",
    "    if show:\n",
    "        print('\\nAlgorithm stopped after {0:.4f} seconds and {1} iterations'.format(timed,k))\n",
    "    \n",
    "    y = asarray([ψ, ϕ],dtype='object')\n",
    "    \n",
    "    if collect_obj == False and save_iter == True:\n",
    "        return x, y, every_iter\n",
    "    if collect_obj == True and save_iter == True:\n",
    "        return x, y, obj, every_critical, every_iter\n",
    "    else:\n",
    "        return x"
   ]
  },
  {
   "cell_type": "code",
   "execution_count": 8,
   "metadata": {
    "code_folding": [
     0
    ],
    "hidden": true,
    "scrolled": true
   },
   "outputs": [
    {
     "name": "stdout",
     "output_type": "stream",
     "text": [
      "\n",
      "*** Primal Dual with M = 64, N = 64, MN = 4096 ***\n",
      "\n",
      "\n",
      "Objective from ground truth: 0.016271821448840373 \n",
      "\n",
      "     It  | Tolerance |  obj dist |    Time    | ‖x-x*‖_F |  ‖x‖_1  \n",
      "------------------------------------------------------------------\n",
      "*      4 |   1.0e+00 |  5.6e-01  |     0.00 s |   0.8888 |  1.1784\n",
      "*      6 |   1.0e-01 |  5.9e-02  |     0.00 s |   0.8619 |  1.0856\n",
      "*    327 |   1.0e-02 |  9.8e-03  |     0.01 s |   0.3478 |  0.9997\n",
      "*    445 |   1.0e-03 |  9.1e-04  |     0.02 s |   0.3268 |  1.0005\n",
      "*    723 |   1.0e-04 |  6.3e-05  |     0.03 s |   0.3111 |  0.9999\n",
      "*    724 |   1.0e-05 |  4.7e-06  |     0.03 s |   0.3111 |  0.9999\n",
      "*   1203 |   1.0e-06 |  6.7e-07  |     0.05 s |   0.3110 |  1.0000\n",
      "*   1241 |   1.0e-07 |  2.6e-08  |     0.05 s |   0.3110 |  1.0001\n",
      "Solution found with given tolerance.\n",
      "------------------------------------------------------------------\n",
      "\n",
      "Algorithm stopped after 0.0472 seconds and 1241 iterations\n"
     ]
    }
   ],
   "source": [
    "x, y, obj, every_critical, every_iter = primal_dual_improved(c,m,n, 2000, collect_obj = True, \n",
    "                                                             true_obj = obj_exact, true_obj_tol = 1e-7, \n",
    "                                                             true_solution = sol, save_iter = True, show = True)"
   ]
  },
  {
   "cell_type": "code",
   "execution_count": 9,
   "metadata": {
    "hidden": true
   },
   "outputs": [
    {
     "name": "stdout",
     "output_type": "stream",
     "text": [
      "Average time per iteration: 3.8005687572337966e-05\n"
     ]
    }
   ],
   "source": [
    "print('Average time per iteration:',every_iter['time'][-1]/len(every_iter['time']))"
   ]
  },
  {
   "cell_type": "markdown",
   "metadata": {},
   "source": [
    "## Parametric tests"
   ]
  },
  {
   "cell_type": "markdown",
   "metadata": {},
   "source": [
    "We want to perform a series of tests for different values of $\\tau$, $\\sigma$, and $\\rho$. These belong to the following parameter set\n",
    "\\begin{align}\n",
    "    \\Theta := \\big\\{ (\\tau,\\sigma,\\rho):\\, \\tau \\sigma < 1, \\tau>0, \\sigma > 0, \\,\\,\\text{ and }\\,\\, \\rho \\in (0,2) \\big\\}.\n",
    "\\end{align}\n",
    "We observe that $\\Theta$ is just the cross product between the positive points under the curve $(\\cdot)^{-1}$ (let us denote this set as $\\Theta_1$) and an open interval ($\\Theta_2$). As a result, to numerically study the effects of these parameters, we will create a mesh for both sets. In this setting $\\Theta_2$ will have a standard equispaced discretisation of $\\ell_\\rho \\in \\mathbb{N}$ points:\n",
    "\\begin{align}\n",
    "    \\Theta_2 \\approx \\big\\{ {2k} \\big/{(\\ell_\\rho+1)}:\\, k \\in [ 1,\\ell_\\rho ]  \\big\\}\n",
    "\\end{align}\n",
    "or a spectral grid considering that values close to the endpoints of the interval often result in good results for the algorithm:\n",
    "\\begin{align}\n",
    "    \\Theta_2 \\approx \\big\\{ 1 + \\cos \\big( \\pi {(2k + 1)} \\big/ {2\\ell_\\rho} \\big) :\\, k \\in [ 0,\\ell_\\rho-1 ]  \\big\\}.\n",
    "\\end{align}\n",
    "\n",
    "In contrast, for $\\Theta_1$ we will consider a discretisation given by equispaced points in $\\tau$ and their functional transformation by a family of hyperbolas in the form $r_c(\\tau) = c \\tau^{-1}$, which are \"equispaced\" along the line segment between $(0,0)$ and $(1,1)$. Namely, let $M>0$, $\\ell_\\tau, \\ell_\\sigma \\in \\mathbb{N}$, and\n",
    "\\begin{align}\n",
    "    T &:= \\big\\{ {Mk} \\big/{\\ell_\\tau}:\\, k \\in [ 1,\\ell_\\tau] \\big\\},\n",
    "    \\\\\n",
    "    E &:= \\big\\{ {k} \\big/{(\\ell_\\sigma+1)}:\\, k \\in [ 1,\\ell_\\sigma] \\big\\}.\n",
    "\\end{align}\n",
    "Using this, the familiy of hyperbolas we will use is completely described by $c = e^2$ with $e \\in E$. Then every choice of $\\sigma$ will be given by the image of $r_c(\\tau)$ for all $\\tau \\in T$. This can be described as\n",
    "\\begin{align}\n",
    "    \\Theta_1 \\approx \\big\\{ (\\tau,\\sigma):\\, \\tau \\in T\\,\\,\\text{ and } \\,\\, \\sigma = e^2 \\tau^{-1} \\, \\forall e\\in E \\big\\}.\n",
    "\\end{align}"
   ]
  },
  {
   "cell_type": "markdown",
   "metadata": {},
   "source": [
    "However, this might result in few large values of $\\sigma$ but large values of $\\tau$ will be considered. As an alternative, we can symmetrice the points in $\\Theta_1$ with respect to the identity function."
   ]
  },
  {
   "cell_type": "code",
   "execution_count": 10,
   "metadata": {},
   "outputs": [],
   "source": [
    "ℓ_ρ = 30\n",
    "ℓ_τ = 50\n",
    "ℓ_σ = 12    # Not many needed\n",
    "M = 100     # Plot below done with 5\n",
    "\n",
    "Θ_2 = chebpts1(ℓ_ρ) + 1            #linspace(0,2,ℓ_ρ+2)[1:-1]\n",
    "T   = linspace(0,M,ℓ_τ+1)[1:]\n",
    "E   = linspace(0,1,ℓ_σ+2)[1:-1]"
   ]
  },
  {
   "cell_type": "code",
   "execution_count": 11,
   "metadata": {},
   "outputs": [],
   "source": [
    "A = ((E**2)[..., np.newaxis] * T**-1)\n",
    "Aᵢ = where(A<T,A,np.nan).T"
   ]
  },
  {
   "cell_type": "code",
   "execution_count": 12,
   "metadata": {
    "code_folding": [
     0
    ]
   },
   "outputs": [
    {
     "data": {
      "image/png": "[encoded data removed]",
      "text/plain": [
       "<Figure size 1440x540 with 1 Axes>"
      ]
     },
     "metadata": {
      "needs_background": "light"
     },
     "output_type": "display_data"
    }
   ],
   "source": [
    "# Visualise discretisation\n",
    "plt.figure(figsize = (20,7.5))\n",
    "\n",
    "#plt.spy(x, markersize=1, aspect = 1, markeredgecolor = 'black', alpha=0.75);\n",
    "plt.title('Symmetric discretisation of Θ_2')\n",
    "plt.plot(T,Aᵢ,'+')\n",
    "plt.plot(Aᵢ,T,'+')\n",
    "plt.plot([0,5],[0,5],':',c='black')\n",
    "\n",
    "plt.show()"
   ]
  },
  {
   "cell_type": "code",
   "execution_count": 13,
   "metadata": {},
   "outputs": [],
   "source": [
    "DAᵢ = {T[t]: Aᵢ[t][~np.isnan(Aᵢ[t])].tolist() for t in range(T.size)}"
   ]
  },
  {
   "cell_type": "code",
   "execution_count": 14,
   "metadata": {},
   "outputs": [],
   "source": [
    "DSᵢ = {(a,c) for a,b in DAᵢ.items() for c in b if len(b)>0}\n",
    "DSⱼ = {(b,a) for (a,b) in DSᵢ}\n",
    "DSₖ = {(a,a) for a in A[A==T].tolist()}"
   ]
  },
  {
   "cell_type": "code",
   "execution_count": 15,
   "metadata": {},
   "outputs": [],
   "source": [
    "Θ_1 = DSᵢ | DSⱼ | DSₖ"
   ]
  },
  {
   "cell_type": "markdown",
   "metadata": {},
   "source": [
    "We are additionally interested in testing what happens when we scale $c$ by a parameter $\\gamma$. For this we will consider the numerical range $\\gamma \\in [10^{-3},2]$. As there is no direct knowledge on the effect of this scaling, we will consider an uniform grid added the point $\\gamma=1$ for comparison."
   ]
  },
  {
   "cell_type": "code",
   "execution_count": 16,
   "metadata": {},
   "outputs": [],
   "source": [
    "ℓ_γ = 32\n",
    "Θ_3 = linspace(1e-3,6.0,ℓ_γ-1)\n",
    "Θ_3 = asarray(sorted(Θ_3.tolist() + [1.0]))"
   ]
  },
  {
   "cell_type": "code",
   "execution_count": 18,
   "metadata": {
    "scrolled": true
   },
   "outputs": [
    {
     "name": "stdout",
     "output_type": "stream",
     "text": [
      "(48.000, 0.018)\n",
      "(0.001, 90.000)\n",
      "(0.000, 22.000)\n",
      "(0.009, 92.000)\n",
      "(12.000, 0.004)\n",
      "(0.017, 50.000)\n",
      "(0.001, 22.000)\n",
      "(0.011, 54.000)\n",
      "(24.000, 0.000)\n",
      "(0.004, 56.000)\n",
      "(0.010, 28.000)\n",
      "(76.000, 0.006)\n",
      "(4.000, 0.024)\n",
      "(10.000, 0.002)\n",
      "(0.003, 56.000)\n",
      "(0.030, 20.000)\n",
      "(0.008, 26.000)\n",
      "(84.000, 0.000)\n",
      "(0.017, 28.000)\n",
      "(52.000, 0.004)\n",
      "(0.000, 48.000)\n",
      "(0.010, 48.000)\n",
      "(14.000, 0.002)\n",
      "(24.000, 0.025)\n",
      "(0.002, 78.000)\n",
      "(22.000, 0.013)\n",
      "(6.000, 0.119)\n",
      "(0.000, 80.000)\n",
      "(44.000, 0.007)\n",
      "(0.002, 86.000)\n",
      "(26.000, 0.006)\n",
      "(0.007, 68.000)\n",
      "(20.000, 0.019)\n",
      "(42.000, 0.000)\n",
      "(4.000, 0.213)\n",
      "(0.012, 32.000)\n",
      "(92.000, 0.009)\n",
      "(0.001, 28.000)\n",
      "(64.000, 0.013)\n",
      "(26.000, 0.001)\n",
      "(60.000, 0.010)\n",
      "(64.000, 0.007)\n",
      "(90.000, 0.004)\n",
      "(0.022, 22.000)\n",
      "(6.000, 0.016)\n",
      "(0.061, 14.000)\n",
      "(0.034, 14.000)\n",
      "(38.000, 0.004)\n",
      "(0.021, 34.000)\n",
      "(0.038, 10.000)\n",
      "(38.000, 0.022)\n",
      "(0.000, 76.000)\n",
      "(60.000, 0.000)\n",
      "(0.007, 52.000)\n",
      "(0.005, 30.000)\n",
      "(66.000, 0.006)\n",
      "(22.000, 0.027)\n",
      "(0.000, 68.000)\n",
      "(0.027, 8.000)\n",
      "(0.001, 82.000)\n",
      "(0.008, 46.000)\n",
      "(86.000, 0.002)\n",
      "(74.000, 0.002)\n",
      "(44.000, 0.001)\n",
      "(0.119, 6.000)\n",
      "(14.000, 0.004)\n",
      "(60.000, 0.002)\n",
      "(46.000, 0.016)\n",
      "(34.000, 0.009)\n",
      "(0.001, 32.000)\n",
      "(0.004, 38.000)\n",
      "(10.000, 0.029)\n",
      "(0.000, 52.000)\n",
      "(0.004, 90.000)\n",
      "(0.009, 56.000)\n",
      "(0.001, 88.000)\n",
      "(46.000, 0.001)\n",
      "(0.000, 86.000)\n",
      "(96.000, 0.002)\n",
      "(0.005, 94.000)\n",
      "(0.005, 64.000)\n",
      "(0.022, 32.000)\n",
      "(42.000, 0.001)\n",
      "(0.015, 48.000)\n",
      "(0.001, 96.000)\n",
      "(68.000, 0.001)\n",
      "(18.000, 0.005)\n",
      "(0.000, 72.000)\n",
      "(20.000, 0.011)\n",
      "(78.000, 0.006)\n",
      "(0.006, 50.000)\n",
      "(8.000, 0.012)\n",
      "(16.000, 0.006)\n",
      "(0.009, 40.000)\n",
      "(0.002, 74.000)\n",
      "(20.000, 0.036)\n",
      "(0.037, 4.000)\n",
      "(0.004, 92.000)\n",
      "(8.000, 0.060)\n",
      "(0.003, 84.000)\n",
      "(42.000, 0.009)\n",
      "(10.000, 0.005)\n",
      "(0.010, 88.000)\n",
      "(18.000, 0.021)\n",
      "(84.000, 0.000)\n",
      "(14.000, 0.027)\n",
      "(64.000, 0.001)\n",
      "(0.008, 38.000)\n",
      "(92.000, 0.002)\n",
      "(0.042, 14.000)\n",
      "(26.000, 0.018)\n",
      "(0.026, 28.000)\n",
      "(0.005, 56.000)\n",
      "(52.000, 0.006)\n",
      "(62.000, 0.001)\n",
      "(32.000, 0.009)\n",
      "(0.002, 88.000)\n",
      "(24.000, 0.016)\n",
      "(34.000, 0.002)\n",
      "(18.000, 0.008)\n",
      "(0.000, 66.000)\n",
      "(92.000, 0.003)\n",
      "(64.000, 0.011)\n",
      "(84.000, 0.001)\n",
      "(84.000, 0.003)\n",
      "(0.002, 54.000)\n",
      "(0.005, 18.000)\n",
      "(0.002, 26.000)\n",
      "(26.000, 0.028)\n",
      "(0.010, 22.000)\n",
      "(6.000, 0.004)\n",
      "(0.006, 34.000)\n",
      "(68.000, 0.003)\n",
      "(0.016, 44.000)\n",
      "(76.000, 0.001)\n",
      "(0.017, 42.000)\n",
      "(84.000, 0.009)\n",
      "(0.000, 36.000)\n",
      "(0.148, 4.000)\n",
      "(0.019, 44.000)\n",
      "(0.007, 66.000)\n",
      "(48.000, 0.010)\n",
      "(68.000, 0.013)\n",
      "(38.000, 0.016)\n",
      "(78.000, 0.000)\n",
      "(40.000, 0.012)\n",
      "(0.002, 30.000)\n",
      "(26.000, 0.008)\n",
      "(0.036, 24.000)\n",
      "(72.000, 0.003)\n",
      "(30.000, 0.005)\n",
      "(0.039, 22.000)\n",
      "(0.001, 84.000)\n",
      "(0.001, 48.000)\n",
      "(52.000, 0.009)\n",
      "(98.000, 0.006)\n",
      "(24.000, 0.006)\n",
      "(0.024, 4.000)\n",
      "(0.001, 68.000)\n",
      "(0.002, 98.000)\n",
      "(4.000, 0.006)\n",
      "(0.021, 10.000)\n",
      "(0.040, 12.000)\n",
      "(38.000, 0.008)\n",
      "(0.005, 20.000)\n",
      "(0.000, 58.000)\n",
      "(54.000, 0.000)\n",
      "(32.000, 0.015)\n",
      "(0.010, 46.000)\n",
      "(0.012, 60.000)\n",
      "(0.009, 94.000)\n",
      "(0.006, 46.000)\n",
      "(70.000, 0.004)\n",
      "(30.000, 0.020)\n",
      "(24.000, 0.036)\n",
      "(98.000, 0.000)\n",
      "(0.005, 46.000)\n",
      "(0.010, 70.000)\n",
      "(0.015, 10.000)\n",
      "(72.000, 0.010)\n",
      "(92.000, 0.001)\n",
      "(26.000, 0.002)\n",
      "(0.000, 42.000)\n",
      "(96.000, 0.000)\n",
      "(0.003, 62.000)\n",
      "(86.000, 0.002)\n",
      "(28.000, 0.005)\n",
      "(34.000, 0.011)\n",
      "(0.017, 22.000)\n",
      "(0.003, 32.000)\n",
      "(0.021, 28.000)\n",
      "(86.000, 0.000)\n",
      "(40.000, 0.009)\n",
      "(0.011, 66.000)\n",
      "(4.000, 0.148)\n",
      "(32.000, 0.002)\n",
      "(0.002, 40.000)\n",
      "(82.000, 0.000)\n",
      "(0.004, 40.000)\n",
      "(24.000, 0.030)\n",
      "(0.008, 62.000)\n",
      "(74.000, 0.008)\n",
      "(0.095, 4.000)\n",
      "(0.005, 96.000)\n",
      "(0.014, 50.000)\n",
      "(12.000, 0.032)\n",
      "(80.000, 0.000)\n",
      "(0.007, 22.000)\n",
      "(0.000, 52.000)\n",
      "(0.013, 36.000)\n",
      "(94.000, 0.003)\n",
      "(58.000, 0.010)\n",
      "(0.002, 28.000)\n",
      "(2.000, 0.145)\n",
      "(0.006, 86.000)\n",
      "(0.000, 60.000)\n",
      "(90.000, 0.001)\n",
      "(44.000, 0.000)\n",
      "(0.007, 20.000)\n",
      "(0.009, 6.000)\n",
      "(0.003, 36.000)\n",
      "(0.011, 52.000)\n",
      "(0.001, 64.000)\n",
      "(0.072, 4.000)\n",
      "(0.120, 4.000)\n",
      "(100.000, 0.000)\n",
      "(0.033, 26.000)\n",
      "(0.002, 82.000)\n",
      "(14.000, 0.061)\n",
      "(0.003, 30.000)\n",
      "(0.071, 12.000)\n",
      "(0.013, 56.000)\n",
      "(42.000, 0.011)\n",
      "(0.000, 100.000)\n",
      "(0.036, 6.000)\n",
      "(72.000, 0.004)\n",
      "(70.000, 0.008)\n",
      "(36.000, 0.004)\n",
      "(0.007, 32.000)\n",
      "(0.012, 24.000)\n",
      "–––––––––––\n",
      "\n",
      "Time spent: 169785.535\n"
     ]
    }
   ],
   "source": [
    "it = 0\n",
    "Collector = []\n",
    "# For each triplet, store #iterations, smallest objective distance, time spent\n",
    "Start = time.time()\n",
    "for τ,σ in iter(Θ_1):\n",
    "    for ρ in Θ_2:\n",
    "        for γ in Θ_3:\n",
    "            _, _, _, _, every_iter = primal_dual_improved(γ*(c+1.0), m,n, 1250, collect_obj = True, \n",
    "                                                        true_obj = γ*(obj_exact+1.0), true_obj_tol = 1e-7, \n",
    "                                                   true_solution = sol, save_iter = True, τ=τ,σ=σ, ρ=ρ)\n",
    "            Collector.append( [τ,σ,ρ,γ,every_iter['it'][-1], \n",
    "                               asarray(every_iter['dist_obj']).min(), every_iter['time'][-1]] )\n",
    "        \n",
    "    it +=1\n",
    "    if it % 5 == 0:\n",
    "        print('({0:.3f}, {1:.3f})'.format(τ,σ))\n",
    "        #break\n",
    "End = time.time()\n",
    "print('–––––––––––\\n\\nTime spent: {0:.3f}'.format( abs(End-Start) ))"
   ]
  },
  {
   "cell_type": "code",
   "execution_count": 19,
   "metadata": {},
   "outputs": [],
   "source": [
    "main_folder = folder + '_Results'\n",
    "out_folder  = main_folder + '/' + instance\n",
    "algorithm   = 'PD_Improved'"
   ]
  },
  {
   "cell_type": "code",
   "execution_count": 20,
   "metadata": {},
   "outputs": [],
   "source": [
    "df_collected = pd.DataFrame(Collector)\n",
    "df_collected.columns = ['τ','σ','ρ','γ','its','dist_obj','time']\n",
    "#df_collected.to_csv(out_folder+'Critical_(τ,σ,ρ,γ).csv')\n",
    "df_collected.to_csv(out_folder+'Critical_(τ,σ,ρ,γ).csv.gz',compression='gzip')"
   ]
  },
  {
   "cell_type": "code",
   "execution_count": 21,
   "metadata": {},
   "outputs": [
    {
     "data": {
      "text/html": [
       "<div>\n",
       "<style scoped>\n",
       "    .dataframe tbody tr th:only-of-type {\n",
       "        vertical-align: middle;\n",
       "    }\n",
       "\n",
       "    .dataframe tbody tr th {\n",
       "        vertical-align: top;\n",
       "    }\n",
       "\n",
       "    .dataframe thead th {\n",
       "        text-align: right;\n",
       "    }\n",
       "</style>\n",
       "<table border=\"1\" class=\"dataframe\">\n",
       "  <thead>\n",
       "    <tr style=\"text-align: right;\">\n",
       "      <th></th>\n",
       "      <th>τ</th>\n",
       "      <th>σ</th>\n",
       "      <th>ρ</th>\n",
       "      <th>γ</th>\n",
       "      <th>its</th>\n",
       "      <th>dist_obj</th>\n",
       "      <th>time</th>\n",
       "    </tr>\n",
       "  </thead>\n",
       "  <tbody>\n",
       "    <tr>\n",
       "      <th>count</th>\n",
       "      <td>1.152000e+06</td>\n",
       "      <td>1.152000e+06</td>\n",
       "      <td>1.152000e+06</td>\n",
       "      <td>1.152000e+06</td>\n",
       "      <td>1.152000e+06</td>\n",
       "      <td>1.152000e+06</td>\n",
       "      <td>1.152000e+06</td>\n",
       "    </tr>\n",
       "    <tr>\n",
       "      <th>mean</th>\n",
       "      <td>2.550721e+01</td>\n",
       "      <td>2.550721e+01</td>\n",
       "      <td>1.000000e+00</td>\n",
       "      <td>2.937984e+00</td>\n",
       "      <td>1.246270e+03</td>\n",
       "      <td>6.016231e-01</td>\n",
       "      <td>5.005433e-02</td>\n",
       "    </tr>\n",
       "    <tr>\n",
       "      <th>std</th>\n",
       "      <td>3.265553e+01</td>\n",
       "      <td>3.265553e+01</td>\n",
       "      <td>7.071071e-01</td>\n",
       "      <td>1.794470e+00</td>\n",
       "      <td>3.603370e+01</td>\n",
       "      <td>4.610440e-01</td>\n",
       "      <td>1.760259e-03</td>\n",
       "    </tr>\n",
       "    <tr>\n",
       "      <th>min</th>\n",
       "      <td>5.917160e-05</td>\n",
       "      <td>5.917160e-05</td>\n",
       "      <td>1.370465e-03</td>\n",
       "      <td>1.000000e-03</td>\n",
       "      <td>4.900000e+01</td>\n",
       "      <td>1.651477e-11</td>\n",
       "      <td>2.014160e-03</td>\n",
       "    </tr>\n",
       "    <tr>\n",
       "      <th>25%</th>\n",
       "      <td>5.437351e-03</td>\n",
       "      <td>5.437351e-03</td>\n",
       "      <td>2.928932e-01</td>\n",
       "      <td>1.350775e+00</td>\n",
       "      <td>1.249000e+03</td>\n",
       "      <td>7.957844e-03</td>\n",
       "      <td>4.956174e-02</td>\n",
       "    </tr>\n",
       "    <tr>\n",
       "      <th>50%</th>\n",
       "      <td>1.213018e+00</td>\n",
       "      <td>1.213018e+00</td>\n",
       "      <td>1.000000e+00</td>\n",
       "      <td>2.900517e+00</td>\n",
       "      <td>1.249000e+03</td>\n",
       "      <td>1.000000e+00</td>\n",
       "      <td>5.014563e-02</td>\n",
       "    </tr>\n",
       "    <tr>\n",
       "      <th>75%</th>\n",
       "      <td>5.050000e+01</td>\n",
       "      <td>5.050000e+01</td>\n",
       "      <td>1.707107e+00</td>\n",
       "      <td>4.450258e+00</td>\n",
       "      <td>1.249000e+03</td>\n",
       "      <td>1.000000e+00</td>\n",
       "      <td>5.054235e-02</td>\n",
       "    </tr>\n",
       "    <tr>\n",
       "      <th>max</th>\n",
       "      <td>1.000000e+02</td>\n",
       "      <td>1.000000e+02</td>\n",
       "      <td>1.998630e+00</td>\n",
       "      <td>6.000000e+00</td>\n",
       "      <td>1.249000e+03</td>\n",
       "      <td>1.000000e+00</td>\n",
       "      <td>1.583889e-01</td>\n",
       "    </tr>\n",
       "  </tbody>\n",
       "</table>\n",
       "</div>"
      ],
      "text/plain": [
       "                  τ             σ             ρ             γ           its  \\\n",
       "count  1.152000e+06  1.152000e+06  1.152000e+06  1.152000e+06  1.152000e+06   \n",
       "mean   2.550721e+01  2.550721e+01  1.000000e+00  2.937984e+00  1.246270e+03   \n",
       "std    3.265553e+01  3.265553e+01  7.071071e-01  1.794470e+00  3.603370e+01   \n",
       "min    5.917160e-05  5.917160e-05  1.370465e-03  1.000000e-03  4.900000e+01   \n",
       "25%    5.437351e-03  5.437351e-03  2.928932e-01  1.350775e+00  1.249000e+03   \n",
       "50%    1.213018e+00  1.213018e+00  1.000000e+00  2.900517e+00  1.249000e+03   \n",
       "75%    5.050000e+01  5.050000e+01  1.707107e+00  4.450258e+00  1.249000e+03   \n",
       "max    1.000000e+02  1.000000e+02  1.998630e+00  6.000000e+00  1.249000e+03   \n",
       "\n",
       "           dist_obj          time  \n",
       "count  1.152000e+06  1.152000e+06  \n",
       "mean   6.016231e-01  5.005433e-02  \n",
       "std    4.610440e-01  1.760259e-03  \n",
       "min    1.651477e-11  2.014160e-03  \n",
       "25%    7.957844e-03  4.956174e-02  \n",
       "50%    1.000000e+00  5.014563e-02  \n",
       "75%    1.000000e+00  5.054235e-02  \n",
       "max    1.000000e+00  1.583889e-01  "
      ]
     },
     "execution_count": 21,
     "metadata": {},
     "output_type": "execute_result"
    }
   ],
   "source": [
    "df_collected.describe()"
   ]
  },
  {
   "cell_type": "markdown",
   "metadata": {},
   "source": [
    "---"
   ]
  }
 ],
 "metadata": {
  "kernelspec": {
   "display_name": "Python 3",
   "language": "python",
   "name": "python3"
  },
  "language_info": {
   "codemirror_mode": {
    "name": "ipython",
    "version": 3
   },
   "file_extension": ".py",
   "mimetype": "text/x-python",
   "name": "python",
   "nbconvert_exporter": "python",
   "pygments_lexer": "ipython3",
   "version": "3.7.6"
  },
  "nbTranslate": {
   "displayLangs": [
    "*"
   ],
   "hotkey": "alt-t",
   "langInMainMenu": true,
   "sourceLang": "en",
   "targetLang": "fr",
   "useGoogleTranslate": true
  }
 },
 "nbformat": 4,
 "nbformat_minor": 2
}
