{
 "cells": [
  {
   "cell_type": "markdown",
   "metadata": {},
   "source": [
    "# A Linear Programming Model for Optimal Transport "
   ]
  },
  {
   "cell_type": "markdown",
   "metadata": {},
   "source": [
    "<div class=\"alert alert-block alert-success\">\n",
    "$\\newcommand{\\R}{\\mathbb{R}} \\newcommand{\\Z}{\\mathbb{Z}} \\newcommand{\\N}{\\mathbb{N}} \n",
    "\\newcommand{\\bff}{\\mathbf{f}} \\newcommand{\\bx}{\\mathbf{x}} \n",
    "\\newcommand{\\by}{\\mathbf{y}} \\newcommand{\\bo}{\\mathbb{1}} \\newcommand{\\bJ}{\\mathbf{J}}$\n",
    "In this notebook, we will aim to solve the following optimal transport problem in its linear form:\n",
    "\\begin{align}\n",
    "\\min c^\\top x,\n",
    "\\end{align}\n",
    "subject to\n",
    "\\begin{align}\n",
    "    \\begin{pmatrix} \\mathbb{1}_N^\\top \\otimes I_M \\\\ I_N \\otimes \\mathbb{1}_M^\\top \\end{pmatrix} x &= \n",
    "    \\begin{pmatrix} m \\\\ n \\end{pmatrix},\n",
    "    \\\\\n",
    "    x &\\geq 0;\n",
    "\\end{align}\n",
    "where $x\\in \\R^{M\\times N}$, $m \\in \\R^M$, $n \\in \\R^N$, and $c \\in \\R^{M\\times N}$ is a positive cost vector.\n",
    "</div>"
   ]
  },
  {
   "cell_type": "markdown",
   "metadata": {},
   "source": [
    "<div class=\"alert alert-block alert-info\">\n",
    "The following packages are loaded into the environment. \n",
    "</div>"
   ]
  },
  {
   "cell_type": "code",
   "execution_count": 2,
   "metadata": {},
   "outputs": [],
   "source": [
    "from gurobipy import *\n",
    "import time\n",
    "import numpy as np\n",
    "from numpy         import asarray, indices, double, allclose\n",
    "from pandas        import read_csv\n",
    "from skimage.io    import imread, imshow\n",
    "from scipy.spatial import distance_matrix\n",
    "from scipy.spatial.distance import cdist\n",
    "\n",
    "%matplotlib inline\n",
    "import matplotlib.pyplot as plt\n",
    "import matplotlib.ticker as mticker"
   ]
  },
  {
   "cell_type": "markdown",
   "metadata": {},
   "source": [
    "<div class=\"alert alert-block alert-success\">\n",
    "We can actually solve the original problem with an LP solver that allows indexing:\n",
    "\\begin{align}\n",
    "    \\min c : \\gamma,\n",
    "\\end{align}\n",
    "subject to\n",
    "\\begin{align}\n",
    "    \\sum_{j} \\gamma_{i,j} &= m_i\n",
    "    \\\\\n",
    "    \\sum_{i} \\gamma_{i,j} &= n_j\n",
    "    \\\\\n",
    "    \\gamma_{i,j} &\\geq 0.\n",
    "\\end{align}\n",
    "</div>"
   ]
  },
  {
   "cell_type": "markdown",
   "metadata": {},
   "source": [
    "<div class=\"alert alert-block alert-info\">\n",
    "Here we define the following basic objects:\n",
    "    \n",
    "1. `M` and `N` are the number of points where the measures of `μ` and `ν` are concentrated,\n",
    "2. `c` is the vector of costs.\n",
    "</div>"
   ]
  },
  {
   "cell_type": "code",
   "execution_count": 3,
   "metadata": {},
   "outputs": [],
   "source": [
    "# File names\n",
    "Dir  = '../../DOTmark/Data/MicroscopyImages/'\n",
    "Main = 'Microscopy_Sized/'\n",
    "nomᵤ = 'data256_1002.csv'\n",
    "nomᵥ = 'data256_1010.csv'"
   ]
  },
  {
   "cell_type": "code",
   "execution_count": 4,
   "metadata": {},
   "outputs": [],
   "source": [
    "μ = read_csv(Dir + nomᵤ).values.astype(double);    μ /= μ.max()\n",
    "ν = read_csv(Dir + nomᵥ).values.astype(double);    ν /= ν.max()"
   ]
  },
  {
   "cell_type": "code",
   "execution_count": 84,
   "metadata": {},
   "outputs": [],
   "source": [
    "M = μ.size\n",
    "N = ν.size"
   ]
  },
  {
   "cell_type": "code",
   "execution_count": 85,
   "metadata": {},
   "outputs": [],
   "source": [
    "# Coordinates:\n",
    "Iₘ = (indices(μ.shape)/(asarray(μ.shape)-1)[::,np.newaxis,np.newaxis]).reshape(2,M).T\n",
    "Iₙ = (indices(ν.shape)/(asarray(ν.shape)-1)[::,np.newaxis,np.newaxis]).reshape(2,N).T\n",
    "#Sparse alternatives:    indices(μ.shape, sparse=True)      &      indices(ν.shape, sparse=True)"
   ]
  },
  {
   "cell_type": "code",
   "execution_count": 86,
   "metadata": {},
   "outputs": [],
   "source": [
    "# Cost matrix:\n",
    "c = cdist(Iₘ, Iₙ, 'sqeuclidean')        # Alternative: distance_matrix(Iₘ, Iₙ) ** 2"
   ]
  },
  {
   "cell_type": "code",
   "execution_count": 13,
   "metadata": {},
   "outputs": [],
   "source": [
    "P = {'A': (None,'S2'), 'B': (1,'1'), 'C': (1.5,'1.5'), 'D': (2,'2'), 'E': (4,'4'), 'F': (np.inf,'∞')}\n",
    "test = 'A'"
   ]
  },
  {
   "cell_type": "code",
   "execution_count": 14,
   "metadata": {},
   "outputs": [],
   "source": [
    "p = '_p=' + P[test][1]"
   ]
  },
  {
   "cell_type": "code",
   "execution_count": 9,
   "metadata": {},
   "outputs": [],
   "source": [
    "if test != 'A':        c = cdist(Iₘ, Iₙ, 'minkowski', p = P[test][0])"
   ]
  },
  {
   "cell_type": "code",
   "execution_count": 9,
   "metadata": {},
   "outputs": [],
   "source": [
    "#μ = np.where(μ==0, 1e-4, μ)\n",
    "#ν = np.where(ν==0, 1e-4, ν)"
   ]
  },
  {
   "cell_type": "code",
   "execution_count": 87,
   "metadata": {},
   "outputs": [],
   "source": [
    "m = μ.ravel() / μ.sum()\n",
    "n = ν.ravel() / ν.sum()"
   ]
  },
  {
   "cell_type": "markdown",
   "metadata": {},
   "source": [
    "<div class=\"alert alert-block alert-warning\">\n",
    "Optimisation model\n",
    "</div>"
   ]
  },
  {
   "cell_type": "code",
   "execution_count": 88,
   "metadata": {},
   "outputs": [
    {
     "name": "stdout",
     "output_type": "stream",
     "text": [
      "Freeing default Gurobi environment\n"
     ]
    }
   ],
   "source": [
    "disposeDefaultEnv()"
   ]
  },
  {
   "cell_type": "code",
   "execution_count": 89,
   "metadata": {
    "code_folding": []
   },
   "outputs": [
    {
     "name": "stdout",
     "output_type": "stream",
     "text": [
      "\n",
      "--------------------------------------------\n",
      "Warning: your license will expire in 10 days\n",
      "--------------------------------------------\n",
      "\n",
      "Academic license - for non-commercial use only - expires 2021-10-01\n",
      "Using license file /Users/andy/gurobi.lic\n",
      "0.12197589874267578\n"
     ]
    }
   ],
   "source": [
    "# Model\n",
    "start = time.time()\n",
    "mo = Model()\n",
    "γ  = {}\n",
    "γ = mo.addMVar( (M,N), vtype = 'C', name ='g', obj = c, lb = 0.0)\n",
    "\n",
    "mo.addConstrs( (γ[i,:].sum() == m[i] for i in range(M)), name='m' );\n",
    "mo.addConstrs( (γ[:,j].sum() == n[j] for j in range(N)), name='n');\n",
    "end = time.time()\n",
    "print(end-start)"
   ]
  },
  {
   "cell_type": "code",
   "execution_count": 72,
   "metadata": {},
   "outputs": [],
   "source": [
    "γ.setAttr('obj', c)"
   ]
  },
  {
   "cell_type": "code",
   "execution_count": 90,
   "metadata": {},
   "outputs": [
    {
     "name": "stdout",
     "output_type": "stream",
     "text": [
      "Changed value of parameter IntFeasTol to 1e-09\n",
      "   Prev: 1e-05  Min: 1e-09  Max: 0.1  Default: 1e-05\n",
      "Changed value of parameter FeasibilityTol to 1e-09\n",
      "   Prev: 1e-06  Min: 1e-09  Max: 0.01  Default: 1e-06\n",
      "Changed value of parameter OptimalityTol to 1e-09\n",
      "   Prev: 1e-06  Min: 1e-09  Max: 0.01  Default: 1e-06\n"
     ]
    }
   ],
   "source": [
    "mo.Params.IntFeasTol, mo.Params.FeasibilityTol, mo.Params.OptimalityTol = 1e-9, 1e-9, 1e-9"
   ]
  },
  {
   "cell_type": "code",
   "execution_count": 91,
   "metadata": {
    "code_folding": [],
    "scrolled": true
   },
   "outputs": [
    {
     "name": "stdout",
     "output_type": "stream",
     "text": [
      "Discarded solution information\n",
      "Changed value of parameter Method to 0\n",
      "   Prev: -1  Min: -1  Max: 5  Default: -1\n",
      "Changed value of parameter Presolve to 0\n",
      "   Prev: -1  Min: -1  Max: 2  Default: -1\n",
      "Gurobi Optimizer version 9.1.2 build v9.1.2rc0 (mac64)\n",
      "Thread count: 8 physical cores, 8 logical processors, using up to 8 threads\n",
      "Optimize a model with 128 rows, 4096 columns and 8192 nonzeros\n",
      "Model fingerprint: 0xea510306\n",
      "Coefficient statistics:\n",
      "  Matrix range     [1e+00, 1e+00]\n",
      "  Objective range  [2e-02, 2e+00]\n",
      "  Bounds range     [0e+00, 0e+00]\n",
      "  RHS range        [2e-03, 5e-02]\n",
      "Iteration    Objective       Primal Inf.    Dual Inf.      Time\n",
      "       0    1.3555584e+00   9.837282e-01   3.969004e+09      0s\n",
      "     597    1.6271821e-02   0.000000e+00   0.000000e+00      0s\n",
      "\n",
      "Solved in 597 iterations and 0.01 seconds\n",
      "Optimal objective  1.627182145e-02\n"
     ]
    }
   ],
   "source": [
    "mo.reset();    mo.setParam('Method', 0);    mo.Params.Presolve = 0;    mo.optimize()\n",
    "#?mo.Params.Method"
   ]
  },
  {
   "cell_type": "code",
   "execution_count": 92,
   "metadata": {
    "scrolled": true
   },
   "outputs": [
    {
     "name": "stdout",
     "output_type": "stream",
     "text": [
      "Discarded solution information\n",
      "Changed value of parameter Method to 2\n",
      "   Prev: 0  Min: -1  Max: 5  Default: -1\n",
      "Gurobi Optimizer version 9.1.2 build v9.1.2rc0 (mac64)\n",
      "Thread count: 8 physical cores, 8 logical processors, using up to 8 threads\n",
      "Optimize a model with 128 rows, 4096 columns and 8192 nonzeros\n",
      "Model fingerprint: 0xea510306\n",
      "Coefficient statistics:\n",
      "  Matrix range     [1e+00, 1e+00]\n",
      "  Objective range  [2e-02, 2e+00]\n",
      "  Bounds range     [0e+00, 0e+00]\n",
      "  RHS range        [2e-03, 5e-02]\n",
      "Ordering time: 0.00s\n",
      "\n",
      "Barrier statistics:\n",
      " AA' NZ     : 4.096e+03\n",
      " Factor NZ  : 8.256e+03 (roughly 2 MBytes of memory)\n",
      " Factor Ops : 7.073e+05 (less than 1 second per iteration)\n",
      " Threads    : 1\n",
      "\n",
      "                  Objective                Residual\n",
      "Iter       Primal          Dual         Primal    Dual     Compl     Time\n",
      "   0   1.75890378e+02  0.00000000e+00  6.40e+00 0.00e+00  9.22e-02     0s\n",
      "   1   1.22529475e+01 -5.66548433e-01  4.98e-01 4.44e-16  7.36e-03     0s\n",
      "   2   3.55930706e-01 -4.75221953e-01  4.53e-03 7.77e-16  2.38e-04     0s\n",
      "   3   1.46002891e-01 -3.33058407e-02  2.50e-05 8.88e-16  4.38e-05     0s\n",
      "   4   7.25694549e-02 -1.96417853e-03  3.32e-07 4.44e-16  1.82e-05     0s\n",
      "   5   3.16706368e-02  5.80378164e-03  3.26e-10 3.33e-16  6.32e-06     0s\n",
      "   6   1.97042940e-02  1.39530221e-02  3.16e-11 1.11e-15  1.40e-06     0s\n",
      "   7   1.71367124e-02  1.58704379e-02  7.39e-12 4.44e-16  3.09e-07     0s\n",
      "   8   1.63034315e-02  1.62429380e-02  1.95e-13 4.44e-16  1.48e-08     0s\n",
      "   9   1.62725227e-02  1.62717846e-02  4.49e-14 4.44e-16  1.80e-10     0s\n",
      "  10   1.62718222e-02  1.62718214e-02  4.47e-14 4.44e-16  1.80e-13     0s\n",
      "\n",
      "Barrier solved model in 10 iterations and 0.05 seconds\n",
      "Optimal objective 1.62718222e-02\n",
      "\n",
      "Crossover log...\n",
      "\n",
      "      12 DPushes remaining with DInf 0.0000000e+00                 0s\n",
      "       0 DPushes remaining with DInf 0.0000000e+00                 0s\n",
      "\n",
      "       1 Dual superbasic variables remain\n",
      "\n",
      "      90 PPushes remaining with PInf 0.0000000e+00                 0s\n",
      "       0 PPushes remaining with PInf 0.0000000e+00                 0s\n",
      "\n",
      "  Push phase complete: Pinf 0.0000000e+00, Dinf 5.8980598e-17      0s\n",
      "\n",
      "Iteration    Objective       Primal Inf.    Dual Inf.      Time\n",
      "     104    1.6271821e-02   0.000000e+00   0.000000e+00      0s\n",
      "\n",
      "Solved in 104 iterations and 0.05 seconds\n",
      "Optimal objective  1.627182145e-02\n"
     ]
    }
   ],
   "source": [
    "# Solve with barrier\n",
    "mo.reset();    mo.setParam('Method', 2);    mo.optimize()"
   ]
  },
  {
   "cell_type": "code",
   "execution_count": 93,
   "metadata": {
    "code_folding": []
   },
   "outputs": [],
   "source": [
    "Exact_performance = {\n",
    "    'Builder': '0.12197589874267578',\n",
    "    'Simplex': '597 iterations and 0.01 seconds', \n",
    "    'Barrier': '104 iterations and 0.05 seconds',\n",
    "    'Obj': mo.ObjVal\n",
    "}"
   ]
  },
  {
   "cell_type": "markdown",
   "metadata": {},
   "source": [
    "<div class=\"alert alert-block alert-warning\">\n",
    "Output\n",
    "</div>"
   ]
  },
  {
   "cell_type": "code",
   "execution_count": 95,
   "metadata": {},
   "outputs": [
    {
     "data": {
      "image/png": "[encoded data removed]",
      "text/plain": [
       "<Figure size 360x360 with 1 Axes>"
      ]
     },
     "metadata": {
      "needs_background": "light"
     },
     "output_type": "display_data"
    }
   ],
   "source": [
    "plt.figure(figsize = (5,5))\n",
    "plt.spy(γ.x, markersize=1, aspect = 1, markeredgecolor = 'orange', alpha=0.5);    plt.axis('off')\n",
    "plt.savefig(Main + nomᵤ[:-4] + '-' + nomᵥ[:-4] + p + '_Plot.pdf', bbox_inches='tight',transparent=True)\n",
    "plt.show()"
   ]
  },
  {
   "cell_type": "code",
   "execution_count": 78,
   "metadata": {
    "cell_style": "split"
   },
   "outputs": [
    {
     "data": {
      "image/png": "[encoded data removed]",
      "text/plain": [
       "<Figure size 432x288 with 1 Axes>"
      ]
     },
     "metadata": {
      "needs_background": "light"
     },
     "output_type": "display_data"
    }
   ],
   "source": [
    "plt.imshow(γ.x[:100,:100]);  plt.axis('off');  \n",
    "plt.show()"
   ]
  },
  {
   "cell_type": "code",
   "execution_count": 14,
   "metadata": {
    "cell_style": "split"
   },
   "outputs": [
    {
     "name": "stdout",
     "output_type": "stream",
     "text": [
      "[[0.         0.         0.        ]\n",
      " [0.         0.         0.        ]\n",
      " [0.         0.00064002 0.00030815]\n",
      " [0.         0.         0.        ]\n",
      " [0.         0.         0.        ]\n",
      " [0.         0.         0.        ]\n",
      " [0.         0.         0.        ]\n",
      " [0.         0.         0.        ]\n",
      " [0.         0.         0.        ]\n",
      " [0.         0.         0.        ]\n",
      " [0.         0.         0.        ]\n",
      " [0.         0.         0.        ]\n",
      " [0.         0.         0.        ]]\n"
     ]
    }
   ],
   "source": [
    "print(γ.x[:13,:3])"
   ]
  },
  {
   "cell_type": "markdown",
   "metadata": {},
   "source": [
    "Now we check that the conditional densities coincide:"
   ]
  },
  {
   "cell_type": "code",
   "execution_count": 15,
   "metadata": {},
   "outputs": [
    {
     "data": {
      "text/plain": [
       "(True, True)"
      ]
     },
     "execution_count": 15,
     "metadata": {},
     "output_type": "execute_result"
    }
   ],
   "source": [
    "allclose(γ.x.sum(0), n), allclose(γ.x.sum(1), m)"
   ]
  },
  {
   "cell_type": "code",
   "execution_count": 16,
   "metadata": {
    "cell_style": "split"
   },
   "outputs": [
    {
     "data": {
      "image/png": "[encoded data removed]",
      "text/plain": [
       "<Figure size 432x288 with 1 Axes>"
      ]
     },
     "metadata": {
      "needs_background": "light"
     },
     "output_type": "display_data"
    }
   ],
   "source": [
    "plt.plot( abs(γ.x.sum(0) - n) );    plt.show()"
   ]
  },
  {
   "cell_type": "code",
   "execution_count": 17,
   "metadata": {
    "cell_style": "split",
    "scrolled": true
   },
   "outputs": [
    {
     "data": {
      "image/png": "[encoded data removed]",
      "text/plain": [
       "<Figure size 432x288 with 1 Axes>"
      ]
     },
     "metadata": {
      "needs_background": "light"
     },
     "output_type": "display_data"
    }
   ],
   "source": [
    "plt.plot( abs(γ.x.sum(1) - m) );    plt.show()"
   ]
  },
  {
   "cell_type": "markdown",
   "metadata": {},
   "source": [
    "We can then export our inputs and outputs for comparison:"
   ]
  },
  {
   "cell_type": "code",
   "execution_count": 96,
   "metadata": {},
   "outputs": [],
   "source": [
    "np.save(Main + nomᵤ[:-4] + '-' + nomᵥ[:-4] + p + '_Cost',   c)    # Cost matrix c\n",
    "np.save(Main + nomᵤ[:-4] + '-' + nomᵥ[:-4] + p + '_m'   ,   m)    # Source measure m\n",
    "np.save(Main + nomᵤ[:-4] + '-' + nomᵥ[:-4] + p + '_n'   ,   n)    # Target measure m\n",
    "np.save(Main + nomᵤ[:-4] + '-' + nomᵥ[:-4] + p + '_Sol' , γ.x)    # Source measure m"
   ]
  },
  {
   "cell_type": "code",
   "execution_count": 97,
   "metadata": {},
   "outputs": [],
   "source": [
    "with open(Main + nomᵤ[:-4] + '-' + nomᵥ[:-4] + p + '_Time'+'.txt', 'w') as f:\n",
    "    print(Exact_performance, file=f)"
   ]
  },
  {
   "cell_type": "markdown",
   "metadata": {},
   "source": [
    "---"
   ]
  },
  {
   "cell_type": "markdown",
   "metadata": {},
   "source": [
    "Compress and scale"
   ]
  },
  {
   "cell_type": "code",
   "execution_count": 18,
   "metadata": {},
   "outputs": [],
   "source": [
    "import os, glob\n",
    "import h5py            # pip install -U h5py"
   ]
  },
  {
   "cell_type": "code",
   "execution_count": 25,
   "metadata": {},
   "outputs": [],
   "source": [
    "name = nomᵤ[:-4] + '-' + nomᵥ[:-4] + p + '_Sol'\n",
    "os.mkdir(Main + name)                                     # Create folder\n",
    "hf = h5py.File(Main + name + '/' + name + '.h5', 'w')\n",
    "hf.create_dataset(name, data = γ.x)\n",
    "hf.close()"
   ]
  },
  {
   "cell_type": "code",
   "execution_count": 20,
   "metadata": {},
   "outputs": [],
   "source": [
    "name = nomᵤ[:-4] + '-' + nomᵥ[:-4] + p + '_Cost'\n",
    "os.mkdir(Main + name)                                     # Create folder\n",
    "hf = h5py.File(Main + name + '/' + name + '.h5', 'w')\n",
    "hf.create_dataset(name, data = c)\n",
    "hf.close()"
   ]
  },
  {
   "cell_type": "code",
   "execution_count": 21,
   "metadata": {
    "scrolled": true
   },
   "outputs": [
    {
     "name": "stdout",
     "output_type": "stream",
     "text": [
      "./hdf5_manipulator-master/split.py --input data128_1002-data128_1010_p=S2_Cost/data128_1002-data128_1010_p=S2_Cost.h5 --size 4000\n"
     ]
    }
   ],
   "source": [
    "print('./hdf5_manipulator-master/split.py --input ' + name +'/'+name+'.h5 --size 4000')"
   ]
  },
  {
   "cell_type": "code",
   "execution_count": 6,
   "metadata": {},
   "outputs": [],
   "source": [
    "from skimage.transform import rescale"
   ]
  },
  {
   "cell_type": "code",
   "execution_count": 81,
   "metadata": {},
   "outputs": [],
   "source": [
    "μ = rescale(μ, 0.5)\n",
    "ν = rescale(ν, 0.5)"
   ]
  },
  {
   "cell_type": "code",
   "execution_count": 82,
   "metadata": {},
   "outputs": [
    {
     "data": {
      "text/plain": [
       "((8, 8), (8, 8))"
      ]
     },
     "execution_count": 82,
     "metadata": {},
     "output_type": "execute_result"
    }
   ],
   "source": [
    "μ.shape, ν.shape"
   ]
  },
  {
   "cell_type": "code",
   "execution_count": 83,
   "metadata": {},
   "outputs": [],
   "source": [
    "nomᵤ = 'data8_1002.csv'\n",
    "nomᵥ = 'data8_1010.csv'"
   ]
  },
  {
   "cell_type": "code",
   "execution_count": 29,
   "metadata": {},
   "outputs": [],
   "source": [
    "np.save(Main + nomᵤ[:-4] + '-' + nomᵥ[:-4] + p + '_Cost',   c)    # Cost matrix c\n",
    "np.save(Main + nomᵤ[:-4] + '-' + nomᵥ[:-4] + p + '_m'   ,   m)    # Source measure m\n",
    "np.save(Main + nomᵤ[:-4] + '-' + nomᵥ[:-4] + p + '_n'   ,   n)    # Target measure m"
   ]
  },
  {
   "cell_type": "markdown",
   "metadata": {},
   "source": [
    "---"
   ]
  }
 ],
 "metadata": {
  "kernelspec": {
   "display_name": "Python 3",
   "language": "python",
   "name": "python3"
  },
  "language_info": {
   "codemirror_mode": {
    "name": "ipython",
    "version": 3
   },
   "file_extension": ".py",
   "mimetype": "text/x-python",
   "name": "python",
   "nbconvert_exporter": "python",
   "pygments_lexer": "ipython3",
   "version": "3.7.10"
  }
 },
 "nbformat": 4,
 "nbformat_minor": 4
}
