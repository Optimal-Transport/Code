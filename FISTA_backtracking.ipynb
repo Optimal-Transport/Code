{
 "cells": [
  {
   "cell_type": "markdown",
   "metadata": {
    "id": "XmDIcVuZ9byj"
   },
   "source": [
    "# FISTA with backtracking for OT"
   ]
  },
  {
   "cell_type": "markdown",
   "metadata": {
    "id": "kSvEte419byp"
   },
   "source": [
    "\n",
    "\n",
    "<div class=\"alert alert-block alert-success\">\n",
    "This notebook excecutes the FISTA algorithm for Optimal Transport problems with backtracking.\n",
    "</div>"
   ]
  },
  {
   "cell_type": "code",
   "execution_count": 1,
   "metadata": {
    "code_folding": [
     0
    ],
    "id": "NzNvMKue9byr"
   },
   "outputs": [],
   "source": [
    "# Packages\n",
    "import time\n",
    "import numpy as np\n",
    "import matplotlib.pyplot as plt"
   ]
  },
  {
   "cell_type": "code",
   "execution_count": 2,
   "metadata": {
    "code_folding": [
     0
    ],
    "id": "NzNvMKue9byr"
   },
   "outputs": [],
   "source": [
    "# Aliases\n",
    "from numpy import nditer, ndenumerate, zeros, zeros_like, clip, allclose, full, maximum, linspace, ones\n",
    "from numpy import log, ceil, inf, absolute, tensordot, sqrt, array\n",
    "from numpy.linalg import norm\n",
    "from numpy.random import default_rng as rng\n",
    "from numba import jit, prange\n",
    "from scipy.spatial.distance import cdist"
   ]
  },
  {
   "cell_type": "markdown",
   "metadata": {},
   "source": [
    "## Projection onto the simplex"
   ]
  },
  {
   "cell_type": "markdown",
   "metadata": {
    "id": "xI1v-mMf9byq"
   },
   "source": [
    "<div style=\"background-color:rgba(0, 0, 0, 0.0470588); vertical-align: middle; padding:5px 0; padding-left: 40px;\">\n",
    "<h2 style=\"color: #5e9ca0;\">Condat's Algorithm</h2>\n",
    "<ol>\n",
    "<li>Set $v:= (y_1)$, $u$ as an empty list, $\\rho:= y_1 - a$.</li>\n",
    "<li>For $n \\in \\{2,\\ldots, N\\}$, do\n",
    "<ol>\n",
    "<li>If $y_n > \\rho$\n",
    "<ol>\n",
    "<li>Set $\\rho := \\rho + (y_n - \\rho)/(|v|+1)$.</li>\n",
    "<li>If $\\rho > y_n - a$, add $y_n$ to $v$.</li>\n",
    "<li>Else, add $v$ to $u$, set $v = (y_n)$, $\\rho = y_n -a$.</li>\n",
    "</ol>\n",
    "</li>\n",
    "</ol>\n",
    "</li>\n",
    "<li>If $u$ is not empty, for every element $y$ of $u$, do\n",
    "<ol>\n",
    "<li>If $y > \\rho$, add $y$ to $v$ and set $\\rho := \\rho + (y-\\rho)/|v|$.</li>\n",
    "</ol>\n",
    "</li>\n",
    "<li>Do, while $|v|$ changes,\n",
    "<ol>\n",
    "<li>For every element $y$ of $v$ do\n",
    "<ol>\n",
    "<li>If $y\\leq \\rho$, remove $y$ from $v$ and set $\\rho := \\rho + (\\rho - y)/|v|$.</li>\n",
    "</ol>\n",
    "</li>\n",
    "</ol>\n",
    "</li>\n",
    "<li>Set $\\tau := \\rho$, $K = |v|$.</li>\n",
    "<li>For $n \\in \\{1,\\ldots,N\\}$, set $x_n := \\max \\{y_n - \\tau, 0\\}$.</li>\n",
    "</ol>\n",
    "</div>"
   ]
  },
  {
   "cell_type": "markdown",
   "metadata": {
    "id": "1qCLHtIp9bys"
   },
   "source": [
    "<div class=\"alert alert-block alert-info\">\n",
    "The following implementation introduces some array operations to avoid the extra step of clipping negative numbers. Here $v$ is the list of positive indices of $y$. This way a sparse representation of $v$ is achieved and $x$ does not go through a clipping step as well.\n",
    "</div>"
   ]
  },
  {
   "cell_type": "code",
   "execution_count": 5,
   "metadata": {
    "id": "3B4B6kMR9by1"
   },
   "outputs": [],
   "source": [
    "N = 1000\n",
    "M = 500\n",
    "γ = rng(0).uniform(-1,2,(N,M))\n",
    "a = 1.0"
   ]
  },
  {
   "cell_type": "code",
   "execution_count": 6,
   "metadata": {
    "id": "HVP9tZql9by2"
   },
   "outputs": [],
   "source": [
    "y = rng(0).uniform(-1,2,N)\n",
    "x = zeros_like(γ)"
   ]
  },
  {
   "cell_type": "code",
   "execution_count": 7,
   "metadata": {
    "code_folding": [
     1
    ],
    "id": "_onjCN9L9by2"
   },
   "outputs": [],
   "source": [
    "@jit(nopython=True, fastmath = True)#, parallel = True)\n",
    "def CondatP(y,x,a,N):\n",
    "    # Step 1\n",
    "    ρ = y[0] - a\n",
    "    v = [0]\n",
    "    u = []\n",
    "    # Step 2\n",
    "    for n in range(1,N):\n",
    "        yₙ = y[n]\n",
    "        if yₙ > ρ:\n",
    "            ρ += (yₙ - ρ)/( len(v) + 1 )\n",
    "            if ρ > yₙ - a:\n",
    "                v.append(n)\n",
    "            else:\n",
    "                u.extend(v)\n",
    "                v = [n]\n",
    "                ρ = yₙ - a\n",
    "    # Step 3\n",
    "    if len(u) > 0:\n",
    "        for n in iter(u):\n",
    "            yₙ = y[n]\n",
    "            if yₙ > ρ:\n",
    "                v.append(n)\n",
    "                ρ += (yₙ - ρ)/( len(v) )\n",
    "    # Step 4\n",
    "    while True:\n",
    "        ℓ_v = len(v)\n",
    "        for i,j in enumerate(v):\n",
    "            '''if len(v) == 1:\n",
    "                break'''\n",
    "            if y[j] <= ρ:\n",
    "                ρ += (ρ - y[j])/(len(v) - 1)\n",
    "                del v[i]\n",
    "        if len(v) >= ℓ_v:\n",
    "            break\n",
    "    \n",
    "    #x[v] = y[v] - ρ\n",
    "    for n in iter(v):\n",
    "        x[n] = y[n] - ρ\n",
    "    #for n in prange(len(v)):\n",
    "    #    x[v[n]] = y[v[n]] - ρ\n",
    "    return x"
   ]
  },
  {
   "cell_type": "code",
   "execution_count": 8,
   "metadata": {
    "id": "h1pbHumO9by2"
   },
   "outputs": [],
   "source": [
    "CondatP(y,x,a,N); # Null test\n",
    "x = zeros_like(γ)"
   ]
  },
  {
   "cell_type": "code",
   "execution_count": 9,
   "metadata": {
    "id": "EkhLQKKz9by2"
   },
   "outputs": [],
   "source": [
    "for i in range(N):    x[i] = CondatP(γ[i],x[i],a,M)"
   ]
  },
  {
   "cell_type": "code",
   "execution_count": 10,
   "metadata": {
    "colab": {
     "base_uri": "https://localhost:8080/"
    },
    "id": "hCTxFTb79by2",
    "outputId": "345a7d3a-332e-4a4d-f42a-6888697d45e3",
    "scrolled": true
   },
   "outputs": [],
   "source": [
    "# Just checking :)\n",
    "[print(i) for i in range(N) if x[i].sum() > 2];"
   ]
  },
  {
   "cell_type": "code",
   "execution_count": 11,
   "metadata": {},
   "outputs": [
    {
     "name": "stdout",
     "output_type": "stream",
     "text": [
      "26.6 µs ± 3.76 µs per loop (mean ± std. dev. of 10 runs, 200 loops each)\n"
     ]
    }
   ],
   "source": [
    "%timeit -r 10 -n 200 CondatP(y,x,a,N)"
   ]
  },
  {
   "cell_type": "markdown",
   "metadata": {},
   "source": [
    "---"
   ]
  },
  {
   "cell_type": "markdown",
   "metadata": {},
   "source": [
    "## Optimal transport"
   ]
  },
  {
   "cell_type": "code",
   "execution_count": 12,
   "metadata": {
    "colab": {
     "base_uri": "https://localhost:8080/",
     "height": 1000
    },
    "id": "82qRFiCXEtH8",
    "outputId": "ffa4ed3f-1c26-4134-cd6d-332f9692f1f5"
   },
   "outputs": [],
   "source": [
    "# Basic data of the instance\n",
    "M = 100\n",
    "N = 200\n",
    "\n",
    "x, y = linspace(0,1,M), linspace(1,2,N)            # Uniform cloud of points\n",
    "m, n = ones(M)/M, ones(N)/N                        # Uniform distribution of mass\n",
    "c = cdist(x[:, np.newaxis],y[:, np.newaxis])**2    # Matrix of squared distances"
   ]
  },
  {
   "cell_type": "markdown",
   "metadata": {},
   "source": [
    "Necessary functions are pre-compiled:"
   ]
  },
  {
   "cell_type": "code",
   "execution_count": 13,
   "metadata": {
    "code_folding": [
     1
    ]
   },
   "outputs": [],
   "source": [
    "@jit(nopython=True, fastmath = True)\n",
    "def indicator_simplex(x, η, axis = 0):\n",
    "    \"\"\"\n",
    "    %\n",
    "    % This procedure evaluates the indicator function of the constraint set:\n",
    "    %\n",
    "    %                  x => 0   AND   1'x = η\n",
    "    %\n",
    "    %  - axis ∊ {0,1} --> 'x' is processed block-wise along the specified direction\n",
    "    %\n",
    "    %  INPUTS\n",
    "    % ========\n",
    "    %  x    - ND array\n",
    "    %  η    - positive ND array compatible with the blocks of 'x'\n",
    "    %  axis - integer, direction of block-wise processing\n",
    "    \"\"\"\n",
    "    \n",
    "    # check the constraint\n",
    "    u = x.sum(axis)\n",
    "    mask = True\n",
    "    for ı in range(u.size):\n",
    "        if u[ı] < 0:\n",
    "            mask = False\n",
    "            break\n",
    "        if abs(u[ı] - η[ı]) > 1e-4:\n",
    "            mask = False\n",
    "            break\n",
    "            \n",
    "    # evaluate the indicator function\n",
    "    return 0.0 if mask else inf"
   ]
  },
  {
   "cell_type": "code",
   "execution_count": 15,
   "metadata": {
    "code_folding": [
     1
    ]
   },
   "outputs": [],
   "source": [
    "@jit(nopython=True, fastmath = True)\n",
    "def prox_i(y,m,n, v_1, v_2, tol = 1e-5):\n",
    "    # z = prox(y,m,n,tol) : Computes proximal of the indicator function of the \n",
    "    # intersection of the simpleces governed by m and n, respectively.\n",
    "    #\n",
    "    # z satisfies sum(y,1) ~ m' and sum(y,2) ~ n with tolerance `tol`.\n",
    "    #\n",
    "    # By default, tol = 1e-5.   \n",
    "    # Recover size of matrix\n",
    "    M, N = y.shape\n",
    "    \n",
    "    # ε is selected as a small number\n",
    "    ε = 0.1\n",
    "\n",
    "    # Define theta as a fixed value\n",
    "    θ = 2 - ε\n",
    "    θ̂ = 1/θ\n",
    "\n",
    "    # Initialise z:\n",
    "    z = y - 0.5 * (v_1 + v_2)\n",
    "    \n",
    "    x_1, x_2 = zeros((2,M,N))\n",
    "    while indicator_simplex(z, m, 1) + indicator_simplex(z, n, 0) != 0.0:\n",
    "        γ_1 = θ̂ * v_1 + z\n",
    "        γ_2 = θ̂ * v_2 + z\n",
    "        \n",
    "        x_1.fill(0.0),        x_2.fill(0.0);\n",
    "        \n",
    "        for i in range(N):\n",
    "            x_1[:,i] = CondatP(γ_1[:,i],x_1[:,i],n[i],M)\n",
    "        for i in range(M):\n",
    "            x_2[i] = CondatP(γ_2[i],x_2[i],m[i],N)\n",
    "            \n",
    "        # Update v_1 using its projection over simplex C_1^m\n",
    "        v_1 += θ * (z - x_1)\n",
    "        # Update v_2 using its projection over simplex C_2^n\n",
    "        v_2 += θ * (z - x_2)\n",
    "        # Update z\n",
    "        z = y - 0.5 * (v_1 + v_2)\n",
    "        \n",
    "        # The indicator evaluation is too hard for double precision arithmetic.\n",
    "        # Thus, we relax this condition:\n",
    "        w = absolute(z)\n",
    "        if (absolute(w.sum(0) - n)/n < tol).all():     # Check with lower tol\n",
    "            if (absolute(w.sum(1) - m)/m < tol).all():\n",
    "                z = w\n",
    "                break\n",
    "    return z, v_1, v_2"
   ]
  },
  {
   "cell_type": "code",
   "execution_count": 16,
   "metadata": {},
   "outputs": [],
   "source": [
    "x, v_1, v_2 = zeros((3,M,N))\n",
    "indicator_simplex(c, m, 1);    prox_i(x,m,n, v_1, v_2);"
   ]
  },
  {
   "cell_type": "code",
   "execution_count": 17,
   "metadata": {
    "code_folding": [
     0,
     54
    ]
   },
   "outputs": [],
   "source": [
    "def FISTA_Backtracking(c,m,n, iter_max = 1000, tol = 1e-4, collect_obj = False):\n",
    "    \"\"\"\n",
    "    % FISTA_Backtracking(c,m,n,collect_obj,tol): Executes the FISTA algorithm\n",
    "    % applied to problems on optimal transport with backtracking.\n",
    "    %\n",
    "    % **Input:**\n",
    "    % c:   cost matrix of size MxN\n",
    "    % m:   discrete probability vector of size M\n",
    "    % n:   discrete probability vector of size N\n",
    "    % collect_obj: boolean value; if true, then all objective values are stored\n",
    "    % tol: numerical tolerance of the algorithm: it stops if the norm between a\n",
    "    %      pair of iterations is less than this value (default tol = 1e-4)\n",
    "    %\n",
    "    % **Output:**\n",
    "    % x:    best feasible point found after optimisation\n",
    "    % obj:  objective value at x\n",
    "    % temp: time it took to compute x\n",
    "    \"\"\"\n",
    "    # Recover M and N\n",
    "    M = m.size\n",
    "    N = n.size\n",
    "\n",
    "    # First select μ\n",
    "    μ  = 10**ceil(log(norm(c,2))/log(10)) #norm(c,2);        # 1 -> 10^-1 -> 10^-2 -> ...\n",
    "    γ = 1/μ\n",
    "\n",
    "    # xₒ is projected to be a feasible initial point\n",
    "    #x = (m.T + n)/(N+M)\n",
    "    x, v_1, v_2 = zeros((3,M,N))\n",
    "    x[:,0] = m;    x[0,:] = n;    x[0,0] = 0.5 * (m[-1] + n[-1])\n",
    "    # The initial points for v_1 and v_2 can be built using the information\n",
    "    # available already from n and m:\n",
    "    v_1[:,0] = m;    v_2[0,:] = n\n",
    "    # Compute proximal operator at C and update v_1 and v_2\n",
    "    x, v_1, v_2 = prox_i(x,m,n,v_1,v_2)\n",
    "    # zₒ is a copy of xₒ\n",
    "    z = x.copy()\n",
    "    t = 1.0\n",
    "    \n",
    "    ## Controls                              \n",
    "    # The distance between points will serve as stopping criteria\n",
    "    # norm_difference = Inf;\n",
    "    # Objective value\n",
    "    obj = [];\n",
    "    obj.append( tensordot(c,x,2).item() ) if collect_obj else None\n",
    "    \n",
    "    \n",
    "    # Initialise counter and quality measures\n",
    "    ı, norm_difference = 0, inf\n",
    "    #norm = 0\n",
    "    \n",
    "    # Measure time\n",
    "    start = time.time()\n",
    "    ## Now we perform the FISTA iteration:\n",
    "    for ı in range(iter_max):\n",
    "        # First proximal projection\n",
    "        y = z - γ * c;\n",
    "        # Proximal operation\n",
    "        u, v_1, v_2 = prox_i(y,m,n,v_1,v_2)\n",
    "    \n",
    "        while 4 * tensordot(c,u-z,2) > μ * ((u - x)**2).sum():\n",
    "            μ *= 2.0\n",
    "            γ *= 0.5\n",
    "            y = z - γ * c\n",
    "            u, v_1, v_2 = prox_i(y,m,n,v_1,v_2)\n",
    "    \n",
    "        ## Update momentum\n",
    "        s = 0.5 * ( 1.0 + sqrt( 1 + 4*t**2 ) )\n",
    "        l = 1 + (t - 1)/s\n",
    "        ux = u - x\n",
    "        z = x + l * ux\n",
    "        \n",
    "        # Iterate info\n",
    "        norm_difference = norm(ux.ravel())\n",
    "        x = u\n",
    "        t = s\n",
    "        \n",
    "        # Store objective if needed\n",
    "        obj.append( tensordot(c,x,2).item() ) if collect_obj else None\n",
    "        \n",
    "        # Check tolerance\n",
    "        if norm_difference < tol * norm(u.ravel()):\n",
    "            break\n",
    "    \n",
    "    \n",
    "    temp  = time.time()\n",
    "    temp -= start\n",
    "    print('Time taken:  ', temp//60, 'min', temp%60, 's')\n",
    "\n",
    "    # If objective evolution is not wanted, return last evaluation\n",
    "    obj = tensordot(c,x,2) if not collect_obj else obj\n",
    "    \n",
    "    return x, obj, temp"
   ]
  },
  {
   "cell_type": "code",
   "execution_count": 18,
   "metadata": {},
   "outputs": [
    {
     "name": "stdout",
     "output_type": "stream",
     "text": [
      "Time taken:   0.0 min 2.1244821548461914 s\n"
     ]
    },
    {
     "data": {
      "image/png": "[encoded data removed]",
      "text/plain": [
       "<Figure size 432x288 with 1 Axes>"
      ]
     },
     "metadata": {
      "needs_background": "light"
     },
     "output_type": "display_data"
    }
   ],
   "source": [
    "x, obj,temp = FISTA_Backtracking(c,m,n, iter_max = 10, collect_obj = True)\n",
    "plt.plot(obj); plt.title(obj[-1]); plt.show()"
   ]
  },
  {
   "cell_type": "markdown",
   "metadata": {},
   "source": [
    "## Tests"
   ]
  },
  {
   "cell_type": "markdown",
   "metadata": {},
   "source": [
    "<div class=\"alert alert-block alert-warning\">\n",
    "Exact test\n",
    "</div>"
   ]
  },
  {
   "cell_type": "code",
   "execution_count": 19,
   "metadata": {},
   "outputs": [],
   "source": [
    "# Basic data of the instance\n",
    "M = 4\n",
    "N = 4\n",
    "m, n = ones(M)/M, ones(N)/N                        # Uniform distribution of mass\n",
    "# Matrix of squared distances\n",
    "c = array([[3.10112791, 2.01924761, 2.        , 2.01924761],\n",
    "     [3.10112791, 3.        , 1.16637984, 1.        ],\n",
    "     [3.        , 3.10112791, 1.16637984, 2.01924761],\n",
    "     [1.        , 3.        , 2.33275967, 4.22075809]])"
   ]
  },
  {
   "cell_type": "code",
   "execution_count": 20,
   "metadata": {},
   "outputs": [
    {
     "name": "stdout",
     "output_type": "stream",
     "text": [
      "Time taken:   0.0 min 0.3795759677886963 s\n"
     ]
    },
    {
     "data": {
      "image/png": "[encoded data removed]",
      "text/plain": [
       "<Figure size 432x288 with 1 Axes>"
      ]
     },
     "metadata": {
      "needs_background": "light"
     },
     "output_type": "display_data"
    }
   ],
   "source": [
    "x, obj,temp = FISTA_Backtracking(c,m,n,1000,tol = 1e-8, collect_obj = True)\n",
    "plt.plot(obj); plt.title(obj[-1]); plt.show()"
   ]
  },
  {
   "cell_type": "markdown",
   "metadata": {},
   "source": [
    "<div class=\"alert alert-block alert-warning\">\n",
    "Bigger instance\n",
    "</div>"
   ]
  },
  {
   "cell_type": "code",
   "execution_count": 21,
   "metadata": {
    "colab": {
     "base_uri": "https://localhost:8080/",
     "height": 1000
    },
    "id": "82qRFiCXEtH8",
    "outputId": "ffa4ed3f-1c26-4134-cd6d-332f9692f1f5"
   },
   "outputs": [],
   "source": [
    "# Basic data of the instance\n",
    "M = 1000\n",
    "N = 1000\n",
    "\n",
    "x, y = linspace(0,1,M), linspace(1,2,N)            # Uniform cloud of points\n",
    "m, n = ones(M)/M, ones(N)/N                        # Uniform distribution of mass\n",
    "c = cdist(x[:, np.newaxis],y[:, np.newaxis])**2    # Matrix of squared distances"
   ]
  },
  {
   "cell_type": "code",
   "execution_count": 22,
   "metadata": {},
   "outputs": [],
   "source": [
    "x, v_1, v_2 = zeros((3,M,N))\n",
    "indicator_simplex(c, m, 1);    prox_i(x,m,n, v_1, v_2);"
   ]
  },
  {
   "cell_type": "code",
   "execution_count": 23,
   "metadata": {},
   "outputs": [
    {
     "name": "stdout",
     "output_type": "stream",
     "text": [
      "Time taken:   3.0 min 57.788604974746704 s\n"
     ]
    },
    {
     "data": {
      "image/png": "[encoded data removed]",
      "text/plain": [
       "<Figure size 432x288 with 1 Axes>"
      ]
     },
     "metadata": {
      "needs_background": "light"
     },
     "output_type": "display_data"
    }
   ],
   "source": [
    "x, obj,temp = FISTA_Backtracking(c,m,n, iter_max = 10, tol = 1e-2, collect_obj = True)\n",
    "plt.plot(obj); plt.title(obj[-1]); plt.show()"
   ]
  },
  {
   "cell_type": "code",
   "execution_count": 26,
   "metadata": {
    "colab": {
     "base_uri": "https://localhost:8080/",
     "height": 1000
    },
    "id": "XJGe0v9B9bzj",
    "outputId": "b426f3b5-464e-4eb2-88e3-46b9744b2542"
   },
   "outputs": [
    {
     "data": {
      "image/png": "[encoded data removed]",
      "text/plain": [
       "<Figure size 432x288 with 1 Axes>"
      ]
     },
     "metadata": {
      "needs_background": "light"
     },
     "output_type": "display_data"
    }
   ],
   "source": [
    "plt.imshow(x); plt.show()"
   ]
  },
  {
   "cell_type": "markdown",
   "metadata": {
    "id": "hji3uQ2C9bzk"
   },
   "source": [
    "---"
   ]
  },
  {
   "cell_type": "markdown",
   "metadata": {},
   "source": [
    "# Previous implementations"
   ]
  },
  {
   "cell_type": "markdown",
   "metadata": {},
   "source": [
    "This implementation of the indicator is more general but takes almost 8 times as the one used above."
   ]
  },
  {
   "cell_type": "code",
   "execution_count": 19,
   "metadata": {
    "code_folding": [
     0
    ],
    "id": "GHqejuX59by3"
   },
   "outputs": [],
   "source": [
    "def indicator_simplex(x, η, axis = None):\n",
    "    \"\"\"\n",
    "    %\n",
    "    % This procedure evaluates the indicator function of the constraint set:\n",
    "    %\n",
    "    %                  x => 0   AND   1'x = eta\n",
    "    %\n",
    "    % When the input 'x' is an array, the computation can vary as follows:\n",
    "    %  - axis = 0 --> 'x' is processed as a single vector [DEFAULT]\n",
    "    %  - axis > 0 --> 'x' is processed block-wise along the specified direction\n",
    "    %\n",
    "    %  INPUTS\n",
    "    % ========\n",
    "    %  x    - ND array\n",
    "    %  η    - positive, scalar or ND array compatible with the blocks of 'x'\n",
    "    %  axis - integer, direction of block-wise processing\n",
    "    \"\"\"\n",
    "    \n",
    "    # check the constraint\n",
    "    u = x.sum(axis)\n",
    "    mask = allclose(u, η, rtol=1e-04, atol=1e-05)\n",
    "    mask &= (u >= 0.0).all()\n",
    "    \n",
    "    # evaluate the indicator function\n",
    "    return 0.0 if mask else inf"
   ]
  }
 ],
 "metadata": {
  "colab": {
   "collapsed_sections": [
    "45ept5pt9byr",
    "_3Dfnhoj9byt",
    "cOXSRYAx9byv",
    "wz912UMM9byw"
   ],
   "name": "Fista_backtracking.ipynb",
   "provenance": []
  },
  "kernelspec": {
   "display_name": "Python 3",
   "language": "python",
   "name": "python3"
  },
  "language_info": {
   "codemirror_mode": {
    "name": "ipython",
    "version": 3
   },
   "file_extension": ".py",
   "mimetype": "text/x-python",
   "name": "python",
   "nbconvert_exporter": "python",
   "pygments_lexer": "ipython3",
   "version": "3.7.6"
  }
 },
 "nbformat": 4,
 "nbformat_minor": 1
}
