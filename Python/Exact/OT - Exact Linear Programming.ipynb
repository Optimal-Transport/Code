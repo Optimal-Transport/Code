{
 "cells": [
  {
   "cell_type": "markdown",
   "metadata": {},
   "source": [
    "# A Linear Programming Model for Optimal Transport "
   ]
  },
  {
   "cell_type": "markdown",
   "metadata": {},
   "source": [
    "<div class=\"alert alert-block alert-success\">\n",
    "$\\newcommand{\\R}{\\mathbb{R}} \\newcommand{\\Z}{\\mathbb{Z}} \\newcommand{\\N}{\\mathbb{N}} \n",
    "\\newcommand{\\bff}{\\mathbf{f}} \\newcommand{\\bx}{\\mathbf{x}} \n",
    "\\newcommand{\\by}{\\mathbf{y}} \\newcommand{\\bo}{\\mathbb{1}} \\newcommand{\\bJ}{\\mathbf{J}}$\n",
    "In this notebook, we will aim to solve the following optimal transport problem in its linear form:\n",
    "\\begin{align}\n",
    "\\min c^\\top x,\n",
    "\\end{align}\n",
    "subject to\n",
    "\\begin{align}\n",
    "    \\begin{pmatrix} \\mathbb{1}_N^\\top \\otimes I_M \\\\ I_N \\otimes \\mathbb{1}_M^\\top \\end{pmatrix} x &= \n",
    "    \\begin{pmatrix} m \\\\ n \\end{pmatrix},\n",
    "    \\\\\n",
    "    x &\\geq 0;\n",
    "\\end{align}\n",
    "where $x\\in \\R^{M\\times N}$, $m \\in \\R^M$, $n \\in \\R^N$, and $c \\in \\R^{M\\times N}$ is a positive cost vector.\n",
    "</div>"
   ]
  },
  {
   "cell_type": "markdown",
   "metadata": {},
   "source": [
    "<div class=\"alert alert-block alert-info\">\n",
    "The following packages are loaded into the environment. \n",
    "</div>"
   ]
  },
  {
   "cell_type": "code",
   "execution_count": 1,
   "metadata": {},
   "outputs": [],
   "source": [
    "from gurobipy import *\n",
    "import numpy as np\n",
    "from numpy         import asarray, indices, double, allclose\n",
    "from pandas        import read_csv\n",
    "from skimage.io    import imread, imshow\n",
    "from scipy.spatial import distance_matrix\n",
    "from scipy.spatial.distance import cdist\n",
    "\n",
    "%matplotlib inline\n",
    "import matplotlib.pyplot as plt\n",
    "import matplotlib.ticker as mticker"
   ]
  },
  {
   "cell_type": "markdown",
   "metadata": {},
   "source": [
    "<div class=\"alert alert-block alert-success\">\n",
    "We can actually solve the original problem with an LP solver that allows indexing:\n",
    "\\begin{align}\n",
    "    \\min c : \\gamma,\n",
    "\\end{align}\n",
    "subject to\n",
    "\\begin{align}\n",
    "    \\sum_{j} \\gamma_{i,j} &= m_i\n",
    "    \\\\\n",
    "    \\sum_{i} \\gamma_{i,j} &= n_j\n",
    "    \\\\\n",
    "    \\gamma_{i,j} &\\geq 0.\n",
    "\\end{align}\n",
    "</div>"
   ]
  },
  {
   "cell_type": "markdown",
   "metadata": {},
   "source": [
    "<div class=\"alert alert-block alert-info\">\n",
    "Here we define the following basic objects:\n",
    "    \n",
    "1. `M` and `N` are the number of points where the measures of `μ` and `ν` are concentrated,\n",
    "2. `c` is the vector of costs.\n",
    "</div>"
   ]
  },
  {
   "cell_type": "code",
   "execution_count": 2,
   "metadata": {},
   "outputs": [],
   "source": [
    "# File names\n",
    "nomᵤ = 'data32_1001.csv'\n",
    "nomᵥ = 'data32_1002.csv'"
   ]
  },
  {
   "cell_type": "code",
   "execution_count": 3,
   "metadata": {},
   "outputs": [],
   "source": [
    "μ = read_csv(nomᵤ).values.astype(double);    μ /= μ.max()\n",
    "ν = read_csv(nomᵥ).values.astype(double);    ν /= ν.max()"
   ]
  },
  {
   "cell_type": "code",
   "execution_count": 4,
   "metadata": {},
   "outputs": [],
   "source": [
    "M = μ.size\n",
    "N = ν.size"
   ]
  },
  {
   "cell_type": "code",
   "execution_count": 5,
   "metadata": {},
   "outputs": [],
   "source": [
    "# Coordinates:\n",
    "Iₘ = (indices(μ.shape)/(asarray(μ.shape)-1)[::,np.newaxis,np.newaxis]).reshape(2,M).T\n",
    "Iₙ = (indices(ν.shape)/(asarray(ν.shape)-1)[::,np.newaxis,np.newaxis]).reshape(2,N).T\n",
    "#Sparse alternatives:    indices(μ.shape, sparse=True)      &      indices(ν.shape, sparse=True)"
   ]
  },
  {
   "cell_type": "code",
   "execution_count": 6,
   "metadata": {},
   "outputs": [],
   "source": [
    "# Cost matrix:\n",
    "c = cdist(Iₘ, Iₙ, 'sqeuclidean')        # Alternative: distance_matrix(Iₘ, Iₙ) ** 2"
   ]
  },
  {
   "cell_type": "code",
   "execution_count": 18,
   "metadata": {},
   "outputs": [],
   "source": [
    "#μ = np.where(μ==0, 1e-4, μ)\n",
    "#ν = np.where(ν==0, 1e-4, ν)"
   ]
  },
  {
   "cell_type": "code",
   "execution_count": 19,
   "metadata": {},
   "outputs": [],
   "source": [
    "m = μ.ravel() / μ.sum()\n",
    "n = ν.ravel() / ν.sum()"
   ]
  },
  {
   "cell_type": "markdown",
   "metadata": {},
   "source": [
    "<div class=\"alert alert-block alert-warning\">\n",
    "Optimisation model\n",
    "</div>"
   ]
  },
  {
   "cell_type": "code",
   "execution_count": 20,
   "metadata": {
    "code_folding": []
   },
   "outputs": [
    {
     "name": "stdout",
     "output_type": "stream",
     "text": [
      "Academic license - for non-commercial use only - expires 2021-07-17\n",
      "Using license file /Users/andy/gurobi.lic\n"
     ]
    }
   ],
   "source": [
    "# Model\n",
    "mo = Model()\n",
    "γ  = {}\n",
    "γ = mo.addMVar( (M,N), vtype = 'C', name ='g', obj = c, lb = 0.0)\n",
    "\n",
    "mo.addConstrs( (γ[i,:].sum() == m[i] for i in range(M)), name='m' );\n",
    "mo.addConstrs( (γ[:,j].sum() == n[j] for j in range(N)), name='n');"
   ]
  },
  {
   "cell_type": "code",
   "execution_count": 21,
   "metadata": {},
   "outputs": [
    {
     "name": "stdout",
     "output_type": "stream",
     "text": [
      "Changed value of parameter IntFeasTol to 1e-09\n",
      "   Prev: 1e-05  Min: 1e-09  Max: 0.1  Default: 1e-05\n",
      "Changed value of parameter FeasibilityTol to 1e-09\n",
      "   Prev: 1e-06  Min: 1e-09  Max: 0.01  Default: 1e-06\n",
      "Changed value of parameter OptimalityTol to 1e-09\n",
      "   Prev: 1e-06  Min: 1e-09  Max: 0.01  Default: 1e-06\n"
     ]
    }
   ],
   "source": [
    "mo.Params.IntFeasTol, mo.Params.FeasibilityTol, mo.Params.OptimalityTol = 1e-9, 1e-9, 1e-9"
   ]
  },
  {
   "cell_type": "code",
   "execution_count": 22,
   "metadata": {
    "code_folding": [],
    "scrolled": false
   },
   "outputs": [
    {
     "name": "stdout",
     "output_type": "stream",
     "text": [
      "Changed value of parameter Method to 0\n",
      "   Prev: -1  Min: -1  Max: 5  Default: -1\n",
      "Changed value of parameter Presolve to 0\n",
      "   Prev: -1  Min: -1  Max: 2  Default: -1\n",
      "Gurobi Optimizer version 9.1.2 build v9.1.2rc0 (mac64)\n",
      "Thread count: 8 physical cores, 8 logical processors, using up to 8 threads\n",
      "Optimize a model with 1984 rows, 984064 columns and 1968128 nonzeros\n",
      "Model fingerprint: 0xdf5bd400\n",
      "Coefficient statistics:\n",
      "  Matrix range     [1e+00, 1e+00]\n",
      "  Objective range  [1e-03, 2e+00]\n",
      "  Bounds range     [0e+00, 0e+00]\n",
      "  RHS range        [6e-07, 8e-03]\n",
      "Iteration    Objective       Primal Inf.    Dual Inf.      Time\n",
      "       0    1.5972180e+00   9.988032e-01   9.820830e+11      0s\n",
      "   76980    1.1820575e-02   0.000000e+00   0.000000e+00      1s\n",
      "\n",
      "Solved in 76980 iterations and 1.22 seconds\n",
      "Optimal objective  1.182057532e-02\n"
     ]
    }
   ],
   "source": [
    "mo.setParam('Method', 0);    mo.Params.Presolve = 0;    mo.optimize()\n",
    "#?mo.Params.Method"
   ]
  },
  {
   "cell_type": "code",
   "execution_count": 23,
   "metadata": {
    "scrolled": true
   },
   "outputs": [
    {
     "name": "stdout",
     "output_type": "stream",
     "text": [
      "Discarded solution information\n",
      "Changed value of parameter Method to 2\n",
      "   Prev: 0  Min: -1  Max: 5  Default: -1\n",
      "Gurobi Optimizer version 9.1.2 build v9.1.2rc0 (mac64)\n",
      "Thread count: 8 physical cores, 8 logical processors, using up to 8 threads\n",
      "Optimize a model with 1984 rows, 984064 columns and 1968128 nonzeros\n",
      "Model fingerprint: 0xdf5bd400\n",
      "Coefficient statistics:\n",
      "  Matrix range     [1e+00, 1e+00]\n",
      "  Objective range  [1e-03, 2e+00]\n",
      "  Bounds range     [0e+00, 0e+00]\n",
      "  RHS range        [6e-07, 8e-03]\n",
      "Ordering time: 0.01s\n",
      "\n",
      "Barrier statistics:\n",
      " AA' NZ     : 9.841e+05\n",
      " Factor NZ  : 1.969e+06 (roughly 400 MBytes of memory)\n",
      " Factor Ops : 2.605e+09 (less than 1 second per iteration)\n",
      " Threads    : 8\n",
      "\n",
      "                  Objective                Residual\n",
      "Iter       Primal          Dual         Primal    Dual     Compl     Time\n",
      "   0   3.49539780e+04  0.00000000e+00  9.92e+01 0.00e+00  1.68e-01     1s\n",
      "   1   2.86197680e+03 -5.49075951e-01  9.07e+00 1.78e-15  1.55e-02     1s\n",
      "   2   1.00318770e+00 -5.48718567e-01  2.48e-03 2.22e-15  5.81e-06     2s\n",
      "   3   2.50944692e-01 -1.94719330e-01  2.74e-04 2.00e-15  1.17e-06     2s\n",
      "   4   1.32326173e-01 -5.03730146e-02  4.04e-05 1.78e-15  4.03e-07     2s\n",
      "   5   7.57054840e-02 -4.22184848e-03  5.44e-06 1.78e-15  1.67e-07     3s\n",
      "   6   3.57953486e-02  5.73790434e-03  7.73e-08 2.22e-15  6.12e-08     3s\n",
      "   7   1.98668292e-02  9.06505339e-03  1.77e-09 2.89e-15  2.20e-08     3s\n",
      "   8   1.42332295e-02  1.05411659e-02  5.75e-11 3.11e-15  7.50e-09     4s\n",
      "   9   1.23825058e-02  1.15691793e-02  9.66e-13 3.11e-15  1.65e-09     4s\n",
      "  10   1.20537857e-02  1.17173695e-02  3.02e-13 2.22e-15  6.84e-10     4s\n",
      "  11   1.19204552e-02  1.17752589e-02  1.11e-13 2.22e-15  2.95e-10     5s\n",
      "  12   1.18597792e-02  1.17952889e-02  3.81e-14 2.22e-15  1.31e-10     5s\n",
      "  13   1.18388213e-02  1.18073876e-02  1.58e-14 2.22e-15  6.39e-11     5s\n",
      "  14   1.18235741e-02  1.18150462e-02  2.99e-15 2.66e-15  1.73e-11     6s\n",
      "  15   1.18219885e-02  1.18187036e-02  3.42e-15 3.11e-15  6.68e-12     6s\n",
      "  16   1.18208128e-02  1.18200166e-02  4.73e-15 1.78e-15  1.62e-12     6s\n",
      "  17   1.18206216e-02  1.18205588e-02  1.40e-14 1.55e-15  1.27e-13     7s\n",
      "  18   1.18205758e-02  1.18205748e-02  1.52e-14 1.55e-15  2.18e-15     7s\n",
      "\n",
      "Barrier solved model in 18 iterations and 7.11 seconds\n",
      "Optimal objective 1.18205758e-02\n",
      "\n",
      "Crossover log...\n",
      "\n",
      "     426 DPushes remaining with DInf 0.0000000e+00                 7s\n",
      "       0 DPushes remaining with DInf 0.0000000e+00                 7s\n",
      "\n",
      "       1 Dual superbasic variables remain\n",
      "\n",
      "     793 PPushes remaining with PInf 0.0000000e+00                 7s\n",
      "       0 PPushes remaining with PInf 0.0000000e+00                 7s\n",
      "\n",
      "  Push phase complete: Pinf 0.0000000e+00, Dinf 1.8075819e-15      7s\n",
      "\n",
      "Iteration    Objective       Primal Inf.    Dual Inf.      Time\n",
      "    1221    1.1820575e-02   0.000000e+00   0.000000e+00      7s\n",
      "\n",
      "Solved in 1221 iterations and 7.28 seconds\n",
      "Optimal objective  1.182057532e-02\n"
     ]
    }
   ],
   "source": [
    "# Solve with barrier\n",
    "mo.reset();    mo.setParam('Method', 2);    mo.optimize()"
   ]
  },
  {
   "cell_type": "markdown",
   "metadata": {},
   "source": [
    "<div class=\"alert alert-block alert-warning\">\n",
    "Output\n",
    "</div>"
   ]
  },
  {
   "cell_type": "code",
   "execution_count": 24,
   "metadata": {
    "cell_style": "split"
   },
   "outputs": [
    {
     "data": {
      "image/png": "[encoded data removed]",
      "text/plain": [
       "<Figure size 432x288 with 1 Axes>"
      ]
     },
     "metadata": {
      "needs_background": "light"
     },
     "output_type": "display_data"
    }
   ],
   "source": [
    "plt.imshow(γ.x[:50,:50]);  plt.axis('off');  plt.show()"
   ]
  },
  {
   "cell_type": "code",
   "execution_count": 34,
   "metadata": {
    "cell_style": "split"
   },
   "outputs": [
    {
     "name": "stdout",
     "output_type": "stream",
     "text": [
      "[[8.33665602e-07 0.00000000e+00 0.00000000e+00]\n",
      " [8.33665602e-07 0.00000000e+00 0.00000000e+00]\n",
      " [0.00000000e+00 6.39952946e-04 3.06452938e-04]\n",
      " [0.00000000e+00 0.00000000e+00 8.33665602e-07]\n",
      " [0.00000000e+00 0.00000000e+00 8.33665602e-07]\n",
      " [0.00000000e+00 0.00000000e+00 0.00000000e+00]\n",
      " [0.00000000e+00 0.00000000e+00 0.00000000e+00]\n",
      " [0.00000000e+00 0.00000000e+00 0.00000000e+00]\n",
      " [0.00000000e+00 0.00000000e+00 0.00000000e+00]\n",
      " [0.00000000e+00 0.00000000e+00 0.00000000e+00]\n",
      " [0.00000000e+00 0.00000000e+00 0.00000000e+00]\n",
      " [0.00000000e+00 0.00000000e+00 0.00000000e+00]\n",
      " [0.00000000e+00 0.00000000e+00 0.00000000e+00]]\n"
     ]
    }
   ],
   "source": [
    "print(γ.x[:13,:3])"
   ]
  },
  {
   "cell_type": "markdown",
   "metadata": {},
   "source": [
    "Now we check that the conditional densities coincide:"
   ]
  },
  {
   "cell_type": "code",
   "execution_count": 35,
   "metadata": {},
   "outputs": [
    {
     "data": {
      "text/plain": [
       "(True, True)"
      ]
     },
     "execution_count": 35,
     "metadata": {},
     "output_type": "execute_result"
    }
   ],
   "source": [
    "allclose(γ.x.sum(0), n), allclose(γ.x.sum(1), m)"
   ]
  },
  {
   "cell_type": "code",
   "execution_count": 42,
   "metadata": {
    "cell_style": "split"
   },
   "outputs": [
    {
     "data": {
      "image/png": "[encoded data removed]",
      "text/plain": [
       "<Figure size 432x288 with 1 Axes>"
      ]
     },
     "metadata": {
      "needs_background": "light"
     },
     "output_type": "display_data"
    }
   ],
   "source": [
    "plt.plot( abs(γ.x.sum(0) - n) );    plt.show()"
   ]
  },
  {
   "cell_type": "code",
   "execution_count": 43,
   "metadata": {
    "cell_style": "split",
    "scrolled": true
   },
   "outputs": [
    {
     "data": {
      "image/png": "[encoded data removed]",
      "text/plain": [
       "<Figure size 432x288 with 1 Axes>"
      ]
     },
     "metadata": {
      "needs_background": "light"
     },
     "output_type": "display_data"
    }
   ],
   "source": [
    "plt.plot( abs(γ.x.sum(1) - m) );    plt.show()"
   ]
  },
  {
   "cell_type": "markdown",
   "metadata": {},
   "source": [
    "We can then export our inputs and outputs for comparison:"
   ]
  },
  {
   "cell_type": "code",
   "execution_count": 41,
   "metadata": {},
   "outputs": [],
   "source": [
    "np.save(nomᵤ[:-4] + '-' + nomᵥ[:-4] + '_Cost',   c)    # Cost matrix c\n",
    "np.save(nomᵤ[:-4] + '-' + nomᵥ[:-4] + '_m'   ,   m)    # Source measure m\n",
    "np.save(nomᵤ[:-4] + '-' + nomᵥ[:-4] + '_n'   ,   n)    # Target measure m\n",
    "np.save(nomᵤ[:-4] + '-' + nomᵥ[:-4] + '_Sol' , γ.x)    # Source measure m"
   ]
  },
  {
   "cell_type": "markdown",
   "metadata": {},
   "source": [
    "---"
   ]
  }
 ],
 "metadata": {
  "kernelspec": {
   "display_name": "Python 3",
   "language": "python",
   "name": "python3"
  },
  "language_info": {
   "codemirror_mode": {
    "name": "ipython",
    "version": 3
   },
   "file_extension": ".py",
   "mimetype": "text/x-python",
   "name": "python",
   "nbconvert_exporter": "python",
   "pygments_lexer": "ipython3",
   "version": "3.7.10"
  }
 },
 "nbformat": 4,
 "nbformat_minor": 4
}
