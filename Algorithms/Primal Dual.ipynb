{
 "cells": [
  {
   "cell_type": "markdown",
   "metadata": {},
   "source": [
    "# Primal Dual"
   ]
  },
  {
   "cell_type": "markdown",
   "metadata": {},
   "source": [
    "# Projection onto the simplex"
   ]
  },
  {
   "cell_type": "markdown",
   "metadata": {},
   "source": [
    "\n",
    "\n",
    "<div class=\"alert alert-block alert-success\">\n",
    "This notebook implements an algorithm for the projection of a vector $y$ onto the simplex $\\Delta$ with\n",
    "\\begin{align}\n",
    "    \\Delta := \\Big\\{ (x_1,\\ldots,x_N)\\in \\mathbb{R}^N:\\, \\sum_{n=1}^N x_n =a \\quad\\text{and}\\quad x\\geq 0 \\Big\\}.\n",
    "\\end{align}\n",
    "    \n",
    "The implemented algorithm was proposed in: Condat, L. <i>Fast projection onto the simplex and the ℓ<sub>1</sub> ball</i>. Math. Program. 158, 575–585 (2016). [https://doi.org/10.1007/s10107-015-0946-6](https://doi.org/10.1007/s10107-015-0946-6). \n",
    "    \n",
    "The paper is also available at [https://hal.archives-ouvertes.fr/hal-01056171v2](https://hal.archives-ouvertes.fr/hal-01056171v2).\n",
    "</div>"
   ]
  },
  {
   "cell_type": "markdown",
   "metadata": {},
   "source": [
    "<div style=\"background-color:rgba(0, 0, 0, 0.0470588); vertical-align: middle; padding:5px 0; padding-left: 40px;\">\n",
    "<h2 style=\"color: #5e9ca0;\">Condat's Algorithm</h2>\n",
    "<ol>\n",
    "<li>Set $v:= (y_1)$, $u$ as an empty list, $\\rho:= y_1 - a$.</li>\n",
    "<li>For $n \\in \\{2,\\ldots, N\\}$, do\n",
    "<ol>\n",
    "<li>If $y_n > \\rho$\n",
    "<ol>\n",
    "<li>Set $\\rho := \\rho + (y_n - \\rho)/(|v|+1)$.</li>\n",
    "<li>If $\\rho > y_n - a$, add $y_n$ to $v$.</li>\n",
    "<li>Else, add $v$ to $u$, set $v = (y_n)$, $\\rho = y_n -a$.</li>\n",
    "</ol>\n",
    "</li>\n",
    "</ol>\n",
    "</li>\n",
    "<li>If $u$ is not empty, for every element $y$ of $u$, do\n",
    "<ol>\n",
    "<li>If $y > \\rho$, add $y$ to $v$ and set $\\rho := \\rho + (y-\\rho)/|v|$.</li>\n",
    "</ol>\n",
    "</li>\n",
    "<li>Do, while $|v|$ changes,\n",
    "<ol>\n",
    "<li>For every element $y$ of $v$ do\n",
    "<ol>\n",
    "<li>If $y\\leq \\rho$, remove $y$ from $v$ and set $\\rho := \\rho + (\\rho - y)/|v|$.</li>\n",
    "</ol>\n",
    "</li>\n",
    "</ol>\n",
    "</li>\n",
    "<li>Set $\\tau := \\rho$, $K = |v|$.</li>\n",
    "<li>For $n \\in \\{1,\\ldots,N\\}$, set $x_n := \\max \\{y_n - \\tau, 0\\}$.</li>\n",
    "</ol>\n",
    "</div>"
   ]
  },
  {
   "cell_type": "markdown",
   "metadata": {},
   "source": [
    "The algorithm will be tested projecting a random vector $y$ of size $N$ where $y_n \\sim \\mathcal{U}(-1,2)$ for all $n\\in \\{1,\\ldots,N\\}$."
   ]
  },
  {
   "cell_type": "code",
   "execution_count": 1,
   "metadata": {},
   "outputs": [],
   "source": [
    "import numpy as np\n",
    "from numpy import nditer, ndenumerate, zeros, zeros_like, clip, allclose, full, maximum\n",
    "from numpy.random import default_rng as rng"
   ]
  },
  {
   "cell_type": "code",
   "execution_count": 2,
   "metadata": {},
   "outputs": [],
   "source": [
    "N = 1000\n",
    "y = rng(0).uniform(-1,2,N)\n",
    "a = 1.0"
   ]
  },
  {
   "cell_type": "markdown",
   "metadata": {},
   "source": [
    "## List version"
   ]
  },
  {
   "cell_type": "markdown",
   "metadata": {},
   "source": [
    "<div class=\"alert alert-block alert-info\">\n",
    "First implementation is list-based. It sticks to the algorithm above, and thus it cannot take the advantage that $v$ is the list of positive values of $y$, thus requiring the unnecessary triming in Step 6.\n",
    "</div>"
   ]
  },
  {
   "cell_type": "code",
   "execution_count": 3,
   "metadata": {},
   "outputs": [],
   "source": [
    "# Step 1\n",
    "v = [y[0]]\n",
    "u = []\n",
    "ρ = y[0] - a"
   ]
  },
  {
   "cell_type": "code",
   "execution_count": 4,
   "metadata": {
    "code_folding": [
     0
    ]
   },
   "outputs": [],
   "source": [
    "# Step 2\n",
    "for n in range(1,N):\n",
    "    yₙ = y[n]\n",
    "    if yₙ > ρ:\n",
    "        ρ += (yₙ - ρ)/( len(v) + 1 )\n",
    "        if ρ > yₙ - a:\n",
    "            v.append(yₙ)\n",
    "        else:\n",
    "            u.extend(v)\n",
    "            v = [yₙ]\n",
    "            ρ = yₙ - a\n",
    "# Step 3\n",
    "if len(u) > 0:\n",
    "    for ι in iter(u):\n",
    "        if ι > ρ:\n",
    "            v.append(ι)\n",
    "            ρ += (ι - ρ)/( len(v) )\n",
    "# Step 4\n",
    "while True:\n",
    "    ℓ_v = len(v)\n",
    "    for ı in range(ℓ_v - 1, -1, -1):\n",
    "        if v[ı] <= ρ:\n",
    "            ρ += (ρ - v[ı])/(len(v) - 1)\n",
    "            del v[ı]\n",
    "    if len(v) >= ℓ_v:\n",
    "        break"
   ]
  },
  {
   "cell_type": "code",
   "execution_count": 5,
   "metadata": {},
   "outputs": [],
   "source": [
    "x = clip(y - ρ, 0, None)"
   ]
  },
  {
   "cell_type": "code",
   "execution_count": 6,
   "metadata": {},
   "outputs": [
    {
     "data": {
      "text/plain": [
       "array([0.06744738, 0.01832359, 0.06110709, 0.01940269, 0.00520454,\n",
       "       0.06056962, 0.02164565, 0.01061472, 0.04190357, 0.05789789,\n",
       "       0.02130254, 0.0148837 , 0.06684845, 0.05188726, 0.00241651,\n",
       "       0.04805173, 0.0173415 , 0.02582169, 0.03312648, 0.07432163,\n",
       "       0.02410941, 0.01056192, 0.03883018, 0.03691761, 0.05087173,\n",
       "       0.00455268, 0.06171698, 0.05232123])"
      ]
     },
     "execution_count": 6,
     "metadata": {},
     "output_type": "execute_result"
    }
   ],
   "source": [
    "v - ρ"
   ]
  },
  {
   "cell_type": "markdown",
   "metadata": {},
   "source": [
    "## Vectorial version 1"
   ]
  },
  {
   "cell_type": "markdown",
   "metadata": {},
   "source": [
    "<div class=\"alert alert-block alert-info\">\n",
    "The following adaptation introduces some array operations to avoid the extra step of clipping negative numbers. Here $v$ is not a set but a boolean array of the same size as $y$. Its cells determine if a cell of $y$ is active in $v$ or not. In the end, $x$ is computed just on the active cells given by $v$.\n",
    "</div>"
   ]
  },
  {
   "cell_type": "code",
   "execution_count": 7,
   "metadata": {},
   "outputs": [],
   "source": [
    "# Step 1\n",
    "ρ = y[0] - a\n",
    "\n",
    "v = zeros(N, dtype=bool)\n",
    "x = zeros_like(y)\n",
    "u = []\n",
    "v[0] = True"
   ]
  },
  {
   "cell_type": "code",
   "execution_count": 8,
   "metadata": {
    "code_folding": [
     0
    ]
   },
   "outputs": [],
   "source": [
    "# Step 2\n",
    "for n in range(1,N):\n",
    "    yₙ = y[n]\n",
    "    if yₙ > ρ:\n",
    "        ρ += (yₙ - ρ)/( v.sum() + 1 )\n",
    "        if ρ > yₙ - a:\n",
    "            v[n] = True\n",
    "        else:\n",
    "            u.extend([i[0] for i,j in ndenumerate(v) if j])\n",
    "            v *= False;    v[n] = True\n",
    "            ρ = yₙ - a\n",
    "# Step 3\n",
    "if len(u) > 0:\n",
    "    for n in iter(u):\n",
    "        yₙ = y[n]\n",
    "        if yₙ > ρ:\n",
    "            v[n] = True\n",
    "            ρ += (yₙ - ρ)/( v.sum() )\n",
    "# Step 4\n",
    "while True:\n",
    "    ℓ_v = v.sum()\n",
    "    for i,j in ndenumerate(v):\n",
    "        if j:\n",
    "            if y[i[0]] <= ρ:\n",
    "                ρ += (ρ - y[i[0]])/(v.sum() - 1)\n",
    "                v[i[0]] = False\n",
    "    if v.sum() >= ℓ_v:\n",
    "        break"
   ]
  },
  {
   "cell_type": "code",
   "execution_count": 9,
   "metadata": {},
   "outputs": [],
   "source": [
    "x[v] = y[v] - ρ #clip(y[v] - ρ, 0.0, None)"
   ]
  },
  {
   "cell_type": "code",
   "execution_count": 10,
   "metadata": {},
   "outputs": [
    {
     "data": {
      "text/plain": [
       "array([0.06744738, 0.01832359, 0.06110709, 0.01940269, 0.00520454,\n",
       "       0.06056962, 0.02164565, 0.01061472, 0.04190357, 0.05789789,\n",
       "       0.02130254, 0.0148837 , 0.06684845, 0.05188726, 0.00241651,\n",
       "       0.04805173, 0.0173415 , 0.02582169, 0.03312648, 0.07432163,\n",
       "       0.02410941, 0.01056192, 0.03883018, 0.03691761, 0.05087173,\n",
       "       0.00455268, 0.06171698, 0.05232123])"
      ]
     },
     "execution_count": 10,
     "metadata": {},
     "output_type": "execute_result"
    }
   ],
   "source": [
    "x[v]"
   ]
  },
  {
   "cell_type": "markdown",
   "metadata": {},
   "source": [
    "## Vectorial version 2"
   ]
  },
  {
   "cell_type": "markdown",
   "metadata": {},
   "source": [
    "<div class=\"alert alert-block alert-info\">\n",
    "The final implementation takes back the original idea of using lists instead of an array of the same size as $y$. In this case, $v$ does not contain values from $y$ but its indeces. This way a sparse representation of $v$ is achieved and $x$ does not go through a clipping step as well.\n",
    "</div>"
   ]
  },
  {
   "cell_type": "code",
   "execution_count": 11,
   "metadata": {},
   "outputs": [],
   "source": [
    "# Step 1\n",
    "ρ = y[0] - a\n",
    "\n",
    "x = zeros_like(y)\n",
    "v = [0]\n",
    "u = []"
   ]
  },
  {
   "cell_type": "code",
   "execution_count": 12,
   "metadata": {
    "cell_style": "center",
    "code_folding": [
     0
    ]
   },
   "outputs": [],
   "source": [
    "# Step 2\n",
    "for n in range(1,N):\n",
    "    yₙ = y[n]\n",
    "    if yₙ > ρ:\n",
    "        ρ += (yₙ - ρ)/( len(v) + 1 )\n",
    "        if ρ > yₙ - a:\n",
    "            v.append(n)\n",
    "        else:\n",
    "            u.extend(v)\n",
    "            v = [n]\n",
    "            ρ = yₙ - a\n",
    "# Step 3\n",
    "if len(u) > 0:\n",
    "    for n in iter(u):\n",
    "        yₙ = y[n]\n",
    "        if yₙ > ρ:\n",
    "            v.append(n)\n",
    "            ρ += (yₙ - ρ)/( len(v) )\n",
    "# Step 4\n",
    "while True:\n",
    "    ℓ_v = len(v)\n",
    "    for i,j in enumerate(v):\n",
    "        if y[j] <= ρ:\n",
    "            ρ += (ρ - y[j])/(len(v) - 1)\n",
    "            del v[i]\n",
    "    if len(v) >= ℓ_v:\n",
    "        break"
   ]
  },
  {
   "cell_type": "code",
   "execution_count": 13,
   "metadata": {},
   "outputs": [],
   "source": [
    "x[v] = y[v] - ρ #clip(y[v] - ρ, 0.0, None)"
   ]
  },
  {
   "cell_type": "code",
   "execution_count": 14,
   "metadata": {},
   "outputs": [
    {
     "data": {
      "text/plain": [
       "array([0.06744738, 0.01832359, 0.06110709, 0.01940269, 0.00520454,\n",
       "       0.06056962, 0.02164565, 0.01061472, 0.04190357, 0.05789789,\n",
       "       0.02130254, 0.0148837 , 0.06684845, 0.05188726, 0.00241651,\n",
       "       0.04805173, 0.0173415 , 0.02582169, 0.03312648, 0.07432163,\n",
       "       0.02410941, 0.01056192, 0.03883018, 0.03691761, 0.05087173,\n",
       "       0.00455268, 0.06171698, 0.05232123])"
      ]
     },
     "execution_count": 14,
     "metadata": {},
     "output_type": "execute_result"
    }
   ],
   "source": [
    "x[v]"
   ]
  },
  {
   "cell_type": "markdown",
   "metadata": {},
   "source": [
    "---"
   ]
  },
  {
   "cell_type": "markdown",
   "metadata": {},
   "source": [
    "## Performance tests"
   ]
  },
  {
   "cell_type": "markdown",
   "metadata": {},
   "source": [
    "<div class=\"alert alert-block alert-warning\">\n",
    "Now we check which routine is the fastest.\n",
    "</div>"
   ]
  },
  {
   "cell_type": "code",
   "execution_count": 15,
   "metadata": {
    "code_folding": [
     0,
     6,
     17,
     23,
     34,
     43,
     54,
     61,
     74,
     82,
     93,
     100
    ]
   },
   "outputs": [],
   "source": [
    "def CondatP_a(y,a,N):\n",
    "    # Step 1\n",
    "    v = [y[0]]\n",
    "    u = []\n",
    "    ρ = y[0] - a\n",
    "    # Step 2\n",
    "    for n in range(1,N):\n",
    "        yₙ = y[n]\n",
    "        if yₙ > ρ:\n",
    "            ρ += (yₙ - ρ)/( len(v) + 1 )\n",
    "            if ρ > yₙ - a:\n",
    "                v.append(yₙ)\n",
    "            else:\n",
    "                u.extend(v)\n",
    "                v = [yₙ]\n",
    "                ρ = yₙ - a\n",
    "    # Step 3\n",
    "    if len(u) > 0:\n",
    "        for ι in iter(u):\n",
    "            if ι > ρ:\n",
    "                v.append(ι)\n",
    "                ρ += (ι - ρ)/( len(v) )\n",
    "    # Step 4\n",
    "    while True:\n",
    "        ℓ_v = len(v)\n",
    "        for ı in range(ℓ_v - 1, -1, -1):\n",
    "            if v[ı] <= ρ:\n",
    "                ρ += (ρ - v[ı])/(len(v) - 1)\n",
    "                del v[ı]\n",
    "        if len(v) >= ℓ_v:\n",
    "            break\n",
    "            \n",
    "    return clip(y - ρ, 0, None)\n",
    "\n",
    "def CondatP_b(y,a,N):\n",
    "    # Step 1\n",
    "    ρ = y[0] - a\n",
    "\n",
    "    v = zeros(N, dtype=bool)\n",
    "    x = zeros_like(y)\n",
    "    u = []\n",
    "    v[0] = True\n",
    "    # Step 2\n",
    "    for n in range(1,N):\n",
    "        yₙ = y[n]\n",
    "        if yₙ > ρ:\n",
    "            ρ += (yₙ - ρ)/( v.sum() + 1 )\n",
    "            if ρ > yₙ - a:\n",
    "                v[n] = True\n",
    "            else:\n",
    "                u.extend([i[0] for i,j in ndenumerate(v) if j])\n",
    "                v *= False;    v[n] = True\n",
    "                ρ = yₙ - a\n",
    "    # Step 3\n",
    "    if len(u) > 0:\n",
    "        for n in iter(u):\n",
    "            yₙ = y[n]\n",
    "            if yₙ > ρ:\n",
    "                v[n] = True\n",
    "                ρ += (yₙ - ρ)/( v.sum() )\n",
    "    # Step 4\n",
    "    while True:\n",
    "        ℓ_v = v.sum()\n",
    "        for i,j in ndenumerate(v):\n",
    "            if j:\n",
    "                if y[i[0]] <= ρ:\n",
    "                    ρ += (ρ - y[i[0]])/(v.sum() - 1)\n",
    "                    v[i[0]] = False\n",
    "        if v.sum() >= ℓ_v:\n",
    "            break\n",
    "\n",
    "    x[v] = y[v] - ρ \n",
    "    return x\n",
    "\n",
    "def CondatP_c(y,a,N):\n",
    "    # Step 1\n",
    "    ρ = y[0] - a\n",
    "\n",
    "    x = zeros_like(y)\n",
    "    v = [0]\n",
    "    u = []\n",
    "    # Step 2\n",
    "    for n in range(1,N):\n",
    "        yₙ = y[n]\n",
    "        if yₙ > ρ:\n",
    "            ρ += (yₙ - ρ)/( len(v) + 1 )\n",
    "            if ρ > yₙ - a:\n",
    "                v.append(n)\n",
    "            else:\n",
    "                u.extend(v)\n",
    "                v = [n]\n",
    "                ρ = yₙ - a\n",
    "    # Step 3\n",
    "    if len(u) > 0:\n",
    "        for n in iter(u):\n",
    "            yₙ = y[n]\n",
    "            if yₙ > ρ:\n",
    "                v.append(n)\n",
    "                ρ += (yₙ - ρ)/( len(v) )\n",
    "    # Step 4\n",
    "    while True:\n",
    "        ℓ_v = len(v)\n",
    "        for i,j in enumerate(v):\n",
    "            if y[j] <= ρ:\n",
    "                ρ += (ρ - y[j])/(len(v) - 1)\n",
    "                del v[i]\n",
    "        if len(v) >= ℓ_v:\n",
    "            break\n",
    "    \n",
    "    x[v] = y[v] - ρ\n",
    "    return x"
   ]
  },
  {
   "cell_type": "code",
   "execution_count": 16,
   "metadata": {},
   "outputs": [
    {
     "name": "stdout",
     "output_type": "stream",
     "text": [
      "267 µs ± 41.7 µs per loop (mean ± std. dev. of 10 runs, 200 loops each)\n"
     ]
    }
   ],
   "source": [
    "%timeit -r 10 -n 200 CondatP_a(y,a,N)"
   ]
  },
  {
   "cell_type": "code",
   "execution_count": 17,
   "metadata": {},
   "outputs": [
    {
     "name": "stdout",
     "output_type": "stream",
     "text": [
      "1.38 ms ± 38.9 µs per loop (mean ± std. dev. of 10 runs, 200 loops each)\n"
     ]
    }
   ],
   "source": [
    "%timeit -r 10 -n 200 CondatP_b(y,a,N)"
   ]
  },
  {
   "cell_type": "code",
   "execution_count": 18,
   "metadata": {},
   "outputs": [
    {
     "name": "stdout",
     "output_type": "stream",
     "text": [
      "268 µs ± 7.54 µs per loop (mean ± std. dev. of 10 runs, 200 loops each)\n"
     ]
    }
   ],
   "source": [
    "%timeit -r 10 -n 200 CondatP_c(y,a,N)"
   ]
  },
  {
   "cell_type": "markdown",
   "metadata": {},
   "source": [
    "As we can see, the last implementation might be a little faster than the original."
   ]
  },
  {
   "cell_type": "markdown",
   "metadata": {},
   "source": [
    "---"
   ]
  },
  {
   "cell_type": "markdown",
   "metadata": {},
   "source": [
    "## Just-in-time compilation with numba\n",
    "\n",
    "<div class=\"alert alert-block alert-warning\">\n",
    "We use numba to speed up the computation time.\n",
    "</div>"
   ]
  },
  {
   "cell_type": "code",
   "execution_count": 19,
   "metadata": {},
   "outputs": [],
   "source": [
    "from numba import jit, prange"
   ]
  },
  {
   "cell_type": "code",
   "execution_count": 20,
   "metadata": {
    "code_folding": [
     1
    ]
   },
   "outputs": [],
   "source": [
    "@jit(nopython=True, fastmath = True, parallel = True)\n",
    "def CondatP_a(y,a,N):\n",
    "    # Step 1\n",
    "    v = [y[0]]\n",
    "    u = []\n",
    "    ρ = y[0] - a\n",
    "    # Step 2\n",
    "    for n in range(1,N):\n",
    "        yₙ = y[n]\n",
    "        if yₙ > ρ:\n",
    "            ρ += (yₙ - ρ)/( len(v) + 1 )\n",
    "            if ρ > yₙ - a:\n",
    "                v.append(yₙ)\n",
    "            else:\n",
    "                u.extend(v)\n",
    "                v = [yₙ]\n",
    "                ρ = yₙ - a\n",
    "    # Step 3\n",
    "    if len(u) > 0:\n",
    "        for ι in iter(u):\n",
    "            if ι > ρ:\n",
    "                v.append(ι)\n",
    "                ρ += (ι - ρ)/( len(v) )\n",
    "    # Step 4\n",
    "    while True:\n",
    "        ℓ_v = len(v)\n",
    "        for ı in range(ℓ_v - 1, -1, -1):\n",
    "            if v[ı] <= ρ:\n",
    "                ρ += (ρ - v[ı])/(len(v) - 1)\n",
    "                del v[ı]\n",
    "        if len(v) >= ℓ_v:\n",
    "            break\n",
    "            \n",
    "    return maximum(y - ρ, 0)"
   ]
  },
  {
   "cell_type": "code",
   "execution_count": 21,
   "metadata": {
    "code_folding": [
     1
    ]
   },
   "outputs": [],
   "source": [
    "@jit(nopython=True, fastmath = True, parallel = True)\n",
    "def CondatP_b(y,a,N):\n",
    "    # Step 1\n",
    "    ρ = y[0] - a\n",
    "\n",
    "    v = full(N, False)\n",
    "    x = zeros_like(y)\n",
    "    u = []\n",
    "    v[0] = True\n",
    "    # Step 2\n",
    "    for n in range(1,N):\n",
    "        yₙ = y[n]\n",
    "        if yₙ > ρ:\n",
    "            ρ += (yₙ - ρ)/( v.sum() + 1 )\n",
    "            if ρ > yₙ - a:\n",
    "                v[n] = True\n",
    "            else:\n",
    "                u.extend([i[0] for i,j in ndenumerate(v) if j])\n",
    "                v *= False;    v[n] = True\n",
    "                ρ = yₙ - a\n",
    "    # Step 3\n",
    "    if len(u) > 0:\n",
    "        for n in iter(u):\n",
    "            yₙ = y[n]\n",
    "            if yₙ > ρ:\n",
    "                v[n] = True\n",
    "                ρ += (yₙ - ρ)/( v.sum() )\n",
    "    # Step 4\n",
    "    while True:\n",
    "        ℓ_v = v.sum()\n",
    "        for i,j in ndenumerate(v):\n",
    "            if j:\n",
    "                if y[i[0]] <= ρ:\n",
    "                    ρ += (ρ - y[i[0]])/(v.sum() - 1)\n",
    "                    v[i[0]] = False\n",
    "        if v.sum() >= ℓ_v:\n",
    "            break\n",
    "\n",
    "    x[v] = y[v] - ρ \n",
    "    return x"
   ]
  },
  {
   "cell_type": "code",
   "execution_count": 22,
   "metadata": {
    "code_folding": [
     1
    ]
   },
   "outputs": [],
   "source": [
    "@jit(nopython=True, fastmath = True)#, parallel = True)\n",
    "def CondatP_c(y,a,N):\n",
    "    # Step 1\n",
    "    ρ = y[0] - a\n",
    "\n",
    "    x = zeros_like(y)\n",
    "    v = [0]\n",
    "    u = []\n",
    "    # Step 2\n",
    "    for n in range(1,N):\n",
    "        yₙ = y[n]\n",
    "        if yₙ > ρ:\n",
    "            ρ += (yₙ - ρ)/( len(v) + 1 )\n",
    "            if ρ > yₙ - a:\n",
    "                v.append(n)\n",
    "            else:\n",
    "                u.extend(v)\n",
    "                v = [n]\n",
    "                ρ = yₙ - a\n",
    "    # Step 3\n",
    "    if len(u) > 0:\n",
    "        for n in iter(u):\n",
    "            yₙ = y[n]\n",
    "            if yₙ > ρ:\n",
    "                v.append(n)\n",
    "                ρ += (yₙ - ρ)/( len(v) )\n",
    "    # Step 4\n",
    "    while True:\n",
    "        ℓ_v = len(v)\n",
    "        for i,j in enumerate(v):\n",
    "            if y[j] <= ρ:\n",
    "                ρ += (ρ - y[j])/(len(v) - 1)\n",
    "                del v[i]\n",
    "        if len(v) >= ℓ_v:\n",
    "            break\n",
    "    \n",
    "    #x[v] = y[v] - ρ\n",
    "    for n in iter(v):\n",
    "        x[n] = y[n] - ρ\n",
    "    #for n in prange(len(v)):\n",
    "    #    x[v[n]] = y[v[n]] - ρ\n",
    "    return x"
   ]
  },
  {
   "cell_type": "code",
   "execution_count": 23,
   "metadata": {},
   "outputs": [],
   "source": [
    "# Run things once for pre-compiling:\n",
    "CondatP_a(y,a,N), CondatP_b(y,a,N), CondatP_c(y,a,N);"
   ]
  },
  {
   "cell_type": "markdown",
   "metadata": {},
   "source": [
    "Now we see a clear winner."
   ]
  },
  {
   "cell_type": "code",
   "execution_count": 24,
   "metadata": {},
   "outputs": [
    {
     "name": "stdout",
     "output_type": "stream",
     "text": [
      "11.7 µs ± 1.77 µs per loop (mean ± std. dev. of 10 runs, 200 loops each)\n"
     ]
    }
   ],
   "source": [
    "%timeit -r 10 -n 200 CondatP_a(y,a,N)"
   ]
  },
  {
   "cell_type": "code",
   "execution_count": 25,
   "metadata": {},
   "outputs": [
    {
     "name": "stdout",
     "output_type": "stream",
     "text": [
      "461 µs ± 12.7 µs per loop (mean ± std. dev. of 10 runs, 200 loops each)\n"
     ]
    }
   ],
   "source": [
    "%timeit -r 10 -n 200 CondatP_b(y,a,N)"
   ]
  },
  {
   "cell_type": "code",
   "execution_count": 26,
   "metadata": {
    "scrolled": true
   },
   "outputs": [
    {
     "name": "stdout",
     "output_type": "stream",
     "text": [
      "5.59 µs ± 866 ns per loop (mean ± std. dev. of 10 runs, 200 loops each)\n"
     ]
    }
   ],
   "source": [
    "%timeit -r 10 -n 200 CondatP_c(y,a,N)"
   ]
  },
  {
   "cell_type": "markdown",
   "metadata": {},
   "source": [
    "Finally, a sanity check:"
   ]
  },
  {
   "cell_type": "code",
   "execution_count": 27,
   "metadata": {},
   "outputs": [
    {
     "data": {
      "text/plain": [
       "(True, True)"
      ]
     },
     "execution_count": 27,
     "metadata": {},
     "output_type": "execute_result"
    }
   ],
   "source": [
    "allclose(CondatP_a(y,a,N), CondatP_b(y,a,N)), allclose(CondatP_a(y,a,N), CondatP_c(y,a,N))"
   ]
  },
  {
   "cell_type": "markdown",
   "metadata": {},
   "source": [
    "---"
   ]
  },
  {
   "cell_type": "markdown",
   "metadata": {},
   "source": [
    "Now we can finally addapt the code to accept a matrix $\\gamma$ as input."
   ]
  },
  {
   "cell_type": "code",
   "execution_count": 28,
   "metadata": {},
   "outputs": [],
   "source": [
    "N = 1000\n",
    "M = 500\n",
    "γ = rng(0).uniform(-1,2,(N,M))\n",
    "a = 1.0"
   ]
  },
  {
   "cell_type": "code",
   "execution_count": 29,
   "metadata": {},
   "outputs": [],
   "source": [
    "y = rng(0).uniform(-1,2,N)\n",
    "x = zeros_like(γ)"
   ]
  },
  {
   "cell_type": "code",
   "execution_count": 30,
   "metadata": {
    "code_folding": [
     1
    ]
   },
   "outputs": [],
   "source": [
    "@jit(nopython=True, fastmath = True)#, parallel = True)\n",
    "def CondatP_c(y,x,a,N):\n",
    "    # Step 1\n",
    "    ρ = y[0] - a\n",
    "    v = [0]\n",
    "    u = []\n",
    "    # Step 2\n",
    "    for n in range(1,N):\n",
    "        yₙ = y[n]\n",
    "        if yₙ > ρ:\n",
    "            ρ += (yₙ - ρ)/( len(v) + 1 )\n",
    "            if ρ > yₙ - a:\n",
    "                v.append(n)\n",
    "            else:\n",
    "                u.extend(v)\n",
    "                v = [n]\n",
    "                ρ = yₙ - a\n",
    "    # Step 3\n",
    "    if len(u) > 0:\n",
    "        for n in iter(u):\n",
    "            yₙ = y[n]\n",
    "            if yₙ > ρ:\n",
    "                v.append(n)\n",
    "                ρ += (yₙ - ρ)/( len(v) )\n",
    "    # Step 4\n",
    "    while True:\n",
    "        ℓ_v = len(v)\n",
    "        for i,j in enumerate(v):\n",
    "            if y[j] <= ρ:\n",
    "                ρ += (ρ - y[j])/(len(v) - 1)\n",
    "                del v[i]\n",
    "        if len(v) >= ℓ_v:\n",
    "            break\n",
    "    \n",
    "    #x[v] = y[v] - ρ\n",
    "    for n in iter(v):\n",
    "        x[n] = y[n] - ρ\n",
    "    #for n in prange(len(v)):\n",
    "    #    x[v[n]] = y[v[n]] - ρ\n",
    "    return x"
   ]
  },
  {
   "cell_type": "code",
   "execution_count": 31,
   "metadata": {},
   "outputs": [],
   "source": [
    "CondatP_c(y,x,a,N); # Null test"
   ]
  },
  {
   "cell_type": "code",
   "execution_count": 32,
   "metadata": {},
   "outputs": [],
   "source": [
    "for i in range(N):\n",
    "    x[i] = CondatP_c(γ[i],x[i],a,M)"
   ]
  },
  {
   "cell_type": "code",
   "execution_count": 33,
   "metadata": {
    "scrolled": true
   },
   "outputs": [
    {
     "name": "stdout",
     "output_type": "stream",
     "text": [
      "26\n",
      "27\n",
      "77\n",
      "94\n",
      "163\n",
      "171\n",
      "194\n",
      "198\n",
      "239\n",
      "252\n",
      "275\n",
      "278\n",
      "308\n",
      "349\n",
      "368\n",
      "405\n",
      "412\n",
      "414\n",
      "497\n",
      "530\n",
      "698\n",
      "734\n",
      "736\n",
      "745\n",
      "762\n",
      "790\n",
      "799\n",
      "812\n"
     ]
    }
   ],
   "source": [
    "# Just checking :)\n",
    "for i in range(N):\n",
    "    if x[i].sum() > 2:\n",
    "        print(i)"
   ]
  },
  {
   "cell_type": "code",
   "execution_count": 34,
   "metadata": {
    "scrolled": true
   },
   "outputs": [
    {
     "data": {
      "text/plain": [
       "array([ 1.        ,  1.        ,  1.        ,  1.        ,  1.        ,\n",
       "        1.        ,  1.        ,  1.        ,  1.        ,  1.        ,\n",
       "        1.        ,  1.        ,  1.        ,  1.        ,  1.        ,\n",
       "        1.        ,  1.        ,  1.        ,  1.        ,  1.        ,\n",
       "        1.        ,  1.        ,  1.        ,  1.        ,  1.        ,\n",
       "        1.        , 33.17240125,  9.86861806,  1.        ,  1.        ,\n",
       "        1.        ,  1.        ,  1.        ,  1.        ,  1.        ,\n",
       "        1.        ,  1.        ,  1.        ,  1.        ,  1.        ,\n",
       "        1.        ,  1.        ,  1.        ,  1.        ,  1.        ,\n",
       "        1.        ,  1.        ,  1.        ,  1.        ,  1.        ,\n",
       "        1.        ,  1.        ,  1.        ,  1.        ,  1.        ,\n",
       "        1.        ,  1.        ,  1.        ,  1.        ,  1.        ,\n",
       "        1.        ,  1.        ,  1.        ,  1.        ,  1.        ,\n",
       "        1.        ,  1.        ,  1.        ,  1.        ,  1.        ,\n",
       "        1.        ,  1.        ,  1.        ,  1.        ,  1.        ,\n",
       "        1.        ,  1.        , 30.57583176,  1.        ,  1.        ,\n",
       "        1.        ,  1.        ,  1.        ,  1.        ,  1.        ,\n",
       "        1.        ,  1.        ,  1.        ,  1.        ,  1.        ,\n",
       "        1.        ,  1.        ,  1.        ,  1.        , 10.29389086,\n",
       "        1.        ,  1.        ,  1.        ,  1.        ,  1.        ,\n",
       "        1.        ,  1.        ,  1.        ,  1.        ,  1.        ,\n",
       "        1.        ,  1.        ,  1.        ,  1.        ,  1.        ,\n",
       "        1.        ,  1.        ,  1.        ,  1.        ,  1.        ,\n",
       "        1.        ,  1.        ,  1.        ,  1.        ,  1.        ,\n",
       "        1.        ,  1.        ,  1.        ,  1.        ,  1.        ,\n",
       "        1.        ,  1.        ,  1.        ,  1.        ,  1.        ,\n",
       "        1.        ,  1.        ,  1.        ,  1.        ,  1.        ,\n",
       "        1.        ,  1.        ,  1.        ,  1.        ,  1.        ,\n",
       "        1.        ,  1.        ,  1.        ,  1.        ,  1.        ,\n",
       "        1.        ,  1.        ,  1.        ,  1.        ,  1.        ,\n",
       "        1.        ,  1.        ,  1.        ,  1.        ,  1.        ,\n",
       "        1.        ,  1.        ,  1.        ,  1.        ,  1.        ,\n",
       "        1.        ,  1.        ,  1.        ,  3.51899761,  1.        ,\n",
       "        1.        ,  1.        ,  1.        ,  1.        ,  1.        ,\n",
       "        1.        , 29.83113873,  1.        ,  1.        ,  1.        ,\n",
       "        1.        ,  1.        ,  1.        ,  1.        ,  1.        ,\n",
       "        1.        ,  1.        ,  1.        ,  1.        ,  1.        ,\n",
       "        1.        ,  1.        ,  1.        ,  1.        ,  1.        ,\n",
       "        1.        ,  1.        ,  1.        ,  1.        , 11.38991396,\n",
       "        1.        ,  1.        ,  1.        ,  6.09506379,  1.        ,\n",
       "        1.        ,  1.        ,  1.        ,  1.        ,  1.        ,\n",
       "        1.        ,  1.        ,  1.        ,  1.        ,  1.        ,\n",
       "        1.        ,  1.        ,  1.        ,  1.        ,  1.        ,\n",
       "        1.        ,  1.        ,  1.        ,  1.        ,  1.        ,\n",
       "        1.        ,  1.        ,  1.        ,  1.        ,  1.        ,\n",
       "        1.        ,  1.        ,  1.        ,  1.        ,  1.        ,\n",
       "        1.        ,  1.        ,  1.        ,  1.        ,  1.        ,\n",
       "        1.        ,  1.        ,  1.        ,  1.        , 20.98800518,\n",
       "        1.        ,  1.        ,  1.        ,  1.        ,  1.        ,\n",
       "        1.        ,  1.        ,  1.        ,  1.        ,  1.        ,\n",
       "        1.        ,  1.        , 28.84888429,  1.        ,  1.        ,\n",
       "        1.        ,  1.        ,  1.        ,  1.        ,  1.        ,\n",
       "        1.        ,  1.        ,  1.        ,  1.        ,  1.        ,\n",
       "        1.        ,  1.        ,  1.        ,  1.        ,  1.        ,\n",
       "        1.        ,  1.        ,  1.        ,  1.        ,  1.        ,\n",
       "       11.24652333,  1.        ,  1.        ,  8.11440871,  1.        ,\n",
       "        1.        ,  1.        ,  1.        ,  1.        ,  1.        ,\n",
       "        1.        ,  1.        ,  1.        ,  1.        ,  1.        ,\n",
       "        1.        ,  1.        ,  1.        ,  1.        ,  1.        ,\n",
       "        1.        ,  1.        ,  1.        ,  1.        ,  1.        ,\n",
       "        1.        ,  1.        ,  1.        ,  1.        ,  1.        ,\n",
       "        1.        ,  1.        ,  1.        , 33.22095479,  1.        ,\n",
       "        1.        ,  1.        ,  1.        ,  1.        ,  1.        ,\n",
       "        1.        ,  1.        ,  1.        ,  1.        ,  1.        ,\n",
       "        1.        ,  1.        ,  1.        ,  1.        ,  1.        ,\n",
       "        1.        ,  1.        ,  1.        ,  1.        ,  1.        ,\n",
       "        1.        ,  1.        ,  1.        ,  1.        ,  1.        ,\n",
       "        1.        ,  1.        ,  1.        ,  1.        ,  1.        ,\n",
       "        1.        ,  1.        ,  1.        ,  1.        ,  1.        ,\n",
       "        1.        ,  1.        ,  1.        ,  1.        , 25.80211049,\n",
       "        1.        ,  1.        ,  1.        ,  1.        ,  1.        ,\n",
       "        1.        ,  1.        ,  1.        ,  1.        ,  1.        ,\n",
       "        1.        ,  1.        ,  1.        ,  1.        ,  1.        ,\n",
       "        1.        ,  1.        ,  1.        ,  2.16475781,  1.        ,\n",
       "        1.        ,  1.        ,  1.        ,  1.        ,  1.        ,\n",
       "        1.        ,  1.        ,  1.        ,  1.        ,  1.        ,\n",
       "        1.        ,  1.        ,  1.        ,  1.        ,  1.        ,\n",
       "        1.        ,  1.        ,  1.        ,  1.        ,  1.        ,\n",
       "        1.        ,  1.        ,  1.        ,  1.        ,  1.        ,\n",
       "        1.        ,  1.        ,  1.        ,  1.        ,  1.        ,\n",
       "        1.        ,  1.        ,  1.        ,  1.        ,  1.        ,\n",
       "       24.16093358,  1.        ,  1.        ,  1.        ,  1.        ,\n",
       "        1.        ,  1.        ,  9.34126161,  1.        , 13.47187838,\n",
       "        1.        ,  1.        ,  1.        ,  1.        ,  1.        ,\n",
       "        1.        ,  1.        ,  1.        ,  1.        ,  1.        ,\n",
       "        1.        ,  1.        ,  1.        ,  1.        ,  1.        ,\n",
       "        1.        ,  1.        ,  1.        ,  1.        ,  1.        ,\n",
       "        1.        ,  1.        ,  1.        ,  1.        ,  1.        ,\n",
       "        1.        ,  1.        ,  1.        ,  1.        ,  1.        ,\n",
       "        1.        ,  1.        ,  1.        ,  1.        ,  1.        ,\n",
       "        1.        ,  1.        ,  1.        ,  1.        ,  1.        ,\n",
       "        1.        ,  1.        ,  1.        ,  1.        ,  1.        ,\n",
       "        1.        ,  1.        ,  1.        ,  1.        ,  1.        ,\n",
       "        1.        ,  1.        ,  1.        ,  1.        ,  1.        ,\n",
       "        1.        ,  1.        ,  1.        ,  1.        ,  1.        ,\n",
       "        1.        ,  1.        ,  1.        ,  1.        ,  1.        ,\n",
       "        1.        ,  1.        ,  1.        ,  1.        ,  1.        ,\n",
       "        1.        ,  1.        ,  1.        ,  1.        ,  1.        ,\n",
       "        1.        ,  1.        ,  1.        ,  1.        ,  1.        ,\n",
       "        1.        ,  1.        , 16.93383702,  1.        ,  1.        ,\n",
       "        1.        ,  1.        ,  1.        ,  1.        ,  1.        ,\n",
       "        1.        ,  1.        ,  1.        ,  1.        ,  1.        ,\n",
       "        1.        ,  1.        ,  1.        ,  1.        ,  1.        ,\n",
       "        1.        ,  1.        ,  1.        ,  1.        ,  1.        ,\n",
       "        1.        ,  1.        ,  1.        ,  1.        ,  1.        ,\n",
       "        1.        ,  1.        ,  1.        ,  1.        ,  1.        ,\n",
       "       36.82302637,  1.        ,  1.        ,  1.        ,  1.        ,\n",
       "        1.        ,  1.        ,  1.        ,  1.        ,  1.        ,\n",
       "        1.        ,  1.        ,  1.        ,  1.        ,  1.        ,\n",
       "        1.        ,  1.        ,  1.        ,  1.        ,  1.        ,\n",
       "        1.        ,  1.        ,  1.        ,  1.        ,  1.        ,\n",
       "        1.        ,  1.        ,  1.        ,  1.        ,  1.        ,\n",
       "        1.        ,  1.        ,  1.        ,  1.        ,  1.        ,\n",
       "        1.        ,  1.        ,  1.        ,  1.        ,  1.        ,\n",
       "        1.        ,  1.        ,  1.        ,  1.        ,  1.        ,\n",
       "        1.        ,  1.        ,  1.        ,  1.        ,  1.        ,\n",
       "        1.        ,  1.        ,  1.        ,  1.        ,  1.        ,\n",
       "        1.        ,  1.        ,  1.        ,  1.        ,  1.        ,\n",
       "        1.        ,  1.        ,  1.        ,  1.        ,  1.        ,\n",
       "        1.        ,  1.        ,  1.        ,  1.        ,  1.        ,\n",
       "        1.        ,  1.        ,  1.        ,  1.        ,  1.        ,\n",
       "        1.        ,  1.        ,  1.        ,  1.        ,  1.        ,\n",
       "        1.        ,  1.        ,  1.        ,  1.        ,  1.        ,\n",
       "        1.        ,  1.        ,  1.        ,  1.        ,  1.        ,\n",
       "        1.        ,  1.        ,  1.        ,  1.        ,  1.        ,\n",
       "        1.        ,  1.        ,  1.        ,  1.        ,  1.        ,\n",
       "        1.        ,  1.        ,  1.        ,  1.        ,  1.        ,\n",
       "        1.        ,  1.        ,  1.        ,  1.        ,  1.        ,\n",
       "        1.        ,  1.        ,  1.        ,  1.        ,  1.        ,\n",
       "        1.        ,  1.        ,  1.        ,  1.        ,  1.        ,\n",
       "        1.        ,  1.        ,  1.        ,  1.        ,  1.        ,\n",
       "        1.        ,  1.        ,  1.        ,  1.        ,  1.        ,\n",
       "        1.        ,  1.        ,  1.        ,  1.        ,  1.        ,\n",
       "        1.        ,  1.        ,  1.        ,  1.        ,  1.        ,\n",
       "        1.        ,  1.        ,  1.        ,  1.        ,  1.        ,\n",
       "        1.        ,  1.        ,  1.        ,  1.        ,  1.        ,\n",
       "        1.        ,  1.        ,  1.        ,  1.        ,  1.        ,\n",
       "        1.        ,  1.        ,  1.        ,  1.        ,  1.        ,\n",
       "        1.        ,  1.        ,  1.        ,  1.        ,  1.        ,\n",
       "        1.        ,  1.        ,  1.        , 12.64484517,  1.        ,\n",
       "        1.        ,  1.        ,  1.        ,  1.        ,  1.        ,\n",
       "        1.        ,  1.        ,  1.        ,  1.        ,  1.        ,\n",
       "        1.        ,  1.        ,  1.        ,  1.        ,  1.        ,\n",
       "        1.        ,  1.        ,  1.        ,  1.        ,  1.        ,\n",
       "        1.        ,  1.        ,  1.        ,  1.        ,  1.        ,\n",
       "        1.        ,  1.        ,  1.        ,  1.        ,  1.        ,\n",
       "        1.        ,  1.        ,  1.        ,  1.        ,  6.08028196,\n",
       "        1.        , 19.67731835,  1.        ,  1.        ,  1.        ,\n",
       "        1.        ,  1.        ,  1.        ,  1.        ,  1.        ,\n",
       "       18.57278016,  1.        ,  1.        ,  1.        ,  1.        ,\n",
       "        1.        ,  1.        ,  1.        ,  1.        ,  1.        ,\n",
       "        1.        ,  1.        ,  1.        ,  1.        ,  1.        ,\n",
       "        1.        ,  1.        , 25.3166868 ,  1.        ,  1.        ,\n",
       "        1.        ,  1.        ,  1.        ,  1.        ,  1.        ,\n",
       "        1.        ,  1.        ,  1.        ,  1.        ,  1.        ,\n",
       "        1.        ,  1.        ,  1.        ,  1.        ,  1.        ,\n",
       "        1.        ,  1.        ,  1.        ,  1.        ,  1.        ,\n",
       "        1.        ,  1.        ,  1.        ,  1.        ,  1.        ,\n",
       "        3.16707561,  1.        ,  1.        ,  1.        ,  1.        ,\n",
       "        1.        ,  1.        ,  1.        ,  1.        , 30.56243575,\n",
       "        1.        ,  1.        ,  1.        ,  1.        ,  1.        ,\n",
       "        1.        ,  1.        ,  1.        ,  1.        ,  1.        ,\n",
       "        1.        ,  1.        , 26.27115617,  1.        ,  1.        ,\n",
       "        1.        ,  1.        ,  1.        ,  1.        ,  1.        ,\n",
       "        1.        ,  1.        ,  1.        ,  1.        ,  1.        ,\n",
       "        1.        ,  1.        ,  1.        ,  1.        ,  1.        ,\n",
       "        1.        ,  1.        ,  1.        ,  1.        ,  1.        ,\n",
       "        1.        ,  1.        ,  1.        ,  1.        ,  1.        ,\n",
       "        1.        ,  1.        ,  1.        ,  1.        ,  1.        ,\n",
       "        1.        ,  1.        ,  1.        ,  1.        ,  1.        ,\n",
       "        1.        ,  1.        ,  1.        ,  1.        ,  1.        ,\n",
       "        1.        ,  1.        ,  1.        ,  1.        ,  1.        ,\n",
       "        1.        ,  1.        ,  1.        ,  1.        ,  1.        ,\n",
       "        1.        ,  1.        ,  1.        ,  1.        ,  1.        ,\n",
       "        1.        ,  1.        ,  1.        ,  1.        ,  1.        ,\n",
       "        1.        ,  1.        ,  1.        ,  1.        ,  1.        ,\n",
       "        1.        ,  1.        ,  1.        ,  1.        ,  1.        ,\n",
       "        1.        ,  1.        ,  1.        ,  1.        ,  1.        ,\n",
       "        1.        ,  1.        ,  1.        ,  1.        ,  1.        ,\n",
       "        1.        ,  1.        ,  1.        ,  1.        ,  1.        ,\n",
       "        1.        ,  1.        ,  1.        ,  1.        ,  1.        ,\n",
       "        1.        ,  1.        ,  1.        ,  1.        ,  1.        ,\n",
       "        1.        ,  1.        ,  1.        ,  1.        ,  1.        ,\n",
       "        1.        ,  1.        ,  1.        ,  1.        ,  1.        ,\n",
       "        1.        ,  1.        ,  1.        ,  1.        ,  1.        ,\n",
       "        1.        ,  1.        ,  1.        ,  1.        ,  1.        ,\n",
       "        1.        ,  1.        ,  1.        ,  1.        ,  1.        ,\n",
       "        1.        ,  1.        ,  1.        ,  1.        ,  1.        ,\n",
       "        1.        ,  1.        ,  1.        ,  1.        ,  1.        ,\n",
       "        1.        ,  1.        ,  1.        ,  1.        ,  1.        ,\n",
       "        1.        ,  1.        ,  1.        ,  1.        ,  1.        ,\n",
       "        1.        ,  1.        ,  1.        ,  1.        ,  1.        ,\n",
       "        1.        ,  1.        ,  1.        ,  1.        ,  1.        ,\n",
       "        1.        ,  1.        ,  1.        ,  1.        ,  1.        ,\n",
       "        1.        ,  1.        ,  1.        ,  1.        ,  1.        ,\n",
       "        1.        ,  1.        ,  1.        ,  1.        ,  1.        ,\n",
       "        1.        ,  1.        ,  1.        ,  1.        ,  1.        ,\n",
       "        1.        ,  1.        ,  1.        ,  1.        ,  1.        ,\n",
       "        1.        ,  1.        ,  1.        ,  1.        ,  1.        ,\n",
       "        1.        ,  1.        ,  1.        ,  1.        ,  1.        ])"
      ]
     },
     "execution_count": 34,
     "metadata": {},
     "output_type": "execute_result"
    }
   ],
   "source": [
    "x.sum(axis=1)"
   ]
  },
  {
   "cell_type": "markdown",
   "metadata": {},
   "source": [
    "# Primal Dual"
   ]
  },
  {
   "cell_type": "code",
   "execution_count": 41,
   "metadata": {},
   "outputs": [],
   "source": [
    "def primal_dual(c,m,n,iters):\n",
    "    #Algorithm for calculating solutino x, in the primal space\n",
    "    #and y_1, y_2 in the dual space.\n",
    "    #Also returns the value of the objective function c*x at each\n",
    "    #iteration.\n",
    "    \n",
    "    #Initialise tau\n",
    "    tau = 0.5\n",
    "    \n",
    "    #Initialise sigma\n",
    "    sig = 0.5\n",
    "    \n",
    "    #fetch lengths of m and n.\n",
    "    N = np.size(n)\n",
    "    M = np.size(m)\n",
    "    \n",
    "    #Initialise x\n",
    "    #x = (np.transpose(m) + n)/(N+M)\n",
    "    x = np.zeros((M,N))\n",
    "    x[:,0] = m\n",
    "    x[0,:] = n\n",
    "    x[0,0] = 0.5*(m[-1] + n[-1])\n",
    "    \n",
    "    #Initialise y_1 and y_2\n",
    "    y_1 = np.zeros((M,N))\n",
    "    y_2 = np.zeros((M,N))\n",
    "    \n",
    "    y_1[0,:] = n\n",
    "    y_2[:,0] = m\n",
    "    \n",
    "    #Save that objective function\n",
    "    obj = [np.sum(np.multiply(c,x))]\n",
    "    \n",
    "    \n",
    "    for k in range(iters):\n",
    "        #update x\n",
    "        xnew = x - tau*c - tau*(y_1 + y_2)\n",
    "        \n",
    "        #matrices for projection over the simplex C_1^m and the simplex C_2^n.\n",
    "        γ_1 = (1/sig)*y_1 + 2*xnew - x\n",
    "        γ_2 = (1/sig)*y_2 + 2*xnew - x\n",
    "        \n",
    "        \n",
    "        x_1 = zeros_like(γ_1)\n",
    "        \n",
    "        for i in range(N):\n",
    "            x_1[:,i] = CondatP_c(γ_1[:,i],x_1[:,i],n[i],M)\n",
    "        \n",
    "        x_2 = zeros_like(γ_2)\n",
    "        for i in range(M):\n",
    "            x_2[i,:] = CondatP_c(γ_2[i,:],x_2[i,:],m[i],N)\n",
    "            \n",
    "        \n",
    "        #update x using the projection over the simplex C_1^m\n",
    "        y_1new = y_1 + sig*(2*xnew - x) - sig*x_1\n",
    "  \n",
    "        #update x using the projection over the simplex C_2^n\n",
    "        y_2new = y_2 + sig*(2*xnew - x) - sig*x_2\n",
    "        \n",
    "        #Reset x,y_1, y_2 for the next iteration\n",
    "        x = xnew\n",
    "        y_1 = y_1new\n",
    "        y_2 = y_2new\n",
    "        \n",
    "        #update objective function\n",
    "        obj.append(np.sum(np.multiply(c,x)))\n",
    "        \n",
    "        \n",
    "    return [x,obj]"
   ]
  },
  {
   "cell_type": "code",
   "execution_count": 44,
   "metadata": {},
   "outputs": [
    {
     "data": {
      "text/plain": [
       "<matplotlib.image.AxesImage at 0x7f7b078cad10>"
      ]
     },
     "execution_count": 44,
     "metadata": {},
     "output_type": "execute_result"
    },
    {
     "data": {
      "image/png": "[encoded data removed]",
      "text/plain": [
       "<Figure size 432x288 with 1 Axes>"
      ]
     },
     "metadata": {
      "needs_background": "light"
     },
     "output_type": "display_data"
    }
   ],
   "source": [
    "import matplotlib.pyplot as plt\n",
    "x = np.linspace(0,1,500)\n",
    "y = np.linspace(1,2,1000)\n",
    "len_x = np.size(x)\n",
    "len_y = np.size(y)\n",
    "\n",
    "c = np.zeros((len_x,len_y))\n",
    "for i in range(len_x):\n",
    "    for j in range(len_y):\n",
    "        c[i,j] = (y[j]-x[i])**2\n",
    "\n",
    "m = np.ones(len_x)/len_x\n",
    "n = np.ones(len_y)/len_y\n",
    "M = len_x\n",
    "N = len_y\n",
    "\n",
    "#x = np.zeros((N,M))\n",
    "#x[:,0] = n\n",
    "#x[0,:] = m\n",
    "#x[0,0] = 0.5*(m[-1] + n[-1])\n",
    "\n",
    "#np.shape(np.matmul(c,x))\n",
    "[x,obj] = primal_dual(c,m,n,100)\n",
    "#print(obj[-1])\n",
    "plt.plot(obj)\n",
    "plt.imshow(x)"
   ]
  },
  {
   "cell_type": "markdown",
   "metadata": {},
   "source": [
    "## Exact Test"
   ]
  },
  {
   "cell_type": "code",
   "execution_count": 43,
   "metadata": {},
   "outputs": [
    {
     "name": "stdout",
     "output_type": "stream",
     "text": [
      "[[-4.44089210e-16  2.50000000e-01 -4.44089210e-16  0.00000000e+00]\n",
      " [-2.22044605e-16  0.00000000e+00  1.11022302e-16  2.50000000e-01]\n",
      " [-2.22044605e-16  0.00000000e+00  2.50000000e-01 -2.22044605e-16]\n",
      " [ 2.50000000e-01  0.00000000e+00 -2.22044605e-16 -4.44089210e-16]]\n"
     ]
    },
    {
     "data": {
      "image/png": "[encoded data removed]",
      "text/plain": [
       "<Figure size 432x288 with 1 Axes>"
      ]
     },
     "metadata": {
      "needs_background": "light"
     },
     "output_type": "display_data"
    }
   ],
   "source": [
    "import matplotlib.pyplot as plt\n",
    "M = 4                  \n",
    "N = 4\n",
    "m = 0.25*np.ones(M)\n",
    "n = 0.25*np.ones(N)\n",
    "c = np.array([[3.10112791, 2.01924761, 2.        , 2.01924761],\n",
    "     [3.10112791, 3.        , 1.16637984, 1.        ],\n",
    "     [3.        , 3.10112791, 1.16637984, 2.01924761],\n",
    "     [1.        , 3.        , 2.33275967, 4.22075809]])\n",
    "[x,obj] = primal_dual(c,m,n,100)\n",
    "plt.plot(obj)\n",
    "print(x)"
   ]
  },
  {
   "cell_type": "markdown",
   "metadata": {},
   "source": []
  },
  {
   "cell_type": "code",
   "execution_count": null,
   "metadata": {},
   "outputs": [],
   "source": []
  },
  {
   "cell_type": "markdown",
   "metadata": {},
   "source": [
    "---"
   ]
  }
 ],
 "metadata": {
  "kernelspec": {
   "display_name": "Python 3",
   "language": "python",
   "name": "python3"
  },
  "language_info": {
   "codemirror_mode": {
    "name": "ipython",
    "version": 3
   },
   "file_extension": ".py",
   "mimetype": "text/x-python",
   "name": "python",
   "nbconvert_exporter": "python",
   "pygments_lexer": "ipython3",
   "version": "3.7.6"
  }
 },
 "nbformat": 4,
 "nbformat_minor": 2
}
