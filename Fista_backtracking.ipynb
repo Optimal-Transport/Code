{
  "nbformat": 4,
  "nbformat_minor": 0,
  "metadata": {
    "kernelspec": {
      "display_name": "Python 3",
      "language": "python",
      "name": "python3"
    },
    "language_info": {
      "codemirror_mode": {
        "name": "ipython",
        "version": 3
      },
      "file_extension": ".py",
      "mimetype": "text/x-python",
      "name": "python",
      "nbconvert_exporter": "python",
      "pygments_lexer": "ipython3",
      "version": "3.7.9"
    },
    "colab": {
      "name": "Fista_backtracking.ipynb",
      "provenance": [],
      "collapsed_sections": [
        "cOXSRYAx9byv",
        "wz912UMM9byw"
      ]
    }
  },
  "cells": [
    {
      "cell_type": "markdown",
      "metadata": {
        "id": "XmDIcVuZ9byj"
      },
      "source": [
        "# Projection onto the simplex"
      ]
    },
    {
      "cell_type": "markdown",
      "metadata": {
        "id": "kSvEte419byp"
      },
      "source": [
        "\n",
        "\n",
        "<div class=\"alert alert-block alert-success\">\n",
        "This notebook implements an algorithm for the projection of a vector $y$ onto the simplex $\\Delta$ with\n",
        "\\begin{align}\n",
        "    \\Delta := \\Big\\{ (x_1,\\ldots,x_N)\\in \\mathbb{R}^N:\\, \\sum_{n=1}^N x_n =a \\quad\\text{and}\\quad x\\geq 0 \\Big\\}.\n",
        "\\end{align}\n",
        "    \n",
        "The implemented algorithm was proposed in: Condat, L. <i>Fast projection onto the simplex and the ℓ<sub>1</sub> ball</i>. Math. Program. 158, 575–585 (2016). [https://doi.org/10.1007/s10107-015-0946-6](https://doi.org/10.1007/s10107-015-0946-6). \n",
        "    \n",
        "The paper is also available at [https://hal.archives-ouvertes.fr/hal-01056171v2](https://hal.archives-ouvertes.fr/hal-01056171v2).\n",
        "</div>"
      ]
    },
    {
      "cell_type": "markdown",
      "metadata": {
        "id": "xI1v-mMf9byq"
      },
      "source": [
        "<div style=\"background-color:rgba(0, 0, 0, 0.0470588); vertical-align: middle; padding:5px 0; padding-left: 40px;\">\n",
        "<h2 style=\"color: #5e9ca0;\">Condat's Algorithm</h2>\n",
        "<ol>\n",
        "<li>Set $v:= (y_1)$, $u$ as an empty list, $\\rho:= y_1 - a$.</li>\n",
        "<li>For $n \\in \\{2,\\ldots, N\\}$, do\n",
        "<ol>\n",
        "<li>If $y_n > \\rho$\n",
        "<ol>\n",
        "<li>Set $\\rho := \\rho + (y_n - \\rho)/(|v|+1)$.</li>\n",
        "<li>If $\\rho > y_n - a$, add $y_n$ to $v$.</li>\n",
        "<li>Else, add $v$ to $u$, set $v = (y_n)$, $\\rho = y_n -a$.</li>\n",
        "</ol>\n",
        "</li>\n",
        "</ol>\n",
        "</li>\n",
        "<li>If $u$ is not empty, for every element $y$ of $u$, do\n",
        "<ol>\n",
        "<li>If $y > \\rho$, add $y$ to $v$ and set $\\rho := \\rho + (y-\\rho)/|v|$.</li>\n",
        "</ol>\n",
        "</li>\n",
        "<li>Do, while $|v|$ changes,\n",
        "<ol>\n",
        "<li>For every element $y$ of $v$ do\n",
        "<ol>\n",
        "<li>If $y\\leq \\rho$, remove $y$ from $v$ and set $\\rho := \\rho + (\\rho - y)/|v|$.</li>\n",
        "</ol>\n",
        "</li>\n",
        "</ol>\n",
        "</li>\n",
        "<li>Set $\\tau := \\rho$, $K = |v|$.</li>\n",
        "<li>For $n \\in \\{1,\\ldots,N\\}$, set $x_n := \\max \\{y_n - \\tau, 0\\}$.</li>\n",
        "</ol>\n",
        "</div>"
      ]
    },
    {
      "cell_type": "markdown",
      "metadata": {
        "id": "5zM4zw-y9byr"
      },
      "source": [
        "The algorithm will be tested projecting a random vector $y$ of size $N$ where $y_n \\sim \\mathcal{U}(-1,2)$ for all $n\\in \\{1,\\ldots,N\\}$."
      ]
    },
    {
      "cell_type": "code",
      "metadata": {
        "id": "NzNvMKue9byr"
      },
      "source": [
        "import numpy as np\n",
        "from numpy import nditer, ndenumerate, zeros, zeros_like, clip, allclose, full, maximum\n",
        "from numpy.random import default_rng as rng\n",
        "import math, time"
      ],
      "execution_count": 1,
      "outputs": []
    },
    {
      "cell_type": "code",
      "metadata": {
        "id": "H2ARDq3K9byr"
      },
      "source": [
        "N = 1000\n",
        "y = rng(0).uniform(-1,2,N)\n",
        "a = 1.0"
      ],
      "execution_count": 2,
      "outputs": []
    },
    {
      "cell_type": "markdown",
      "metadata": {
        "id": "45ept5pt9byr"
      },
      "source": [
        "## List version"
      ]
    },
    {
      "cell_type": "markdown",
      "metadata": {
        "id": "1qCLHtIp9bys"
      },
      "source": [
        "<div class=\"alert alert-block alert-info\">\n",
        "First implementation is list-based. It sticks to the algorithm above, and thus it cannot take the advantage that $v$ is the list of positive values of $y$, thus requiring the unnecessary triming in Step 6.\n",
        "</div>"
      ]
    },
    {
      "cell_type": "code",
      "metadata": {
        "id": "ziqtrJgt9bys"
      },
      "source": [
        "# Step 1\n",
        "v = [y[0]]\n",
        "u = []\n",
        "ρ = y[0] - a"
      ],
      "execution_count": 3,
      "outputs": []
    },
    {
      "cell_type": "code",
      "metadata": {
        "code_folding": [
          0
        ],
        "id": "gyizajKM9bys"
      },
      "source": [
        "# Step 2\n",
        "for n in range(1,N):\n",
        "    yₙ = y[n]\n",
        "    if yₙ > ρ:\n",
        "        ρ += (yₙ - ρ)/( len(v) + 1 )\n",
        "        if ρ > yₙ - a:\n",
        "            v.append(yₙ)\n",
        "        else:\n",
        "            u.extend(v)\n",
        "            v = [yₙ]\n",
        "            ρ = yₙ - a\n",
        "# Step 3\n",
        "if len(u) > 0:\n",
        "    for ι in iter(u):\n",
        "        if ι > ρ:\n",
        "            v.append(ι)\n",
        "            ρ += (ι - ρ)/( len(v) )\n",
        "# Step 4\n",
        "while True:\n",
        "    ℓ_v = len(v)\n",
        "    for ı in range(ℓ_v - 1, -1, -1):\n",
        "        if v[ı] <= ρ:\n",
        "            ρ += (ρ - v[ı])/(len(v) - 1)\n",
        "            del v[ı]\n",
        "    if len(v) >= ℓ_v:\n",
        "        break"
      ],
      "execution_count": 4,
      "outputs": []
    },
    {
      "cell_type": "code",
      "metadata": {
        "id": "LafOp4w69bys"
      },
      "source": [
        "x = clip(y - ρ, 0, None)"
      ],
      "execution_count": 5,
      "outputs": []
    },
    {
      "cell_type": "code",
      "metadata": {
        "colab": {
          "base_uri": "https://localhost:8080/"
        },
        "id": "vDVJFJxc9byt",
        "outputId": "cc841b51-9ad9-4f43-9102-8c9fea7ef683"
      },
      "source": [
        "v - ρ"
      ],
      "execution_count": 6,
      "outputs": [
        {
          "output_type": "execute_result",
          "data": {
            "text/plain": [
              "array([0.06744738, 0.01832359, 0.06110709, 0.01940269, 0.00520454,\n",
              "       0.06056962, 0.02164565, 0.01061472, 0.04190357, 0.05789789,\n",
              "       0.02130254, 0.0148837 , 0.06684845, 0.05188726, 0.00241651,\n",
              "       0.04805173, 0.0173415 , 0.02582169, 0.03312648, 0.07432163,\n",
              "       0.02410941, 0.01056192, 0.03883018, 0.03691761, 0.05087173,\n",
              "       0.00455268, 0.06171698, 0.05232123])"
            ]
          },
          "metadata": {
            "tags": []
          },
          "execution_count": 6
        }
      ]
    },
    {
      "cell_type": "markdown",
      "metadata": {
        "id": "_3Dfnhoj9byt"
      },
      "source": [
        "## Vectorial version 1"
      ]
    },
    {
      "cell_type": "markdown",
      "metadata": {
        "id": "0ugMSuWB9byt"
      },
      "source": [
        "<div class=\"alert alert-block alert-info\">\n",
        "The following adaptation introduces some array operations to avoid the extra step of clipping negative numbers. Here $v$ is not a set but a boolean array of the same size as $y$. Its cells determine if a cell of $y$ is active in $v$ or not. In the end, $x$ is computed just on the active cells given by $v$.\n",
        "</div>"
      ]
    },
    {
      "cell_type": "code",
      "metadata": {
        "id": "YHYfcpuR9byu"
      },
      "source": [
        "# Step 1\n",
        "ρ = y[0] - a\n",
        "\n",
        "v = zeros(N, dtype=bool)\n",
        "x = zeros_like(y)\n",
        "u = []\n",
        "v[0] = True"
      ],
      "execution_count": 7,
      "outputs": []
    },
    {
      "cell_type": "code",
      "metadata": {
        "code_folding": [
          0
        ],
        "id": "uKLohtuY9byu"
      },
      "source": [
        "# Step 2\n",
        "for n in range(1,N):\n",
        "    yₙ = y[n]\n",
        "    if yₙ > ρ:\n",
        "        ρ += (yₙ - ρ)/( v.sum() + 1 )\n",
        "        if ρ > yₙ - a:\n",
        "            v[n] = True\n",
        "        else:\n",
        "            u.extend([i[0] for i,j in ndenumerate(v) if j])\n",
        "            v *= False;    v[n] = True\n",
        "            ρ = yₙ - a\n",
        "# Step 3\n",
        "if len(u) > 0:\n",
        "    for n in iter(u):\n",
        "        yₙ = y[n]\n",
        "        if yₙ > ρ:\n",
        "            v[n] = True\n",
        "            ρ += (yₙ - ρ)/( v.sum() )\n",
        "# Step 4\n",
        "while True:\n",
        "    ℓ_v = v.sum()\n",
        "    for i,j in ndenumerate(v):\n",
        "        if j:\n",
        "            if y[i[0]] <= ρ:\n",
        "                ρ += (ρ - y[i[0]])/(v.sum() - 1)\n",
        "                v[i[0]] = False\n",
        "    if v.sum() >= ℓ_v:\n",
        "        break"
      ],
      "execution_count": 8,
      "outputs": []
    },
    {
      "cell_type": "code",
      "metadata": {
        "id": "6JFUgQKV9byu"
      },
      "source": [
        "x[v] = y[v] - ρ #clip(y[v] - ρ, 0.0, None)"
      ],
      "execution_count": 9,
      "outputs": []
    },
    {
      "cell_type": "code",
      "metadata": {
        "colab": {
          "base_uri": "https://localhost:8080/"
        },
        "id": "8uQliJUz9byu",
        "outputId": "e0b286d1-166f-4ef9-ac59-9ec302857960"
      },
      "source": [
        "x[v]"
      ],
      "execution_count": 10,
      "outputs": [
        {
          "output_type": "execute_result",
          "data": {
            "text/plain": [
              "array([0.06744738, 0.01832359, 0.06110709, 0.01940269, 0.00520454,\n",
              "       0.06056962, 0.02164565, 0.01061472, 0.04190357, 0.05789789,\n",
              "       0.02130254, 0.0148837 , 0.06684845, 0.05188726, 0.00241651,\n",
              "       0.04805173, 0.0173415 , 0.02582169, 0.03312648, 0.07432163,\n",
              "       0.02410941, 0.01056192, 0.03883018, 0.03691761, 0.05087173,\n",
              "       0.00455268, 0.06171698, 0.05232123])"
            ]
          },
          "metadata": {
            "tags": []
          },
          "execution_count": 10
        }
      ]
    },
    {
      "cell_type": "markdown",
      "metadata": {
        "id": "cOXSRYAx9byv"
      },
      "source": [
        "## Vectorial version 2"
      ]
    },
    {
      "cell_type": "markdown",
      "metadata": {
        "id": "lkkyaYt89byv"
      },
      "source": [
        "<div class=\"alert alert-block alert-info\">\n",
        "The final implementation takes back the original idea of using lists instead of an array of the same size as $y$. In this case, $v$ does not contain values from $y$ but its indeces. This way a sparse representation of $v$ is achieved and $x$ does not go through a clipping step as well.\n",
        "</div>"
      ]
    },
    {
      "cell_type": "code",
      "metadata": {
        "id": "tmfk1ltk9byv"
      },
      "source": [
        "# Step 1\n",
        "ρ = y[0] - a\n",
        "\n",
        "x = zeros_like(y)\n",
        "v = [0]\n",
        "u = []"
      ],
      "execution_count": 11,
      "outputs": []
    },
    {
      "cell_type": "code",
      "metadata": {
        "cell_style": "center",
        "code_folding": [
          0
        ],
        "id": "gpO9YPSR9byv"
      },
      "source": [
        "# Step 2\n",
        "for n in range(1,N):\n",
        "    yₙ = y[n]\n",
        "    if yₙ > ρ:\n",
        "        ρ += (yₙ - ρ)/( len(v) + 1 )\n",
        "        if ρ > yₙ - a:\n",
        "            v.append(n)\n",
        "        else:\n",
        "            u.extend(v)\n",
        "            v = [n]\n",
        "            ρ = yₙ - a\n",
        "# Step 3\n",
        "if len(u) > 0:\n",
        "    for n in iter(u):\n",
        "        yₙ = y[n]\n",
        "        if yₙ > ρ:\n",
        "            v.append(n)\n",
        "            ρ += (yₙ - ρ)/( len(v) )\n",
        "# Step 4\n",
        "while True:\n",
        "    ℓ_v = len(v)\n",
        "    for i,j in enumerate(v):\n",
        "        if y[j] <= ρ:\n",
        "            ρ += (ρ - y[j])/(len(v) - 1)\n",
        "            del v[i]\n",
        "    if len(v) >= ℓ_v:\n",
        "        break"
      ],
      "execution_count": 12,
      "outputs": []
    },
    {
      "cell_type": "code",
      "metadata": {
        "id": "cabOrffi9byv"
      },
      "source": [
        "x[v] = y[v] - ρ #clip(y[v] - ρ, 0.0, None)"
      ],
      "execution_count": 13,
      "outputs": []
    },
    {
      "cell_type": "code",
      "metadata": {
        "colab": {
          "base_uri": "https://localhost:8080/"
        },
        "id": "XeItKOaW9byv",
        "outputId": "d40ca710-4db7-4156-e043-f238857ff627"
      },
      "source": [
        "x[v]"
      ],
      "execution_count": 14,
      "outputs": [
        {
          "output_type": "execute_result",
          "data": {
            "text/plain": [
              "array([0.06744738, 0.01832359, 0.06110709, 0.01940269, 0.00520454,\n",
              "       0.06056962, 0.02164565, 0.01061472, 0.04190357, 0.05789789,\n",
              "       0.02130254, 0.0148837 , 0.06684845, 0.05188726, 0.00241651,\n",
              "       0.04805173, 0.0173415 , 0.02582169, 0.03312648, 0.07432163,\n",
              "       0.02410941, 0.01056192, 0.03883018, 0.03691761, 0.05087173,\n",
              "       0.00455268, 0.06171698, 0.05232123])"
            ]
          },
          "metadata": {
            "tags": []
          },
          "execution_count": 14
        }
      ]
    },
    {
      "cell_type": "markdown",
      "metadata": {
        "id": "2jdUhHD09byw"
      },
      "source": [
        "---"
      ]
    },
    {
      "cell_type": "markdown",
      "metadata": {
        "id": "wz912UMM9byw"
      },
      "source": [
        "## Performance tests"
      ]
    },
    {
      "cell_type": "markdown",
      "metadata": {
        "id": "gVQBWpGU9byw"
      },
      "source": [
        "<div class=\"alert alert-block alert-warning\">\n",
        "Now we check which routine is the fastest.\n",
        "</div>"
      ]
    },
    {
      "cell_type": "code",
      "metadata": {
        "code_folding": [
          0,
          6,
          17,
          23,
          34,
          43,
          54,
          61,
          74,
          82,
          93,
          100
        ],
        "id": "DAB5gncb9byw"
      },
      "source": [
        "def CondatP_a(y,a,N):\n",
        "    # Step 1\n",
        "    v = [y[0]]\n",
        "    u = []\n",
        "    ρ = y[0] - a\n",
        "    # Step 2\n",
        "    for n in range(1,N):\n",
        "        yₙ = y[n]\n",
        "        if yₙ > ρ:\n",
        "            ρ += (yₙ - ρ)/( len(v) + 1 )\n",
        "            if ρ > yₙ - a:\n",
        "                v.append(yₙ)\n",
        "            else:\n",
        "                u.extend(v)\n",
        "                v = [yₙ]\n",
        "                ρ = yₙ - a\n",
        "    # Step 3\n",
        "    if len(u) > 0:\n",
        "        for ι in iter(u):\n",
        "            if ι > ρ:\n",
        "                v.append(ι)\n",
        "                ρ += (ι - ρ)/( len(v) )\n",
        "    # Step 4\n",
        "    while True:\n",
        "        ℓ_v = len(v)\n",
        "        for ı in range(ℓ_v - 1, -1, -1):\n",
        "            if v[ı] <= ρ:\n",
        "                ρ += (ρ - v[ı])/(len(v) - 1)\n",
        "                del v[ı]\n",
        "        if len(v) >= ℓ_v:\n",
        "            break\n",
        "            \n",
        "    return clip(y - ρ, 0, None)\n",
        "\n",
        "def CondatP_b(y,a,N):\n",
        "    # Step 1\n",
        "    ρ = y[0] - a\n",
        "\n",
        "    v = zeros(N, dtype=bool)\n",
        "    x = zeros_like(y)\n",
        "    u = []\n",
        "    v[0] = True\n",
        "    # Step 2\n",
        "    for n in range(1,N):\n",
        "        yₙ = y[n]\n",
        "        if yₙ > ρ:\n",
        "            ρ += (yₙ - ρ)/( v.sum() + 1 )\n",
        "            if ρ > yₙ - a:\n",
        "                v[n] = True\n",
        "            else:\n",
        "                u.extend([i[0] for i,j in ndenumerate(v) if j])\n",
        "                v *= False;    v[n] = True\n",
        "                ρ = yₙ - a\n",
        "    # Step 3\n",
        "    if len(u) > 0:\n",
        "        for n in iter(u):\n",
        "            yₙ = y[n]\n",
        "            if yₙ > ρ:\n",
        "                v[n] = True\n",
        "                ρ += (yₙ - ρ)/( v.sum() )\n",
        "    # Step 4\n",
        "    while True:\n",
        "        ℓ_v = v.sum()\n",
        "        for i,j in ndenumerate(v):\n",
        "            if j:\n",
        "                if y[i[0]] <= ρ:\n",
        "                    ρ += (ρ - y[i[0]])/(v.sum() - 1)\n",
        "                    v[i[0]] = False\n",
        "        if v.sum() >= ℓ_v:\n",
        "            break\n",
        "\n",
        "    x[v] = y[v] - ρ \n",
        "    return x\n",
        "\n",
        "def CondatP_c(y,a,N):\n",
        "    # Step 1\n",
        "    ρ = y[0] - a\n",
        "\n",
        "    x = zeros_like(y)\n",
        "    v = [0]\n",
        "    u = []\n",
        "    # Step 2\n",
        "    for n in range(1,N):\n",
        "        yₙ = y[n]\n",
        "        if yₙ > ρ:\n",
        "            ρ += (yₙ - ρ)/( len(v) + 1 )\n",
        "            if ρ > yₙ - a:\n",
        "                v.append(n)\n",
        "            else:\n",
        "                u.extend(v)\n",
        "                v = [n]\n",
        "                ρ = yₙ - a\n",
        "    # Step 3\n",
        "    if len(u) > 0:\n",
        "        for n in iter(u):\n",
        "            yₙ = y[n]\n",
        "            if yₙ > ρ:\n",
        "                v.append(n)\n",
        "                ρ += (yₙ - ρ)/( len(v) )\n",
        "    # Step 4\n",
        "    while True:\n",
        "        ℓ_v = len(v)\n",
        "        for i,j in enumerate(v):\n",
        "            if y[j] <= ρ:\n",
        "                ρ += (ρ - y[j])/(len(v) - 1)\n",
        "                del v[i]\n",
        "        if len(v) >= ℓ_v:\n",
        "            break\n",
        "    \n",
        "    x[v] = y[v] - ρ\n",
        "    return x"
      ],
      "execution_count": 15,
      "outputs": []
    },
    {
      "cell_type": "code",
      "metadata": {
        "colab": {
          "base_uri": "https://localhost:8080/"
        },
        "id": "aP1E5nOa9byx",
        "outputId": "1a71f303-12a6-4521-e153-74119dfb7b9e"
      },
      "source": [
        "%timeit -r 10 -n 200 CondatP_a(y,a,N)"
      ],
      "execution_count": 16,
      "outputs": [
        {
          "output_type": "stream",
          "text": [
            "200 loops, best of 10: 380 µs per loop\n"
          ],
          "name": "stdout"
        }
      ]
    },
    {
      "cell_type": "code",
      "metadata": {
        "colab": {
          "base_uri": "https://localhost:8080/"
        },
        "id": "LoDC1wyk9byx",
        "outputId": "b44c84ae-7257-451e-bcec-26b4e6b3a4cf"
      },
      "source": [
        "%timeit -r 10 -n 200 CondatP_b(y,a,N)"
      ],
      "execution_count": 17,
      "outputs": [
        {
          "output_type": "stream",
          "text": [
            "200 loops, best of 10: 1.91 ms per loop\n"
          ],
          "name": "stdout"
        }
      ]
    },
    {
      "cell_type": "code",
      "metadata": {
        "colab": {
          "base_uri": "https://localhost:8080/"
        },
        "id": "qRNZpxVo9byx",
        "outputId": "5bc27fa9-cc88-4b5e-d7ed-8d841330a8fa"
      },
      "source": [
        "%timeit -r 10 -n 200 CondatP_c(y,a,N)"
      ],
      "execution_count": 18,
      "outputs": [
        {
          "output_type": "stream",
          "text": [
            "200 loops, best of 10: 420 µs per loop\n"
          ],
          "name": "stdout"
        }
      ]
    },
    {
      "cell_type": "markdown",
      "metadata": {
        "id": "n3Mo8i7j9byy"
      },
      "source": [
        "As we can see, the last implementation might be a little faster than the original."
      ]
    },
    {
      "cell_type": "markdown",
      "metadata": {
        "id": "U3xFivjw9byy"
      },
      "source": [
        "---"
      ]
    },
    {
      "cell_type": "markdown",
      "metadata": {
        "id": "oEujMd8P9byy"
      },
      "source": [
        "## Just-in-time compilation with numba\n",
        "\n",
        "<div class=\"alert alert-block alert-warning\">\n",
        "We use numba to speed up the computation time.\n",
        "</div>"
      ]
    },
    {
      "cell_type": "code",
      "metadata": {
        "id": "72WpYjW19byy"
      },
      "source": [
        "from numba import jit, prange"
      ],
      "execution_count": 19,
      "outputs": []
    },
    {
      "cell_type": "code",
      "metadata": {
        "code_folding": [
          1
        ],
        "id": "O2bFA2AE9byz"
      },
      "source": [
        "@jit(nopython=True, fastmath = True, parallel = True)\n",
        "def CondatP_a(y,a,N):\n",
        "    # Step 1\n",
        "    v = [y[0]]\n",
        "    u = []\n",
        "    ρ = y[0] - a\n",
        "    # Step 2\n",
        "    for n in range(1,N):\n",
        "        yₙ = y[n]\n",
        "        if yₙ > ρ:\n",
        "            ρ += (yₙ - ρ)/( len(v) + 1 )\n",
        "            if ρ > yₙ - a:\n",
        "                v.append(yₙ)\n",
        "            else:\n",
        "                u.extend(v)\n",
        "                v = [yₙ]\n",
        "                ρ = yₙ - a\n",
        "    # Step 3\n",
        "    if len(u) > 0:\n",
        "        for ι in iter(u):\n",
        "            if ι > ρ:\n",
        "                v.append(ι)\n",
        "                ρ += (ι - ρ)/( len(v) )\n",
        "    # Step 4\n",
        "    while True:\n",
        "        ℓ_v = len(v)\n",
        "        for ı in range(ℓ_v - 1, -1, -1):\n",
        "            if v[ı] <= ρ:\n",
        "                ρ += (ρ - v[ı])/(len(v) - 1)\n",
        "                del v[ı]\n",
        "        if len(v) >= ℓ_v:\n",
        "            break\n",
        "            \n",
        "    return maximum(y - ρ, 0)"
      ],
      "execution_count": 20,
      "outputs": []
    },
    {
      "cell_type": "code",
      "metadata": {
        "code_folding": [
          1
        ],
        "id": "4qlWyZMj9byz"
      },
      "source": [
        "@jit(nopython=True, fastmath = True, parallel = True)\n",
        "def CondatP_b(y,a,N):\n",
        "    # Step 1\n",
        "    ρ = y[0] - a\n",
        "\n",
        "    v = full(N, False)\n",
        "    x = zeros_like(y)\n",
        "    u = []\n",
        "    v[0] = True\n",
        "    # Step 2\n",
        "    for n in range(1,N):\n",
        "        yₙ = y[n]\n",
        "        if yₙ > ρ:\n",
        "            ρ += (yₙ - ρ)/( v.sum() + 1 )\n",
        "            if ρ > yₙ - a:\n",
        "                v[n] = True\n",
        "            else:\n",
        "                u.extend([i[0] for i,j in ndenumerate(v) if j])\n",
        "                v *= False;    v[n] = True\n",
        "                ρ = yₙ - a\n",
        "    # Step 3\n",
        "    if len(u) > 0:\n",
        "        for n in iter(u):\n",
        "            yₙ = y[n]\n",
        "            if yₙ > ρ:\n",
        "                v[n] = True\n",
        "                ρ += (yₙ - ρ)/( v.sum() )\n",
        "    # Step 4\n",
        "    while True:\n",
        "        ℓ_v = v.sum()\n",
        "        for i,j in ndenumerate(v):\n",
        "            if j:\n",
        "                if y[i[0]] <= ρ:\n",
        "                    ρ += (ρ - y[i[0]])/(v.sum() - 1)\n",
        "                    v[i[0]] = False\n",
        "        if v.sum() >= ℓ_v:\n",
        "            break\n",
        "\n",
        "    x[v] = y[v] - ρ \n",
        "    return x"
      ],
      "execution_count": 21,
      "outputs": []
    },
    {
      "cell_type": "code",
      "metadata": {
        "code_folding": [
          1
        ],
        "id": "Vj_RtGMZ9byz"
      },
      "source": [
        "@jit(nopython=True, fastmath = True)#, parallel = True)\n",
        "def CondatP_c(y,a,N):\n",
        "    # Step 1\n",
        "    ρ = y[0] - a\n",
        "\n",
        "    x = zeros_like(y)\n",
        "    v = [0]\n",
        "    u = []\n",
        "    # Step 2\n",
        "    for n in range(1,N):\n",
        "        yₙ = y[n]\n",
        "        if yₙ > ρ:\n",
        "            ρ += (yₙ - ρ)/( len(v) + 1 )\n",
        "            if ρ > yₙ - a:\n",
        "                v.append(n)\n",
        "            else:\n",
        "                u.extend(v)\n",
        "                v = [n]\n",
        "                ρ = yₙ - a\n",
        "    # Step 3\n",
        "    if len(u) > 0:\n",
        "        for n in iter(u):\n",
        "            yₙ = y[n]\n",
        "            if yₙ > ρ:\n",
        "                v.append(n)\n",
        "                ρ += (yₙ - ρ)/( len(v) )\n",
        "    # Step 4\n",
        "    while True:\n",
        "        ℓ_v = len(v)\n",
        "        for i,j in enumerate(v):\n",
        "            if y[j] <= ρ:\n",
        "                ρ += (ρ - y[j])/(len(v) - 1)\n",
        "                del v[i]\n",
        "        if len(v) >= ℓ_v:\n",
        "            break\n",
        "    \n",
        "    #x[v] = y[v] - ρ\n",
        "    for n in iter(v):\n",
        "        x[n] = y[n] - ρ\n",
        "    #for n in prange(len(v)):\n",
        "    #    x[v[n]] = y[v[n]] - ρ\n",
        "    return x"
      ],
      "execution_count": 22,
      "outputs": []
    },
    {
      "cell_type": "code",
      "metadata": {
        "colab": {
          "base_uri": "https://localhost:8080/"
        },
        "id": "50VIYZd99by0",
        "outputId": "ed9c9372-5140-44ea-8467-61fca9e33b03"
      },
      "source": [
        "# Run things once for pre-compiling:\n",
        "CondatP_a(y,a,N), CondatP_b(y,a,N), CondatP_c(y,a,N);"
      ],
      "execution_count": 23,
      "outputs": [
        {
          "output_type": "stream",
          "text": [
            "/usr/local/lib/python3.7/dist-packages/numba/np/ufunc/parallel.py:363: NumbaWarning: The TBB threading layer requires TBB version 2019.5 or later i.e., TBB_INTERFACE_VERSION >= 11005. Found TBB_INTERFACE_VERSION = 9107. The TBB threading layer is disabled.\n",
            "  warnings.warn(problem)\n"
          ],
          "name": "stderr"
        }
      ]
    },
    {
      "cell_type": "markdown",
      "metadata": {
        "id": "ShUIBH1A9by0"
      },
      "source": [
        "Now we see a clear winner."
      ]
    },
    {
      "cell_type": "code",
      "metadata": {
        "colab": {
          "base_uri": "https://localhost:8080/"
        },
        "id": "hm5N8RF89by0",
        "outputId": "a7f2ac52-6e87-400e-9ce7-25151fe0d711"
      },
      "source": [
        "%timeit -r 10 -n 200 CondatP_a(y,a,N)"
      ],
      "execution_count": 24,
      "outputs": [
        {
          "output_type": "stream",
          "text": [
            "200 loops, best of 10: 25.3 µs per loop\n"
          ],
          "name": "stdout"
        }
      ]
    },
    {
      "cell_type": "code",
      "metadata": {
        "colab": {
          "base_uri": "https://localhost:8080/"
        },
        "id": "sOYapLGz9by0",
        "outputId": "68c34c9e-675a-485b-ebdd-5377186ae2fe"
      },
      "source": [
        "%timeit -r 10 -n 200 CondatP_b(y,a,N)"
      ],
      "execution_count": 25,
      "outputs": [
        {
          "output_type": "stream",
          "text": [
            "200 loops, best of 10: 294 µs per loop\n"
          ],
          "name": "stdout"
        }
      ]
    },
    {
      "cell_type": "code",
      "metadata": {
        "scrolled": true,
        "colab": {
          "base_uri": "https://localhost:8080/"
        },
        "id": "LzhFnMBc9by1",
        "outputId": "1063ada5-adb5-4949-eaac-bdeaef56ede2"
      },
      "source": [
        "%timeit -r 10 -n 200 CondatP_c(y,a,N)"
      ],
      "execution_count": 26,
      "outputs": [
        {
          "output_type": "stream",
          "text": [
            "200 loops, best of 10: 24.2 µs per loop\n"
          ],
          "name": "stdout"
        }
      ]
    },
    {
      "cell_type": "markdown",
      "metadata": {
        "id": "1LkQnbL_9by1"
      },
      "source": [
        "Finally, a sanity check:"
      ]
    },
    {
      "cell_type": "code",
      "metadata": {
        "colab": {
          "base_uri": "https://localhost:8080/"
        },
        "id": "FG4cmL9J9by1",
        "outputId": "3a0ac4b3-5c97-4451-e784-2312518cd45b"
      },
      "source": [
        "allclose(CondatP_a(y,a,N), CondatP_b(y,a,N)), allclose(CondatP_a(y,a,N), CondatP_c(y,a,N))"
      ],
      "execution_count": 27,
      "outputs": [
        {
          "output_type": "execute_result",
          "data": {
            "text/plain": [
              "(True, True)"
            ]
          },
          "metadata": {
            "tags": []
          },
          "execution_count": 27
        }
      ]
    },
    {
      "cell_type": "markdown",
      "metadata": {
        "id": "mZWgMGFe9by1"
      },
      "source": [
        "---"
      ]
    },
    {
      "cell_type": "markdown",
      "metadata": {
        "id": "UsvXCt9g9by1"
      },
      "source": [
        "Now we can finally addapt the code to accept a matrix $\\gamma$ as input."
      ]
    },
    {
      "cell_type": "code",
      "metadata": {
        "id": "3B4B6kMR9by1"
      },
      "source": [
        "N = 1000\n",
        "M = 500\n",
        "γ = rng(0).uniform(-1,2,(N,M))\n",
        "a = 1.0"
      ],
      "execution_count": 28,
      "outputs": []
    },
    {
      "cell_type": "code",
      "metadata": {
        "id": "HVP9tZql9by2"
      },
      "source": [
        "y = rng(0).uniform(-1,2,N)\n",
        "x = zeros_like(γ)"
      ],
      "execution_count": 29,
      "outputs": []
    },
    {
      "cell_type": "code",
      "metadata": {
        "code_folding": [
          1
        ],
        "id": "_onjCN9L9by2"
      },
      "source": [
        "@jit(nopython=True, fastmath = True)#, parallel = True)\n",
        "def CondatP_c(y,x,a,N):\n",
        "    # Step 1\n",
        "    ρ = y[0] - a\n",
        "    v = [0]\n",
        "    u = []\n",
        "    # Step 2\n",
        "    for n in range(1,N):\n",
        "        yₙ = y[n]\n",
        "        if yₙ > ρ:\n",
        "            ρ += (yₙ - ρ)/( len(v) + 1 )\n",
        "            if ρ > yₙ - a:\n",
        "                v.append(n)\n",
        "            else:\n",
        "                u.extend(v)\n",
        "                v = [n]\n",
        "                ρ = yₙ - a\n",
        "    # Step 3\n",
        "    if len(u) > 0:\n",
        "        for n in iter(u):\n",
        "            yₙ = y[n]\n",
        "            if yₙ > ρ:\n",
        "                v.append(n)\n",
        "                ρ += (yₙ - ρ)/( len(v) )\n",
        "    # Step 4\n",
        "    while True:\n",
        "        ℓ_v = len(v)\n",
        "        for i,j in enumerate(v):\n",
        "            if y[j] <= ρ:\n",
        "                ρ += (ρ - y[j])/(len(v) - 1)\n",
        "                del v[i]\n",
        "        if len(v) >= ℓ_v:\n",
        "            break\n",
        "    \n",
        "    #x[v] = y[v] - ρ\n",
        "    for n in iter(v):\n",
        "        x[n] = y[n] - ρ\n",
        "    #for n in prange(len(v)):\n",
        "    #    x[v[n]] = y[v[n]] - ρ\n",
        "    return x"
      ],
      "execution_count": 30,
      "outputs": []
    },
    {
      "cell_type": "code",
      "metadata": {
        "id": "h1pbHumO9by2"
      },
      "source": [
        "CondatP_c(y,x,a,N); # Null test"
      ],
      "execution_count": 31,
      "outputs": []
    },
    {
      "cell_type": "code",
      "metadata": {
        "id": "EkhLQKKz9by2"
      },
      "source": [
        "for i in range(N):\n",
        "    x[i] = CondatP_c(γ[i],x[i],a,M)"
      ],
      "execution_count": 32,
      "outputs": []
    },
    {
      "cell_type": "code",
      "metadata": {
        "scrolled": true,
        "colab": {
          "base_uri": "https://localhost:8080/"
        },
        "id": "hCTxFTb79by2",
        "outputId": "345a7d3a-332e-4a4d-f42a-6888697d45e3"
      },
      "source": [
        "# Just checking :)\n",
        "for i in range(N):\n",
        "    if x[i].sum() > 2:\n",
        "        print(i)"
      ],
      "execution_count": 33,
      "outputs": [
        {
          "output_type": "stream",
          "text": [
            "26\n",
            "27\n",
            "77\n",
            "94\n",
            "163\n",
            "171\n",
            "194\n",
            "198\n",
            "239\n",
            "252\n",
            "275\n",
            "278\n",
            "308\n",
            "349\n",
            "368\n",
            "405\n",
            "412\n",
            "414\n",
            "497\n",
            "530\n",
            "698\n",
            "734\n",
            "736\n",
            "745\n",
            "762\n",
            "790\n",
            "799\n",
            "812\n"
          ],
          "name": "stdout"
        }
      ]
    },
    {
      "cell_type": "code",
      "metadata": {
        "scrolled": true,
        "colab": {
          "base_uri": "https://localhost:8080/"
        },
        "id": "gDI-6t4V9by2",
        "outputId": "0c09cb3e-4fcd-4449-d64c-395317c36c41"
      },
      "source": [
        "x.sum(axis=1)"
      ],
      "execution_count": 34,
      "outputs": [
        {
          "output_type": "execute_result",
          "data": {
            "text/plain": [
              "array([ 1.        ,  1.        ,  1.        ,  1.        ,  1.        ,\n",
              "        1.        ,  1.        ,  1.        ,  1.        ,  1.        ,\n",
              "        1.        ,  1.        ,  1.        ,  1.        ,  1.        ,\n",
              "        1.        ,  1.        ,  1.        ,  1.        ,  1.        ,\n",
              "        1.        ,  1.        ,  1.        ,  1.        ,  1.        ,\n",
              "        1.        , 33.17240125,  9.86861806,  1.        ,  1.        ,\n",
              "        1.        ,  1.        ,  1.        ,  1.        ,  1.        ,\n",
              "        1.        ,  1.        ,  1.        ,  1.        ,  1.        ,\n",
              "        1.        ,  1.        ,  1.        ,  1.        ,  1.        ,\n",
              "        1.        ,  1.        ,  1.        ,  1.        ,  1.        ,\n",
              "        1.        ,  1.        ,  1.        ,  1.        ,  1.        ,\n",
              "        1.        ,  1.        ,  1.        ,  1.        ,  1.        ,\n",
              "        1.        ,  1.        ,  1.        ,  1.        ,  1.        ,\n",
              "        1.        ,  1.        ,  1.        ,  1.        ,  1.        ,\n",
              "        1.        ,  1.        ,  1.        ,  1.        ,  1.        ,\n",
              "        1.        ,  1.        , 30.57583176,  1.        ,  1.        ,\n",
              "        1.        ,  1.        ,  1.        ,  1.        ,  1.        ,\n",
              "        1.        ,  1.        ,  1.        ,  1.        ,  1.        ,\n",
              "        1.        ,  1.        ,  1.        ,  1.        , 10.29389086,\n",
              "        1.        ,  1.        ,  1.        ,  1.        ,  1.        ,\n",
              "        1.        ,  1.        ,  1.        ,  1.        ,  1.        ,\n",
              "        1.        ,  1.        ,  1.        ,  1.        ,  1.        ,\n",
              "        1.        ,  1.        ,  1.        ,  1.        ,  1.        ,\n",
              "        1.        ,  1.        ,  1.        ,  1.        ,  1.        ,\n",
              "        1.        ,  1.        ,  1.        ,  1.        ,  1.        ,\n",
              "        1.        ,  1.        ,  1.        ,  1.        ,  1.        ,\n",
              "        1.        ,  1.        ,  1.        ,  1.        ,  1.        ,\n",
              "        1.        ,  1.        ,  1.        ,  1.        ,  1.        ,\n",
              "        1.        ,  1.        ,  1.        ,  1.        ,  1.        ,\n",
              "        1.        ,  1.        ,  1.        ,  1.        ,  1.        ,\n",
              "        1.        ,  1.        ,  1.        ,  1.        ,  1.        ,\n",
              "        1.        ,  1.        ,  1.        ,  1.        ,  1.        ,\n",
              "        1.        ,  1.        ,  1.        ,  3.51899761,  1.        ,\n",
              "        1.        ,  1.        ,  1.        ,  1.        ,  1.        ,\n",
              "        1.        , 29.83113873,  1.        ,  1.        ,  1.        ,\n",
              "        1.        ,  1.        ,  1.        ,  1.        ,  1.        ,\n",
              "        1.        ,  1.        ,  1.        ,  1.        ,  1.        ,\n",
              "        1.        ,  1.        ,  1.        ,  1.        ,  1.        ,\n",
              "        1.        ,  1.        ,  1.        ,  1.        , 11.38991396,\n",
              "        1.        ,  1.        ,  1.        ,  6.09506379,  1.        ,\n",
              "        1.        ,  1.        ,  1.        ,  1.        ,  1.        ,\n",
              "        1.        ,  1.        ,  1.        ,  1.        ,  1.        ,\n",
              "        1.        ,  1.        ,  1.        ,  1.        ,  1.        ,\n",
              "        1.        ,  1.        ,  1.        ,  1.        ,  1.        ,\n",
              "        1.        ,  1.        ,  1.        ,  1.        ,  1.        ,\n",
              "        1.        ,  1.        ,  1.        ,  1.        ,  1.        ,\n",
              "        1.        ,  1.        ,  1.        ,  1.        ,  1.        ,\n",
              "        1.        ,  1.        ,  1.        ,  1.        , 20.98800518,\n",
              "        1.        ,  1.        ,  1.        ,  1.        ,  1.        ,\n",
              "        1.        ,  1.        ,  1.        ,  1.        ,  1.        ,\n",
              "        1.        ,  1.        , 28.84888429,  1.        ,  1.        ,\n",
              "        1.        ,  1.        ,  1.        ,  1.        ,  1.        ,\n",
              "        1.        ,  1.        ,  1.        ,  1.        ,  1.        ,\n",
              "        1.        ,  1.        ,  1.        ,  1.        ,  1.        ,\n",
              "        1.        ,  1.        ,  1.        ,  1.        ,  1.        ,\n",
              "       11.24652333,  1.        ,  1.        ,  8.11440871,  1.        ,\n",
              "        1.        ,  1.        ,  1.        ,  1.        ,  1.        ,\n",
              "        1.        ,  1.        ,  1.        ,  1.        ,  1.        ,\n",
              "        1.        ,  1.        ,  1.        ,  1.        ,  1.        ,\n",
              "        1.        ,  1.        ,  1.        ,  1.        ,  1.        ,\n",
              "        1.        ,  1.        ,  1.        ,  1.        ,  1.        ,\n",
              "        1.        ,  1.        ,  1.        , 33.22095479,  1.        ,\n",
              "        1.        ,  1.        ,  1.        ,  1.        ,  1.        ,\n",
              "        1.        ,  1.        ,  1.        ,  1.        ,  1.        ,\n",
              "        1.        ,  1.        ,  1.        ,  1.        ,  1.        ,\n",
              "        1.        ,  1.        ,  1.        ,  1.        ,  1.        ,\n",
              "        1.        ,  1.        ,  1.        ,  1.        ,  1.        ,\n",
              "        1.        ,  1.        ,  1.        ,  1.        ,  1.        ,\n",
              "        1.        ,  1.        ,  1.        ,  1.        ,  1.        ,\n",
              "        1.        ,  1.        ,  1.        ,  1.        , 25.80211049,\n",
              "        1.        ,  1.        ,  1.        ,  1.        ,  1.        ,\n",
              "        1.        ,  1.        ,  1.        ,  1.        ,  1.        ,\n",
              "        1.        ,  1.        ,  1.        ,  1.        ,  1.        ,\n",
              "        1.        ,  1.        ,  1.        ,  2.16475781,  1.        ,\n",
              "        1.        ,  1.        ,  1.        ,  1.        ,  1.        ,\n",
              "        1.        ,  1.        ,  1.        ,  1.        ,  1.        ,\n",
              "        1.        ,  1.        ,  1.        ,  1.        ,  1.        ,\n",
              "        1.        ,  1.        ,  1.        ,  1.        ,  1.        ,\n",
              "        1.        ,  1.        ,  1.        ,  1.        ,  1.        ,\n",
              "        1.        ,  1.        ,  1.        ,  1.        ,  1.        ,\n",
              "        1.        ,  1.        ,  1.        ,  1.        ,  1.        ,\n",
              "       24.16093358,  1.        ,  1.        ,  1.        ,  1.        ,\n",
              "        1.        ,  1.        ,  9.34126161,  1.        , 13.47187838,\n",
              "        1.        ,  1.        ,  1.        ,  1.        ,  1.        ,\n",
              "        1.        ,  1.        ,  1.        ,  1.        ,  1.        ,\n",
              "        1.        ,  1.        ,  1.        ,  1.        ,  1.        ,\n",
              "        1.        ,  1.        ,  1.        ,  1.        ,  1.        ,\n",
              "        1.        ,  1.        ,  1.        ,  1.        ,  1.        ,\n",
              "        1.        ,  1.        ,  1.        ,  1.        ,  1.        ,\n",
              "        1.        ,  1.        ,  1.        ,  1.        ,  1.        ,\n",
              "        1.        ,  1.        ,  1.        ,  1.        ,  1.        ,\n",
              "        1.        ,  1.        ,  1.        ,  1.        ,  1.        ,\n",
              "        1.        ,  1.        ,  1.        ,  1.        ,  1.        ,\n",
              "        1.        ,  1.        ,  1.        ,  1.        ,  1.        ,\n",
              "        1.        ,  1.        ,  1.        ,  1.        ,  1.        ,\n",
              "        1.        ,  1.        ,  1.        ,  1.        ,  1.        ,\n",
              "        1.        ,  1.        ,  1.        ,  1.        ,  1.        ,\n",
              "        1.        ,  1.        ,  1.        ,  1.        ,  1.        ,\n",
              "        1.        ,  1.        ,  1.        ,  1.        ,  1.        ,\n",
              "        1.        ,  1.        , 16.93383702,  1.        ,  1.        ,\n",
              "        1.        ,  1.        ,  1.        ,  1.        ,  1.        ,\n",
              "        1.        ,  1.        ,  1.        ,  1.        ,  1.        ,\n",
              "        1.        ,  1.        ,  1.        ,  1.        ,  1.        ,\n",
              "        1.        ,  1.        ,  1.        ,  1.        ,  1.        ,\n",
              "        1.        ,  1.        ,  1.        ,  1.        ,  1.        ,\n",
              "        1.        ,  1.        ,  1.        ,  1.        ,  1.        ,\n",
              "       36.82302637,  1.        ,  1.        ,  1.        ,  1.        ,\n",
              "        1.        ,  1.        ,  1.        ,  1.        ,  1.        ,\n",
              "        1.        ,  1.        ,  1.        ,  1.        ,  1.        ,\n",
              "        1.        ,  1.        ,  1.        ,  1.        ,  1.        ,\n",
              "        1.        ,  1.        ,  1.        ,  1.        ,  1.        ,\n",
              "        1.        ,  1.        ,  1.        ,  1.        ,  1.        ,\n",
              "        1.        ,  1.        ,  1.        ,  1.        ,  1.        ,\n",
              "        1.        ,  1.        ,  1.        ,  1.        ,  1.        ,\n",
              "        1.        ,  1.        ,  1.        ,  1.        ,  1.        ,\n",
              "        1.        ,  1.        ,  1.        ,  1.        ,  1.        ,\n",
              "        1.        ,  1.        ,  1.        ,  1.        ,  1.        ,\n",
              "        1.        ,  1.        ,  1.        ,  1.        ,  1.        ,\n",
              "        1.        ,  1.        ,  1.        ,  1.        ,  1.        ,\n",
              "        1.        ,  1.        ,  1.        ,  1.        ,  1.        ,\n",
              "        1.        ,  1.        ,  1.        ,  1.        ,  1.        ,\n",
              "        1.        ,  1.        ,  1.        ,  1.        ,  1.        ,\n",
              "        1.        ,  1.        ,  1.        ,  1.        ,  1.        ,\n",
              "        1.        ,  1.        ,  1.        ,  1.        ,  1.        ,\n",
              "        1.        ,  1.        ,  1.        ,  1.        ,  1.        ,\n",
              "        1.        ,  1.        ,  1.        ,  1.        ,  1.        ,\n",
              "        1.        ,  1.        ,  1.        ,  1.        ,  1.        ,\n",
              "        1.        ,  1.        ,  1.        ,  1.        ,  1.        ,\n",
              "        1.        ,  1.        ,  1.        ,  1.        ,  1.        ,\n",
              "        1.        ,  1.        ,  1.        ,  1.        ,  1.        ,\n",
              "        1.        ,  1.        ,  1.        ,  1.        ,  1.        ,\n",
              "        1.        ,  1.        ,  1.        ,  1.        ,  1.        ,\n",
              "        1.        ,  1.        ,  1.        ,  1.        ,  1.        ,\n",
              "        1.        ,  1.        ,  1.        ,  1.        ,  1.        ,\n",
              "        1.        ,  1.        ,  1.        ,  1.        ,  1.        ,\n",
              "        1.        ,  1.        ,  1.        ,  1.        ,  1.        ,\n",
              "        1.        ,  1.        ,  1.        ,  1.        ,  1.        ,\n",
              "        1.        ,  1.        ,  1.        ,  1.        ,  1.        ,\n",
              "        1.        ,  1.        ,  1.        ,  1.        ,  1.        ,\n",
              "        1.        ,  1.        ,  1.        , 12.64484517,  1.        ,\n",
              "        1.        ,  1.        ,  1.        ,  1.        ,  1.        ,\n",
              "        1.        ,  1.        ,  1.        ,  1.        ,  1.        ,\n",
              "        1.        ,  1.        ,  1.        ,  1.        ,  1.        ,\n",
              "        1.        ,  1.        ,  1.        ,  1.        ,  1.        ,\n",
              "        1.        ,  1.        ,  1.        ,  1.        ,  1.        ,\n",
              "        1.        ,  1.        ,  1.        ,  1.        ,  1.        ,\n",
              "        1.        ,  1.        ,  1.        ,  1.        ,  6.08028196,\n",
              "        1.        , 19.67731835,  1.        ,  1.        ,  1.        ,\n",
              "        1.        ,  1.        ,  1.        ,  1.        ,  1.        ,\n",
              "       18.57278016,  1.        ,  1.        ,  1.        ,  1.        ,\n",
              "        1.        ,  1.        ,  1.        ,  1.        ,  1.        ,\n",
              "        1.        ,  1.        ,  1.        ,  1.        ,  1.        ,\n",
              "        1.        ,  1.        , 25.3166868 ,  1.        ,  1.        ,\n",
              "        1.        ,  1.        ,  1.        ,  1.        ,  1.        ,\n",
              "        1.        ,  1.        ,  1.        ,  1.        ,  1.        ,\n",
              "        1.        ,  1.        ,  1.        ,  1.        ,  1.        ,\n",
              "        1.        ,  1.        ,  1.        ,  1.        ,  1.        ,\n",
              "        1.        ,  1.        ,  1.        ,  1.        ,  1.        ,\n",
              "        3.16707561,  1.        ,  1.        ,  1.        ,  1.        ,\n",
              "        1.        ,  1.        ,  1.        ,  1.        , 30.56243575,\n",
              "        1.        ,  1.        ,  1.        ,  1.        ,  1.        ,\n",
              "        1.        ,  1.        ,  1.        ,  1.        ,  1.        ,\n",
              "        1.        ,  1.        , 26.27115617,  1.        ,  1.        ,\n",
              "        1.        ,  1.        ,  1.        ,  1.        ,  1.        ,\n",
              "        1.        ,  1.        ,  1.        ,  1.        ,  1.        ,\n",
              "        1.        ,  1.        ,  1.        ,  1.        ,  1.        ,\n",
              "        1.        ,  1.        ,  1.        ,  1.        ,  1.        ,\n",
              "        1.        ,  1.        ,  1.        ,  1.        ,  1.        ,\n",
              "        1.        ,  1.        ,  1.        ,  1.        ,  1.        ,\n",
              "        1.        ,  1.        ,  1.        ,  1.        ,  1.        ,\n",
              "        1.        ,  1.        ,  1.        ,  1.        ,  1.        ,\n",
              "        1.        ,  1.        ,  1.        ,  1.        ,  1.        ,\n",
              "        1.        ,  1.        ,  1.        ,  1.        ,  1.        ,\n",
              "        1.        ,  1.        ,  1.        ,  1.        ,  1.        ,\n",
              "        1.        ,  1.        ,  1.        ,  1.        ,  1.        ,\n",
              "        1.        ,  1.        ,  1.        ,  1.        ,  1.        ,\n",
              "        1.        ,  1.        ,  1.        ,  1.        ,  1.        ,\n",
              "        1.        ,  1.        ,  1.        ,  1.        ,  1.        ,\n",
              "        1.        ,  1.        ,  1.        ,  1.        ,  1.        ,\n",
              "        1.        ,  1.        ,  1.        ,  1.        ,  1.        ,\n",
              "        1.        ,  1.        ,  1.        ,  1.        ,  1.        ,\n",
              "        1.        ,  1.        ,  1.        ,  1.        ,  1.        ,\n",
              "        1.        ,  1.        ,  1.        ,  1.        ,  1.        ,\n",
              "        1.        ,  1.        ,  1.        ,  1.        ,  1.        ,\n",
              "        1.        ,  1.        ,  1.        ,  1.        ,  1.        ,\n",
              "        1.        ,  1.        ,  1.        ,  1.        ,  1.        ,\n",
              "        1.        ,  1.        ,  1.        ,  1.        ,  1.        ,\n",
              "        1.        ,  1.        ,  1.        ,  1.        ,  1.        ,\n",
              "        1.        ,  1.        ,  1.        ,  1.        ,  1.        ,\n",
              "        1.        ,  1.        ,  1.        ,  1.        ,  1.        ,\n",
              "        1.        ,  1.        ,  1.        ,  1.        ,  1.        ,\n",
              "        1.        ,  1.        ,  1.        ,  1.        ,  1.        ,\n",
              "        1.        ,  1.        ,  1.        ,  1.        ,  1.        ,\n",
              "        1.        ,  1.        ,  1.        ,  1.        ,  1.        ,\n",
              "        1.        ,  1.        ,  1.        ,  1.        ,  1.        ,\n",
              "        1.        ,  1.        ,  1.        ,  1.        ,  1.        ,\n",
              "        1.        ,  1.        ,  1.        ,  1.        ,  1.        ,\n",
              "        1.        ,  1.        ,  1.        ,  1.        ,  1.        ,\n",
              "        1.        ,  1.        ,  1.        ,  1.        ,  1.        ,\n",
              "        1.        ,  1.        ,  1.        ,  1.        ,  1.        ])"
            ]
          },
          "metadata": {
            "tags": []
          },
          "execution_count": 34
        }
      ]
    },
    {
      "cell_type": "code",
      "metadata": {
        "id": "GHqejuX59by3"
      },
      "source": [
        "def indicator_simplex(x, eta, dir = []):\n",
        "    \"\"\"\n",
        "    %\n",
        "    % This procedure evaluates the indicator function of the constraint set:\n",
        "    %\n",
        "    %                  x => 0   AND   1'x = eta\n",
        "    %\n",
        "    % When the input 'x' is an array, the computation can vary as follows:\n",
        "    %  - dir = 0 --> 'x' is processed as a single vector [DEFAULT]\n",
        "    %  - dir > 0 --> 'x' is processed block-wise along the specified direction\n",
        "    %\n",
        "    %  INPUTS\n",
        "    % ========\n",
        "    %  x   - ND array\n",
        "    %  eta - positive, scalar or ND array compatible with the blocks of 'x'\n",
        "    %  dir - integer, direction of block-wise processing\n",
        "    \"\"\"\n",
        "\n",
        "    # check input\n",
        "    #sz = size(x); sz(dir) = 1;\n",
        "    #if any( eta(:) <= 0 ) || ~isscalar(eta) && any(size(eta) ~= sz)\n",
        "    #    error('''eta'' must be positive and either scalar or compatible with the blocks of ''x''')\n",
        "    #end\n",
        "\n",
        "\n",
        "    # linearize\n",
        "    if not dir:\n",
        "        x = x[:]\n",
        "        dir = 1\n",
        "\n",
        "    # check the constraint\n",
        "    mask = (np.isclose(x.sum(axis=dir), eta))\n",
        "    #mask = x.all() & (np.isclose(x.sum(axis=dir), eta))\n",
        "    #print(x, x.all(), x.sum(axis=dir), eta)\n",
        "    \n",
        "    # evaluate the indicator function\n",
        "    if all(mask[:]):\n",
        "        p = 0\n",
        "    else:\n",
        "        p = math.inf\n",
        "    return p"
      ],
      "execution_count": 41,
      "outputs": []
    },
    {
      "cell_type": "code",
      "metadata": {
        "id": "1rfgXlQR9by3"
      },
      "source": [
        "def prox_i(y,m,n, v_1, v_2, tol = 1e-5):\n",
        "    # z = prox(y,m,n,tol) : Computes proximal of the indicator function of the \n",
        "    # intersection of the simpleces governed by m and n, respectively.\n",
        "    #\n",
        "    # z satisfies sum(y,1) ~ m' and sum(y,2) ~ n with tolerance `tol`.\n",
        "    #\n",
        "    # By default, tol = 1e-5.   \n",
        "    # Recover size of matrix\n",
        "    M = len(m)\n",
        "    N = len(n)\n",
        "    \n",
        "    # epsilon is selected as a small number\n",
        "    ep = 0.1\n",
        "\n",
        "    # Define theta as a fixed value\n",
        "    the = 2 - ep\n",
        "    ith = 1/the\n",
        "\n",
        "    # Initialise z:\n",
        "    z = y - 0.5 * (v_1 + v_2)\n",
        "    z[0] = 0.1\n",
        "\n",
        "    while indicator_simplex(z, m, 1) + indicator_simplex(z, n.T, 0) != 0.0:\n",
        "        γ_1 = ith * v_1 + z\n",
        "        γ_2 = ith * v_2 + z\n",
        "        \n",
        "        x_1 = zeros_like(γ_1)\n",
        "        \n",
        "        for i in range(M):\n",
        "            x_1[:,i] = CondatP_c(γ_1[:,i],x_1[:,i],n[i],M)\n",
        "        \n",
        "        x_2 = zeros_like(γ_2)\n",
        "        for i in range(N):\n",
        "            x_2[i,:] = CondatP_c(γ_2[i,:],x_2[i,:],m[i],N)\n",
        "\n",
        "        # Update v_1 using its projection over simplex C_1^m\n",
        "        v_1 += the * (z - x_1)\n",
        "        # Update v_2 using its projection over simplex C_2^n\n",
        "        v_2 += the * (z - x_2)\n",
        "        # Update z\n",
        "        z = y - 0.5 * (v_1 + v_2)\n",
        "\n",
        "        # The indicator evaluation is too hard for double precision arithmetic.\n",
        "        # Thus, we relax this condition:\n",
        "        if all(abs(sum(abs(z),1) - n.T)/n.T < tol):     # Check with lower tol\n",
        "            if all(abs(sum(abs(z),2) - m)/m < tol):\n",
        "                z = abs(z)\n",
        "    return z, v_1, v_2"
      ],
      "execution_count": 43,
      "outputs": []
    },
    {
      "cell_type": "code",
      "metadata": {
        "id": "Fi2Z74eB9by3"
      },
      "source": [
        "def FISTA_Backtracking(c,m,n, iters = 100, tol = 1e-4, collect_obj = None):\n",
        "    \"\"\"\n",
        "    % FISTA_Backtracking(c,m,n,collect_obj,tol): Executes the FISTA algorithm\n",
        "    % applied to problems on optimal transport with backtracking.\n",
        "    %\n",
        "    % **Input:**\n",
        "    % c:   cost matrix of size MxN\n",
        "    % m:   discrete probability vector of size M\n",
        "    % n:   discrete probability vector of size N\n",
        "    % collect_obj: boolean value; if true, then all objective values are stored\n",
        "    % tol: numerical tolerance of the algorithm: it stops if the norm between a\n",
        "    %      pair of iterations is less than this value (default tol = 1e-4)\n",
        "    %\n",
        "    % **Output:**\n",
        "    % x:    best feasible point found after optimisation\n",
        "    % obj:  objective value at x\n",
        "    % temp: time it took to compute x\n",
        "    \"\"\"\n",
        "    # Recover M and N\n",
        "    M = len(m)\n",
        "    N = len(n)\n",
        "\n",
        "    # First select $\\mu$\n",
        "    mu  = 10^math.ceil(np.log(np.linalg.norm(c,2))/np.log(10)) #norm(c,2);        # 1 -> 10^-1 -> 10^-2 -> ...\n",
        "    gam = 1/mu\n",
        "\n",
        "    # x_0 is projected to be a feasible initial point\n",
        "    #x = (m.T + n)/(N+M)\n",
        "    x = np.zeros((M,N))\n",
        "    x[:,0] = m\n",
        "    x[0,:] = n\n",
        "    x[0,0] = 0.5 * (m[-1] + n[-1])\n",
        "    # The initial points for v_1 and v_2 can be built using the information\n",
        "    # available already from n and m:\n",
        "    v_1 = np.zeros((M,N))\n",
        "    v_2 = np.zeros((M,N))\n",
        "    v_1[:,0] = m\n",
        "    v_2[0,:] = n\n",
        "    # Compute proximal operator at C and update v_1 and v_2\n",
        "    [x, v_1, v_2] = prox_i(x,m,n,v_1,v_2)\n",
        "    # z_0 is a copy of x_0\n",
        "    z = x\n",
        "    t = 1.0\n",
        "\n",
        "    ## Controls                              \n",
        "    # The distance between points will serve as stopping criteria\n",
        "    #norm_difference = Inf;\n",
        "    # Objective value\n",
        "    obj = [];\n",
        "    # initial objective calculation\n",
        "    if collect_obj:\n",
        "        obj.append((c*x).sum())\n",
        "\n",
        "    # Measure time\n",
        "    start = time.time()\n",
        "\n",
        "    ## Now we perform the FISTA iteration:\n",
        "    for it in range(iters):\n",
        "\n",
        "        # First proximal projection\n",
        "        y = z - gam * c;\n",
        "        # Proximal operation\n",
        "        u, v_1, v_2 = prox_i(y,m,n,v_1,v_2)\n",
        "\n",
        "        while 4 * (c*(u-z)).sum() > mu * sum(x ** 2 for x in range(len(u))):\n",
        "            mu  = mu * 2\n",
        "            gam = 0.5 * gam\n",
        "            y = z - gam * c\n",
        "            u, v_1, v_2 = prox_i(y,m,n,v_1,v_2)\n",
        "            \n",
        "        if collect_obj:\n",
        "            obj.append((c*x).sum())\n",
        "\n",
        "        ## Update momentum\n",
        "        s = 0.5 * ( 1.0 + np.sqrt( 1 + 4*t**2 ) )\n",
        "        l = 1 + (t - 1)/s\n",
        "        z = x + l * (u-x)\n",
        "        # Iterate info\n",
        "        norm_difference = np.linalg.norm(x-u)\n",
        "\n",
        "        #Average objective from 2 previous\n",
        "        aver_obj = ((c*u).sum() + ((c*x).sum()))/2\n",
        "        x = u\n",
        "        t = s\n",
        "    end = time.time()\n",
        "    print(end - start, \" - Time taken\")\n",
        "    return u, obj"
      ],
      "execution_count": 44,
      "outputs": []
    },
    {
      "cell_type": "code",
      "metadata": {
        "id": "XxjGnTtp9by3"
      },
      "source": [
        "## Exact Test"
      ],
      "execution_count": 49,
      "outputs": []
    },
    {
      "cell_type": "code",
      "metadata": {
        "colab": {
          "base_uri": "https://localhost:8080/",
          "height": 350
        },
        "id": "Dq2tKZAy9by3",
        "outputId": "4dbeb17d-e9ec-4bd8-a3f3-742bc17d118c"
      },
      "source": [
        "import matplotlib.pyplot as plt\n",
        "M = 4                  \n",
        "N = 4\n",
        "m = 0.25*np.ones(M)\n",
        "n = 0.25*np.ones(N)\n",
        "c = np.array([[3.10112791, 2.01924761, 2.        , 2.01924761],\n",
        "     [3.10112791, 3.        , 1.16637984, 1.        ],\n",
        "     [3.        , 3.10112791, 1.16637984, 2.01924761],\n",
        "     [1.        , 3.        , 2.33275967, 4.22075809]])\n",
        "x, obj = FISTA_Backtracking(c,m,n,1000,tol = 1e-8, collect_obj = True)\n",
        "plt.plot(obj)\n",
        "print(x, obj[-1])"
      ],
      "execution_count": 48,
      "outputs": [
        {
          "output_type": "stream",
          "text": [
            "211.62841272354126  - Time taken\n",
            "[[ 1.45202311e-06  2.49999130e-01  8.62061795e-07  9.18523672e-07]\n",
            " [ 5.55111512e-17  3.46561851e-09  2.77555756e-17  2.50000003e-01]\n",
            " [-2.77555756e-16  3.14139365e-09  2.50000003e-01  1.38777878e-16]\n",
            " [ 2.50000000e-01  5.55111512e-17  1.11022302e-16 -2.77555756e-16]] 1.2964132141842006\n"
          ],
          "name": "stdout"
        },
        {
          "output_type": "display_data",
          "data": {
            "image/png": "[encoded data removed]",
            "text/plain": [
              "<Figure size 432x288 with 1 Axes>"
            ]
          },
          "metadata": {
            "tags": [],
            "needs_background": "light"
          }
        }
      ]
    },
    {
      "cell_type": "code",
      "metadata": {
        "id": "XJGe0v9B9bzj"
      },
      "source": [
        ""
      ],
      "execution_count": 46,
      "outputs": []
    },
    {
      "cell_type": "markdown",
      "metadata": {
        "id": "hji3uQ2C9bzk"
      },
      "source": [
        "---"
      ]
    }
  ]
}