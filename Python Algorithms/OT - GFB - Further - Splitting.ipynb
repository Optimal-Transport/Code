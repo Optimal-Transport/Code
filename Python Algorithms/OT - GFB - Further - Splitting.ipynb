{
 "cells": [
  {
   "cell_type": "markdown",
   "metadata": {},
   "source": [
    "# Generalised Forward-Backward to solve Discrete Optimal Transport"
   ]
  },
  {
   "cell_type": "markdown",
   "metadata": {},
   "source": [
    "<div class=\"alert alert-block alert-success\">\n",
    "    \n",
    "This notebook we aim at solving DOT instances using modern optimisation algorithms that outperform the simplex method. To do this we will use the Generalised Forward-Backward framework. \n",
    "    \n",
    "The notebook is divided in three parts. First, Condat's projection into the ℓ<sub>1</sub> ball algorithm is implemented. Second, the algorithm is used to find feasible solutions of DOT. Finally, the Generalised Forward-Backward algorithm is tested. The results are automatically stored with an unique identifier and some performance plots are presented.\n",
    "</div>\n",
    "\n",
    "* Laurent Condat. <i>Fast projection onto the simplex and the ℓ<sub>1</sub> ball</i>. Math. Program. 158, 575–585 (2016). [https://doi.org/10.1007/s10107-015-0946-6](https://doi.org/10.1007/s10107-015-0946-6). _Also available at_ [https://hal.archives-ouvertes.fr/hal-01056171v2](https://hal.archives-ouvertes.fr/hal-01056171v2).\n",
    "\n",
    "* Hugo Raguet, Jalal Fadili, and Gabriel Peyre. <i>Generalised Forward-Backward Splitting</i>. SIAM J. Imaging Sci., 6(3), 1199–1226 (2013). [https://doi.org/10.1137/120872802](https://doi.org/10.1137/120872802). _Also available at_ [https://arxiv.org/pdf/1108.4404.pdf](https://arxiv.org/pdf/1108.4404.pdf)."
   ]
  },
  {
   "cell_type": "markdown",
   "metadata": {},
   "source": [
    "<div class=\"alert alert-block alert-info\">\n",
    "Packages\n",
    "</div>"
   ]
  },
  {
   "cell_type": "code",
   "execution_count": 1,
   "metadata": {},
   "outputs": [],
   "source": [
    "import numpy  as np\n",
    "import pandas as pd\n",
    "import time\n",
    "import os\n",
    "import matplotlib.pyplot as plt\n",
    "\n",
    "# Particular functions\n",
    "from numpy import zeros, zeros_like, allclose, where, ones, inf, absolute, linspace\n",
    "from numpy.random import default_rng as rng\n",
    "from numba import jit\n",
    "from scipy.spatial.distance import cdist\n",
    "from scipy.linalg import norm"
   ]
  },
  {
   "cell_type": "markdown",
   "metadata": {
    "heading_collapsed": true
   },
   "source": [
    "# Subroutines"
   ]
  },
  {
   "cell_type": "markdown",
   "metadata": {
    "hidden": true
   },
   "source": [
    "In this section we create subroutines that will be iteratively used in the main algorithm."
   ]
  },
  {
   "cell_type": "markdown",
   "metadata": {
    "heading_collapsed": true,
    "hidden": true
   },
   "source": [
    "## Projection onto the simplex"
   ]
  },
  {
   "cell_type": "markdown",
   "metadata": {
    "hidden": true
   },
   "source": [
    "Here we provide an implementation of Condat's algorithm. The main steps are precompiled using the Just-in-time package ```numba``` to gain a speed-up. To get the best computing times, the resulting jitted function has to be run at least once before an actual iterative test. For the tests, we will project a random vector $y$ of size $N$ with $y_n \\sim \\mathcal{U}(-1,2)$ for all $n\\in \\{1,\\ldots,N\\}$ and a 20% mask of zeroes."
   ]
  },
  {
   "cell_type": "markdown",
   "metadata": {
    "hidden": true
   },
   "source": [
    "<div style=\"background-color:rgba(0, 0, 0, 0.0470588); vertical-align: middle; padding:5px 0; padding-left: 40px;\">\n",
    "<h2 style=\"color: #5e9ca0;\">Condat's Algorithm</h2>\n",
    "<ol>\n",
    "<li>Set $v:= (y_1)$, $u$ as an empty list, $\\rho:= y_1 - a$.</li>\n",
    "<li>For $n \\in \\{2,\\ldots, N\\}$, do\n",
    "<ol>\n",
    "<li>If $y_n > \\rho$\n",
    "<ol>\n",
    "<li>Set $\\rho := \\rho + (y_n - \\rho)/(|v|+1)$.</li>\n",
    "<li>If $\\rho > y_n - a$, add $y_n$ to $v$.</li>\n",
    "<li>Else, add $v$ to $u$, set $v = (y_n)$, $\\rho = y_n -a$.</li>\n",
    "</ol>\n",
    "</li>\n",
    "</ol>\n",
    "</li>\n",
    "<li>If $u$ is not empty, for every element $y$ of $u$, do\n",
    "<ol>\n",
    "<li>If $y > \\rho$, add $y$ to $v$ and set $\\rho := \\rho + (y-\\rho)/|v|$.</li>\n",
    "</ol>\n",
    "</li>\n",
    "<li>Do, while $|v|$ changes,\n",
    "<ol>\n",
    "<li>For every element $y$ of $v$ do\n",
    "<ol>\n",
    "<li>If $y\\leq \\rho$, remove $y$ from $v$ and set $\\rho := \\rho + (\\rho - y)/|v|$.</li>\n",
    "</ol>\n",
    "</li>\n",
    "</ol>\n",
    "</li>\n",
    "<li>Set $\\tau := \\rho$, $K = |v|$.</li>\n",
    "<li>For $n \\in \\{1,\\ldots,N\\}$, set $x_n := \\max \\{y_n - \\tau, 0\\}$.</li>\n",
    "</ol>\n",
    "</div>"
   ]
  },
  {
   "cell_type": "code",
   "execution_count": 2,
   "metadata": {
    "hidden": true
   },
   "outputs": [],
   "source": [
    "N = 1000\n",
    "y = rng(0).uniform(-1,2,N);    y = where(rng(0).binomial(1,0.8,N), y, 0)\n",
    "a = 1.0"
   ]
  },
  {
   "cell_type": "code",
   "execution_count": 3,
   "metadata": {
    "code_folding": [
     1
    ],
    "hidden": true
   },
   "outputs": [],
   "source": [
    "@jit(nopython=True, fastmath = True)\n",
    "def CondatP_1d(y,a,N):\n",
    "    x = zeros_like(y)\n",
    "    if a == 0:\n",
    "        return x\n",
    "    \n",
    "    # Step 1\n",
    "    ρ = y[0] - a\n",
    "    v = [0]\n",
    "    u = []\n",
    "    # Step 2\n",
    "    for n in range(1,N):\n",
    "        yₙ = y[n]\n",
    "        if yₙ > ρ:\n",
    "            ρ += (yₙ - ρ)/( len(v) + 1 )\n",
    "            if ρ > yₙ - a:\n",
    "                v.append(n)\n",
    "            else:\n",
    "                u.extend(v)\n",
    "                v = [n]\n",
    "                ρ = yₙ - a\n",
    "    # Step 3\n",
    "    if len(u) > 0:\n",
    "        for n in iter(u):\n",
    "            yₙ = y[n]\n",
    "            if yₙ > ρ:\n",
    "                v.append(n)\n",
    "                ρ += (yₙ - ρ)/( len(v) )\n",
    "    # Step 4\n",
    "    while True:\n",
    "        ℓ_v = len(v)\n",
    "        for i,j in enumerate(v):\n",
    "            if y[j] <= ρ:\n",
    "                ρ += (ρ - y[j])/(len(v) - 1)\n",
    "                del v[i]\n",
    "        if len(v) >= ℓ_v:\n",
    "            break\n",
    "    \n",
    "    #x[v] = y[v] - ρ\n",
    "    for n in iter(v):\n",
    "        x[n] = y[n] - ρ\n",
    "    #for n in prange(len(v)):\n",
    "    #    x[v[n]] = y[v[n]] - ρ\n",
    "    return x"
   ]
  },
  {
   "cell_type": "code",
   "execution_count": 4,
   "metadata": {
    "code_folding": [],
    "hidden": true
   },
   "outputs": [],
   "source": [
    "# Run things once for pre-compiling:\n",
    "CondatP_1d(y,a,N);"
   ]
  },
  {
   "cell_type": "code",
   "execution_count": 5,
   "metadata": {
    "hidden": true
   },
   "outputs": [
    {
     "data": {
      "text/plain": [
       "True"
      ]
     },
     "execution_count": 5,
     "metadata": {},
     "output_type": "execute_result"
    }
   ],
   "source": [
    "# If we run the above again, we can see a clear speed-up. The computation passes quickly even inside compositions\n",
    "allclose(CondatP_1d(y,a,N).sum(), 1.0)"
   ]
  },
  {
   "cell_type": "markdown",
   "metadata": {
    "hidden": true
   },
   "source": [
    "Now we addapt the code to accept a matrix $\\gamma$ as input."
   ]
  },
  {
   "cell_type": "code",
   "execution_count": 6,
   "metadata": {
    "hidden": true
   },
   "outputs": [],
   "source": [
    "N = 500\n",
    "M = 1000\n",
    "γ = rng(0).uniform(-1,2,(M,N));    γ = where(rng(0).binomial(1,0.8,(M,N)), γ, 0)\n",
    "a = 1.0"
   ]
  },
  {
   "cell_type": "markdown",
   "metadata": {
    "hidden": true
   },
   "source": [
    "We can pre-allocate some memory:"
   ]
  },
  {
   "cell_type": "code",
   "execution_count": 7,
   "metadata": {
    "hidden": true
   },
   "outputs": [],
   "source": [
    "x = zeros_like(γ)"
   ]
  },
  {
   "cell_type": "code",
   "execution_count": 8,
   "metadata": {
    "cell_style": "center",
    "code_folding": [
     1
    ],
    "hidden": true
   },
   "outputs": [],
   "source": [
    "@jit(nopython=True, fastmath = True)\n",
    "def CondatP(y,x,a,N):\n",
    "    if a == 0:\n",
    "        return x\n",
    "    \n",
    "    # Step 1\n",
    "    ρ = y[0] - a\n",
    "    v = [0]\n",
    "    u = []\n",
    "    # Step 2\n",
    "    for n in range(1,N):\n",
    "        yₙ = y[n]\n",
    "        if yₙ > ρ:\n",
    "            ρ += (yₙ - ρ)/( len(v) + 1 )\n",
    "            if ρ > yₙ - a:\n",
    "                v.append(n)\n",
    "            else:\n",
    "                u.extend(v)\n",
    "                v = [n]\n",
    "                ρ = yₙ - a\n",
    "    # Step 3\n",
    "    if len(u) > 0:\n",
    "        for n in iter(u):\n",
    "            yₙ = y[n]\n",
    "            if yₙ > ρ:\n",
    "                v.append(n)\n",
    "                ρ += (yₙ - ρ)/( len(v) )\n",
    "    # Step 4\n",
    "    while True:\n",
    "        ℓ_v = len(v)\n",
    "        for i,j in enumerate(v):\n",
    "            if y[j] <= ρ:\n",
    "                ρ += (ρ - y[j])/(len(v) - 1)\n",
    "                del v[i]\n",
    "        if len(v) >= ℓ_v:\n",
    "            break\n",
    "    \n",
    "    #x[v] = y[v] - ρ\n",
    "    for n in iter(v):\n",
    "        x[n] = y[n] - ρ\n",
    "    #for n in prange(len(v)):\n",
    "    #    x[v[n]] = y[v[n]] - ρ\n",
    "    return x"
   ]
  },
  {
   "cell_type": "code",
   "execution_count": 9,
   "metadata": {
    "hidden": true
   },
   "outputs": [],
   "source": [
    "CondatP(γ[0],x[0],a,M); # Null test"
   ]
  },
  {
   "cell_type": "code",
   "execution_count": 10,
   "metadata": {
    "hidden": true
   },
   "outputs": [
    {
     "name": "stdout",
     "output_type": "stream",
     "text": [
<<<<<<< HEAD
      "Time taken: 0.012373208999633789 s\n"
=======
      "Time taken: 0.019817352294921875 s\n"
>>>>>>> e997858a7d0f681d16b790cd6ff88287997e4c16
     ]
    }
   ],
   "source": [
    "start = time.time()\n",
    "x = zeros_like(γ)\n",
    "for i in range(M):    x[i] = CondatP(γ[i],x[i],a,N)\n",
    "end = time.time()\n",
    "print('Time taken:',end-start,'s')"
   ]
  },
  {
   "cell_type": "code",
   "execution_count": 11,
   "metadata": {
    "hidden": true,
    "scrolled": true
   },
   "outputs": [
    {
     "data": {
      "text/plain": [
       "True"
      ]
     },
     "execution_count": 11,
     "metadata": {},
     "output_type": "execute_result"
    }
   ],
   "source": [
    "allclose(x.sum(axis=1), 1)"
   ]
  },
  {
   "cell_type": "markdown",
   "metadata": {
    "hidden": true
   },
   "source": [
    "An additional test can be to see what happens if we work on the support of $\\gamma$:\n",
    "```Python\n",
    "x = zeros_like(γ)\n",
    "for i in range(N):\n",
    "    z = γ[i][γ[i] != 0]\n",
    "    x[i][γ[i] != 0] = CondatP_1d(z,a,z.size)\n",
    "```"
   ]
  },
  {
   "cell_type": "markdown",
   "metadata": {
    "hidden": true
   },
   "source": [
    "There does not seem to be a significant gain on working with the support. This might change if the support is extremely small."
   ]
  },
  {
   "cell_type": "markdown",
   "metadata": {},
   "source": [
    "# Algorithm"
   ]
  },
  {
   "cell_type": "markdown",
   "metadata": {},
   "source": [
    "Now, we will run the Generalised Forward-Backward algorithm addapted for DOT. To test it, we will run it against some of the DOTMark files. We will aim to transport from one given image to another, which are normalised and flattened in ```C```-order. The matrix of costs is based on a uniform grid within $[0,1]^2$ with $M$ points for the source and $N$ points for the target."
   ]
  },
  {
   "cell_type": "markdown",
   "metadata": {},
   "source": [
    "<div style=\"background-color:rgba(0, 0, 0, 0.0470588); vertical-align: middle; padding:5px 0; padding-left: 40px;\">\n",
    "<h2 style=\"color: #5e9ca0;\">Generalised Forward Backward (Full Splitting) Algorithm</h2>\n",
    "We will recast our optimisation algorithm in the form\n",
    "\\[\\min_{\\gamma \\in \\mathbb{R}^{M \\times N}} K(\\gamma) + \\imath_{\\mathbb{R}^{M \\times N}_{+}}(\\gamma) + \\sum^{N}_{j=1}\\imath_{\\mathcal{H}^{M}_{j}}(\\gamma_{j}) + \\sum^{M}_{i=1}\\imath_{\\mathcal{H}^{N}_{i}}(\\gamma_{i}) ,\\]\n",
    " where \\[\\mathcal{H}^{M}_{j} = \\{x \\in \\mathbb{R}^{M} \\mid \\mathbb{1}^{T}_{M}x \\geq n_{j} \\},\\]\n",
    "    \\[\\mathcal{H}^{N}_{i} = \\{x \\in \\mathbb{R}^{N}\\mid \\mathbb{1}^{T}_{N}x \\leq m_{i} \\}.\\]"
   ]
  },
  {
   "cell_type": "markdown",
   "metadata": {},
   "source": [
    "## Instance information"
   ]
  },
  {
   "cell_type": "code",
   "execution_count": 12,
   "metadata": {},
   "outputs": [],
   "source": [
    "folder = 'Microscopy_Sized'\n",
    "path = 'Exact/' + folder + '/'"
   ]
  },
  {
   "cell_type": "code",
   "execution_count": 13,
   "metadata": {},
   "outputs": [
    {
     "name": "stdout",
     "output_type": "stream",
     "text": [
      "There are 4 instances in this location:\n"
     ]
    },
    {
     "data": {
      "text/plain": [
       "['data8_1002-data8_1010_p=S2',\n",
       " 'data32_1002-data32_1010_p=S2',\n",
       " 'data16_1002-data16_1010_p=S2',\n",
       " 'data64_1002-data64_1010_p=S2']"
      ]
     },
     "metadata": {},
     "output_type": "display_data"
    }
   ],
   "source": [
    "files = [f[:-9] for f in os.listdir(path) if f.endswith('.txt')]\n",
    "print('There are', len(files), 'instances in this location:')\n",
    "display(files)"
   ]
  },
  {
   "cell_type": "markdown",
   "metadata": {},
   "source": [
    "Select one instance:"
   ]
  },
  {
   "cell_type": "code",
<<<<<<< HEAD
   "execution_count": 14,
=======
   "execution_count": 24,
>>>>>>> e997858a7d0f681d16b790cd6ff88287997e4c16
   "metadata": {},
   "outputs": [],
   "source": [
    "instance = files[1]\n",
    "full_path = path + instance"
   ]
  },
  {
   "cell_type": "markdown",
   "metadata": {},
   "source": [
    "Load data:"
   ]
  },
  {
   "cell_type": "code",
<<<<<<< HEAD
   "execution_count": 15,
=======
   "execution_count": 25,
>>>>>>> e997858a7d0f681d16b790cd6ff88287997e4c16
   "metadata": {},
   "outputs": [],
   "source": [
    "m = np.load(full_path + '_m.npy');    M = m.size\n",
    "n = np.load(full_path + '_n.npy');    N = n.size\n",
    "c = np.load(full_path + '_Cost.npy')\n",
    "sol = np.load(full_path + '_Sol.npy')"
   ]
  },
  {
   "cell_type": "code",
<<<<<<< HEAD
   "execution_count": 16,
=======
   "execution_count": 26,
>>>>>>> e997858a7d0f681d16b790cd6ff88287997e4c16
   "metadata": {},
   "outputs": [],
   "source": [
    "with open(full_path + '_Time.txt', 'r') as f:\n",
    "    obj_exact = eval((f.readlines())[0])['Obj']"
   ]
  },
  {
   "cell_type": "markdown",
   "metadata": {},
   "source": [
    "## Run algorithm"
   ]
  },
  {
   "cell_type": "markdown",
   "metadata": {},
   "source": [
    "<div class=\"alert alert-block alert-warning\">\n",
    "    \n",
    "In what follows, we provide tests for the chosen instance running the Generalised forward-backward split approach given by Hugo Raguet, Jalal Fadili, and Gabriel Peyre (2013).\n",
    "</div>"
   ]
  },
  {
   "cell_type": "code",
<<<<<<< HEAD
   "execution_count": 17,
=======
   "execution_count": 27,
>>>>>>> e997858a7d0f681d16b790cd6ff88287997e4c16
   "metadata": {},
   "outputs": [],
   "source": [
    "def Projection(x,b,dim):\n",
    "    #projection onto the set \\{x : aT x = b \\}\n",
    "    Px = x -(sum(x)-b)*np.ones(dim)/(dim)\n",
    "    return Px"
   ]
  },
  {
   "cell_type": "code",
<<<<<<< HEAD
   "execution_count": 18,
=======
   "execution_count": 28,
>>>>>>> e997858a7d0f681d16b790cd6ff88287997e4c16
   "metadata": {
    "code_folding": [
     0,
     64
    ]
   },
   "outputs": [],
   "source": [
    "def generalised_forward_backward_full_split(c,m,n,iters, collect_obj = False, \n",
    "                                                 true_obj = None,\n",
    "                                             true_obj_tol = 1e-4, true_solution = None, save_iter = False):\n",
    "    # Algorithm for calculating solution x, in the primal space\n",
    "    # and y_1, y_2 in the dual space.\n",
    "    # Also returns the value of the objective function c*x at each\n",
    "    # iteration.\n",
    "    \n",
    "    '''\n",
    "        Initialise parameters\n",
    "    '''\n",
    "    #First compute μ\n",
    "    μ = norm(c,2)     # 1 -> 10^-1 -> 10^-2 -> ...\n",
    "    # μ is selected as the midpoint of the interval\n",
    "    #e = 1/mu #0.5 * 1/mu;        # remove\n",
    "    # γ->θ does not depend on the current iteration\n",
    "    θ = 0.0001\n",
    "    # likewise, we do not require a change in λ\n",
    "    λ = 1.0\n",
    "    \n",
    "    # Fetch lengths of m and n\n",
    "    N = n.size;        M = m.size\n",
    "    \n",
    "    print('\\n*** Generalised FB with M = {}, N = {}, MN = {} ***\\n\\n'.format(M,N,M*N))\n",
    "    \n",
    "    '''\n",
    "        Initialise matrices\n",
    "    '''\n",
    "    # Initialise y_1 and y_2\n",
    "    v_1 = zeros((M,N))\n",
    "    v_2 = zeros((M,N))\n",
    "    v_3 = zeros((M,N))\n",
    "    \n",
    "    v_1[0,:] = n\n",
    "    v_2[:,0] = m\n",
    "    \n",
    "    \n",
    "    # Initialise x\n",
    "    x = 0.5*(v_1 + v_2) #maybe change this\n",
    "    #x = np.zeros((M,N));    x[:,0] = m;    x[0,:] = n;    x[0,0] = 0.5*(m[-1] + n[-1])        # Alternative\n",
    "    \n",
    "    '''\n",
    "        Information from true solution (if available)\n",
    "    '''\n",
    "    # Store current objective value\n",
    "    if collect_obj == True:\n",
    "        obj = [(c*x).sum()]\n",
    "    \n",
    "    # Norm of true solution\n",
    "    if true_solution is not None:\n",
    "        true_obj_crit = 1.0\n",
    "        if true_obj is None:\n",
    "            true_obj = (c*sol).sum()\n",
    "        print('Objective from ground truth:', obj_exact,'\\n')\n",
    "        \n",
    "    '''\n",
    "        Iterate the Generalised FB scheme\n",
    "    '''\n",
    "    \n",
    "    every_iter = {'it':[], 'obj':[], 'dist_obj':[], 'time':[], 'dist_x':[]}\n",
    "    every_critical = {'it':[], 'obj':[], 'tol':[], 'dist_obj':[], 'time':[], 'dist_x':[]}\n",
    "    \n",
    "    if true_solution is not None:\n",
    "        print('     It  |  Tolerance |        Time       | Frob. dist. ')\n",
    "        print( '{:-^55}'.format('') )\n",
    "    \n",
    "    start = time.time()    \n",
    "    for k in range(iters):\n",
    "    \n",
    "        #matrices for projection over the simplex C_1^m and the simplex C_2^n.\n",
    "        \n",
    "        γ_1 = 2*x - v_1 - θ*c #constraint rows\n",
    "        γ_2 = 2*x - v_2 - θ*c # constraint columns\n",
    "        γ_3 = 2*x - v_3 - θ*c #positivity constraint\n",
    "            \n",
    "        # Projection to 1ᵀx = n\n",
    "        Pₙ = γ_2 + (n - γ_2.sum(0))/M          # to check the constraint run: allclose(Pₙ.sum(0), n)\n",
    "        # Projection to xᵀ1 = m\n",
    "        #Pₘ = (γ_1.T + (m - γ_1.sum(1))/N).T    # to check run: allclose(Pₘ.sum(1), m)\n",
    "        \n",
    "        \n",
    "        # Alternative:\n",
    "        Pₘ = γ_1 + ((m - γ_1.sum(1))/N).reshape(M,1)\n",
    "        \n",
    "        v_1 += Pₘ - x\n",
    "            \n",
    "        v_2 +=  Pₙ - x\n",
    "        #positivity constraint\n",
    "        v_3 += np.where(γ_3<0,0,γ_3) - x\n",
    "      \n",
    "    \n",
    "        # Update x using v_1 and v_2\n",
    "        x = (v_1 + v_2 + v_3)/3\n",
    "        # Measure time up to this point!\n",
    "        end = time.time()\n",
    "        \n",
    "        # Update objective function\n",
    "        if collect_obj == True:\n",
    "            obj.append( (c*x).sum() )\n",
    "            # Compute relative objective distance\n",
    "            if true_solution is not None:\n",
    "                dist_true_sol = abs(obj[-1] - true_obj)/true_obj\n",
    "        \n",
    "        # If all iterations are to be stored:\n",
    "        if save_iter == True:\n",
    "            frob_d = norm(sol-x, 'fro')/norm(sol, 'fro')\n",
    "            every_iter['it'].append( k )\n",
    "            every_iter['obj'].append( (c*x).sum() )\n",
    "            every_iter['dist_obj'].append( dist_true_sol if true_obj is not None else np.nan )\n",
    "            every_iter['time'].append( end-start )\n",
    "            every_iter['dist_x'].append( frob_d )\n",
    "            \n",
    "           #print(dist_true_sol) \n",
    "            \n",
    "        # If a true solution is available, we check the tolerance:\n",
    "        if true_solution is not None: \n",
    "            if dist_true_sol < true_obj_crit:\n",
    "                frob_d = norm(sol-x, 'fro')/norm(sol, 'fro')\n",
    "                \n",
    "                every_critical['it'].append( k )\n",
    "                every_critical['obj'].append( obj[-1] )\n",
    "                every_critical['tol'].append( true_obj_crit )\n",
    "                every_critical['dist_obj'].append( dist_true_sol )\n",
    "                every_critical['time'].append( end-start )\n",
    "                every_critical['dist_x'].append( frob_d )\n",
    "                \n",
    "                print('* {0:6.0f} |    {1:.1e} | {2:15.2f} s |    {3:4.4f}'.format(k,true_obj_crit,end-start,frob_d))\n",
    "                \n",
    "                # If the prescribed tolerance is reached, we finish.\n",
    "                if dist_true_sol < true_obj_tol:\n",
    "                    print('Solution found with given tolerance.')\n",
    "                    break\n",
    "                \n",
    "                # Adjust current level of inner tolerance\n",
    "                true_obj_crit *= 0.1\n",
    "                \n",
    "    if true_solution is not None:\n",
    "        print( '{:-^55}'.format('') )\n",
    "        \n",
    "    print('\\nAlgorithm stopped after {0:.4f} seconds and {1} iterations'.format(end-start,k))\n",
    "    \n",
    "    \n",
    "    if collect_obj == False and save_iter == True:\n",
    "        return x, every_iter\n",
    "    if collect_obj == True and save_iter == True:\n",
    "        return x, obj, every_critical, every_iter\n",
    "    else:\n",
    "        return x"
   ]
  },
  {
   "cell_type": "code",
<<<<<<< HEAD
   "execution_count": 19,
=======
   "execution_count": 29,
>>>>>>> e997858a7d0f681d16b790cd6ff88287997e4c16
   "metadata": {},
   "outputs": [
    {
     "name": "stdout",
     "output_type": "stream",
     "text": [
      "\n",
      "*** Generalised FB with M = 1024, N = 1024, MN = 1048576 ***\n",
      "\n",
      "\n",
      "Objective from ground truth: 0.010675024052995653 \n",
      "\n",
      "     It  |  Tolerance |        Time       | Frob. dist. \n",
      "-------------------------------------------------------\n",
<<<<<<< HEAD
      "*    235 |    1.0e+00 |           13.82 s |    0.9165\n",
      "*    368 |    1.0e-01 |           20.95 s |    0.8862\n",
      "*    428 |    1.0e-02 |           24.14 s |    0.8737\n",
      "*    430 |    1.0e-03 |           24.25 s |    0.8732\n",
      "*   3607 |    1.0e-04 |          196.96 s |    0.6294\n",
      "*   5100 |    1.0e-05 |          278.24 s |    0.5793\n",
      "*  13568 |    1.0e-06 |          740.89 s |    0.4396\n",
      "*  44258 |    1.0e-07 |         2410.01 s |    0.3647\n",
      "Solution found with given tolerance.\n",
      "-------------------------------------------------------\n",
      "\n",
      "Algorithm stopped after 2410.0118 seconds and 44258 iterations\n"
=======
      "*    235 |    1.0e+00 |           17.80 s |    0.9165\n",
      "*    368 |    1.0e-01 |           26.77 s |    0.8862\n",
      "*    428 |    1.0e-02 |           30.83 s |    0.8737\n",
      "*    430 |    1.0e-03 |           30.97 s |    0.8732\n"
     ]
    },
    {
     "ename": "KeyboardInterrupt",
     "evalue": "",
     "output_type": "error",
     "traceback": [
      "\u001b[0;31m---------------------------------------------------------------------------\u001b[0m",
      "\u001b[0;31mKeyboardInterrupt\u001b[0m                         Traceback (most recent call last)",
      "\u001b[0;32m<ipython-input-29-98437d186996>\u001b[0m in \u001b[0;36m<module>\u001b[0;34m\u001b[0m\n\u001b[1;32m      4\u001b[0m                                                                        \u001b[0mtrue_obj_tol\u001b[0m \u001b[0;34m=\u001b[0m \u001b[0;36m1e-7\u001b[0m\u001b[0;34m,\u001b[0m\u001b[0;34m\u001b[0m\u001b[0;34m\u001b[0m\u001b[0m\n\u001b[1;32m      5\u001b[0m                                                                       \u001b[0mtrue_solution\u001b[0m \u001b[0;34m=\u001b[0m \u001b[0msol\u001b[0m\u001b[0;34m,\u001b[0m\u001b[0;34m\u001b[0m\u001b[0;34m\u001b[0m\u001b[0m\n\u001b[0;32m----> 6\u001b[0;31m                                                                           save_iter = True)\n\u001b[0m",
      "\u001b[0;32m<ipython-input-28-8b2c8bc5e94a>\u001b[0m in \u001b[0;36mgeneralised_forward_backward_full_split\u001b[0;34m(c, m, n, iters, collect_obj, true_obj, true_obj_tol, true_solution, save_iter)\u001b[0m\n\u001b[1;32m     83\u001b[0m         \u001b[0mPₘ\u001b[0m \u001b[0;34m=\u001b[0m \u001b[0mγ_1\u001b[0m \u001b[0;34m+\u001b[0m \u001b[0;34m(\u001b[0m\u001b[0;34m(\u001b[0m\u001b[0mm\u001b[0m \u001b[0;34m-\u001b[0m \u001b[0mγ_1\u001b[0m\u001b[0;34m.\u001b[0m\u001b[0msum\u001b[0m\u001b[0;34m(\u001b[0m\u001b[0;36m1\u001b[0m\u001b[0;34m)\u001b[0m\u001b[0;34m)\u001b[0m\u001b[0;34m/\u001b[0m\u001b[0mN\u001b[0m\u001b[0;34m)\u001b[0m\u001b[0;34m.\u001b[0m\u001b[0mreshape\u001b[0m\u001b[0;34m(\u001b[0m\u001b[0mM\u001b[0m\u001b[0;34m,\u001b[0m\u001b[0;36m1\u001b[0m\u001b[0;34m)\u001b[0m\u001b[0;34m\u001b[0m\u001b[0;34m\u001b[0m\u001b[0m\n\u001b[1;32m     84\u001b[0m \u001b[0;34m\u001b[0m\u001b[0m\n\u001b[0;32m---> 85\u001b[0;31m         \u001b[0mv_1\u001b[0m \u001b[0;34m+=\u001b[0m \u001b[0mPₘ\u001b[0m \u001b[0;34m-\u001b[0m \u001b[0mx\u001b[0m\u001b[0;34m\u001b[0m\u001b[0;34m\u001b[0m\u001b[0m\n\u001b[0m\u001b[1;32m     86\u001b[0m \u001b[0;34m\u001b[0m\u001b[0m\n\u001b[1;32m     87\u001b[0m         \u001b[0mv_2\u001b[0m \u001b[0;34m+=\u001b[0m  \u001b[0mPₙ\u001b[0m \u001b[0;34m-\u001b[0m \u001b[0mx\u001b[0m\u001b[0;34m\u001b[0m\u001b[0;34m\u001b[0m\u001b[0m\n",
      "\u001b[0;31mKeyboardInterrupt\u001b[0m: "
>>>>>>> e997858a7d0f681d16b790cd6ff88287997e4c16
     ]
    }
   ],
   "source": [
    "x, obj, every_critical, every_iter = generalised_forward_backward_full_split(c,m,n, 1000000, \n",
    "                                                                        collect_obj = True, \n",
    "                                                                           true_obj = obj_exact,\n",
    "                                                                       true_obj_tol = 1e-7,\n",
    "                                                                      true_solution = sol, \n",
    "                                                                          save_iter = True)"
   ]
  },
  {
   "cell_type": "markdown",
   "metadata": {},
   "source": [
    "## Visualise and store results"
   ]
  },
  {
   "cell_type": "code",
   "execution_count": 20,
   "metadata": {},
   "outputs": [],
   "source": [
    "main_folder = folder + '_Results'\n",
    "out_folder  = main_folder + '/' + instance\n",
    "algorithm   = 'GFBS-'"
   ]
  },
  {
   "cell_type": "code",
   "execution_count": 21,
   "metadata": {},
   "outputs": [],
   "source": [
    "# Check if main folder for results exists, else create it\n",
    "if not os.path.exists(main_folder):    os.makedirs(main_folder)\n",
    "# Now create a folder for the results of the instance\n",
    "if not os.path.exists(out_folder):    os.makedirs(out_folder)\n",
    "out_folder += '/' + algorithm"
   ]
  },
  {
   "cell_type": "code",
   "execution_count": 22,
   "metadata": {
    "code_folding": [
     0
    ]
   },
   "outputs": [
    {
     "data": {
      "image/png": "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\n",
      "text/plain": [
       "<Figure size 720x360 with 2 Axes>"
      ]
     },
     "metadata": {
      "needs_background": "light"
     },
     "output_type": "display_data"
    }
   ],
   "source": [
    "# Visualise solution\n",
    "plt.figure(figsize = (10,5))\n",
    "\n",
    "plt.subplot(1, 2, 1)\n",
    "plt.spy(x, markersize=1, aspect = 1, markeredgecolor = 'black', alpha=0.75);    plt.axis('off')\n",
    "plt.title('Sparse view')\n",
    "plt.subplot(1, 2, 2)\n",
    "plt.imshow(x);    plt.axis('off');    plt.title('Heat map\\n')\n",
    "\n",
    "plt.savefig(out_folder+'Sparse-Heat.pdf', bbox_inches='tight',transparent=True)\n",
    "plt.show()"
   ]
  },
  {
   "cell_type": "code",
   "execution_count": 23,
   "metadata": {
    "code_folding": [
     0
    ]
   },
   "outputs": [
    {
     "data": {
      "image/png": "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\n",
      "text/plain": [
       "<Figure size 1440x360 with 2 Axes>"
      ]
     },
     "metadata": {
      "needs_background": "light"
     },
     "output_type": "display_data"
    }
   ],
   "source": [
    "# Visualise evolution of objective values\n",
    "plt.figure(figsize = (20,5))\n",
    "\n",
    "plt.subplot(1, 2, 1)\n",
    "plt.plot(obj)\n",
    "plt.axhline(y=obj_exact, color='r', linestyle=':')\n",
    "plt.xlabel('Iteration count');    plt.ylabel('Objective cost');    plt.title('Objective values per iteration')\n",
    "plt.subplot(1, 2, 2)\n",
    "plt.plot(obj)\n",
    "plt.axhline(y=obj_exact, color='r', linestyle=':')\n",
    "plt.yscale('log')\n",
    "plt.title('Objective values per iteration')\n",
    "plt.xlabel('Iteration count');    plt.ylabel('Objective cost (log scale)')\n",
    "\n",
    "plt.savefig(out_folder+'Objective.pdf', bbox_inches='tight',transparent=True)\n",
    "plt.show()"
   ]
  },
  {
   "cell_type": "code",
   "execution_count": 24,
   "metadata": {
    "code_folding": [
     0
    ]
   },
   "outputs": [
    {
     "data": {
      "image/png": "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\n",
      "text/plain": [
       "<Figure size 1440x360 with 2 Axes>"
      ]
     },
     "metadata": {
      "needs_background": "light"
     },
     "output_type": "display_data"
    }
   ],
   "source": [
    "# Visualise evolution of relative errors\n",
    "plt.figure(figsize = (20,5))\n",
    "\n",
    "plt.subplot(1, 2, 1)\n",
    "plt.plot(every_iter['dist_obj'])\n",
    "plt.yscale('log')\n",
    "plt.title('Error in objective per iteration')\n",
    "plt.xlabel('Iteration count');    plt.ylabel('Relative error in objective (log scale)')\n",
    "plt.subplot(1, 2, 2)\n",
    "plt.plot(every_iter['dist_x'])\n",
    "plt.yscale('log')\n",
    "plt.title('Error in solution per iteration')\n",
    "plt.xlabel('Iteration count');    plt.ylabel('Relative error in solution (log scale)')\n",
    "\n",
    "plt.savefig(out_folder+'Rel_Error.pdf', bbox_inches='tight',transparent=True)\n",
    "plt.show()"
   ]
  },
  {
   "cell_type": "markdown",
   "metadata": {},
   "source": [
    "All the data from the above two plots is also available as dataframes:"
   ]
  },
  {
   "cell_type": "code",
   "execution_count": 25,
   "metadata": {},
   "outputs": [
    {
     "data": {
      "text/html": [
       "<div>\n",
       "<style scoped>\n",
       "    .dataframe tbody tr th:only-of-type {\n",
       "        vertical-align: middle;\n",
       "    }\n",
       "\n",
       "    .dataframe tbody tr th {\n",
       "        vertical-align: top;\n",
       "    }\n",
       "\n",
       "    .dataframe thead th {\n",
       "        text-align: right;\n",
       "    }\n",
       "</style>\n",
       "<table border=\"1\" class=\"dataframe\">\n",
       "  <thead>\n",
       "    <tr style=\"text-align: right;\">\n",
       "      <th></th>\n",
       "      <th>it</th>\n",
       "      <th>obj</th>\n",
       "      <th>tol</th>\n",
       "      <th>dist_obj</th>\n",
       "      <th>time</th>\n",
       "      <th>dist_x</th>\n",
       "    </tr>\n",
       "  </thead>\n",
       "  <tbody>\n",
       "    <tr>\n",
       "      <th>0</th>\n",
       "      <td>235</td>\n",
       "      <td>0.021332</td>\n",
       "      <td>1.000000e+00</td>\n",
       "      <td>9.983430e-01</td>\n",
       "      <td>13.820847</td>\n",
       "      <td>0.916456</td>\n",
       "    </tr>\n",
       "    <tr>\n",
       "      <th>1</th>\n",
       "      <td>368</td>\n",
       "      <td>0.011716</td>\n",
       "      <td>1.000000e-01</td>\n",
       "      <td>9.753413e-02</td>\n",
       "      <td>20.947004</td>\n",
       "      <td>0.886237</td>\n",
       "    </tr>\n",
       "    <tr>\n",
       "      <th>2</th>\n",
       "      <td>428</td>\n",
       "      <td>0.010770</td>\n",
       "      <td>1.000000e-02</td>\n",
       "      <td>8.910469e-03</td>\n",
       "      <td>24.138585</td>\n",
       "      <td>0.873660</td>\n",
       "    </tr>\n",
       "    <tr>\n",
       "      <th>3</th>\n",
       "      <td>430</td>\n",
       "      <td>0.010677</td>\n",
       "      <td>1.000000e-03</td>\n",
       "      <td>1.503380e-04</td>\n",
       "      <td>24.250357</td>\n",
       "      <td>0.873249</td>\n",
       "    </tr>\n",
       "    <tr>\n",
       "      <th>4</th>\n",
       "      <td>3607</td>\n",
       "      <td>0.010674</td>\n",
       "      <td>1.000000e-04</td>\n",
       "      <td>8.562181e-05</td>\n",
       "      <td>196.960523</td>\n",
       "      <td>0.629365</td>\n",
       "    </tr>\n",
       "    <tr>\n",
       "      <th>5</th>\n",
       "      <td>5100</td>\n",
       "      <td>0.010675</td>\n",
       "      <td>1.000000e-05</td>\n",
       "      <td>4.193505e-06</td>\n",
       "      <td>278.240487</td>\n",
       "      <td>0.579261</td>\n",
       "    </tr>\n",
       "    <tr>\n",
       "      <th>6</th>\n",
       "      <td>13568</td>\n",
       "      <td>0.010675</td>\n",
       "      <td>1.000000e-06</td>\n",
       "      <td>3.039306e-07</td>\n",
       "      <td>740.890894</td>\n",
       "      <td>0.439566</td>\n",
       "    </tr>\n",
       "    <tr>\n",
       "      <th>7</th>\n",
       "      <td>44258</td>\n",
       "      <td>0.010675</td>\n",
       "      <td>1.000000e-07</td>\n",
       "      <td>5.610680e-08</td>\n",
       "      <td>2410.011845</td>\n",
       "      <td>0.364733</td>\n",
       "    </tr>\n",
       "  </tbody>\n",
       "</table>\n",
       "</div>"
      ],
      "text/plain": [
       "      it       obj           tol      dist_obj         time    dist_x\n",
       "0    235  0.021332  1.000000e+00  9.983430e-01    13.820847  0.916456\n",
       "1    368  0.011716  1.000000e-01  9.753413e-02    20.947004  0.886237\n",
       "2    428  0.010770  1.000000e-02  8.910469e-03    24.138585  0.873660\n",
       "3    430  0.010677  1.000000e-03  1.503380e-04    24.250357  0.873249\n",
       "4   3607  0.010674  1.000000e-04  8.562181e-05   196.960523  0.629365\n",
       "5   5100  0.010675  1.000000e-05  4.193505e-06   278.240487  0.579261\n",
       "6  13568  0.010675  1.000000e-06  3.039306e-07   740.890894  0.439566\n",
       "7  44258  0.010675  1.000000e-07  5.610680e-08  2410.011845  0.364733"
      ]
     },
     "metadata": {},
     "output_type": "display_data"
    },
    {
     "name": "stdout",
     "output_type": "stream",
     "text": [
      "\\begin{tabular}{rrrrrr}\n",
      "\\toprule\n",
      "   it &      obj &          tol &     dist\\_obj &        time &   dist\\_x \\\\\n",
      "\\midrule\n",
      "  235 & 0.021332 & 1.000000e+00 & 9.983430e-01 &   13.820847 & 0.916456 \\\\\n",
      "  368 & 0.011716 & 1.000000e-01 & 9.753413e-02 &   20.947004 & 0.886237 \\\\\n",
      "  428 & 0.010770 & 1.000000e-02 & 8.910469e-03 &   24.138585 & 0.873660 \\\\\n",
      "  430 & 0.010677 & 1.000000e-03 & 1.503380e-04 &   24.250357 & 0.873249 \\\\\n",
      " 3607 & 0.010674 & 1.000000e-04 & 8.562181e-05 &  196.960523 & 0.629365 \\\\\n",
      " 5100 & 0.010675 & 1.000000e-05 & 4.193505e-06 &  278.240487 & 0.579261 \\\\\n",
      "13568 & 0.010675 & 1.000000e-06 & 3.039306e-07 &  740.890894 & 0.439566 \\\\\n",
      "44258 & 0.010675 & 1.000000e-07 & 5.610680e-08 & 2410.011845 & 0.364733 \\\\\n",
      "\\bottomrule\n",
      "\\end{tabular}\n",
      "\n"
     ]
    }
   ],
   "source": [
    "df_critical = pd.DataFrame.from_dict(every_critical)\n",
    "df_critical.to_pickle(out_folder+'Critical.pkl') # To read back use pd.read_pickle(file_name)\n",
    "df_critical.to_excel(out_folder+'Critical.xlsx')\n",
    "display(df_critical)\n",
    "\n",
    "# If we want this table in LaTeX format run:\n",
    "print(df_critical.to_latex(index=False))"
   ]
  },
  {
   "cell_type": "code",
   "execution_count": 26,
   "metadata": {},
   "outputs": [
    {
     "data": {
      "text/html": [
       "<div>\n",
       "<style scoped>\n",
       "    .dataframe tbody tr th:only-of-type {\n",
       "        vertical-align: middle;\n",
       "    }\n",
       "\n",
       "    .dataframe tbody tr th {\n",
       "        vertical-align: top;\n",
       "    }\n",
       "\n",
       "    .dataframe thead th {\n",
       "        text-align: right;\n",
       "    }\n",
       "</style>\n",
       "<table border=\"1\" class=\"dataframe\">\n",
       "  <thead>\n",
       "    <tr style=\"text-align: right;\">\n",
       "      <th></th>\n",
       "      <th>it</th>\n",
       "      <th>obj</th>\n",
       "      <th>dist_obj</th>\n",
       "      <th>time</th>\n",
       "      <th>dist_x</th>\n",
       "    </tr>\n",
       "  </thead>\n",
       "  <tbody>\n",
       "    <tr>\n",
       "      <th>0</th>\n",
       "      <td>0</td>\n",
       "      <td>-4.682294</td>\n",
       "      <td>439.621362</td>\n",
       "      <td>0.052829</td>\n",
       "      <td>1.497269</td>\n",
       "    </tr>\n",
       "    <tr>\n",
       "      <th>1</th>\n",
       "      <td>1</td>\n",
       "      <td>-5.825656</td>\n",
       "      <td>546.727681</td>\n",
       "      <td>0.106003</td>\n",
       "      <td>1.541418</td>\n",
       "    </tr>\n",
       "    <tr>\n",
       "      <th>2</th>\n",
       "      <td>2</td>\n",
       "      <td>-5.562008</td>\n",
       "      <td>522.030051</td>\n",
       "      <td>0.160882</td>\n",
       "      <td>1.587186</td>\n",
       "    </tr>\n",
       "    <tr>\n",
       "      <th>3</th>\n",
       "      <td>3</td>\n",
       "      <td>-5.158345</td>\n",
       "      <td>484.216198</td>\n",
       "      <td>0.226974</td>\n",
       "      <td>1.625204</td>\n",
       "    </tr>\n",
       "    <tr>\n",
       "      <th>4</th>\n",
       "      <td>4</td>\n",
       "      <td>-4.720819</td>\n",
       "      <td>443.230325</td>\n",
       "      <td>0.287167</td>\n",
       "      <td>1.637895</td>\n",
       "    </tr>\n",
       "  </tbody>\n",
       "</table>\n",
       "</div>"
      ],
      "text/plain": [
       "   it       obj    dist_obj      time    dist_x\n",
       "0   0 -4.682294  439.621362  0.052829  1.497269\n",
       "1   1 -5.825656  546.727681  0.106003  1.541418\n",
       "2   2 -5.562008  522.030051  0.160882  1.587186\n",
       "3   3 -5.158345  484.216198  0.226974  1.625204\n",
       "4   4 -4.720819  443.230325  0.287167  1.637895"
      ]
     },
     "metadata": {},
     "output_type": "display_data"
    }
   ],
   "source": [
    "df_every = pd.DataFrame.from_dict(every_iter)\n",
    "df_every.to_pickle(out_folder+'Every.pkl') # To read back use pd.read_pickle(file_name)\n",
    "df_every.to_excel(out_folder+'Every.xlsx')\n",
    "display(df_every.head())"
   ]
  },
  {
   "cell_type": "code",
   "execution_count": 27,
   "metadata": {},
   "outputs": [
    {
     "data": {
      "text/html": [
       "<div>\n",
       "<style scoped>\n",
       "    .dataframe tbody tr th:only-of-type {\n",
       "        vertical-align: middle;\n",
       "    }\n",
       "\n",
       "    .dataframe tbody tr th {\n",
       "        vertical-align: top;\n",
       "    }\n",
       "\n",
       "    .dataframe thead th {\n",
       "        text-align: right;\n",
       "    }\n",
       "</style>\n",
       "<table border=\"1\" class=\"dataframe\">\n",
       "  <thead>\n",
       "    <tr style=\"text-align: right;\">\n",
       "      <th></th>\n",
       "      <th>it</th>\n",
       "      <th>obj</th>\n",
       "      <th>dist_obj</th>\n",
       "      <th>time</th>\n",
       "      <th>dist_x</th>\n",
       "    </tr>\n",
       "  </thead>\n",
       "  <tbody>\n",
       "    <tr>\n",
       "      <th>count</th>\n",
       "      <td>44259.000000</td>\n",
       "      <td>44259.000000</td>\n",
       "      <td>4.425900e+04</td>\n",
       "      <td>44259.000000</td>\n",
       "      <td>44259.000000</td>\n",
       "    </tr>\n",
       "    <tr>\n",
       "      <th>mean</th>\n",
       "      <td>22129.000000</td>\n",
       "      <td>0.009935</td>\n",
       "      <td>1.374194e-01</td>\n",
       "      <td>1204.889740</td>\n",
       "      <td>0.442193</td>\n",
       "    </tr>\n",
       "    <tr>\n",
       "      <th>std</th>\n",
       "      <td>12776.617119</td>\n",
       "      <td>0.067718</td>\n",
       "      <td>6.342491e+00</td>\n",
       "      <td>694.241461</td>\n",
       "      <td>0.112749</td>\n",
       "    </tr>\n",
       "    <tr>\n",
       "      <th>min</th>\n",
       "      <td>0.000000</td>\n",
       "      <td>-5.825656</td>\n",
       "      <td>5.610680e-08</td>\n",
       "      <td>0.052829</td>\n",
       "      <td>0.364733</td>\n",
       "    </tr>\n",
       "    <tr>\n",
       "      <th>25%</th>\n",
       "      <td>11064.500000</td>\n",
       "      <td>0.010671</td>\n",
       "      <td>5.604283e-04</td>\n",
       "      <td>605.243263</td>\n",
       "      <td>0.370396</td>\n",
       "    </tr>\n",
       "    <tr>\n",
       "      <th>50%</th>\n",
       "      <td>22129.000000</td>\n",
       "      <td>0.010683</td>\n",
       "      <td>1.061258e-03</td>\n",
       "      <td>1205.312730</td>\n",
       "      <td>0.392088</td>\n",
       "    </tr>\n",
       "    <tr>\n",
       "      <th>75%</th>\n",
       "      <td>33193.500000</td>\n",
       "      <td>0.010717</td>\n",
       "      <td>4.783877e-03</td>\n",
       "      <td>1804.794539</td>\n",
       "      <td>0.465806</td>\n",
       "    </tr>\n",
       "    <tr>\n",
       "      <th>max</th>\n",
       "      <td>44258.000000</td>\n",
       "      <td>0.210112</td>\n",
       "      <td>5.467277e+02</td>\n",
       "      <td>2410.011845</td>\n",
       "      <td>1.637895</td>\n",
       "    </tr>\n",
       "  </tbody>\n",
       "</table>\n",
       "</div>"
      ],
      "text/plain": [
       "                 it           obj      dist_obj          time        dist_x\n",
       "count  44259.000000  44259.000000  4.425900e+04  44259.000000  44259.000000\n",
       "mean   22129.000000      0.009935  1.374194e-01   1204.889740      0.442193\n",
       "std    12776.617119      0.067718  6.342491e+00    694.241461      0.112749\n",
       "min        0.000000     -5.825656  5.610680e-08      0.052829      0.364733\n",
       "25%    11064.500000      0.010671  5.604283e-04    605.243263      0.370396\n",
       "50%    22129.000000      0.010683  1.061258e-03   1205.312730      0.392088\n",
       "75%    33193.500000      0.010717  4.783877e-03   1804.794539      0.465806\n",
       "max    44258.000000      0.210112  5.467277e+02   2410.011845      1.637895"
      ]
     },
     "execution_count": 27,
     "metadata": {},
     "output_type": "execute_result"
    }
   ],
   "source": [
    "df_every.describe()"
   ]
  },
  {
   "cell_type": "code",
   "execution_count": 28,
   "metadata": {},
   "outputs": [],
   "source": [
    "# Finally, store the latest solution:\n",
    "np.save(out_folder + '_Sol.npy' , x)            # To read back just run:   np.load(outfile)"
   ]
  },
  {
   "cell_type": "markdown",
   "metadata": {},
   "source": [
    "---\n",
    "Code used to do performance tests in each piece of code:\n",
    "```Python\n",
    "start = time.time()\n",
    "# ...\n",
    "end = time.time()\n",
    "print(end-start)\n",
    "\n",
    "%timeit -r 10 -n 200 `function(x)`\n",
    "```"
   ]
  },
  {
   "cell_type": "code",
   "execution_count": 29,
   "metadata": {},
   "outputs": [],
   "source": [
    "import numpy as np\n",
    "import os, glob\n",
    "import h5py \n",
    "size = '64'\n",
    "hg = h5py.File('./Exact/Microscopy_Sized/data'+ size +'_1002-data'+ size +'_1010_p=S2_Cost.h5', 'r')\n",
    "h5Cost = np.array( hg.get('data'+ size +'_1002-data'+ size +'_1010_p=S2_Cost') )\n"
   ]
  },
  {
   "cell_type": "code",
   "execution_count": 30,
   "metadata": {},
   "outputs": [],
   "source": [
    "#np.save('Exact/Microscopy_Sized/data'+ size +'_1002-data'+ size +'_1010_p=S2_Cost', h5Cost)"
   ]
  },
  {
   "cell_type": "code",
   "execution_count": null,
   "metadata": {},
   "outputs": [],
   "source": []
  }
 ],
 "metadata": {
  "kernelspec": {
   "display_name": "Python 3",
   "language": "python",
   "name": "python3"
  },
  "language_info": {
   "codemirror_mode": {
    "name": "ipython",
    "version": 3
   },
   "file_extension": ".py",
   "mimetype": "text/x-python",
   "name": "python",
   "nbconvert_exporter": "python",
   "pygments_lexer": "ipython3",
   "version": "3.7.9"
  }
 },
 "nbformat": 4,
 "nbformat_minor": 2
}
