{
 "cells": [
  {
   "cell_type": "markdown",
   "metadata": {},
   "source": [
    "# Generalised Forward-Backward to solve Discrete Optimal Transport"
   ]
  },
  {
   "cell_type": "markdown",
   "metadata": {},
   "source": [
    "<div class=\"alert alert-block alert-success\">\n",
    "    \n",
    "This notebook we aim at solving DOT instances using modern optimisation algorithms that outperform the simplex method. To do this we will use the Generalised Forward-Backward framework. \n",
    "    \n",
    "The notebook is divided in three parts. First, Condat's projection into the ℓ<sub>1</sub> ball algorithm is implemented. Second, the algorithm is used to find feasible solutions of DOT. Finally, the Generalised Forward-Backward algorithm is tested. The results are automatically stored with an unique identifier and some performance plots are presented.\n",
    "</div>\n",
    "\n",
    "* Laurent Condat. <i>Fast projection onto the simplex and the ℓ<sub>1</sub> ball</i>. Math. Program. 158, 575–585 (2016). [https://doi.org/10.1007/s10107-015-0946-6](https://doi.org/10.1007/s10107-015-0946-6). _Also available at_ [https://hal.archives-ouvertes.fr/hal-01056171v2](https://hal.archives-ouvertes.fr/hal-01056171v2).\n",
    "\n",
    "* Hugo Raguet, Jalal Fadili, and Gabriel Peyre. <i>Generalised Forward-Backward Splitting</i>. SIAM J. Imaging Sci., 6(3), 1199–1226 (2013). [https://doi.org/10.1137/120872802](https://doi.org/10.1137/120872802). _Also available at_ [https://arxiv.org/pdf/1108.4404.pdf](https://arxiv.org/pdf/1108.4404.pdf)."
   ]
  },
  {
   "cell_type": "markdown",
   "metadata": {},
   "source": [
    "<div class=\"alert alert-block alert-info\">\n",
    "Packages\n",
    "</div>"
   ]
  },
  {
   "cell_type": "code",
   "execution_count": 1,
   "metadata": {},
   "outputs": [],
   "source": [
    "import numpy  as np\n",
    "import pandas as pd\n",
    "import time\n",
    "import os\n",
    "import matplotlib.pyplot as plt\n",
    "\n",
    "# Particular functions\n",
    "from numpy import zeros, zeros_like, allclose, where, ones, inf, absolute, linspace, tile\n",
    "from numpy.random import default_rng as rng\n",
    "from numba import jit\n",
    "from scipy.spatial.distance import cdist\n",
    "from scipy.linalg import norm"
   ]
  },
  {
   "cell_type": "markdown",
   "metadata": {
    "heading_collapsed": true
   },
   "source": [
    "# Subroutines"
   ]
  },
  {
   "cell_type": "markdown",
   "metadata": {
    "hidden": true
   },
   "source": [
    "In this section we create subroutines that will be iteratively used in the main algorithm."
   ]
  },
  {
   "cell_type": "markdown",
   "metadata": {
    "heading_collapsed": true,
    "hidden": true
   },
   "source": [
    "## Projection onto the simplex"
   ]
  },
  {
   "cell_type": "markdown",
   "metadata": {
    "hidden": true
   },
   "source": [
    "Here we provide an implementation of Condat's algorithm. The main steps are precompiled using the Just-in-time package ```numba``` to gain a speed-up. To get the best computing times, the resulting jitted function has to be run at least once before an actual iterative test. For the tests, we will project a random vector $y$ of size $N$ with $y_n \\sim \\mathcal{U}(-1,2)$ for all $n\\in \\{1,\\ldots,N\\}$ and a 20% mask of zeroes."
   ]
  },
  {
   "cell_type": "markdown",
   "metadata": {
    "hidden": true
   },
   "source": [
    "<div style=\"background-color:rgba(0, 0, 0, 0.0470588); vertical-align: middle; padding:5px 0; padding-left: 40px;\">\n",
    "<h2 style=\"color: #5e9ca0;\">Condat's Algorithm</h2>\n",
    "<ol>\n",
    "<li>Set $v:= (y_1)$, $u$ as an empty list, $\\rho:= y_1 - a$.</li>\n",
    "<li>For $n \\in \\{2,\\ldots, N\\}$, do\n",
    "<ol>\n",
    "<li>If $y_n > \\rho$\n",
    "<ol>\n",
    "<li>Set $\\rho := \\rho + (y_n - \\rho)/(|v|+1)$.</li>\n",
    "<li>If $\\rho > y_n - a$, add $y_n$ to $v$.</li>\n",
    "<li>Else, add $v$ to $u$, set $v = (y_n)$, $\\rho = y_n -a$.</li>\n",
    "</ol>\n",
    "</li>\n",
    "</ol>\n",
    "</li>\n",
    "<li>If $u$ is not empty, for every element $y$ of $u$, do\n",
    "<ol>\n",
    "<li>If $y > \\rho$, add $y$ to $v$ and set $\\rho := \\rho + (y-\\rho)/|v|$.</li>\n",
    "</ol>\n",
    "</li>\n",
    "<li>Do, while $|v|$ changes,\n",
    "<ol>\n",
    "<li>For every element $y$ of $v$ do\n",
    "<ol>\n",
    "<li>If $y\\leq \\rho$, remove $y$ from $v$ and set $\\rho := \\rho + (\\rho - y)/|v|$.</li>\n",
    "</ol>\n",
    "</li>\n",
    "</ol>\n",
    "</li>\n",
    "<li>Set $\\tau := \\rho$, $K = |v|$.</li>\n",
    "<li>For $n \\in \\{1,\\ldots,N\\}$, set $x_n := \\max \\{y_n - \\tau, 0\\}$.</li>\n",
    "</ol>\n",
    "</div>"
   ]
  },
  {
   "cell_type": "code",
   "execution_count": 2,
   "metadata": {
    "hidden": true
   },
   "outputs": [],
   "source": [
    "N = 1000\n",
    "y = rng(0).uniform(-1,2,N);    y = where(rng(0).binomial(1,0.8,N), y, 0)\n",
    "a = 1.0"
   ]
  },
  {
   "cell_type": "code",
   "execution_count": 3,
   "metadata": {
    "code_folding": [
     1
    ],
    "hidden": true
   },
   "outputs": [],
   "source": [
    "@jit(nopython=True, fastmath = True)\n",
    "def CondatP_1d(y,a,N):\n",
    "    x = zeros_like(y)\n",
    "    if a == 0:\n",
    "        return x\n",
    "    \n",
    "    # Step 1\n",
    "    ρ = y[0] - a\n",
    "    v = [0]\n",
    "    u = []\n",
    "    # Step 2\n",
    "    for n in range(1,N):\n",
    "        yₙ = y[n]\n",
    "        if yₙ > ρ:\n",
    "            ρ += (yₙ - ρ)/( len(v) + 1 )\n",
    "            if ρ > yₙ - a:\n",
    "                v.append(n)\n",
    "            else:\n",
    "                u.extend(v)\n",
    "                v = [n]\n",
    "                ρ = yₙ - a\n",
    "    # Step 3\n",
    "    if len(u) > 0:\n",
    "        for n in iter(u):\n",
    "            yₙ = y[n]\n",
    "            if yₙ > ρ:\n",
    "                v.append(n)\n",
    "                ρ += (yₙ - ρ)/( len(v) )\n",
    "    # Step 4\n",
    "    while True:\n",
    "        ℓ_v = len(v)\n",
    "        for i,j in enumerate(v):\n",
    "            if y[j] <= ρ:\n",
    "                ρ += (ρ - y[j])/(len(v) - 1)\n",
    "                del v[i]\n",
    "        if len(v) >= ℓ_v:\n",
    "            break\n",
    "    \n",
    "    #x[v] = y[v] - ρ\n",
    "    for n in iter(v):\n",
    "        x[n] = y[n] - ρ\n",
    "    #for n in prange(len(v)):\n",
    "    #    x[v[n]] = y[v[n]] - ρ\n",
    "    return x"
   ]
  },
  {
   "cell_type": "code",
   "execution_count": 4,
   "metadata": {
    "code_folding": [],
    "hidden": true
   },
   "outputs": [],
   "source": [
    "# Run things once for pre-compiling:\n",
    "CondatP_1d(y,a,N);"
   ]
  },
  {
   "cell_type": "code",
   "execution_count": 5,
   "metadata": {
    "hidden": true
   },
   "outputs": [
    {
     "data": {
      "text/plain": [
       "True"
      ]
     },
     "execution_count": 5,
     "metadata": {},
     "output_type": "execute_result"
    }
   ],
   "source": [
    "# If we run the above again, we can see a clear speed-up. The computation passes quickly even inside compositions\n",
    "allclose(CondatP_1d(y,a,N).sum(), 1.0)"
   ]
  },
  {
   "cell_type": "markdown",
   "metadata": {
    "hidden": true
   },
   "source": [
    "Now we addapt the code to accept a matrix $\\gamma$ as input."
   ]
  },
  {
   "cell_type": "code",
   "execution_count": 6,
   "metadata": {
    "hidden": true
   },
   "outputs": [],
   "source": [
    "N = 500\n",
    "M = 1000\n",
    "γ = rng(0).uniform(-1,2,(M,N));    γ = where(rng(0).binomial(1,0.8,(M,N)), γ, 0)\n",
    "a = 1.0"
   ]
  },
  {
   "cell_type": "markdown",
   "metadata": {
    "hidden": true
   },
   "source": [
    "We can pre-allocate some memory:"
   ]
  },
  {
   "cell_type": "code",
   "execution_count": 7,
   "metadata": {
    "hidden": true
   },
   "outputs": [],
   "source": [
    "x = zeros_like(γ)"
   ]
  },
  {
   "cell_type": "code",
   "execution_count": 8,
   "metadata": {
    "cell_style": "center",
    "code_folding": [
     1
    ],
    "hidden": true
   },
   "outputs": [],
   "source": [
    "@jit(nopython=True, fastmath = True)\n",
    "def CondatP(y,x,a,N):\n",
    "    if a == 0:\n",
    "        return x\n",
    "    \n",
    "    # Step 1\n",
    "    ρ = y[0] - a\n",
    "    v = [0]\n",
    "    u = []\n",
    "    # Step 2\n",
    "    for n in range(1,N):\n",
    "        yₙ = y[n]\n",
    "        if yₙ > ρ:\n",
    "            ρ += (yₙ - ρ)/( len(v) + 1 )\n",
    "            if ρ > yₙ - a:\n",
    "                v.append(n)\n",
    "            else:\n",
    "                u.extend(v)\n",
    "                v = [n]\n",
    "                ρ = yₙ - a\n",
    "    # Step 3\n",
    "    if len(u) > 0:\n",
    "        for n in iter(u):\n",
    "            yₙ = y[n]\n",
    "            if yₙ > ρ:\n",
    "                v.append(n)\n",
    "                ρ += (yₙ - ρ)/( len(v) )\n",
    "    # Step 4\n",
    "    while True:\n",
    "        ℓ_v = len(v)\n",
    "        for i,j in enumerate(v):\n",
    "            if y[j] <= ρ:\n",
    "                ρ += (ρ - y[j])/(len(v) - 1)\n",
    "                del v[i]\n",
    "        if len(v) >= ℓ_v:\n",
    "            break\n",
    "    \n",
    "    #x[v] = y[v] - ρ\n",
    "    for n in iter(v):\n",
    "        x[n] = y[n] - ρ\n",
    "    #for n in prange(len(v)):\n",
    "    #    x[v[n]] = y[v[n]] - ρ\n",
    "    return x"
   ]
  },
  {
   "cell_type": "code",
   "execution_count": 9,
   "metadata": {
    "hidden": true
   },
   "outputs": [],
   "source": [
    "CondatP(γ[0],x[0],a,M); # Null test"
   ]
  },
  {
   "cell_type": "code",
   "execution_count": 10,
   "metadata": {
    "hidden": true
   },
   "outputs": [
    {
     "name": "stdout",
     "output_type": "stream",
     "text": [
      "Time taken: 0.022589921951293945 s\n"
     ]
    }
   ],
   "source": [
    "start = time.time()\n",
    "x = zeros_like(γ)\n",
    "for i in range(M):    x[i] = CondatP(γ[i],x[i],a,N)\n",
    "end = time.time()\n",
    "print('Time taken:',end-start,'s')"
   ]
  },
  {
   "cell_type": "code",
   "execution_count": 11,
   "metadata": {
    "hidden": true,
    "scrolled": true
   },
   "outputs": [
    {
     "data": {
      "text/plain": [
       "True"
      ]
     },
     "execution_count": 11,
     "metadata": {},
     "output_type": "execute_result"
    }
   ],
   "source": [
    "allclose(x.sum(axis=1), 1)"
   ]
  },
  {
   "cell_type": "markdown",
   "metadata": {
    "hidden": true
   },
   "source": [
    "An additional test can be to see what happens if we work on the support of $\\gamma$:\n",
    "```Python\n",
    "x = zeros_like(γ)\n",
    "for i in range(N):\n",
    "    z = γ[i][γ[i] != 0]\n",
    "    x[i][γ[i] != 0] = CondatP_1d(z,a,z.size)\n",
    "```"
   ]
  },
  {
   "cell_type": "markdown",
   "metadata": {
    "hidden": true
   },
   "source": [
    "There does not seem to be a significant gain on working with the support. This might change if the support is extremely small."
   ]
  },
  {
   "cell_type": "markdown",
   "metadata": {},
   "source": [
    "# Algorithm"
   ]
  },
  {
   "cell_type": "markdown",
   "metadata": {},
   "source": [
    "Now, we will run the Generalised Forward-Backward algorithm addapted for DOT. To test it, we will run it against some of the DOTMark files. We will aim to transport from one given image to another, which are normalised and flattened in ```C```-order. The matrix of costs is based on a uniform grid within $[0,1]^2$ with $M$ points for the source and $N$ points for the target."
   ]
  },
  {
   "cell_type": "markdown",
   "metadata": {},
   "source": [
    "<div style=\"background-color:rgba(0, 0, 0, 0.0470588); vertical-align: middle; padding:5px 0; padding-left: 40px;\">\n",
    "<h2 style=\"color: #5e9ca0;\">Generalised Forward Backward (Full Splitting) Algorithm</h2>\n",
    "We will recast our optimisation algorithm in the form\n",
    "\\[\\min_{\\gamma \\in \\mathbb{R}^{M \\times N}} K(\\gamma) + \\imath_{\\mathbb{R}^{M \\times N}_{+}}(\\gamma) + \\sum^{N}_{j=1}\\imath_{\\mathcal{H}^{M}_{j}}(\\gamma_{j}) + \\sum^{M}_{i=1}\\imath_{\\mathcal{H}^{N}_{i}}(\\gamma_{i}) ,\\]\n",
    " where \\[\\mathcal{H}^{M}_{j} = \\{x \\in \\mathbb{R}^{M} \\mid \\mathbb{1}^{T}_{M}x \\geq n_{j} \\},\\]\n",
    "    \\[\\mathcal{H}^{N}_{i} = \\{x \\in \\mathbb{R}^{N}\\mid \\mathbb{1}^{T}_{N}x \\leq m_{i} \\}.\\]"
   ]
  },
  {
   "cell_type": "markdown",
   "metadata": {},
   "source": [
    "## Instance information"
   ]
  },
  {
   "cell_type": "code",
   "execution_count": 12,
   "metadata": {},
   "outputs": [],
   "source": [
    "folder = 'Microscopy_Sized'\n",
    "path = 'Exact/' + folder + '/'"
   ]
  },
  {
   "cell_type": "code",
   "execution_count": 13,
   "metadata": {},
   "outputs": [
    {
     "name": "stdout",
     "output_type": "stream",
     "text": [
      "There are 4 instances in this location:\n"
     ]
    },
    {
     "data": {
      "text/plain": [
       "['data8_1002-data8_1010_p=S2',\n",
       " 'data32_1002-data32_1010_p=S2',\n",
       " 'data16_1002-data16_1010_p=S2',\n",
       " 'data64_1002-data64_1010_p=S2']"
      ]
     },
     "metadata": {},
     "output_type": "display_data"
    }
   ],
   "source": [
    "files = [f[:-9] for f in os.listdir(path) if f.endswith('.txt')]\n",
    "print('There are', len(files), 'instances in this location:')\n",
    "display(files)"
   ]
  },
  {
   "cell_type": "markdown",
   "metadata": {},
   "source": [
    "Select one instance:"
   ]
  },
  {
   "cell_type": "code",
   "execution_count": 14,
   "metadata": {},
   "outputs": [],
   "source": [
    "instance = files[1]\n",
    "full_path = path + instance"
   ]
  },
  {
   "cell_type": "markdown",
   "metadata": {},
   "source": [
    "Load data:"
   ]
  },
  {
   "cell_type": "code",
   "execution_count": 15,
   "metadata": {},
   "outputs": [],
   "source": [
    "m = np.load(full_path + '_m.npy');    M = m.size\n",
    "n = np.load(full_path + '_n.npy');    N = n.size\n",
    "c = np.load(full_path + '_Cost.npy')\n",
    "sol = np.load(full_path + '_Sol.npy')"
   ]
  },
  {
   "cell_type": "code",
   "execution_count": 16,
   "metadata": {},
   "outputs": [],
   "source": [
    "with open(full_path + '_Time.txt', 'r') as f:\n",
    "    obj_exact = eval((f.readlines())[0])['Obj']"
   ]
  },
  {
   "cell_type": "markdown",
   "metadata": {},
   "source": [
    "## Run algorithm"
   ]
  },
  {
   "cell_type": "markdown",
   "metadata": {},
   "source": [
    "<div class=\"alert alert-block alert-warning\">\n",
    "    \n",
    "In what follows, we provide tests for the chosen instance running the Generalised forward-backward split approach given by Hugo Raguet, Jalal Fadili, and Gabriel Peyre (2013).\n",
    "</div>"
   ]
  },
  {
   "cell_type": "code",
   "execution_count": 17,
   "metadata": {},
   "outputs": [],
   "source": [
    "def Projection(x,b,dim):\n",
    "    #projection onto the set \\{x : aT x = b \\}\n",
    "    Px = x -(sum(x)-b)*np.ones(dim)/(dim)\n",
    "    return Px"
   ]
  },
  {
   "cell_type": "code",
   "execution_count": 18,
   "metadata": {
    "code_folding": [
     0
    ]
   },
   "outputs": [],
   "source": [
    "def generalised_forward_backward_NP_full_split(c,m,n,iters, collect_obj = False, \n",
    "                                                 true_obj = None,\n",
    "                                             true_obj_tol = 1e-4, true_solution = None, save_iter = False):\n",
    "    # Algorithm for calculating solution x, in the primal space\n",
    "    # and y_1, y_2 in the dual space.\n",
    "    # Also returns the value of the objective function c*x at each\n",
    "    # iteration.\n",
    "    \n",
    "    '''\n",
    "        Initialise parameters\n",
    "    '''\n",
    "    #First compute μ\n",
    "    μ = norm(c,2)     # 1 -> 10^-1 -> 10^-2 -> ...\n",
    "    # μ is selected as the midpoint of the interval\n",
    "    #e = 1/mu #0.5 * 1/mu;        # remove\n",
    "    # γ->θ does not depend on the current iteration\n",
    "    θ = 0.0001\n",
    "    # likewise, we do not require a change in λ\n",
    "    λ = 1.0\n",
    "    \n",
    "    # Fetch lengths of m and n\n",
    "    N = n.size;        M = m.size\n",
    "    \n",
    "    print('\\n*** Generalised FB with M = {}, N = {}, MN = {} ***\\n\\n'.format(M,N,M*N))\n",
    "    \n",
    "    '''\n",
    "        Initialise matrices\n",
    "    '''\n",
    "    # Initialise y_1 and y_2\n",
    "    v_1 = zeros((M,N))\n",
    "    v_2 = zeros((M,N))\n",
    "    v_3 = zeros((M,N))\n",
    "    \n",
    "    v_1[0,:] = n\n",
    "    v_2[:,0] = m\n",
    "    \n",
    "    \n",
    "    # Initialise x\n",
    "    x = 0.5*(v_1 + v_2) #maybe change this\n",
    "    #x = np.zeros((M,N));    x[:,0] = m;    x[0,:] = n;    x[0,0] = 0.5*(m[-1] + n[-1])        # Alternative\n",
    "    \n",
    "    '''\n",
    "        Information from true solution (if available)\n",
    "    '''\n",
    "    # Store current objective value\n",
    "    if collect_obj == True:\n",
    "        obj = [(c*x).sum()]\n",
    "    \n",
    "    # Norm of true solution\n",
    "    if true_solution is not None:\n",
    "        true_obj_crit = 1.0\n",
    "        if true_obj is None:\n",
    "            true_obj = (c*sol).sum()\n",
    "        print('Objective from ground truth:', obj_exact,'\\n')\n",
    "        \n",
    "    '''\n",
    "        Iterate the Generalised FB scheme\n",
    "    '''\n",
    "    \n",
    "    every_iter = {'it':[], 'obj':[], 'dist_obj':[], 'time':[], 'dist_x':[]}\n",
    "    every_critical = {'it':[], 'obj':[], 'tol':[], 'dist_obj':[], 'time':[], 'dist_x':[]}\n",
    "    \n",
    "    if true_solution is not None:\n",
    "        print('     It  |  Tolerance |        Time       | Frob. dist. ')\n",
    "        print( '{:-^55}'.format('') )\n",
    "    \n",
    "    start = time.time()    \n",
    "    for k in range(iters):\n",
    "    \n",
    "        #matrices for projection over the simplex C_1^m and the simplex C_2^n.\n",
    "        \n",
    "        γ_1 = 2*x - v_1 - θ*c #constraint rows and columns\n",
    "        #γ_2 = 2*x - v_2 - θ*c # constraint columns\n",
    "        γ_3 = 2*x - v_3 - θ*c #positivity constraint\n",
    "        \n",
    "        # Project update onto simplices\n",
    "#         for i in range(M):  # row constraints\n",
    "#             v_1[i] += Projection(γ_1[i],m[i],N) - x[i]\n",
    "            \n",
    "        # Projection to 1ᵀx = n\n",
    "        #Pₙ = γ_1 + (n - γ_1.sum(0))/M          # to check the constraint run: allclose(Pₙ.sum(0), n)\n",
    "        # Projection to xᵀ1 = m\n",
    "        #Pₘ = (γ_1.T + (m - γ_1.sum(1))/N).T    # to check run: allclose(Pₘ.sum(1), m)  \n",
    "#         # Alternative:\n",
    "        #Pₘ = ((m - γ_1.sum(1))/N).reshape(M,1)\n",
    "        #P = Pₙ + Pₘ\n",
    "        κ_1 = γ_1.sum(1) - m\n",
    "        κ_2 = γ_1.sum(0) - n\n",
    "        \n",
    "        β_1 = κ_1.sum() / (M + N)\n",
    "        β_2 = κ_2.sum() / (M + N)\n",
    "        #print(βfeT.shape, (np.tile((γ_1.sum(0) - n), (M,1))).shape)\n",
    "        #print((np.tile((γ_1.sum(1) - m), (N, 1)) - βfeT).shape, (np.tile((γ_1.sum(0) - n), (M,1)).T - βfeT).shape)\n",
    "        \n",
    "        P = γ_1 - tile( (κ_1 - β_1)/N, (N,1)).T - tile( (κ_2 - β_2)/N, (M,1))\n",
    "        \n",
    "        #print(allclose(P.sum(0).T, n), allclose(P.sum(1), m))\n",
    "        \n",
    "        v_1 += P - x\n",
    "            \n",
    "#         for i in range(N):  # column constraints\n",
    "#             v_2[:,i] += Projection(γ_2[:,i],n[i],M) - x[:,i]\n",
    "            \n",
    "        #v_2 +=  Pₙ - x\n",
    "        #positivity constraint\n",
    "        v_3 += np.where(γ_3<0,0,γ_3) - x\n",
    "      \n",
    "    \n",
    "        # Update x using v_1 and v_2\n",
    "        x = (v_1 + v_3)/2   #3\n",
    "        # Measure time up to this point!\n",
    "        end = time.time()\n",
    "        \n",
    "        # Update objective function\n",
    "        if collect_obj == True:\n",
    "            obj.append( (c*x).sum() )\n",
    "            #print((c*x).sum())\n",
    "            # Compute relative objective distance\n",
    "            if true_solution is not None:\n",
    "                dist_true_sol = abs(obj[-1] - true_obj)/true_obj\n",
    "        \n",
    "        # If all iterations are to be stored:\n",
    "        if save_iter == True:\n",
    "            frob_d = norm(sol-x, 'fro')/norm(sol, 'fro')\n",
    "            every_iter['it'].append( k )\n",
    "            every_iter['obj'].append( (c*x).sum() )\n",
    "            every_iter['dist_obj'].append( dist_true_sol if true_obj is not None else np.nan )\n",
    "            every_iter['time'].append( end-start )\n",
    "            every_iter['dist_x'].append( frob_d )\n",
    "            \n",
    "           #print(dist_true_sol) \n",
    "            \n",
    "        # If a true solution is available, we check the tolerance:\n",
    "        if true_solution is not None: \n",
    "            if dist_true_sol < true_obj_crit:\n",
    "                frob_d = norm(sol-x, 'fro')/norm(sol, 'fro')\n",
    "                \n",
    "                every_critical['it'].append( k )\n",
    "                every_critical['obj'].append( obj[-1] )\n",
    "                every_critical['tol'].append( true_obj_crit )\n",
    "                every_critical['dist_obj'].append( dist_true_sol )\n",
    "                every_critical['time'].append( end-start )\n",
    "                every_critical['dist_x'].append( frob_d )\n",
    "                \n",
    "                print('* {0:6.0f} |    {1:.1e} | {2:15.2f} s |    {3:4.4f}'.format(k,true_obj_crit,end-start,frob_d))\n",
    "                \n",
    "                # If the prescribed tolerance is reached, we finish.\n",
    "                if dist_true_sol < true_obj_tol:\n",
    "                    print('Solution found with given tolerance.')\n",
    "                    break\n",
    "                \n",
    "                # Adjust current level of inner tolerance\n",
    "                true_obj_crit *= 0.1\n",
    "                \n",
    "    if true_solution is not None:\n",
    "        print( '{:-^55}'.format('') )\n",
    "        \n",
    "    print('\\nAlgorithm stopped after {0:.4f} seconds and {1} iterations'.format(end-start,k))\n",
    "    \n",
    "    \n",
    "    if collect_obj == False and save_iter == True:\n",
    "        return x, every_iter\n",
    "    if collect_obj == True and save_iter == True:\n",
    "        return x, obj, every_critical, every_iter\n",
    "    else:\n",
    "        return x"
   ]
  },
  {
   "cell_type": "code",
   "execution_count": 19,
   "metadata": {},
   "outputs": [
    {
     "name": "stdout",
     "output_type": "stream",
     "text": [
      "\n",
      "*** Generalised FB with M = 1024, N = 1024, MN = 1048576 ***\n",
      "\n",
      "\n",
      "Objective from ground truth: 0.010675024052995653 \n",
      "\n",
      "     It  |  Tolerance |        Time       | Frob. dist. \n",
      "-------------------------------------------------------\n",
      "*     16 |    1.0e+00 |            0.88 s |    0.9897\n",
      "*    238 |    1.0e-01 |           11.90 s |    0.9045\n",
      "*    254 |    1.0e-02 |           12.72 s |    0.9003\n",
      "*    255 |    1.0e-03 |           12.78 s |    0.9000\n",
      "*   2988 |    1.0e-04 |          148.61 s |    0.6556\n",
      "*   7449 |    1.0e-05 |          370.71 s |    0.5218\n",
      "*  16479 |    1.0e-06 |          821.89 s |    0.4181\n",
      "Solution found with given tolerance.\n",
      "-------------------------------------------------------\n",
      "\n",
      "Algorithm stopped after 821.8890 seconds and 16479 iterations\n"
     ]
    }
   ],
   "source": [
    "x, obj, every_critical, every_iter = generalised_forward_backward_NP_full_split(c,m,n, 1000000, \n",
    "                                                                        collect_obj = True, \n",
    "                                                                           true_obj = obj_exact,\n",
    "                                                                       true_obj_tol = 1e-6,\n",
    "                                                                      true_solution = sol, \n",
    "                                                                          save_iter = True)"
   ]
  },
  {
   "cell_type": "code",
   "execution_count": 20,
   "metadata": {
    "code_folding": [
     0
    ]
   },
   "outputs": [],
   "source": [
    "def generalised_forward_backward_NP_Positivity(c,m,n,iters, collect_obj = False, \n",
    "                                                 true_obj = None,\n",
    "                                             true_obj_tol = 1e-4, true_solution = None, save_iter = False):\n",
    "    # Algorithm for calculating solution x, in the primal space\n",
    "    # and y_1, y_2 in the dual space.\n",
    "    # Also returns the value of the objective function c*x at each\n",
    "    # iteration.\n",
    "    \n",
    "    '''\n",
    "        Initialise parameters\n",
    "    '''\n",
    "    #First compute μ\n",
    "    μ = norm(c,2)     # 1 -> 10^-1 -> 10^-2 -> ...\n",
    "    # μ is selected as the midpoint of the interval\n",
    "    #e = 1/mu #0.5 * 1/mu;        # remove\n",
    "    # γ->θ does not depend on the current iteration\n",
    "    θ = 0.0001\n",
    "    # likewise, we do not require a change in λ\n",
    "    λ = 1.0\n",
    "    \n",
    "    # Fetch lengths of m and n\n",
    "    N = n.size;        M = m.size\n",
    "    \n",
    "    print('\\n*** Generalised FB with M = {}, N = {}, MN = {} ***\\n\\n'.format(M,N,M*N))\n",
    "    \n",
    "    '''\n",
    "        Initialise matrices\n",
    "    '''\n",
    "    # Initialise y_1 and y_2\n",
    "    v_1 = zeros((M,N))\n",
    "    v_2 = zeros((M,N))\n",
    "    v_3 = zeros((M,N))\n",
    "    \n",
    "    v_1[0,:] = n\n",
    "    v_2[:,0] = m\n",
    "    \n",
    "    \n",
    "    # Initialise x\n",
    "    x = 0.5*(v_1 + v_2) #maybe change this\n",
    "    #x = np.zeros((M,N));    x[:,0] = m;    x[0,:] = n;    x[0,0] = 0.5*(m[-1] + n[-1])        # Alternative\n",
    "    \n",
    "    '''\n",
    "        Information from true solution (if available)\n",
    "    '''\n",
    "    # Store current objective value\n",
    "    if collect_obj == True:\n",
    "        obj = [(c*x).sum()]\n",
    "    \n",
    "    # Norm of true solution\n",
    "    if true_solution is not None:\n",
    "        true_obj_crit = 1.0\n",
    "        if true_obj is None:\n",
    "            true_obj = (c*sol).sum()\n",
    "        print('Objective from ground truth:', obj_exact,'\\n')\n",
    "        \n",
    "    '''\n",
    "        Iterate the Generalised FB scheme\n",
    "    '''\n",
    "    \n",
    "    every_iter = {'it':[], 'obj':[], 'dist_obj':[], 'time':[], 'dist_x':[]}\n",
    "    every_critical = {'it':[], 'obj':[], 'tol':[], 'dist_obj':[], 'time':[], 'dist_x':[]}\n",
    "    \n",
    "    if true_solution is not None:\n",
    "        print('     It  |  Tolerance |        Time       | Frob. dist. ')\n",
    "        print( '{:-^55}'.format('') )\n",
    "    \n",
    "    start = time.time()    \n",
    "    for k in range(iters):\n",
    "    \n",
    "        #matrices for projection over the simplex C_1^m and the simplex C_2^n.\n",
    "        \n",
    "        γ_1 = 2*x - v_1 - θ*c #constraint rows and columns\n",
    "        γ_1 = np.where(γ_1<0,0,γ_1)\n",
    "        #γ_2 = 2*x - v_2 - θ*c # constraint columns\n",
    "        #γ_3 = 2*x - v_3 - θ*c #positivity constraint\n",
    "        \n",
    "        # Project update onto simplices\n",
    "#         for i in range(M):  # row constraints\n",
    "#             v_1[i] += Projection(γ_1[i],m[i],N) - x[i]\n",
    "            \n",
    "        # Projection to 1ᵀx = n\n",
    "        #Pₙ = γ_1 + (n - γ_1.sum(0))/M          # to check the constraint run: allclose(Pₙ.sum(0), n)\n",
    "        # Projection to xᵀ1 = m\n",
    "        #Pₘ = (γ_1.T + (m - γ_1.sum(1))/N).T    # to check run: allclose(Pₘ.sum(1), m)  \n",
    "#         # Alternative:\n",
    "        #Pₘ = ((m - γ_1.sum(1))/N).reshape(M,1)\n",
    "        #P = Pₙ + Pₘ\n",
    "        κ_1 = γ_1.sum(1) - m\n",
    "        κ_2 = γ_1.sum(0) - n\n",
    "        \n",
    "        β_1 = κ_1.sum() / (M + N)\n",
    "        β_2 = κ_2.sum() / (M + N)\n",
    "        #print(βfeT.shape, (np.tile((γ_1.sum(0) - n), (M,1))).shape)\n",
    "        #print((np.tile((γ_1.sum(1) - m), (N, 1)) - βfeT).shape, (np.tile((γ_1.sum(0) - n), (M,1)).T - βfeT).shape)\n",
    "        \n",
    "        P = γ_1 - tile( (κ_1 - β_1)/N, (N,1)).T - tile( (κ_2 - β_2)/N, (M,1))\n",
    "        \n",
    "        #print(allclose(P.sum(0).T, n), allclose(P.sum(1), m))\n",
    "        \n",
    "        v_1 += P - x\n",
    "            \n",
    "#         for i in range(N):  # column constraints\n",
    "#             v_2[:,i] += Projection(γ_2[:,i],n[i],M) - x[:,i]\n",
    "            \n",
    "        #v_2 +=  Pₙ - x\n",
    "        #positivity constraint\n",
    "        #v_3 += np.where(γ_3<0,0,γ_3) - x\n",
    "      \n",
    "    \n",
    "        # Update x using v_1 and v_2\n",
    "        x = v_1\n",
    "        # Measure time up to this point!\n",
    "        end = time.time()\n",
    "        \n",
    "        # Update objective function\n",
    "        if collect_obj == True:\n",
    "            obj.append( (c*x).sum() )\n",
    "            #print((c*x).sum())\n",
    "            # Compute relative objective distance\n",
    "            if true_solution is not None:\n",
    "                dist_true_sol = abs(obj[-1] - true_obj)/true_obj\n",
    "        \n",
    "        # If all iterations are to be stored:\n",
    "        if save_iter == True:\n",
    "            frob_d = norm(sol-x, 'fro')/norm(sol, 'fro')\n",
    "            every_iter['it'].append( k )\n",
    "            every_iter['obj'].append( (c*x).sum() )\n",
    "            every_iter['dist_obj'].append( dist_true_sol if true_obj is not None else np.nan )\n",
    "            every_iter['time'].append( end-start )\n",
    "            every_iter['dist_x'].append( frob_d )\n",
    "            \n",
    "           #print(dist_true_sol) \n",
    "            \n",
    "        # If a true solution is available, we check the tolerance:\n",
    "        if true_solution is not None: \n",
    "            if dist_true_sol < true_obj_crit:\n",
    "                frob_d = norm(sol-x, 'fro')/norm(sol, 'fro')\n",
    "                \n",
    "                every_critical['it'].append( k )\n",
    "                every_critical['obj'].append( obj[-1] )\n",
    "                every_critical['tol'].append( true_obj_crit )\n",
    "                every_critical['dist_obj'].append( dist_true_sol )\n",
    "                every_critical['time'].append( end-start )\n",
    "                every_critical['dist_x'].append( frob_d )\n",
    "                \n",
    "                print('* {0:6.0f} |    {1:.1e} | {2:15.2f} s |    {3:4.4f}'.format(k,true_obj_crit,end-start,frob_d))\n",
    "                \n",
    "                # If the prescribed tolerance is reached, we finish.\n",
    "                if dist_true_sol < true_obj_tol:\n",
    "                    print('Solution found with given tolerance.')\n",
    "                    break\n",
    "                \n",
    "                # Adjust current level of inner tolerance\n",
    "                true_obj_crit *= 0.1\n",
    "                \n",
    "    if true_solution is not None:\n",
    "        print( '{:-^55}'.format('') )\n",
    "        \n",
    "    print('\\nAlgorithm stopped after {0:.4f} seconds and {1} iterations'.format(end-start,k))\n",
    "    \n",
    "    \n",
    "    if collect_obj == False and save_iter == True:\n",
    "        return x, every_iter\n",
    "    if collect_obj == True and save_iter == True:\n",
    "        return x, obj, every_critical, every_iter\n",
    "    else:\n",
    "        return x"
   ]
  },
  {
   "cell_type": "code",
   "execution_count": 21,
   "metadata": {
    "scrolled": true
   },
   "outputs": [
    {
     "name": "stdout",
     "output_type": "stream",
     "text": [
      "\n",
      "*** Generalised FB with M = 1024, N = 1024, MN = 1048576 ***\n",
      "\n",
      "\n",
      "Objective from ground truth: 0.010675024052995653 \n",
      "\n",
      "     It  |  Tolerance |        Time       | Frob. dist. \n",
      "-------------------------------------------------------\n",
      "*   1354 |    1.0e+00 |           56.13 s |    1.0388\n",
      "*   2297 |    1.0e-01 |           91.30 s |    1.0750\n",
      "*   2424 |    1.0e-02 |           95.67 s |    1.0793\n",
      "*   2437 |    1.0e-03 |           96.12 s |    1.0798\n"
     ]
    },
    {
     "ename": "KeyboardInterrupt",
     "evalue": "",
     "output_type": "error",
     "traceback": [
      "\u001b[0;31m---------------------------------------------------------------------------\u001b[0m",
      "\u001b[0;31mKeyboardInterrupt\u001b[0m                         Traceback (most recent call last)",
      "\u001b[0;32m<ipython-input-21-3dc2ea728099>\u001b[0m in \u001b[0;36m<module>\u001b[0;34m\u001b[0m\n\u001b[1;32m      4\u001b[0m                                                                        \u001b[0mtrue_obj_tol\u001b[0m \u001b[0;34m=\u001b[0m \u001b[0;36m1e-6\u001b[0m\u001b[0;34m,\u001b[0m\u001b[0;34m\u001b[0m\u001b[0;34m\u001b[0m\u001b[0m\n\u001b[1;32m      5\u001b[0m                                                                       \u001b[0mtrue_solution\u001b[0m \u001b[0;34m=\u001b[0m \u001b[0msol\u001b[0m\u001b[0;34m,\u001b[0m\u001b[0;34m\u001b[0m\u001b[0;34m\u001b[0m\u001b[0m\n\u001b[0;32m----> 6\u001b[0;31m                                                                           save_iter = True)\n\u001b[0m",
      "\u001b[0;32m<ipython-input-20-82784d9b8a97>\u001b[0m in \u001b[0;36mgeneralised_forward_backward_NP_Positivity\u001b[0;34m(c, m, n, iters, collect_obj, true_obj, true_obj_tol, true_solution, save_iter)\u001b[0m\n\u001b[1;32m     94\u001b[0m         \u001b[0;31m#print((np.tile((γ_1.sum(1) - m), (N, 1)) - βfeT).shape, (np.tile((γ_1.sum(0) - n), (M,1)).T - βfeT).shape)\u001b[0m\u001b[0;34m\u001b[0m\u001b[0;34m\u001b[0m\u001b[0;34m\u001b[0m\u001b[0m\n\u001b[1;32m     95\u001b[0m \u001b[0;34m\u001b[0m\u001b[0m\n\u001b[0;32m---> 96\u001b[0;31m         \u001b[0mP\u001b[0m \u001b[0;34m=\u001b[0m \u001b[0mγ_1\u001b[0m \u001b[0;34m-\u001b[0m \u001b[0mtile\u001b[0m\u001b[0;34m(\u001b[0m \u001b[0;34m(\u001b[0m\u001b[0mκ_1\u001b[0m \u001b[0;34m-\u001b[0m \u001b[0mβ_1\u001b[0m\u001b[0;34m)\u001b[0m\u001b[0;34m/\u001b[0m\u001b[0mN\u001b[0m\u001b[0;34m,\u001b[0m \u001b[0;34m(\u001b[0m\u001b[0mN\u001b[0m\u001b[0;34m,\u001b[0m\u001b[0;36m1\u001b[0m\u001b[0;34m)\u001b[0m\u001b[0;34m)\u001b[0m\u001b[0;34m.\u001b[0m\u001b[0mT\u001b[0m \u001b[0;34m-\u001b[0m \u001b[0mtile\u001b[0m\u001b[0;34m(\u001b[0m \u001b[0;34m(\u001b[0m\u001b[0mκ_2\u001b[0m \u001b[0;34m-\u001b[0m \u001b[0mβ_2\u001b[0m\u001b[0;34m)\u001b[0m\u001b[0;34m/\u001b[0m\u001b[0mN\u001b[0m\u001b[0;34m,\u001b[0m \u001b[0;34m(\u001b[0m\u001b[0mM\u001b[0m\u001b[0;34m,\u001b[0m\u001b[0;36m1\u001b[0m\u001b[0;34m)\u001b[0m\u001b[0;34m)\u001b[0m\u001b[0;34m\u001b[0m\u001b[0;34m\u001b[0m\u001b[0m\n\u001b[0m\u001b[1;32m     97\u001b[0m \u001b[0;34m\u001b[0m\u001b[0m\n\u001b[1;32m     98\u001b[0m         \u001b[0;31m#print(allclose(P.sum(0).T, n), allclose(P.sum(1), m))\u001b[0m\u001b[0;34m\u001b[0m\u001b[0;34m\u001b[0m\u001b[0;34m\u001b[0m\u001b[0m\n",
      "\u001b[0;31mKeyboardInterrupt\u001b[0m: "
     ]
    }
   ],
   "source": [
    "x, obj, every_critical, every_iter = generalised_forward_backward_NP_Positivity(c,m,n, 1000000, \n",
    "                                                                        collect_obj = True, \n",
    "                                                                           true_obj = obj_exact,\n",
    "                                                                       true_obj_tol = 1e-6,\n",
    "                                                                      true_solution = sol, \n",
    "                                                                          save_iter = True)"
   ]
  },
  {
   "cell_type": "code",
   "execution_count": null,
   "metadata": {},
   "outputs": [],
   "source": []
  },
  {
   "cell_type": "markdown",
   "metadata": {},
   "source": [
    "## Visualise and store results"
   ]
  },
  {
   "cell_type": "code",
   "execution_count": null,
   "metadata": {},
   "outputs": [],
   "source": [
    "main_folder = folder + '_Results'\n",
    "out_folder  = main_folder + '/' + instance\n",
    "algorithm   = 'GFBSNP-'"
   ]
  },
  {
   "cell_type": "code",
   "execution_count": null,
   "metadata": {},
   "outputs": [],
   "source": [
    "# Check if main folder for results exists, else create it\n",
    "if not os.path.exists(main_folder):    os.makedirs(main_folder)\n",
    "# Now create a folder for the results of the instance\n",
    "if not os.path.exists(out_folder):    os.makedirs(out_folder)\n",
    "out_folder += '/' + algorithm"
   ]
  },
  {
   "cell_type": "code",
   "execution_count": null,
   "metadata": {
    "code_folding": [
     0
    ]
   },
   "outputs": [],
   "source": [
    "# Visualise solution\n",
    "plt.figure(figsize = (10,5))\n",
    "\n",
    "plt.subplot(1, 2, 1)\n",
    "plt.spy(x, markersize=1, aspect = 1, markeredgecolor = 'black', alpha=0.75);    plt.axis('off')\n",
    "plt.title('Sparse view')\n",
    "plt.subplot(1, 2, 2)\n",
    "plt.imshow(x);    plt.axis('off');    plt.title('Heat map\\n')\n",
    "\n",
    "plt.savefig(out_folder+'Sparse-Heat.pdf', bbox_inches='tight',transparent=True)\n",
    "plt.show()"
   ]
  },
  {
   "cell_type": "code",
   "execution_count": null,
   "metadata": {
    "code_folding": [
     0
    ]
   },
   "outputs": [],
   "source": [
    "# Visualise evolution of objective values\n",
    "plt.figure(figsize = (20,5))\n",
    "\n",
    "plt.subplot(1, 2, 1)\n",
    "plt.plot(obj)\n",
    "plt.axhline(y=obj_exact, color='r', linestyle=':')\n",
    "plt.xlabel('Iteration count');    plt.ylabel('Objective cost');    plt.title('Objective values per iteration')\n",
    "plt.subplot(1, 2, 2)\n",
    "plt.plot(obj)\n",
    "plt.axhline(y=obj_exact, color='r', linestyle=':')\n",
    "plt.yscale('log')\n",
    "plt.title('Objective values per iteration')\n",
    "plt.xlabel('Iteration count');    plt.ylabel('Objective cost (log scale)')\n",
    "\n",
    "plt.savefig(out_folder+'Objective.pdf', bbox_inches='tight',transparent=True)\n",
    "plt.show()"
   ]
  },
  {
   "cell_type": "code",
   "execution_count": null,
   "metadata": {
    "code_folding": [
     0
    ]
   },
   "outputs": [],
   "source": [
    "# Visualise evolution of relative errors\n",
    "plt.figure(figsize = (20,5))\n",
    "\n",
    "plt.subplot(1, 2, 1)\n",
    "plt.plot(every_iter['dist_obj'])\n",
    "plt.yscale('log')\n",
    "plt.title('Error in objective per iteration')\n",
    "plt.xlabel('Iteration count');    plt.ylabel('Relative error in objective (log scale)')\n",
    "plt.subplot(1, 2, 2)\n",
    "plt.plot(every_iter['dist_x'])\n",
    "plt.yscale('log')\n",
    "plt.title('Error in solution per iteration')\n",
    "plt.xlabel('Iteration count');    plt.ylabel('Relative error in solution (log scale)')\n",
    "\n",
    "plt.savefig(out_folder+'Rel_Error.pdf', bbox_inches='tight',transparent=True)\n",
    "plt.show()"
   ]
  },
  {
   "cell_type": "markdown",
   "metadata": {},
   "source": [
    "All the data from the above two plots is also available as dataframes:"
   ]
  },
  {
   "cell_type": "code",
   "execution_count": null,
   "metadata": {},
   "outputs": [],
   "source": [
    "df_critical = pd.DataFrame.from_dict(every_critical)\n",
    "df_critical.to_pickle(out_folder+'Critical.pkl') # To read back use pd.read_pickle(file_name)\n",
    "df_critical.to_excel(out_folder+'Critical.xlsx')\n",
    "display(df_critical)\n",
    "\n",
    "# If we want this table in LaTeX format run:\n",
    "print(df_critical.to_latex(index=False))"
   ]
  },
  {
   "cell_type": "code",
   "execution_count": null,
   "metadata": {},
   "outputs": [],
   "source": [
    "df_every = pd.DataFrame.from_dict(every_iter)\n",
    "df_every.to_pickle(out_folder+'Every.pkl') # To read back use pd.read_pickle(file_name)\n",
    "df_every.to_excel(out_folder+'Every.xlsx')\n",
    "display(df_every.head())"
   ]
  },
  {
   "cell_type": "code",
   "execution_count": null,
   "metadata": {},
   "outputs": [],
   "source": [
    "df_every.describe()"
   ]
  },
  {
   "cell_type": "code",
   "execution_count": null,
   "metadata": {},
   "outputs": [],
   "source": [
    "# Finally, store the latest solution:\n",
    "np.save(out_folder + '_Sol.npy' , x)            # To read back just run:   np.load(outfile)"
   ]
  },
  {
   "cell_type": "markdown",
   "metadata": {},
   "source": [
    "---\n",
    "Code used to do performance tests in each piece of code:\n",
    "```Python\n",
    "start = time.time()\n",
    "# ...\n",
    "end = time.time()\n",
    "print(end-start)\n",
    "\n",
    "%timeit -r 10 -n 200 `function(x)`\n",
    "```"
   ]
  },
  {
   "cell_type": "code",
   "execution_count": null,
   "metadata": {},
   "outputs": [],
   "source": [
    "import numpy as np\n",
    "import os, glob\n",
    "import h5py \n",
    "size = '64'\n",
    "hg = h5py.File('./Exact/Microscopy_Sized/data'+ size +'_1002-data'+ size +'_1010_p=S2_Cost.h5', 'r')\n",
    "h5Cost = np.array( hg.get('data'+ size +'_1002-data'+ size +'_1010_p=S2_Cost') )\n"
   ]
  },
  {
   "cell_type": "code",
   "execution_count": null,
   "metadata": {},
   "outputs": [],
   "source": [
    "#np.save('Exact/Microscopy_Sized/data'+ size +'_1002-data'+ size +'_1010_p=S2_Cost', h5Cost)"
   ]
  },
  {
   "cell_type": "code",
   "execution_count": null,
   "metadata": {},
   "outputs": [],
   "source": []
  }
 ],
 "metadata": {
  "kernelspec": {
   "display_name": "Python 3",
   "language": "python",
   "name": "python3"
  },
  "language_info": {
   "codemirror_mode": {
    "name": "ipython",
    "version": 3
   },
   "file_extension": ".py",
   "mimetype": "text/x-python",
   "name": "python",
   "nbconvert_exporter": "python",
   "pygments_lexer": "ipython3",
   "version": "3.7.9"
  }
 },
 "nbformat": 4,
 "nbformat_minor": 2
}
