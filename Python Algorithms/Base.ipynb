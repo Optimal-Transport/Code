{
 "cells": [
  {
   "cell_type": "markdown",
   "metadata": {},
   "source": [
    "# Solving Discrete Optimal Transport"
   ]
  },
  {
   "cell_type": "markdown",
   "metadata": {},
   "source": [
    "<div class=\"alert alert-block alert-success\">\n",
    "    \n",
    "This notebook we aim at solving DOT instances using modern optimisation algorithms that outperform the simplex method. To do this we will use the ```[insert algorithm]``` framework. \n",
    "    \n",
    "The notebook is divided in three parts. First, Condat's projection into the ℓ<sub>1</sub> ball algorithm is implemented. Second, the algorithm is used to find feasible solutions of DOT. Finally, the ```[insert algorithm]``` algorithm is tested. The results are automatically stored with an unique identifier and some performance plots are presented.\n",
    "</div>\n",
    "\n",
    "* Laurent Condat. <i>Fast projection onto the simplex and the ℓ<sub>1</sub> ball</i>. Math. Program. 158, 575–585 (2016). [https://doi.org/10.1007/s10107-015-0946-6](https://doi.org/10.1007/s10107-015-0946-6). _Also available at_ [https://hal.archives-ouvertes.fr/hal-01056171v2](https://hal.archives-ouvertes.fr/hal-01056171v2)."
   ]
  },
  {
   "cell_type": "markdown",
   "metadata": {},
   "source": [
    "<div class=\"alert alert-block alert-info\">\n",
    "Packages\n",
    "</div>"
   ]
  },
  {
   "cell_type": "code",
   "execution_count": 1,
   "metadata": {},
   "outputs": [],
   "source": [
    "import numpy  as np\n",
    "import pandas as pd\n",
    "import time\n",
    "import os\n",
    "import matplotlib.pyplot as plt\n",
    "\n",
    "# Particular functions\n",
    "from numpy import zeros, zeros_like, allclose, where, ones, inf, absolute, linspace\n",
    "from numpy.random import default_rng as rng\n",
    "from numba import jit\n",
    "from scipy.spatial.distance import cdist\n",
    "from scipy.linalg import norm"
   ]
  },
  {
   "cell_type": "markdown",
   "metadata": {},
   "source": [
    "# Subroutines"
   ]
  },
  {
   "cell_type": "markdown",
   "metadata": {},
   "source": [
    "In this section we create subroutines that will be iteratively used in the main algorithm. ```[Include only the ones needed for each algorithm]```"
   ]
  },
  {
   "cell_type": "markdown",
   "metadata": {
    "heading_collapsed": true
   },
   "source": [
    "## Projection onto the simplex"
   ]
  },
  {
   "cell_type": "markdown",
   "metadata": {
    "hidden": true
   },
   "source": [
    "Here we provide an implementation of Condat's algorithm. The main steps are precompiled using the Just-in-time package ```numba``` to gain a speed-up. To get the best computing times, the resulting jitted function has to be run at least once before an actual iterative test. For the tests, we will project a random vector $y$ of size $N$ with $y_n \\sim \\mathcal{U}(-1,2)$ for all $n\\in \\{1,\\ldots,N\\}$ and a 20% mask of zeroes."
   ]
  },
  {
   "cell_type": "markdown",
   "metadata": {
    "hidden": true
   },
   "source": [
    "<div style=\"background-color:rgba(0, 0, 0, 0.0470588); vertical-align: middle; padding:5px 0; padding-left: 40px;\">\n",
    "<h2 style=\"color: #5e9ca0;\">Condat's Algorithm</h2>\n",
    "<ol>\n",
    "<li>Set $v:= (y_1)$, $u$ as an empty list, $\\rho:= y_1 - a$.</li>\n",
    "<li>For $n \\in \\{2,\\ldots, N\\}$, do\n",
    "<ol>\n",
    "<li>If $y_n > \\rho$\n",
    "<ol>\n",
    "<li>Set $\\rho := \\rho + (y_n - \\rho)/(|v|+1)$.</li>\n",
    "<li>If $\\rho > y_n - a$, add $y_n$ to $v$.</li>\n",
    "<li>Else, add $v$ to $u$, set $v = (y_n)$, $\\rho = y_n -a$.</li>\n",
    "</ol>\n",
    "</li>\n",
    "</ol>\n",
    "</li>\n",
    "<li>If $u$ is not empty, for every element $y$ of $u$, do\n",
    "<ol>\n",
    "<li>If $y > \\rho$, add $y$ to $v$ and set $\\rho := \\rho + (y-\\rho)/|v|$.</li>\n",
    "</ol>\n",
    "</li>\n",
    "<li>Do, while $|v|$ changes,\n",
    "<ol>\n",
    "<li>For every element $y$ of $v$ do\n",
    "<ol>\n",
    "<li>If $y\\leq \\rho$, remove $y$ from $v$ and set $\\rho := \\rho + (\\rho - y)/|v|$.</li>\n",
    "</ol>\n",
    "</li>\n",
    "</ol>\n",
    "</li>\n",
    "<li>Set $\\tau := \\rho$, $K = |v|$.</li>\n",
    "<li>For $n \\in \\{1,\\ldots,N\\}$, set $x_n := \\max \\{y_n - \\tau, 0\\}$.</li>\n",
    "</ol>\n",
    "</div>"
   ]
  },
  {
   "cell_type": "code",
   "execution_count": 2,
   "metadata": {
    "hidden": true
   },
   "outputs": [],
   "source": [
    "N = 1000\n",
    "y = rng(0).uniform(-1,2,N);    y = where(rng(0).binomial(1,0.8,N), y, 0)\n",
    "a = 1.0"
   ]
  },
  {
   "cell_type": "code",
   "execution_count": 3,
   "metadata": {
    "code_folding": [
     1
    ],
    "hidden": true
   },
   "outputs": [],
   "source": [
    "@jit(nopython=True, fastmath = True)\n",
    "def CondatP_1d(y,a,N):\n",
    "    x = zeros_like(y)\n",
    "    if a == 0:\n",
    "        return x\n",
    "    \n",
    "    # Step 1\n",
    "    ρ = y[0] - a\n",
    "    v = [0]\n",
    "    u = []\n",
    "    # Step 2\n",
    "    for n in range(1,N):\n",
    "        yₙ = y[n]\n",
    "        if yₙ > ρ:\n",
    "            ρ += (yₙ - ρ)/( len(v) + 1 )\n",
    "            if ρ > yₙ - a:\n",
    "                v.append(n)\n",
    "            else:\n",
    "                u.extend(v)\n",
    "                v = [n]\n",
    "                ρ = yₙ - a\n",
    "    # Step 3\n",
    "    if len(u) > 0:\n",
    "        for n in iter(u):\n",
    "            yₙ = y[n]\n",
    "            if yₙ > ρ:\n",
    "                v.append(n)\n",
    "                ρ += (yₙ - ρ)/( len(v) )\n",
    "    # Step 4\n",
    "    while True:\n",
    "        ℓ_v = len(v)\n",
    "        for i,j in enumerate(v):\n",
    "            if y[j] <= ρ:\n",
    "                ρ += (ρ - y[j])/(len(v) - 1)\n",
    "                del v[i]\n",
    "        if len(v) >= ℓ_v:\n",
    "            break\n",
    "    \n",
    "    #x[v] = y[v] - ρ\n",
    "    for n in iter(v):\n",
    "        x[n] = y[n] - ρ\n",
    "    #for n in prange(len(v)):\n",
    "    #    x[v[n]] = y[v[n]] - ρ\n",
    "    return x"
   ]
  },
  {
   "cell_type": "code",
   "execution_count": 4,
   "metadata": {
    "code_folding": [],
    "hidden": true
   },
   "outputs": [],
   "source": [
    "# Run things once for pre-compiling:\n",
    "CondatP_1d(y,a,N);"
   ]
  },
  {
   "cell_type": "code",
   "execution_count": 5,
   "metadata": {
    "hidden": true
   },
   "outputs": [
    {
     "data": {
      "text/plain": [
       "True"
      ]
     },
     "execution_count": 5,
     "metadata": {},
     "output_type": "execute_result"
    }
   ],
   "source": [
    "# If we run the above again, we can see a clear speed-up. The computation passes quickly even inside compositions\n",
    "allclose(CondatP_1d(y,a,N).sum(), 1.0)"
   ]
  },
  {
   "cell_type": "markdown",
   "metadata": {
    "hidden": true
   },
   "source": [
    "Now we addapt the code to accept a matrix $\\gamma$ as input."
   ]
  },
  {
   "cell_type": "code",
   "execution_count": 6,
   "metadata": {
    "hidden": true
   },
   "outputs": [],
   "source": [
    "N = 500\n",
    "M = 1000\n",
    "γ = rng(0).uniform(-1,2,(M,N));    γ = where(rng(0).binomial(1,0.8,(M,N)), γ, 0)\n",
    "a = 1.0"
   ]
  },
  {
   "cell_type": "markdown",
   "metadata": {
    "hidden": true
   },
   "source": [
    "We can pre-allocate some memory:"
   ]
  },
  {
   "cell_type": "code",
   "execution_count": 7,
   "metadata": {
    "hidden": true
   },
   "outputs": [],
   "source": [
    "x = zeros_like(γ)"
   ]
  },
  {
   "cell_type": "code",
   "execution_count": 8,
   "metadata": {
    "cell_style": "center",
    "code_folding": [
     1
    ],
    "hidden": true
   },
   "outputs": [],
   "source": [
    "@jit(nopython=True, fastmath = True)\n",
    "def CondatP(y,x,a,N):\n",
    "    if a == 0:\n",
    "        return x\n",
    "    \n",
    "    # Step 1\n",
    "    ρ = y[0] - a\n",
    "    v = [0]\n",
    "    u = []\n",
    "    # Step 2\n",
    "    for n in range(1,N):\n",
    "        yₙ = y[n]\n",
    "        if yₙ > ρ:\n",
    "            ρ += (yₙ - ρ)/( len(v) + 1 )\n",
    "            if ρ > yₙ - a:\n",
    "                v.append(n)\n",
    "            else:\n",
    "                u.extend(v)\n",
    "                v = [n]\n",
    "                ρ = yₙ - a\n",
    "    # Step 3\n",
    "    if len(u) > 0:\n",
    "        for n in iter(u):\n",
    "            yₙ = y[n]\n",
    "            if yₙ > ρ:\n",
    "                v.append(n)\n",
    "                ρ += (yₙ - ρ)/( len(v) )\n",
    "    # Step 4\n",
    "    while True:\n",
    "        ℓ_v = len(v)\n",
    "        for i,j in enumerate(v):\n",
    "            if y[j] <= ρ:\n",
    "                ρ += (ρ - y[j])/(len(v) - 1)\n",
    "                del v[i]\n",
    "        if len(v) >= ℓ_v:\n",
    "            break\n",
    "    \n",
    "    #x[v] = y[v] - ρ\n",
    "    for n in iter(v):\n",
    "        x[n] = y[n] - ρ\n",
    "    #for n in prange(len(v)):\n",
    "    #    x[v[n]] = y[v[n]] - ρ\n",
    "    return x"
   ]
  },
  {
   "cell_type": "code",
   "execution_count": 9,
   "metadata": {
    "hidden": true
   },
   "outputs": [],
   "source": [
    "CondatP(γ[0],x[0],a,M); # Null test"
   ]
  },
  {
   "cell_type": "code",
   "execution_count": 10,
   "metadata": {
    "hidden": true
   },
   "outputs": [
    {
     "name": "stdout",
     "output_type": "stream",
     "text": [
      "Time taken: 0.012485027313232422 s\n"
     ]
    }
   ],
   "source": [
    "start = time.time()\n",
    "x = zeros_like(γ)\n",
    "for i in range(M):    x[i] = CondatP(γ[i],x[i],a,N)\n",
    "end = time.time()\n",
    "print('Time taken:',end-start,'s')"
   ]
  },
  {
   "cell_type": "code",
   "execution_count": 11,
   "metadata": {
    "hidden": true,
    "scrolled": true
   },
   "outputs": [
    {
     "data": {
      "text/plain": [
       "True"
      ]
     },
     "execution_count": 11,
     "metadata": {},
     "output_type": "execute_result"
    }
   ],
   "source": [
    "allclose(x.sum(axis=1), 1)"
   ]
  },
  {
   "cell_type": "markdown",
   "metadata": {
    "hidden": true
   },
   "source": [
    "An additional test can be to see what happens if we work on the support of $\\gamma$:\n",
    "```Python\n",
    "x = zeros_like(γ)\n",
    "for i in range(N):\n",
    "    z = γ[i][γ[i] != 0]\n",
    "    x[i][γ[i] != 0] = CondatP_1d(z,a,z.size)\n",
    "```"
   ]
  },
  {
   "cell_type": "markdown",
   "metadata": {
    "hidden": true
   },
   "source": [
    "There does not seem to be a significant gain on working with the support. This might change if the support is extremely small."
   ]
  },
  {
   "cell_type": "markdown",
   "metadata": {
    "heading_collapsed": true
   },
   "source": [
    "## Indicator Function and Proximal"
   ]
  },
  {
   "cell_type": "markdown",
   "metadata": {
    "hidden": true
   },
   "source": [
    "We build an indicator to check whether a point lies within the simplex. We test it in four cases for the already-projected matrix $x$:\n",
    "* The sum of each column of $x$ is equal to itself,\n",
    "* The sum of each row of $x$ is equal to one,\n",
    "* The sum of each row of $x$ is different than $1-10^{-4}$,\n",
    "* The values of $x-1$ can be nonpositive."
   ]
  },
  {
   "cell_type": "code",
   "execution_count": 12,
   "metadata": {
    "hidden": true
   },
   "outputs": [],
   "source": [
    "ηᵢ = ones(M);    ηⱼ = x.sum(0)"
   ]
  },
  {
   "cell_type": "code",
   "execution_count": 13,
   "metadata": {
    "code_folding": [
     4
    ],
    "hidden": true
   },
   "outputs": [],
   "source": [
    "# Alternative that does not allow the use of numba:\n",
    "#def indicator_simplex(x, η, axis = 0):\n",
    "#    return 0.0 if allclose(x.sum(axis), η, rtol=1e-4) and (x >= 0.0).all() else inf\n",
    "@jit(nopython=True, fastmath = True)\n",
    "def indicator_simplex(x, η, axis = 0):\n",
    "    \"\"\"\n",
    "    %\n",
    "    % This procedure evaluates the indicator function of the constraint set:\n",
    "    %\n",
    "    %                  x => 0   AND   1'x = η\n",
    "    %\n",
    "    %  - axis ∊ {0,1} --> 'x' is processed block-wise along the specified direction\n",
    "    %\n",
    "    %  INPUTS\n",
    "    % ========\n",
    "    %  x    - ND array\n",
    "    %  η    - positive ND array compatible with the blocks of 'x'\n",
    "    %  axis - integer, direction of block-wise processing\n",
    "    \"\"\"\n",
    "    \n",
    "    # check positivity\n",
    "    mask = True\n",
    "    if (x<0).any():\n",
    "        mask = False\n",
    "        return inf\n",
    "    \n",
    "    # check the constraint\n",
    "    u = x.sum(axis)\n",
    "    for ı in range(u.size):\n",
    "        if abs(u[ı] - η[ı]) > 1e-4:\n",
    "            mask = False\n",
    "            break\n",
    "            \n",
    "    # evaluate the indicator function\n",
    "    return 0.0 if mask else inf"
   ]
  },
  {
   "cell_type": "code",
   "execution_count": 14,
   "metadata": {
    "hidden": true
   },
   "outputs": [
    {
     "data": {
      "text/plain": [
       "(0.0, 0.0, inf, inf)"
      ]
     },
     "execution_count": 14,
     "metadata": {},
     "output_type": "execute_result"
    }
   ],
   "source": [
    "indicator_simplex(x, ηⱼ, axis = 0), indicator_simplex(x, ηᵢ, axis = 1), indicator_simplex(x, ηᵢ-1e-4, axis = 1), indicator_simplex(x-1, ηⱼ, axis = 0)"
   ]
  },
  {
   "cell_type": "markdown",
   "metadata": {
    "hidden": true
   },
   "source": [
    "Now we build a proximal operator to project into the set of feasible solutions for DOT:"
   ]
  },
  {
   "cell_type": "code",
   "execution_count": 15,
   "metadata": {
    "hidden": true
   },
   "outputs": [],
   "source": [
    "# We build a small instance from scratch:\n",
    "M = 100\n",
    "N = 200\n",
    "\n",
    "x, y = linspace(0,1,M), linspace(1,2,N)            # Uniform cloud of points\n",
    "m, n = ones(M)/M, ones(N)/N                        # Uniform distribution of mass\n",
    "c = cdist(x[:, np.newaxis],y[:, np.newaxis])**2    # Matrix of squared distances"
   ]
  },
  {
   "cell_type": "code",
   "execution_count": 16,
   "metadata": {
    "code_folding": [
     1
    ],
    "hidden": true
   },
   "outputs": [],
   "source": [
    "@jit(nopython=True, fastmath = True)\n",
    "def prox_i(y,m,n, v_1, v_2, tol = 1e-4):\n",
    "    # z = prox(y,m,n,tol) : Computes proximal of the indicator function of the \n",
    "    # intersection of the simpleces governed by m and n, respectively.\n",
    "    #\n",
    "    # z satisfies sum(y,1) ~ m' and sum(y,2) ~ n with tolerance `tol`.\n",
    "    #\n",
    "    # By default, tol = 1e-5.   \n",
    "    # Recover size of matrix\n",
    "    M, N = y.shape\n",
    "    \n",
    "    # ε is selected as a small number\n",
    "    ε = 0.1\n",
    "\n",
    "    # Define theta as a fixed value\n",
    "    θ = 2 - ε\n",
    "    θ̂ = 1/θ\n",
    "\n",
    "    # Initialise z:\n",
    "    z = y - 0.5 * (v_1 + v_2)\n",
    "    \n",
    "    x_1, x_2 = zeros((2,M,N))\n",
    "    while indicator_simplex(z, m, 1) + indicator_simplex(z, n, 0) != 0.0:\n",
    "        γ_1 = θ̂ * v_1 + z\n",
    "        γ_2 = θ̂ * v_2 + z\n",
    "        \n",
    "        x_1.fill(0.0),        x_2.fill(0.0);\n",
    "        \n",
    "        for i in range(N):\n",
    "            x_1[:,i] = CondatP(γ_1[:,i],x_1[:,i],n[i],M)\n",
    "        for i in range(M):\n",
    "            x_2[i] = CondatP(γ_2[i],x_2[i],m[i],N)\n",
    "            \n",
    "        # Update v_1 using its projection over simplex C_1^m\n",
    "        v_1 += θ * (z - x_1)\n",
    "        # Update v_2 using its projection over simplex C_2^n\n",
    "        v_2 += θ * (z - x_2)\n",
    "        # Update z\n",
    "        z = y - 0.5 * (v_1 + v_2)\n",
    "        \n",
    "        # The indicator evaluation is too hard for double precision arithmetic.\n",
    "        # Thus, we relax this condition:\n",
    "        w = absolute(z)\n",
    "        if (absolute(w.sum(0) - n)/n < tol).all():     # Check with lower tol\n",
    "            if (absolute(w.sum(1) - m)/m < tol).all():\n",
    "                z = w\n",
    "                break\n",
    "    return z, v_1, v_2"
   ]
  },
  {
   "cell_type": "code",
   "execution_count": 17,
   "metadata": {
    "hidden": true
   },
   "outputs": [],
   "source": [
    "x, v_1, v_2 = zeros((3,M,N))\n",
    "out_prox = prox_i(x,m,n, v_1, v_2);"
   ]
  },
  {
   "cell_type": "markdown",
   "metadata": {
    "hidden": true
   },
   "source": [
    "Now we can check the solution:"
   ]
  },
  {
   "cell_type": "code",
   "execution_count": 18,
   "metadata": {
    "hidden": true
   },
   "outputs": [
    {
     "data": {
      "text/plain": [
       "(0.0, 0.0)"
      ]
     },
     "execution_count": 18,
     "metadata": {},
     "output_type": "execute_result"
    }
   ],
   "source": [
    "indicator_simplex(out_prox[0], m, axis = 1), indicator_simplex(out_prox[0], n, axis = 0)"
   ]
  },
  {
   "cell_type": "markdown",
   "metadata": {},
   "source": [
    "# Algorithm"
   ]
  },
  {
   "cell_type": "markdown",
   "metadata": {},
   "source": [
    "Now, we will run the ```[insert algoritm]``` algorithm addapted for DOT. To test it, we will run it against some of the DOTMark files. We will aim to transport from one given image to another, which are normalised and flattened in ```C```-order. The matrix of costs is based on a uniform grid within $[0,1]^2$ with $M$ points for the source and $N$ points for the target."
   ]
  },
  {
   "cell_type": "markdown",
   "metadata": {},
   "source": [
    "## Instance information"
   ]
  },
  {
   "cell_type": "code",
   "execution_count": 19,
   "metadata": {},
   "outputs": [],
   "source": [
    "folder = 'Microscopy_Sized'\n",
    "path = 'Exact/' + folder + '/'"
   ]
  },
  {
   "cell_type": "code",
   "execution_count": 20,
   "metadata": {},
   "outputs": [
    {
     "name": "stdout",
     "output_type": "stream",
     "text": [
      "There are 4 instances in this location:\n"
     ]
    },
    {
     "data": {
      "text/plain": [
       "['data16_1002-data16_1010_p=S2',\n",
       " 'data8_1002-data8_1010_p=S2',\n",
       " 'data32_1002-data32_1010_p=S2',\n",
       " 'data64_1002-data64_1010_p=S2']"
      ]
     },
     "metadata": {},
     "output_type": "display_data"
    }
   ],
   "source": [
    "files = [f[:-9] for f in os.listdir(path) if f.endswith('.txt')]\n",
    "print('There are', len(files), 'instances in this location:')\n",
    "display(files)"
   ]
  },
  {
   "cell_type": "markdown",
   "metadata": {},
   "source": [
    "Select one instance:"
   ]
  },
  {
   "cell_type": "code",
   "execution_count": 21,
   "metadata": {},
   "outputs": [],
   "source": [
    "instance = files[1]\n",
    "full_path = path + instance"
   ]
  },
  {
   "cell_type": "markdown",
   "metadata": {},
   "source": [
    "Load data:"
   ]
  },
  {
   "cell_type": "code",
   "execution_count": 26,
   "metadata": {},
   "outputs": [],
   "source": [
    "m = np.load(full_path + '_m.npy');    M = m.size\n",
    "n = np.load(full_path + '_n.npy');    N = n.size\n",
    "c = np.load(full_path + '_Cost.npy')\n",
    "sol = np.load(full_path + '_Sol.npy')"
   ]
  },
  {
   "cell_type": "code",
   "execution_count": 46,
   "metadata": {},
   "outputs": [],
   "source": [
    "with open(full_path + '_Time.txt', 'r') as f:\n",
    "    obj_exact = eval((f.readlines())[0])['Obj']"
   ]
  },
  {
   "cell_type": "markdown",
   "metadata": {},
   "source": [
    "## Run algorithm"
   ]
  },
  {
   "cell_type": "markdown",
   "metadata": {},
   "source": [
    "<div class=\"alert alert-block alert-warning\">\n",
    "    \n",
    "In what follows, we provide tests for the chosen instance running the Generalised forward-backward split approach given by Hugo Raguet, Jalal Fadili, and Gabriel Peyre (2013).\n",
    "    \n",
    "    \n",
    "* Hugo Raguet, Jalal Fadili, and Gabriel Peyre. <i>Generalised Forward-Backward Splitting</i>. SIAM J. Imaging Sci., 6(3), 1199–1226 (2013). [https://doi.org/10.1137/120872802](https://doi.org/10.1137/120872802). _Also available at_ [https://arxiv.org/pdf/1108.4404.pdf](https://arxiv.org/pdf/1108.4404.pdf).\n",
    "</div>"
   ]
  },
  {
   "cell_type": "code",
   "execution_count": 224,
   "metadata": {
    "code_folding": [
     0,
     64
    ]
   },
   "outputs": [],
   "source": [
    "def generalised_forward_backward(c,m,n,iters, collect_obj = False, \n",
    "                                                 true_obj = None,\n",
    "                                             true_obj_tol = 1e-4, true_solution = None, save_iter = False):\n",
    "    # Algorithm for calculating solution x, in the primal space\n",
    "    # and y_1, y_2 in the dual space.\n",
    "    # Also returns the value of the objective function c*x at each\n",
    "    # iteration.\n",
    "    \n",
    "    '''\n",
    "        Initialise parameters\n",
    "    '''\n",
    "    #First compute μ\n",
    "    μ = norm(c,2)     # 1 -> 10^-1 -> 10^-2 -> ...\n",
    "    # μ is selected as the midpoint of the interval\n",
    "    #e = 1/mu #0.5 * 1/mu;        # remove\n",
    "    # γ->θ does not depend on the current iteration\n",
    "    θ = 0.0001\n",
    "    # likewise, we do not require a change in λ\n",
    "    λ = 1.0\n",
    "    \n",
    "    # Fetch lengths of m and n\n",
    "    N = n.size;        M = m.size\n",
    "    \n",
    "    print('\\n*** Generalised FB with M = {}, N = {}, MN = {} ***\\n\\n'.format(M,N,M*N))\n",
    "    \n",
    "    '''\n",
    "        Initialise matrices\n",
    "    '''\n",
    "    # Initialise y_1 and y_2\n",
    "    v_1 = zeros((M,N))\n",
    "    v_2 = zeros((M,N))\n",
    "    v_1[0,:] = n\n",
    "    v_2[:,0] = m\n",
    "    \n",
    "    # Initialise x\n",
    "    x = 0.5*(v_1 + v_2)\n",
    "    #x = np.zeros((M,N));    x[:,0] = m;    x[0,:] = n;    x[0,0] = 0.5*(m[-1] + n[-1])        # Alternative\n",
    "    \n",
    "    '''\n",
    "        Information from true solution (if available)\n",
    "    '''\n",
    "    # Store current objective value\n",
    "    if collect_obj == True:\n",
    "        obj = [(c*x).sum()]\n",
    "    \n",
    "    # Norm of true solution\n",
    "    if true_solution is not None:\n",
    "        true_obj_crit = 1.0\n",
    "        if true_obj is None:\n",
    "            true_obj = (c*sol).sum()\n",
    "        print('Objective from ground truth:', obj_exact,'\\n')\n",
    "        \n",
    "    '''\n",
    "        Iterate the Generalised FB scheme\n",
    "    '''\n",
    "    \n",
    "    every_iter = {'it':[], 'obj':[], 'dist_obj':[], 'time':[], 'dist_x':[]}\n",
    "    every_critical = {'it':[], 'obj':[], 'tol':[], 'dist_obj':[], 'time':[], 'dist_x':[]}\n",
    "    \n",
    "    if true_solution is not None:\n",
    "        print('     It  |  Tolerance |        Time       | Frob. dist. ')\n",
    "        print( '{:-^55}'.format('') )\n",
    "    \n",
    "    start = time.time()    \n",
    "    for k in range(iters):\n",
    "    \n",
    "        #matrices for projection over the simplex C_1^m and the simplex C_2^n.\n",
    "        γ_1 = 2*x - v_1 - θ*c\n",
    "        γ_2 = 2*x - v_2 - θ*c\n",
    "        \n",
    "        x_1 = zeros_like(γ_1)\n",
    "        x_2 = zeros_like(γ_2)\n",
    "        \n",
    "        # Project update onto simpleces\n",
    "        for i in range(M):\n",
    "            x_1[i] = CondatP(γ_1[i],x_1[i],m[i],N)\n",
    "        for i in range(N):\n",
    "            x_2[:,i] = CondatP(γ_2[:,i],x_2[:,i],n[i],M)\n",
    "            \n",
    "        v_1 += λ*(x_1 - x)        # Update v_1 using the projection over the simplex C_1^m\n",
    "        v_2 += λ*(x_2 - x)        # Update v_2 using the projection over the simplex C_2^n\n",
    "        \n",
    "        # Update x using v_1 and v_2\n",
    "        x = 0.5 * (v_1 + v_2)\n",
    "        # Measure time up to this point!\n",
    "        end = time.time()\n",
    "        \n",
    "        # Update objective function\n",
    "        if collect_obj == True:\n",
    "            obj.append( (c*x).sum() )\n",
    "            # Compute relative objective distance\n",
    "            if true_solution is not None:\n",
    "                dist_true_sol = abs(obj[-1] - true_obj)/true_obj\n",
    "        \n",
    "        # If all iterations are to be stored:\n",
    "        if save_iter == True:\n",
    "            frob_d = norm(sol-x, 'fro')/norm(sol, 'fro')\n",
    "            \n",
    "            every_iter['it'].append( k )\n",
    "            every_iter['obj'].append( (c*x).sum() )\n",
    "            every_iter['dist_obj'].append( dist_true_sol if true_obj is not None else np.nan )\n",
    "            every_iter['time'].append( end-start )\n",
    "            every_iter['dist_x'].append( frob_d )\n",
    "            \n",
    "        # If a true solution is available, we check the tolerance:\n",
    "        if true_solution is not None: \n",
    "            if dist_true_sol < true_obj_crit:\n",
    "                frob_d = norm(sol-x, 'fro')/norm(sol, 'fro')\n",
    "                \n",
    "                every_critical['it'].append( k )\n",
    "                every_critical['obj'].append( obj[-1] )\n",
    "                every_critical['tol'].append( true_obj_crit )\n",
    "                every_critical['dist_obj'].append( dist_true_sol )\n",
    "                every_critical['time'].append( end-start )\n",
    "                every_critical['dist_x'].append( frob_d )\n",
    "                \n",
    "                print('* {0:6.0f} |    {1:.1e} | {2:15.2f} s |    {3:4.4f}'.format(k,true_obj_crit,end-start,frob_d))\n",
    "                \n",
    "                # If the prescribed tolerance is reached, we finish.\n",
    "                if dist_true_sol < true_obj_tol:\n",
    "                    print('Solution found with given tolerance.')\n",
    "                    break\n",
    "                \n",
    "                # Adjust current level of inner tolerance\n",
    "                true_obj_crit *= 0.1\n",
    "                \n",
    "    if true_solution is not None:\n",
    "        print( '{:-^55}'.format('') )\n",
    "        \n",
    "    print('\\nAlgorithm stopped after {0:.4f} seconds and {1} iterations'.format(end-start,k))\n",
    "    \n",
    "    \n",
    "    if collect_obj == False and save_iter == True:\n",
    "        return x, every_iter\n",
    "    if collect_obj == True and save_iter == True:\n",
    "        return x, obj, every_critical, every_iter\n",
    "    else:\n",
    "        return x"
   ]
  },
  {
   "cell_type": "code",
   "execution_count": 225,
   "metadata": {},
   "outputs": [
    {
     "name": "stdout",
     "output_type": "stream",
     "text": [
      "\n",
      "*** Generalised FB with M = 64, N = 64, MN = 4096 ***\n",
      "\n",
      "\n",
      "Objective from ground truth: 0.016271821448840373 \n",
      "\n",
      "     It  |  Tolerance |        Time       | Frob. dist. \n",
      "-------------------------------------------------------\n",
      "*    613 |    1.0e+00 |            0.36 s |    0.7730\n",
      "*   5670 |    1.0e-01 |            3.05 s |    0.4430\n",
      "-------------------------------------------------------\n",
      "\n",
      "Algorithm stopped after 5.3884 seconds and 9999 iterations\n"
     ]
    }
   ],
   "source": [
    "x, obj, every_critical, every_iter = generalised_forward_backward(c,m,n, 10000, \n",
    "                                                                        collect_obj = True, \n",
    "                                                                           true_obj = obj_exact,\n",
    "                                                                       true_obj_tol = 1e-7,\n",
    "                                                                      true_solution = sol, \n",
    "                                                                          save_iter = True)"
   ]
  },
  {
   "cell_type": "markdown",
   "metadata": {},
   "source": [
    "## Visualise and store results"
   ]
  },
  {
   "cell_type": "code",
   "execution_count": 277,
   "metadata": {},
   "outputs": [],
   "source": [
    "main_folder = folder + '_Results'\n",
    "out_folder  = main_folder + '/' + instance\n",
    "algorithm   = 'GFB-'"
   ]
  },
  {
   "cell_type": "code",
   "execution_count": 278,
   "metadata": {},
   "outputs": [],
   "source": [
    "# Check if main folder for results exists, else create it\n",
    "if not os.path.exists(main_folder):    os.makedirs(main_folder)\n",
    "# Now create a folder for the results of the instance\n",
    "if not os.path.exists(out_folder):    os.makedirs(out_folder)\n",
    "out_folder += '/' + algorithm"
   ]
  },
  {
   "cell_type": "code",
   "execution_count": 276,
   "metadata": {
    "code_folding": [
     0
    ]
   },
   "outputs": [
    {
     "data": {
      "image/png": "[encoded data removed]",
      "text/plain": [
       "<Figure size 720x360 with 2 Axes>"
      ]
     },
     "metadata": {
      "needs_background": "light"
     },
     "output_type": "display_data"
    }
   ],
   "source": [
    "# Visualise solution\n",
    "plt.figure(figsize = (10,5))\n",
    "\n",
    "plt.subplot(1, 2, 1)\n",
    "plt.spy(x, markersize=1, aspect = 1, markeredgecolor = 'black', alpha=0.75);    plt.axis('off')\n",
    "plt.title('Sparse view')\n",
    "plt.subplot(1, 2, 2)\n",
    "plt.imshow(x);    plt.axis('off');    plt.title('Heat map\\n')\n",
    "\n",
    "plt.savefig(out_folder+'Sparse-Heat.pdf', bbox_inches='tight',transparent=True)\n",
    "plt.show()"
   ]
  },
  {
   "cell_type": "code",
   "execution_count": 272,
   "metadata": {
    "code_folding": [
     0
    ]
   },
   "outputs": [
    {
     "data": {
      "image/png": "[encoded data removed]",
      "text/plain": [
       "<Figure size 1440x360 with 2 Axes>"
      ]
     },
     "metadata": {
      "needs_background": "light"
     },
     "output_type": "display_data"
    }
   ],
   "source": [
    "# Visualise evolution of objective values\n",
    "plt.figure(figsize = (20,5))\n",
    "\n",
    "plt.subplot(1, 2, 1)\n",
    "plt.plot(obj)\n",
    "plt.axhline(y=obj_exact, color='r', linestyle=':')\n",
    "plt.xlabel('Iteration count');    plt.ylabel('Objective cost');    plt.title('Objective values per iteration')\n",
    "plt.subplot(1, 2, 2)\n",
    "plt.plot(obj)\n",
    "plt.axhline(y=obj_exact, color='r', linestyle=':')\n",
    "plt.yscale('log')\n",
    "plt.title('Objective values per iteration')\n",
    "plt.xlabel('Iteration count');    plt.ylabel('Objective cost (log scale)')\n",
    "\n",
    "plt.savefig(out_folder+'Objective.pdf', bbox_inches='tight',transparent=True)\n",
    "plt.show()"
   ]
  },
  {
   "cell_type": "code",
   "execution_count": 273,
   "metadata": {
    "code_folding": [
     0
    ]
   },
   "outputs": [
    {
     "data": {
      "image/png": "[encoded data removed]",
      "text/plain": [
       "<Figure size 1440x360 with 2 Axes>"
      ]
     },
     "metadata": {
      "needs_background": "light"
     },
     "output_type": "display_data"
    }
   ],
   "source": [
    "# Visualise evolution of relative errors\n",
    "plt.figure(figsize = (20,5))\n",
    "\n",
    "plt.subplot(1, 2, 1)\n",
    "plt.plot(every_iter['dist_obj'])\n",
    "plt.yscale('log')\n",
    "plt.title('Error in objective per iteration')\n",
    "plt.xlabel('Iteration count');    plt.ylabel('Relative error in objective (log scale)')\n",
    "plt.subplot(1, 2, 2)\n",
    "plt.plot(every_iter['dist_x'])\n",
    "plt.yscale('log')\n",
    "plt.title('Error in solution per iteration')\n",
    "plt.xlabel('Iteration count');    plt.ylabel('Relative error in solution (log scale)')\n",
    "\n",
    "plt.savefig(out_folder+'Rel_Error.pdf', bbox_inches='tight',transparent=True)\n",
    "plt.show()"
   ]
  },
  {
   "cell_type": "markdown",
   "metadata": {},
   "source": [
    "All the data from the above two plots is also available as dataframes:"
   ]
  },
  {
   "cell_type": "code",
   "execution_count": 281,
   "metadata": {},
   "outputs": [
    {
     "data": {
      "text/html": [
       "<div>\n",
       "<style scoped>\n",
       "    .dataframe tbody tr th:only-of-type {\n",
       "        vertical-align: middle;\n",
       "    }\n",
       "\n",
       "    .dataframe tbody tr th {\n",
       "        vertical-align: top;\n",
       "    }\n",
       "\n",
       "    .dataframe thead th {\n",
       "        text-align: right;\n",
       "    }\n",
       "</style>\n",
       "<table border=\"1\" class=\"dataframe\">\n",
       "  <thead>\n",
       "    <tr style=\"text-align: right;\">\n",
       "      <th></th>\n",
       "      <th>it</th>\n",
       "      <th>obj</th>\n",
       "      <th>tol</th>\n",
       "      <th>dist_obj</th>\n",
       "      <th>time</th>\n",
       "      <th>dist_x</th>\n",
       "    </tr>\n",
       "  </thead>\n",
       "  <tbody>\n",
       "    <tr>\n",
       "      <th>0</th>\n",
       "      <td>613</td>\n",
       "      <td>0.032534</td>\n",
       "      <td>1.0</td>\n",
       "      <td>0.999377</td>\n",
       "      <td>0.358400</td>\n",
       "      <td>0.772966</td>\n",
       "    </tr>\n",
       "    <tr>\n",
       "      <th>1</th>\n",
       "      <td>5670</td>\n",
       "      <td>0.017899</td>\n",
       "      <td>0.1</td>\n",
       "      <td>0.099975</td>\n",
       "      <td>3.053229</td>\n",
       "      <td>0.442983</td>\n",
       "    </tr>\n",
       "  </tbody>\n",
       "</table>\n",
       "</div>"
      ],
      "text/plain": [
       "     it       obj  tol  dist_obj      time    dist_x\n",
       "0   613  0.032534  1.0  0.999377  0.358400  0.772966\n",
       "1  5670  0.017899  0.1  0.099975  3.053229  0.442983"
      ]
     },
     "metadata": {},
     "output_type": "display_data"
    },
    {
     "name": "stdout",
     "output_type": "stream",
     "text": [
      "\\begin{tabular}{rrrrrr}\n",
      "\\toprule\n",
      "  it &      obj &  tol &  dist\\_obj &     time &   dist\\_x \\\\\n",
      "\\midrule\n",
      " 613 & 0.032534 &  1.0 &  0.999377 & 0.358400 & 0.772966 \\\\\n",
      "5670 & 0.017899 &  0.1 &  0.099975 & 3.053229 & 0.442983 \\\\\n",
      "\\bottomrule\n",
      "\\end{tabular}\n",
      "\n"
     ]
    }
   ],
   "source": [
    "df_critical = pd.DataFrame.from_dict(every_critical)\n",
    "df_critical.to_pickle(out_folder+'Critical.pkl') # To read back use pd.read_pickle(file_name)\n",
    "df_critical.to_excel(out_folder+'Critical.xlsx')\n",
    "display(df_critical)\n",
    "\n",
    "# If we want this table in LaTeX format run:\n",
    "print(df_critical.to_latex(index=False))"
   ]
  },
  {
   "cell_type": "code",
   "execution_count": 282,
   "metadata": {},
   "outputs": [
    {
     "data": {
      "text/html": [
       "<div>\n",
       "<style scoped>\n",
       "    .dataframe tbody tr th:only-of-type {\n",
       "        vertical-align: middle;\n",
       "    }\n",
       "\n",
       "    .dataframe tbody tr th {\n",
       "        vertical-align: top;\n",
       "    }\n",
       "\n",
       "    .dataframe thead th {\n",
       "        text-align: right;\n",
       "    }\n",
       "</style>\n",
       "<table border=\"1\" class=\"dataframe\">\n",
       "  <thead>\n",
       "    <tr style=\"text-align: right;\">\n",
       "      <th></th>\n",
       "      <th>it</th>\n",
       "      <th>obj</th>\n",
       "      <th>dist_obj</th>\n",
       "      <th>time</th>\n",
       "      <th>dist_x</th>\n",
       "    </tr>\n",
       "  </thead>\n",
       "  <tbody>\n",
       "    <tr>\n",
       "      <th>0</th>\n",
       "      <td>0</td>\n",
       "      <td>0.665717</td>\n",
       "      <td>39.912281</td>\n",
       "      <td>0.003009</td>\n",
       "      <td>1.374644</td>\n",
       "    </tr>\n",
       "    <tr>\n",
       "      <th>1</th>\n",
       "      <td>1</td>\n",
       "      <td>0.490170</td>\n",
       "      <td>29.123852</td>\n",
       "      <td>0.006070</td>\n",
       "      <td>1.105956</td>\n",
       "    </tr>\n",
       "    <tr>\n",
       "      <th>2</th>\n",
       "      <td>2</td>\n",
       "      <td>0.307389</td>\n",
       "      <td>17.890905</td>\n",
       "      <td>0.009013</td>\n",
       "      <td>0.980394</td>\n",
       "    </tr>\n",
       "    <tr>\n",
       "      <th>3</th>\n",
       "      <td>3</td>\n",
       "      <td>0.282070</td>\n",
       "      <td>16.334869</td>\n",
       "      <td>0.010827</td>\n",
       "      <td>0.973550</td>\n",
       "    </tr>\n",
       "    <tr>\n",
       "      <th>4</th>\n",
       "      <td>4</td>\n",
       "      <td>0.271810</td>\n",
       "      <td>15.704343</td>\n",
       "      <td>0.012584</td>\n",
       "      <td>0.970671</td>\n",
       "    </tr>\n",
       "  </tbody>\n",
       "</table>\n",
       "</div>"
      ],
      "text/plain": [
       "   it       obj   dist_obj      time    dist_x\n",
       "0   0  0.665717  39.912281  0.003009  1.374644\n",
       "1   1  0.490170  29.123852  0.006070  1.105956\n",
       "2   2  0.307389  17.890905  0.009013  0.980394\n",
       "3   3  0.282070  16.334869  0.010827  0.973550\n",
       "4   4  0.271810  15.704343  0.012584  0.970671"
      ]
     },
     "metadata": {},
     "output_type": "display_data"
    }
   ],
   "source": [
    "df_every = pd.DataFrame.from_dict(every_iter)\n",
    "df_every.to_pickle(out_folder+'Every.pkl') # To read back use pd.read_pickle(file_name)\n",
    "df_every.to_excel(out_folder+'Every.xlsx')\n",
    "display(df_every.head())"
   ]
  },
  {
   "cell_type": "code",
   "execution_count": 257,
   "metadata": {},
   "outputs": [
    {
     "data": {
      "text/html": [
       "<div>\n",
       "<style scoped>\n",
       "    .dataframe tbody tr th:only-of-type {\n",
       "        vertical-align: middle;\n",
       "    }\n",
       "\n",
       "    .dataframe tbody tr th {\n",
       "        vertical-align: top;\n",
       "    }\n",
       "\n",
       "    .dataframe thead th {\n",
       "        text-align: right;\n",
       "    }\n",
       "</style>\n",
       "<table border=\"1\" class=\"dataframe\">\n",
       "  <thead>\n",
       "    <tr style=\"text-align: right;\">\n",
       "      <th></th>\n",
       "      <th>it</th>\n",
       "      <th>obj</th>\n",
       "      <th>dist_obj</th>\n",
       "      <th>time</th>\n",
       "      <th>dist_x</th>\n",
       "    </tr>\n",
       "  </thead>\n",
       "  <tbody>\n",
       "    <tr>\n",
       "      <th>count</th>\n",
       "      <td>10000.00000</td>\n",
       "      <td>10000.000000</td>\n",
       "      <td>10000.000000</td>\n",
       "      <td>10000.000000</td>\n",
       "      <td>10000.000000</td>\n",
       "    </tr>\n",
       "    <tr>\n",
       "      <th>mean</th>\n",
       "      <td>4999.50000</td>\n",
       "      <td>0.021657</td>\n",
       "      <td>0.330978</td>\n",
       "      <td>2.697606</td>\n",
       "      <td>0.509079</td>\n",
       "    </tr>\n",
       "    <tr>\n",
       "      <th>std</th>\n",
       "      <td>2886.89568</td>\n",
       "      <td>0.014814</td>\n",
       "      <td>0.910433</td>\n",
       "      <td>1.543085</td>\n",
       "      <td>0.135555</td>\n",
       "    </tr>\n",
       "    <tr>\n",
       "      <th>min</th>\n",
       "      <td>0.00000</td>\n",
       "      <td>0.016726</td>\n",
       "      <td>0.027923</td>\n",
       "      <td>0.003009</td>\n",
       "      <td>0.364282</td>\n",
       "    </tr>\n",
       "    <tr>\n",
       "      <th>25%</th>\n",
       "      <td>2499.75000</td>\n",
       "      <td>0.017187</td>\n",
       "      <td>0.056258</td>\n",
       "      <td>1.360787</td>\n",
       "      <td>0.400167</td>\n",
       "    </tr>\n",
       "    <tr>\n",
       "      <th>50%</th>\n",
       "      <td>4999.50000</td>\n",
       "      <td>0.018286</td>\n",
       "      <td>0.123812</td>\n",
       "      <td>2.688532</td>\n",
       "      <td>0.464070</td>\n",
       "    </tr>\n",
       "    <tr>\n",
       "      <th>75%</th>\n",
       "      <td>7499.25000</td>\n",
       "      <td>0.021248</td>\n",
       "      <td>0.305822</td>\n",
       "      <td>4.026295</td>\n",
       "      <td>0.584956</td>\n",
       "    </tr>\n",
       "    <tr>\n",
       "      <th>max</th>\n",
       "      <td>9999.00000</td>\n",
       "      <td>0.665717</td>\n",
       "      <td>39.912281</td>\n",
       "      <td>5.388431</td>\n",
       "      <td>1.374644</td>\n",
       "    </tr>\n",
       "  </tbody>\n",
       "</table>\n",
       "</div>"
      ],
      "text/plain": [
       "                it           obj      dist_obj          time        dist_x\n",
       "count  10000.00000  10000.000000  10000.000000  10000.000000  10000.000000\n",
       "mean    4999.50000      0.021657      0.330978      2.697606      0.509079\n",
       "std     2886.89568      0.014814      0.910433      1.543085      0.135555\n",
       "min        0.00000      0.016726      0.027923      0.003009      0.364282\n",
       "25%     2499.75000      0.017187      0.056258      1.360787      0.400167\n",
       "50%     4999.50000      0.018286      0.123812      2.688532      0.464070\n",
       "75%     7499.25000      0.021248      0.305822      4.026295      0.584956\n",
       "max     9999.00000      0.665717     39.912281      5.388431      1.374644"
      ]
     },
     "execution_count": 257,
     "metadata": {},
     "output_type": "execute_result"
    }
   ],
   "source": [
    "df_every.describe()"
   ]
  },
  {
   "cell_type": "code",
   "execution_count": 1,
   "metadata": {},
   "outputs": [],
   "source": [
    "# Finally, store the latest solution:\n",
    "np.save(out_folder + '_Sol.npy' , x)            # To read back just run:   np.load(outfile)"
   ]
  },
  {
   "cell_type": "markdown",
   "metadata": {},
   "source": [
    "---\n",
    "Code used to do performance tests in each piece of code:\n",
    "```Python\n",
    "start = time.time()\n",
    "# ...\n",
    "end = time.time()\n",
    "print(end-start)\n",
    "\n",
    "%timeit -r 10 -n 200 `function(x)`\n",
    "```"
   ]
  },
  {
   "cell_type": "code",
   "execution_count": null,
   "metadata": {},
   "outputs": [],
   "source": [
    "# Aliases\n",
    "#from numpy import log, ceil, inf, absolute, tensordot, sqrt, array\n",
    "#from numpy.linalg import norm"
   ]
  },
  {
   "cell_type": "markdown",
   "metadata": {},
   "source": [
    "# Algorithms that have to be adapted to this notebook"
   ]
  },
  {
   "cell_type": "markdown",
   "metadata": {
    "heading_collapsed": true
   },
   "source": [
    "## Primal Dual"
   ]
  },
  {
   "cell_type": "code",
   "execution_count": 44,
   "metadata": {
    "code_folding": [
     1
    ],
    "hidden": true
   },
   "outputs": [],
   "source": [
    "#@jit(nopython=True, fastmath = True)#, parallel = True)\n",
    "def primal_dual(c,m,n,iters, true_obj_tol = 1e-4, true_solution = None, save_iter = None):\n",
    "    #Algorithm for calculating solution x, in the primal space\n",
    "    #and y_1, y_2 in the dual space.\n",
    "    #Also returns the value of the objective function c*x at each\n",
    "    #iteration.\n",
    "    \n",
    "    #Initialise tau\n",
    "    tau = 0.0001\n",
    "    \n",
    "    #Initialise sigma\n",
    "    sig = 1/(tau*2) - 0.5\n",
    "    \n",
    "    #fetch lengths of m and n.\n",
    "    N = n.size\n",
    "    M = m.size\n",
    "    \n",
    "    #Initialise x\n",
    "    x = np.zeros((M,N))\n",
    "    #x[:,0] = m\n",
    "    #x[0,:] = n\n",
    "    #x[0,0] = 0.5*(m[-1] + n[-1])\n",
    "    \n",
    "    #Initialise y_1 and y_2\n",
    "    y_1 = zeros((M,N))\n",
    "    y_2 = zeros((M,N))\n",
    "    \n",
    "    y_1[0,:] = n\n",
    "    y_2[:,0] = m\n",
    "    \n",
    "    #Save that objective function\n",
    "    obj = [np.sum(np.multiply(c,x))]\n",
    "    \n",
    "    critical_objectives = []\n",
    "    \n",
    "    \n",
    "\n",
    "    \n",
    "    # Norm of true solution\n",
    "    if true_solution is not None:\n",
    "        true_obj = np.tensordot(c,sol,2).item()\n",
    "        print(true_obj, \" True solution objective.\")\n",
    "        true_obj_crit = 1\n",
    "        \n",
    "    start = time.time()\n",
    "    \n",
    "    every_iter, every_critical = [], []\n",
    "    \n",
    "    \n",
    "    for k in range(iters):\n",
    "        #update x\n",
    "        xnew = x - tau*c - tau*(y_1 + y_2)\n",
    "        \n",
    "        #matrices for projection over the simplex C_1^m and the simplex C_2^n.\n",
    "        γ_1 = (1/sig)*y_1 + 2*xnew - x\n",
    "        γ_2 = (1/sig)*y_2 + 2*xnew - x\n",
    "        \n",
    "        \n",
    "        x_1 = zeros_like(γ_1)\n",
    "        for i in range(M):\n",
    "            x_1[i] = CondatP_c(γ_1[i],x_1[i],m[i],N)\n",
    "        \n",
    "        x_2 = zeros_like(γ_2)\n",
    "        for i in range(N):\n",
    "            x_2[:,i] = CondatP_c(γ_2[:,i],x_2[:,i],n[i],M)\n",
    "            \n",
    "        \n",
    "        #update x using the projection over the simplex C_1^m\n",
    "        y_1new = y_1 + sig*(2*xnew - x) - sig*x_1\n",
    "  \n",
    "        #update x using the projection over the simplex C_2^n\n",
    "        y_2new = y_2 + sig*(2*xnew - x) - sig*x_2\n",
    "        \n",
    "        #Reset x,y_1, y_2 for the next iteration\n",
    "        x = xnew\n",
    "        y_1 = y_1new\n",
    "        y_2 = y_2new\n",
    "        \n",
    "        dist_true_sol = np.abs(np.tensordot(c,x,2).item() - true_obj)\n",
    "        \n",
    "        if true_solution is not None and dist_true_sol <  true_obj_crit:\n",
    "            end = time.time()\n",
    "            mat_fronorm = np.linalg.norm(sol-x, 'fro')\n",
    "            print(true_obj_crit, \"within true objective in \", end-start ,\" seconds.\", \" Iteration \", k, \". Distance to true sol \", mat_fronorm)\n",
    "            every_critical.append([true_obj_crit, end-start, k, mat_fronorm])\n",
    "            true_obj_crit *= 0.1\n",
    "        \n",
    "        # Check how close we are to the true solution\n",
    "        if true_solution is not None and dist_true_sol <  true_obj_tol:\n",
    "            print(\"Close to true sol break\")\n",
    "            end = time.time()    \n",
    "            print( end-start , \" - total time in seconds.\")\n",
    "            every_critical.append([true_obj_crit, end-start, k, mat_fronorm])\n",
    "            #with open('Primal_dual_critical.npy', 'wb') as f:\n",
    "            #            np.save(f, np.array(every_critical))\n",
    "    \n",
    "            #if save_iter == True:\n",
    "            #    with open('Primal_dual_iter.npy', 'wb') as f:\n",
    "            #            np.save(f, np.array(every_iter))\n",
    "            break\n",
    "        \n",
    "        #update objective function\n",
    "        obj.append(np.sum(np.multiply(c,x)))\n",
    "    \n",
    "        if save_iter == True:\n",
    "            end = time.time()\n",
    "            mat_fronorm = np.linalg.norm(sol-x, 'fro')\n",
    "            every_iter.append([dist_true_sol, end-start, k, mat_fronorm])\n",
    "        \n",
    "    end = time.time()    \n",
    "    print( end-start , \" - total time in seconds.\")\n",
    "    with open('Primal_dual_critical.npy', 'wb') as f:\n",
    "                np.save(f, np.array(every_critical))\n",
    "    \n",
    "    if save_iter == True:\n",
    "        with open('Primal_dual_iter.npy', 'wb') as f:\n",
    "                np.save(f, np.array(every_iter))\n",
    "        \n",
    "    return x, obj, critical_objectives"
   ]
  },
  {
   "cell_type": "code",
   "execution_count": 47,
   "metadata": {
    "hidden": true
   },
   "outputs": [
    {
     "ename": "UnboundLocalError",
     "evalue": "local variable 'true_obj' referenced before assignment",
     "output_type": "error",
     "traceback": [
      "\u001b[0;31m---------------------------------------------------------------------------\u001b[0m",
      "\u001b[0;31mUnboundLocalError\u001b[0m                         Traceback (most recent call last)",
      "\u001b[0;32m<ipython-input-47-859b6bd4b2a6>\u001b[0m in \u001b[0;36m<module>\u001b[0;34m\u001b[0m\n\u001b[1;32m     17\u001b[0m \u001b[0;34m\u001b[0m\u001b[0m\n\u001b[1;32m     18\u001b[0m \u001b[0mt\u001b[0m \u001b[0;34m=\u001b[0m \u001b[0mtime\u001b[0m\u001b[0;34m.\u001b[0m\u001b[0mtime\u001b[0m\u001b[0;34m(\u001b[0m\u001b[0;34m)\u001b[0m\u001b[0;34m\u001b[0m\u001b[0;34m\u001b[0m\u001b[0m\n\u001b[0;32m---> 19\u001b[0;31m \u001b[0mx\u001b[0m\u001b[0;34m,\u001b[0m\u001b[0mobj\u001b[0m\u001b[0;34m,\u001b[0m \u001b[0m_\u001b[0m \u001b[0;34m=\u001b[0m \u001b[0mprimal_dual\u001b[0m\u001b[0;34m(\u001b[0m\u001b[0mc\u001b[0m\u001b[0;34m,\u001b[0m\u001b[0mm\u001b[0m\u001b[0;34m,\u001b[0m\u001b[0mn\u001b[0m\u001b[0;34m,\u001b[0m\u001b[0;36m500\u001b[0m\u001b[0;34m)\u001b[0m\u001b[0;34m\u001b[0m\u001b[0;34m\u001b[0m\u001b[0m\n\u001b[0m\u001b[1;32m     20\u001b[0m \u001b[0melapsed\u001b[0m \u001b[0;34m=\u001b[0m \u001b[0mtime\u001b[0m\u001b[0;34m.\u001b[0m\u001b[0mtime\u001b[0m\u001b[0;34m(\u001b[0m\u001b[0;34m)\u001b[0m \u001b[0;34m-\u001b[0m \u001b[0mt\u001b[0m\u001b[0;34m\u001b[0m\u001b[0;34m\u001b[0m\u001b[0m\n\u001b[1;32m     21\u001b[0m \u001b[0mprint\u001b[0m\u001b[0;34m(\u001b[0m\u001b[0;34m'Time taken for Primal Dual ='\u001b[0m\u001b[0;34m,\u001b[0m \u001b[0melapsed\u001b[0m\u001b[0;34m)\u001b[0m\u001b[0;34m\u001b[0m\u001b[0;34m\u001b[0m\u001b[0m\n",
      "\u001b[0;32m<ipython-input-44-df682e2a8812>\u001b[0m in \u001b[0;36mprimal_dual\u001b[0;34m(c, m, n, iters, true_obj_tol, true_solution, save_iter)\u001b[0m\n\u001b[1;32m     77\u001b[0m         \u001b[0my_2\u001b[0m \u001b[0;34m=\u001b[0m \u001b[0my_2new\u001b[0m\u001b[0;34m\u001b[0m\u001b[0;34m\u001b[0m\u001b[0m\n\u001b[1;32m     78\u001b[0m \u001b[0;34m\u001b[0m\u001b[0m\n\u001b[0;32m---> 79\u001b[0;31m         \u001b[0mdist_true_sol\u001b[0m \u001b[0;34m=\u001b[0m \u001b[0mnp\u001b[0m\u001b[0;34m.\u001b[0m\u001b[0mabs\u001b[0m\u001b[0;34m(\u001b[0m\u001b[0mnp\u001b[0m\u001b[0;34m.\u001b[0m\u001b[0mtensordot\u001b[0m\u001b[0;34m(\u001b[0m\u001b[0mc\u001b[0m\u001b[0;34m,\u001b[0m\u001b[0mx\u001b[0m\u001b[0;34m,\u001b[0m\u001b[0;36m2\u001b[0m\u001b[0;34m)\u001b[0m\u001b[0;34m.\u001b[0m\u001b[0mitem\u001b[0m\u001b[0;34m(\u001b[0m\u001b[0;34m)\u001b[0m \u001b[0;34m-\u001b[0m \u001b[0mtrue_obj\u001b[0m\u001b[0;34m)\u001b[0m\u001b[0;34m\u001b[0m\u001b[0;34m\u001b[0m\u001b[0m\n\u001b[0m\u001b[1;32m     80\u001b[0m \u001b[0;34m\u001b[0m\u001b[0m\n\u001b[1;32m     81\u001b[0m         \u001b[0;32mif\u001b[0m \u001b[0mtrue_solution\u001b[0m \u001b[0;32mis\u001b[0m \u001b[0;32mnot\u001b[0m \u001b[0;32mNone\u001b[0m \u001b[0;32mand\u001b[0m \u001b[0mdist_true_sol\u001b[0m \u001b[0;34m<\u001b[0m  \u001b[0mtrue_obj_crit\u001b[0m\u001b[0;34m:\u001b[0m\u001b[0;34m\u001b[0m\u001b[0;34m\u001b[0m\u001b[0m\n",
      "\u001b[0;31mUnboundLocalError\u001b[0m: local variable 'true_obj' referenced before assignment"
     ]
    }
   ],
   "source": [
    "x = np.linspace(0,1,1000)\n",
    "y = np.linspace(1,2,1000)\n",
    "len_x = np.size(x)\n",
    "len_y = np.size(y)\n",
    "\n",
    "c = np.zeros((len_x,len_y))\n",
    "for i in range(len_x):\n",
    "    for j in range(len_y):\n",
    "        c[i,j] = (y[j]-x[i])**2\n",
    "\n",
    "m = np.ones(len_x)/len_x\n",
    "n = np.ones(len_y)/len_y\n",
    "M = len_x\n",
    "N = len_y\n",
    "\n",
    "t = time.time()\n",
    "x,obj, _ = primal_dual(c,m,n,500)\n",
    "elapsed = time.time() - t\n",
    "print('Time taken for Primal Dual =', elapsed)\n",
    "print(obj[-1])\n",
    "#plt.plot(obj)\n",
    "#plt.imshow(x)"
   ]
  },
  {
   "cell_type": "markdown",
   "metadata": {
    "heading_collapsed": true
   },
   "source": [
    "## Forward Backward"
   ]
  },
  {
   "cell_type": "code",
   "execution_count": null,
   "metadata": {
    "hidden": true
   },
   "outputs": [],
   "source": [
    "#@jit(nopython=True, fastmath = True)#, parallel = True)\n",
    "def forward_backward(c,m,n,iters, collect_obj = False, true_obj_tol = 1e-4, true_solution = None, save_iter = False):\n",
    "    #Algorithm for calculating solution x, in the primal space\n",
    "    #and y_1, y_2 in the dual space.\n",
    "    #Also returns the value of the objective function c*x at each\n",
    "    #iteration.\n",
    "    \n",
    "    #First compute ?\n",
    "    μ = np.linalg.norm(c,2)     # 1 -> 10^-1 -> 10^-2 -> ...\n",
    "    # ? is selected as the midpoint of the interval\n",
    "    #e = 1/mu #0.5 * 1/mu;        # remove\n",
    "    # ? does not depend on the current iteration\n",
    "    γ = 0.0001\n",
    "    #likewise, we do not require a change in ?\n",
    "    lam = 1.0;   #1.0\n",
    "    \n",
    "    #fetch lengths of m and n.\n",
    "    N = n.size\n",
    "    M = m.size\n",
    "    \n",
    "    #Initialise x\n",
    "    x = np.zeros((M,N))\n",
    "    #x[:,0] = m\n",
    "    #x[0,:] = n\n",
    "    #x[0,0] = 0.5*(m[-1] + n[-1])\n",
    "    \n",
    "    #Initialise y_1 and y_2\n",
    "    v_1 = zeros((M,N))\n",
    "    v_2 = zeros((M,N))\n",
    "    \n",
    "    v_1[0,:] = n\n",
    "    v_2[:,0] = m\n",
    "    \n",
    "    #Initialise x\n",
    "    x = 0.5*(v_1 + v_2)\n",
    "    \n",
    "    #Save that objective function\n",
    "    if collect_obj == True:\n",
    "        obj = [np.sum(np.multiply(c,x))]\n",
    "    \n",
    "    # Norm of true solution\n",
    "    if true_solution is not None:\n",
    "        true_obj = np.tensordot(c,sol,2).item()\n",
    "        print(true_obj, \" True solution objective.\")\n",
    "        true_obj_crit = 1\n",
    "    critical_objectives = []\n",
    "\n",
    "        \n",
    "    start = time.time()    \n",
    "    \n",
    "    every_iter, every_critical = [], []\n",
    "\n",
    "    \n",
    "    for k in range(iters):\n",
    "        \n",
    "        # First proximal projection\n",
    "        y = x - γ * c;\n",
    "        \n",
    "        # Proximal operation\n",
    "        y, v_1, v_2 = prox_i(y,m,n,v_1,v_2)\n",
    "        \n",
    "        #update x using the projection over the simplex C\n",
    "        u = (1-lam)*x  + lam*y\n",
    "        \n",
    "        #Update x for the next iteration\n",
    "        x = u\n",
    "        \n",
    "        #update objective function\n",
    "        if collect_obj == True:\n",
    "            obj.append(np.sum(np.multiply(c,x)))\n",
    "        \n",
    "        #if true_solution is not None:\n",
    "        #    print(np.tensordot(c,x,2).item(), \"obj\", (np.abs(np.tensordot(c,x,2).item() - true_obj)))\n",
    "            \n",
    "        dist_true_sol = np.abs(np.tensordot(c,x,2).item() - true_obj)\n",
    "        \n",
    "        if true_solution is not None and dist_true_sol <  true_obj_crit:\n",
    "            end = time.time()\n",
    "            mat_fronorm = np.linalg.norm(sol-x, 'fro')\n",
    "            print(true_obj_crit, \"within true objective in \", end-start ,\" seconds.\", \" Iteration \", k, \". Distance to true sol \", mat_fronorm)\n",
    "            every_critical.append([true_obj_crit, end-start, k, mat_fronorm])\n",
    "            true_obj_crit *= 0.1\n",
    "        \n",
    "        # Check how close we are to the true solution\n",
    "        if true_solution is not None and dist_true_sol <  true_obj_tol or time.time() - start > 7200:\n",
    "            print(\"Close to true sol break\")\n",
    "            end = time.time()    \n",
    "            every_critical.append([true_obj_crit, end-start, k, mat_fronorm])\n",
    "            #print( end-start , \" - total time in seconds.\")\n",
    "            #with open('FB_critical_8.npy', 'wb') as f:\n",
    "            #            np.save(f, np.array(every_critical))\n",
    "    \n",
    "            #if save_iter == True:\n",
    "            #    with open('FB_iter_8.npy', 'wb') as f:\n",
    "            #            np.save(f, np.array(every_iter))\n",
    "            break\n",
    "        \n",
    "        #update objective function\n",
    "        obj.append(np.sum(np.multiply(c,x)))\n",
    "    \n",
    "        if save_iter == True:\n",
    "            end = time.time()\n",
    "            mat_fronorm = np.linalg.norm(sol-x, 'fro')\n",
    "            every_iter.append([dist_true_sol, end-start, k, mat_fronorm])\n",
    "        \n",
    "    end = time.time()    \n",
    "    print( end-start , \" - total time in seconds.\")\n",
    "    with open('FB_critical_8.npy', 'wb') as f:\n",
    "                np.save(f, np.array(every_critical))\n",
    "    \n",
    "    if save_iter == True:\n",
    "        with open('FB_iter_8.npy', 'wb') as f:\n",
    "                np.save(f, np.array(every_iter))\n",
    "        \n",
    "    if collect_obj == True:   \n",
    "        return x,obj, critical_objectives\n",
    "    else:\n",
    "        return x"
   ]
  },
  {
   "cell_type": "markdown",
   "metadata": {
    "heading_collapsed": true
   },
   "source": [
    "## Entropic Regularisation for an Initial Guess"
   ]
  },
  {
   "cell_type": "code",
   "execution_count": null,
   "metadata": {
    "code_folding": [
     0
    ],
    "hidden": true
   },
   "outputs": [],
   "source": [
    "def entropic_regularisation(m,n,c,iters_max,eps= 0.025, collect_obj = False):\n",
    "    \n",
    "    #fetch lengths of m and n.\n",
    "    N = np.size(n)\n",
    "    M = np.size(m)\n",
    "    \n",
    "    #Gibbs Kernel\n",
    "    Geps = np.exp(-c/eps)\n",
    "    \n",
    "    cons = 1/np.sum(Geps)\n",
    "    a = np.ones(M)*cons\n",
    "    b = np.ones(N)*cons\n",
    "    norm_difference = 100\n",
    "    obj = []\n",
    "    Kp = (1/(n + 1e-299)).reshape(-1,1) * Geps\n",
    "    for i in range(iters_max):\n",
    "        #anew = np.multiply(m,np.reciprocal(np.matmul(Geps, b)))\n",
    "        #bnew = np.multiply(n,np.reciprocal(np.matmul(a.T, Geps).T))\n",
    "        #anew = np.divide(m,np.matmul(Geps, b))\n",
    "        #bnew = np.divide(n,np.matmul(a.T, Geps).T)\n",
    "        bnew = np.divide(m, np.dot(Geps.T, a)+1e-299)\n",
    "        anew = 1. / (np.dot(Kp,bnew)+1e-299)\n",
    "                \n",
    "        #anew = np.divide(m, Geps * b)\n",
    "        #bnew = np.divide(n, (a.T * Geps).T)\n",
    "        \n",
    "        \n",
    "        #x = a * Geps * b.T\n",
    "        #u = anew * Geps * bnew.T\n",
    "        x = np.multiply(a, np.multiply(Geps, b.T))\n",
    "        u = np.multiply(anew, np.multiply(Geps, bnew.T))\n",
    "        #x = a @ Geps @ b.T\n",
    "        #u = anew @ Geps @ bnew.T\n",
    "        \n",
    "        norm_difference = np.linalg.norm(x-u)\n",
    "        \n",
    "        a = anew\n",
    "        b = bnew\n",
    "        if collect_obj == True:\n",
    "            obj.append((np.multiply(c,u)).sum())\n",
    "    \n",
    "    if collect_obj == True:\n",
    "        return x, obj\n",
    "    else:\n",
    "        return x"
   ]
  },
  {
   "cell_type": "code",
   "execution_count": null,
   "metadata": {
    "code_folding": [
     4
    ],
    "hidden": true
   },
   "outputs": [],
   "source": [
    "M = 4                  \n",
    "N = 4\n",
    "m = 0.25*np.ones(M)\n",
    "n = 0.25*np.ones(N)\n",
    "c = np.array([[3.10112791, 2.01924761, 2.        , 2.01924761],\n",
    "     [3.10112791, 3.        , 1.16637984, 1.        ],\n",
    "     [3.        , 3.10112791, 1.16637984, 2.01924761],\n",
    "     [1.        , 3.        , 2.33275967, 4.22075809]])\n",
    "x, obj = entropic_regularisation(m,n,c,100000, collect_obj = True)\n",
    "plt.plot(obj)\n",
    "print(obj[-1])\n",
    "print(x)"
   ]
  },
  {
   "cell_type": "code",
   "execution_count": 119,
   "metadata": {
    "code_folding": [
     0
    ],
    "hidden": true
   },
   "outputs": [],
   "source": [
    "### from https://github.com/rflamary/POT/blob/master/ot/bregman.py ###\n",
    "def sinkhorn_knopp(a, b, M, reg, numItermax=1000,\n",
    "                   stopThr=1e-9, verbose=False,true_obj_tol = 1e-4, \n",
    "                   true_solution = None, save_iter = False, **kwargs):\n",
    "    r\"\"\"\n",
    "    Solve the entropic regularization optimal transport problem and return the OT matrix\n",
    "    The function solves the following optimization problem:\n",
    "    .. math::\n",
    "        \\gamma = arg\\min_\\gamma <\\gamma,M>_F + reg\\cdot\\Omega(\\gamma)\n",
    "        s.t. \\gamma 1 = a\n",
    "             \\gamma^T 1= b\n",
    "             \\gamma\\geq 0\n",
    "    where :\n",
    "    - M is the (dim_a, dim_b) metric cost matrix\n",
    "    - :math:`\\Omega` is the entropic regularization term :math:`\\Omega(\\gamma)=\\sum_{i,j} \\gamma_{i,j}\\log(\\gamma_{i,j})`\n",
    "    - a and b are source and target weights (histograms, both sum to 1)\n",
    "    The algorithm used for solving the problem is the Sinkhorn-Knopp matrix scaling algorithm as proposed in [2]_\n",
    "    Parameters\n",
    "    ----------\n",
    "    a : ndarray, shape (dim_a,)\n",
    "        samples weights in the source domain\n",
    "    b : ndarray, shape (dim_b,) or ndarray, shape (dim_b, n_hists)\n",
    "        samples in the target domain, compute sinkhorn with multiple targets\n",
    "        and fixed M if b is a matrix (return OT loss + dual variables in log)\n",
    "    M : ndarray, shape (dim_a, dim_b)\n",
    "        loss matrix\n",
    "    reg : float\n",
    "        Regularization term >0\n",
    "    numItermax : int, optional\n",
    "        Max number of iterations\n",
    "    stopThr : float, optional\n",
    "        Stop threshol on error (>0)\n",
    "    verbose : bool, optional\n",
    "        Print information along iterations\n",
    "    log : bool, optional\n",
    "        record log if True\n",
    "    Returns\n",
    "    -------\n",
    "    gamma : ndarray, shape (dim_a, dim_b)\n",
    "        Optimal transportation matrix for the given parameters\n",
    "    log : dict\n",
    "        log dictionary return only if log==True in parameters\n",
    "    Examples\n",
    "    --------\n",
    "    >>> import ot\n",
    "    >>> a=[.5, .5]\n",
    "    >>> b=[.5, .5]\n",
    "    >>> M=[[0., 1.], [1., 0.]]\n",
    "    >>> ot.sinkhorn(a, b, M, 1)\n",
    "    array([[0.36552929, 0.13447071],\n",
    "           [0.13447071, 0.36552929]])\n",
    "    References\n",
    "    ----------\n",
    "    .. [2] M. Cuturi, Sinkhorn Distances : Lightspeed Computation of Optimal Transport, Advances in Neural Information Processing Systems (NIPS) 26, 2013\n",
    "    See Also\n",
    "    --------\n",
    "    ot.lp.emd : Unregularized OT\n",
    "    ot.optim.cg : General regularized OT\n",
    "    \"\"\"\n",
    "\n",
    "    ###initialisations\n",
    "    every_iter = []\n",
    "    \n",
    "    # Norm of true solution\n",
    "    if true_solution is not None:\n",
    "        true_obj = np.tensordot(M,sol,2).item()\n",
    "        print(true_obj, \" True solution objective.\")\n",
    "        true_obj_crit = 1\n",
    "    #critical_objectives = []\n",
    "    every_critical = []\n",
    "    \n",
    "    \n",
    "    a = np.asarray(a, dtype=np.float64)\n",
    "    b = np.asarray(b, dtype=np.float64)\n",
    "    M = np.asarray(M, dtype=np.float64)\n",
    "\n",
    "    if len(a) == 0:\n",
    "        a = np.ones((M.shape[0],), dtype=np.float64) / M.shape[0]\n",
    "    if len(b) == 0:\n",
    "        b = np.ones((M.shape[1],), dtype=np.float64) / M.shape[1]\n",
    "\n",
    "    # init data\n",
    "    dim_a = len(a)\n",
    "    dim_b = len(b)\n",
    "\n",
    "    if len(b.shape) > 1:\n",
    "        n_hists = b.shape[1]\n",
    "    else:\n",
    "        n_hists = 0\n",
    "\n",
    "#     if log:\n",
    "#         log = {'err': []}\n",
    "\n",
    "    # we assume that no distances are null except those of the diagonal of\n",
    "    # distances\n",
    "    if n_hists:\n",
    "        u = np.ones((dim_a, n_hists)) / dim_a\n",
    "        v = np.ones((dim_b, n_hists)) / dim_b\n",
    "    else:\n",
    "        u = np.ones(dim_a) / dim_a\n",
    "        v = np.ones(dim_b) / dim_b\n",
    "\n",
    "    # print(reg)\n",
    "\n",
    "    # Next 3 lines equivalent to K= np.exp(-M/reg), but faster to compute\n",
    "    K = np.empty(M.shape, dtype=M.dtype)\n",
    "    np.divide(M, -reg, out=K)\n",
    "    np.exp(K, out=K)\n",
    "\n",
    "    # print(np.min(K))\n",
    "    tmp2 = np.empty(b.shape, dtype=M.dtype)\n",
    "\n",
    "    Kp = (1 / (a+ 1e-299)).reshape(-1, 1) * K\n",
    "    cpt = 0\n",
    "    err = 1\n",
    "    \n",
    "    #Initial Time\n",
    "    start = time.time()\n",
    "    \n",
    "    while (err > stopThr and cpt < numItermax):\n",
    "        uprev = u\n",
    "        vprev = v\n",
    "\n",
    "        KtransposeU = np.dot(K.T, u)\n",
    "        v = np.divide(b, (KtransposeU+ 1e-299))\n",
    "        u = 1. / (np.dot(Kp, v)+ 1e-299)\n",
    "\n",
    "        if (np.any(KtransposeU == 0)\n",
    "                or np.any(np.isnan(u)) or np.any(np.isnan(v))\n",
    "                or np.any(np.isinf(u)) or np.any(np.isinf(v))):\n",
    "            # we have reached the machine precision\n",
    "            # come back to previous solution and quit loop\n",
    "            print('Warning: numerical errors at iteration', cpt)\n",
    "            u = uprev\n",
    "            v = vprev\n",
    "            break\n",
    "        if cpt % 10 == 0:\n",
    "            # we can speed up the process by checking for the error only all\n",
    "            # the 10th iterations\n",
    "            if n_hists:\n",
    "                np.einsum('ik,ij,jk->jk', u, K, v, out=tmp2)\n",
    "            else:\n",
    "                # compute right marginal tmp2= (diag(u)Kdiag(v))^T1\n",
    "                np.einsum('i,ij,j->j', u, K, v, out=tmp2)\n",
    "            err = np.linalg.norm(tmp2 - b)  # violation of marginal\n",
    "#             if log:\n",
    "#                 log['err'].append(err)\n",
    "\n",
    "            if verbose:\n",
    "                if cpt % 200 == 0:\n",
    "                    print(\n",
    "                        '{:5s}|{:12s}'.format('It.', 'Err') + '\\n' + '-' * 19)\n",
    "                print('{:5d}|{:8e}|'.format(cpt, err))\n",
    "                \n",
    "        # Norm of true solution\n",
    "        if true_solution is not None:\n",
    "            dist_true_sol = abs((np.multiply(M,u.reshape((-1, 1)) * K * v.reshape((1, -1)))).sum() - true_obj)\n",
    "        \n",
    "        if true_solution is not None and dist_true_sol <  true_obj_crit:\n",
    "            end = time.time()\n",
    "            x = u.reshape((-1, 1)) * K * v.reshape((1, -1))\n",
    "            mat_fronorm = np.linalg.norm(sol-x, 'fro')\n",
    "            print(true_obj_crit, \"within true objective in \", end-start ,\" seconds.\", \" Iteration \", cpt, \". Distance to true sol \", mat_fronorm)\n",
    "            every_critical.append([true_obj_crit, end-start, cpt, mat_fronorm])\n",
    "            true_obj_crit *= 0.1\n",
    "        \n",
    "        # Check how close we are to the true solution\n",
    "        if true_solution is not None and dist_true_sol <  true_obj_tol or time.time() - start > 7200:\n",
    "            print(\"Close to true sol break\")\n",
    "            \n",
    "            end = time.time()\n",
    "            x = u.reshape((-1, 1)) * K * v.reshape((1, -1))\n",
    "            mat_fronorm = np.linalg.norm(sol-x, 'fro')\n",
    "            \n",
    "            every_critical.append([true_obj_crit, end-start, cpt, mat_fronorm])\n",
    "            \n",
    "            break        \n",
    "                \n",
    "                \n",
    "        #save_iter      \n",
    "        if save_iter:\n",
    "            end = time.time()\n",
    "            \n",
    "            x = u.reshape((-1, 1)) * K * v.reshape((1, -1))\n",
    "            #dist_true_sol = abs((np.multiply(M,u.reshape((-1, 1)) * K * v.reshape((1, -1)))).sum() - true_obj)\n",
    "            mat_fronorm = np.linalg.norm(sol-x, 'fro')\n",
    "            \n",
    "            every_iter.append([dist_true_sol, end-start, cpt, mat_fronorm])\n",
    "                \n",
    "                \n",
    "                \n",
    "                \n",
    "                \n",
    "        cpt = cpt + 1 #number of iterations\n",
    "#     if log:\n",
    "#         log['u'] = u\n",
    "#         log['v'] = v\n",
    "\n",
    "#     if n_hists:  # return only loss\n",
    "#         res = np.einsum('ik,ij,jk,ij->k', u, K, v, M)\n",
    "#         if log:\n",
    "#             return res, cpt, log\n",
    "#         else:\n",
    "#             return res, cpt\n",
    "\n",
    "#     else:  # return OT matrix\n",
    "\n",
    "#         if log:\n",
    "#             return u.reshape((-1, 1)) * K * v.reshape((1, -1)), cpt, log\n",
    "#         else:\n",
    "    with open('ER_critical.npy', 'wb') as f:\n",
    "                np.save(f, np.array(every_critical))\n",
    "    \n",
    "    if save_iter == True:\n",
    "        with open('ER_iter.npy', 'wb') as f:\n",
    "                np.save(f, np.array(every_iter))\n",
    "                \n",
    "    return u.reshape((-1, 1)) * K * v.reshape((1, -1)), cpt, (np.multiply(M,u.reshape((-1, 1)) * K * v.reshape((1, -1)))).sum()\n"
   ]
  },
  {
   "cell_type": "code",
   "execution_count": 97,
   "metadata": {
    "code_folding": [
     4
    ],
    "hidden": true
   },
   "outputs": [
    {
     "name": "stdout",
     "output_type": "stream",
     "text": [
      "22.3 ms ± 424 µs per loop (mean ± std. dev. of 20 runs, 20 loops each)\n"
     ]
    }
   ],
   "source": [
    "M = 4                  \n",
    "N = 4\n",
    "m = 0.25*np.ones(M)\n",
    "n = 0.25*np.ones(N)\n",
    "c = np.array([[3.10112791, 2.01924761, 2.        , 2.01924761],\n",
    "     [3.10112791, 3.        , 1.16637984, 1.        ],\n",
    "     [3.        , 3.10112791, 1.16637984, 2.01924761],\n",
    "     [1.        , 3.        , 2.33275967, 4.22075809]])\n",
    "%timeit -r 20 -n 20 sinkhorn_knopp(m,n,c,0.005)"
   ]
  },
  {
   "cell_type": "code",
   "execution_count": 104,
   "metadata": {
    "hidden": true,
    "scrolled": true
   },
   "outputs": [
    {
     "data": {
      "text/plain": [
       "(array([[7.87568961e-184, 2.50000000e-001, 1.74575658e-075,\n",
       "         2.62795690e-088],\n",
       "        [2.20633130e-185, 4.55252066e-088, 1.24937531e-004,\n",
       "         2.49875062e-001],\n",
       "        [2.68396267e-173, 1.49844345e-093, 2.50000000e-001,\n",
       "         1.47315167e-086],\n",
       "        [2.50000000e-001, 1.62506146e-086, 2.18195601e-104,\n",
       "         0.00000000e+000]]),\n",
       " 1000,\n",
       " 1.2964276495864568)"
      ]
     },
     "execution_count": 104,
     "metadata": {},
     "output_type": "execute_result"
    }
   ],
   "source": [
    "sinkhorn_knopp(m,n,c,0.005)"
   ]
  },
  {
   "cell_type": "code",
   "execution_count": null,
   "metadata": {
    "code_folding": [
     6
    ],
    "hidden": true
   },
   "outputs": [],
   "source": [
    "x = np.linspace(0,1,1000)\n",
    "y = np.linspace(1,2,1000)\n",
    "len_x = np.size(x)\n",
    "len_y = np.size(y)\n",
    "\n",
    "c = np.zeros((len_x,len_y))\n",
    "for i in range(len_x):\n",
    "    for j in range(len_y):\n",
    "        c[i,j] = (y[j]-x[i])**2\n",
    "\n",
    "m = np.ones(len_x)/len_x\n",
    "n = np.ones(len_y)/len_y\n",
    "M = len_x\n",
    "N = len_y\n",
    "%timeit -r 1 -n 1 sinkhorn_knopp(m,n,c,0.005)\n",
    "sinkhorn_knopp(m,n,c,0.005)"
   ]
  },
  {
   "cell_type": "code",
   "execution_count": null,
   "metadata": {
    "hidden": true
   },
   "outputs": [],
   "source": [
    "%timeit -r 1 -n 1 sinkhorn_knopp(m,n,c,0.005)"
   ]
  },
  {
   "cell_type": "code",
   "execution_count": null,
   "metadata": {
    "hidden": true
   },
   "outputs": [],
   "source": [
    "%timeit -r 1 -n 1 generalised_forward_backward(c,m,n,1000)"
   ]
  },
  {
   "cell_type": "code",
   "execution_count": null,
   "metadata": {
    "hidden": true
   },
   "outputs": [],
   "source": [
    "%timeit -r 1 -n 1 primal_dual(c,m,n,1000)"
   ]
  },
  {
   "cell_type": "markdown",
   "metadata": {
    "heading_collapsed": true
   },
   "source": [
    "## Dual Entropic Regularisation\n"
   ]
  },
  {
   "cell_type": "code",
   "execution_count": null,
   "metadata": {
    "code_folding": [
     3
    ],
    "hidden": true
   },
   "outputs": [],
   "source": [
    "from scipy.optimize import fmin_l_bfgs_b\n",
    "\"https://github.com/PythonOT/POT/blob/master/ot/bregman.py\"\n",
    "def screenkhorn(a, b, M, reg, ns_budget=None, nt_budget=None, uniform=False, restricted=True,\n",
    "                maxiter=10000, maxfun=10000, pgtol=1e-09, verbose=False, log=False):\n",
    "    r\"\"\"\"\n",
    "    Screening Sinkhorn Algorithm for Regularized Optimal Transport\n",
    "    The function solves an approximate dual of Sinkhorn divergence [2] which is written as the following optimization problem:\n",
    "    ..math::\n",
    "      (u, v) = \\argmin_{u, v} 1_{ns}^T B(u,v) 1_{nt} - <\\kappa u, a> - <v/\\kappa, b>\n",
    "      where B(u,v) = \\diag(e^u) K \\diag(e^v), with K = e^{-M/reg} and\n",
    "      s.t. e^{u_i} \\geq \\epsilon / \\kappa, for all i \\in {1, ..., ns}\n",
    "           e^{v_j} \\geq \\epsilon \\kappa, for all j \\in {1, ..., nt}\n",
    "      The parameters \\kappa and \\epsilon are determined w.r.t the couple number budget of points (ns_budget, nt_budget), see Equation (5) in [26]\n",
    "    Parameters\n",
    "    ----------\n",
    "    a : `numpy.ndarray`, shape=(ns,)\n",
    "        samples weights in the source domain\n",
    "    b : `numpy.ndarray`, shape=(nt,)\n",
    "        samples weights in the target domain\n",
    "    M : `numpy.ndarray`, shape=(ns, nt)\n",
    "        Cost matrix\n",
    "    reg : `float`\n",
    "        Level of the entropy regularisation\n",
    "    ns_budget : `int`, deafult=None\n",
    "        Number budget of points to be keeped in the source domain\n",
    "        If it is None then 50% of the source sample points will be keeped\n",
    "    nt_budget : `int`, deafult=None\n",
    "        Number budget of points to be keeped in the target domain\n",
    "        If it is None then 50% of the target sample points will be keeped\n",
    "    uniform : `bool`, default=False\n",
    "        If `True`, the source and target distribution are supposed to be uniform, i.e., a_i = 1 / ns and b_j = 1 / nt\n",
    "    restricted : `bool`, default=True\n",
    "         If `True`, a warm-start initialization for the  L-BFGS-B solver\n",
    "         using a restricted Sinkhorn algorithm with at most 5 iterations\n",
    "    maxiter : `int`, default=10000\n",
    "      Maximum number of iterations in LBFGS solver\n",
    "    maxfun : `int`, default=10000\n",
    "      Maximum  number of function evaluations in LBFGS solver\n",
    "    pgtol : `float`, default=1e-09\n",
    "      Final objective function accuracy in LBFGS solver\n",
    "    verbose : `bool`, default=False\n",
    "        If `True`, dispaly informations about the cardinals of the active sets and the paramerters kappa\n",
    "        and epsilon\n",
    "    Dependency\n",
    "    ----------\n",
    "    To gain more efficiency, screenkhorn needs to call the \"Bottleneck\" package (https://pypi.org/project/Bottleneck/)\n",
    "    in the screening pre-processing step. If Bottleneck isn't installed, the following error message appears:\n",
    "    \"Bottleneck module doesn't exist. Install it from https://pypi.org/project/Bottleneck/\"\n",
    "    Returns\n",
    "    -------\n",
    "    gamma : `numpy.ndarray`, shape=(ns, nt)\n",
    "        Screened optimal transportation matrix for the given parameters\n",
    "    log : `dict`, default=False\n",
    "      Log dictionary return only if log==True in parameters\n",
    "    References\n",
    "    -----------\n",
    "    .. [26] Alaya M. Z., Bérar M., Gasso G., Rakotomamonjy A. (2019). Screening Sinkhorn Algorithm for Regularized Optimal Transport (NIPS) 33, 2019\n",
    "    \"\"\"\n",
    "    # check if bottleneck module exists\n",
    "    try:\n",
    "        import bottleneck\n",
    "    except ImportError:\n",
    "        warnings.warn(\n",
    "            \"Bottleneck module is not installed. Install it from https://pypi.org/project/Bottleneck/ for better performance.\")\n",
    "        bottleneck = np\n",
    "\n",
    "    a = np.asarray(a, dtype=np.float64)\n",
    "    b = np.asarray(b, dtype=np.float64)\n",
    "    M = np.asarray(M, dtype=np.float64)\n",
    "    ns, nt = M.shape\n",
    "\n",
    "    # by default, we keep only 50% of the sample data points\n",
    "    if ns_budget is None:\n",
    "        ns_budget = int(np.floor(0.5 * ns))\n",
    "    if nt_budget is None:\n",
    "        nt_budget = int(np.floor(0.5 * nt))\n",
    "\n",
    "    # calculate the Gibbs kernel\n",
    "    K = np.empty_like(M)\n",
    "    np.divide(M, -reg, out=K)\n",
    "    np.exp(K, out=K)\n",
    "\n",
    "    def projection(u, epsilon):\n",
    "        u[u <= epsilon] = epsilon\n",
    "        return u\n",
    "\n",
    "    # ----------------------------------------------------------------------------------------------------------------#\n",
    "    #                                          Step 1: Screening pre-processing                                       #\n",
    "    # ----------------------------------------------------------------------------------------------------------------#\n",
    "\n",
    "    if ns_budget == ns and nt_budget == nt:\n",
    "        # full number of budget points (ns, nt) = (ns_budget, nt_budget)\n",
    "        Isel = np.ones(ns, dtype=bool)\n",
    "        Jsel = np.ones(nt, dtype=bool)\n",
    "        epsilon = 0.0\n",
    "        kappa = 1.0\n",
    "\n",
    "        cst_u = 0.\n",
    "        cst_v = 0.\n",
    "\n",
    "        bounds_u = [(0.0, np.inf)] * ns\n",
    "        bounds_v = [(0.0, np.inf)] * nt\n",
    "\n",
    "        a_I = a\n",
    "        b_J = b\n",
    "        K_IJ = K\n",
    "        K_IJc = []\n",
    "        K_IcJ = []\n",
    "\n",
    "        vec_eps_IJc = np.zeros(nt)\n",
    "        vec_eps_IcJ = np.zeros(ns)\n",
    "\n",
    "    else:\n",
    "        # sum of rows and columns of K\n",
    "        K_sum_cols = K.sum(axis=1)\n",
    "        K_sum_rows = K.sum(axis=0)\n",
    "\n",
    "        if uniform:\n",
    "            if ns / ns_budget < 4:\n",
    "                aK_sort = np.sort(K_sum_cols)\n",
    "                epsilon_u_square = a[0] / aK_sort[ns_budget - 1]\n",
    "            else:\n",
    "                aK_sort = bottleneck.partition(K_sum_cols, ns_budget - 1)[ns_budget - 1]\n",
    "                epsilon_u_square = a[0] / aK_sort\n",
    "\n",
    "            if nt / nt_budget < 4:\n",
    "                bK_sort = np.sort(K_sum_rows)\n",
    "                epsilon_v_square = b[0] / bK_sort[nt_budget - 1]\n",
    "            else:\n",
    "                bK_sort = bottleneck.partition(K_sum_rows, nt_budget - 1)[nt_budget - 1]\n",
    "                epsilon_v_square = b[0] / bK_sort\n",
    "        else:\n",
    "            aK = a / K_sum_cols\n",
    "            bK = b / K_sum_rows\n",
    "\n",
    "            aK_sort = np.sort(aK)[::-1]\n",
    "            epsilon_u_square = aK_sort[ns_budget - 1]\n",
    "\n",
    "            bK_sort = np.sort(bK)[::-1]\n",
    "            epsilon_v_square = bK_sort[nt_budget - 1]\n",
    "\n",
    "        # active sets I and J (see Lemma 1 in [26])\n",
    "        Isel = a >= epsilon_u_square * K_sum_cols\n",
    "        Jsel = b >= epsilon_v_square * K_sum_rows\n",
    "\n",
    "        if sum(Isel) != ns_budget:\n",
    "            if uniform:\n",
    "                aK = a / K_sum_cols\n",
    "                aK_sort = np.sort(aK)[::-1]\n",
    "            epsilon_u_square = aK_sort[ns_budget - 1:ns_budget + 1].mean()\n",
    "            Isel = a >= epsilon_u_square * K_sum_cols\n",
    "            ns_budget = sum(Isel)\n",
    "\n",
    "        if sum(Jsel) != nt_budget:\n",
    "            if uniform:\n",
    "                bK = b / K_sum_rows\n",
    "                bK_sort = np.sort(bK)[::-1]\n",
    "            epsilon_v_square = bK_sort[nt_budget - 1:nt_budget + 1].mean()\n",
    "            Jsel = b >= epsilon_v_square * K_sum_rows\n",
    "            nt_budget = sum(Jsel)\n",
    "\n",
    "        epsilon = (epsilon_u_square * epsilon_v_square) ** (1 / 4)\n",
    "        kappa = (epsilon_v_square / epsilon_u_square) ** (1 / 2)\n",
    "\n",
    "        if verbose:\n",
    "            print(\"epsilon = %s\\n\" % epsilon)\n",
    "            print(\"kappa = %s\\n\" % kappa)\n",
    "            print('Cardinality of selected points: |Isel| = %s \\t |Jsel| = %s \\n' % (sum(Isel), sum(Jsel)))\n",
    "\n",
    "        # Ic, Jc: complementary of the active sets I and J\n",
    "        Ic = ~Isel\n",
    "        Jc = ~Jsel\n",
    "\n",
    "        K_IJ = K[np.ix_(Isel, Jsel)]\n",
    "        K_IcJ = K[np.ix_(Ic, Jsel)]\n",
    "        K_IJc = K[np.ix_(Isel, Jc)]\n",
    "\n",
    "        K_min = K_IJ.min()\n",
    "        if K_min == 0:\n",
    "            K_min = np.finfo(float).tiny\n",
    "\n",
    "        # a_I, b_J, a_Ic, b_Jc\n",
    "        a_I = a[Isel]\n",
    "        b_J = b[Jsel]\n",
    "        if not uniform:\n",
    "            a_I_min = a_I.min()\n",
    "            a_I_max = a_I.max()\n",
    "            b_J_max = b_J.max()\n",
    "            b_J_min = b_J.min()\n",
    "        else:\n",
    "            a_I_min = a_I[0]\n",
    "            a_I_max = a_I[0]\n",
    "            b_J_max = b_J[0]\n",
    "            b_J_min = b_J[0]\n",
    "\n",
    "        # box constraints in L-BFGS-B (see Proposition 1 in [26])\n",
    "        bounds_u = [(max(a_I_min / ((nt - nt_budget) * epsilon + nt_budget * (b_J_max / (\n",
    "                    ns * epsilon * kappa * K_min))), epsilon / kappa), a_I_max / (nt * epsilon * K_min))] * ns_budget\n",
    "\n",
    "        bounds_v = [(\n",
    "            max(b_J_min / ((ns - ns_budget) * epsilon + ns_budget * (kappa * a_I_max / (nt * epsilon * K_min))),\n",
    "                epsilon * kappa), b_J_max / (ns * epsilon * K_min))] * nt_budget\n",
    "\n",
    "        # pre-calculated constants for the objective\n",
    "        vec_eps_IJc = epsilon * kappa * (K_IJc * np.ones(nt - nt_budget).reshape((1, -1))).sum(axis=1)\n",
    "        vec_eps_IcJ = (epsilon / kappa) * (np.ones(ns - ns_budget).reshape((-1, 1)) * K_IcJ).sum(axis=0)\n",
    "\n",
    "    # initialisation\n",
    "    u0 = np.full(ns_budget, (1. / ns_budget) + epsilon / kappa)\n",
    "    v0 = np.full(nt_budget, (1. / nt_budget) + epsilon * kappa)\n",
    "\n",
    "    # pre-calculed constants for Restricted Sinkhorn (see Algorithm 1 in supplementary of [26])\n",
    "    if restricted:\n",
    "        if ns_budget != ns or nt_budget != nt:\n",
    "            cst_u = kappa * epsilon * K_IJc.sum(axis=1)\n",
    "            cst_v = epsilon * K_IcJ.sum(axis=0) / kappa\n",
    "\n",
    "        cpt = 1\n",
    "        while cpt < 5:  # 5 iterations\n",
    "            K_IJ_v = np.dot(K_IJ.T, u0) + cst_v\n",
    "            v0 = b_J / (kappa * K_IJ_v)\n",
    "            KIJ_u = np.dot(K_IJ, v0) + cst_u\n",
    "            u0 = (kappa * a_I) / KIJ_u\n",
    "            cpt += 1\n",
    "\n",
    "        u0 = projection(u0, epsilon / kappa)\n",
    "        v0 = projection(v0, epsilon * kappa)\n",
    "\n",
    "    else:\n",
    "        u0 = u0\n",
    "        v0 = v0\n",
    "\n",
    "    def restricted_sinkhorn(usc, vsc, max_iter=5):\n",
    "        \"\"\"\n",
    "        Restricted Sinkhorn Algorithm as a warm-start initialized point for L-BFGS-B (see Algorithm 1 in supplementary of [26])\n",
    "        \"\"\"\n",
    "        cpt = 1\n",
    "        while cpt < max_iter:\n",
    "            K_IJ_v = np.dot(K_IJ.T, usc) + cst_v\n",
    "            vsc = b_J / (kappa * K_IJ_v)\n",
    "            KIJ_u = np.dot(K_IJ, vsc) + cst_u\n",
    "            usc = (kappa * a_I) / KIJ_u\n",
    "            cpt += 1\n",
    "\n",
    "        usc = projection(usc, epsilon / kappa)\n",
    "        vsc = projection(vsc, epsilon * kappa)\n",
    "\n",
    "        return usc, vsc\n",
    "\n",
    "    def screened_obj(usc, vsc):\n",
    "        part_IJ = np.dot(np.dot(usc, K_IJ), vsc) - kappa * np.dot(a_I, np.log(usc)) - (1. / kappa) * np.dot(b_J,\n",
    "                                                                                                            np.log(vsc))\n",
    "        part_IJc = np.dot(usc, vec_eps_IJc)\n",
    "        part_IcJ = np.dot(vec_eps_IcJ, vsc)\n",
    "        psi_epsilon = part_IJ + part_IJc + part_IcJ\n",
    "        return psi_epsilon\n",
    "\n",
    "    def screened_grad(usc, vsc):\n",
    "        # gradients of Psi_(kappa,epsilon) w.r.t u and v\n",
    "        grad_u = np.dot(K_IJ, vsc) + vec_eps_IJc - kappa * a_I / usc\n",
    "        grad_v = np.dot(K_IJ.T, usc) + vec_eps_IcJ - (1. / kappa) * b_J / vsc\n",
    "        return grad_u, grad_v\n",
    "\n",
    "    def bfgspost(theta):\n",
    "        u = theta[:ns_budget]\n",
    "        v = theta[ns_budget:]\n",
    "        # objective\n",
    "        f = screened_obj(u, v)\n",
    "        # gradient\n",
    "        g_u, g_v = screened_grad(u, v)\n",
    "        g = np.hstack([g_u, g_v])\n",
    "        return f, g\n",
    "\n",
    "    # ----------------------------------------------------------------------------------------------------------------#\n",
    "    #                                           Step 2: L-BFGS-B solver                                              #\n",
    "    # ----------------------------------------------------------------------------------------------------------------#\n",
    "\n",
    "    u0, v0 = restricted_sinkhorn(u0, v0)\n",
    "    theta0 = np.hstack([u0, v0])\n",
    "\n",
    "    bounds = bounds_u + bounds_v  # constraint bounds\n",
    "\n",
    "    def obj(theta):\n",
    "        return bfgspost(theta)\n",
    "\n",
    "    theta, _, _ = fmin_l_bfgs_b(func=obj,\n",
    "                                x0=theta0,\n",
    "                                bounds=bounds,\n",
    "                                maxfun=maxfun,\n",
    "                                pgtol=pgtol,\n",
    "                                maxiter=maxiter)\n",
    "\n",
    "    usc = theta[:ns_budget] #dual variables u and v.\n",
    "    vsc = theta[ns_budget:]\n",
    "\n",
    "    usc_full = np.full(ns, epsilon / kappa)\n",
    "    vsc_full = np.full(nt, epsilon * kappa)\n",
    "    usc_full[Isel] = usc\n",
    "    vsc_full[Jsel] = vsc\n",
    "    \n",
    "    #u = e^{f/reg} \n",
    "    f = np.log(usc)*reg\n",
    "    g = np.log(vsc)*reg\n",
    "    \n",
    "    \n",
    "    \n",
    "    if log:\n",
    "        log = {}\n",
    "        log['u'] = usc_full\n",
    "        log['v'] = vsc_full\n",
    "        log['Isel'] = Isel\n",
    "        log['Jsel'] = Jsel\n",
    "\n",
    "    gamma = usc_full[:, None] * K * vsc_full[None, :]\n",
    "    gamma = gamma / gamma.sum()\n",
    "\n",
    "    if log:\n",
    "        return gamma, log\n",
    "    else:\n",
    "        return gamma, f, g"
   ]
  },
  {
   "cell_type": "code",
   "execution_count": null,
   "metadata": {
    "hidden": true
   },
   "outputs": [],
   "source": [
    "#NOT WORKING"
   ]
  },
  {
   "cell_type": "code",
   "execution_count": null,
   "metadata": {
    "code_folding": [
     4
    ],
    "hidden": true
   },
   "outputs": [],
   "source": [
    "M = 4                  \n",
    "N = 4\n",
    "m = 0.25*np.ones(M)\n",
    "n = 0.25*np.ones(N)\n",
    "c = np.array([[3.10112791, 2.01924761, 2.        , 2.01924761],\n",
    "     [3.10112791, 3.        , 1.16637984, 1.        ],\n",
    "     [3.        , 3.10112791, 1.16637984, 2.01924761],\n",
    "     [1.        , 3.        , 2.33275967, 4.22075809]])"
   ]
  },
  {
   "cell_type": "code",
   "execution_count": null,
   "metadata": {
    "hidden": true
   },
   "outputs": [],
   "source": [
    "x = screenkhorn(m,n,c,0.005,ns_budget = M,nt_budget = N)\n",
    "print(x)"
   ]
  },
  {
   "cell_type": "code",
   "execution_count": null,
   "metadata": {
    "hidden": true
   },
   "outputs": [],
   "source": [
    "x = sinkhorn_knopp(m,n,c,0.005)\n",
    "print(x)"
   ]
  },
  {
   "cell_type": "markdown",
   "metadata": {
    "heading_collapsed": true
   },
   "source": [
    "## Initial Guess Primal Dual"
   ]
  },
  {
   "cell_type": "code",
   "execution_count": null,
   "metadata": {
    "code_folding": [
     0
    ],
    "hidden": true
   },
   "outputs": [],
   "source": [
    "#@jit(nopython=True, fastmath = True)#, parallel = True)\n",
    "def primal_dual_ER_init(c,m,n,tau,iters,x,y_1,y_2):\n",
    "    #Algorithm for calculating solution x, in the primal space\n",
    "    #and y_1, y_2 in the dual space.\n",
    "    #Also returns the value of the objective function c*x at each\n",
    "    #iteration.\n",
    "    \n",
    "    #Initialise tau\n",
    "    #tau = 0.0001\n",
    "    \n",
    "    #Initialise sigma\n",
    "    sig = 1/(tau*2) - 0.5\n",
    "    \n",
    "    #fetch lengths of m and n.\n",
    "    N = n.size\n",
    "    M = m.size\n",
    "    \n",
    "#     #Initialise x\n",
    "#     x = np.zeros((M,N))\n",
    "#     x[:,0] = m\n",
    "#     x[0,:] = n\n",
    "#     x[0,0] = 0.5*(m[-1] + n[-1])\n",
    "    \n",
    "#     #Initialise y_1 and y_2\n",
    "#     y_1 = zeros((M,N))\n",
    "#     y_2 = zeros((M,N))\n",
    "    \n",
    "#     y_1[0,:] = n\n",
    "#     y_2[:,0] = m\n",
    "    \n",
    "    #Save that objective function\n",
    "    obj = [np.sum(np.multiply(c,x))]\n",
    "    \n",
    "    \n",
    "    for k in range(iters):\n",
    "        #update x\n",
    "        xnew = x - tau*c - tau * (y_1 + y_2)\n",
    "        \n",
    "        #matrices for projection over the simplex C_1^m and the simplex C_2^n.\n",
    "        γ_1 = (1/sig)*y_1 + 2*xnew - x\n",
    "        γ_2 = (1/sig)*y_2 + 2*xnew - x\n",
    "        \n",
    "        \n",
    "        x_1 = zeros_like(γ_1)\n",
    "        for i in range(M):\n",
    "            x_1[i] = CondatP_c(γ_1[i],x_1[i],m[i],N)\n",
    "        \n",
    "        x_2 = zeros_like(γ_2)\n",
    "        for i in range(N):\n",
    "            x_2[:,i] = CondatP_c(γ_2[:,i],x_2[:,i],n[i],M)\n",
    "            \n",
    "        \n",
    "        #update x using the projection over the simplex C_1^m\n",
    "        y_1new = y_1 + sig*(2*xnew - x) - sig*x_1\n",
    "  \n",
    "        #update x using the projection over the simplex C_2^n\n",
    "        y_2new = y_2 + sig*(2*xnew - x) - sig*x_2\n",
    "        \n",
    "        #Reset x,y_1, y_2 for the next iteration\n",
    "        x = xnew\n",
    "        y_1 = y_1new\n",
    "        y_2 = y_2new\n",
    "        \n",
    "        #update objective function\n",
    "        obj.append(np.sum(np.multiply(c,x)))\n",
    "        \n",
    "    return x,obj"
   ]
  },
  {
   "cell_type": "code",
   "execution_count": null,
   "metadata": {
    "hidden": true
   },
   "outputs": [],
   "source": [
    "x = sinkhorn_knopp(m,n,c,0.005)[0]\n",
    "print(x)\n",
    "print(c)\n",
    "[gam,f,g] = screenkhorn(m,n,c,0.005,ns_budget = M,nt_budget = N)\n"
   ]
  },
  {
   "cell_type": "code",
   "execution_count": null,
   "metadata": {
    "hidden": true
   },
   "outputs": [],
   "source": [
    "[x,obj] = primal_dual_ER_init(c,m,n,0.01,100,x,f,g)\n",
    "plt.plot(obj)\n",
    "print(obj[-1])\n",
    "print(x)"
   ]
  },
  {
   "cell_type": "code",
   "execution_count": null,
   "metadata": {
    "hidden": true
   },
   "outputs": [],
   "source": [
    "[x,obj] = primal_dual(c,m,n,100)\n",
    "plt.plot(obj)\n",
    "print(obj[-1])\n",
    "print(x)"
   ]
  },
  {
   "cell_type": "code",
   "execution_count": null,
   "metadata": {
    "code_folding": [
     7,
     8
    ],
    "hidden": true
   },
   "outputs": [],
   "source": [
    "tau = 0.0001\n",
    "x = np.linspace(0,1,1000)\n",
    "y = np.linspace(1,2,1000)\n",
    "len_x = np.size(x)\n",
    "len_y = np.size(y)\n",
    "\n",
    "c = np.zeros((len_x,len_y))\n",
    "for i in range(len_x):\n",
    "    for j in range(len_y):\n",
    "        c[i,j] = (y[j]-x[i])**2\n",
    "\n",
    "m = np.ones(len_x)/len_x\n",
    "n = np.ones(len_y)/len_y\n",
    "M = len_x\n",
    "N = len_y\n",
    "\n",
    "t = time.time()\n",
    "[x,obj] = primal_dual(c,m,n,500)\n",
    "elapsed = time.time() - t\n",
    "print('Time taken for Primal Dual =', elapsed)\n",
    "plt.plot(obj)\n",
    "print(obj[-1])"
   ]
  },
  {
   "cell_type": "code",
   "execution_count": null,
   "metadata": {
    "code_folding": [
     7
    ],
    "hidden": true
   },
   "outputs": [],
   "source": [
    "tau = 0.0001\n",
    "x = np.linspace(0,1,1000)\n",
    "y = np.linspace(1,2,1000)\n",
    "len_x = np.size(x)\n",
    "len_y = np.size(y)\n",
    "\n",
    "c = np.zeros((len_x,len_y))\n",
    "for i in range(len_x):\n",
    "    for j in range(len_y):\n",
    "        c[i,j] = (y[j]-x[i])**2\n",
    "\n",
    "m = np.ones(len_x)/len_x\n",
    "n = np.ones(len_y)/len_y\n",
    "M = len_x\n",
    "N = len_y\n",
    "\n",
    "t = time.time()\n",
    "x = sinkhorn_knopp(m,n,c,0.005)[0]\n",
    "[gam,f,g] = screenkhorn(m,n,c,0.005,ns_budget = M,nt_budget = N)\n",
    "[x,obj] = primal_dual_ER_init(c,m,n,tau,500,x,f,g)\n",
    "elapsed = time.time() - t\n",
    "print('Time taken for Primal Dual with Initialisation =', elapsed)\n",
    "plt.plot(obj)\n",
    "print(obj[-1])"
   ]
  },
  {
   "cell_type": "markdown",
   "metadata": {},
   "source": [
    "## DOTmark test"
   ]
  },
  {
   "cell_type": "markdown",
   "metadata": {
    "heading_collapsed": true
   },
   "source": [
    "### Primal-Dual"
   ]
  },
  {
   "cell_type": "code",
   "execution_count": 111,
   "metadata": {
    "hidden": true
   },
   "outputs": [
    {
     "name": "stdout",
     "output_type": "stream",
     "text": [
      "0.016271821448840366  True solution objective.\n",
      "1 within true objective in  0.0015780925750732422  seconds.  Iteration  0 . Distance to true sol  0.11369738632194233\n",
      "0.1 within true objective in  0.023196935653686523  seconds.  Iteration  30 . Distance to true sol  0.10657842238558869\n",
      "0.010000000000000002 within true objective in  0.6488473415374756  seconds.  Iteration  1172 . Distance to true sol  0.07941070303186136\n",
      "0.0010000000000000002 within true objective in  3.9390032291412354  seconds.  Iteration  7186 . Distance to true sol  0.04616465691490867\n",
      "0.00010000000000000003 within true objective in  8.759803295135498  seconds.  Iteration  16279 . Distance to true sol  0.03716392068356746\n",
      "1.0000000000000004e-05 within true objective in  11.20171332359314  seconds.  Iteration  20907 . Distance to true sol  0.0358711820872611\n",
      "1.0000000000000004e-06 within true objective in  11.507833242416382  seconds.  Iteration  21467 . Distance to true sol  0.035764858478414305\n",
      "1.0000000000000005e-07 within true objective in  11.53851842880249  seconds.  Iteration  21523 . Distance to true sol  0.03575499225854974\n",
      "Close to true sol break\n",
      "11.5386962890625  - total time in seconds.\n",
      "11.538727521896362  - total time in seconds.\n"
     ]
    },
    {
     "data": {
      "image/png": "[encoded data removed]",
      "text/plain": [
       "<Figure size 432x288 with 1 Axes>"
      ]
     },
     "metadata": {
      "needs_background": "light"
     },
     "output_type": "display_data"
    }
   ],
   "source": [
    "x, obj, critical_objsPD = primal_dual(c,m,n, 100000, true_obj_tol = 1e-7, true_solution = sol, save_iter = True)\n",
    "plt.plot(obj); plt.title(obj[-1]); plt.show()"
   ]
  },
  {
   "cell_type": "code",
   "execution_count": 112,
   "metadata": {
    "hidden": true
   },
   "outputs": [
    {
     "data": {
      "image/png": "[encoded data removed]",
      "text/plain": [
       "<Figure size 432x288 with 1 Axes>"
      ]
     },
     "metadata": {
      "needs_background": "light"
     },
     "output_type": "display_data"
    }
   ],
   "source": [
    "plt.imshow((x * c)[:50,:50]);  plt.axis('off');  plt.show()"
   ]
  },
  {
   "cell_type": "markdown",
   "metadata": {
    "heading_collapsed": true
   },
   "source": [
    "### Forward-Backward"
   ]
  },
  {
   "cell_type": "code",
   "execution_count": 67,
   "metadata": {
    "hidden": true
   },
   "outputs": [
    {
     "name": "stdout",
     "output_type": "stream",
     "text": [
      "0.016271821448840366  True solution objective.\n",
      "1 within true objective in  0.034249305725097656  seconds.  Iteration  0 . Distance to true sol  0.11144435948814733\n",
      "0.1 within true objective in  0.18880009651184082  seconds.  Iteration  33 . Distance to true sol  0.10665663871749416\n",
      "0.010000000000000002 within true objective in  3.196972608566284  seconds.  Iteration  1135 . Distance to true sol  0.07985909172195577\n",
      "0.0010000000000000002 within true objective in  17.596246480941772  seconds.  Iteration  6418 . Distance to true sol  0.048051603157139806\n",
      "0.00010000000000000003 within true objective in  33.82150650024414  seconds.  Iteration  10845 . Distance to true sol  0.04043549721258275\n",
      "1.0000000000000004e-05 within true objective in  37.27851390838623  seconds.  Iteration  11863 . Distance to true sol  0.03950483257574582\n",
      "1.0000000000000004e-06 within true objective in  37.51330590248108  seconds.  Iteration  11934 . Distance to true sol  0.039447883546788985\n",
      "Close to true sol break\n",
      "37.51354360580444  - total time in seconds.\n"
     ]
    },
    {
     "data": {
      "image/png": "[encoded data removed]",
      "text/plain": [
       "<Figure size 432x288 with 1 Axes>"
      ]
     },
     "metadata": {
      "needs_background": "light"
     },
     "output_type": "display_data"
    }
   ],
   "source": [
    "x, obj, critical_objsFB = forward_backward(c,m,n,100000, collect_obj = True, true_obj_tol = 1e-7, true_solution = sol, save_iter = True)\n",
    "plt.plot(obj); plt.title(obj[-1]); plt.show()"
   ]
  },
  {
   "cell_type": "code",
   "execution_count": 68,
   "metadata": {
    "hidden": true
   },
   "outputs": [
    {
     "data": {
      "image/png": "[encoded data removed]",
      "text/plain": [
       "<Figure size 432x288 with 1 Axes>"
      ]
     },
     "metadata": {
      "needs_background": "light"
     },
     "output_type": "display_data"
    }
   ],
   "source": [
    "plt.imshow((x * c)[:50,:50]);  plt.axis('off');  plt.show()"
   ]
  },
  {
   "cell_type": "markdown",
   "metadata": {
    "heading_collapsed": true
   },
   "source": [
    "## Entropic Regularisation\n"
   ]
  },
  {
   "cell_type": "code",
   "execution_count": 135,
   "metadata": {
    "hidden": true
   },
   "outputs": [
    {
     "name": "stdout",
     "output_type": "stream",
     "text": [
      "0.011888617575183159  True solution objective.\n",
      "1 within true objective in  0.0018417835235595703  seconds.  Iteration  0 . Distance to true sol  0.09611785373929048\n",
      "0.1 within true objective in  0.00557398796081543  seconds.  Iteration  1 . Distance to true sol  0.09604932245078243\n",
      "0.010000000000000002 within true objective in  0.019190311431884766  seconds.  Iteration  11 . Distance to true sol  0.07239737438814131\n",
      "0.0010000000000000002 within true objective in  0.7172794342041016  seconds.  Iteration  737 . Distance to true sol  0.02680892922235222\n",
      "0.00010000000000000003 within true objective in  2.343034029006958  seconds.  Iteration  2462 . Distance to true sol  0.02278902212881377\n",
      "1.0000000000000004e-05 within true objective in  3.2051994800567627  seconds.  Iteration  3391 . Distance to true sol  0.022728914478475633\n",
      "1.0000000000000004e-06 within true objective in  3.8069937229156494  seconds.  Iteration  4036 . Distance to true sol  0.022729264775507893\n",
      "1.0000000000000005e-07 within true objective in  4.030900239944458  seconds.  Iteration  4270 . Distance to true sol  0.022729348160580663\n",
      "Close to true sol break\n"
     ]
    },
    {
     "data": {
      "text/plain": [
       "(array([[1.25145695e-03, 4.75511444e-11, 7.48932958e-20, ...,\n",
       "         0.00000000e+00, 0.00000000e+00, 0.00000000e+00],\n",
       "        [1.26358764e-03, 2.52430146e-03, 2.09032578e-04, ...,\n",
       "         0.00000000e+00, 0.00000000e+00, 0.00000000e+00],\n",
       "        [2.99585375e-18, 3.14664136e-10, 1.36996917e-03, ...,\n",
       "         0.00000000e+00, 0.00000000e+00, 0.00000000e+00],\n",
       "        ...,\n",
       "        [0.00000000e+00, 0.00000000e+00, 0.00000000e+00, ...,\n",
       "         2.50492197e-12, 1.78017249e-27, 1.00591694e-42],\n",
       "        [0.00000000e+00, 0.00000000e+00, 0.00000000e+00, ...,\n",
       "         4.62345427e-04, 1.72752857e-11, 5.13234763e-19],\n",
       "        [0.00000000e+00, 0.00000000e+00, 0.00000000e+00, ...,\n",
       "         2.57818100e-04, 5.06480659e-04, 7.91123856e-04]]),\n",
       " 4270,\n",
       " 0.011888519848330965)"
      ]
     },
     "execution_count": 135,
     "metadata": {},
     "output_type": "execute_result"
    }
   ],
   "source": [
    "sinkhorn_knopp(m,n,c,0.0005,collect_obj = True, numItermax=100000,true_obj_tol = 1e-7, true_solution = sol, save_iter = True)"
   ]
  },
  {
   "cell_type": "markdown",
   "metadata": {
    "heading_collapsed": true
   },
   "source": [
    "## Plot the critical timing"
   ]
  },
  {
   "cell_type": "code",
   "execution_count": null,
   "metadata": {
    "hidden": true
   },
   "outputs": [],
   "source": [
    "plt.figure(figsize = (10,8))\n",
    "\n",
    "plt.plot([x[1] for x in critical_objsGFP], label = \"Generalised FB\")\n",
    "plt.plot([2.699, 4.214, 33.703, 1472.609, 13224.280, 36507.167], label = \"Primal-Dual\")\n",
    "plt.plot([9.899, 122.328, 256.376])\n",
    "plt.yscale(\"log\")\n",
    "plt.xticks(np.arange(6), ['$10^{0}$','$10^{-1}$', '$10^{-2}$', '$10^{-3}$', '$10^{-4}$', '$10^{-5}$'])\n",
    "plt.xlabel(\"Tolerance Achieved\")\n",
    "plt.ylabel(\"Time in Seconds\")\n",
    "\n",
    "plt.legend()\n",
    "plt.savefig('GFP-PDG_tol.jpeg')\n",
    "plt.show()"
   ]
  },
  {
   "cell_type": "code",
   "execution_count": 85,
   "metadata": {
    "hidden": true
   },
   "outputs": [
    {
     "data": {
      "text/plain": [
       "array([[1.00000000e+00, 9.96351242e-04, 0.00000000e+00, 1.13697386e-01],\n",
       "       [1.00000000e-01, 2.52659321e-02, 3.00000000e+01, 1.06578422e-01],\n",
       "       [1.00000000e-02, 6.47943020e-01, 1.17200000e+03, 7.94107030e-02],\n",
       "       [1.00000000e-03, 3.87850380e+00, 7.18600000e+03, 4.61646569e-02],\n",
       "       [1.00000000e-04, 8.74675703e+00, 1.62790000e+04, 3.71639207e-02],\n",
       "       [1.00000000e-05, 1.11636462e+01, 2.09070000e+04, 3.58711821e-02],\n",
       "       [1.00000000e-06, 1.14591994e+01, 2.14670000e+04, 3.57648585e-02],\n",
       "       [1.00000000e-07, 1.14887414e+01, 2.15230000e+04, 3.57549923e-02],\n",
       "       [1.00000000e-08, 1.14892018e+01, 2.15230000e+04, 3.57549923e-02]])"
      ]
     },
     "execution_count": 85,
     "metadata": {},
     "output_type": "execute_result"
    }
   ],
   "source": [
    "with open('Primal_dual_critical_88.npy', 'rb') as f:\n",
    "    a = np.load(f)\n",
    "a"
   ]
  },
  {
   "cell_type": "code",
   "execution_count": 86,
   "metadata": {
    "hidden": true
   },
   "outputs": [
    {
     "data": {
      "text/plain": [
       "array([[1.43584778e-01, 1.83725357e-03, 0.00000000e+00, 1.13697386e-01],\n",
       "       [2.92488494e-01, 2.55799294e-03, 1.00000000e+00, 1.11164752e-01],\n",
       "       [2.66710199e-01, 3.41773033e-03, 2.00000000e+00, 1.10611085e-01],\n",
       "       ...,\n",
       "       [1.37796617e-07, 1.14872122e+01, 2.15200000e+04, 3.57555215e-02],\n",
       "       [1.21516995e-07, 1.14877274e+01, 2.15210000e+04, 3.57553451e-02],\n",
       "       [1.05232404e-07, 1.14882414e+01, 2.15220000e+04, 3.57551687e-02]])"
      ]
     },
     "execution_count": 86,
     "metadata": {},
     "output_type": "execute_result"
    }
   ],
   "source": [
    "with open('Primal_dual_iter_88.npy', 'rb') as f:\n",
    "    a = np.load(f)\n",
    "a"
   ]
  },
  {
   "cell_type": "code",
   "execution_count": 87,
   "metadata": {
    "hidden": true
   },
   "outputs": [
    {
     "data": {
      "text/plain": [
       "array([[1.00000000e+00, 2.16960907e-03, 0.00000000e+00, 1.56196460e-01],\n",
       "       [1.00000000e-01, 3.39972973e-02, 3.50000000e+01, 1.06225618e-01],\n",
       "       [1.00000000e-02, 6.42854214e-01, 1.17200000e+03, 7.93818124e-02],\n",
       "       [1.00000000e-03, 3.84469318e+00, 7.18600000e+03, 4.61615626e-02],\n",
       "       [1.00000000e-04, 8.62839913e+00, 1.62790000e+04, 3.71608057e-02],\n",
       "       [1.00000000e-05, 1.10150461e+01, 2.09060000e+04, 3.58690528e-02],\n",
       "       [1.00000000e-06, 1.13101611e+01, 2.14660000e+04, 3.57627347e-02],\n",
       "       [1.00000000e-07, 1.13398144e+01, 2.15220000e+04, 3.57528615e-02],\n",
       "       [1.00000000e-08, 1.13399386e+01, 2.15220000e+04, 3.57528615e-02]])"
      ]
     },
     "execution_count": 87,
     "metadata": {},
     "output_type": "execute_result"
    }
   ],
   "source": [
    "with open('GFB_critical_88.npy', 'rb') as f:\n",
    "    a = np.load(f)\n",
    "a"
   ]
  },
  {
   "cell_type": "code",
   "execution_count": 88,
   "metadata": {
    "hidden": true
   },
   "outputs": [
    {
     "data": {
      "text/plain": [
       "array([[6.49445506e-01, 3.42917442e-03, 0.00000000e+00, 1.56196460e-01],\n",
       "       [4.73898126e-01, 5.02133369e-03, 1.00000000e+00, 1.25666284e-01],\n",
       "       [2.91117609e-01, 6.16383553e-03, 2.00000000e+00, 1.11398999e-01],\n",
       "       ...,\n",
       "       [1.38537953e-07, 1.13382876e+01, 2.15190000e+04, 3.57533900e-02],\n",
       "       [1.22297155e-07, 1.13387966e+01, 2.15200000e+04, 3.57532138e-02],\n",
       "       [1.06053386e-07, 1.13393149e+01, 2.15210000e+04, 3.57530376e-02]])"
      ]
     },
     "execution_count": 88,
     "metadata": {},
     "output_type": "execute_result"
    }
   ],
   "source": [
    "with open('GFB_iter_88.npy', 'rb') as f:\n",
    "    a = np.load(f)\n",
    "a"
   ]
  },
  {
   "cell_type": "code",
   "execution_count": 121,
   "metadata": {
    "hidden": true
   },
   "outputs": [
    {
     "data": {
      "text/plain": [
       "array([[1.48328097e-02, 1.32846832e-03, 0.00000000e+00, 1.28077713e-01],\n",
       "       [1.35604529e-02, 3.58891487e-03, 1.00000000e+00, 1.16121552e-01],\n",
       "       [1.16776100e-02, 4.66108322e-03, 2.00000000e+00, 1.02144315e-01],\n",
       "       ...,\n",
       "       [4.07953976e-04, 7.17713833e-02, 8.48000000e+02, 3.76836300e-02],\n",
       "       [4.07953982e-04, 7.18321800e-02, 8.49000000e+02, 3.76836300e-02],\n",
       "       [4.07953988e-04, 7.19130039e-02, 8.50000000e+02, 3.76836300e-02]])"
      ]
     },
     "execution_count": 121,
     "metadata": {},
     "output_type": "execute_result"
    }
   ],
   "source": [
    "with open('ER_iter.npy', 'rb') as f:\n",
    "    a = np.load(f)\n",
    "a"
   ]
  },
  {
   "cell_type": "code",
   "execution_count": 123,
   "metadata": {
    "hidden": true
   },
   "outputs": [
    {
     "data": {
      "text/plain": [
       "array([[1.00000000e+00, 6.62803650e-04, 0.00000000e+00, 1.28077713e-01],\n",
       "       [1.00000000e-01, 2.96306610e-03, 1.00000000e+00, 1.16121552e-01],\n",
       "       [1.00000000e-02, 4.92310524e-03, 4.00000000e+00, 8.55793876e-02],\n",
       "       [1.00000000e-03, 1.29218102e-02, 8.70000000e+01, 4.05786277e-02],\n",
       "       [1.00000000e-04, 1.87706947e-02, 1.43000000e+02, 3.80766144e-02],\n",
       "       [1.00000000e-05, 2.02999115e-02, 1.53000000e+02, 3.79518378e-02]])"
      ]
     },
     "execution_count": 123,
     "metadata": {},
     "output_type": "execute_result"
    }
   ],
   "source": [
    "with open('ER_critical.npy', 'rb') as f:\n",
    "    a = np.load(f)\n",
    "a"
   ]
  },
  {
   "cell_type": "code",
   "execution_count": null,
   "metadata": {
    "hidden": true
   },
   "outputs": [],
   "source": []
  }
 ],
 "metadata": {
  "kernelspec": {
   "display_name": "Python 3",
   "language": "python",
   "name": "python3"
  },
  "language_info": {
   "codemirror_mode": {
    "name": "ipython",
    "version": 3
   },
   "file_extension": ".py",
   "mimetype": "text/x-python",
   "name": "python",
   "nbconvert_exporter": "python",
   "pygments_lexer": "ipython3",
   "version": "3.7.10"
  }
 },
 "nbformat": 4,
 "nbformat_minor": 2
}
