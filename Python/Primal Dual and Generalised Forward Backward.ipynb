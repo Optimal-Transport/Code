{
 "cells": [
  {
   "cell_type": "markdown",
   "metadata": {},
   "source": [
    "# Primal Dual"
   ]
  },
  {
   "cell_type": "markdown",
   "metadata": {},
   "source": [
    "# Projection onto the simplex"
   ]
  },
  {
   "cell_type": "markdown",
   "metadata": {},
   "source": [
    "\n",
    "\n",
    "<div class=\"alert alert-block alert-success\">\n",
    "This notebook implements an algorithm for the projection of a vector $y$ onto the simplex $\\Delta$ with\n",
    "\\begin{align}\n",
    "    \\Delta := \\Big\\{ (x_1,\\ldots,x_N)\\in \\mathbb{R}^N:\\, \\sum_{n=1}^N x_n =a \\quad\\text{and}\\quad x\\geq 0 \\Big\\}.\n",
    "\\end{align}\n",
    "    \n",
    "The implemented algorithm was proposed in: Condat, L. <i>Fast projection onto the simplex and the ℓ<sub>1</sub> ball</i>. Math. Program. 158, 575–585 (2016). [https://doi.org/10.1007/s10107-015-0946-6](https://doi.org/10.1007/s10107-015-0946-6). \n",
    "    \n",
    "The paper is also available at [https://hal.archives-ouvertes.fr/hal-01056171v2](https://hal.archives-ouvertes.fr/hal-01056171v2).\n",
    "</div>"
   ]
  },
  {
   "cell_type": "markdown",
   "metadata": {},
   "source": [
    "<div style=\"background-color:rgba(0, 0, 0, 0.0470588); vertical-align: middle; padding:5px 0; padding-left: 40px;\">\n",
    "<h2 style=\"color: #5e9ca0;\">Condat's Algorithm</h2>\n",
    "<ol>\n",
    "<li>Set $v:= (y_1)$, $u$ as an empty list, $\\rho:= y_1 - a$.</li>\n",
    "<li>For $n \\in \\{2,\\ldots, N\\}$, do\n",
    "<ol>\n",
    "<li>If $y_n > \\rho$\n",
    "<ol>\n",
    "<li>Set $\\rho := \\rho + (y_n - \\rho)/(|v|+1)$.</li>\n",
    "<li>If $\\rho > y_n - a$, add $y_n$ to $v$.</li>\n",
    "<li>Else, add $v$ to $u$, set $v = (y_n)$, $\\rho = y_n -a$.</li>\n",
    "</ol>\n",
    "</li>\n",
    "</ol>\n",
    "</li>\n",
    "<li>If $u$ is not empty, for every element $y$ of $u$, do\n",
    "<ol>\n",
    "<li>If $y > \\rho$, add $y$ to $v$ and set $\\rho := \\rho + (y-\\rho)/|v|$.</li>\n",
    "</ol>\n",
    "</li>\n",
    "<li>Do, while $|v|$ changes,\n",
    "<ol>\n",
    "<li>For every element $y$ of $v$ do\n",
    "<ol>\n",
    "<li>If $y\\leq \\rho$, remove $y$ from $v$ and set $\\rho := \\rho + (\\rho - y)/|v|$.</li>\n",
    "</ol>\n",
    "</li>\n",
    "</ol>\n",
    "</li>\n",
    "<li>Set $\\tau := \\rho$, $K = |v|$.</li>\n",
    "<li>For $n \\in \\{1,\\ldots,N\\}$, set $x_n := \\max \\{y_n - \\tau, 0\\}$.</li>\n",
    "</ol>\n",
    "</div>"
   ]
  },
  {
   "cell_type": "markdown",
   "metadata": {},
   "source": [
    "The algorithm will be tested projecting a random vector $y$ of size $N$ where $y_n \\sim \\mathcal{U}(-1,2)$ for all $n\\in \\{1,\\ldots,N\\}$."
   ]
  },
  {
   "cell_type": "code",
   "execution_count": 1,
   "metadata": {},
   "outputs": [],
   "source": [
    "import numpy as np\n",
    "from numpy import nditer, ndenumerate, zeros, zeros_like, clip, allclose, full, maximum\n",
    "from numpy.random import default_rng as rng"
   ]
  },
  {
   "cell_type": "code",
   "execution_count": 2,
   "metadata": {},
   "outputs": [],
   "source": [
    "N = 1000\n",
    "y = rng(0).uniform(-1,2,N)\n",
    "a = 1.0"
   ]
  },
  {
   "cell_type": "markdown",
   "metadata": {},
   "source": [
    "## List version"
   ]
  },
  {
   "cell_type": "markdown",
   "metadata": {},
   "source": [
    "<div class=\"alert alert-block alert-info\">\n",
    "First implementation is list-based. It sticks to the algorithm above, and thus it cannot take the advantage that $v$ is the list of positive values of $y$, thus requiring the unnecessary triming in Step 6.\n",
    "</div>"
   ]
  },
  {
   "cell_type": "code",
   "execution_count": 3,
   "metadata": {},
   "outputs": [],
   "source": [
    "# Step 1\n",
    "v = [y[0]]\n",
    "u = []\n",
    "ρ = y[0] - a"
   ]
  },
  {
   "cell_type": "code",
   "execution_count": 4,
   "metadata": {
    "code_folding": [
     0
    ]
   },
   "outputs": [],
   "source": [
    "# Step 2\n",
    "for n in range(1,N):\n",
    "    yₙ = y[n]\n",
    "    if yₙ > ρ:\n",
    "        ρ += (yₙ - ρ)/( len(v) + 1 )\n",
    "        if ρ > yₙ - a:\n",
    "            v.append(yₙ)\n",
    "        else:\n",
    "            u.extend(v)\n",
    "            v = [yₙ]\n",
    "            ρ = yₙ - a\n",
    "# Step 3\n",
    "if len(u) > 0:\n",
    "    for ι in iter(u):\n",
    "        if ι > ρ:\n",
    "            v.append(ι)\n",
    "            ρ += (ι - ρ)/( len(v) )\n",
    "# Step 4\n",
    "while True:\n",
    "    ℓ_v = len(v)\n",
    "    for ı in range(ℓ_v - 1, -1, -1):\n",
    "        if v[ı] <= ρ:\n",
    "            ρ += (ρ - v[ı])/(len(v) - 1)\n",
    "            del v[ı]\n",
    "    if len(v) >= ℓ_v:\n",
    "        break"
   ]
  },
  {
   "cell_type": "code",
   "execution_count": 5,
   "metadata": {},
   "outputs": [],
   "source": [
    "x = clip(y - ρ, 0, None)"
   ]
  },
  {
   "cell_type": "code",
   "execution_count": 6,
   "metadata": {},
   "outputs": [
    {
     "data": {
      "text/plain": [
       "array([0.06744738, 0.01832359, 0.06110709, 0.01940269, 0.00520454,\n",
       "       0.06056962, 0.02164565, 0.01061472, 0.04190357, 0.05789789,\n",
       "       0.02130254, 0.0148837 , 0.06684845, 0.05188726, 0.00241651,\n",
       "       0.04805173, 0.0173415 , 0.02582169, 0.03312648, 0.07432163,\n",
       "       0.02410941, 0.01056192, 0.03883018, 0.03691761, 0.05087173,\n",
       "       0.00455268, 0.06171698, 0.05232123])"
      ]
     },
     "execution_count": 6,
     "metadata": {},
     "output_type": "execute_result"
    }
   ],
   "source": [
    "v - ρ"
   ]
  },
  {
   "cell_type": "markdown",
   "metadata": {},
   "source": [
    "## Vectorial version 1"
   ]
  },
  {
   "cell_type": "markdown",
   "metadata": {},
   "source": [
    "<div class=\"alert alert-block alert-info\">\n",
    "The following adaptation introduces some array operations to avoid the extra step of clipping negative numbers. Here $v$ is not a set but a boolean array of the same size as $y$. Its cells determine if a cell of $y$ is active in $v$ or not. In the end, $x$ is computed just on the active cells given by $v$.\n",
    "</div>"
   ]
  },
  {
   "cell_type": "code",
   "execution_count": 7,
   "metadata": {},
   "outputs": [],
   "source": [
    "# Step 1\n",
    "ρ = y[0] - a\n",
    "\n",
    "v = zeros(N, dtype=bool)\n",
    "x = zeros_like(y)\n",
    "u = []\n",
    "v[0] = True"
   ]
  },
  {
   "cell_type": "code",
   "execution_count": 8,
   "metadata": {
    "code_folding": [
     0
    ]
   },
   "outputs": [],
   "source": [
    "# Step 2\n",
    "for n in range(1,N):\n",
    "    yₙ = y[n]\n",
    "    if yₙ > ρ:\n",
    "        ρ += (yₙ - ρ)/( v.sum() + 1 )\n",
    "        if ρ > yₙ - a:\n",
    "            v[n] = True\n",
    "        else:\n",
    "            u.extend([i[0] for i,j in ndenumerate(v) if j])\n",
    "            v *= False;    v[n] = True\n",
    "            ρ = yₙ - a\n",
    "# Step 3\n",
    "if len(u) > 0:\n",
    "    for n in iter(u):\n",
    "        yₙ = y[n]\n",
    "        if yₙ > ρ:\n",
    "            v[n] = True\n",
    "            ρ += (yₙ - ρ)/( v.sum() )\n",
    "# Step 4\n",
    "while True:\n",
    "    ℓ_v = v.sum()\n",
    "    for i,j in ndenumerate(v):\n",
    "        if j:\n",
    "            if y[i[0]] <= ρ:\n",
    "                ρ += (ρ - y[i[0]])/(v.sum() - 1)\n",
    "                v[i[0]] = False\n",
    "    if v.sum() >= ℓ_v:\n",
    "        break"
   ]
  },
  {
   "cell_type": "code",
   "execution_count": 9,
   "metadata": {},
   "outputs": [],
   "source": [
    "x[v] = y[v] - ρ #clip(y[v] - ρ, 0.0, None)"
   ]
  },
  {
   "cell_type": "code",
   "execution_count": 10,
   "metadata": {},
   "outputs": [
    {
     "data": {
      "text/plain": [
       "array([0.06744738, 0.01832359, 0.06110709, 0.01940269, 0.00520454,\n",
       "       0.06056962, 0.02164565, 0.01061472, 0.04190357, 0.05789789,\n",
       "       0.02130254, 0.0148837 , 0.06684845, 0.05188726, 0.00241651,\n",
       "       0.04805173, 0.0173415 , 0.02582169, 0.03312648, 0.07432163,\n",
       "       0.02410941, 0.01056192, 0.03883018, 0.03691761, 0.05087173,\n",
       "       0.00455268, 0.06171698, 0.05232123])"
      ]
     },
     "execution_count": 10,
     "metadata": {},
     "output_type": "execute_result"
    }
   ],
   "source": [
    "x[v]"
   ]
  },
  {
   "cell_type": "markdown",
   "metadata": {},
   "source": [
    "## Vectorial version 2"
   ]
  },
  {
   "cell_type": "markdown",
   "metadata": {},
   "source": [
    "<div class=\"alert alert-block alert-info\">\n",
    "The final implementation takes back the original idea of using lists instead of an array of the same size as $y$. In this case, $v$ does not contain values from $y$ but its indeces. This way a sparse representation of $v$ is achieved and $x$ does not go through a clipping step as well.\n",
    "</div>"
   ]
  },
  {
   "cell_type": "code",
   "execution_count": 11,
   "metadata": {},
   "outputs": [],
   "source": [
    "# Step 1\n",
    "ρ = y[0] - a\n",
    "\n",
    "x = zeros_like(y)\n",
    "v = [0]\n",
    "u = []"
   ]
  },
  {
   "cell_type": "code",
   "execution_count": 12,
   "metadata": {
    "cell_style": "center",
    "code_folding": [
     0
    ]
   },
   "outputs": [],
   "source": [
    "# Step 2\n",
    "for n in range(1,N):\n",
    "    yₙ = y[n]\n",
    "    if yₙ > ρ:\n",
    "        ρ += (yₙ - ρ)/( len(v) + 1 )\n",
    "        if ρ > yₙ - a:\n",
    "            v.append(n)\n",
    "        else:\n",
    "            u.extend(v)\n",
    "            v = [n]\n",
    "            ρ = yₙ - a\n",
    "# Step 3\n",
    "if len(u) > 0:\n",
    "    for n in iter(u):\n",
    "        yₙ = y[n]\n",
    "        if yₙ > ρ:\n",
    "            v.append(n)\n",
    "            ρ += (yₙ - ρ)/( len(v) )\n",
    "# Step 4\n",
    "while True:\n",
    "    ℓ_v = len(v)\n",
    "    for i,j in enumerate(v):\n",
    "        if y[j] <= ρ:\n",
    "            ρ += (ρ - y[j])/(len(v) - 1)\n",
    "            del v[i]\n",
    "    if len(v) >= ℓ_v:\n",
    "        break"
   ]
  },
  {
   "cell_type": "code",
   "execution_count": 13,
   "metadata": {},
   "outputs": [],
   "source": [
    "x[v] = y[v] - ρ #clip(y[v] - ρ, 0.0, None)"
   ]
  },
  {
   "cell_type": "code",
   "execution_count": 14,
   "metadata": {},
   "outputs": [
    {
     "data": {
      "text/plain": [
       "array([0.06744738, 0.01832359, 0.06110709, 0.01940269, 0.00520454,\n",
       "       0.06056962, 0.02164565, 0.01061472, 0.04190357, 0.05789789,\n",
       "       0.02130254, 0.0148837 , 0.06684845, 0.05188726, 0.00241651,\n",
       "       0.04805173, 0.0173415 , 0.02582169, 0.03312648, 0.07432163,\n",
       "       0.02410941, 0.01056192, 0.03883018, 0.03691761, 0.05087173,\n",
       "       0.00455268, 0.06171698, 0.05232123])"
      ]
     },
     "execution_count": 14,
     "metadata": {},
     "output_type": "execute_result"
    }
   ],
   "source": [
    "x[v]"
   ]
  },
  {
   "cell_type": "markdown",
   "metadata": {},
   "source": [
    "---"
   ]
  },
  {
   "cell_type": "markdown",
   "metadata": {},
   "source": [
    "## Performance tests"
   ]
  },
  {
   "cell_type": "markdown",
   "metadata": {},
   "source": [
    "<div class=\"alert alert-block alert-warning\">\n",
    "Now we check which routine is the fastest.\n",
    "</div>"
   ]
  },
  {
   "cell_type": "code",
   "execution_count": 15,
   "metadata": {
    "code_folding": [
     0,
     6,
     17,
     23,
     34,
     43,
     54,
     61,
     74,
     82,
     93,
     100
    ]
   },
   "outputs": [],
   "source": [
    "def CondatP_a(y,a,N):\n",
    "    # Step 1\n",
    "    v = [y[0]]\n",
    "    u = []\n",
    "    ρ = y[0] - a\n",
    "    # Step 2\n",
    "    for n in range(1,N):\n",
    "        yₙ = y[n]\n",
    "        if yₙ > ρ:\n",
    "            ρ += (yₙ - ρ)/( len(v) + 1 )\n",
    "            if ρ > yₙ - a:\n",
    "                v.append(yₙ)\n",
    "            else:\n",
    "                u.extend(v)\n",
    "                v = [yₙ]\n",
    "                ρ = yₙ - a\n",
    "    # Step 3\n",
    "    if len(u) > 0:\n",
    "        for ι in iter(u):\n",
    "            if ι > ρ:\n",
    "                v.append(ι)\n",
    "                ρ += (ι - ρ)/( len(v) )\n",
    "    # Step 4\n",
    "    while True:\n",
    "        ℓ_v = len(v)\n",
    "        for ı in range(ℓ_v - 1, -1, -1):\n",
    "            if v[ı] <= ρ:\n",
    "                ρ += (ρ - v[ı])/(len(v) - 1)\n",
    "                del v[ı]\n",
    "        if len(v) >= ℓ_v:\n",
    "            break\n",
    "            \n",
    "    return clip(y - ρ, 0, None)\n",
    "\n",
    "def CondatP_b(y,a,N):\n",
    "    # Step 1\n",
    "    ρ = y[0] - a\n",
    "\n",
    "    v = zeros(N, dtype=bool)\n",
    "    x = zeros_like(y)\n",
    "    u = []\n",
    "    v[0] = True\n",
    "    # Step 2\n",
    "    for n in range(1,N):\n",
    "        yₙ = y[n]\n",
    "        if yₙ > ρ:\n",
    "            ρ += (yₙ - ρ)/( v.sum() + 1 )\n",
    "            if ρ > yₙ - a:\n",
    "                v[n] = True\n",
    "            else:\n",
    "                u.extend([i[0] for i,j in ndenumerate(v) if j])\n",
    "                v *= False;    v[n] = True\n",
    "                ρ = yₙ - a\n",
    "    # Step 3\n",
    "    if len(u) > 0:\n",
    "        for n in iter(u):\n",
    "            yₙ = y[n]\n",
    "            if yₙ > ρ:\n",
    "                v[n] = True\n",
    "                ρ += (yₙ - ρ)/( v.sum() )\n",
    "    # Step 4\n",
    "    while True:\n",
    "        ℓ_v = v.sum()\n",
    "        for i,j in ndenumerate(v):\n",
    "            if j:\n",
    "                if y[i[0]] <= ρ:\n",
    "                    ρ += (ρ - y[i[0]])/(v.sum() - 1)\n",
    "                    v[i[0]] = False\n",
    "        if v.sum() >= ℓ_v:\n",
    "            break\n",
    "\n",
    "    x[v] = y[v] - ρ \n",
    "    return x\n",
    "\n",
    "def CondatP_c(y,a,N):\n",
    "    # Step 1\n",
    "    ρ = y[0] - a\n",
    "\n",
    "    x = zeros_like(y)\n",
    "    v = [0]\n",
    "    u = []\n",
    "    # Step 2\n",
    "    for n in range(1,N):\n",
    "        yₙ = y[n]\n",
    "        if yₙ > ρ:\n",
    "            ρ += (yₙ - ρ)/( len(v) + 1 )\n",
    "            if ρ > yₙ - a:\n",
    "                v.append(n)\n",
    "            else:\n",
    "                u.extend(v)\n",
    "                v = [n]\n",
    "                ρ = yₙ - a\n",
    "    # Step 3\n",
    "    if len(u) > 0:\n",
    "        for n in iter(u):\n",
    "            yₙ = y[n]\n",
    "            if yₙ > ρ:\n",
    "                v.append(n)\n",
    "                ρ += (yₙ - ρ)/( len(v) )\n",
    "    # Step 4\n",
    "    while True:\n",
    "        ℓ_v = len(v)\n",
    "        for i,j in enumerate(v):\n",
    "            if y[j] <= ρ:\n",
    "                ρ += (ρ - y[j])/(len(v) - 1)\n",
    "                del v[i]\n",
    "        if len(v) >= ℓ_v:\n",
    "            break\n",
    "    \n",
    "    x[v] = y[v] - ρ\n",
    "    return x"
   ]
  },
  {
   "cell_type": "code",
   "execution_count": 16,
   "metadata": {},
   "outputs": [
    {
     "name": "stdout",
     "output_type": "stream",
     "text": [
      "347 µs ± 29.2 µs per loop (mean ± std. dev. of 10 runs, 200 loops each)\n"
     ]
    }
   ],
   "source": [
    "%timeit -r 10 -n 200 CondatP_a(y,a,N)"
   ]
  },
  {
   "cell_type": "code",
   "execution_count": 17,
   "metadata": {},
   "outputs": [
    {
     "name": "stdout",
     "output_type": "stream",
     "text": [
      "1.78 ms ± 33.1 µs per loop (mean ± std. dev. of 10 runs, 200 loops each)\n"
     ]
    }
   ],
   "source": [
    "%timeit -r 10 -n 200 CondatP_b(y,a,N)"
   ]
  },
  {
   "cell_type": "code",
   "execution_count": 18,
   "metadata": {},
   "outputs": [
    {
     "name": "stdout",
     "output_type": "stream",
     "text": [
      "350 µs ± 8.34 µs per loop (mean ± std. dev. of 10 runs, 200 loops each)\n"
     ]
    }
   ],
   "source": [
    "%timeit -r 10 -n 200 CondatP_c(y,a,N)"
   ]
  },
  {
   "cell_type": "markdown",
   "metadata": {},
   "source": [
    "As we can see, the last implementation might be a little faster than the original."
   ]
  },
  {
   "cell_type": "markdown",
   "metadata": {},
   "source": [
    "---"
   ]
  },
  {
   "cell_type": "markdown",
   "metadata": {},
   "source": [
    "## Just-in-time compilation with numba\n",
    "\n",
    "<div class=\"alert alert-block alert-warning\">\n",
    "We use numba to speed up the computation time.\n",
    "</div>"
   ]
  },
  {
   "cell_type": "code",
   "execution_count": 19,
   "metadata": {},
   "outputs": [],
   "source": [
    "from numba import jit, prange"
   ]
  },
  {
   "cell_type": "code",
   "execution_count": 20,
   "metadata": {
    "code_folding": [
     1
    ]
   },
   "outputs": [],
   "source": [
    "@jit(nopython=True, fastmath = True, parallel = True)\n",
    "def CondatP_a(y,a,N):\n",
    "    # Step 1\n",
    "    v = [y[0]]\n",
    "    u = []\n",
    "    ρ = y[0] - a\n",
    "    # Step 2\n",
    "    for n in range(1,N):\n",
    "        yₙ = y[n]\n",
    "        if yₙ > ρ:\n",
    "            ρ += (yₙ - ρ)/( len(v) + 1 )\n",
    "            if ρ > yₙ - a:\n",
    "                v.append(yₙ)\n",
    "            else:\n",
    "                u.extend(v)\n",
    "                v = [yₙ]\n",
    "                ρ = yₙ - a\n",
    "    # Step 3\n",
    "    if len(u) > 0:\n",
    "        for ι in iter(u):\n",
    "            if ι > ρ:\n",
    "                v.append(ι)\n",
    "                ρ += (ι - ρ)/( len(v) )\n",
    "    # Step 4\n",
    "    while True:\n",
    "        ℓ_v = len(v)\n",
    "        for ı in range(ℓ_v - 1, -1, -1):\n",
    "            if v[ı] <= ρ:\n",
    "                ρ += (ρ - v[ı])/(len(v) - 1)\n",
    "                del v[ı]\n",
    "        if len(v) >= ℓ_v:\n",
    "            break\n",
    "            \n",
    "    return maximum(y - ρ, 0)"
   ]
  },
  {
   "cell_type": "code",
   "execution_count": 21,
   "metadata": {
    "code_folding": [
     1
    ]
   },
   "outputs": [],
   "source": [
    "@jit(nopython=True, fastmath = True, parallel = True)\n",
    "def CondatP_b(y,a,N):\n",
    "    # Step 1\n",
    "    ρ = y[0] - a\n",
    "\n",
    "    v = full(N, False)\n",
    "    x = zeros_like(y)\n",
    "    u = []\n",
    "    v[0] = True\n",
    "    # Step 2\n",
    "    for n in range(1,N):\n",
    "        yₙ = y[n]\n",
    "        if yₙ > ρ:\n",
    "            ρ += (yₙ - ρ)/( v.sum() + 1 )\n",
    "            if ρ > yₙ - a:\n",
    "                v[n] = True\n",
    "            else:\n",
    "                u.extend([i[0] for i,j in ndenumerate(v) if j])\n",
    "                v *= False;    v[n] = True\n",
    "                ρ = yₙ - a\n",
    "    # Step 3\n",
    "    if len(u) > 0:\n",
    "        for n in iter(u):\n",
    "            yₙ = y[n]\n",
    "            if yₙ > ρ:\n",
    "                v[n] = True\n",
    "                ρ += (yₙ - ρ)/( v.sum() )\n",
    "    # Step 4\n",
    "    while True:\n",
    "        ℓ_v = v.sum()\n",
    "        for i,j in ndenumerate(v):\n",
    "            if j:\n",
    "                if y[i[0]] <= ρ:\n",
    "                    ρ += (ρ - y[i[0]])/(v.sum() - 1)\n",
    "                    v[i[0]] = False\n",
    "        if v.sum() >= ℓ_v:\n",
    "            break\n",
    "\n",
    "    x[v] = y[v] - ρ \n",
    "    return x"
   ]
  },
  {
   "cell_type": "code",
   "execution_count": 22,
   "metadata": {
    "code_folding": [
     1
    ]
   },
   "outputs": [],
   "source": [
    "@jit(nopython=True, fastmath = True)#, parallel = True)\n",
    "def CondatP_c(y,a,N):\n",
    "    # Step 1\n",
    "    ρ = y[0] - a\n",
    "\n",
    "    x = zeros_like(y)\n",
    "    v = [0]\n",
    "    u = []\n",
    "    # Step 2\n",
    "    for n in range(1,N):\n",
    "        yₙ = y[n]\n",
    "        if yₙ > ρ:\n",
    "            ρ += (yₙ - ρ)/( len(v) + 1 )\n",
    "            if ρ > yₙ - a:\n",
    "                v.append(n)\n",
    "            else:\n",
    "                u.extend(v)\n",
    "                v = [n]\n",
    "                ρ = yₙ - a\n",
    "    # Step 3\n",
    "    if len(u) > 0:\n",
    "        for n in iter(u):\n",
    "            yₙ = y[n]\n",
    "            if yₙ > ρ:\n",
    "                v.append(n)\n",
    "                ρ += (yₙ - ρ)/( len(v) )\n",
    "    # Step 4\n",
    "    while True:\n",
    "        ℓ_v = len(v)\n",
    "        for i,j in enumerate(v):\n",
    "            if y[j] <= ρ:\n",
    "                ρ += (ρ - y[j])/(len(v) - 1)\n",
    "                del v[i]\n",
    "        if len(v) >= ℓ_v:\n",
    "            break\n",
    "    \n",
    "    #x[v] = y[v] - ρ\n",
    "    for n in iter(v):\n",
    "        x[n] = y[n] - ρ\n",
    "    #for n in prange(len(v)):\n",
    "    #    x[v[n]] = y[v[n]] - ρ\n",
    "    return x"
   ]
  },
  {
   "cell_type": "code",
   "execution_count": 23,
   "metadata": {},
   "outputs": [],
   "source": [
    "# Run things once for pre-compiling:\n",
    "CondatP_a(y,a,N), CondatP_b(y,a,N), CondatP_c(y,a,N);"
   ]
  },
  {
   "cell_type": "markdown",
   "metadata": {},
   "source": [
    "Now we see a clear winner."
   ]
  },
  {
   "cell_type": "code",
   "execution_count": 24,
   "metadata": {},
   "outputs": [
    {
     "name": "stdout",
     "output_type": "stream",
     "text": [
      "12.8 µs ± 1.24 µs per loop (mean ± std. dev. of 10 runs, 200 loops each)\n"
     ]
    }
   ],
   "source": [
    "%timeit -r 10 -n 200 CondatP_a(y,a,N)"
   ]
  },
  {
   "cell_type": "code",
   "execution_count": 25,
   "metadata": {},
   "outputs": [
    {
     "name": "stdout",
     "output_type": "stream",
     "text": [
      "598 µs ± 26 µs per loop (mean ± std. dev. of 10 runs, 200 loops each)\n"
     ]
    }
   ],
   "source": [
    "%timeit -r 10 -n 200 CondatP_b(y,a,N)"
   ]
  },
  {
   "cell_type": "code",
   "execution_count": 26,
   "metadata": {
    "scrolled": true
   },
   "outputs": [
    {
     "name": "stdout",
     "output_type": "stream",
     "text": [
      "7.25 µs ± 388 ns per loop (mean ± std. dev. of 10 runs, 200 loops each)\n"
     ]
    }
   ],
   "source": [
    "%timeit -r 10 -n 200 CondatP_c(y,a,N)"
   ]
  },
  {
   "cell_type": "markdown",
   "metadata": {},
   "source": [
    "Finally, a sanity check:"
   ]
  },
  {
   "cell_type": "code",
   "execution_count": 27,
   "metadata": {},
   "outputs": [
    {
     "data": {
      "text/plain": [
       "(True, True)"
      ]
     },
     "execution_count": 27,
     "metadata": {},
     "output_type": "execute_result"
    }
   ],
   "source": [
    "allclose(CondatP_a(y,a,N), CondatP_b(y,a,N)), allclose(CondatP_a(y,a,N), CondatP_c(y,a,N))"
   ]
  },
  {
   "cell_type": "markdown",
   "metadata": {},
   "source": [
    "---"
   ]
  },
  {
   "cell_type": "markdown",
   "metadata": {},
   "source": [
    "Now we can finally addapt the code to accept a matrix $\\gamma$ as input."
   ]
  },
  {
   "cell_type": "code",
   "execution_count": 28,
   "metadata": {},
   "outputs": [],
   "source": [
    "N = 1000\n",
    "M = 500\n",
    "γ = rng(0).uniform(-1,2,(N,M))\n",
    "a = 1.0"
   ]
  },
  {
   "cell_type": "code",
   "execution_count": 29,
   "metadata": {},
   "outputs": [],
   "source": [
    "y = rng(0).uniform(-1,2,N)\n",
    "x = zeros_like(γ)"
   ]
  },
  {
   "cell_type": "code",
   "execution_count": 30,
   "metadata": {
    "code_folding": [
     1
    ]
   },
   "outputs": [],
   "source": [
    "@jit(nopython=True, fastmath = True)#, parallel = True)\n",
    "def CondatP_c(y,x,a,N):\n",
    "    # Step 1\n",
    "    ρ = y[0] - a\n",
    "    v = [0]\n",
    "    u = []\n",
    "    # Step 2\n",
    "    for n in range(1,N):\n",
    "        yₙ = y[n]\n",
    "        if yₙ > ρ:\n",
    "            ρ += (yₙ - ρ)/( len(v) + 1 )\n",
    "            if ρ > yₙ - a:\n",
    "                v.append(n)\n",
    "            else:\n",
    "                u.extend(v)\n",
    "                v = [n]\n",
    "                ρ = yₙ - a\n",
    "    # Step 3\n",
    "    if len(u) > 0:\n",
    "        for n in iter(u):\n",
    "            yₙ = y[n]\n",
    "            if yₙ > ρ:\n",
    "                v.append(n)\n",
    "                ρ += (yₙ - ρ)/( len(v) )\n",
    "    # Step 4\n",
    "    while True:\n",
    "        ℓ_v = len(v)\n",
    "        for i,j in enumerate(v):\n",
    "            if y[j] <= ρ:\n",
    "                ρ += (ρ - y[j])/(len(v) - 1)\n",
    "                del v[i]\n",
    "        if len(v) >= ℓ_v:\n",
    "            break\n",
    "    \n",
    "    #x[v] = y[v] - ρ\n",
    "    for n in iter(v):\n",
    "        x[n] = y[n] - ρ\n",
    "    #for n in prange(len(v)):\n",
    "    #    x[v[n]] = y[v[n]] - ρ\n",
    "    return x"
   ]
  },
  {
   "cell_type": "code",
   "execution_count": 31,
   "metadata": {},
   "outputs": [],
   "source": [
    "CondatP_c(y,x,a,N); # Null test"
   ]
  },
  {
   "cell_type": "code",
   "execution_count": 32,
   "metadata": {},
   "outputs": [],
   "source": [
    "for i in range(N):\n",
    "    x[i] = CondatP_c(γ[i],x[i],a,M)"
   ]
  },
  {
   "cell_type": "code",
   "execution_count": 33,
   "metadata": {
    "scrolled": true
   },
   "outputs": [
    {
     "name": "stdout",
     "output_type": "stream",
     "text": [
      "26\n",
      "27\n",
      "77\n",
      "94\n",
      "163\n",
      "171\n",
      "194\n",
      "198\n",
      "239\n",
      "252\n",
      "275\n",
      "278\n",
      "308\n",
      "349\n",
      "368\n",
      "405\n",
      "412\n",
      "414\n",
      "497\n",
      "530\n",
      "698\n",
      "734\n",
      "736\n",
      "745\n",
      "762\n",
      "790\n",
      "799\n",
      "812\n"
     ]
    }
   ],
   "source": [
    "# Just checking :)\n",
    "for i in range(N):\n",
    "    if x[i].sum() > 2:\n",
    "        print(i)"
   ]
  },
  {
   "cell_type": "code",
   "execution_count": 34,
   "metadata": {
    "scrolled": true
   },
   "outputs": [
    {
     "data": {
      "text/plain": [
       "array([ 1.        ,  1.        ,  1.        ,  1.        ,  1.        ,\n",
       "        1.        ,  1.        ,  1.        ,  1.        ,  1.        ,\n",
       "        1.        ,  1.        ,  1.        ,  1.        ,  1.        ,\n",
       "        1.        ,  1.        ,  1.        ,  1.        ,  1.        ,\n",
       "        1.        ,  1.        ,  1.        ,  1.        ,  1.        ,\n",
       "        1.        , 33.17240125,  9.86861806,  1.        ,  1.        ,\n",
       "        1.        ,  1.        ,  1.        ,  1.        ,  1.        ,\n",
       "        1.        ,  1.        ,  1.        ,  1.        ,  1.        ,\n",
       "        1.        ,  1.        ,  1.        ,  1.        ,  1.        ,\n",
       "        1.        ,  1.        ,  1.        ,  1.        ,  1.        ,\n",
       "        1.        ,  1.        ,  1.        ,  1.        ,  1.        ,\n",
       "        1.        ,  1.        ,  1.        ,  1.        ,  1.        ,\n",
       "        1.        ,  1.        ,  1.        ,  1.        ,  1.        ,\n",
       "        1.        ,  1.        ,  1.        ,  1.        ,  1.        ,\n",
       "        1.        ,  1.        ,  1.        ,  1.        ,  1.        ,\n",
       "        1.        ,  1.        , 30.57583176,  1.        ,  1.        ,\n",
       "        1.        ,  1.        ,  1.        ,  1.        ,  1.        ,\n",
       "        1.        ,  1.        ,  1.        ,  1.        ,  1.        ,\n",
       "        1.        ,  1.        ,  1.        ,  1.        , 10.29389086,\n",
       "        1.        ,  1.        ,  1.        ,  1.        ,  1.        ,\n",
       "        1.        ,  1.        ,  1.        ,  1.        ,  1.        ,\n",
       "        1.        ,  1.        ,  1.        ,  1.        ,  1.        ,\n",
       "        1.        ,  1.        ,  1.        ,  1.        ,  1.        ,\n",
       "        1.        ,  1.        ,  1.        ,  1.        ,  1.        ,\n",
       "        1.        ,  1.        ,  1.        ,  1.        ,  1.        ,\n",
       "        1.        ,  1.        ,  1.        ,  1.        ,  1.        ,\n",
       "        1.        ,  1.        ,  1.        ,  1.        ,  1.        ,\n",
       "        1.        ,  1.        ,  1.        ,  1.        ,  1.        ,\n",
       "        1.        ,  1.        ,  1.        ,  1.        ,  1.        ,\n",
       "        1.        ,  1.        ,  1.        ,  1.        ,  1.        ,\n",
       "        1.        ,  1.        ,  1.        ,  1.        ,  1.        ,\n",
       "        1.        ,  1.        ,  1.        ,  1.        ,  1.        ,\n",
       "        1.        ,  1.        ,  1.        ,  3.51899761,  1.        ,\n",
       "        1.        ,  1.        ,  1.        ,  1.        ,  1.        ,\n",
       "        1.        , 29.83113873,  1.        ,  1.        ,  1.        ,\n",
       "        1.        ,  1.        ,  1.        ,  1.        ,  1.        ,\n",
       "        1.        ,  1.        ,  1.        ,  1.        ,  1.        ,\n",
       "        1.        ,  1.        ,  1.        ,  1.        ,  1.        ,\n",
       "        1.        ,  1.        ,  1.        ,  1.        , 11.38991396,\n",
       "        1.        ,  1.        ,  1.        ,  6.09506379,  1.        ,\n",
       "        1.        ,  1.        ,  1.        ,  1.        ,  1.        ,\n",
       "        1.        ,  1.        ,  1.        ,  1.        ,  1.        ,\n",
       "        1.        ,  1.        ,  1.        ,  1.        ,  1.        ,\n",
       "        1.        ,  1.        ,  1.        ,  1.        ,  1.        ,\n",
       "        1.        ,  1.        ,  1.        ,  1.        ,  1.        ,\n",
       "        1.        ,  1.        ,  1.        ,  1.        ,  1.        ,\n",
       "        1.        ,  1.        ,  1.        ,  1.        ,  1.        ,\n",
       "        1.        ,  1.        ,  1.        ,  1.        , 20.98800518,\n",
       "        1.        ,  1.        ,  1.        ,  1.        ,  1.        ,\n",
       "        1.        ,  1.        ,  1.        ,  1.        ,  1.        ,\n",
       "        1.        ,  1.        , 28.84888429,  1.        ,  1.        ,\n",
       "        1.        ,  1.        ,  1.        ,  1.        ,  1.        ,\n",
       "        1.        ,  1.        ,  1.        ,  1.        ,  1.        ,\n",
       "        1.        ,  1.        ,  1.        ,  1.        ,  1.        ,\n",
       "        1.        ,  1.        ,  1.        ,  1.        ,  1.        ,\n",
       "       11.24652333,  1.        ,  1.        ,  8.11440871,  1.        ,\n",
       "        1.        ,  1.        ,  1.        ,  1.        ,  1.        ,\n",
       "        1.        ,  1.        ,  1.        ,  1.        ,  1.        ,\n",
       "        1.        ,  1.        ,  1.        ,  1.        ,  1.        ,\n",
       "        1.        ,  1.        ,  1.        ,  1.        ,  1.        ,\n",
       "        1.        ,  1.        ,  1.        ,  1.        ,  1.        ,\n",
       "        1.        ,  1.        ,  1.        , 33.22095479,  1.        ,\n",
       "        1.        ,  1.        ,  1.        ,  1.        ,  1.        ,\n",
       "        1.        ,  1.        ,  1.        ,  1.        ,  1.        ,\n",
       "        1.        ,  1.        ,  1.        ,  1.        ,  1.        ,\n",
       "        1.        ,  1.        ,  1.        ,  1.        ,  1.        ,\n",
       "        1.        ,  1.        ,  1.        ,  1.        ,  1.        ,\n",
       "        1.        ,  1.        ,  1.        ,  1.        ,  1.        ,\n",
       "        1.        ,  1.        ,  1.        ,  1.        ,  1.        ,\n",
       "        1.        ,  1.        ,  1.        ,  1.        , 25.80211049,\n",
       "        1.        ,  1.        ,  1.        ,  1.        ,  1.        ,\n",
       "        1.        ,  1.        ,  1.        ,  1.        ,  1.        ,\n",
       "        1.        ,  1.        ,  1.        ,  1.        ,  1.        ,\n",
       "        1.        ,  1.        ,  1.        ,  2.16475781,  1.        ,\n",
       "        1.        ,  1.        ,  1.        ,  1.        ,  1.        ,\n",
       "        1.        ,  1.        ,  1.        ,  1.        ,  1.        ,\n",
       "        1.        ,  1.        ,  1.        ,  1.        ,  1.        ,\n",
       "        1.        ,  1.        ,  1.        ,  1.        ,  1.        ,\n",
       "        1.        ,  1.        ,  1.        ,  1.        ,  1.        ,\n",
       "        1.        ,  1.        ,  1.        ,  1.        ,  1.        ,\n",
       "        1.        ,  1.        ,  1.        ,  1.        ,  1.        ,\n",
       "       24.16093358,  1.        ,  1.        ,  1.        ,  1.        ,\n",
       "        1.        ,  1.        ,  9.34126161,  1.        , 13.47187838,\n",
       "        1.        ,  1.        ,  1.        ,  1.        ,  1.        ,\n",
       "        1.        ,  1.        ,  1.        ,  1.        ,  1.        ,\n",
       "        1.        ,  1.        ,  1.        ,  1.        ,  1.        ,\n",
       "        1.        ,  1.        ,  1.        ,  1.        ,  1.        ,\n",
       "        1.        ,  1.        ,  1.        ,  1.        ,  1.        ,\n",
       "        1.        ,  1.        ,  1.        ,  1.        ,  1.        ,\n",
       "        1.        ,  1.        ,  1.        ,  1.        ,  1.        ,\n",
       "        1.        ,  1.        ,  1.        ,  1.        ,  1.        ,\n",
       "        1.        ,  1.        ,  1.        ,  1.        ,  1.        ,\n",
       "        1.        ,  1.        ,  1.        ,  1.        ,  1.        ,\n",
       "        1.        ,  1.        ,  1.        ,  1.        ,  1.        ,\n",
       "        1.        ,  1.        ,  1.        ,  1.        ,  1.        ,\n",
       "        1.        ,  1.        ,  1.        ,  1.        ,  1.        ,\n",
       "        1.        ,  1.        ,  1.        ,  1.        ,  1.        ,\n",
       "        1.        ,  1.        ,  1.        ,  1.        ,  1.        ,\n",
       "        1.        ,  1.        ,  1.        ,  1.        ,  1.        ,\n",
       "        1.        ,  1.        , 16.93383702,  1.        ,  1.        ,\n",
       "        1.        ,  1.        ,  1.        ,  1.        ,  1.        ,\n",
       "        1.        ,  1.        ,  1.        ,  1.        ,  1.        ,\n",
       "        1.        ,  1.        ,  1.        ,  1.        ,  1.        ,\n",
       "        1.        ,  1.        ,  1.        ,  1.        ,  1.        ,\n",
       "        1.        ,  1.        ,  1.        ,  1.        ,  1.        ,\n",
       "        1.        ,  1.        ,  1.        ,  1.        ,  1.        ,\n",
       "       36.82302637,  1.        ,  1.        ,  1.        ,  1.        ,\n",
       "        1.        ,  1.        ,  1.        ,  1.        ,  1.        ,\n",
       "        1.        ,  1.        ,  1.        ,  1.        ,  1.        ,\n",
       "        1.        ,  1.        ,  1.        ,  1.        ,  1.        ,\n",
       "        1.        ,  1.        ,  1.        ,  1.        ,  1.        ,\n",
       "        1.        ,  1.        ,  1.        ,  1.        ,  1.        ,\n",
       "        1.        ,  1.        ,  1.        ,  1.        ,  1.        ,\n",
       "        1.        ,  1.        ,  1.        ,  1.        ,  1.        ,\n",
       "        1.        ,  1.        ,  1.        ,  1.        ,  1.        ,\n",
       "        1.        ,  1.        ,  1.        ,  1.        ,  1.        ,\n",
       "        1.        ,  1.        ,  1.        ,  1.        ,  1.        ,\n",
       "        1.        ,  1.        ,  1.        ,  1.        ,  1.        ,\n",
       "        1.        ,  1.        ,  1.        ,  1.        ,  1.        ,\n",
       "        1.        ,  1.        ,  1.        ,  1.        ,  1.        ,\n",
       "        1.        ,  1.        ,  1.        ,  1.        ,  1.        ,\n",
       "        1.        ,  1.        ,  1.        ,  1.        ,  1.        ,\n",
       "        1.        ,  1.        ,  1.        ,  1.        ,  1.        ,\n",
       "        1.        ,  1.        ,  1.        ,  1.        ,  1.        ,\n",
       "        1.        ,  1.        ,  1.        ,  1.        ,  1.        ,\n",
       "        1.        ,  1.        ,  1.        ,  1.        ,  1.        ,\n",
       "        1.        ,  1.        ,  1.        ,  1.        ,  1.        ,\n",
       "        1.        ,  1.        ,  1.        ,  1.        ,  1.        ,\n",
       "        1.        ,  1.        ,  1.        ,  1.        ,  1.        ,\n",
       "        1.        ,  1.        ,  1.        ,  1.        ,  1.        ,\n",
       "        1.        ,  1.        ,  1.        ,  1.        ,  1.        ,\n",
       "        1.        ,  1.        ,  1.        ,  1.        ,  1.        ,\n",
       "        1.        ,  1.        ,  1.        ,  1.        ,  1.        ,\n",
       "        1.        ,  1.        ,  1.        ,  1.        ,  1.        ,\n",
       "        1.        ,  1.        ,  1.        ,  1.        ,  1.        ,\n",
       "        1.        ,  1.        ,  1.        ,  1.        ,  1.        ,\n",
       "        1.        ,  1.        ,  1.        ,  1.        ,  1.        ,\n",
       "        1.        ,  1.        ,  1.        ,  1.        ,  1.        ,\n",
       "        1.        ,  1.        ,  1.        ,  1.        ,  1.        ,\n",
       "        1.        ,  1.        ,  1.        , 12.64484517,  1.        ,\n",
       "        1.        ,  1.        ,  1.        ,  1.        ,  1.        ,\n",
       "        1.        ,  1.        ,  1.        ,  1.        ,  1.        ,\n",
       "        1.        ,  1.        ,  1.        ,  1.        ,  1.        ,\n",
       "        1.        ,  1.        ,  1.        ,  1.        ,  1.        ,\n",
       "        1.        ,  1.        ,  1.        ,  1.        ,  1.        ,\n",
       "        1.        ,  1.        ,  1.        ,  1.        ,  1.        ,\n",
       "        1.        ,  1.        ,  1.        ,  1.        ,  6.08028196,\n",
       "        1.        , 19.67731835,  1.        ,  1.        ,  1.        ,\n",
       "        1.        ,  1.        ,  1.        ,  1.        ,  1.        ,\n",
       "       18.57278016,  1.        ,  1.        ,  1.        ,  1.        ,\n",
       "        1.        ,  1.        ,  1.        ,  1.        ,  1.        ,\n",
       "        1.        ,  1.        ,  1.        ,  1.        ,  1.        ,\n",
       "        1.        ,  1.        , 25.3166868 ,  1.        ,  1.        ,\n",
       "        1.        ,  1.        ,  1.        ,  1.        ,  1.        ,\n",
       "        1.        ,  1.        ,  1.        ,  1.        ,  1.        ,\n",
       "        1.        ,  1.        ,  1.        ,  1.        ,  1.        ,\n",
       "        1.        ,  1.        ,  1.        ,  1.        ,  1.        ,\n",
       "        1.        ,  1.        ,  1.        ,  1.        ,  1.        ,\n",
       "        3.16707561,  1.        ,  1.        ,  1.        ,  1.        ,\n",
       "        1.        ,  1.        ,  1.        ,  1.        , 30.56243575,\n",
       "        1.        ,  1.        ,  1.        ,  1.        ,  1.        ,\n",
       "        1.        ,  1.        ,  1.        ,  1.        ,  1.        ,\n",
       "        1.        ,  1.        , 26.27115617,  1.        ,  1.        ,\n",
       "        1.        ,  1.        ,  1.        ,  1.        ,  1.        ,\n",
       "        1.        ,  1.        ,  1.        ,  1.        ,  1.        ,\n",
       "        1.        ,  1.        ,  1.        ,  1.        ,  1.        ,\n",
       "        1.        ,  1.        ,  1.        ,  1.        ,  1.        ,\n",
       "        1.        ,  1.        ,  1.        ,  1.        ,  1.        ,\n",
       "        1.        ,  1.        ,  1.        ,  1.        ,  1.        ,\n",
       "        1.        ,  1.        ,  1.        ,  1.        ,  1.        ,\n",
       "        1.        ,  1.        ,  1.        ,  1.        ,  1.        ,\n",
       "        1.        ,  1.        ,  1.        ,  1.        ,  1.        ,\n",
       "        1.        ,  1.        ,  1.        ,  1.        ,  1.        ,\n",
       "        1.        ,  1.        ,  1.        ,  1.        ,  1.        ,\n",
       "        1.        ,  1.        ,  1.        ,  1.        ,  1.        ,\n",
       "        1.        ,  1.        ,  1.        ,  1.        ,  1.        ,\n",
       "        1.        ,  1.        ,  1.        ,  1.        ,  1.        ,\n",
       "        1.        ,  1.        ,  1.        ,  1.        ,  1.        ,\n",
       "        1.        ,  1.        ,  1.        ,  1.        ,  1.        ,\n",
       "        1.        ,  1.        ,  1.        ,  1.        ,  1.        ,\n",
       "        1.        ,  1.        ,  1.        ,  1.        ,  1.        ,\n",
       "        1.        ,  1.        ,  1.        ,  1.        ,  1.        ,\n",
       "        1.        ,  1.        ,  1.        ,  1.        ,  1.        ,\n",
       "        1.        ,  1.        ,  1.        ,  1.        ,  1.        ,\n",
       "        1.        ,  1.        ,  1.        ,  1.        ,  1.        ,\n",
       "        1.        ,  1.        ,  1.        ,  1.        ,  1.        ,\n",
       "        1.        ,  1.        ,  1.        ,  1.        ,  1.        ,\n",
       "        1.        ,  1.        ,  1.        ,  1.        ,  1.        ,\n",
       "        1.        ,  1.        ,  1.        ,  1.        ,  1.        ,\n",
       "        1.        ,  1.        ,  1.        ,  1.        ,  1.        ,\n",
       "        1.        ,  1.        ,  1.        ,  1.        ,  1.        ,\n",
       "        1.        ,  1.        ,  1.        ,  1.        ,  1.        ,\n",
       "        1.        ,  1.        ,  1.        ,  1.        ,  1.        ,\n",
       "        1.        ,  1.        ,  1.        ,  1.        ,  1.        ,\n",
       "        1.        ,  1.        ,  1.        ,  1.        ,  1.        ,\n",
       "        1.        ,  1.        ,  1.        ,  1.        ,  1.        ,\n",
       "        1.        ,  1.        ,  1.        ,  1.        ,  1.        ,\n",
       "        1.        ,  1.        ,  1.        ,  1.        ,  1.        ,\n",
       "        1.        ,  1.        ,  1.        ,  1.        ,  1.        ,\n",
       "        1.        ,  1.        ,  1.        ,  1.        ,  1.        ])"
      ]
     },
     "execution_count": 34,
     "metadata": {},
     "output_type": "execute_result"
    }
   ],
   "source": [
    "x.sum(axis=1)"
   ]
  },
  {
   "cell_type": "markdown",
   "metadata": {},
   "source": [
    "# Primal Dual"
   ]
  },
  {
   "cell_type": "code",
   "execution_count": 107,
   "metadata": {},
   "outputs": [],
   "source": [
    "@jit(nopython=True, fastmath = True)#, parallel = True)\n",
    "def primal_dual(c,m,n,iters):\n",
    "    #Algorithm for calculating solution x, in the primal space\n",
    "    #and y_1, y_2 in the dual space.\n",
    "    #Also returns the value of the objective function c*x at each\n",
    "    #iteration.\n",
    "    \n",
    "    #Initialise tau\n",
    "    tau = 0.0001\n",
    "    \n",
    "    #Initialise sigma\n",
    "    sig = 1/(tau*2) - 0.5\n",
    "    \n",
    "    #fetch lengths of m and n.\n",
    "    N = n.size\n",
    "    M = m.size\n",
    "    \n",
    "    #Initialise x\n",
    "    x = np.zeros((M,N))\n",
    "    x[:,0] = m\n",
    "    x[0,:] = n\n",
    "    x[0,0] = 0.5*(m[-1] + n[-1])\n",
    "    \n",
    "    #Initialise y_1 and y_2\n",
    "    y_1 = zeros((M,N))\n",
    "    y_2 = zeros((M,N))\n",
    "    \n",
    "    y_1[0,:] = n\n",
    "    y_2[:,0] = m\n",
    "    \n",
    "    #Save that objective function\n",
    "    obj = [np.sum(np.multiply(c,x))]\n",
    "    \n",
    "    \n",
    "    for k in range(iters):\n",
    "        #update x\n",
    "        xnew = x - tau*c - tau*(y_1 + y_2)\n",
    "        \n",
    "        #matrices for projection over the simplex C_1^m and the simplex C_2^n.\n",
    "        γ_1 = (1/sig)*y_1 + 2*xnew - x\n",
    "        γ_2 = (1/sig)*y_2 + 2*xnew - x\n",
    "        \n",
    "        \n",
    "        x_1 = zeros_like(γ_1)\n",
    "        for i in range(M):\n",
    "            x_1[i] = CondatP_c(γ_1[i],x_1[i],m[i],N)\n",
    "        \n",
    "        x_2 = zeros_like(γ_2)\n",
    "        for i in range(N):\n",
    "            x_2[:,i] = CondatP_c(γ_2[:,i],x_2[:,i],n[i],M)\n",
    "            \n",
    "        \n",
    "        #update x using the projection over the simplex C_1^m\n",
    "        y_1new = y_1 + sig*(2*xnew - x) - sig*x_1\n",
    "  \n",
    "        #update x using the projection over the simplex C_2^n\n",
    "        y_2new = y_2 + sig*(2*xnew - x) - sig*x_2\n",
    "        \n",
    "        #Reset x,y_1, y_2 for the next iteration\n",
    "        x = xnew\n",
    "        y_1 = y_1new\n",
    "        y_2 = y_2new\n",
    "        \n",
    "        #update objective function\n",
    "        obj.append(np.sum(np.multiply(c,x)))\n",
    "        \n",
    "    return x,obj"
   ]
  },
  {
   "cell_type": "code",
   "execution_count": 109,
   "metadata": {},
   "outputs": [
    {
     "name": "stdout",
     "output_type": "stream",
     "text": [
      "Time taken for Primal Dual = 125.83867120742798\n",
      "0.9990457115760598\n"
     ]
    }
   ],
   "source": [
    "import matplotlib.pyplot as plt\n",
    "import time\n",
    "x = np.linspace(0,1,1000)\n",
    "y = np.linspace(1,2,1000)\n",
    "len_x = np.size(x)\n",
    "len_y = np.size(y)\n",
    "\n",
    "c = np.zeros((len_x,len_y))\n",
    "for i in range(len_x):\n",
    "    for j in range(len_y):\n",
    "        c[i,j] = (y[j]-x[i])**2\n",
    "\n",
    "m = np.ones(len_x)/len_x\n",
    "n = np.ones(len_y)/len_y\n",
    "M = len_x\n",
    "N = len_y\n",
    "\n",
    "t = time.time()\n",
    "[x,obj] = primal_dual(c,m,n,500)\n",
    "elapsed = time.time() - t\n",
    "print('Time taken for Primal Dual =', elapsed)\n",
    "print(obj[-1])\n",
    "#plt.plot(obj)\n",
    "#plt.imshow(x)"
   ]
  },
  {
   "cell_type": "markdown",
   "metadata": {},
   "source": [
    "## Exact Test"
   ]
  },
  {
   "cell_type": "code",
   "execution_count": 86,
   "metadata": {},
   "outputs": [
    {
     "name": "stdout",
     "output_type": "stream",
     "text": [
      "1.2964068625\n",
      "[[-7.53457759e-19  2.50000000e-01 -5.21612298e-19  8.30922187e-20]\n",
      " [-9.56057979e-19  2.86674425e-18 -4.83592531e-19  2.50000000e-01]\n",
      " [-2.94892934e-19 -5.14141485e-19  2.50000000e-01 -4.74785684e-19]\n",
      " [ 2.50000000e-01 -2.51882215e-18 -5.98250681e-19 -1.16123086e-18]]\n"
     ]
    },
    {
     "data": {
      "image/png": "[encoded data removed]",
      "text/plain": [
       "<Figure size 432x288 with 1 Axes>"
      ]
     },
     "metadata": {
      "needs_background": "light"
     },
     "output_type": "display_data"
    }
   ],
   "source": [
    "import matplotlib.pyplot as plt\n",
    "#set parameters accordingly.\n",
    "M = 4                  \n",
    "N = 4\n",
    "m = 0.25*np.ones(M)\n",
    "n = 0.25*np.ones(N)\n",
    "c = np.array([[3.10112791, 2.01924761, 2.        , 2.01924761],\n",
    "     [3.10112791, 3.        , 1.16637984, 1.        ],\n",
    "     [3.        , 3.10112791, 1.16637984, 2.01924761],\n",
    "     [1.        , 3.        , 2.33275967, 4.22075809]])\n",
    "[x,obj] = primal_dual(c,m,n,100)\n",
    "plt.plot(obj)\n",
    "print(obj[-1])\n",
    "print(x)"
   ]
  },
  {
   "cell_type": "markdown",
   "metadata": {},
   "source": [
    "## Generalised Forward-Backward Splitting"
   ]
  },
  {
   "cell_type": "markdown",
   "metadata": {},
   "source": [
    "<div class=\"alert alert-block alert-success\">\n",
    "This implements a generalised forward-backward split approach for the OT problem.\n",
    "    \n",
    "The implemented algorithm was proposed in: Raguet. H, Fadili. J, Peyre. G <i>Generalised Forward-Backward Splitting</i>. SIAM Journal on Imaging Sciences. (2013)\n",
    "    \n",
    "A preprint of the paper is available at https://arxiv.org/pdf/1108.4404.pdf\n",
    "</div>"
   ]
  },
  {
   "cell_type": "code",
   "execution_count": 38,
   "metadata": {},
   "outputs": [],
   "source": [
    "@jit(nopython=True, fastmath = True)#, parallel = True)\n",
    "def generalised_forward_backward(c,m,n,iters, collect_obj = False):\n",
    "    #Algorithm for calculating solution x, in the primal space\n",
    "    #and y_1, y_2 in the dual space.\n",
    "    #Also returns the value of the objective function c*x at each\n",
    "    #iteration.\n",
    "    \n",
    "    #First compute ?\n",
    "    mu = np.linalg.norm(c,2)     # 1 -> 10^-1 -> 10^-2 -> ...\n",
    "    # ? is selected as the midpoint of the interval\n",
    "    #e = 1/mu #0.5 * 1/mu;        # remove\n",
    "    # ? does not depend on the current iteration\n",
    "    gam = 0.0001\n",
    "    #likewise, we do not require a change in ?\n",
    "    lam = 1.0;   #1.0\n",
    "    \n",
    "    #fetch lengths of m and n.\n",
    "    N = n.size\n",
    "    M = m.size\n",
    "    \n",
    "    #Initialise x\n",
    "    #x = np.zeros((M,N))\n",
    "    #x[:,0] = m\n",
    "    #x[0,:] = n\n",
    "    #x[0,0] = 0.5*(m[-1] + n[-1])\n",
    "    \n",
    "    #Initialise y_1 and y_2\n",
    "    v_1 = zeros((M,N))\n",
    "    v_2 = zeros((M,N))\n",
    "    \n",
    "    v_1[0,:] = n\n",
    "    v_2[:,0] = m\n",
    "    \n",
    "    #Initialise x\n",
    "    x = 0.5*(v_1 + v_2)\n",
    "    \n",
    "    #Save that objective function\n",
    "    if collect_obj = True:\n",
    "        obj = [np.sum(np.multiply(c,x))]\n",
    "    \n",
    "   \n",
    "    \n",
    "    for k in range(iters):\n",
    "    \n",
    "        #matrices for projection over the simplex C_1^m and the simplex C_2^n.\n",
    "        γ_1 = 2*x - v_1 - gam*c\n",
    "        γ_2 = 2*x - v_2 - gam*c\n",
    "        \n",
    "        \n",
    "        x_1 = zeros_like(γ_1)\n",
    "        for i in range(M):\n",
    "            x_1[i] = CondatP_c(γ_1[i],x_1[i],m[i],N)\n",
    "        \n",
    "        x_2 = zeros_like(γ_2)\n",
    "        for i in range(N):\n",
    "            x_2[:,i] = CondatP_c(γ_2[:,i],x_2[:,i],n[i],M)\n",
    "            \n",
    "        \n",
    "        #update x using the projection over the simplex C_1^m\n",
    "        v_1new = v_1 + lam*(x_1 - x)\n",
    "  \n",
    "        #update x using the projection over the simplex C_2^n\n",
    "        v_2new = v_2  + lam*(x_2 - x)\n",
    "        \n",
    "        #Update x,v_1, v_2 for the next iteration\n",
    "        v_1 = v_1new\n",
    "        v_2 = v_2new\n",
    "        x = 0.5*(v_1 + v_2)\n",
    "        \n",
    "        #update objective function\n",
    "        if collect_obj = True:\n",
    "            obj.append(np.sum(np.multiply(c,x)))\n",
    "        \n",
    "    if collect_obj = True:   \n",
    "        return x,obj\n",
    "    else:\n",
    "        return x"
   ]
  },
  {
   "cell_type": "code",
   "execution_count": 39,
   "metadata": {},
   "outputs": [
    {
     "name": "stdout",
     "output_type": "stream",
     "text": [
      "Time taken for Forward Backward = 81.60223460197449\n",
      "0.9987908748831418\n"
     ]
    }
   ],
   "source": [
    "import matplotlib.pyplot as plt\n",
    "x = np.linspace(0,1,1000)\n",
    "y = np.linspace(1,2,1000)\n",
    "len_x = np.size(x)\n",
    "len_y = np.size(y)\n",
    "\n",
    "c = np.zeros((len_x,len_y))\n",
    "for i in range(len_x):\n",
    "    for j in range(len_y):\n",
    "        c[i,j] = (y[j]-x[i])**2\n",
    "\n",
    "m = np.ones(len_x)/len_x\n",
    "n = np.ones(len_y)/len_y\n",
    "N = len_y\n",
    "\n",
    "\n",
    "t = time.time()\n",
    "[x,obj] = generalised_forward_backward(c,m,n,500, collect_obj = True)\n",
    "elapsed = time.time() - t\n",
    "print('Time taken for Forward Backward =', elapsed)\n",
    "\n",
    "print(obj[-1])\n",
    "#plt.plot(obj)\n",
    "#plt.imshow(x)"
   ]
  },
  {
   "cell_type": "markdown",
   "metadata": {},
   "source": [
    "## Exact Test"
   ]
  },
  {
   "cell_type": "code",
   "execution_count": 40,
   "metadata": {},
   "outputs": [
    {
     "name": "stdout",
     "output_type": "stream",
     "text": [
      "1.2964068625\n",
      "[[0.   0.25 0.   0.  ]\n",
      " [0.   0.   0.   0.25]\n",
      " [0.   0.   0.25 0.  ]\n",
      " [0.25 0.   0.   0.  ]]\n"
     ]
    },
    {
     "data": {
      "image/png": "[encoded data removed]",
      "text/plain": [
       "<Figure size 432x288 with 1 Axes>"
      ]
     },
     "metadata": {
      "needs_background": "light"
     },
     "output_type": "display_data"
    }
   ],
   "source": [
    "import matplotlib.pyplot as plt\n",
    "M = 4                  \n",
    "N = 4\n",
    "m = 0.25*np.ones(M)\n",
    "n = 0.25*np.ones(N)\n",
    "c = np.array([[3.10112791, 2.01924761, 2.        , 2.01924761],\n",
    "     [3.10112791, 3.        , 1.16637984, 1.        ],\n",
    "     [3.        , 3.10112791, 1.16637984, 2.01924761],\n",
    "     [1.        , 3.        , 2.33275967, 4.22075809]])\n",
    "[x,obj] = generalised_forward_backward(c,m,n,10000, collect_obj = True:)\n",
    "plt.plot(obj)\n",
    "print(obj[-1])\n",
    "print(x)"
   ]
  },
  {
   "cell_type": "markdown",
   "metadata": {},
   "source": [
    "## Entropic Regularisation for an Initial Guess"
   ]
  },
  {
   "cell_type": "code",
   "execution_count": 41,
   "metadata": {},
   "outputs": [],
   "source": [
    "def entropic_regularisation(m,n,c,iters_max,eps= 0.025, collect_obj = False):\n",
    "    \n",
    "    #fetch lengths of m and n.\n",
    "    N = np.size(n)\n",
    "    M = np.size(m)\n",
    "    \n",
    "    #Gibbs Kernel\n",
    "    Geps = np.exp(-c/eps)\n",
    "    \n",
    "    cons = 1/np.sum(Geps)\n",
    "    a = np.ones(M)*cons\n",
    "    b = np.ones(N)*cons\n",
    "    norm_difference = 100\n",
    "    obj = []\n",
    "    Kp = (1/(n + 1e-299)).reshape(-1,1) * Geps\n",
    "    for i in range(iters_max):\n",
    "        #anew = np.multiply(m,np.reciprocal(np.matmul(Geps, b)))\n",
    "        #bnew = np.multiply(n,np.reciprocal(np.matmul(a.T, Geps).T))\n",
    "        #anew = np.divide(m,np.matmul(Geps, b))\n",
    "        #bnew = np.divide(n,np.matmul(a.T, Geps).T)\n",
    "        bnew = np.divide(m, np.dot(Geps.T, a)+1e-299)\n",
    "        anew = 1. / (np.dot(Kp,bnew)+1e-299)\n",
    "                \n",
    "        #anew = np.divide(m, Geps * b)\n",
    "        #bnew = np.divide(n, (a.T * Geps).T)\n",
    "        \n",
    "        \n",
    "        #x = a * Geps * b.T\n",
    "        #u = anew * Geps * bnew.T\n",
    "        x = np.multiply(a, np.multiply(Geps, b.T))\n",
    "        u = np.multiply(anew, np.multiply(Geps, bnew.T))\n",
    "        #x = a @ Geps @ b.T\n",
    "        #u = anew @ Geps @ bnew.T\n",
    "        \n",
    "        norm_difference = np.linalg.norm(x-u)\n",
    "        \n",
    "        a = anew\n",
    "        b = bnew\n",
    "        if collect_obj = True:\n",
    "            obj.append((np.multiply(c,u)).sum())\n",
    "    \n",
    "    if collect_obj = True:\n",
    "        return x, obj\n",
    "    else:\n",
    "        return x"
   ]
  },
  {
   "cell_type": "code",
   "execution_count": 42,
   "metadata": {},
   "outputs": [
    {
     "name": "stdout",
     "output_type": "stream",
     "text": [
      "90.04069777458699\n",
      "[[7.89968411e-38 7.00624787e-04 8.25039210e-16 1.75488168e-16]\n",
      " [7.89968411e-38 6.42793467e-21 2.50000000e-01 8.92056471e+01]\n",
      " [4.51212847e-36 1.12538137e-22 2.50000000e-01 1.75488168e-16]\n",
      " [2.50000000e-01 6.42793467e-21 1.36724722e-21 1.00021579e-54]]\n"
     ]
    },
    {
     "data": {
      "image/png": "[encoded data removed]",
      "text/plain": [
       "<Figure size 432x288 with 1 Axes>"
      ]
     },
     "metadata": {
      "needs_background": "light"
     },
     "output_type": "display_data"
    }
   ],
   "source": [
    "M = 4                  \n",
    "N = 4\n",
    "m = 0.25*np.ones(M)\n",
    "n = 0.25*np.ones(N)\n",
    "c = np.array([[3.10112791, 2.01924761, 2.        , 2.01924761],\n",
    "     [3.10112791, 3.        , 1.16637984, 1.        ],\n",
    "     [3.        , 3.10112791, 1.16637984, 2.01924761],\n",
    "     [1.        , 3.        , 2.33275967, 4.22075809]])\n",
    "x, obj = entropic_regularisation(m,n,c,100000)\n",
    "plt.plot(obj)\n",
    "print(obj[-1])\n",
    "print(x)"
   ]
  },
  {
   "cell_type": "code",
   "execution_count": 43,
   "metadata": {},
   "outputs": [],
   "source": [
    "### from https://github.com/rflamary/POT/blob/master/ot/bregman.py ###\n",
    "def sinkhorn_knopp(a, b, M, reg, numItermax=1000,\n",
    "                   stopThr=1e-9, verbose=False, log=False, **kwargs):\n",
    "    r\"\"\"\n",
    "    Solve the entropic regularization optimal transport problem and return the OT matrix\n",
    "    The function solves the following optimization problem:\n",
    "    .. math::\n",
    "        \\gamma = arg\\min_\\gamma <\\gamma,M>_F + reg\\cdot\\Omega(\\gamma)\n",
    "        s.t. \\gamma 1 = a\n",
    "             \\gamma^T 1= b\n",
    "             \\gamma\\geq 0\n",
    "    where :\n",
    "    - M is the (dim_a, dim_b) metric cost matrix\n",
    "    - :math:`\\Omega` is the entropic regularization term :math:`\\Omega(\\gamma)=\\sum_{i,j} \\gamma_{i,j}\\log(\\gamma_{i,j})`\n",
    "    - a and b are source and target weights (histograms, both sum to 1)\n",
    "    The algorithm used for solving the problem is the Sinkhorn-Knopp matrix scaling algorithm as proposed in [2]_\n",
    "    Parameters\n",
    "    ----------\n",
    "    a : ndarray, shape (dim_a,)\n",
    "        samples weights in the source domain\n",
    "    b : ndarray, shape (dim_b,) or ndarray, shape (dim_b, n_hists)\n",
    "        samples in the target domain, compute sinkhorn with multiple targets\n",
    "        and fixed M if b is a matrix (return OT loss + dual variables in log)\n",
    "    M : ndarray, shape (dim_a, dim_b)\n",
    "        loss matrix\n",
    "    reg : float\n",
    "        Regularization term >0\n",
    "    numItermax : int, optional\n",
    "        Max number of iterations\n",
    "    stopThr : float, optional\n",
    "        Stop threshol on error (>0)\n",
    "    verbose : bool, optional\n",
    "        Print information along iterations\n",
    "    log : bool, optional\n",
    "        record log if True\n",
    "    Returns\n",
    "    -------\n",
    "    gamma : ndarray, shape (dim_a, dim_b)\n",
    "        Optimal transportation matrix for the given parameters\n",
    "    log : dict\n",
    "        log dictionary return only if log==True in parameters\n",
    "    Examples\n",
    "    --------\n",
    "    >>> import ot\n",
    "    >>> a=[.5, .5]\n",
    "    >>> b=[.5, .5]\n",
    "    >>> M=[[0., 1.], [1., 0.]]\n",
    "    >>> ot.sinkhorn(a, b, M, 1)\n",
    "    array([[0.36552929, 0.13447071],\n",
    "           [0.13447071, 0.36552929]])\n",
    "    References\n",
    "    ----------\n",
    "    .. [2] M. Cuturi, Sinkhorn Distances : Lightspeed Computation of Optimal Transport, Advances in Neural Information Processing Systems (NIPS) 26, 2013\n",
    "    See Also\n",
    "    --------\n",
    "    ot.lp.emd : Unregularized OT\n",
    "    ot.optim.cg : General regularized OT\n",
    "    \"\"\"\n",
    "\n",
    "    a = np.asarray(a, dtype=np.float64)\n",
    "    b = np.asarray(b, dtype=np.float64)\n",
    "    M = np.asarray(M, dtype=np.float64)\n",
    "\n",
    "    if len(a) == 0:\n",
    "        a = np.ones((M.shape[0],), dtype=np.float64) / M.shape[0]\n",
    "    if len(b) == 0:\n",
    "        b = np.ones((M.shape[1],), dtype=np.float64) / M.shape[1]\n",
    "\n",
    "    # init data\n",
    "    dim_a = len(a)\n",
    "    dim_b = len(b)\n",
    "\n",
    "    if len(b.shape) > 1:\n",
    "        n_hists = b.shape[1]\n",
    "    else:\n",
    "        n_hists = 0\n",
    "\n",
    "    if log:\n",
    "        log = {'err': []}\n",
    "\n",
    "    # we assume that no distances are null except those of the diagonal of\n",
    "    # distances\n",
    "    if n_hists:\n",
    "        u = np.ones((dim_a, n_hists)) / dim_a\n",
    "        v = np.ones((dim_b, n_hists)) / dim_b\n",
    "    else:\n",
    "        u = np.ones(dim_a) / dim_a\n",
    "        v = np.ones(dim_b) / dim_b\n",
    "\n",
    "    # print(reg)\n",
    "\n",
    "    # Next 3 lines equivalent to K= np.exp(-M/reg), but faster to compute\n",
    "    K = np.empty(M.shape, dtype=M.dtype)\n",
    "    np.divide(M, -reg, out=K)\n",
    "    np.exp(K, out=K)\n",
    "\n",
    "    # print(np.min(K))\n",
    "    tmp2 = np.empty(b.shape, dtype=M.dtype)\n",
    "\n",
    "    Kp = (1 / (a+ 1e-299)).reshape(-1, 1) * K\n",
    "    cpt = 0\n",
    "    err = 1\n",
    "    while (err > stopThr and cpt < numItermax):\n",
    "        uprev = u\n",
    "        vprev = v\n",
    "\n",
    "        KtransposeU = np.dot(K.T, u)\n",
    "        v = np.divide(b, (KtransposeU+ 1e-299))\n",
    "        u = 1. / (np.dot(Kp, v)+ 1e-299)\n",
    "\n",
    "        if (np.any(KtransposeU == 0)\n",
    "                or np.any(np.isnan(u)) or np.any(np.isnan(v))\n",
    "                or np.any(np.isinf(u)) or np.any(np.isinf(v))):\n",
    "            # we have reached the machine precision\n",
    "            # come back to previous solution and quit loop\n",
    "            print('Warning: numerical errors at iteration', cpt)\n",
    "            u = uprev\n",
    "            v = vprev\n",
    "            break\n",
    "        if cpt % 10 == 0:\n",
    "            # we can speed up the process by checking for the error only all\n",
    "            # the 10th iterations\n",
    "            if n_hists:\n",
    "                np.einsum('ik,ij,jk->jk', u, K, v, out=tmp2)\n",
    "            else:\n",
    "                # compute right marginal tmp2= (diag(u)Kdiag(v))^T1\n",
    "                np.einsum('i,ij,j->j', u, K, v, out=tmp2)\n",
    "            err = np.linalg.norm(tmp2 - b)  # violation of marginal\n",
    "            if log:\n",
    "                log['err'].append(err)\n",
    "\n",
    "            if verbose:\n",
    "                if cpt % 200 == 0:\n",
    "                    print(\n",
    "                        '{:5s}|{:12s}'.format('It.', 'Err') + '\\n' + '-' * 19)\n",
    "                print('{:5d}|{:8e}|'.format(cpt, err))\n",
    "        cpt = cpt + 1\n",
    "    if log:\n",
    "        log['u'] = u\n",
    "        log['v'] = v\n",
    "\n",
    "    if n_hists:  # return only loss\n",
    "        res = np.einsum('ik,ij,jk,ij->k', u, K, v, M)\n",
    "        if log:\n",
    "            return res, cpt, log\n",
    "        else:\n",
    "            return res, cpt\n",
    "\n",
    "    else:  # return OT matrix\n",
    "\n",
    "        if log:\n",
    "            return u.reshape((-1, 1)) * K * v.reshape((1, -1)), cpt, log\n",
    "        else:\n",
    "            return u.reshape((-1, 1)) * K * v.reshape((1, -1)), cpt, (np.multiply(M,u.reshape((-1, 1)) * K * v.reshape((1, -1)))).sum()\n"
   ]
  },
  {
   "cell_type": "code",
   "execution_count": 44,
   "metadata": {},
   "outputs": [
    {
     "name": "stdout",
     "output_type": "stream",
     "text": [
      "34.6 ms ± 1.31 ms per loop (mean ± std. dev. of 20 runs, 20 loops each)\n"
     ]
    }
   ],
   "source": [
    "M = 4                  \n",
    "N = 4\n",
    "m = 0.25*np.ones(M)\n",
    "n = 0.25*np.ones(N)\n",
    "c = np.array([[3.10112791, 2.01924761, 2.        , 2.01924761],\n",
    "     [3.10112791, 3.        , 1.16637984, 1.        ],\n",
    "     [3.        , 3.10112791, 1.16637984, 2.01924761],\n",
    "     [1.        , 3.        , 2.33275967, 4.22075809]])\n",
    "%timeit -r 20 -n 20 sinkhorn_knopp(m,n,c,0.005)"
   ]
  },
  {
   "cell_type": "code",
   "execution_count": 45,
   "metadata": {},
   "outputs": [
    {
     "name": "stdout",
     "output_type": "stream",
     "text": [
      "2.68 s ± 0 ns per loop (mean ± std. dev. of 1 run, 1 loop each)\n"
     ]
    },
    {
     "data": {
      "text/plain": [
       "(array([[2.14034157e-05, 2.11001659e-05, 2.07982920e-05, ...,\n",
       "         0.00000000e+00, 0.00000000e+00, 0.00000000e+00],\n",
       "        [2.11001660e-05, 2.08095516e-05, 2.05200582e-05, ...,\n",
       "         0.00000000e+00, 0.00000000e+00, 0.00000000e+00],\n",
       "        [2.07982920e-05, 2.05200582e-05, 2.02427037e-05, ...,\n",
       "         0.00000000e+00, 0.00000000e+00, 0.00000000e+00],\n",
       "        ...,\n",
       "        [6.41085604e-92, 9.42458775e-92, 1.38531238e-91, ...,\n",
       "         2.02427029e-05, 2.05200574e-05, 2.07982911e-05],\n",
       "        [4.35795298e-92, 6.40918702e-92, 9.42458775e-92, ...,\n",
       "         2.05200574e-05, 2.08095508e-05, 2.11001651e-05],\n",
       "        [2.96202057e-92, 4.35795298e-92, 6.41085604e-92, ...,\n",
       "         2.07982912e-05, 2.11001651e-05, 2.14034148e-05]]),\n",
       " 721,\n",
       " 1.0023757748875959)"
      ]
     },
     "execution_count": 45,
     "metadata": {},
     "output_type": "execute_result"
    }
   ],
   "source": [
    "x = np.linspace(0,1,1000)\n",
    "y = np.linspace(1,2,1000)\n",
    "len_x = np.size(x)\n",
    "len_y = np.size(y)\n",
    "\n",
    "c = np.zeros((len_x,len_y))\n",
    "for i in range(len_x):\n",
    "    for j in range(len_y):\n",
    "        c[i,j] = (y[j]-x[i])**2\n",
    "\n",
    "m = np.ones(len_x)/len_x\n",
    "n = np.ones(len_y)/len_y\n",
    "M = len_x\n",
    "N = len_y\n",
    "%timeit -r 1 -n 1 sinkhorn_knopp(m,n,c,0.005)\n",
    "sinkhorn_knopp(m,n,c,0.005)"
   ]
  },
  {
   "cell_type": "code",
   "execution_count": 46,
   "metadata": {},
   "outputs": [
    {
     "name": "stdout",
     "output_type": "stream",
     "text": [
      "2.92 s ± 0 ns per loop (mean ± std. dev. of 1 run, 1 loop each)\n"
     ]
    }
   ],
   "source": [
    "%timeit -r 1 -n 1 sinkhorn_knopp(m,n,c,0.005)"
   ]
  },
  {
   "cell_type": "code",
   "execution_count": 47,
   "metadata": {},
   "outputs": [
    {
     "name": "stdout",
     "output_type": "stream",
     "text": [
      "2min 36s ± 0 ns per loop (mean ± std. dev. of 1 run, 1 loop each)\n"
     ]
    }
   ],
   "source": [
    "%timeit -r 1 -n 1 generalised_forward_backward(c,m,n,1000)"
   ]
  },
  {
   "cell_type": "code",
   "execution_count": 48,
   "metadata": {},
   "outputs": [
    {
     "name": "stdout",
     "output_type": "stream",
     "text": [
      "2min 51s ± 0 ns per loop (mean ± std. dev. of 1 run, 1 loop each)\n"
     ]
    }
   ],
   "source": [
    "%timeit -r 1 -n 1 primal_dual(c,m,n,1000)"
   ]
  },
  {
   "cell_type": "markdown",
   "metadata": {},
   "source": [
    "# Dual Entropic Regularisation\n"
   ]
  },
  {
   "cell_type": "code",
   "execution_count": 138,
   "metadata": {},
   "outputs": [],
   "source": [
    "import numpy as np\n",
    "from scipy.optimize import fmin_l_bfgs_b\n",
    "\"https://github.com/PythonOT/POT/blob/master/ot/bregman.py\"\n",
    "def screenkhorn(a, b, M, reg, ns_budget=None, nt_budget=None, uniform=False, restricted=True,\n",
    "                maxiter=10000, maxfun=10000, pgtol=1e-09, verbose=False, log=False):\n",
    "    r\"\"\"\"\n",
    "    Screening Sinkhorn Algorithm for Regularized Optimal Transport\n",
    "    The function solves an approximate dual of Sinkhorn divergence [2] which is written as the following optimization problem:\n",
    "    ..math::\n",
    "      (u, v) = \\argmin_{u, v} 1_{ns}^T B(u,v) 1_{nt} - <\\kappa u, a> - <v/\\kappa, b>\n",
    "      where B(u,v) = \\diag(e^u) K \\diag(e^v), with K = e^{-M/reg} and\n",
    "      s.t. e^{u_i} \\geq \\epsilon / \\kappa, for all i \\in {1, ..., ns}\n",
    "           e^{v_j} \\geq \\epsilon \\kappa, for all j \\in {1, ..., nt}\n",
    "      The parameters \\kappa and \\epsilon are determined w.r.t the couple number budget of points (ns_budget, nt_budget), see Equation (5) in [26]\n",
    "    Parameters\n",
    "    ----------\n",
    "    a : `numpy.ndarray`, shape=(ns,)\n",
    "        samples weights in the source domain\n",
    "    b : `numpy.ndarray`, shape=(nt,)\n",
    "        samples weights in the target domain\n",
    "    M : `numpy.ndarray`, shape=(ns, nt)\n",
    "        Cost matrix\n",
    "    reg : `float`\n",
    "        Level of the entropy regularisation\n",
    "    ns_budget : `int`, deafult=None\n",
    "        Number budget of points to be keeped in the source domain\n",
    "        If it is None then 50% of the source sample points will be keeped\n",
    "    nt_budget : `int`, deafult=None\n",
    "        Number budget of points to be keeped in the target domain\n",
    "        If it is None then 50% of the target sample points will be keeped\n",
    "    uniform : `bool`, default=False\n",
    "        If `True`, the source and target distribution are supposed to be uniform, i.e., a_i = 1 / ns and b_j = 1 / nt\n",
    "    restricted : `bool`, default=True\n",
    "         If `True`, a warm-start initialization for the  L-BFGS-B solver\n",
    "         using a restricted Sinkhorn algorithm with at most 5 iterations\n",
    "    maxiter : `int`, default=10000\n",
    "      Maximum number of iterations in LBFGS solver\n",
    "    maxfun : `int`, default=10000\n",
    "      Maximum  number of function evaluations in LBFGS solver\n",
    "    pgtol : `float`, default=1e-09\n",
    "      Final objective function accuracy in LBFGS solver\n",
    "    verbose : `bool`, default=False\n",
    "        If `True`, dispaly informations about the cardinals of the active sets and the paramerters kappa\n",
    "        and epsilon\n",
    "    Dependency\n",
    "    ----------\n",
    "    To gain more efficiency, screenkhorn needs to call the \"Bottleneck\" package (https://pypi.org/project/Bottleneck/)\n",
    "    in the screening pre-processing step. If Bottleneck isn't installed, the following error message appears:\n",
    "    \"Bottleneck module doesn't exist. Install it from https://pypi.org/project/Bottleneck/\"\n",
    "    Returns\n",
    "    -------\n",
    "    gamma : `numpy.ndarray`, shape=(ns, nt)\n",
    "        Screened optimal transportation matrix for the given parameters\n",
    "    log : `dict`, default=False\n",
    "      Log dictionary return only if log==True in parameters\n",
    "    References\n",
    "    -----------\n",
    "    .. [26] Alaya M. Z., Bérar M., Gasso G., Rakotomamonjy A. (2019). Screening Sinkhorn Algorithm for Regularized Optimal Transport (NIPS) 33, 2019\n",
    "    \"\"\"\n",
    "    # check if bottleneck module exists\n",
    "    try:\n",
    "        import bottleneck\n",
    "    except ImportError:\n",
    "        warnings.warn(\n",
    "            \"Bottleneck module is not installed. Install it from https://pypi.org/project/Bottleneck/ for better performance.\")\n",
    "        bottleneck = np\n",
    "\n",
    "    a = np.asarray(a, dtype=np.float64)\n",
    "    b = np.asarray(b, dtype=np.float64)\n",
    "    M = np.asarray(M, dtype=np.float64)\n",
    "    ns, nt = M.shape\n",
    "\n",
    "    # by default, we keep only 50% of the sample data points\n",
    "    if ns_budget is None:\n",
    "        ns_budget = int(np.floor(0.5 * ns))\n",
    "    if nt_budget is None:\n",
    "        nt_budget = int(np.floor(0.5 * nt))\n",
    "\n",
    "    # calculate the Gibbs kernel\n",
    "    K = np.empty_like(M)\n",
    "    np.divide(M, -reg, out=K)\n",
    "    np.exp(K, out=K)\n",
    "\n",
    "    def projection(u, epsilon):\n",
    "        u[u <= epsilon] = epsilon\n",
    "        return u\n",
    "\n",
    "    # ----------------------------------------------------------------------------------------------------------------#\n",
    "    #                                          Step 1: Screening pre-processing                                       #\n",
    "    # ----------------------------------------------------------------------------------------------------------------#\n",
    "\n",
    "    if ns_budget == ns and nt_budget == nt:\n",
    "        # full number of budget points (ns, nt) = (ns_budget, nt_budget)\n",
    "        Isel = np.ones(ns, dtype=bool)\n",
    "        Jsel = np.ones(nt, dtype=bool)\n",
    "        epsilon = 0.0\n",
    "        kappa = 1.0\n",
    "\n",
    "        cst_u = 0.\n",
    "        cst_v = 0.\n",
    "\n",
    "        bounds_u = [(0.0, np.inf)] * ns\n",
    "        bounds_v = [(0.0, np.inf)] * nt\n",
    "\n",
    "        a_I = a\n",
    "        b_J = b\n",
    "        K_IJ = K\n",
    "        K_IJc = []\n",
    "        K_IcJ = []\n",
    "\n",
    "        vec_eps_IJc = np.zeros(nt)\n",
    "        vec_eps_IcJ = np.zeros(ns)\n",
    "\n",
    "    else:\n",
    "        # sum of rows and columns of K\n",
    "        K_sum_cols = K.sum(axis=1)\n",
    "        K_sum_rows = K.sum(axis=0)\n",
    "\n",
    "        if uniform:\n",
    "            if ns / ns_budget < 4:\n",
    "                aK_sort = np.sort(K_sum_cols)\n",
    "                epsilon_u_square = a[0] / aK_sort[ns_budget - 1]\n",
    "            else:\n",
    "                aK_sort = bottleneck.partition(K_sum_cols, ns_budget - 1)[ns_budget - 1]\n",
    "                epsilon_u_square = a[0] / aK_sort\n",
    "\n",
    "            if nt / nt_budget < 4:\n",
    "                bK_sort = np.sort(K_sum_rows)\n",
    "                epsilon_v_square = b[0] / bK_sort[nt_budget - 1]\n",
    "            else:\n",
    "                bK_sort = bottleneck.partition(K_sum_rows, nt_budget - 1)[nt_budget - 1]\n",
    "                epsilon_v_square = b[0] / bK_sort\n",
    "        else:\n",
    "            aK = a / K_sum_cols\n",
    "            bK = b / K_sum_rows\n",
    "\n",
    "            aK_sort = np.sort(aK)[::-1]\n",
    "            epsilon_u_square = aK_sort[ns_budget - 1]\n",
    "\n",
    "            bK_sort = np.sort(bK)[::-1]\n",
    "            epsilon_v_square = bK_sort[nt_budget - 1]\n",
    "\n",
    "        # active sets I and J (see Lemma 1 in [26])\n",
    "        Isel = a >= epsilon_u_square * K_sum_cols\n",
    "        Jsel = b >= epsilon_v_square * K_sum_rows\n",
    "\n",
    "        if sum(Isel) != ns_budget:\n",
    "            if uniform:\n",
    "                aK = a / K_sum_cols\n",
    "                aK_sort = np.sort(aK)[::-1]\n",
    "            epsilon_u_square = aK_sort[ns_budget - 1:ns_budget + 1].mean()\n",
    "            Isel = a >= epsilon_u_square * K_sum_cols\n",
    "            ns_budget = sum(Isel)\n",
    "\n",
    "        if sum(Jsel) != nt_budget:\n",
    "            if uniform:\n",
    "                bK = b / K_sum_rows\n",
    "                bK_sort = np.sort(bK)[::-1]\n",
    "            epsilon_v_square = bK_sort[nt_budget - 1:nt_budget + 1].mean()\n",
    "            Jsel = b >= epsilon_v_square * K_sum_rows\n",
    "            nt_budget = sum(Jsel)\n",
    "\n",
    "        epsilon = (epsilon_u_square * epsilon_v_square) ** (1 / 4)\n",
    "        kappa = (epsilon_v_square / epsilon_u_square) ** (1 / 2)\n",
    "\n",
    "        if verbose:\n",
    "            print(\"epsilon = %s\\n\" % epsilon)\n",
    "            print(\"kappa = %s\\n\" % kappa)\n",
    "            print('Cardinality of selected points: |Isel| = %s \\t |Jsel| = %s \\n' % (sum(Isel), sum(Jsel)))\n",
    "\n",
    "        # Ic, Jc: complementary of the active sets I and J\n",
    "        Ic = ~Isel\n",
    "        Jc = ~Jsel\n",
    "\n",
    "        K_IJ = K[np.ix_(Isel, Jsel)]\n",
    "        K_IcJ = K[np.ix_(Ic, Jsel)]\n",
    "        K_IJc = K[np.ix_(Isel, Jc)]\n",
    "\n",
    "        K_min = K_IJ.min()\n",
    "        if K_min == 0:\n",
    "            K_min = np.finfo(float).tiny\n",
    "\n",
    "        # a_I, b_J, a_Ic, b_Jc\n",
    "        a_I = a[Isel]\n",
    "        b_J = b[Jsel]\n",
    "        if not uniform:\n",
    "            a_I_min = a_I.min()\n",
    "            a_I_max = a_I.max()\n",
    "            b_J_max = b_J.max()\n",
    "            b_J_min = b_J.min()\n",
    "        else:\n",
    "            a_I_min = a_I[0]\n",
    "            a_I_max = a_I[0]\n",
    "            b_J_max = b_J[0]\n",
    "            b_J_min = b_J[0]\n",
    "\n",
    "        # box constraints in L-BFGS-B (see Proposition 1 in [26])\n",
    "        bounds_u = [(max(a_I_min / ((nt - nt_budget) * epsilon + nt_budget * (b_J_max / (\n",
    "                    ns * epsilon * kappa * K_min))), epsilon / kappa), a_I_max / (nt * epsilon * K_min))] * ns_budget\n",
    "\n",
    "        bounds_v = [(\n",
    "            max(b_J_min / ((ns - ns_budget) * epsilon + ns_budget * (kappa * a_I_max / (nt * epsilon * K_min))),\n",
    "                epsilon * kappa), b_J_max / (ns * epsilon * K_min))] * nt_budget\n",
    "\n",
    "        # pre-calculated constants for the objective\n",
    "        vec_eps_IJc = epsilon * kappa * (K_IJc * np.ones(nt - nt_budget).reshape((1, -1))).sum(axis=1)\n",
    "        vec_eps_IcJ = (epsilon / kappa) * (np.ones(ns - ns_budget).reshape((-1, 1)) * K_IcJ).sum(axis=0)\n",
    "\n",
    "    # initialisation\n",
    "    u0 = np.full(ns_budget, (1. / ns_budget) + epsilon / kappa)\n",
    "    v0 = np.full(nt_budget, (1. / nt_budget) + epsilon * kappa)\n",
    "\n",
    "    # pre-calculed constants for Restricted Sinkhorn (see Algorithm 1 in supplementary of [26])\n",
    "    if restricted:\n",
    "        if ns_budget != ns or nt_budget != nt:\n",
    "            cst_u = kappa * epsilon * K_IJc.sum(axis=1)\n",
    "            cst_v = epsilon * K_IcJ.sum(axis=0) / kappa\n",
    "\n",
    "        cpt = 1\n",
    "        while cpt < 5:  # 5 iterations\n",
    "            K_IJ_v = np.dot(K_IJ.T, u0) + cst_v\n",
    "            v0 = b_J / (kappa * K_IJ_v)\n",
    "            KIJ_u = np.dot(K_IJ, v0) + cst_u\n",
    "            u0 = (kappa * a_I) / KIJ_u\n",
    "            cpt += 1\n",
    "\n",
    "        u0 = projection(u0, epsilon / kappa)\n",
    "        v0 = projection(v0, epsilon * kappa)\n",
    "\n",
    "    else:\n",
    "        u0 = u0\n",
    "        v0 = v0\n",
    "\n",
    "    def restricted_sinkhorn(usc, vsc, max_iter=5):\n",
    "        \"\"\"\n",
    "        Restricted Sinkhorn Algorithm as a warm-start initialized point for L-BFGS-B (see Algorithm 1 in supplementary of [26])\n",
    "        \"\"\"\n",
    "        cpt = 1\n",
    "        while cpt < max_iter:\n",
    "            K_IJ_v = np.dot(K_IJ.T, usc) + cst_v\n",
    "            vsc = b_J / (kappa * K_IJ_v)\n",
    "            KIJ_u = np.dot(K_IJ, vsc) + cst_u\n",
    "            usc = (kappa * a_I) / KIJ_u\n",
    "            cpt += 1\n",
    "\n",
    "        usc = projection(usc, epsilon / kappa)\n",
    "        vsc = projection(vsc, epsilon * kappa)\n",
    "\n",
    "        return usc, vsc\n",
    "\n",
    "    def screened_obj(usc, vsc):\n",
    "        part_IJ = np.dot(np.dot(usc, K_IJ), vsc) - kappa * np.dot(a_I, np.log(usc)) - (1. / kappa) * np.dot(b_J,\n",
    "                                                                                                            np.log(vsc))\n",
    "        part_IJc = np.dot(usc, vec_eps_IJc)\n",
    "        part_IcJ = np.dot(vec_eps_IcJ, vsc)\n",
    "        psi_epsilon = part_IJ + part_IJc + part_IcJ\n",
    "        return psi_epsilon\n",
    "\n",
    "    def screened_grad(usc, vsc):\n",
    "        # gradients of Psi_(kappa,epsilon) w.r.t u and v\n",
    "        grad_u = np.dot(K_IJ, vsc) + vec_eps_IJc - kappa * a_I / usc\n",
    "        grad_v = np.dot(K_IJ.T, usc) + vec_eps_IcJ - (1. / kappa) * b_J / vsc\n",
    "        return grad_u, grad_v\n",
    "\n",
    "    def bfgspost(theta):\n",
    "        u = theta[:ns_budget]\n",
    "        v = theta[ns_budget:]\n",
    "        # objective\n",
    "        f = screened_obj(u, v)\n",
    "        # gradient\n",
    "        g_u, g_v = screened_grad(u, v)\n",
    "        g = np.hstack([g_u, g_v])\n",
    "        return f, g\n",
    "\n",
    "    # ----------------------------------------------------------------------------------------------------------------#\n",
    "    #                                           Step 2: L-BFGS-B solver                                              #\n",
    "    # ----------------------------------------------------------------------------------------------------------------#\n",
    "\n",
    "    u0, v0 = restricted_sinkhorn(u0, v0)\n",
    "    theta0 = np.hstack([u0, v0])\n",
    "\n",
    "    bounds = bounds_u + bounds_v  # constraint bounds\n",
    "\n",
    "    def obj(theta):\n",
    "        return bfgspost(theta)\n",
    "\n",
    "    theta, _, _ = fmin_l_bfgs_b(func=obj,\n",
    "                                x0=theta0,\n",
    "                                bounds=bounds,\n",
    "                                maxfun=maxfun,\n",
    "                                pgtol=pgtol,\n",
    "                                maxiter=maxiter)\n",
    "\n",
    "    usc = theta[:ns_budget] #dual variables u and v.\n",
    "    vsc = theta[ns_budget:]\n",
    "\n",
    "    usc_full = np.full(ns, epsilon / kappa)\n",
    "    vsc_full = np.full(nt, epsilon * kappa)\n",
    "    usc_full[Isel] = usc\n",
    "    vsc_full[Jsel] = vsc\n",
    "    \n",
    "    #u = e^{f/reg} \n",
    "    f = np.log(usc)*reg\n",
    "    g = np.log(vsc)*reg\n",
    "    \n",
    "    \n",
    "    \n",
    "    if log:\n",
    "        log = {}\n",
    "        log['u'] = usc_full\n",
    "        log['v'] = vsc_full\n",
    "        log['Isel'] = Isel\n",
    "        log['Jsel'] = Jsel\n",
    "\n",
    "    gamma = usc_full[:, None] * K * vsc_full[None, :]\n",
    "    gamma = gamma / gamma.sum()\n",
    "\n",
    "    if log:\n",
    "        return gamma, log\n",
    "    else:\n",
    "        return gamma, f, g"
   ]
  },
  {
   "cell_type": "code",
   "execution_count": 139,
   "metadata": {},
   "outputs": [],
   "source": [
    "#NOT WORKING"
   ]
  },
  {
   "cell_type": "code",
   "execution_count": 140,
   "metadata": {},
   "outputs": [],
   "source": [
    "M = 4                  \n",
    "N = 4\n",
    "m = 0.25*np.ones(M)\n",
    "n = 0.25*np.ones(N)\n",
    "c = np.array([[3.10112791, 2.01924761, 2.        , 2.01924761],\n",
    "     [3.10112791, 3.        , 1.16637984, 1.        ],\n",
    "     [3.        , 3.10112791, 1.16637984, 2.01924761],\n",
    "     [1.        , 3.        , 2.33275967, 4.22075809]])"
   ]
  },
  {
   "cell_type": "code",
   "execution_count": 141,
   "metadata": {},
   "outputs": [
    {
     "name": "stdout",
     "output_type": "stream",
     "text": [
      "(array([[7.87568961e-184, 2.50000000e-001, 1.92181477e-074,\n",
      "        2.31438744e-089],\n",
      "       [2.35907123e-184, 4.86768261e-087, 1.47058824e-002,\n",
      "        2.35294118e-001],\n",
      "       [2.43808381e-174, 1.36117047e-094, 2.50000000e-001,\n",
      "        1.17852133e-088],\n",
      "       [2.50000000e-001, 1.62506146e-086, 2.40200458e-103,\n",
      "        0.00000000e+000]]), array([-0.00693147, -0.01295904,  0.00120703, -0.00693147]), array([1.        , 2.01924761, 1.15824134, 1.00572444]))\n"
     ]
    }
   ],
   "source": [
    "x = screenkhorn(m,n,c,0.005,ns_budget = M,nt_budget = N)\n",
    "print(x)"
   ]
  },
  {
   "cell_type": "code",
   "execution_count": 142,
   "metadata": {},
   "outputs": [
    {
     "name": "stdout",
     "output_type": "stream",
     "text": [
      "(array([[7.87568961e-184, 2.50000000e-001, 1.74575658e-075,\n",
      "        2.62795690e-088],\n",
      "       [2.20633130e-185, 4.55252066e-088, 1.24937531e-004,\n",
      "        2.49875062e-001],\n",
      "       [2.68396267e-173, 1.49844345e-093, 2.50000000e-001,\n",
      "        1.47315167e-086],\n",
      "       [2.50000000e-001, 1.62506146e-086, 2.18195601e-104,\n",
      "        0.00000000e+000]]), 1000, 1.2964276495864568)\n"
     ]
    }
   ],
   "source": [
    "x = sinkhorn_knopp(m,n,c,0.005)\n",
    "print(x)"
   ]
  },
  {
   "cell_type": "markdown",
   "metadata": {},
   "source": [
    "# Initial Guess Primal Dual"
   ]
  },
  {
   "cell_type": "code",
   "execution_count": 152,
   "metadata": {},
   "outputs": [],
   "source": [
    "#@jit(nopython=True, fastmath = True)#, parallel = True)\n",
    "def primal_dual_ER_init(c,m,n,tau,iters,x,y_1,y_2):\n",
    "    #Algorithm for calculating solution x, in the primal space\n",
    "    #and y_1, y_2 in the dual space.\n",
    "    #Also returns the value of the objective function c*x at each\n",
    "    #iteration.\n",
    "    \n",
    "    #Initialise tau\n",
    "    #tau = 0.0001\n",
    "    \n",
    "    #Initialise sigma\n",
    "    sig = 1/(tau*2) - 0.5\n",
    "    \n",
    "    #fetch lengths of m and n.\n",
    "    N = n.size\n",
    "    M = m.size\n",
    "    \n",
    "#     #Initialise x\n",
    "#     x = np.zeros((M,N))\n",
    "#     x[:,0] = m\n",
    "#     x[0,:] = n\n",
    "#     x[0,0] = 0.5*(m[-1] + n[-1])\n",
    "    \n",
    "#     #Initialise y_1 and y_2\n",
    "#     y_1 = zeros((M,N))\n",
    "#     y_2 = zeros((M,N))\n",
    "    \n",
    "#     y_1[0,:] = n\n",
    "#     y_2[:,0] = m\n",
    "    \n",
    "    #Save that objective function\n",
    "    obj = [np.sum(np.multiply(c,x))]\n",
    "    \n",
    "    \n",
    "    for k in range(iters):\n",
    "        #update x\n",
    "        xnew = x - tau*c - tau*(y_1 + y_2)\n",
    "        \n",
    "        #matrices for projection over the simplex C_1^m and the simplex C_2^n.\n",
    "        γ_1 = (1/sig)*y_1 + 2*xnew - x\n",
    "        γ_2 = (1/sig)*y_2 + 2*xnew - x\n",
    "        \n",
    "        \n",
    "        x_1 = zeros_like(γ_1)\n",
    "        for i in range(M):\n",
    "            x_1[i] = CondatP_c(γ_1[i],x_1[i],m[i],N)\n",
    "        \n",
    "        x_2 = zeros_like(γ_2)\n",
    "        for i in range(N):\n",
    "            x_2[:,i] = CondatP_c(γ_2[:,i],x_2[:,i],n[i],M)\n",
    "            \n",
    "        \n",
    "        #update x using the projection over the simplex C_1^m\n",
    "        y_1new = y_1 + sig*(2*xnew - x) - sig*x_1\n",
    "  \n",
    "        #update x using the projection over the simplex C_2^n\n",
    "        y_2new = y_2 + sig*(2*xnew - x) - sig*x_2\n",
    "        \n",
    "        #Reset x,y_1, y_2 for the next iteration\n",
    "        x = xnew\n",
    "        y_1 = y_1new\n",
    "        y_2 = y_2new\n",
    "        \n",
    "        #update objective function\n",
    "        obj.append(np.sum(np.multiply(c,x)))\n",
    "        \n",
    "    return x,obj"
   ]
  },
  {
   "cell_type": "code",
   "execution_count": 144,
   "metadata": {},
   "outputs": [
    {
     "name": "stdout",
     "output_type": "stream",
     "text": [
      "[[7.87568961e-184 2.50000000e-001 1.74575658e-075 2.62795690e-088]\n",
      " [2.20633130e-185 4.55252066e-088 1.24937531e-004 2.49875062e-001]\n",
      " [2.68396267e-173 1.49844345e-093 2.50000000e-001 1.47315167e-086]\n",
      " [2.50000000e-001 1.62506146e-086 2.18195601e-104 0.00000000e+000]]\n",
      "[[3.10112791 2.01924761 2.         2.01924761]\n",
      " [3.10112791 3.         1.16637984 1.        ]\n",
      " [3.         3.10112791 1.16637984 2.01924761]\n",
      " [1.         3.         2.33275967 4.22075809]]\n"
     ]
    }
   ],
   "source": [
    "x = sinkhorn_knopp(m,n,c,0.005)[0]\n",
    "print(x)\n",
    "print(c)\n",
    "[gam,f,g] = screenkhorn(m,n,c,0.005,ns_budget = M,nt_budget = N)\n"
   ]
  },
  {
   "cell_type": "code",
   "execution_count": 145,
   "metadata": {},
   "outputs": [
    {
     "name": "stdout",
     "output_type": "stream",
     "text": [
      "1.2964068625\n",
      "[[ 0.00000000e+00  2.50000000e-01  0.00000000e+00  0.00000000e+00]\n",
      " [ 0.00000000e+00 -3.46944695e-18  0.00000000e+00  2.50000000e-01]\n",
      " [ 0.00000000e+00 -3.46944695e-18  2.50000000e-01  0.00000000e+00]\n",
      " [ 2.50000000e-01 -3.46944695e-18  0.00000000e+00  0.00000000e+00]]\n"
     ]
    },
    {
     "data": {
      "image/png": "[encoded data removed]",
      "text/plain": [
       "<Figure size 432x288 with 1 Axes>"
      ]
     },
     "metadata": {
      "needs_background": "light"
     },
     "output_type": "display_data"
    }
   ],
   "source": [
    "[x,obj] = primal_dual_ER_init(c,m,n,0.01,100,x,f,g)\n",
    "plt.plot(obj)\n",
    "print(obj[-1])\n",
    "print(x)"
   ]
  },
  {
   "cell_type": "code",
   "execution_count": 147,
   "metadata": {},
   "outputs": [
    {
     "name": "stdout",
     "output_type": "stream",
     "text": [
      "2.2314344522532625\n",
      "[[0.05686586 0.06942852 0.05881085 0.06489476]\n",
      " [0.05456981 0.05775374 0.06479705 0.0728794 ]\n",
      " [0.05803672 0.05930167 0.06736664 0.06529497]\n",
      " [0.0805276  0.06351607 0.05902545 0.04693087]]\n"
     ]
    },
    {
     "data": {
      "image/png": "[encoded data removed]",
      "text/plain": [
       "<Figure size 432x288 with 1 Axes>"
      ]
     },
     "metadata": {
      "needs_background": "light"
     },
     "output_type": "display_data"
    }
   ],
   "source": [
    "[x,obj] = primal_dual(c,m,n,100)\n",
    "plt.plot(obj)\n",
    "print(obj[-1])\n",
    "print(x)"
   ]
  },
  {
   "cell_type": "code",
   "execution_count": 148,
   "metadata": {},
   "outputs": [
    {
     "name": "stdout",
     "output_type": "stream",
     "text": [
      "Time taken for Primal Dual = 107.7545816898346\n",
      "0.9990457115760598\n"
     ]
    },
    {
     "data": {
      "image/png": "[encoded data removed]",
      "text/plain": [
       "<Figure size 432x288 with 1 Axes>"
      ]
     },
     "metadata": {
      "needs_background": "light"
     },
     "output_type": "display_data"
    }
   ],
   "source": [
    "tau = 0.0001\n",
    "x = np.linspace(0,1,1000)\n",
    "y = np.linspace(1,2,1000)\n",
    "len_x = np.size(x)\n",
    "len_y = np.size(y)\n",
    "\n",
    "c = np.zeros((len_x,len_y))\n",
    "for i in range(len_x):\n",
    "    for j in range(len_y):\n",
    "        c[i,j] = (y[j]-x[i])**2\n",
    "\n",
    "m = np.ones(len_x)/len_x\n",
    "n = np.ones(len_y)/len_y\n",
    "M = len_x\n",
    "N = len_y\n",
    "\n",
    "t = time.time()\n",
    "[x,obj] = primal_dual(c,m,n,500)\n",
    "elapsed = time.time() - t\n",
    "print('Time taken for Primal Dual =', elapsed)\n",
    "plt.plot(obj)\n",
    "print(obj[-1])"
   ]
  },
  {
   "cell_type": "code",
   "execution_count": 153,
   "metadata": {},
   "outputs": [
    {
     "name": "stderr",
     "output_type": "stream",
     "text": [
      "/home/s2110992/anaconda3/lib/python3.7/site-packages/ipykernel_launcher.py:253: RuntimeWarning: divide by zero encountered in log\n",
      "/home/s2110992/anaconda3/lib/python3.7/site-packages/ipykernel_launcher.py:262: RuntimeWarning: divide by zero encountered in true_divide\n"
     ]
    },
    {
     "name": "stdout",
     "output_type": "stream",
     "text": [
      "Time taken for Primal Dual with Initialisation = 100.09649014472961\n",
      "1.0049851431938452\n"
     ]
    },
    {
     "data": {
      "image/png": "[encoded data removed]",
      "text/plain": [
       "<Figure size 432x288 with 1 Axes>"
      ]
     },
     "metadata": {
      "needs_background": "light"
     },
     "output_type": "display_data"
    }
   ],
   "source": [
    "tau = 0.0001\n",
    "x = np.linspace(0,1,1000)\n",
    "y = np.linspace(1,2,1000)\n",
    "len_x = np.size(x)\n",
    "len_y = np.size(y)\n",
    "\n",
    "c = np.zeros((len_x,len_y))\n",
    "for i in range(len_x):\n",
    "    for j in range(len_y):\n",
    "        c[i,j] = (y[j]-x[i])**2\n",
    "\n",
    "m = np.ones(len_x)/len_x\n",
    "n = np.ones(len_y)/len_y\n",
    "M = len_x\n",
    "N = len_y\n",
    "\n",
    "t = time.time()\n",
    "x = sinkhorn_knopp(m,n,c,0.005)[0]\n",
    "[gam,f,g] = screenkhorn(m,n,c,0.005,ns_budget = M,nt_budget = N)\n",
    "[x,obj] = primal_dual_ER_init(c,m,n,tau,500,x,f,g)\n",
    "elapsed = time.time() - t\n",
    "print('Time taken for Primal Dual with Initialisation =', elapsed)\n",
    "plt.plot(obj)\n",
    "print(obj[-1])"
   ]
  },
  {
   "cell_type": "code",
   "execution_count": null,
   "metadata": {},
   "outputs": [],
   "source": []
  }
 ],
 "metadata": {
  "kernelspec": {
   "display_name": "Python 3",
   "language": "python",
   "name": "python3"
  },
  "language_info": {
   "codemirror_mode": {
    "name": "ipython",
    "version": 3
   },
   "file_extension": ".py",
   "mimetype": "text/x-python",
   "name": "python",
   "nbconvert_exporter": "python",
   "pygments_lexer": "ipython3",
   "version": "3.7.6"
  }
 },
 "nbformat": 4,
 "nbformat_minor": 2
}
