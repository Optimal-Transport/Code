{
 "cells": [
  {
   "cell_type": "markdown",
   "metadata": {},
   "source": [
    "In this experiment, we use previous solutions for sparsity enhacement."
   ]
  },
  {
   "cell_type": "markdown",
   "metadata": {},
   "source": [
    "# Primal Dual to solve Discrete Optimal Transport"
   ]
  },
  {
   "cell_type": "markdown",
   "metadata": {},
   "source": [
    "<div class=\"alert alert-block alert-success\">\n",
    "    \n",
    "This notebook we aim at solving DOT instances using modern optimisation algorithms that outperform the simplex method. To do this we will use the Primal Dual framework. \n",
    "    \n",
    "The notebook is divided in three parts. First, Condat's projection into the ℓ<sub>1</sub> ball algorithm is implemented. Second, the algorithm is used to find feasible solutions of DOT. Finally, the Primal Dual algorithm is tested. The results are automatically stored with an unique identifier and some performance plots are presented.\n",
    "</div>\n",
    "\n",
    "* Laurent Condat. <i>Fast projection onto the simplex and the ℓ<sub>1</sub> ball</i>. Math. Program. 158, 575–585 (2016). [https://doi.org/10.1007/s10107-015-0946-6](https://doi.org/10.1007/s10107-015-0946-6). _Also available at_ [https://hal.archives-ouvertes.fr/hal-01056171v2](https://hal.archives-ouvertes.fr/hal-01056171v2).\n",
    "\n",
    "\n",
    "\n",
    "* V ̃u, B. (2011). <i>A splitting algorithm for dual monotone inclusions involving cocoercive operators </i>. Adv. Comput. Math, pages 667–681. [https://doi.org/10.1007/s10444-011-9254-8](https://doi.org/10.1007/s10444-011-9254-8).\n",
    "\n",
    "\n",
    "* Emmanuel J. Candès, Michael B. Wakin, Stephen P. Boyd ()\n",
    "Enhancing Sparsity by Reweighted $\\ell_1$ Minimization"
   ]
  },
  {
   "cell_type": "markdown",
   "metadata": {},
   "source": [
    "<div class=\"alert alert-block alert-info\">\n",
    "Packages\n",
    "</div>"
   ]
  },
  {
   "cell_type": "code",
   "execution_count": 1,
   "metadata": {},
   "outputs": [],
   "source": [
    "import numpy    as np\n",
    "import numpy.ma as ma\n",
    "import pandas   as pd\n",
    "import time\n",
    "import os\n",
    "import matplotlib.pyplot as plt\n",
    "\n",
    "# Particular functions\n",
    "from numpy import zeros, zeros_like, allclose, where, ones, inf, absolute, linspace, tile, maximum, minimum\n",
    "from numpy.random import default_rng as rng\n",
    "from numba import jit\n",
    "from scipy.spatial.distance import cdist\n",
    "from scipy.linalg import norm"
   ]
  },
  {
   "cell_type": "markdown",
   "metadata": {},
   "source": [
    "# Algorithm"
   ]
  },
  {
   "cell_type": "markdown",
   "metadata": {},
   "source": [
    "Now, we will run the Primal Dual algorithm addapted for DOT. To test it, we will run it against some of the DOTMark files. We will aim to transport from one given image to another, which are normalised and flattened in ```C```-order. The matrix of costs is based on a uniform grid within $[0,1]^2$ with $M$ points for the source and $N$ points for the target."
   ]
  },
  {
   "cell_type": "markdown",
   "metadata": {},
   "source": [
    "## Instance information"
   ]
  },
  {
   "cell_type": "code",
   "execution_count": 2,
   "metadata": {},
   "outputs": [],
   "source": [
    "folder = 'Microscopy_Sized'\n",
    "path = 'Exact/' + folder + '/'"
   ]
  },
  {
   "cell_type": "code",
   "execution_count": 3,
   "metadata": {},
   "outputs": [
    {
     "name": "stdout",
     "output_type": "stream",
     "text": [
      "There are 4 instances in this location:\n"
     ]
    },
    {
     "data": {
      "text/plain": [
       "['data16_1002-data16_1010_p=S2',\n",
       " 'data8_1002-data8_1010_p=S2',\n",
       " 'data32_1002-data32_1010_p=S2',\n",
       " 'data64_1002-data64_1010_p=S2']"
      ]
     },
     "metadata": {},
     "output_type": "display_data"
    }
   ],
   "source": [
    "files = [f[:-9] for f in os.listdir(path) if f.endswith('.txt')]\n",
    "print('There are', len(files), 'instances in this location:')\n",
    "display(files)"
   ]
  },
  {
   "cell_type": "markdown",
   "metadata": {},
   "source": [
    "Select one instance:"
   ]
  },
  {
   "cell_type": "code",
   "execution_count": 4,
   "metadata": {},
   "outputs": [],
   "source": [
    "instance = files[2]\n",
    "full_path = path + instance"
   ]
  },
  {
   "cell_type": "markdown",
   "metadata": {},
   "source": [
    "Load data:"
   ]
  },
  {
   "cell_type": "code",
   "execution_count": 5,
   "metadata": {},
   "outputs": [],
   "source": [
    "m = np.load(full_path + '_m.npy');    M = m.size\n",
    "n = np.load(full_path + '_n.npy');    N = n.size\n",
    "c = np.load(full_path + '_Cost.npy')\n",
    "sol = np.load(full_path + '_Sol.npy')"
   ]
  },
  {
   "cell_type": "code",
   "execution_count": 6,
   "metadata": {},
   "outputs": [],
   "source": [
    "with open(full_path + '_Time.txt', 'r') as f:\n",
    "    obj_exact = eval((f.readlines())[0])['Obj']"
   ]
  },
  {
   "cell_type": "markdown",
   "metadata": {},
   "source": [
    "Load ER solution:"
   ]
  },
  {
   "cell_type": "code",
   "execution_count": 7,
   "metadata": {},
   "outputs": [],
   "source": [
    "ER_location = folder + '_Results' + '/' + instance + '/'"
   ]
  },
  {
   "cell_type": "code",
   "execution_count": 8,
   "metadata": {},
   "outputs": [],
   "source": [
    "ER = np.load( ER_location + 'ER-' + '_Sol.npy')"
   ]
  },
  {
   "cell_type": "markdown",
   "metadata": {},
   "source": [
    "## Run algorithm"
   ]
  },
  {
   "cell_type": "markdown",
   "metadata": {},
   "source": [
    "<div class=\"alert alert-block alert-warning\">\n",
    "    \n",
    "In what follows, we provide tests for the chosen instance running the Primal Dual approach given by Bằng Công Vũ (2011).\n",
    "    \n",
    "    \n",
    "* V ̃u, B. (2011). <i>A splitting algorithm for dual monotone inclusions involving cocoercive operators </i>. Adv. Comput. Math, pages 667–681. [https://doi.org/10.1007/s10444-011-9254-8](https://doi.org/10.1007/s10444-011-9254-8).\n",
    "</div>"
   ]
  },
  {
   "cell_type": "code",
   "execution_count": 9,
   "metadata": {
    "code_folding": [
     0,
     47,
     51,
     73,
     104,
     111,
     131
    ]
   },
   "outputs": [],
   "source": [
    "def primal_dual_improved(c,m,n,iters, collect_obj = False, true_obj = None, \n",
    "                         true_obj_tol = 1e-4, true_solution = None, save_iter = False, \n",
    "                         guess_x = None,  guess_y = None,\n",
    "                         τ = 1e-3 * 1.9):\n",
    "    # Algorithm for calculating solution x, in the primal space\n",
    "    # and y_1, y_2 in the dual space.\n",
    "    # Also returns the value of the objective function c*x at each\n",
    "    # iteration.\n",
    "    \n",
    "    '''\n",
    "        Initialise parameters\n",
    "    '''\n",
    "    # Initialise τ\n",
    "    #τ = 1e-3 * 1.9\n",
    "    \n",
    "    # Initialise σ\n",
    "    σ = 1.0/τ - 1e-5\n",
    "    \n",
    "    # Initialise ρ\n",
    "    ρ = 1.9 #- 1e-4 # this helped in 8x8 but not for bigger colour instances\n",
    "    \n",
    "    # Fetch lengths of m and n.\n",
    "    N = n.size\n",
    "    M = m.size\n",
    "    \n",
    "    print('\\n*** Primal Dual with M = {}, N = {}, MN = {} ***\\n\\n'.format(M,N,M*N))\n",
    "    \n",
    "    \n",
    "    '''\n",
    "        Initialise matrices\n",
    "    '''\n",
    "    # Initialise x & y\n",
    "    #Initialise x & y\n",
    "    if guess_x is not None:\n",
    "        x = guess_x.copy()\n",
    "    if guess_y is not None:\n",
    "        y = guess_y.copy()\n",
    "    else:\n",
    "        x, y = zeros((2,M,N));            #y[0,:] = n;    y[:,0] = m\n",
    "    #Initialise xₖ, yₖ, xₚ, u, κ\n",
    "    xₖ, yₖ, xₚ, u = zeros((4,M,N))\n",
    "    κ_1, κ_2 = zeros(M), zeros(N)\n",
    "\n",
    "    '''\n",
    "        Information from true solution (if available)\n",
    "    '''\n",
    "    # Store current objective value\n",
    "    if collect_obj == True:\n",
    "        obj = [ (c*x).sum() ]\n",
    "    \n",
    "    # Norm of true solution\n",
    "    if true_solution is not None:\n",
    "        true_obj_crit = 1.0\n",
    "        if true_obj is None:\n",
    "            true_obj = (c*sol).sum()\n",
    "        print('Objective from ground truth:', obj_exact,'\\n')\n",
    "        \n",
    "    '''\n",
    "        Iterate the Primal Dual scheme\n",
    "    '''\n",
    "    \n",
    "    every_iter = {\n",
    "        'it':[], 'obj':[], 'dist_obj':[], 'time':[], 'dist_x':[], 'rel_var':[], 'l_1':[],\n",
    "        'hyperₘ':{'L2': [], 'max': [], 'min':[]}, 'hyperₙ':{'L2': [], 'max': [], 'min':[]}\n",
    "                 }\n",
    "    every_critical = {'it':[], 'obj':[], 'tol':[], 'dist_obj':[], 'time':[], 'dist_x':[], 'l_1':[]}\n",
    "    \n",
    "    if true_solution is not None:\n",
    "        print('     It  | Tolerance |  obj dist |    Time    | ‖x-x*‖_F |  ‖x‖_1  ')\n",
    "        print( '{:-^66}'.format('') )\n",
    "        \n",
    "    timed = 0.0\n",
    "    \n",
    "    for k in range(iters):\n",
    "        #print(xₘ.size)\n",
    "        it_time = time.time()\n",
    "        \n",
    "        \n",
    "        xₖ = x - τ * (c + y)\n",
    "        maximum(xₖ, 0.0, xₖ)             # xₖ = where(xₖ < 0.0, 0.0, xₖ)\n",
    "        \n",
    "        u = y/σ + 2.0*xₖ - x        # u = (y + σ * (2.0 * xₖ - x))/σ\n",
    "        \n",
    "        κ_1 = u.sum(1) - m\n",
    "        κ_2 = u.sum(0) - n\n",
    "        \n",
    "        β_1 = κ_1.sum() / (M + N)\n",
    "        β_2 = κ_2.sum() / (M + N)\n",
    "               \n",
    "        yₖ = σ*(tile( (κ_1 - β_1)/N, (N,1)).T + tile( (κ_2 - β_2)/M, (M,1)))\n",
    "        \n",
    "    \n",
    "        # Reset x and y for the next iteration\n",
    "        x *= 1-ρ;   xₖ *= ρ;     x += xₖ\n",
    "        y *= 1-ρ;   yₖ *= ρ;     y += yₖ\n",
    "        \n",
    "        # Measure time up to this point!\n",
    "        end = time.time()\n",
    "        timed += end - it_time\n",
    "        \n",
    "        # Recover values from mask\n",
    "        ℓ_1 = norm(x.ravel(),1)\n",
    "        \n",
    "        # Update objective function\n",
    "        if collect_obj == True:\n",
    "            obj.append( (c*x).sum() )\n",
    "            # Compute relative objective distance\n",
    "            if true_solution is not None:\n",
    "                dist_true_sol = abs(obj[-1] - true_obj)/true_obj\n",
    "        \n",
    "        # If all iterations are to be stored:\n",
    "        if save_iter == True:\n",
    "            frob_d = norm(sol-x, 'fro')/norm(sol, 'fro')\n",
    "            r, s   = x.sum(1) - m, x.sum(0) - n\n",
    "            \n",
    "            every_iter['it'].append( k )\n",
    "            every_iter['obj'].append( (c*x).sum() )\n",
    "            every_iter['dist_obj'].append( dist_true_sol if true_obj is not None else np.nan )\n",
    "            every_iter['time'].append( timed )\n",
    "            every_iter['dist_x'].append( frob_d )\n",
    "            every_iter['rel_var'].append( norm(xₚ-x, 'fro')/norm(x, 'fro') if not allclose(x,0) else np.nan )\n",
    "            every_iter['l_1'].append(ℓ_1)\n",
    "            # Constrained satisfactibility\n",
    "            every_iter['hyperₘ']['L2'].append( norm(r)/norm(m) )\n",
    "            every_iter['hyperₘ']['max'].append( abs(r/maximum(m,1e-7)).max() )\n",
    "            every_iter['hyperₘ']['min'].append( abs(r/maximum(m,1e-7)).min() )\n",
    "            every_iter['hyperₙ']['L2'].append( norm(s)/norm(n) )\n",
    "            every_iter['hyperₙ']['max'].append( abs(s/maximum(n,1e-7)).max() )\n",
    "            every_iter['hyperₙ']['min'].append( abs(s/maximum(n,1e-7)).min() )\n",
    "            \n",
    "        # If a true solution is available, we check the tolerance:\n",
    "        if true_solution is not None: \n",
    "            if dist_true_sol < true_obj_crit:\n",
    "                frob_d = norm(sol-x, 'fro')/norm(sol, 'fro')\n",
    "                \n",
    "                every_critical['it'].append( k )\n",
    "                every_critical['obj'].append( obj[-1] )\n",
    "                every_critical['tol'].append( true_obj_crit )\n",
    "                every_critical['dist_obj'].append( dist_true_sol )\n",
    "                every_critical['time'].append( timed )\n",
    "                every_critical['dist_x'].append( frob_d )\n",
    "                every_critical['l_1'].append(ℓ_1)\n",
    "                \n",
    "                print('* {0:6.0f} |   {1:.1e} |  {2:1.1e}  | {3:8.2f} s |   {4:4.4f} |  {5:4.4f}'.format(k,\n",
    "                                                                            true_obj_crit,\n",
    "                                                                            dist_true_sol,\n",
    "                                                                            timed,frob_d,ℓ_1))\n",
    "                \n",
    "                # If the prescribed tolerance is reached, we finish.\n",
    "                if dist_true_sol < true_obj_tol:\n",
    "                    print('Solution found with given tolerance.')\n",
    "                    break\n",
    "                \n",
    "                # Adjust current level of inner tolerance\n",
    "                true_obj_crit *= 0.1\n",
    "        \n",
    "        # Update previous step\n",
    "        xₚ = x.copy()\n",
    "                \n",
    "    if true_solution is not None:\n",
    "        print( '{:-^66}'.format('') )\n",
    "        \n",
    "    print('\\nAlgorithm stopped after {0:.4f} seconds and {1} iterations'.format(timed,k))\n",
    "    \n",
    "    \n",
    "    if collect_obj == False and save_iter == True:\n",
    "        return x, y, every_iter\n",
    "    if collect_obj == True and save_iter == True:\n",
    "        return x, y, obj, every_critical, every_iter\n",
    "    else:\n",
    "        return x"
   ]
  },
  {
   "cell_type": "markdown",
   "metadata": {},
   "source": [
    "### Results of $8\\times 8$"
   ]
  },
  {
   "cell_type": "markdown",
   "metadata": {},
   "source": [
    "Sparsity plots:"
   ]
  },
  {
   "cell_type": "code",
   "execution_count": 10,
   "metadata": {
    "cell_style": "split"
   },
   "outputs": [
    {
     "data": {
      "image/png": "[encoded data removed]",
      "text/plain": [
       "<Figure size 432x288 with 1 Axes>"
      ]
     },
     "metadata": {
      "needs_background": "light"
     },
     "output_type": "display_data"
    }
   ],
   "source": [
    "plt.spy(sol); plt.title('Exact'); plt.show()"
   ]
  },
  {
   "cell_type": "code",
   "execution_count": 11,
   "metadata": {
    "cell_style": "split"
   },
   "outputs": [
    {
     "data": {
      "image/png": "[encoded data removed]",
      "text/plain": [
       "<Figure size 432x288 with 1 Axes>"
      ]
     },
     "metadata": {
      "needs_background": "light"
     },
     "output_type": "display_data"
    }
   ],
   "source": [
    "plt.spy(ER); plt.title('Entropic'); plt.show()"
   ]
  },
  {
   "cell_type": "markdown",
   "metadata": {},
   "source": [
    "**Initial run:**"
   ]
  },
  {
   "cell_type": "code",
   "execution_count": 12,
   "metadata": {
    "cell_style": "center",
    "scrolled": true
   },
   "outputs": [
    {
     "name": "stdout",
     "output_type": "stream",
     "text": [
      "\n",
      "*** Primal Dual with M = 64, N = 64, MN = 4096 ***\n",
      "\n",
      "\n",
      "Objective from ground truth: 0.016271821448840373 \n",
      "\n",
      "     It  | Tolerance |  obj dist |    Time    | ‖x-x*‖_F |  ‖x‖_1  \n",
      "------------------------------------------------------------------\n",
      "*      4 |   1.0e+00 |  5.6e-01  |     0.00 s |   0.8888 |  1.1784\n",
      "*      6 |   1.0e-01 |  5.9e-02  |     0.00 s |   0.8619 |  1.0856\n",
      "*    327 |   1.0e-02 |  9.8e-03  |     0.03 s |   0.3478 |  0.9997\n",
      "*    445 |   1.0e-03 |  9.1e-04  |     0.04 s |   0.3268 |  1.0005\n",
      "*    723 |   1.0e-04 |  6.3e-05  |     0.05 s |   0.3111 |  0.9999\n",
      "*    724 |   1.0e-05 |  4.7e-06  |     0.05 s |   0.3111 |  0.9999\n",
      "*   1203 |   1.0e-06 |  6.7e-07  |     0.09 s |   0.3110 |  1.0000\n",
      "*   1241 |   1.0e-07 |  2.6e-08  |     0.09 s |   0.3110 |  1.0001\n",
      "Solution found with given tolerance.\n",
      "------------------------------------------------------------------\n",
      "\n",
      "Algorithm stopped after 0.0888 seconds and 1241 iterations\n"
     ]
    }
   ],
   "source": [
    "x, y, obj, every_critical, every_iter = primal_dual_improved(c,m,n, 2000, collect_obj = True, true_obj = obj_exact, true_obj_tol = 1e-7, true_solution = sol, save_iter = True)"
   ]
  },
  {
   "cell_type": "code",
   "execution_count": 13,
   "metadata": {},
   "outputs": [
    {
     "data": {
      "text/plain": [
       "(0.00555526991049769, 0.00345889403902181, 0.016271821018138663)"
      ]
     },
     "execution_count": 13,
     "metadata": {},
     "output_type": "execute_result"
    }
   ],
   "source": [
    "every_iter['hyperₘ']['max'][-1], every_iter['hyperₙ']['max'][-1], (c*x).sum()"
   ]
  },
  {
   "cell_type": "code",
   "execution_count": 14,
   "metadata": {
    "cell_style": "center",
    "code_folding": [
     0
    ]
   },
   "outputs": [
    {
     "name": "stdout",
     "output_type": "stream",
     "text": [
      "Shared support:   127 \n",
      "Approximation:    2846 \n",
      "Exact support:    127 \n"
     ]
    }
   ],
   "source": [
    "# Support measures\n",
    "x_mask = (x<=0)\n",
    "Masking_sol, Masking_Truth = ones((2,N,N));    Masking_sol[x_mask] = 0;    Masking_Truth[sol<=0] = 0\n",
    "Masking_sol[Masking_Truth + Masking_sol != 2] = 0        # Cancel common support\n",
    "print( 'Shared support:   {0:3.0f} \\nApproximation:    {1:3.0f} \\nExact support:    {2:3.0f} '.format(\n",
    "    Masking_sol.sum(),x_mask.sum(),sol[sol>0].size) )"
   ]
  },
  {
   "cell_type": "markdown",
   "metadata": {},
   "source": [
    "Now let's modify $c$:"
   ]
  },
  {
   "cell_type": "code",
   "execution_count": 15,
   "metadata": {},
   "outputs": [],
   "source": [
    "xₐ = x.copy()\n",
    "yₐ = y.copy()"
   ]
  },
  {
   "cell_type": "code",
   "execution_count": 16,
   "metadata": {},
   "outputs": [],
   "source": [
    "w  = 1/( abs(c*xₐ) + 0.1 )"
   ]
  },
  {
   "cell_type": "code",
   "execution_count": 17,
   "metadata": {},
   "outputs": [
    {
     "name": "stdout",
     "output_type": "stream",
     "text": [
      "\n",
      "*** Primal Dual with M = 64, N = 64, MN = 4096 ***\n",
      "\n",
      "\n",
      "Objective from ground truth: 0.016271821448840373 \n",
      "\n",
      "     It  | Tolerance |  obj dist |    Time    | ‖x-x*‖_F |  ‖x‖_1  \n",
      "------------------------------------------------------------------\n",
      "------------------------------------------------------------------\n",
      "\n",
      "Algorithm stopped after 0.1314 seconds and 1999 iterations\n"
     ]
    }
   ],
   "source": [
    "x, y, obj, every_critical, every_iter = primal_dual_improved(c*w,m,n, 2000, collect_obj = True, true_obj = obj_exact, true_obj_tol = 1e-7, true_solution = sol, save_iter = True, guess_x = xₐ, guess_y = yₐ)"
   ]
  },
  {
   "cell_type": "code",
   "execution_count": 18,
   "metadata": {
    "cell_style": "center",
    "code_folding": [
     0
    ]
   },
   "outputs": [
    {
     "name": "stdout",
     "output_type": "stream",
     "text": [
      "Shared support:   126 \n",
      "Approximation:    2863 \n",
      "Exact support:    127 \n"
     ]
    }
   ],
   "source": [
    "# Support measures\n",
    "x_mask = (x<=0)\n",
    "Masking_sol, Masking_Truth = ones((2,N,N));    Masking_sol[x_mask] = 0;    Masking_Truth[sol<=0] = 0\n",
    "Masking_sol[Masking_Truth + Masking_sol != 2] = 0        # Cancel common support\n",
    "print( 'Shared support:   {0:3.0f} \\nApproximation:    {1:3.0f} \\nExact support:    {2:3.0f} '.format(\n",
    "    Masking_sol.sum(),x_mask.sum(),sol[sol>0].size) )"
   ]
  },
  {
   "cell_type": "code",
   "execution_count": 19,
   "metadata": {},
   "outputs": [
    {
     "data": {
      "text/plain": [
       "(0.0018425052456293375, 0.005335722955798731, 0.016270028606934217)"
      ]
     },
     "execution_count": 19,
     "metadata": {},
     "output_type": "execute_result"
    }
   ],
   "source": [
    "every_iter['hyperₘ']['max'][-1], every_iter['hyperₙ']['max'][-1], (c*x).sum()"
   ]
  },
  {
   "cell_type": "markdown",
   "metadata": {},
   "source": [
    "Let us do it again:"
   ]
  },
  {
   "cell_type": "code",
   "execution_count": 20,
   "metadata": {},
   "outputs": [],
   "source": [
    "x_b = x.copy()\n",
    "y_b = y.copy()\n",
    "w  = 1/( abs(c*x_b) + 0.1 )"
   ]
  },
  {
   "cell_type": "code",
   "execution_count": 30,
   "metadata": {},
   "outputs": [
    {
     "name": "stdout",
     "output_type": "stream",
     "text": [
      "\n",
      "*** Primal Dual with M = 64, N = 64, MN = 4096 ***\n",
      "\n",
      "\n",
      "Objective from ground truth: 0.016271821448840373 \n",
      "\n",
      "     It  | Tolerance |  obj dist |    Time    | ‖x-x*‖_F |  ‖x‖_1  \n",
      "------------------------------------------------------------------\n",
      "------------------------------------------------------------------\n",
      "\n",
      "Algorithm stopped after 0.1390 seconds and 1999 iterations\n"
     ]
    }
   ],
   "source": [
    "x, y, obj, every_critical, every_iter = primal_dual_improved(c*w,m,n, 2000, collect_obj = True, true_obj = obj_exact, true_obj_tol = 1e-7, true_solution = sol, save_iter = True, guess_x = x_b, guess_y = y_b)"
   ]
  },
  {
   "cell_type": "code",
   "execution_count": 31,
   "metadata": {
    "cell_style": "center",
    "code_folding": [
     0
    ]
   },
   "outputs": [
    {
     "name": "stdout",
     "output_type": "stream",
     "text": [
      "Shared support:   124 \n",
      "Approximation:    2867 \n",
      "Exact support:    127 \n"
     ]
    }
   ],
   "source": [
    "# Support measures\n",
    "x_mask = (x<=0)\n",
    "Masking_sol, Masking_Truth = ones((2,N,N));    Masking_sol[x_mask] = 0;    Masking_Truth[sol<=0] = 0\n",
    "Masking_sol[Masking_Truth + Masking_sol != 2] = 0        # Cancel common support\n",
    "print( 'Shared support:   {0:3.0f} \\nApproximation:    {1:3.0f} \\nExact support:    {2:3.0f} '.format(\n",
    "    Masking_sol.sum(),x_mask.sum(),sol[sol>0].size) )"
   ]
  },
  {
   "cell_type": "code",
   "execution_count": 32,
   "metadata": {},
   "outputs": [
    {
     "data": {
      "text/plain": [
       "(0.00017338679163741546, 0.0004472124942751807, 0.016271794572751845)"
      ]
     },
     "execution_count": 32,
     "metadata": {},
     "output_type": "execute_result"
    }
   ],
   "source": [
    "every_iter['hyperₘ']['max'][-1], every_iter['hyperₙ']['max'][-1], (c*x).sum()"
   ]
  },
  {
   "cell_type": "markdown",
   "metadata": {},
   "source": [
    "Once more..."
   ]
  },
  {
   "cell_type": "code",
   "execution_count": 33,
   "metadata": {},
   "outputs": [],
   "source": [
    "x_c = x.copy()\n",
    "y_c = y.copy()\n",
    "w  = 1/( abs(c*x_c) + 0.1 )"
   ]
  },
  {
   "cell_type": "code",
   "execution_count": 34,
   "metadata": {},
   "outputs": [
    {
     "name": "stdout",
     "output_type": "stream",
     "text": [
      "\n",
      "*** Primal Dual with M = 64, N = 64, MN = 4096 ***\n",
      "\n",
      "\n",
      "Objective from ground truth: 0.016271821448840373 \n",
      "\n",
      "     It  | Tolerance |  obj dist |    Time    | ‖x-x*‖_F |  ‖x‖_1  \n",
      "------------------------------------------------------------------\n",
      "------------------------------------------------------------------\n",
      "\n",
      "Algorithm stopped after 0.1353 seconds and 1999 iterations\n"
     ]
    }
   ],
   "source": [
    "x, y, obj, every_critical, every_iter = primal_dual_improved(c*w,m,n, 2000, collect_obj = True, true_obj = obj_exact, true_obj_tol = 1e-7, true_solution = sol, save_iter = True, guess_x = x_c, guess_y = y_c)"
   ]
  },
  {
   "cell_type": "code",
   "execution_count": 35,
   "metadata": {
    "cell_style": "center",
    "code_folding": [
     0
    ]
   },
   "outputs": [
    {
     "name": "stdout",
     "output_type": "stream",
     "text": [
      "Shared support:   123 \n",
      "Approximation:    2873 \n",
      "Exact support:    127 \n"
     ]
    }
   ],
   "source": [
    "# Support measures\n",
    "x_mask = (x<=0)\n",
    "Masking_sol, Masking_Truth = ones((2,N,N));    Masking_sol[x_mask] = 0;    Masking_Truth[sol<=0] = 0\n",
    "Masking_sol[Masking_Truth + Masking_sol != 2] = 0        # Cancel common support\n",
    "print( 'Shared support:   {0:3.0f} \\nApproximation:    {1:3.0f} \\nExact support:    {2:3.0f} '.format(\n",
    "    Masking_sol.sum(),x_mask.sum(),sol[sol>0].size) )"
   ]
  },
  {
   "cell_type": "code",
   "execution_count": 36,
   "metadata": {},
   "outputs": [
    {
     "data": {
      "text/plain": [
       "(8.824337756717268e-05, 0.00010116360738312658, 0.016271927881203806)"
      ]
     },
     "execution_count": 36,
     "metadata": {},
     "output_type": "execute_result"
    }
   ],
   "source": [
    "every_iter['hyperₘ']['max'][-1], every_iter['hyperₙ']['max'][-1], (c*x).sum()"
   ]
  },
  {
   "cell_type": "markdown",
   "metadata": {},
   "source": [
    "We observe a reduction in the maximum error for constraint satisfactibility. "
   ]
  },
  {
   "cell_type": "markdown",
   "metadata": {},
   "source": [
    "Let us use a loop now:"
   ]
  },
  {
   "cell_type": "code",
   "execution_count": 39,
   "metadata": {},
   "outputs": [
    {
     "name": "stdout",
     "output_type": "stream",
     "text": [
      "\n",
      "*** Primal Dual with M = 64, N = 64, MN = 4096 ***\n",
      "\n",
      "\n",
      "Objective from ground truth: 0.016271821448840373 \n",
      "\n",
      "     It  | Tolerance |  obj dist |    Time    | ‖x-x*‖_F |  ‖x‖_1  \n",
      "------------------------------------------------------------------\n",
      "------------------------------------------------------------------\n",
      "\n",
      "Algorithm stopped after 0.1363 seconds and 1999 iterations\n",
      "Shared support:   116 \n",
      "Approximation:    2896 \n",
      "Exact support:    127 \n",
      "5.8709109925884025e-05 4.428801815770359e-05 0.01627213364736112\n",
      "\n",
      "*** Primal Dual with M = 64, N = 64, MN = 4096 ***\n",
      "\n",
      "\n",
      "Objective from ground truth: 0.016271821448840373 \n",
      "\n",
      "     It  | Tolerance |  obj dist |    Time    | ‖x-x*‖_F |  ‖x‖_1  \n",
      "------------------------------------------------------------------\n",
      "------------------------------------------------------------------\n",
      "\n",
      "Algorithm stopped after 0.1314 seconds and 1999 iterations\n",
      "Shared support:   116 \n",
      "Approximation:    2896 \n",
      "Exact support:    127 \n",
      "6.077619478010069e-05 3.240798936502445e-05 0.016271858829914044\n",
      "\n",
      "*** Primal Dual with M = 64, N = 64, MN = 4096 ***\n",
      "\n",
      "\n",
      "Objective from ground truth: 0.016271821448840373 \n",
      "\n",
      "     It  | Tolerance |  obj dist |    Time    | ‖x-x*‖_F |  ‖x‖_1  \n",
      "------------------------------------------------------------------\n",
      "------------------------------------------------------------------\n",
      "\n",
      "Algorithm stopped after 0.1310 seconds and 1999 iterations\n",
      "Shared support:   116 \n",
      "Approximation:    2896 \n",
      "Exact support:    127 \n",
      "5.705766702037969e-05 3.6125452880232506e-05 0.016271418722911525\n",
      "\n",
      "*** Primal Dual with M = 64, N = 64, MN = 4096 ***\n",
      "\n",
      "\n",
      "Objective from ground truth: 0.016271821448840373 \n",
      "\n",
      "     It  | Tolerance |  obj dist |    Time    | ‖x-x*‖_F |  ‖x‖_1  \n",
      "------------------------------------------------------------------\n",
      "------------------------------------------------------------------\n",
      "\n",
      "Algorithm stopped after 0.1313 seconds and 1999 iterations\n",
      "Shared support:   115 \n",
      "Approximation:    2897 \n",
      "Exact support:    127 \n",
      "6.826909698492872e-05 4.4197622291956765e-05 0.016271727224440237\n",
      "\n",
      "*** Primal Dual with M = 64, N = 64, MN = 4096 ***\n",
      "\n",
      "\n",
      "Objective from ground truth: 0.016271821448840373 \n",
      "\n",
      "     It  | Tolerance |  obj dist |    Time    | ‖x-x*‖_F |  ‖x‖_1  \n",
      "------------------------------------------------------------------\n",
      "------------------------------------------------------------------\n",
      "\n",
      "Algorithm stopped after 0.1255 seconds and 1999 iterations\n",
      "Shared support:   116 \n",
      "Approximation:    2896 \n",
      "Exact support:    127 \n",
      "7.538355414055622e-05 4.3903067210765067e-05 0.016271846293795862\n",
      "\n",
      "*** Primal Dual with M = 64, N = 64, MN = 4096 ***\n",
      "\n",
      "\n",
      "Objective from ground truth: 0.016271821448840373 \n",
      "\n",
      "     It  | Tolerance |  obj dist |    Time    | ‖x-x*‖_F |  ‖x‖_1  \n",
      "------------------------------------------------------------------\n",
      "------------------------------------------------------------------\n",
      "\n",
      "Algorithm stopped after 0.1313 seconds and 1999 iterations\n",
      "Shared support:   116 \n",
      "Approximation:    2896 \n",
      "Exact support:    127 \n",
      "6.569820850868268e-05 2.713877749969926e-05 0.016271675115525158\n",
      "\n",
      "*** Primal Dual with M = 64, N = 64, MN = 4096 ***\n",
      "\n",
      "\n",
      "Objective from ground truth: 0.016271821448840373 \n",
      "\n",
      "     It  | Tolerance |  obj dist |    Time    | ‖x-x*‖_F |  ‖x‖_1  \n",
      "------------------------------------------------------------------\n",
      "------------------------------------------------------------------\n",
      "\n",
      "Algorithm stopped after 0.1288 seconds and 1999 iterations\n",
      "Shared support:   116 \n",
      "Approximation:    2896 \n",
      "Exact support:    127 \n",
      "3.3044957418759295e-05 1.821291562418809e-05 0.016271766699903746\n",
      "\n",
      "*** Primal Dual with M = 64, N = 64, MN = 4096 ***\n",
      "\n",
      "\n",
      "Objective from ground truth: 0.016271821448840373 \n",
      "\n",
      "     It  | Tolerance |  obj dist |    Time    | ‖x-x*‖_F |  ‖x‖_1  \n",
      "------------------------------------------------------------------\n",
      "------------------------------------------------------------------\n",
      "\n",
      "Algorithm stopped after 0.1306 seconds and 1999 iterations\n",
      "Shared support:   116 \n",
      "Approximation:    2896 \n",
      "Exact support:    127 \n",
      "2.8505037413627513e-05 1.1723576772288758e-05 0.01627187849474184\n",
      "\n",
      "*** Primal Dual with M = 64, N = 64, MN = 4096 ***\n",
      "\n",
      "\n",
      "Objective from ground truth: 0.016271821448840373 \n",
      "\n",
      "     It  | Tolerance |  obj dist |    Time    | ‖x-x*‖_F |  ‖x‖_1  \n",
      "------------------------------------------------------------------\n",
      "------------------------------------------------------------------\n",
      "\n",
      "Algorithm stopped after 0.1309 seconds and 1999 iterations\n",
      "Shared support:   116 \n",
      "Approximation:    2896 \n",
      "Exact support:    127 \n",
      "5.1758337548884116e-05 2.1445009756641183e-05 0.016271950501626147\n",
      "\n",
      "*** Primal Dual with M = 64, N = 64, MN = 4096 ***\n",
      "\n",
      "\n",
      "Objective from ground truth: 0.016271821448840373 \n",
      "\n",
      "     It  | Tolerance |  obj dist |    Time    | ‖x-x*‖_F |  ‖x‖_1  \n",
      "------------------------------------------------------------------\n",
      "------------------------------------------------------------------\n",
      "\n",
      "Algorithm stopped after 0.1267 seconds and 1999 iterations\n",
      "Shared support:   115 \n",
      "Approximation:    2897 \n",
      "Exact support:    127 \n",
      "3.720234202169602e-05 2.0879463699807685e-05 0.016271854906988507\n"
     ]
    }
   ],
   "source": [
    "for i in range(20):\n",
    "    x_prev = x.copy()\n",
    "    y_prev = y.copy()\n",
    "    w  = 1/( abs(c*x_prev) + 0.1 )\n",
    "    \n",
    "    x, y, obj, every_critical, every_iter = primal_dual_improved(c*w,m,n, 2000, collect_obj = True, true_obj = obj_exact, true_obj_tol = 1e-7, true_solution = sol, save_iter = True, guess_x = x_prev, guess_y = y_prev)\n",
    "    \n",
    "    # Support measures\n",
    "    x_mask = (x<=0)\n",
    "    Masking_sol, Masking_Truth = ones((2,N,N));    Masking_sol[x_mask] = 0;    Masking_Truth[sol<=0] = 0\n",
    "    Masking_sol[Masking_Truth + Masking_sol != 2] = 0        # Cancel common support\n",
    "    print( 'Shared support:   {0:3.0f} \\nApproximation:    {1:3.0f} \\nExact support:    {2:3.0f} '.format(\n",
    "        Masking_sol.sum(),x_mask.sum(),sol[sol>0].size) )\n",
    "\n",
    "    # Constraint satisfactibility\n",
    "    print(every_iter['hyperₘ']['max'][-1], every_iter['hyperₙ']['max'][-1], (c*x).sum())"
   ]
  },
  {
   "cell_type": "code",
   "execution_count": 41,
   "metadata": {
    "cell_style": "split"
   },
   "outputs": [
    {
     "data": {
      "image/png": "[encoded data removed]",
      "text/plain": [
       "<Figure size 432x288 with 1 Axes>"
      ]
     },
     "metadata": {
      "needs_background": "light"
     },
     "output_type": "display_data"
    }
   ],
   "source": [
    "plt.spy(x); plt.show()"
   ]
  },
  {
   "cell_type": "markdown",
   "metadata": {},
   "source": [
    "The current solution seems to be of better quality, as it satisfies the constraints with additional numerical precision while not acting like a \"false\" minimum:"
   ]
  },
  {
   "cell_type": "code",
   "execution_count": 50,
   "metadata": {},
   "outputs": [
    {
     "data": {
      "text/plain": [
       "(3.3458148139845975e-08, -4.307017047020965e-10)"
      ]
     },
     "execution_count": 50,
     "metadata": {},
     "output_type": "execute_result"
    }
   ],
   "source": [
    "(c*(x - sol)).sum(), (c*(xₐ - sol)).sum()"
   ]
  },
  {
   "cell_type": "markdown",
   "metadata": {},
   "source": [
    "**Include initial mask from ER:**"
   ]
  },
  {
   "cell_type": "code",
   "execution_count": 81,
   "metadata": {},
   "outputs": [],
   "source": [
    "x = ER.copy()\n",
    "y = np.zeros(ER.shape)\n",
    "w  = 1/( abs(c*x) + 0.1 )"
   ]
  },
  {
   "cell_type": "code",
   "execution_count": 82,
   "metadata": {
    "scrolled": true
   },
   "outputs": [
    {
     "name": "stdout",
     "output_type": "stream",
     "text": [
      "\n",
      "*** Primal Dual with M = 64, N = 64, MN = 4096 ***\n",
      "\n",
      "\n",
      "Objective from ground truth: 0.016271821448840373 \n",
      "\n",
      "     It  | Tolerance |  obj dist |    Time    | ‖x-x*‖_F |  ‖x‖_1  \n",
      "------------------------------------------------------------------\n",
      "------------------------------------------------------------------\n",
      "\n",
      "Algorithm stopped after 0.6274 seconds and 9999 iterations\n",
      "Shared support:   117 \n",
      "Approximation:    3344 \n",
      "Exact support:    127 \n",
      "0.0011258881387186095 0.0005505882534156013 0.01627301798420148\n",
      "\n",
      "*** Primal Dual with M = 64, N = 64, MN = 4096 ***\n",
      "\n",
      "\n",
      "Objective from ground truth: 0.016271821448840373 \n",
      "\n",
      "     It  | Tolerance |  obj dist |    Time    | ‖x-x*‖_F |  ‖x‖_1  \n",
      "------------------------------------------------------------------\n",
      "------------------------------------------------------------------\n",
      "\n",
      "Algorithm stopped after 0.6283 seconds and 9999 iterations\n",
      "Shared support:   121 \n",
      "Approximation:    3337 \n",
      "Exact support:    127 \n",
      "0.0006789898681742059 0.000706367938937873 0.01627485618899\n",
      "\n",
      "*** Primal Dual with M = 64, N = 64, MN = 4096 ***\n",
      "\n",
      "\n",
      "Objective from ground truth: 0.016271821448840373 \n",
      "\n",
      "     It  | Tolerance |  obj dist |    Time    | ‖x-x*‖_F |  ‖x‖_1  \n",
      "------------------------------------------------------------------\n",
      "------------------------------------------------------------------\n",
      "\n",
      "Algorithm stopped after 0.6273 seconds and 9999 iterations\n",
      "Shared support:   121 \n",
      "Approximation:    3335 \n",
      "Exact support:    127 \n",
      "0.0030265081823524793 0.001317245693468703 0.016265003319820927\n",
      "\n",
      "*** Primal Dual with M = 64, N = 64, MN = 4096 ***\n",
      "\n",
      "\n",
      "Objective from ground truth: 0.016271821448840373 \n",
      "\n",
      "     It  | Tolerance |  obj dist |    Time    | ‖x-x*‖_F |  ‖x‖_1  \n",
      "------------------------------------------------------------------\n",
      "------------------------------------------------------------------\n",
      "\n",
      "Algorithm stopped after 0.6193 seconds and 9999 iterations\n",
      "Shared support:   121 \n",
      "Approximation:    3334 \n",
      "Exact support:    127 \n",
      "0.0008838910829211623 0.0006754723198466021 0.016274698134125104\n",
      "\n",
      "*** Primal Dual with M = 64, N = 64, MN = 4096 ***\n",
      "\n",
      "\n",
      "Objective from ground truth: 0.016271821448840373 \n",
      "\n",
      "     It  | Tolerance |  obj dist |    Time    | ‖x-x*‖_F |  ‖x‖_1  \n",
      "------------------------------------------------------------------\n",
      "------------------------------------------------------------------\n",
      "\n",
      "Algorithm stopped after 0.6207 seconds and 9999 iterations\n",
      "Shared support:   121 \n",
      "Approximation:    3334 \n",
      "Exact support:    127 \n",
      "0.0007547724880789954 0.0004234565569672224 0.01627788639024242\n",
      "\n",
      "*** Primal Dual with M = 64, N = 64, MN = 4096 ***\n",
      "\n",
      "\n",
      "Objective from ground truth: 0.016271821448840373 \n",
      "\n",
      "     It  | Tolerance |  obj dist |    Time    | ‖x-x*‖_F |  ‖x‖_1  \n",
      "------------------------------------------------------------------\n",
      "------------------------------------------------------------------\n",
      "\n",
      "Algorithm stopped after 0.6251 seconds and 9999 iterations\n",
      "Shared support:   121 \n",
      "Approximation:    3334 \n",
      "Exact support:    127 \n",
      "0.0006306839722203754 0.00025014964365750454 0.016270258663332267\n",
      "\n",
      "*** Primal Dual with M = 64, N = 64, MN = 4096 ***\n",
      "\n",
      "\n",
      "Objective from ground truth: 0.016271821448840373 \n",
      "\n",
      "     It  | Tolerance |  obj dist |    Time    | ‖x-x*‖_F |  ‖x‖_1  \n",
      "------------------------------------------------------------------\n",
      "------------------------------------------------------------------\n",
      "\n",
      "Algorithm stopped after 0.6229 seconds and 9999 iterations\n",
      "Shared support:   121 \n",
      "Approximation:    3334 \n",
      "Exact support:    127 \n",
      "0.00043784069089436016 0.00025366238340542583 0.016269042747816938\n",
      "\n",
      "*** Primal Dual with M = 64, N = 64, MN = 4096 ***\n",
      "\n",
      "\n",
      "Objective from ground truth: 0.016271821448840373 \n",
      "\n",
      "     It  | Tolerance |  obj dist |    Time    | ‖x-x*‖_F |  ‖x‖_1  \n",
      "------------------------------------------------------------------\n",
      "------------------------------------------------------------------\n",
      "\n",
      "Algorithm stopped after 0.6298 seconds and 9999 iterations\n",
      "Shared support:   121 \n",
      "Approximation:    3334 \n",
      "Exact support:    127 \n",
      "0.00023451618132110992 0.0002169685777965948 0.01627324984037433\n",
      "\n",
      "*** Primal Dual with M = 64, N = 64, MN = 4096 ***\n",
      "\n",
      "\n",
      "Objective from ground truth: 0.016271821448840373 \n",
      "\n",
      "     It  | Tolerance |  obj dist |    Time    | ‖x-x*‖_F |  ‖x‖_1  \n",
      "------------------------------------------------------------------\n",
      "------------------------------------------------------------------\n",
      "\n",
      "Algorithm stopped after 0.6243 seconds and 9999 iterations\n",
      "Shared support:   121 \n",
      "Approximation:    3334 \n",
      "Exact support:    127 \n",
      "0.0003526214278290668 0.00018168020209273714 0.016273118175801918\n",
      "\n",
      "*** Primal Dual with M = 64, N = 64, MN = 4096 ***\n",
      "\n",
      "\n",
      "Objective from ground truth: 0.016271821448840373 \n",
      "\n",
      "     It  | Tolerance |  obj dist |    Time    | ‖x-x*‖_F |  ‖x‖_1  \n",
      "------------------------------------------------------------------\n",
      "------------------------------------------------------------------\n",
      "\n",
      "Algorithm stopped after 0.6229 seconds and 9999 iterations\n",
      "Shared support:   121 \n",
      "Approximation:    3334 \n",
      "Exact support:    127 \n",
      "0.0003816603197316434 0.00017248358210566645 0.016270328757216727\n",
      "\n",
      "*** Primal Dual with M = 64, N = 64, MN = 4096 ***\n",
      "\n",
      "\n",
      "Objective from ground truth: 0.016271821448840373 \n",
      "\n",
      "     It  | Tolerance |  obj dist |    Time    | ‖x-x*‖_F |  ‖x‖_1  \n",
      "------------------------------------------------------------------\n",
      "------------------------------------------------------------------\n",
      "\n",
      "Algorithm stopped after 0.6256 seconds and 9999 iterations\n",
      "Shared support:   121 \n",
      "Approximation:    3334 \n",
      "Exact support:    127 \n",
      "0.0002078289245701646 0.00010724247498376211 0.01627052668055702\n",
      "\n",
      "*** Primal Dual with M = 64, N = 64, MN = 4096 ***\n",
      "\n",
      "\n",
      "Objective from ground truth: 0.016271821448840373 \n",
      "\n",
      "     It  | Tolerance |  obj dist |    Time    | ‖x-x*‖_F |  ‖x‖_1  \n",
      "------------------------------------------------------------------\n",
      "------------------------------------------------------------------\n",
      "\n",
      "Algorithm stopped after 0.6247 seconds and 9999 iterations\n",
      "Shared support:   121 \n",
      "Approximation:    3334 \n",
      "Exact support:    127 \n",
      "0.00022554913373036027 0.00011901372344959546 0.016272935469182057\n",
      "\n",
      "*** Primal Dual with M = 64, N = 64, MN = 4096 ***\n",
      "\n",
      "\n",
      "Objective from ground truth: 0.016271821448840373 \n",
      "\n",
      "     It  | Tolerance |  obj dist |    Time    | ‖x-x*‖_F |  ‖x‖_1  \n",
      "------------------------------------------------------------------\n",
      "------------------------------------------------------------------\n",
      "\n",
      "Algorithm stopped after 0.6227 seconds and 9999 iterations\n",
      "Shared support:   121 \n",
      "Approximation:    3334 \n",
      "Exact support:    127 \n",
      "9.261828617296502e-05 5.675004497323637e-05 0.016272567224459397\n",
      "\n",
      "*** Primal Dual with M = 64, N = 64, MN = 4096 ***\n",
      "\n",
      "\n",
      "Objective from ground truth: 0.016271821448840373 \n",
      "\n",
      "     It  | Tolerance |  obj dist |    Time    | ‖x-x*‖_F |  ‖x‖_1  \n",
      "------------------------------------------------------------------\n",
      "------------------------------------------------------------------\n",
      "\n",
      "Algorithm stopped after 0.6253 seconds and 9999 iterations\n",
      "Shared support:   121 \n",
      "Approximation:    3334 \n",
      "Exact support:    127 \n",
      "7.061219598431751e-05 5.940261873909913e-05 0.016270963003106986\n",
      "\n",
      "*** Primal Dual with M = 64, N = 64, MN = 4096 ***\n",
      "\n",
      "\n",
      "Objective from ground truth: 0.016271821448840373 \n",
      "\n",
      "     It  | Tolerance |  obj dist |    Time    | ‖x-x*‖_F |  ‖x‖_1  \n",
      "------------------------------------------------------------------\n",
      "------------------------------------------------------------------\n",
      "\n",
      "Algorithm stopped after 0.6237 seconds and 9999 iterations\n",
      "Shared support:   121 \n",
      "Approximation:    3334 \n",
      "Exact support:    127 \n",
      "4.436230277810889e-05 4.1885870544628175e-05 0.016271803955581057\n",
      "\n",
      "*** Primal Dual with M = 64, N = 64, MN = 4096 ***\n",
      "\n",
      "\n",
      "Objective from ground truth: 0.016271821448840373 \n",
      "\n",
      "     It  | Tolerance |  obj dist |    Time    | ‖x-x*‖_F |  ‖x‖_1  \n",
      "------------------------------------------------------------------\n",
      "------------------------------------------------------------------\n",
      "\n",
      "Algorithm stopped after 0.6215 seconds and 9999 iterations\n",
      "Shared support:   121 \n",
      "Approximation:    3334 \n",
      "Exact support:    127 \n",
      "3.795636924100964e-05 4.972774397944851e-05 0.01627246906748141\n",
      "\n",
      "*** Primal Dual with M = 64, N = 64, MN = 4096 ***\n",
      "\n",
      "\n",
      "Objective from ground truth: 0.016271821448840373 \n",
      "\n",
      "     It  | Tolerance |  obj dist |    Time    | ‖x-x*‖_F |  ‖x‖_1  \n",
      "------------------------------------------------------------------\n"
     ]
    },
    {
     "name": "stdout",
     "output_type": "stream",
     "text": [
      "------------------------------------------------------------------\n",
      "\n",
      "Algorithm stopped after 0.6223 seconds and 9999 iterations\n",
      "Shared support:   121 \n",
      "Approximation:    3334 \n",
      "Exact support:    127 \n",
      "0.00010173300262628318 4.224356725759424e-05 0.016271698589796983\n",
      "\n",
      "*** Primal Dual with M = 64, N = 64, MN = 4096 ***\n",
      "\n",
      "\n",
      "Objective from ground truth: 0.016271821448840373 \n",
      "\n",
      "     It  | Tolerance |  obj dist |    Time    | ‖x-x*‖_F |  ‖x‖_1  \n",
      "------------------------------------------------------------------\n",
      "------------------------------------------------------------------\n",
      "\n",
      "Algorithm stopped after 0.6231 seconds and 9999 iterations\n",
      "Shared support:   121 \n",
      "Approximation:    3334 \n",
      "Exact support:    127 \n",
      "0.00010516268072643649 4.742227876641746e-05 0.016271485019547956\n",
      "\n",
      "*** Primal Dual with M = 64, N = 64, MN = 4096 ***\n",
      "\n",
      "\n",
      "Objective from ground truth: 0.016271821448840373 \n",
      "\n",
      "     It  | Tolerance |  obj dist |    Time    | ‖x-x*‖_F |  ‖x‖_1  \n",
      "------------------------------------------------------------------\n",
      "------------------------------------------------------------------\n",
      "\n",
      "Algorithm stopped after 0.6238 seconds and 9999 iterations\n",
      "Shared support:   121 \n",
      "Approximation:    3334 \n",
      "Exact support:    127 \n",
      "2.3226357530724706e-05 1.8617936632157814e-05 0.016271826535458098\n",
      "\n",
      "*** Primal Dual with M = 64, N = 64, MN = 4096 ***\n",
      "\n",
      "\n",
      "Objective from ground truth: 0.016271821448840373 \n",
      "\n",
      "     It  | Tolerance |  obj dist |    Time    | ‖x-x*‖_F |  ‖x‖_1  \n",
      "------------------------------------------------------------------\n",
      "------------------------------------------------------------------\n",
      "\n",
      "Algorithm stopped after 0.6223 seconds and 9999 iterations\n",
      "Shared support:   121 \n",
      "Approximation:    3334 \n",
      "Exact support:    127 \n",
      "7.242889743816162e-05 3.195290537044679e-05 0.016271987472427106\n"
     ]
    }
   ],
   "source": [
    "for i in range(20):\n",
    "    w[ER>0] = 1/(np.maximum(x[ER>0],ER[ER>0]) + 0.1)\n",
    "    \n",
    "    x, y, obj, every_critical, every_iter = primal_dual_improved(w*c,m,n, 10000, collect_obj = True, true_obj = obj_exact, true_obj_tol = 1e-7, true_solution = sol, save_iter = True, guess_x = x, guess_y = y)\n",
    "    \n",
    "    # Support measures\n",
    "    x_mask = (x<=0)\n",
    "    Masking_sol, Masking_Truth = ones((2,N,N));    Masking_sol[x_mask] = 0;    Masking_Truth[sol<=0] = 0\n",
    "    Masking_sol[Masking_Truth + Masking_sol != 2] = 0        # Cancel common support\n",
    "    print( 'Shared support:   {0:3.0f} \\nApproximation:    {1:3.0f} \\nExact support:    {2:3.0f} '.format(\n",
    "        Masking_sol.sum(),x_mask.sum(),sol[sol>0].size) )\n",
    "\n",
    "    # Constraint satisfactibility\n",
    "    print(every_iter['hyperₘ']['max'][-1], every_iter['hyperₙ']['max'][-1], (c*x).sum())"
   ]
  },
  {
   "cell_type": "code",
   "execution_count": 87,
   "metadata": {
    "scrolled": true
   },
   "outputs": [
    {
     "data": {
      "text/plain": [
       "1.6602358673262207e-07"
      ]
     },
     "execution_count": 87,
     "metadata": {},
     "output_type": "execute_result"
    }
   ],
   "source": [
    "(c*x).sum() - obj_exact"
   ]
  },
  {
   "cell_type": "markdown",
   "metadata": {},
   "source": [
    "### Results for $32\\times 32$"
   ]
  },
  {
   "cell_type": "markdown",
   "metadata": {},
   "source": [
    "Sparsity plots:"
   ]
  },
  {
   "cell_type": "code",
   "execution_count": 10,
   "metadata": {
    "cell_style": "split"
   },
   "outputs": [
    {
     "data": {
      "image/png": "[encoded data removed]",
      "text/plain": [
       "<Figure size 432x288 with 1 Axes>"
      ]
     },
     "metadata": {
      "needs_background": "light"
     },
     "output_type": "display_data"
    }
   ],
   "source": [
    "plt.spy(sol); plt.title('Exact'); plt.show()"
   ]
  },
  {
   "cell_type": "code",
   "execution_count": 11,
   "metadata": {
    "cell_style": "split"
   },
   "outputs": [
    {
     "data": {
      "image/png": "[encoded data removed]",
      "text/plain": [
       "<Figure size 432x288 with 1 Axes>"
      ]
     },
     "metadata": {
      "needs_background": "light"
     },
     "output_type": "display_data"
    }
   ],
   "source": [
    "plt.spy(ER); plt.title('Entropic'); plt.show()"
   ]
  },
  {
   "cell_type": "markdown",
   "metadata": {},
   "source": [
    "**Run without a guess:**"
   ]
  },
  {
   "cell_type": "code",
   "execution_count": 18,
   "metadata": {
    "scrolled": true
   },
   "outputs": [
    {
     "name": "stdout",
     "output_type": "stream",
     "text": [
      "\n",
      "*** Primal Dual with M = 1024, N = 1024, MN = 1048576 ***\n",
      "\n",
      "\n",
      "Objective from ground truth: 0.010675024052995653 \n",
      "\n",
      "     It  | Tolerance |  obj dist |    Time    | ‖x-x*‖_F |  ‖x‖_1  \n",
      "------------------------------------------------------------------\n",
      "*      1 |   1.0e+00 |  1.0e+00  |     0.05 s |   0.9982 |  0.0172\n",
      "*    759 |   1.0e-01 |  1.0e-01  |    15.15 s |   0.6419 |  1.0023\n",
      "*   1249 |   1.0e-02 |  9.9e-03  |    25.03 s |   0.4339 |  1.0010\n",
      "*   1341 |   1.0e-03 |  9.4e-04  |    26.88 s |   0.4200 |  1.0001\n",
      "*   1353 |   1.0e-04 |  5.6e-05  |    27.13 s |   0.4188 |  0.9996\n",
      "*   3689 |   1.0e-05 |  4.8e-06  |    74.55 s |   0.3876 |  1.0001\n",
      "*   4528 |   1.0e-06 |  3.5e-07  |    91.65 s |   0.3874 |  1.0001\n",
      "*   4852 |   1.0e-07 |  4.3e-08  |    98.26 s |   0.3874 |  0.9999\n",
      "Solution found with given tolerance.\n",
      "------------------------------------------------------------------\n",
      "\n",
      "Algorithm stopped after 98.2627 seconds and 4852 iterations\n"
     ]
    }
   ],
   "source": [
    "x, y, obj, every_critical, every_iter = primal_dual_improved(c,m,n, 10000, collect_obj = True, true_obj = obj_exact, true_obj_tol = 1e-4, true_solution = sol, save_iter = True)"
   ]
  },
  {
   "cell_type": "code",
   "execution_count": 19,
   "metadata": {
    "cell_style": "split"
   },
   "outputs": [
    {
     "data": {
      "image/png": "[encoded data removed]",
      "text/plain": [
       "<Figure size 432x288 with 1 Axes>"
      ]
     },
     "metadata": {
      "needs_background": "light"
     },
     "output_type": "display_data"
    }
   ],
   "source": [
    "xₐ = x.copy()\n",
    "plt.spy(x); plt.show()"
   ]
  },
  {
   "cell_type": "code",
   "execution_count": 20,
   "metadata": {},
   "outputs": [
    {
     "data": {
      "text/plain": [
       "(0.18002737373353822, 0.11604564937670546, 0.010675024508522967)"
      ]
     },
     "execution_count": 20,
     "metadata": {},
     "output_type": "execute_result"
    }
   ],
   "source": [
    "every_iter['hyperₘ']['max'][-1], every_iter['hyperₙ']['max'][-1], (c*x).sum()"
   ]
  },
  {
   "cell_type": "code",
   "execution_count": 14,
   "metadata": {
    "scrolled": true
   },
   "outputs": [
    {
     "name": "stdout",
     "output_type": "stream",
     "text": [
      "\n",
      "*** Primal Dual with M = 1024, N = 1024, MN = 1048576 ***\n",
      "\n",
      "\n",
      "Objective from ground truth: 0.010675024052995653 \n",
      "\n",
      "     It  | Tolerance |  obj dist |    Time    | ‖x-x*‖_F |  ‖x‖_1  \n",
      "------------------------------------------------------------------\n",
      "*      5 |   1.0e+00 |  9.7e-01  |     0.13 s |   0.8220 |  0.3048\n",
      "*     13 |   1.0e-01 |  9.1e-02  |     0.27 s |   0.9388 |  0.4721\n",
      "*     61 |   1.0e-02 |  7.5e-03  |     1.28 s |   1.3588 |  1.1910\n",
      "------------------------------------------------------------------\n",
      "\n",
      "Algorithm stopped after 20.7904 seconds and 999 iterations\n",
      "Shared support:   1634 \n",
      "Approximation:    1034223 \n",
      "Exact support:    2047 \n",
      "1.7395248697068486 2.4765114263663133 0.005320463682204577\n",
      "\n",
      "*** Primal Dual with M = 1024, N = 1024, MN = 1048576 ***\n",
      "\n",
      "\n",
      "Objective from ground truth: 0.010675024052995653 \n",
      "\n",
      "     It  | Tolerance |  obj dist |    Time    | ‖x-x*‖_F |  ‖x‖_1  \n",
      "------------------------------------------------------------------\n",
      "------------------------------------------------------------------\n",
      "\n",
      "Algorithm stopped after 20.6640 seconds and 999 iterations\n",
      "Shared support:   1693 \n",
      "Approximation:    1034254 \n",
      "Exact support:    2047 \n",
      "1.5328293922284266 1.6288824397577508 0.006599221058489609\n",
      "\n",
      "*** Primal Dual with M = 1024, N = 1024, MN = 1048576 ***\n",
      "\n",
      "\n",
      "Objective from ground truth: 0.010675024052995653 \n",
      "\n",
      "     It  | Tolerance |  obj dist |    Time    | ‖x-x*‖_F |  ‖x‖_1  \n",
      "------------------------------------------------------------------\n",
      "------------------------------------------------------------------\n",
      "\n",
      "Algorithm stopped after 20.2061 seconds and 999 iterations\n",
      "Shared support:   1771 \n",
      "Approximation:    1034292 \n",
      "Exact support:    2047 \n",
      "0.9264556851090515 1.1208914941531258 0.007405445112922614\n",
      "\n",
      "*** Primal Dual with M = 1024, N = 1024, MN = 1048576 ***\n",
      "\n",
      "\n",
      "Objective from ground truth: 0.010675024052995653 \n",
      "\n",
      "     It  | Tolerance |  obj dist |    Time    | ‖x-x*‖_F |  ‖x‖_1  \n",
      "------------------------------------------------------------------\n",
      "------------------------------------------------------------------\n",
      "\n",
      "Algorithm stopped after 19.5833 seconds and 999 iterations\n",
      "Shared support:   1860 \n",
      "Approximation:    1034352 \n",
      "Exact support:    2047 \n",
      "0.7069594044435752 0.8330155514791912 0.008116471994363003\n",
      "\n",
      "*** Primal Dual with M = 1024, N = 1024, MN = 1048576 ***\n",
      "\n",
      "\n",
      "Objective from ground truth: 0.010675024052995653 \n",
      "\n",
      "     It  | Tolerance |  obj dist |    Time    | ‖x-x*‖_F |  ‖x‖_1  \n",
      "------------------------------------------------------------------\n",
      "------------------------------------------------------------------\n",
      "\n",
      "Algorithm stopped after 19.9142 seconds and 999 iterations\n",
      "Shared support:   1898 \n",
      "Approximation:    1034405 \n",
      "Exact support:    2047 \n",
      "0.7136202015703474 0.5192404729469324 0.008626138286593879\n",
      "\n",
      "*** Primal Dual with M = 1024, N = 1024, MN = 1048576 ***\n",
      "\n",
      "\n",
      "Objective from ground truth: 0.010675024052995653 \n",
      "\n",
      "     It  | Tolerance |  obj dist |    Time    | ‖x-x*‖_F |  ‖x‖_1  \n",
      "------------------------------------------------------------------\n",
      "------------------------------------------------------------------\n",
      "\n",
      "Algorithm stopped after 20.2640 seconds and 999 iterations\n",
      "Shared support:   1953 \n",
      "Approximation:    1034434 \n",
      "Exact support:    2047 \n",
      "0.5815813307423849 0.5848631789624489 0.009019911725556237\n",
      "\n",
      "*** Primal Dual with M = 1024, N = 1024, MN = 1048576 ***\n",
      "\n",
      "\n",
      "Objective from ground truth: 0.010675024052995653 \n",
      "\n",
      "     It  | Tolerance |  obj dist |    Time    | ‖x-x*‖_F |  ‖x‖_1  \n",
      "------------------------------------------------------------------\n",
      "------------------------------------------------------------------\n",
      "\n",
      "Algorithm stopped after 20.2224 seconds and 999 iterations\n",
      "Shared support:   1975 \n",
      "Approximation:    1034466 \n",
      "Exact support:    2047 \n",
      "0.37154004224788756 0.38220297759588445 0.009499571917166192\n",
      "\n",
      "*** Primal Dual with M = 1024, N = 1024, MN = 1048576 ***\n",
      "\n",
      "\n",
      "Objective from ground truth: 0.010675024052995653 \n",
      "\n",
      "     It  | Tolerance |  obj dist |    Time    | ‖x-x*‖_F |  ‖x‖_1  \n",
      "------------------------------------------------------------------\n",
      "------------------------------------------------------------------\n",
      "\n",
      "Algorithm stopped after 20.5783 seconds and 999 iterations\n",
      "Shared support:   1976 \n",
      "Approximation:    1034530 \n",
      "Exact support:    2047 \n",
      "0.33939697318150897 0.2554536099812883 0.00965317642041845\n",
      "\n",
      "*** Primal Dual with M = 1024, N = 1024, MN = 1048576 ***\n",
      "\n",
      "\n",
      "Objective from ground truth: 0.010675024052995653 \n",
      "\n",
      "     It  | Tolerance |  obj dist |    Time    | ‖x-x*‖_F |  ‖x‖_1  \n",
      "------------------------------------------------------------------\n",
      "------------------------------------------------------------------\n",
      "\n",
      "Algorithm stopped after 20.3386 seconds and 999 iterations\n",
      "Shared support:   1985 \n",
      "Approximation:    1034598 \n",
      "Exact support:    2047 \n",
      "0.2672975839221022 0.3262230641871982 0.009900344076763939\n",
      "\n",
      "*** Primal Dual with M = 1024, N = 1024, MN = 1048576 ***\n",
      "\n",
      "\n",
      "Objective from ground truth: 0.010675024052995653 \n",
      "\n",
      "     It  | Tolerance |  obj dist |    Time    | ‖x-x*‖_F |  ‖x‖_1  \n",
      "------------------------------------------------------------------\n",
      "------------------------------------------------------------------\n",
      "\n",
      "Algorithm stopped after 20.4765 seconds and 999 iterations\n",
      "Shared support:   1987 \n",
      "Approximation:    1034556 \n",
      "Exact support:    2047 \n",
      "0.25559168460778986 0.2442028266189492 0.009940101496975924\n",
      "\n",
      "*** Primal Dual with M = 1024, N = 1024, MN = 1048576 ***\n",
      "\n",
      "\n",
      "Objective from ground truth: 0.010675024052995653 \n",
      "\n",
      "     It  | Tolerance |  obj dist |    Time    | ‖x-x*‖_F |  ‖x‖_1  \n",
      "------------------------------------------------------------------\n",
      "------------------------------------------------------------------\n",
      "\n",
      "Algorithm stopped after 20.6177 seconds and 999 iterations\n",
      "Shared support:   1993 \n",
      "Approximation:    1034592 \n",
      "Exact support:    2047 \n",
      "0.21702902174631047 0.3066928093430809 0.010039509228583002\n",
      "\n",
      "*** Primal Dual with M = 1024, N = 1024, MN = 1048576 ***\n",
      "\n",
      "\n",
      "Objective from ground truth: 0.010675024052995653 \n",
      "\n",
      "     It  | Tolerance |  obj dist |    Time    | ‖x-x*‖_F |  ‖x‖_1  \n",
      "------------------------------------------------------------------\n",
      "------------------------------------------------------------------\n",
      "\n",
      "Algorithm stopped after 20.7851 seconds and 999 iterations\n",
      "Shared support:   2005 \n",
      "Approximation:    1034617 \n",
      "Exact support:    2047 \n",
      "0.205925486942401 0.1696880016825407 0.010355220402682093\n",
      "\n",
      "*** Primal Dual with M = 1024, N = 1024, MN = 1048576 ***\n",
      "\n",
      "\n",
      "Objective from ground truth: 0.010675024052995653 \n",
      "\n",
      "     It  | Tolerance |  obj dist |    Time    | ‖x-x*‖_F |  ‖x‖_1  \n",
      "------------------------------------------------------------------\n",
      "------------------------------------------------------------------\n",
      "\n",
      "Algorithm stopped after 20.8131 seconds and 999 iterations\n",
      "Shared support:   2009 \n",
      "Approximation:    1034624 \n",
      "Exact support:    2047 \n",
      "0.2672427629837583 0.1144484382633609 0.010378790067235383\n",
      "\n",
      "*** Primal Dual with M = 1024, N = 1024, MN = 1048576 ***\n",
      "\n",
      "\n",
      "Objective from ground truth: 0.010675024052995653 \n",
      "\n",
      "     It  | Tolerance |  obj dist |    Time    | ‖x-x*‖_F |  ‖x‖_1  \n",
      "------------------------------------------------------------------\n",
      "------------------------------------------------------------------\n",
      "\n",
      "Algorithm stopped after 20.7768 seconds and 999 iterations\n",
      "Shared support:   2009 \n",
      "Approximation:    1034634 \n",
      "Exact support:    2047 \n",
      "0.13019487202426966 0.13485940119190584 0.010385474862592664\n",
      "\n",
      "*** Primal Dual with M = 1024, N = 1024, MN = 1048576 ***\n",
      "\n",
      "\n",
      "Objective from ground truth: 0.010675024052995653 \n",
      "\n",
      "     It  | Tolerance |  obj dist |    Time    | ‖x-x*‖_F |  ‖x‖_1  \n",
      "------------------------------------------------------------------\n",
      "------------------------------------------------------------------\n",
      "\n",
      "Algorithm stopped after 20.6776 seconds and 999 iterations\n",
      "Shared support:   2002 \n",
      "Approximation:    1034719 \n",
      "Exact support:    2047 \n",
      "0.12453072090043348 0.10790019736039407 0.010516813113523366\n",
      "\n",
      "*** Primal Dual with M = 1024, N = 1024, MN = 1048576 ***\n",
      "\n",
      "\n",
      "Objective from ground truth: 0.010675024052995653 \n",
      "\n",
      "     It  | Tolerance |  obj dist |    Time    | ‖x-x*‖_F |  ‖x‖_1  \n",
      "------------------------------------------------------------------\n",
      "------------------------------------------------------------------\n",
      "\n",
      "Algorithm stopped after 20.6945 seconds and 999 iterations\n",
      "Shared support:   2009 \n",
      "Approximation:    1034673 \n",
      "Exact support:    2047 \n",
      "0.09275208931902376 0.10755043439313958 0.010565833027612269\n",
      "\n",
      "*** Primal Dual with M = 1024, N = 1024, MN = 1048576 ***\n",
      "\n",
      "\n",
      "Objective from ground truth: 0.010675024052995653 \n",
      "\n",
      "     It  | Tolerance |  obj dist |    Time    | ‖x-x*‖_F |  ‖x‖_1  \n",
      "------------------------------------------------------------------\n"
     ]
    },
    {
     "name": "stdout",
     "output_type": "stream",
     "text": [
      "------------------------------------------------------------------\n",
      "\n",
      "Algorithm stopped after 20.2959 seconds and 999 iterations\n",
      "Shared support:   2007 \n",
      "Approximation:    1034680 \n",
      "Exact support:    2047 \n",
      "0.07137390473145494 0.08037588940970063 0.010588382967172662\n",
      "\n",
      "*** Primal Dual with M = 1024, N = 1024, MN = 1048576 ***\n",
      "\n",
      "\n",
      "Objective from ground truth: 0.010675024052995653 \n",
      "\n",
      "     It  | Tolerance |  obj dist |    Time    | ‖x-x*‖_F |  ‖x‖_1  \n",
      "------------------------------------------------------------------\n",
      "------------------------------------------------------------------\n",
      "\n",
      "Algorithm stopped after 19.9975 seconds and 999 iterations\n",
      "Shared support:   2009 \n",
      "Approximation:    1034659 \n",
      "Exact support:    2047 \n",
      "0.060023959775238486 0.08465297717382991 0.010601985762233404\n",
      "\n",
      "*** Primal Dual with M = 1024, N = 1024, MN = 1048576 ***\n",
      "\n",
      "\n",
      "Objective from ground truth: 0.010675024052995653 \n",
      "\n",
      "     It  | Tolerance |  obj dist |    Time    | ‖x-x*‖_F |  ‖x‖_1  \n",
      "------------------------------------------------------------------\n",
      "------------------------------------------------------------------\n",
      "\n",
      "Algorithm stopped after 20.1269 seconds and 999 iterations\n",
      "Shared support:   2005 \n",
      "Approximation:    1034674 \n",
      "Exact support:    2047 \n",
      "0.07387813164153959 0.06568139032671685 0.010602722998125822\n",
      "\n",
      "*** Primal Dual with M = 1024, N = 1024, MN = 1048576 ***\n",
      "\n",
      "\n",
      "Objective from ground truth: 0.010675024052995653 \n",
      "\n",
      "     It  | Tolerance |  obj dist |    Time    | ‖x-x*‖_F |  ‖x‖_1  \n",
      "------------------------------------------------------------------\n",
      "------------------------------------------------------------------\n",
      "\n",
      "Algorithm stopped after 20.4567 seconds and 999 iterations\n",
      "Shared support:   1995 \n",
      "Approximation:    1034690 \n",
      "Exact support:    2047 \n",
      "0.07079668544858828 0.058196512398686964 0.010595417000228535\n"
     ]
    }
   ],
   "source": [
    "for i in range(20):\n",
    "    x_prev = x.copy()\n",
    "    y_prev = y.copy()\n",
    "    w  = 1/( abs(c*x_prev) + 0.1 )\n",
    "    \n",
    "    x, y, obj, every_critical, every_iter = primal_dual_improved(c*w,m,n, 1000, collect_obj = True, true_obj = obj_exact, true_obj_tol = 1e-3, true_solution = sol, save_iter = True, guess_x = x_prev, guess_y = y_prev)\n",
    "    \n",
    "    # Support measures\n",
    "    x_mask = (x<=0)\n",
    "    Masking_sol, Masking_Truth = ones((2,N,N));    Masking_sol[x_mask] = 0;    Masking_Truth[sol<=0] = 0\n",
    "    Masking_sol[Masking_Truth + Masking_sol != 2] = 0        # Cancel common support\n",
    "    print( 'Shared support:   {0:3.0f} \\nApproximation:    {1:3.0f} \\nExact support:    {2:3.0f} '.format(\n",
    "        Masking_sol.sum(),x_mask.sum(),sol[sol>0].size) )\n",
    "\n",
    "    # Constraint satisfactibility\n",
    "    print(every_iter['hyperₘ']['max'][-1], every_iter['hyperₙ']['max'][-1], (c*x).sum())"
   ]
  },
  {
   "cell_type": "code",
   "execution_count": 15,
   "metadata": {
    "cell_style": "split"
   },
   "outputs": [
    {
     "data": {
      "image/png": "[encoded data removed]",
      "text/plain": [
       "<Figure size 432x288 with 1 Axes>"
      ]
     },
     "metadata": {
      "needs_background": "light"
     },
     "output_type": "display_data"
    }
   ],
   "source": [
    "plt.spy(x); plt.show()"
   ]
  },
  {
   "cell_type": "code",
   "execution_count": 16,
   "metadata": {},
   "outputs": [
    {
     "data": {
      "text/plain": [
       "(0.07079668544858828, 0.058196512398686964, 0.010595417000228535)"
      ]
     },
     "execution_count": 16,
     "metadata": {},
     "output_type": "execute_result"
    }
   ],
   "source": [
    "every_iter['hyperₘ']['max'][-1], every_iter['hyperₙ']['max'][-1], (c*x).sum()"
   ]
  },
  {
   "cell_type": "markdown",
   "metadata": {},
   "source": [
    "The current solution seems to be of better quality, as it satisfies the constraints with additional numerical precision:"
   ]
  },
  {
   "cell_type": "code",
   "execution_count": 21,
   "metadata": {},
   "outputs": [
    {
     "data": {
      "text/plain": [
       "(-7.960705276713402e-05, 4.5552729666584417e-10)"
      ]
     },
     "execution_count": 21,
     "metadata": {},
     "output_type": "execute_result"
    }
   ],
   "source": [
    "(c*(x - sol)).sum(), (c*(xₐ - sol)).sum()"
   ]
  },
  {
   "cell_type": "markdown",
   "metadata": {},
   "source": [
    "**Use ER for initialisation:**"
   ]
  },
  {
   "cell_type": "code",
   "execution_count": 22,
   "metadata": {},
   "outputs": [],
   "source": [
    "x = ER.copy()\n",
    "y = np.zeros(ER.shape)\n",
    "w  = 1/( abs(c*x) + 0.1 )"
   ]
  },
  {
   "cell_type": "code",
   "execution_count": 23,
   "metadata": {
    "scrolled": true
   },
   "outputs": [
    {
     "name": "stdout",
     "output_type": "stream",
     "text": [
      "\n",
      "*** Primal Dual with M = 1024, N = 1024, MN = 1048576 ***\n",
      "\n",
      "\n",
      "Objective from ground truth: 0.010675024052995653 \n",
      "\n",
      "     It  | Tolerance |  obj dist |    Time    | ‖x-x*‖_F |  ‖x‖_1  \n",
      "------------------------------------------------------------------\n",
      "*      7 |   1.0e+00 |  8.1e-01  |     0.22 s |   0.8695 |  0.3618\n",
      "*     27 |   1.0e-01 |  4.3e-02  |     0.65 s |   1.3518 |  1.4827\n",
      "*     92 |   1.0e-02 |  5.3e-03  |     1.96 s |   1.3388 |  0.9614\n",
      "------------------------------------------------------------------\n",
      "\n",
      "Algorithm stopped after 20.2747 seconds and 999 iterations\n",
      "Shared support:   1640 \n",
      "Approximation:    785309 \n",
      "Exact support:    2047 \n",
      "1.1654644673246177 2.7796221226973916 0.005056864139429851\n",
      "\n",
      "*** Primal Dual with M = 1024, N = 1024, MN = 1048576 ***\n",
      "\n",
      "\n",
      "Objective from ground truth: 0.010675024052995653 \n",
      "\n",
      "     It  | Tolerance |  obj dist |    Time    | ‖x-x*‖_F |  ‖x‖_1  \n",
      "------------------------------------------------------------------\n",
      "------------------------------------------------------------------\n",
      "\n",
      "Algorithm stopped after 20.0467 seconds and 999 iterations\n",
      "Shared support:   1691 \n",
      "Approximation:    785690 \n",
      "Exact support:    2047 \n",
      "1.0124094033703661 1.3082846432739226 0.006252154562769753\n",
      "\n",
      "*** Primal Dual with M = 1024, N = 1024, MN = 1048576 ***\n",
      "\n",
      "\n",
      "Objective from ground truth: 0.010675024052995653 \n",
      "\n",
      "     It  | Tolerance |  obj dist |    Time    | ‖x-x*‖_F |  ‖x‖_1  \n",
      "------------------------------------------------------------------\n",
      "------------------------------------------------------------------\n",
      "\n",
      "Algorithm stopped after 20.5736 seconds and 999 iterations\n",
      "Shared support:   1737 \n",
      "Approximation:    785887 \n",
      "Exact support:    2047 \n",
      "0.7848000403863526 1.0771531986728315 0.007143203994755557\n",
      "\n",
      "*** Primal Dual with M = 1024, N = 1024, MN = 1048576 ***\n",
      "\n",
      "\n",
      "Objective from ground truth: 0.010675024052995653 \n",
      "\n",
      "     It  | Tolerance |  obj dist |    Time    | ‖x-x*‖_F |  ‖x‖_1  \n",
      "------------------------------------------------------------------\n",
      "------------------------------------------------------------------\n",
      "\n",
      "Algorithm stopped after 20.4695 seconds and 999 iterations\n",
      "Shared support:   1808 \n",
      "Approximation:    786070 \n",
      "Exact support:    2047 \n",
      "0.858473682595816 0.6561811449074125 0.007904468858816488\n",
      "\n",
      "*** Primal Dual with M = 1024, N = 1024, MN = 1048576 ***\n",
      "\n",
      "\n",
      "Objective from ground truth: 0.010675024052995653 \n",
      "\n",
      "     It  | Tolerance |  obj dist |    Time    | ‖x-x*‖_F |  ‖x‖_1  \n",
      "------------------------------------------------------------------\n",
      "------------------------------------------------------------------\n",
      "\n",
      "Algorithm stopped after 20.8057 seconds and 999 iterations\n",
      "Shared support:   1869 \n",
      "Approximation:    786175 \n",
      "Exact support:    2047 \n",
      "0.7486146366759335 0.617391053118776 0.008460473630202789\n",
      "\n",
      "*** Primal Dual with M = 1024, N = 1024, MN = 1048576 ***\n",
      "\n",
      "\n",
      "Objective from ground truth: 0.010675024052995653 \n",
      "\n",
      "     It  | Tolerance |  obj dist |    Time    | ‖x-x*‖_F |  ‖x‖_1  \n",
      "------------------------------------------------------------------\n",
      "------------------------------------------------------------------\n",
      "\n",
      "Algorithm stopped after 21.0336 seconds and 999 iterations\n",
      "Shared support:   1888 \n",
      "Approximation:    786256 \n",
      "Exact support:    2047 \n",
      "0.5594269246032665 0.420531583321492 0.008818130637621175\n",
      "\n",
      "*** Primal Dual with M = 1024, N = 1024, MN = 1048576 ***\n",
      "\n",
      "\n",
      "Objective from ground truth: 0.010675024052995653 \n",
      "\n",
      "     It  | Tolerance |  obj dist |    Time    | ‖x-x*‖_F |  ‖x‖_1  \n",
      "------------------------------------------------------------------\n",
      "------------------------------------------------------------------\n",
      "\n",
      "Algorithm stopped after 20.8183 seconds and 999 iterations\n",
      "Shared support:   1925 \n",
      "Approximation:    786349 \n",
      "Exact support:    2047 \n",
      "0.4448735487213857 0.31923151949044515 0.009383196892260299\n",
      "\n",
      "*** Primal Dual with M = 1024, N = 1024, MN = 1048576 ***\n",
      "\n",
      "\n",
      "Objective from ground truth: 0.010675024052995653 \n",
      "\n",
      "     It  | Tolerance |  obj dist |    Time    | ‖x-x*‖_F |  ‖x‖_1  \n",
      "------------------------------------------------------------------\n",
      "------------------------------------------------------------------\n",
      "\n",
      "Algorithm stopped after 19.9401 seconds and 999 iterations\n",
      "Shared support:   1921 \n",
      "Approximation:    786448 \n",
      "Exact support:    2047 \n",
      "0.30463888595328487 0.29231723653007186 0.00964784238607668\n",
      "\n",
      "*** Primal Dual with M = 1024, N = 1024, MN = 1048576 ***\n",
      "\n",
      "\n",
      "Objective from ground truth: 0.010675024052995653 \n",
      "\n",
      "     It  | Tolerance |  obj dist |    Time    | ‖x-x*‖_F |  ‖x‖_1  \n",
      "------------------------------------------------------------------\n",
      "------------------------------------------------------------------\n",
      "\n",
      "Algorithm stopped after 20.2414 seconds and 999 iterations\n",
      "Shared support:   1920 \n",
      "Approximation:    786520 \n",
      "Exact support:    2047 \n",
      "0.3538746336086296 0.2362837134072935 0.009793135701917925\n",
      "\n",
      "*** Primal Dual with M = 1024, N = 1024, MN = 1048576 ***\n",
      "\n",
      "\n",
      "Objective from ground truth: 0.010675024052995653 \n",
      "\n",
      "     It  | Tolerance |  obj dist |    Time    | ‖x-x*‖_F |  ‖x‖_1  \n",
      "------------------------------------------------------------------\n",
      "------------------------------------------------------------------\n",
      "\n",
      "Algorithm stopped after 19.9509 seconds and 999 iterations\n",
      "Shared support:   1907 \n",
      "Approximation:    786589 \n",
      "Exact support:    2047 \n",
      "0.28379237216117426 0.22932180189419094 0.009928102334626761\n",
      "\n",
      "*** Primal Dual with M = 1024, N = 1024, MN = 1048576 ***\n",
      "\n",
      "\n",
      "Objective from ground truth: 0.010675024052995653 \n",
      "\n",
      "     It  | Tolerance |  obj dist |    Time    | ‖x-x*‖_F |  ‖x‖_1  \n",
      "------------------------------------------------------------------\n",
      "------------------------------------------------------------------\n",
      "\n",
      "Algorithm stopped after 19.9822 seconds and 999 iterations\n",
      "Shared support:   1896 \n",
      "Approximation:    786643 \n",
      "Exact support:    2047 \n",
      "0.25077465106200364 0.2067126740524508 0.009972864124103505\n",
      "\n",
      "*** Primal Dual with M = 1024, N = 1024, MN = 1048576 ***\n",
      "\n",
      "\n",
      "Objective from ground truth: 0.010675024052995653 \n",
      "\n",
      "     It  | Tolerance |  obj dist |    Time    | ‖x-x*‖_F |  ‖x‖_1  \n",
      "------------------------------------------------------------------\n",
      "------------------------------------------------------------------\n",
      "\n",
      "Algorithm stopped after 20.0236 seconds and 999 iterations\n",
      "Shared support:   1911 \n",
      "Approximation:    786652 \n",
      "Exact support:    2047 \n",
      "0.1589803901193886 0.1557661974743598 0.010137283704537398\n",
      "\n",
      "*** Primal Dual with M = 1024, N = 1024, MN = 1048576 ***\n",
      "\n",
      "\n",
      "Objective from ground truth: 0.010675024052995653 \n",
      "\n",
      "     It  | Tolerance |  obj dist |    Time    | ‖x-x*‖_F |  ‖x‖_1  \n",
      "------------------------------------------------------------------\n",
      "------------------------------------------------------------------\n",
      "\n",
      "Algorithm stopped after 19.5276 seconds and 999 iterations\n",
      "Shared support:   1897 \n",
      "Approximation:    786692 \n",
      "Exact support:    2047 \n",
      "0.16003794050216463 0.11849368647217816 0.010336548120032717\n",
      "\n",
      "*** Primal Dual with M = 1024, N = 1024, MN = 1048576 ***\n",
      "\n",
      "\n",
      "Objective from ground truth: 0.010675024052995653 \n",
      "\n",
      "     It  | Tolerance |  obj dist |    Time    | ‖x-x*‖_F |  ‖x‖_1  \n",
      "------------------------------------------------------------------\n",
      "------------------------------------------------------------------\n",
      "\n",
      "Algorithm stopped after 20.1777 seconds and 999 iterations\n",
      "Shared support:   1876 \n",
      "Approximation:    786775 \n",
      "Exact support:    2047 \n",
      "0.1079071368622856 0.15649566009857377 0.010374660736114196\n",
      "\n",
      "*** Primal Dual with M = 1024, N = 1024, MN = 1048576 ***\n",
      "\n",
      "\n",
      "Objective from ground truth: 0.010675024052995653 \n",
      "\n",
      "     It  | Tolerance |  obj dist |    Time    | ‖x-x*‖_F |  ‖x‖_1  \n",
      "------------------------------------------------------------------\n",
      "------------------------------------------------------------------\n",
      "\n",
      "Algorithm stopped after 20.2679 seconds and 999 iterations\n",
      "Shared support:   1863 \n",
      "Approximation:    786810 \n",
      "Exact support:    2047 \n",
      "0.11407594973607751 0.11849405238734774 0.010437695844480992\n",
      "\n",
      "*** Primal Dual with M = 1024, N = 1024, MN = 1048576 ***\n",
      "\n",
      "\n",
      "Objective from ground truth: 0.010675024052995653 \n",
      "\n",
      "     It  | Tolerance |  obj dist |    Time    | ‖x-x*‖_F |  ‖x‖_1  \n",
      "------------------------------------------------------------------\n",
      "------------------------------------------------------------------\n",
      "\n",
      "Algorithm stopped after 20.3565 seconds and 999 iterations\n",
      "Shared support:   1864 \n",
      "Approximation:    786829 \n",
      "Exact support:    2047 \n",
      "0.09844882056793246 0.11973410148188547 0.010489162548748692\n",
      "\n",
      "*** Primal Dual with M = 1024, N = 1024, MN = 1048576 ***\n",
      "\n",
      "\n",
      "Objective from ground truth: 0.010675024052995653 \n",
      "\n",
      "     It  | Tolerance |  obj dist |    Time    | ‖x-x*‖_F |  ‖x‖_1  \n",
      "------------------------------------------------------------------\n"
     ]
    },
    {
     "name": "stdout",
     "output_type": "stream",
     "text": [
      "------------------------------------------------------------------\n",
      "\n",
      "Algorithm stopped after 20.2956 seconds and 999 iterations\n",
      "Shared support:   1852 \n",
      "Approximation:    786832 \n",
      "Exact support:    2047 \n",
      "0.10699593610616412 0.08832274706620313 0.010552560357095443\n",
      "\n",
      "*** Primal Dual with M = 1024, N = 1024, MN = 1048576 ***\n",
      "\n",
      "\n",
      "Objective from ground truth: 0.010675024052995653 \n",
      "\n",
      "     It  | Tolerance |  obj dist |    Time    | ‖x-x*‖_F |  ‖x‖_1  \n",
      "------------------------------------------------------------------\n",
      "------------------------------------------------------------------\n",
      "\n",
      "Algorithm stopped after 20.0497 seconds and 999 iterations\n",
      "Shared support:   1846 \n",
      "Approximation:    786868 \n",
      "Exact support:    2047 \n",
      "0.08238154421229762 0.09343693480294836 0.010568586817688689\n",
      "\n",
      "*** Primal Dual with M = 1024, N = 1024, MN = 1048576 ***\n",
      "\n",
      "\n",
      "Objective from ground truth: 0.010675024052995653 \n",
      "\n",
      "     It  | Tolerance |  obj dist |    Time    | ‖x-x*‖_F |  ‖x‖_1  \n",
      "------------------------------------------------------------------\n",
      "------------------------------------------------------------------\n",
      "\n",
      "Algorithm stopped after 19.7344 seconds and 999 iterations\n",
      "Shared support:   1849 \n",
      "Approximation:    786864 \n",
      "Exact support:    2047 \n",
      "0.0979196974185275 0.07718132180115321 0.010607348424703024\n",
      "\n",
      "*** Primal Dual with M = 1024, N = 1024, MN = 1048576 ***\n",
      "\n",
      "\n",
      "Objective from ground truth: 0.010675024052995653 \n",
      "\n",
      "     It  | Tolerance |  obj dist |    Time    | ‖x-x*‖_F |  ‖x‖_1  \n",
      "------------------------------------------------------------------\n",
      "------------------------------------------------------------------\n",
      "\n",
      "Algorithm stopped after 19.7160 seconds and 999 iterations\n",
      "Shared support:   1849 \n",
      "Approximation:    786872 \n",
      "Exact support:    2047 \n",
      "0.08333550331249127 0.06272020860359404 0.010602209955501317\n"
     ]
    }
   ],
   "source": [
    "for i in range(20):\n",
    "    w[ER>0] = 1/(np.maximum(x[ER>0],ER[ER>0]) + 0.1)\n",
    "    \n",
    "    x, y, obj, every_critical, every_iter = primal_dual_improved(c*w,m,n, 1000, collect_obj = True, true_obj = obj_exact, true_obj_tol = 1e-3, true_solution = sol, save_iter = True, guess_x = x, guess_y = y)\n",
    "    \n",
    "    # Support measures\n",
    "    x_mask = (x<=0)\n",
    "    Masking_sol, Masking_Truth = ones((2,N,N));    Masking_sol[x_mask] = 0;    Masking_Truth[sol<=0] = 0\n",
    "    Masking_sol[Masking_Truth + Masking_sol != 2] = 0        # Cancel common support\n",
    "    print( 'Shared support:   {0:3.0f} \\nApproximation:    {1:3.0f} \\nExact support:    {2:3.0f} '.format(\n",
    "        Masking_sol.sum(),x_mask.sum(),sol[sol>0].size) )\n",
    "\n",
    "    # Constraint satisfactibility\n",
    "    print(every_iter['hyperₘ']['max'][-1], every_iter['hyperₙ']['max'][-1], (c*x).sum())"
   ]
  },
  {
   "cell_type": "markdown",
   "metadata": {},
   "source": [
    "Seems like we have arrived at a smaller solution?"
   ]
  },
  {
   "cell_type": "code",
   "execution_count": 24,
   "metadata": {},
   "outputs": [
    {
     "data": {
      "text/plain": [
       "-7.281409749433643e-05"
      ]
     },
     "execution_count": 24,
     "metadata": {},
     "output_type": "execute_result"
    }
   ],
   "source": [
    "(c*x).sum() - obj_exact"
   ]
  },
  {
   "cell_type": "code",
   "execution_count": 29,
   "metadata": {},
   "outputs": [],
   "source": [
    "w  = 1/( abs(c*x) + 10**-5 )"
   ]
  },
  {
   "cell_type": "code",
   "execution_count": 30,
   "metadata": {
    "cell_style": "split"
   },
   "outputs": [
    {
     "data": {
      "text/plain": [
       "[<matplotlib.lines.Line2D at 0x7fb4752d0e20>]"
      ]
     },
     "execution_count": 30,
     "metadata": {},
     "output_type": "execute_result"
    },
    {
     "data": {
      "image/png": "[encoded data removed]",
      "text/plain": [
       "<Figure size 432x288 with 1 Axes>"
      ]
     },
     "metadata": {
      "needs_background": "light"
     },
     "output_type": "display_data"
    }
   ],
   "source": [
    "plt.plot( (c*x).ravel() )"
   ]
  },
  {
   "cell_type": "code",
   "execution_count": 32,
   "metadata": {
    "cell_style": "split"
   },
   "outputs": [
    {
     "data": {
      "text/plain": [
       "[<matplotlib.lines.Line2D at 0x7fb4208f03d0>]"
      ]
     },
     "execution_count": 32,
     "metadata": {},
     "output_type": "execute_result"
    },
    {
     "data": {
      "image/png": "[encoded data removed]",
      "text/plain": [
       "<Figure size 432x288 with 1 Axes>"
      ]
     },
     "metadata": {
      "needs_background": "light"
     },
     "output_type": "display_data"
    }
   ],
   "source": [
    "plt.plot( 10**-5 * (w).ravel() )"
   ]
  },
  {
   "cell_type": "code",
   "execution_count": 36,
   "metadata": {
    "cell_style": "split"
   },
   "outputs": [
    {
     "data": {
      "text/plain": [
       "[<matplotlib.lines.Line2D at 0x7fb472de3940>]"
      ]
     },
     "execution_count": 36,
     "metadata": {},
     "output_type": "execute_result"
    },
    {
     "data": {
      "image/png": "[encoded data removed]",
      "text/plain": [
       "<Figure size 432x288 with 1 Axes>"
      ]
     },
     "metadata": {
      "needs_background": "light"
     },
     "output_type": "display_data"
    }
   ],
   "source": [
    "plt.plot( (c).ravel() )"
   ]
  },
  {
   "cell_type": "code",
   "execution_count": 35,
   "metadata": {
    "cell_style": "split",
    "scrolled": false
   },
   "outputs": [
    {
     "data": {
      "text/plain": [
       "[<matplotlib.lines.Line2D at 0x7fb472d9e6d0>]"
      ]
     },
     "execution_count": 35,
     "metadata": {},
     "output_type": "execute_result"
    },
    {
     "data": {
      "image/png": "[encoded data removed]",
      "text/plain": [
       "<Figure size 432x288 with 1 Axes>"
      ]
     },
     "metadata": {
      "needs_background": "light"
     },
     "output_type": "display_data"
    }
   ],
   "source": [
    "plt.plot( 10**-5 * (c*w).ravel() )"
   ]
  },
  {
   "cell_type": "code",
   "execution_count": 37,
   "metadata": {
    "cell_style": "split"
   },
   "outputs": [
    {
     "data": {
      "text/plain": [
       "[<matplotlib.lines.Line2D at 0x7fb3f2b212e0>]"
      ]
     },
     "execution_count": 37,
     "metadata": {},
     "output_type": "execute_result"
    },
    {
     "data": {
      "image/png": "[encoded data removed]",
      "text/plain": [
       "<Figure size 432x288 with 1 Axes>"
      ]
     },
     "metadata": {
      "needs_background": "light"
     },
     "output_type": "display_data"
    }
   ],
   "source": [
    "plt.plot( (c).ravel()- 10**-5 * (c*w).ravel() )"
   ]
  },
  {
   "cell_type": "code",
   "execution_count": 38,
   "metadata": {
    "cell_style": "split"
   },
   "outputs": [
    {
     "data": {
      "text/plain": [
       "[<matplotlib.lines.Line2D at 0x7fb3f337bd30>]"
      ]
     },
     "execution_count": 38,
     "metadata": {},
     "output_type": "execute_result"
    },
    {
     "data": {
      "image/png": "[encoded data removed]",
      "text/plain": [
       "<Figure size 432x288 with 1 Axes>"
      ]
     },
     "metadata": {
      "needs_background": "light"
     },
     "output_type": "display_data"
    }
   ],
   "source": [
    "plt.plot( (c*x).ravel()- 10**-5 * (c*w*x).ravel() )"
   ]
  },
  {
   "cell_type": "code",
   "execution_count": null,
   "metadata": {},
   "outputs": [],
   "source": []
  },
  {
   "cell_type": "markdown",
   "metadata": {
    "heading_collapsed": true
   },
   "source": [
    "## Visualise and store results"
   ]
  },
  {
   "cell_type": "code",
   "execution_count": null,
   "metadata": {
    "hidden": true
   },
   "outputs": [],
   "source": [
    "main_folder = folder + '_Results'\n",
    "out_folder  = main_folder + '/' + instance\n",
    "algorithm   = 'PD_Improved-'"
   ]
  },
  {
   "cell_type": "code",
   "execution_count": null,
   "metadata": {
    "hidden": true
   },
   "outputs": [],
   "source": [
    "# Check if main folder for results exists, else create it\n",
    "if not os.path.exists(main_folder):    os.makedirs(main_folder)\n",
    "# Now create a folder for the results of the instance\n",
    "if not os.path.exists(out_folder):    os.makedirs(out_folder)\n",
    "out_folder += '/' + algorithm"
   ]
  },
  {
   "cell_type": "markdown",
   "metadata": {
    "heading_collapsed": true,
    "hidden": true
   },
   "source": [
    "### Spies & Heat maps"
   ]
  },
  {
   "cell_type": "code",
   "execution_count": null,
   "metadata": {
    "code_folding": [
     0
    ],
    "hidden": true
   },
   "outputs": [],
   "source": [
    "# Visualise solution\n",
    "plt.figure(figsize = (10,5))\n",
    "\n",
    "plt.subplot(1, 2, 1)\n",
    "plt.spy(x, markersize=1, aspect = 1, markeredgecolor = 'black', alpha=0.75);    plt.axis('off')\n",
    "plt.title('Sparse view')\n",
    "plt.subplot(1, 2, 2)\n",
    "plt.imshow(x);    plt.axis('off');    plt.title('Heat map\\n')\n",
    "\n",
    "plt.savefig(out_folder+'Sparse-Heat.pdf', bbox_inches='tight',transparent=True)\n",
    "plt.show()"
   ]
  },
  {
   "cell_type": "markdown",
   "metadata": {
    "hidden": true
   },
   "source": [
    "Solution with initial guess:"
   ]
  },
  {
   "cell_type": "code",
   "execution_count": null,
   "metadata": {
    "code_folding": [
     0
    ],
    "hidden": true
   },
   "outputs": [],
   "source": [
    "# Visualise solution\n",
    "plt.figure(figsize = (10,5))\n",
    "\n",
    "plt.subplot(1, 2, 1)\n",
    "plt.spy(x, markersize=1, aspect = 1, markeredgecolor = 'black', alpha=0.75);    plt.axis('off')\n",
    "plt.title('Sparse view')\n",
    "plt.subplot(1, 2, 2)\n",
    "plt.imshow(x);    plt.axis('off');    plt.title('Heat map\\n')\n",
    "\n",
    "#plt.savefig(out_folder+'Sparse-Heat.pdf', bbox_inches='tight',transparent=True)\n",
    "plt.show()"
   ]
  },
  {
   "cell_type": "code",
   "execution_count": null,
   "metadata": {
    "code_folding": [
     0
    ],
    "hidden": true
   },
   "outputs": [],
   "source": [
    "# Visualise solution\n",
    "plt.figure(figsize = (10,5))\n",
    "\n",
    "plt.subplot(1, 2, 1)\n",
    "plt.spy(x, markersize=1, aspect = 1, markeredgecolor = 'black', alpha=0.75);    plt.axis('off')\n",
    "plt.title('Sparse view')\n",
    "plt.subplot(1, 2, 2)\n",
    "plt.imshow(x);    plt.axis('off');    plt.title('Heat map\\n')\n",
    "\n",
    "#plt.savefig(out_folder+'Sparse-Heat.pdf', bbox_inches='tight',transparent=True)\n",
    "plt.show()"
   ]
  },
  {
   "cell_type": "markdown",
   "metadata": {
    "heading_collapsed": true,
    "hidden": true
   },
   "source": [
    "### Evolution across iterations"
   ]
  },
  {
   "cell_type": "code",
   "execution_count": null,
   "metadata": {
    "code_folding": [
     0
    ],
    "hidden": true
   },
   "outputs": [],
   "source": [
    "# Visualise evolution of objective values\n",
    "plt.figure(figsize = (20,5))\n",
    "\n",
    "plt.subplot(1, 2, 1)\n",
    "plt.plot(obj)\n",
    "plt.axhline(y=obj_exact, color='r', linestyle=':')\n",
    "plt.yscale('log');    plt.title('Objective values per iteration')\n",
    "plt.xlabel('Iteration count');    plt.ylabel('Objective cost (log scale)')\n",
    "plt.subplot(1, 2, 2)\n",
    "plt.plot(np.append([0], every_iter['time']),obj)\n",
    "plt.axhline(y=obj_exact, color='r', linestyle=':')\n",
    "plt.yscale('log')\n",
    "plt.title('Objective values per iteration')\n",
    "plt.xlabel('Time');    plt.ylabel('Objective cost (log scale)')\n",
    "\n",
    "#plt.savefig(out_folder+'Objective.pdf', bbox_inches='tight',transparent=True)\n",
    "plt.show()"
   ]
  },
  {
   "cell_type": "code",
   "execution_count": null,
   "metadata": {
    "code_folding": [
     0
    ],
    "hidden": true
   },
   "outputs": [],
   "source": [
    "# Visualise evolution of relative errors\n",
    "plt.figure(figsize = (20,11))\n",
    "\n",
    "plt.subplot(2, 2, 1)\n",
    "plt.plot(every_iter['dist_obj'])\n",
    "plt.yscale('log')\n",
    "plt.title('Error in objective per iteration')\n",
    "plt.xlabel('Iteration count');    plt.ylabel('Relative error in objective (log scale)')\n",
    "plt.subplot(2, 2, 2)\n",
    "plt.plot(every_iter['time'],every_iter['dist_obj'])\n",
    "plt.yscale('log')\n",
    "plt.title('Error in objective per iteration')\n",
    "plt.xlabel('Time');    plt.ylabel('Relative error in objective (log scale)')\n",
    "plt.subplot(2, 2, 3)\n",
    "plt.plot(every_iter['dist_x'])\n",
    "plt.yscale('log')\n",
    "plt.title('Error in solution per iteration')\n",
    "plt.xlabel('Iteration count');    plt.ylabel('Relative error in solution (log scale)')\n",
    "plt.subplot(2, 2, 4)\n",
    "plt.plot(every_iter['time'],every_iter['dist_x'])\n",
    "plt.yscale('log')\n",
    "plt.title('Error in solution per iteration')\n",
    "plt.xlabel('Time');    plt.ylabel('Relative error in solution (log scale)')\n",
    "\n",
    "#plt.savefig(out_folder+'Rel_Error.pdf', bbox_inches='tight',transparent=True)\n",
    "plt.show()"
   ]
  },
  {
   "cell_type": "code",
   "execution_count": null,
   "metadata": {
    "code_folding": [
     0
    ],
    "hidden": true
   },
   "outputs": [],
   "source": [
    "# Relative variation\n",
    "plt.figure(figsize = (20,5))\n",
    "\n",
    "plt.subplot(1, 2, 1)\n",
    "plt.plot(every_iter['it'], every_iter['rel_var'])\n",
    "plt.yscale('log')\n",
    "plt.xlabel('Iteration count');    plt.ylabel('Relative variation (log scale)');\n",
    "plt.title('Relative variation of iterates per iteration')\n",
    "\n",
    "plt.subplot(1, 2, 2)\n",
    "plt.plot(every_iter['time'], every_iter['rel_var'])\n",
    "plt.yscale('log')\n",
    "plt.xlabel('Time');    plt.ylabel('Relative variation (log scale)');\n",
    "plt.title('Relative variation of iterates against time')\n",
    "\n",
    "#plt.savefig(out_folder+'Relative_Var.pdf', bbox_inches='tight',transparent=True)\n",
    "plt.show()"
   ]
  },
  {
   "cell_type": "code",
   "execution_count": null,
   "metadata": {
    "code_folding": [
     0
    ],
    "hidden": true
   },
   "outputs": [],
   "source": [
    "# Relative variation for x𝟙 = m\n",
    "plt.figure(figsize = (20,5))\n",
    "\n",
    "plt.subplot(1, 2, 1)\n",
    "plt.plot(every_iter['it'], every_iter['hyperₘ']['L2'], label='ℓ2')\n",
    "plt.plot(every_iter['it'], every_iter['hyperₘ']['max'], label='max')\n",
    "plt.plot(every_iter['it'], every_iter['hyperₘ']['min'], label='min')\n",
    "plt.yscale('log')\n",
    "plt.xlabel('Iteration count');    plt.ylabel('Relative error (log scale)');\n",
    "plt.title('Satisfactibility of hyperspace constaint x𝟙 = m')\n",
    "plt.legend()\n",
    "\n",
    "plt.subplot(1, 2, 2)\n",
    "plt.plot(every_iter['time'], every_iter['hyperₘ']['L2'], label='ℓ2')\n",
    "plt.plot(every_iter['time'], every_iter['hyperₘ']['max'], label='max')\n",
    "plt.plot(every_iter['time'], every_iter['hyperₘ']['min'], label='min')\n",
    "plt.yscale('log')\n",
    "plt.xlabel('Time');    plt.ylabel('Relative error (log scale)');\n",
    "plt.title('Satisfactibility of hyperspace constaint x𝟙 = m')\n",
    "\n",
    "#plt.savefig(out_folder+'RelE_m.pdf', bbox_inches='tight',transparent=True)\n",
    "plt.show()"
   ]
  },
  {
   "cell_type": "code",
   "execution_count": null,
   "metadata": {
    "code_folding": [
     0
    ],
    "hidden": true
   },
   "outputs": [],
   "source": [
    "# Relative variation for 𝟙ᵀx = n\n",
    "plt.figure(figsize = (20,5))\n",
    "\n",
    "plt.subplot(1, 2, 1)\n",
    "plt.plot(every_iter['it'], every_iter['hyperₙ']['L2'], label='ℓ2')\n",
    "plt.plot(every_iter['it'], every_iter['hyperₙ']['max'], label='max')\n",
    "plt.plot(every_iter['it'], every_iter['hyperₙ']['min'], label='min')\n",
    "plt.yscale('log')\n",
    "plt.xlabel('Iteration count');    plt.ylabel('Relative error (log scale)');\n",
    "plt.title('Satisfactibility of hyperspace constaint 𝟙ᵀx = n');    plt.legend()\n",
    "\n",
    "plt.subplot(1, 2, 2)\n",
    "plt.plot(every_iter['time'], every_iter['hyperₙ']['L2'], label='ℓ2')\n",
    "plt.plot(every_iter['time'], every_iter['hyperₙ']['max'], label='max')\n",
    "plt.plot(every_iter['time'], every_iter['hyperₙ']['min'], label='min')\n",
    "plt.yscale('log')\n",
    "plt.xlabel('Time');    plt.ylabel('Relative error (log scale)');\n",
    "plt.title('Satisfactibility of hyperspace constaint 𝟙ᵀx = n');    plt.legend()\n",
    "\n",
    "#plt.savefig(out_folder+'RelE_n.pdf', bbox_inches='tight',transparent=True)\n",
    "plt.show()"
   ]
  },
  {
   "cell_type": "markdown",
   "metadata": {
    "hidden": true
   },
   "source": [
    "### Export as dataframes"
   ]
  },
  {
   "cell_type": "markdown",
   "metadata": {
    "hidden": true
   },
   "source": [
    "All the data from the above two plots is also available as dataframes:"
   ]
  },
  {
   "cell_type": "code",
   "execution_count": null,
   "metadata": {
    "hidden": true
   },
   "outputs": [],
   "source": [
    "df_critical = pd.DataFrame.from_dict(every_critical)\n",
    "df_critical.to_pickle(out_folder+'Critical.pkl') # To read back use pd.read_pickle(file_name)\n",
    "df_critical.to_excel(out_folder+'Critical.xlsx')\n",
    "display(df_critical)\n",
    "\n",
    "# If we want this table in LaTeX format run:\n",
    "print(df_critical.to_latex(index=False))"
   ]
  },
  {
   "cell_type": "code",
   "execution_count": null,
   "metadata": {
    "code_folding": [
     1
    ],
    "hidden": true
   },
   "outputs": [],
   "source": [
    "#df_every = pd.DataFrame.from_dict(every_iter)\n",
    "df_every = pd.concat([\n",
    "                pd.DataFrame.from_dict( {a:b for a,b in every_iter.items() if a not in ['hyperₘ', 'hyperₙ'] } ),\n",
    "                pd.DataFrame.from_dict( {'hyperₘ-'+a:b for a,b in every_iter['hyperₘ'].items()} ), \n",
    "                pd.DataFrame.from_dict( {'hyperₙ-'+a:b for a,b in every_iter['hyperₙ'].items()} )], axis = 1)\n",
    "df_every.to_pickle(out_folder+'Every.pkl') # To read back use pd.read_pickle(file_name)\n",
    "df_every.to_excel(out_folder+'Every.xlsx')\n",
    "display(df_every.head())"
   ]
  },
  {
   "cell_type": "code",
   "execution_count": null,
   "metadata": {
    "hidden": true
   },
   "outputs": [],
   "source": [
    "df_every.describe()"
   ]
  },
  {
   "cell_type": "code",
   "execution_count": null,
   "metadata": {
    "hidden": true
   },
   "outputs": [],
   "source": [
    "# Finally, store the latest solution:\n",
    "np.save(out_folder + '_Sol.npy' , x)            # To read back just run:   np.load(outfile)"
   ]
  },
  {
   "cell_type": "markdown",
   "metadata": {
    "hidden": true
   },
   "source": [
    "---\n",
    "Code used to do performance tests in each piece of code:\n",
    "```Python\n",
    "start = time.time()\n",
    "# ...\n",
    "end = time.time()\n",
    "print(end-start)\n",
    "\n",
    "%timeit -r 10 -n 200 `function(x)`\n",
    "```"
   ]
  },
  {
   "cell_type": "markdown",
   "metadata": {
    "hidden": true
   },
   "source": [
    "Not much of a speedup for interpolation:\n",
    "```Python\n",
    "@jit(nopython=True, fastmath = True)\n",
    "def interp(xₖ,x, yₖ,y, ρ):\n",
    "    return ρ*xₖ + (1 - ρ)*x, ρ*yₖ + (1 - ρ)*y\n",
    "\n",
    "xₖ, yₖ, x, y = ones((4,M,N)); ρ = 1.9\n",
    "interp(xₖ,x, yₖ,y, ρ); # Run it once\n",
    "```"
   ]
  },
  {
   "cell_type": "markdown",
   "metadata": {
    "hidden": true
   },
   "source": [
    "---"
   ]
  }
 ],
 "metadata": {
  "kernelspec": {
   "display_name": "Python 3 (ipykernel)",
   "language": "python",
   "name": "python3"
  },
  "language_info": {
   "codemirror_mode": {
    "name": "ipython",
    "version": 3
   },
   "file_extension": ".py",
   "mimetype": "text/x-python",
   "name": "python",
   "nbconvert_exporter": "python",
   "pygments_lexer": "ipython3",
   "version": "3.8.12"
  }
 },
 "nbformat": 4,
 "nbformat_minor": 2
}
