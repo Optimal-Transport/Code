{
 "cells": [
  {
   "cell_type": "markdown",
   "metadata": {},
   "source": [
    "# Generalised Forward-Backward to solve Discrete Optimal Transport"
   ]
  },
  {
   "cell_type": "markdown",
   "metadata": {},
   "source": [
    "<div class=\"alert alert-block alert-success\">\n",
    "    \n",
    "This notebook we aim at solving DOT instances using modern optimisation algorithms that outperform the simplex method. To do this we will use the Generalised Forward-Backward framework. \n",
    "    \n",
    "The notebook is divided in three parts. First, Condat's projection into the ℓ<sub>1</sub> ball algorithm is implemented. Second, the algorithm is used to find feasible solutions of DOT. Finally, the Generalised Forward-Backward algorithm is tested. The results are automatically stored with an unique identifier and some performance plots are presented.\n",
    "</div>\n",
    "\n",
    "* Laurent Condat. <i>Fast projection onto the simplex and the ℓ<sub>1</sub> ball</i>. Math. Program. 158, 575–585 (2016). [https://doi.org/10.1007/s10107-015-0946-6](https://doi.org/10.1007/s10107-015-0946-6). _Also available at_ [https://hal.archives-ouvertes.fr/hal-01056171v2](https://hal.archives-ouvertes.fr/hal-01056171v2).\n",
    "\n",
    "* Hugo Raguet, Jalal Fadili, and Gabriel Peyre. <i>Generalised Forward-Backward Splitting</i>. SIAM J. Imaging Sci., 6(3), 1199–1226 (2013). [https://doi.org/10.1137/120872802](https://doi.org/10.1137/120872802). _Also available at_ [https://arxiv.org/pdf/1108.4404.pdf](https://arxiv.org/pdf/1108.4404.pdf)."
   ]
  },
  {
   "cell_type": "markdown",
   "metadata": {},
   "source": [
    "<div class=\"alert alert-block alert-info\">\n",
    "Packages\n",
    "</div>"
   ]
  },
  {
   "cell_type": "code",
   "execution_count": 1,
   "metadata": {},
   "outputs": [],
   "source": [
    "import numpy  as np\n",
    "import pandas as pd\n",
    "import time\n",
    "import os\n",
    "import matplotlib.pyplot as plt\n",
    "\n",
    "# Particular functions\n",
    "from numpy import zeros, zeros_like, allclose, where, ones, inf, absolute, linspace\n",
    "from numpy.random import default_rng as rng\n",
    "from numba import jit\n",
    "from scipy.spatial.distance import cdist\n",
    "from scipy.linalg import norm"
   ]
  },
  {
   "cell_type": "markdown",
   "metadata": {
    "heading_collapsed": true
   },
   "source": [
    "# Subroutines"
   ]
  },
  {
   "cell_type": "markdown",
   "metadata": {
    "hidden": true
   },
   "source": [
    "In this section we create subroutines that will be iteratively used in the main algorithm."
   ]
  },
  {
   "cell_type": "markdown",
   "metadata": {
    "heading_collapsed": true,
    "hidden": true
   },
   "source": [
    "## Projection onto the simplex"
   ]
  },
  {
   "cell_type": "markdown",
   "metadata": {
    "hidden": true
   },
   "source": [
    "Here we provide an implementation of Condat's algorithm. The main steps are precompiled using the Just-in-time package ```numba``` to gain a speed-up. To get the best computing times, the resulting jitted function has to be run at least once before an actual iterative test. For the tests, we will project a random vector $y$ of size $N$ with $y_n \\sim \\mathcal{U}(-1,2)$ for all $n\\in \\{1,\\ldots,N\\}$ and a 20% mask of zeroes."
   ]
  },
  {
   "cell_type": "markdown",
   "metadata": {
    "hidden": true
   },
   "source": [
    "<div style=\"background-color:rgba(0, 0, 0, 0.0470588); vertical-align: middle; padding:5px 0; padding-left: 40px;\">\n",
    "<h2 style=\"color: #5e9ca0;\">Condat's Algorithm</h2>\n",
    "<ol>\n",
    "<li>Set $v:= (y_1)$, $u$ as an empty list, $\\rho:= y_1 - a$.</li>\n",
    "<li>For $n \\in \\{2,\\ldots, N\\}$, do\n",
    "<ol>\n",
    "<li>If $y_n > \\rho$\n",
    "<ol>\n",
    "<li>Set $\\rho := \\rho + (y_n - \\rho)/(|v|+1)$.</li>\n",
    "<li>If $\\rho > y_n - a$, add $y_n$ to $v$.</li>\n",
    "<li>Else, add $v$ to $u$, set $v = (y_n)$, $\\rho = y_n -a$.</li>\n",
    "</ol>\n",
    "</li>\n",
    "</ol>\n",
    "</li>\n",
    "<li>If $u$ is not empty, for every element $y$ of $u$, do\n",
    "<ol>\n",
    "<li>If $y > \\rho$, add $y$ to $v$ and set $\\rho := \\rho + (y-\\rho)/|v|$.</li>\n",
    "</ol>\n",
    "</li>\n",
    "<li>Do, while $|v|$ changes,\n",
    "<ol>\n",
    "<li>For every element $y$ of $v$ do\n",
    "<ol>\n",
    "<li>If $y\\leq \\rho$, remove $y$ from $v$ and set $\\rho := \\rho + (\\rho - y)/|v|$.</li>\n",
    "</ol>\n",
    "</li>\n",
    "</ol>\n",
    "</li>\n",
    "<li>Set $\\tau := \\rho$, $K = |v|$.</li>\n",
    "<li>For $n \\in \\{1,\\ldots,N\\}$, set $x_n := \\max \\{y_n - \\tau, 0\\}$.</li>\n",
    "</ol>\n",
    "</div>"
   ]
  },
  {
   "cell_type": "code",
   "execution_count": 2,
   "metadata": {
    "hidden": true
   },
   "outputs": [],
   "source": [
    "N = 1000\n",
    "y = rng(0).uniform(-1,2,N);    y = where(rng(0).binomial(1,0.8,N), y, 0)\n",
    "a = 1.0"
   ]
  },
  {
   "cell_type": "code",
   "execution_count": 3,
   "metadata": {
    "code_folding": [
     1
    ],
    "hidden": true
   },
   "outputs": [],
   "source": [
    "@jit(nopython=True, fastmath = True)\n",
    "def CondatP_1d(y,a,N):\n",
    "    x = zeros_like(y)\n",
    "    if a == 0:\n",
    "        return x\n",
    "    \n",
    "    # Step 1\n",
    "    ρ = y[0] - a\n",
    "    v = [0]\n",
    "    u = []\n",
    "    # Step 2\n",
    "    for n in range(1,N):\n",
    "        yₙ = y[n]\n",
    "        if yₙ > ρ:\n",
    "            ρ += (yₙ - ρ)/( len(v) + 1 )\n",
    "            if ρ > yₙ - a:\n",
    "                v.append(n)\n",
    "            else:\n",
    "                u.extend(v)\n",
    "                v = [n]\n",
    "                ρ = yₙ - a\n",
    "    # Step 3\n",
    "    if len(u) > 0:\n",
    "        for n in iter(u):\n",
    "            yₙ = y[n]\n",
    "            if yₙ > ρ:\n",
    "                v.append(n)\n",
    "                ρ += (yₙ - ρ)/( len(v) )\n",
    "    # Step 4\n",
    "    while True:\n",
    "        ℓ_v = len(v)\n",
    "        for i,j in enumerate(v):\n",
    "            if y[j] <= ρ:\n",
    "                ρ += (ρ - y[j])/(len(v) - 1)\n",
    "                del v[i]\n",
    "        if len(v) >= ℓ_v:\n",
    "            break\n",
    "    \n",
    "    #x[v] = y[v] - ρ\n",
    "    for n in iter(v):\n",
    "        x[n] = y[n] - ρ\n",
    "    #for n in prange(len(v)):\n",
    "    #    x[v[n]] = y[v[n]] - ρ\n",
    "    return x"
   ]
  },
  {
   "cell_type": "code",
   "execution_count": 4,
   "metadata": {
    "code_folding": [],
    "hidden": true
   },
   "outputs": [],
   "source": [
    "# Run things once for pre-compiling:\n",
    "CondatP_1d(y,a,N);"
   ]
  },
  {
   "cell_type": "code",
   "execution_count": 5,
   "metadata": {
    "hidden": true
   },
   "outputs": [
    {
     "data": {
      "text/plain": [
       "True"
      ]
     },
     "execution_count": 5,
     "metadata": {},
     "output_type": "execute_result"
    }
   ],
   "source": [
    "# If we run the above again, we can see a clear speed-up. The computation passes quickly even inside compositions\n",
    "allclose(CondatP_1d(y,a,N).sum(), 1.0)"
   ]
  },
  {
   "cell_type": "markdown",
   "metadata": {
    "hidden": true
   },
   "source": [
    "Now we addapt the code to accept a matrix $\\gamma$ as input."
   ]
  },
  {
   "cell_type": "code",
   "execution_count": 6,
   "metadata": {
    "hidden": true
   },
   "outputs": [],
   "source": [
    "N = 500\n",
    "M = 1000\n",
    "γ = rng(0).uniform(-1,2,(M,N));    γ = where(rng(0).binomial(1,0.8,(M,N)), γ, 0)\n",
    "a = 1.0"
   ]
  },
  {
   "cell_type": "markdown",
   "metadata": {
    "hidden": true
   },
   "source": [
    "We can pre-allocate some memory:"
   ]
  },
  {
   "cell_type": "code",
   "execution_count": 7,
   "metadata": {
    "hidden": true
   },
   "outputs": [],
   "source": [
    "x = zeros_like(γ)"
   ]
  },
  {
   "cell_type": "code",
   "execution_count": 8,
   "metadata": {
    "cell_style": "center",
    "code_folding": [
     1
    ],
    "hidden": true
   },
   "outputs": [],
   "source": [
    "@jit(nopython=True, fastmath = True)\n",
    "def CondatP(y,x,a,N):\n",
    "    if a == 0:\n",
    "        return x\n",
    "    \n",
    "    # Step 1\n",
    "    ρ = y[0] - a\n",
    "    v = [0]\n",
    "    u = []\n",
    "    # Step 2\n",
    "    for n in range(1,N):\n",
    "        yₙ = y[n]\n",
    "        if yₙ > ρ:\n",
    "            ρ += (yₙ - ρ)/( len(v) + 1 )\n",
    "            if ρ > yₙ - a:\n",
    "                v.append(n)\n",
    "            else:\n",
    "                u.extend(v)\n",
    "                v = [n]\n",
    "                ρ = yₙ - a\n",
    "    # Step 3\n",
    "    if len(u) > 0:\n",
    "        for n in iter(u):\n",
    "            yₙ = y[n]\n",
    "            if yₙ > ρ:\n",
    "                v.append(n)\n",
    "                ρ += (yₙ - ρ)/( len(v) )\n",
    "    # Step 4\n",
    "    while True:\n",
    "        ℓ_v = len(v)\n",
    "        for i,j in enumerate(v):\n",
    "            if y[j] <= ρ:\n",
    "                ρ += (ρ - y[j])/(len(v) - 1)\n",
    "                del v[i]\n",
    "        if len(v) >= ℓ_v:\n",
    "            break\n",
    "    \n",
    "    #x[v] = y[v] - ρ\n",
    "    for n in iter(v):\n",
    "        x[n] = y[n] - ρ\n",
    "    #for n in prange(len(v)):\n",
    "    #    x[v[n]] = y[v[n]] - ρ\n",
    "    return x"
   ]
  },
  {
   "cell_type": "code",
   "execution_count": 9,
   "metadata": {
    "hidden": true
   },
   "outputs": [],
   "source": [
    "CondatP(γ[0],x[0],a,M); # Null test"
   ]
  },
  {
   "cell_type": "code",
   "execution_count": 10,
   "metadata": {
    "hidden": true
   },
   "outputs": [
    {
     "name": "stdout",
     "output_type": "stream",
     "text": [
      "Time taken: 0.019817352294921875 s\n"
     ]
    }
   ],
   "source": [
    "start = time.time()\n",
    "x = zeros_like(γ)\n",
    "for i in range(M):    x[i] = CondatP(γ[i],x[i],a,N)\n",
    "end = time.time()\n",
    "print('Time taken:',end-start,'s')"
   ]
  },
  {
   "cell_type": "code",
   "execution_count": 11,
   "metadata": {
    "hidden": true,
    "scrolled": true
   },
   "outputs": [
    {
     "data": {
      "text/plain": [
       "True"
      ]
     },
     "execution_count": 11,
     "metadata": {},
     "output_type": "execute_result"
    }
   ],
   "source": [
    "allclose(x.sum(axis=1), 1)"
   ]
  },
  {
   "cell_type": "markdown",
   "metadata": {
    "hidden": true
   },
   "source": [
    "An additional test can be to see what happens if we work on the support of $\\gamma$:\n",
    "```Python\n",
    "x = zeros_like(γ)\n",
    "for i in range(N):\n",
    "    z = γ[i][γ[i] != 0]\n",
    "    x[i][γ[i] != 0] = CondatP_1d(z,a,z.size)\n",
    "```"
   ]
  },
  {
   "cell_type": "markdown",
   "metadata": {
    "hidden": true
   },
   "source": [
    "There does not seem to be a significant gain on working with the support. This might change if the support is extremely small."
   ]
  },
  {
   "cell_type": "markdown",
   "metadata": {},
   "source": [
    "# Algorithm"
   ]
  },
  {
   "cell_type": "markdown",
   "metadata": {},
   "source": [
    "Now, we will run the Generalised Forward-Backward algorithm addapted for DOT. To test it, we will run it against some of the DOTMark files. We will aim to transport from one given image to another, which are normalised and flattened in ```C```-order. The matrix of costs is based on a uniform grid within $[0,1]^2$ with $M$ points for the source and $N$ points for the target."
   ]
  },
  {
   "cell_type": "markdown",
   "metadata": {},
   "source": [
    "<div style=\"background-color:rgba(0, 0, 0, 0.0470588); vertical-align: middle; padding:5px 0; padding-left: 40px;\">\n",
    "<h2 style=\"color: #5e9ca0;\">Generalised Forward Backward (Full Splitting) Algorithm</h2>\n",
    "We will recast our optimisation algorithm in the form\n",
    "\\[\\min_{\\gamma \\in \\mathbb{R}^{M \\times N}} K(\\gamma) + \\imath_{\\mathbb{R}^{M \\times N}_{+}}(\\gamma) + \\sum^{N}_{j=1}\\imath_{\\mathcal{H}^{M}_{j}}(\\gamma_{j}) + \\sum^{M}_{i=1}\\imath_{\\mathcal{H}^{N}_{i}}(\\gamma_{i}) ,\\]\n",
    " where \\[\\mathcal{H}^{M}_{j} = \\{x \\in \\mathbb{R}^{M} \\mid \\mathbb{1}^{T}_{M}x \\geq n_{j} \\},\\]\n",
    "    \\[\\mathcal{H}^{N}_{i} = \\{x \\in \\mathbb{R}^{N}\\mid \\mathbb{1}^{T}_{N}x \\leq m_{i} \\}.\\]"
   ]
  },
  {
   "cell_type": "markdown",
   "metadata": {},
   "source": [
    "## Instance information"
   ]
  },
  {
   "cell_type": "code",
   "execution_count": 12,
   "metadata": {},
   "outputs": [],
   "source": [
    "folder = 'Microscopy_Sized'\n",
    "path = 'Exact/' + folder + '/'"
   ]
  },
  {
   "cell_type": "code",
   "execution_count": 13,
   "metadata": {},
   "outputs": [
    {
     "name": "stdout",
     "output_type": "stream",
     "text": [
      "There are 4 instances in this location:\n"
     ]
    },
    {
     "data": {
      "text/plain": [
       "['data8_1002-data8_1010_p=S2',\n",
       " 'data32_1002-data32_1010_p=S2',\n",
       " 'data16_1002-data16_1010_p=S2',\n",
       " 'data64_1002-data64_1010_p=S2']"
      ]
     },
     "metadata": {},
     "output_type": "display_data"
    }
   ],
   "source": [
    "files = [f[:-9] for f in os.listdir(path) if f.endswith('.txt')]\n",
    "print('There are', len(files), 'instances in this location:')\n",
    "display(files)"
   ]
  },
  {
   "cell_type": "markdown",
   "metadata": {},
   "source": [
    "Select one instance:"
   ]
  },
  {
   "cell_type": "code",
   "execution_count": 24,
   "metadata": {},
   "outputs": [],
   "source": [
    "instance = files[1]\n",
    "full_path = path + instance"
   ]
  },
  {
   "cell_type": "markdown",
   "metadata": {},
   "source": [
    "Load data:"
   ]
  },
  {
   "cell_type": "code",
   "execution_count": 25,
   "metadata": {},
   "outputs": [],
   "source": [
    "m = np.load(full_path + '_m.npy');    M = m.size\n",
    "n = np.load(full_path + '_n.npy');    N = n.size\n",
    "c = np.load(full_path + '_Cost.npy')\n",
    "sol = np.load(full_path + '_Sol.npy')"
   ]
  },
  {
   "cell_type": "code",
   "execution_count": 26,
   "metadata": {},
   "outputs": [],
   "source": [
    "with open(full_path + '_Time.txt', 'r') as f:\n",
    "    obj_exact = eval((f.readlines())[0])['Obj']"
   ]
  },
  {
   "cell_type": "markdown",
   "metadata": {},
   "source": [
    "## Run algorithm"
   ]
  },
  {
   "cell_type": "markdown",
   "metadata": {},
   "source": [
    "<div class=\"alert alert-block alert-warning\">\n",
    "    \n",
    "In what follows, we provide tests for the chosen instance running the Generalised forward-backward split approach given by Hugo Raguet, Jalal Fadili, and Gabriel Peyre (2013).\n",
    "</div>"
   ]
  },
  {
   "cell_type": "code",
   "execution_count": 27,
   "metadata": {},
   "outputs": [],
   "source": [
    "def Projection(x,b,dim):\n",
    "    #projection onto the set \\{x : aT x = b \\}\n",
    "    Px = x -(sum(x)-b)*np.ones(dim)/(dim)\n",
    "    return Px"
   ]
  },
  {
   "cell_type": "code",
   "execution_count": 28,
   "metadata": {
    "code_folding": [
     0,
     64
    ]
   },
   "outputs": [],
   "source": [
    "def generalised_forward_backward_full_split(c,m,n,iters, collect_obj = False, \n",
    "                                                 true_obj = None,\n",
    "                                             true_obj_tol = 1e-4, true_solution = None, save_iter = False):\n",
    "    # Algorithm for calculating solution x, in the primal space\n",
    "    # and y_1, y_2 in the dual space.\n",
    "    # Also returns the value of the objective function c*x at each\n",
    "    # iteration.\n",
    "    \n",
    "    '''\n",
    "        Initialise parameters\n",
    "    '''\n",
    "    #First compute μ\n",
    "    μ = norm(c,2)     # 1 -> 10^-1 -> 10^-2 -> ...\n",
    "    # μ is selected as the midpoint of the interval\n",
    "    #e = 1/mu #0.5 * 1/mu;        # remove\n",
    "    # γ->θ does not depend on the current iteration\n",
    "    θ = 0.0001\n",
    "    # likewise, we do not require a change in λ\n",
    "    λ = 1.0\n",
    "    \n",
    "    # Fetch lengths of m and n\n",
    "    N = n.size;        M = m.size\n",
    "    \n",
    "    print('\\n*** Generalised FB with M = {}, N = {}, MN = {} ***\\n\\n'.format(M,N,M*N))\n",
    "    \n",
    "    '''\n",
    "        Initialise matrices\n",
    "    '''\n",
    "    # Initialise y_1 and y_2\n",
    "    v_1 = zeros((M,N))\n",
    "    v_2 = zeros((M,N))\n",
    "    v_3 = zeros((M,N))\n",
    "    \n",
    "    v_1[0,:] = n\n",
    "    v_2[:,0] = m\n",
    "    \n",
    "    \n",
    "    # Initialise x\n",
    "    x = 0.5*(v_1 + v_2) #maybe change this\n",
    "    #x = np.zeros((M,N));    x[:,0] = m;    x[0,:] = n;    x[0,0] = 0.5*(m[-1] + n[-1])        # Alternative\n",
    "    \n",
    "    '''\n",
    "        Information from true solution (if available)\n",
    "    '''\n",
    "    # Store current objective value\n",
    "    if collect_obj == True:\n",
    "        obj = [(c*x).sum()]\n",
    "    \n",
    "    # Norm of true solution\n",
    "    if true_solution is not None:\n",
    "        true_obj_crit = 1.0\n",
    "        if true_obj is None:\n",
    "            true_obj = (c*sol).sum()\n",
    "        print('Objective from ground truth:', obj_exact,'\\n')\n",
    "        \n",
    "    '''\n",
    "        Iterate the Generalised FB scheme\n",
    "    '''\n",
    "    \n",
    "    every_iter = {'it':[], 'obj':[], 'dist_obj':[], 'time':[], 'dist_x':[]}\n",
    "    every_critical = {'it':[], 'obj':[], 'tol':[], 'dist_obj':[], 'time':[], 'dist_x':[]}\n",
    "    \n",
    "    if true_solution is not None:\n",
    "        print('     It  |  Tolerance |        Time       | Frob. dist. ')\n",
    "        print( '{:-^55}'.format('') )\n",
    "    \n",
    "    start = time.time()    \n",
    "    for k in range(iters):\n",
    "    \n",
    "        #matrices for projection over the simplex C_1^m and the simplex C_2^n.\n",
    "        \n",
    "        γ_1 = 2*x - v_1 - θ*c #constraint rows\n",
    "        γ_2 = 2*x - v_2 - θ*c # constraint columns\n",
    "        γ_3 = 2*x - v_3 - θ*c #positivity constraint\n",
    "            \n",
    "        # Projection to 1ᵀx = n\n",
    "        Pₙ = γ_2 + (n - γ_2.sum(0))/M          # to check the constraint run: allclose(Pₙ.sum(0), n)\n",
    "        # Projection to xᵀ1 = m\n",
    "        #Pₘ = (γ_1.T + (m - γ_1.sum(1))/N).T    # to check run: allclose(Pₘ.sum(1), m)\n",
    "        \n",
    "        \n",
    "        # Alternative:\n",
    "        Pₘ = γ_1 + ((m - γ_1.sum(1))/N).reshape(M,1)\n",
    "        \n",
    "        v_1 += Pₘ - x\n",
    "            \n",
    "        v_2 +=  Pₙ - x\n",
    "        #positivity constraint\n",
    "        v_3 += np.where(γ_3<0,0,γ_3) - x\n",
    "      \n",
    "    \n",
    "        # Update x using v_1 and v_2\n",
    "        x = (v_1 + v_2 + v_3)/3\n",
    "        # Measure time up to this point!\n",
    "        end = time.time()\n",
    "        \n",
    "        # Update objective function\n",
    "        if collect_obj == True:\n",
    "            obj.append( (c*x).sum() )\n",
    "            # Compute relative objective distance\n",
    "            if true_solution is not None:\n",
    "                dist_true_sol = abs(obj[-1] - true_obj)/true_obj\n",
    "        \n",
    "        # If all iterations are to be stored:\n",
    "        if save_iter == True:\n",
    "            frob_d = norm(sol-x, 'fro')/norm(sol, 'fro')\n",
    "            every_iter['it'].append( k )\n",
    "            every_iter['obj'].append( (c*x).sum() )\n",
    "            every_iter['dist_obj'].append( dist_true_sol if true_obj is not None else np.nan )\n",
    "            every_iter['time'].append( end-start )\n",
    "            every_iter['dist_x'].append( frob_d )\n",
    "            \n",
    "           #print(dist_true_sol) \n",
    "            \n",
    "        # If a true solution is available, we check the tolerance:\n",
    "        if true_solution is not None: \n",
    "            if dist_true_sol < true_obj_crit:\n",
    "                frob_d = norm(sol-x, 'fro')/norm(sol, 'fro')\n",
    "                \n",
    "                every_critical['it'].append( k )\n",
    "                every_critical['obj'].append( obj[-1] )\n",
    "                every_critical['tol'].append( true_obj_crit )\n",
    "                every_critical['dist_obj'].append( dist_true_sol )\n",
    "                every_critical['time'].append( end-start )\n",
    "                every_critical['dist_x'].append( frob_d )\n",
    "                \n",
    "                print('* {0:6.0f} |    {1:.1e} | {2:15.2f} s |    {3:4.4f}'.format(k,true_obj_crit,end-start,frob_d))\n",
    "                \n",
    "                # If the prescribed tolerance is reached, we finish.\n",
    "                if dist_true_sol < true_obj_tol:\n",
    "                    print('Solution found with given tolerance.')\n",
    "                    break\n",
    "                \n",
    "                # Adjust current level of inner tolerance\n",
    "                true_obj_crit *= 0.1\n",
    "                \n",
    "    if true_solution is not None:\n",
    "        print( '{:-^55}'.format('') )\n",
    "        \n",
    "    print('\\nAlgorithm stopped after {0:.4f} seconds and {1} iterations'.format(end-start,k))\n",
    "    \n",
    "    \n",
    "    if collect_obj == False and save_iter == True:\n",
    "        return x, every_iter\n",
    "    if collect_obj == True and save_iter == True:\n",
    "        return x, obj, every_critical, every_iter\n",
    "    else:\n",
    "        return x"
   ]
  },
  {
   "cell_type": "code",
   "execution_count": 29,
   "metadata": {},
   "outputs": [
    {
     "name": "stdout",
     "output_type": "stream",
     "text": [
      "\n",
      "*** Generalised FB with M = 1024, N = 1024, MN = 1048576 ***\n",
      "\n",
      "\n",
      "Objective from ground truth: 0.010675024052995653 \n",
      "\n",
      "     It  |  Tolerance |        Time       | Frob. dist. \n",
      "-------------------------------------------------------\n",
      "*    235 |    1.0e+00 |           17.80 s |    0.9165\n",
      "*    368 |    1.0e-01 |           26.77 s |    0.8862\n",
      "*    428 |    1.0e-02 |           30.83 s |    0.8737\n",
      "*    430 |    1.0e-03 |           30.97 s |    0.8732\n"
     ]
    },
    {
     "ename": "KeyboardInterrupt",
     "evalue": "",
     "output_type": "error",
     "traceback": [
      "\u001b[0;31m---------------------------------------------------------------------------\u001b[0m",
      "\u001b[0;31mKeyboardInterrupt\u001b[0m                         Traceback (most recent call last)",
      "\u001b[0;32m<ipython-input-29-98437d186996>\u001b[0m in \u001b[0;36m<module>\u001b[0;34m\u001b[0m\n\u001b[1;32m      4\u001b[0m                                                                        \u001b[0mtrue_obj_tol\u001b[0m \u001b[0;34m=\u001b[0m \u001b[0;36m1e-7\u001b[0m\u001b[0;34m,\u001b[0m\u001b[0;34m\u001b[0m\u001b[0;34m\u001b[0m\u001b[0m\n\u001b[1;32m      5\u001b[0m                                                                       \u001b[0mtrue_solution\u001b[0m \u001b[0;34m=\u001b[0m \u001b[0msol\u001b[0m\u001b[0;34m,\u001b[0m\u001b[0;34m\u001b[0m\u001b[0;34m\u001b[0m\u001b[0m\n\u001b[0;32m----> 6\u001b[0;31m                                                                           save_iter = True)\n\u001b[0m",
      "\u001b[0;32m<ipython-input-28-8b2c8bc5e94a>\u001b[0m in \u001b[0;36mgeneralised_forward_backward_full_split\u001b[0;34m(c, m, n, iters, collect_obj, true_obj, true_obj_tol, true_solution, save_iter)\u001b[0m\n\u001b[1;32m     83\u001b[0m         \u001b[0mPₘ\u001b[0m \u001b[0;34m=\u001b[0m \u001b[0mγ_1\u001b[0m \u001b[0;34m+\u001b[0m \u001b[0;34m(\u001b[0m\u001b[0;34m(\u001b[0m\u001b[0mm\u001b[0m \u001b[0;34m-\u001b[0m \u001b[0mγ_1\u001b[0m\u001b[0;34m.\u001b[0m\u001b[0msum\u001b[0m\u001b[0;34m(\u001b[0m\u001b[0;36m1\u001b[0m\u001b[0;34m)\u001b[0m\u001b[0;34m)\u001b[0m\u001b[0;34m/\u001b[0m\u001b[0mN\u001b[0m\u001b[0;34m)\u001b[0m\u001b[0;34m.\u001b[0m\u001b[0mreshape\u001b[0m\u001b[0;34m(\u001b[0m\u001b[0mM\u001b[0m\u001b[0;34m,\u001b[0m\u001b[0;36m1\u001b[0m\u001b[0;34m)\u001b[0m\u001b[0;34m\u001b[0m\u001b[0;34m\u001b[0m\u001b[0m\n\u001b[1;32m     84\u001b[0m \u001b[0;34m\u001b[0m\u001b[0m\n\u001b[0;32m---> 85\u001b[0;31m         \u001b[0mv_1\u001b[0m \u001b[0;34m+=\u001b[0m \u001b[0mPₘ\u001b[0m \u001b[0;34m-\u001b[0m \u001b[0mx\u001b[0m\u001b[0;34m\u001b[0m\u001b[0;34m\u001b[0m\u001b[0m\n\u001b[0m\u001b[1;32m     86\u001b[0m \u001b[0;34m\u001b[0m\u001b[0m\n\u001b[1;32m     87\u001b[0m         \u001b[0mv_2\u001b[0m \u001b[0;34m+=\u001b[0m  \u001b[0mPₙ\u001b[0m \u001b[0;34m-\u001b[0m \u001b[0mx\u001b[0m\u001b[0;34m\u001b[0m\u001b[0;34m\u001b[0m\u001b[0m\n",
      "\u001b[0;31mKeyboardInterrupt\u001b[0m: "
     ]
    }
   ],
   "source": [
    "x, obj, every_critical, every_iter = generalised_forward_backward_full_split(c,m,n, 1000000, \n",
    "                                                                        collect_obj = True, \n",
    "                                                                           true_obj = obj_exact,\n",
    "                                                                       true_obj_tol = 1e-7,\n",
    "                                                                      true_solution = sol, \n",
    "                                                                          save_iter = True)"
   ]
  },
  {
   "cell_type": "markdown",
   "metadata": {},
   "source": [
    "## Visualise and store results"
   ]
  },
  {
   "cell_type": "code",
   "execution_count": 32,
   "metadata": {},
   "outputs": [],
   "source": [
    "main_folder = folder + '_Results'\n",
    "out_folder  = main_folder + '/' + instance\n",
    "algorithm   = 'GFB-'"
   ]
  },
  {
   "cell_type": "code",
   "execution_count": 33,
   "metadata": {},
   "outputs": [],
   "source": [
    "# Check if main folder for results exists, else create it\n",
    "if not os.path.exists(main_folder):    os.makedirs(main_folder)\n",
    "# Now create a folder for the results of the instance\n",
    "if not os.path.exists(out_folder):    os.makedirs(out_folder)\n",
    "out_folder += '/' + algorithm"
   ]
  },
  {
   "cell_type": "code",
   "execution_count": 34,
   "metadata": {
    "code_folding": [
     0
    ]
   },
   "outputs": [
    {
     "data": {
      "image/png": "[encoded data removed]",
      "text/plain": [
       "<Figure size 720x360 with 2 Axes>"
      ]
     },
     "metadata": {
      "needs_background": "light"
     },
     "output_type": "display_data"
    }
   ],
   "source": [
    "# Visualise solution\n",
    "plt.figure(figsize = (10,5))\n",
    "\n",
    "plt.subplot(1, 2, 1)\n",
    "plt.spy(x, markersize=1, aspect = 1, markeredgecolor = 'black', alpha=0.75);    plt.axis('off')\n",
    "plt.title('Sparse view')\n",
    "plt.subplot(1, 2, 2)\n",
    "plt.imshow(x);    plt.axis('off');    plt.title('Heat map\\n')\n",
    "\n",
    "plt.savefig(out_folder+'Sparse-Heat.pdf', bbox_inches='tight',transparent=True)\n",
    "plt.show()"
   ]
  },
  {
   "cell_type": "code",
   "execution_count": 35,
   "metadata": {
    "code_folding": [
     0
    ]
   },
   "outputs": [
    {
     "data": {
      "image/png": "[encoded data removed]",
      "text/plain": [
       "<Figure size 1440x360 with 2 Axes>"
      ]
     },
     "metadata": {
      "needs_background": "light"
     },
     "output_type": "display_data"
    }
   ],
   "source": [
    "# Visualise evolution of objective values\n",
    "plt.figure(figsize = (20,5))\n",
    "\n",
    "plt.subplot(1, 2, 1)\n",
    "plt.plot(obj)\n",
    "plt.axhline(y=obj_exact, color='r', linestyle=':')\n",
    "plt.xlabel('Iteration count');    plt.ylabel('Objective cost');    plt.title('Objective values per iteration')\n",
    "plt.subplot(1, 2, 2)\n",
    "plt.plot(obj)\n",
    "plt.axhline(y=obj_exact, color='r', linestyle=':')\n",
    "plt.yscale('log')\n",
    "plt.title('Objective values per iteration')\n",
    "plt.xlabel('Iteration count');    plt.ylabel('Objective cost (log scale)')\n",
    "\n",
    "plt.savefig(out_folder+'Objective.pdf', bbox_inches='tight',transparent=True)\n",
    "plt.show()"
   ]
  },
  {
   "cell_type": "code",
   "execution_count": 36,
   "metadata": {
    "code_folding": [
     0
    ]
   },
   "outputs": [
    {
     "data": {
      "image/png": "[encoded data removed]",
      "text/plain": [
       "<Figure size 1440x360 with 2 Axes>"
      ]
     },
     "metadata": {
      "needs_background": "light"
     },
     "output_type": "display_data"
    }
   ],
   "source": [
    "# Visualise evolution of relative errors\n",
    "plt.figure(figsize = (20,5))\n",
    "\n",
    "plt.subplot(1, 2, 1)\n",
    "plt.plot(every_iter['dist_obj'])\n",
    "plt.yscale('log')\n",
    "plt.title('Error in objective per iteration')\n",
    "plt.xlabel('Iteration count');    plt.ylabel('Relative error in objective (log scale)')\n",
    "plt.subplot(1, 2, 2)\n",
    "plt.plot(every_iter['dist_x'])\n",
    "plt.yscale('log')\n",
    "plt.title('Error in solution per iteration')\n",
    "plt.xlabel('Iteration count');    plt.ylabel('Relative error in solution (log scale)')\n",
    "\n",
    "plt.savefig(out_folder+'Rel_Error.pdf', bbox_inches='tight',transparent=True)\n",
    "plt.show()"
   ]
  },
  {
   "cell_type": "markdown",
   "metadata": {},
   "source": [
    "All the data from the above two plots is also available as dataframes:"
   ]
  },
  {
   "cell_type": "code",
   "execution_count": 37,
   "metadata": {},
   "outputs": [
    {
     "data": {
      "text/html": [
       "<div>\n",
       "<style scoped>\n",
       "    .dataframe tbody tr th:only-of-type {\n",
       "        vertical-align: middle;\n",
       "    }\n",
       "\n",
       "    .dataframe tbody tr th {\n",
       "        vertical-align: top;\n",
       "    }\n",
       "\n",
       "    .dataframe thead th {\n",
       "        text-align: right;\n",
       "    }\n",
       "</style>\n",
       "<table border=\"1\" class=\"dataframe\">\n",
       "  <thead>\n",
       "    <tr style=\"text-align: right;\">\n",
       "      <th></th>\n",
       "      <th>it</th>\n",
       "      <th>obj</th>\n",
       "      <th>tol</th>\n",
       "      <th>dist_obj</th>\n",
       "      <th>time</th>\n",
       "      <th>dist_x</th>\n",
       "    </tr>\n",
       "  </thead>\n",
       "  <tbody>\n",
       "    <tr>\n",
       "      <th>0</th>\n",
       "      <td>606</td>\n",
       "      <td>0.032542</td>\n",
       "      <td>1.000000e+00</td>\n",
       "      <td>9.999017e-01</td>\n",
       "      <td>0.089521</td>\n",
       "      <td>0.774254</td>\n",
       "    </tr>\n",
       "    <tr>\n",
       "      <th>1</th>\n",
       "      <td>5673</td>\n",
       "      <td>0.017899</td>\n",
       "      <td>1.000000e-01</td>\n",
       "      <td>9.998305e-02</td>\n",
       "      <td>0.725965</td>\n",
       "      <td>0.442874</td>\n",
       "    </tr>\n",
       "    <tr>\n",
       "      <th>2</th>\n",
       "      <td>13767</td>\n",
       "      <td>0.016434</td>\n",
       "      <td>1.000000e-02</td>\n",
       "      <td>9.997121e-03</td>\n",
       "      <td>1.870492</td>\n",
       "      <td>0.336804</td>\n",
       "    </tr>\n",
       "    <tr>\n",
       "      <th>3</th>\n",
       "      <td>20622</td>\n",
       "      <td>0.016288</td>\n",
       "      <td>1.000000e-03</td>\n",
       "      <td>9.979150e-04</td>\n",
       "      <td>2.718120</td>\n",
       "      <td>0.316317</td>\n",
       "    </tr>\n",
       "    <tr>\n",
       "      <th>4</th>\n",
       "      <td>21451</td>\n",
       "      <td>0.016273</td>\n",
       "      <td>1.000000e-04</td>\n",
       "      <td>9.926314e-05</td>\n",
       "      <td>2.819082</td>\n",
       "      <td>0.314782</td>\n",
       "    </tr>\n",
       "    <tr>\n",
       "      <th>5</th>\n",
       "      <td>21504</td>\n",
       "      <td>0.016272</td>\n",
       "      <td>1.000000e-05</td>\n",
       "      <td>8.464164e-06</td>\n",
       "      <td>2.825866</td>\n",
       "      <td>0.314692</td>\n",
       "    </tr>\n",
       "    <tr>\n",
       "      <th>6</th>\n",
       "      <td>22051</td>\n",
       "      <td>0.016272</td>\n",
       "      <td>1.000000e-06</td>\n",
       "      <td>3.050128e-07</td>\n",
       "      <td>2.892524</td>\n",
       "      <td>0.314328</td>\n",
       "    </tr>\n",
       "    <tr>\n",
       "      <th>7</th>\n",
       "      <td>24802</td>\n",
       "      <td>0.016272</td>\n",
       "      <td>1.000000e-07</td>\n",
       "      <td>1.992308e-08</td>\n",
       "      <td>3.237361</td>\n",
       "      <td>0.314321</td>\n",
       "    </tr>\n",
       "  </tbody>\n",
       "</table>\n",
       "</div>"
      ],
      "text/plain": [
       "      it       obj           tol      dist_obj      time    dist_x\n",
       "0    606  0.032542  1.000000e+00  9.999017e-01  0.089521  0.774254\n",
       "1   5673  0.017899  1.000000e-01  9.998305e-02  0.725965  0.442874\n",
       "2  13767  0.016434  1.000000e-02  9.997121e-03  1.870492  0.336804\n",
       "3  20622  0.016288  1.000000e-03  9.979150e-04  2.718120  0.316317\n",
       "4  21451  0.016273  1.000000e-04  9.926314e-05  2.819082  0.314782\n",
       "5  21504  0.016272  1.000000e-05  8.464164e-06  2.825866  0.314692\n",
       "6  22051  0.016272  1.000000e-06  3.050128e-07  2.892524  0.314328\n",
       "7  24802  0.016272  1.000000e-07  1.992308e-08  3.237361  0.314321"
      ]
     },
     "metadata": {},
     "output_type": "display_data"
    },
    {
     "name": "stdout",
     "output_type": "stream",
     "text": [
      "\\begin{tabular}{rrrrrr}\n",
      "\\toprule\n",
      "    it &       obj &           tol &      dist\\_obj &      time &    dist\\_x \\\\\n",
      "\\midrule\n",
      "   606 &  0.032542 &  1.000000e+00 &  9.999017e-01 &  0.089521 &  0.774254 \\\\\n",
      "  5673 &  0.017899 &  1.000000e-01 &  9.998305e-02 &  0.725965 &  0.442874 \\\\\n",
      " 13767 &  0.016434 &  1.000000e-02 &  9.997121e-03 &  1.870492 &  0.336804 \\\\\n",
      " 20622 &  0.016288 &  1.000000e-03 &  9.979150e-04 &  2.718120 &  0.316317 \\\\\n",
      " 21451 &  0.016273 &  1.000000e-04 &  9.926314e-05 &  2.819082 &  0.314782 \\\\\n",
      " 21504 &  0.016272 &  1.000000e-05 &  8.464164e-06 &  2.825866 &  0.314692 \\\\\n",
      " 22051 &  0.016272 &  1.000000e-06 &  3.050128e-07 &  2.892524 &  0.314328 \\\\\n",
      " 24802 &  0.016272 &  1.000000e-07 &  1.992308e-08 &  3.237361 &  0.314321 \\\\\n",
      "\\bottomrule\n",
      "\\end{tabular}\n",
      "\n"
     ]
    }
   ],
   "source": [
    "df_critical = pd.DataFrame.from_dict(every_critical)\n",
    "df_critical.to_pickle(out_folder+'Critical.pkl') # To read back use pd.read_pickle(file_name)\n",
    "df_critical.to_excel(out_folder+'Critical.xlsx')\n",
    "display(df_critical)\n",
    "\n",
    "# If we want this table in LaTeX format run:\n",
    "print(df_critical.to_latex(index=False))"
   ]
  },
  {
   "cell_type": "code",
   "execution_count": 38,
   "metadata": {},
   "outputs": [
    {
     "data": {
      "text/html": [
       "<div>\n",
       "<style scoped>\n",
       "    .dataframe tbody tr th:only-of-type {\n",
       "        vertical-align: middle;\n",
       "    }\n",
       "\n",
       "    .dataframe tbody tr th {\n",
       "        vertical-align: top;\n",
       "    }\n",
       "\n",
       "    .dataframe thead th {\n",
       "        text-align: right;\n",
       "    }\n",
       "</style>\n",
       "<table border=\"1\" class=\"dataframe\">\n",
       "  <thead>\n",
       "    <tr style=\"text-align: right;\">\n",
       "      <th></th>\n",
       "      <th>it</th>\n",
       "      <th>obj</th>\n",
       "      <th>dist_obj</th>\n",
       "      <th>time</th>\n",
       "      <th>dist_x</th>\n",
       "    </tr>\n",
       "  </thead>\n",
       "  <tbody>\n",
       "    <tr>\n",
       "      <th>0</th>\n",
       "      <td>0</td>\n",
       "      <td>0.636721</td>\n",
       "      <td>38.130306</td>\n",
       "      <td>0.000548</td>\n",
       "      <td>1.373642</td>\n",
       "    </tr>\n",
       "    <tr>\n",
       "      <th>1</th>\n",
       "      <td>1</td>\n",
       "      <td>0.519557</td>\n",
       "      <td>30.929879</td>\n",
       "      <td>0.000872</td>\n",
       "      <td>1.244061</td>\n",
       "    </tr>\n",
       "    <tr>\n",
       "      <th>2</th>\n",
       "      <td>2</td>\n",
       "      <td>0.362150</td>\n",
       "      <td>21.256291</td>\n",
       "      <td>0.001104</td>\n",
       "      <td>1.135748</td>\n",
       "    </tr>\n",
       "    <tr>\n",
       "      <th>3</th>\n",
       "      <td>3</td>\n",
       "      <td>0.301363</td>\n",
       "      <td>17.520526</td>\n",
       "      <td>0.001335</td>\n",
       "      <td>1.077823</td>\n",
       "    </tr>\n",
       "    <tr>\n",
       "      <th>4</th>\n",
       "      <td>4</td>\n",
       "      <td>0.288713</td>\n",
       "      <td>16.743142</td>\n",
       "      <td>0.001546</td>\n",
       "      <td>1.033167</td>\n",
       "    </tr>\n",
       "  </tbody>\n",
       "</table>\n",
       "</div>"
      ],
      "text/plain": [
       "   it       obj   dist_obj      time    dist_x\n",
       "0   0  0.636721  38.130306  0.000548  1.373642\n",
       "1   1  0.519557  30.929879  0.000872  1.244061\n",
       "2   2  0.362150  21.256291  0.001104  1.135748\n",
       "3   3  0.301363  17.520526  0.001335  1.077823\n",
       "4   4  0.288713  16.743142  0.001546  1.033167"
      ]
     },
     "metadata": {},
     "output_type": "display_data"
    }
   ],
   "source": [
    "df_every = pd.DataFrame.from_dict(every_iter)\n",
    "df_every.to_pickle(out_folder+'Every.pkl') # To read back use pd.read_pickle(file_name)\n",
    "df_every.to_excel(out_folder+'Every.xlsx')\n",
    "display(df_every.head())"
   ]
  },
  {
   "cell_type": "code",
   "execution_count": 39,
   "metadata": {},
   "outputs": [
    {
     "data": {
      "text/html": [
       "<div>\n",
       "<style scoped>\n",
       "    .dataframe tbody tr th:only-of-type {\n",
       "        vertical-align: middle;\n",
       "    }\n",
       "\n",
       "    .dataframe tbody tr th {\n",
       "        vertical-align: top;\n",
       "    }\n",
       "\n",
       "    .dataframe thead th {\n",
       "        text-align: right;\n",
       "    }\n",
       "</style>\n",
       "<table border=\"1\" class=\"dataframe\">\n",
       "  <thead>\n",
       "    <tr style=\"text-align: right;\">\n",
       "      <th></th>\n",
       "      <th>it</th>\n",
       "      <th>obj</th>\n",
       "      <th>dist_obj</th>\n",
       "      <th>time</th>\n",
       "      <th>dist_x</th>\n",
       "    </tr>\n",
       "  </thead>\n",
       "  <tbody>\n",
       "    <tr>\n",
       "      <th>count</th>\n",
       "      <td>24803.000000</td>\n",
       "      <td>24803.000000</td>\n",
       "      <td>2.480300e+04</td>\n",
       "      <td>24803.000000</td>\n",
       "      <td>24803.000000</td>\n",
       "    </tr>\n",
       "    <tr>\n",
       "      <th>mean</th>\n",
       "      <td>12401.000000</td>\n",
       "      <td>0.018528</td>\n",
       "      <td>1.387008e-01</td>\n",
       "      <td>1.644948</td>\n",
       "      <td>0.401126</td>\n",
       "    </tr>\n",
       "    <tr>\n",
       "      <th>std</th>\n",
       "      <td>7160.153699</td>\n",
       "      <td>0.009941</td>\n",
       "      <td>6.109480e-01</td>\n",
       "      <td>0.945283</td>\n",
       "      <td>0.124256</td>\n",
       "    </tr>\n",
       "    <tr>\n",
       "      <th>min</th>\n",
       "      <td>0.000000</td>\n",
       "      <td>0.016264</td>\n",
       "      <td>1.992308e-08</td>\n",
       "      <td>0.000548</td>\n",
       "      <td>0.314321</td>\n",
       "    </tr>\n",
       "    <tr>\n",
       "      <th>25%</th>\n",
       "      <td>6200.500000</td>\n",
       "      <td>0.016321</td>\n",
       "      <td>2.992043e-03</td>\n",
       "      <td>0.792046</td>\n",
       "      <td>0.320763</td>\n",
       "    </tr>\n",
       "    <tr>\n",
       "      <th>50%</th>\n",
       "      <td>12401.000000</td>\n",
       "      <td>0.016500</td>\n",
       "      <td>1.401342e-02</td>\n",
       "      <td>1.692312</td>\n",
       "      <td>0.344305</td>\n",
       "    </tr>\n",
       "    <tr>\n",
       "      <th>75%</th>\n",
       "      <td>18601.500000</td>\n",
       "      <td>0.017632</td>\n",
       "      <td>8.361182e-02</td>\n",
       "      <td>2.468453</td>\n",
       "      <td>0.428408</td>\n",
       "    </tr>\n",
       "    <tr>\n",
       "      <th>max</th>\n",
       "      <td>24802.000000</td>\n",
       "      <td>0.636721</td>\n",
       "      <td>3.813031e+01</td>\n",
       "      <td>3.237361</td>\n",
       "      <td>1.373642</td>\n",
       "    </tr>\n",
       "  </tbody>\n",
       "</table>\n",
       "</div>"
      ],
      "text/plain": [
       "                 it           obj      dist_obj          time        dist_x\n",
       "count  24803.000000  24803.000000  2.480300e+04  24803.000000  24803.000000\n",
       "mean   12401.000000      0.018528  1.387008e-01      1.644948      0.401126\n",
       "std     7160.153699      0.009941  6.109480e-01      0.945283      0.124256\n",
       "min        0.000000      0.016264  1.992308e-08      0.000548      0.314321\n",
       "25%     6200.500000      0.016321  2.992043e-03      0.792046      0.320763\n",
       "50%    12401.000000      0.016500  1.401342e-02      1.692312      0.344305\n",
       "75%    18601.500000      0.017632  8.361182e-02      2.468453      0.428408\n",
       "max    24802.000000      0.636721  3.813031e+01      3.237361      1.373642"
      ]
     },
     "execution_count": 39,
     "metadata": {},
     "output_type": "execute_result"
    }
   ],
   "source": [
    "df_every.describe()"
   ]
  },
  {
   "cell_type": "code",
   "execution_count": 40,
   "metadata": {},
   "outputs": [],
   "source": [
    "# Finally, store the latest solution:\n",
    "np.save(out_folder + '_Sol.npy' , x)            # To read back just run:   np.load(outfile)"
   ]
  },
  {
   "cell_type": "markdown",
   "metadata": {},
   "source": [
    "---\n",
    "Code used to do performance tests in each piece of code:\n",
    "```Python\n",
    "start = time.time()\n",
    "# ...\n",
    "end = time.time()\n",
    "print(end-start)\n",
    "\n",
    "%timeit -r 10 -n 200 `function(x)`\n",
    "```"
   ]
  },
  {
   "cell_type": "code",
   "execution_count": null,
   "metadata": {},
   "outputs": [],
   "source": []
  }
 ],
 "metadata": {
  "kernelspec": {
   "display_name": "Python 3",
   "language": "python",
   "name": "python3"
  },
  "language_info": {
   "codemirror_mode": {
    "name": "ipython",
    "version": 3
   },
   "file_extension": ".py",
   "mimetype": "text/x-python",
   "name": "python",
   "nbconvert_exporter": "python",
   "pygments_lexer": "ipython3",
   "version": "3.7.6"
  }
 },
 "nbformat": 4,
 "nbformat_minor": 2
}
