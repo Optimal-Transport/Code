{
 "cells": [
  {
   "cell_type": "markdown",
   "metadata": {},
   "source": [
    "# A Linear Programming Model for Optimal Transport "
   ]
  },
  {
   "cell_type": "markdown",
   "metadata": {},
   "source": [
    "<div class=\"alert alert-block alert-success\">\n",
    "$\\newcommand{\\R}{\\mathbb{R}} \\newcommand{\\Z}{\\mathbb{Z}} \\newcommand{\\N}{\\mathbb{N}} \n",
    "\\newcommand{\\bff}{\\mathbf{f}} \\newcommand{\\bx}{\\mathbf{x}} \n",
    "\\newcommand{\\by}{\\mathbf{y}} \\newcommand{\\bo}{\\mathbb{1}} \\newcommand{\\bJ}{\\mathbf{J}}$\n",
    "In this notebook, we will aim to solve the following optimal transport problem in its linear form:\n",
    "\\begin{align}\n",
    "\\min c^\\top x,\n",
    "\\end{align}\n",
    "subject to\n",
    "\\begin{align}\n",
    "    \\begin{pmatrix} \\mathbb{1}_N^\\top \\otimes I_M \\\\ I_N \\otimes \\mathbb{1}_M^\\top \\end{pmatrix} x &= \n",
    "    \\begin{pmatrix} m \\\\ n \\end{pmatrix},\n",
    "    \\\\\n",
    "    x &\\geq 0;\n",
    "\\end{align}\n",
    "where $x\\in \\R^{M\\times N}$, $m \\in \\R^M$, $n \\in \\R^N$, and $c \\in \\R^{M\\times N}$ is a positive cost vector.\n",
    "</div>"
   ]
  },
  {
   "cell_type": "markdown",
   "metadata": {},
   "source": [
    "<div class=\"alert alert-block alert-info\">\n",
    "The following packages are loaded into the environment. \n",
    "</div>"
   ]
  },
  {
   "cell_type": "code",
   "execution_count": 1,
   "metadata": {},
   "outputs": [],
   "source": [
    "from gurobipy import *\n",
    "import time\n",
    "import numpy as np\n",
    "from numpy         import asarray, indices, double, allclose\n",
    "from pandas        import read_csv\n",
    "from skimage.io    import imread, imshow\n",
    "from scipy.spatial import distance_matrix\n",
    "from scipy.spatial.distance import cdist\n",
    "\n",
    "%matplotlib inline\n",
    "import matplotlib.pyplot as plt\n",
    "import matplotlib.ticker as mticker"
   ]
  },
  {
   "cell_type": "markdown",
   "metadata": {},
   "source": [
    "<div class=\"alert alert-block alert-success\">\n",
    "We can actually solve the original problem with an LP solver that allows indexing:\n",
    "\\begin{align}\n",
    "    \\min c : \\gamma,\n",
    "\\end{align}\n",
    "subject to\n",
    "\\begin{align}\n",
    "    \\sum_{j} \\gamma_{i,j} &= m_i\n",
    "    \\\\\n",
    "    \\sum_{i} \\gamma_{i,j} &= n_j\n",
    "    \\\\\n",
    "    \\gamma_{i,j} &\\geq 0.\n",
    "\\end{align}\n",
    "</div>"
   ]
  },
  {
   "cell_type": "markdown",
   "metadata": {},
   "source": [
    "<div class=\"alert alert-block alert-info\">\n",
    "Here we define the following basic objects:\n",
    "    \n",
    "1. `M` and `N` are the number of points where the measures of `μ` and `ν` are concentrated,\n",
    "2. `c` is the vector of costs.\n",
    "</div>"
   ]
  },
  {
   "cell_type": "code",
   "execution_count": 169,
   "metadata": {},
   "outputs": [],
   "source": [
    "# File names\n",
    "Dir  = '../../DOTmark/Data/Shapes/'\n",
    "Main = 'Shapes_Sized/'\n",
    "nomᵤ = 'data64_1009.csv'\n",
    "nomᵥ = 'data128_1009.csv'"
   ]
  },
  {
   "cell_type": "code",
   "execution_count": 170,
   "metadata": {},
   "outputs": [],
   "source": [
    "μ = read_csv(Dir + nomᵤ).values.astype(double);    μ /= μ.max()\n",
    "ν = read_csv(Dir + nomᵥ).values.astype(double);    ν /= ν.max()"
   ]
  },
  {
   "cell_type": "code",
   "execution_count": 171,
   "metadata": {},
   "outputs": [],
   "source": [
    "M = μ.size\n",
    "N = ν.size"
   ]
  },
  {
   "cell_type": "code",
   "execution_count": 172,
   "metadata": {},
   "outputs": [],
   "source": [
    "# Coordinates:\n",
    "Iₘ = (indices(μ.shape)/(asarray(μ.shape)-1)[::,np.newaxis,np.newaxis]).reshape(2,M).T\n",
    "Iₙ = (indices(ν.shape)/(asarray(ν.shape)-1)[::,np.newaxis,np.newaxis]).reshape(2,N).T\n",
    "#Sparse alternatives:    indices(μ.shape, sparse=True)      &      indices(ν.shape, sparse=True)"
   ]
  },
  {
   "cell_type": "code",
   "execution_count": 173,
   "metadata": {},
   "outputs": [],
   "source": [
    "# Cost matrix:\n",
    "c = cdist(Iₘ, Iₙ, 'sqeuclidean')        # Alternative: distance_matrix(Iₘ, Iₙ) ** 2"
   ]
  },
  {
   "cell_type": "code",
   "execution_count": 174,
   "metadata": {},
   "outputs": [],
   "source": [
    "P = {'A': (None,'S2'), 'B': (1,'1'), 'C': (1.5,'1.5'), 'D': (2,'2'), 'E': (4,'4'), 'F': (np.inf,'∞')}\n",
    "test = 'A'"
   ]
  },
  {
   "cell_type": "code",
   "execution_count": 175,
   "metadata": {},
   "outputs": [],
   "source": [
    "p = '_p=' + P[test][1]"
   ]
  },
  {
   "cell_type": "code",
   "execution_count": 9,
   "metadata": {},
   "outputs": [],
   "source": [
    "if test != 'A':        c = cdist(Iₘ, Iₙ, 'minkowski', p = P[test][0])"
   ]
  },
  {
   "cell_type": "code",
   "execution_count": 9,
   "metadata": {},
   "outputs": [],
   "source": [
    "#μ = np.where(μ==0, 1e-4, μ)\n",
    "#ν = np.where(ν==0, 1e-4, ν)"
   ]
  },
  {
   "cell_type": "code",
   "execution_count": 176,
   "metadata": {},
   "outputs": [],
   "source": [
    "m = μ.ravel() / μ.sum()\n",
    "n = ν.ravel() / ν.sum()"
   ]
  },
  {
   "cell_type": "markdown",
   "metadata": {},
   "source": [
    "<div class=\"alert alert-block alert-warning\">\n",
    "Optimisation model\n",
    "</div>"
   ]
  },
  {
   "cell_type": "code",
   "execution_count": 118,
   "metadata": {},
   "outputs": [
    {
     "name": "stdout",
     "output_type": "stream",
     "text": [
      "Freeing default Gurobi environment\n"
     ]
    }
   ],
   "source": [
    "disposeDefaultEnv()"
   ]
  },
  {
   "cell_type": "code",
   "execution_count": 119,
   "metadata": {
    "code_folding": []
   },
   "outputs": [
    {
     "name": "stdout",
     "output_type": "stream",
     "text": [
      "Academic license - for non-commercial use only - expires 2021-10-01\n",
      "Using license file /Users/andy/gurobi.lic\n",
      "0.7033028602600098\n"
     ]
    }
   ],
   "source": [
    "# Model\n",
    "start = time.time()\n",
    "mo = Model()\n",
    "γ  = {}\n",
    "γ = mo.addMVar( (M,N), vtype = 'C', name ='g', obj = c, lb = 0.0)\n",
    "\n",
    "mo.addConstrs( (γ[i,:].sum() == m[i] for i in range(M)), name='m' );\n",
    "mo.addConstrs( (γ[:,j].sum() == n[j] for j in range(N)), name='n');\n",
    "end = time.time()\n",
    "print(end-start)"
   ]
  },
  {
   "cell_type": "code",
   "execution_count": 97,
   "metadata": {},
   "outputs": [],
   "source": [
    "γ.setAttr('obj', c)"
   ]
  },
  {
   "cell_type": "code",
   "execution_count": 120,
   "metadata": {},
   "outputs": [
    {
     "name": "stdout",
     "output_type": "stream",
     "text": [
      "Changed value of parameter IntFeasTol to 1e-09\n",
      "   Prev: 1e-05  Min: 1e-09  Max: 0.1  Default: 1e-05\n",
      "Changed value of parameter FeasibilityTol to 1e-09\n",
      "   Prev: 1e-06  Min: 1e-09  Max: 0.01  Default: 1e-06\n",
      "Changed value of parameter OptimalityTol to 1e-09\n",
      "   Prev: 1e-06  Min: 1e-09  Max: 0.01  Default: 1e-06\n"
     ]
    }
   ],
   "source": [
    "mo.Params.IntFeasTol, mo.Params.FeasibilityTol, mo.Params.OptimalityTol = 1e-9, 1e-9, 1e-9"
   ]
  },
  {
   "cell_type": "code",
   "execution_count": 121,
   "metadata": {
    "code_folding": [],
    "scrolled": true
   },
   "outputs": [
    {
     "name": "stdout",
     "output_type": "stream",
     "text": [
      "Discarded solution information\n",
      "Changed value of parameter Method to 0\n",
      "   Prev: -1  Min: -1  Max: 5  Default: -1\n",
      "Changed value of parameter Presolve to 0\n",
      "   Prev: -1  Min: -1  Max: 2  Default: -1\n",
      "Gurobi Optimizer version 9.1.2 build v9.1.2rc0 (mac64)\n",
      "Thread count: 8 physical cores, 8 logical processors, using up to 8 threads\n",
      "Optimize a model with 605 rows, 58564 columns and 117128 nonzeros\n",
      "Model fingerprint: 0xa93044c7\n",
      "Coefficient statistics:\n",
      "  Matrix range     [1e+00, 1e+00]\n",
      "  Objective range  [2e-05, 2e+00]\n",
      "  Bounds range     [0e+00, 0e+00]\n",
      "  RHS range        [2e-82, 2e-02]\n",
      "Iteration    Objective       Primal Inf.    Dual Inf.      Time\n",
      "       0    1.3825737e+00   9.877840e-01   5.796047e+10      0s\n",
      "    9082    1.9602848e-03   0.000000e+00   0.000000e+00      0s\n",
      "\n",
      "Solved in 9082 iterations and 0.06 seconds\n",
      "Optimal objective  1.960284829e-03\n"
     ]
    }
   ],
   "source": [
    "mo.reset();    mo.setParam('Method', 0);    mo.Params.Presolve = 0;    mo.optimize()\n",
    "#?mo.Params.Method"
   ]
  },
  {
   "cell_type": "code",
   "execution_count": 122,
   "metadata": {
    "scrolled": true
   },
   "outputs": [
    {
     "name": "stdout",
     "output_type": "stream",
     "text": [
      "Discarded solution information\n",
      "Changed value of parameter Method to 2\n",
      "   Prev: 0  Min: -1  Max: 5  Default: -1\n",
      "Gurobi Optimizer version 9.1.2 build v9.1.2rc0 (mac64)\n",
      "Thread count: 8 physical cores, 8 logical processors, using up to 8 threads\n",
      "Optimize a model with 605 rows, 58564 columns and 117128 nonzeros\n",
      "Model fingerprint: 0xa93044c7\n",
      "Coefficient statistics:\n",
      "  Matrix range     [1e+00, 1e+00]\n",
      "  Objective range  [2e-05, 2e+00]\n",
      "  Bounds range     [0e+00, 0e+00]\n",
      "  RHS range        [2e-82, 2e-02]\n",
      "Ordering time: 0.00s\n",
      "\n",
      "Barrier statistics:\n",
      " AA' NZ     : 5.856e+04\n",
      " Factor NZ  : 7.807e+04 (roughly 24 MBytes of memory)\n",
      " Factor Ops : 1.132e+07 (less than 1 second per iteration)\n",
      " Threads    : 8\n",
      "\n",
      "                  Objective                Residual\n",
      "Iter       Primal          Dual         Primal    Dual     Compl     Time\n",
      "   0   2.24068794e+03  0.00000000e+00  4.84e+01 0.00e+00  7.06e-01     0s\n",
      "   1   1.74764279e+02 -5.49454854e-01  4.23e+00 1.07e-14  6.24e-02     0s\n",
      "   2   7.70997471e-01 -5.41513711e-01  1.21e-02 1.07e-14  2.89e-04     0s\n",
      "   3   2.38176543e-01 -1.16646320e-01  1.37e-03 1.60e-14  5.75e-05     0s\n",
      "   4   9.09299056e-02 -1.72606017e-02  1.39e-04 8.88e-15  1.55e-05     0s\n",
      "   5   3.16542231e-02 -4.53907182e-03  1.35e-05 7.11e-15  5.01e-06     0s\n",
      "   6   9.81206495e-03 -1.68056697e-03  8.98e-07 7.11e-15  1.58e-06     0s\n",
      "   7   4.89484016e-03  2.97468777e-04  1.72e-07 1.73e-14  6.31e-07     0s\n",
      "   8   3.06350147e-03  1.28502948e-03  4.47e-08 4.04e-14  2.45e-07     0s\n",
      "   9   2.35025976e-03  1.73749979e-03  1.30e-08 7.53e-14  8.48e-08     0s\n",
      "  10   2.02609516e-03  1.84053868e-03  1.42e-09 9.19e-14  2.55e-08     0s\n",
      "  11   1.98571029e-03  1.93025824e-03  5.05e-10 2.20e-13  7.71e-09     0s\n",
      "  12   1.96250344e-03  1.95376033e-03  1.95e-11 4.02e-13  1.20e-09     0s\n",
      "  13   1.96098574e-03  1.95988666e-03  6.26e-12 1.95e-12  1.57e-10     0s\n",
      "  14   1.96032277e-03  1.96019591e-03  5.02e-13 1.60e-12  1.76e-11     0s\n",
      "  15   1.96029305e-03  1.96025225e-03  4.64e-13 1.57e-12  5.61e-12     0s\n",
      "  16   1.96028722e-03  1.96027371e-03  1.47e-12 4.66e-12  1.85e-12     0s\n",
      "  17   1.96028559e-03  1.96028062e-03  1.61e-12 1.15e-11  6.81e-13     0s\n",
      "\n",
      "Barrier solved model in 17 iterations and 0.41 seconds\n",
      "Optimal objective 1.96028559e-03\n",
      "\n",
      "Crossover log...\n",
      "\n",
      "     225 DPushes remaining with DInf 0.0000000e+00                 0s\n",
      "       0 DPushes remaining with DInf 0.0000000e+00                 0s\n",
      "\n",
      "       1 Dual superbasic variables remain\n",
      "\n",
      "     285 PPushes remaining with PInf 2.4377788e-09                 0s\n",
      "       0 PPushes remaining with PInf 2.4377788e-09                 0s\n",
      "\n",
      "  Push phase complete: Pinf 2.4377788e-09, Dinf 7.6190476e-02      0s\n",
      "\n",
      "Iteration    Objective       Primal Inf.    Dual Inf.      Time\n",
      "     512    1.9602848e-03   0.000000e+00   7.619048e-02      0s\n",
      "     522    1.9602848e-03   0.000000e+00   0.000000e+00      0s\n",
      "\n",
      "Solved in 522 iterations and 0.42 seconds\n",
      "Optimal objective  1.960284830e-03\n"
     ]
    }
   ],
   "source": [
    "# Solve with barrier\n",
    "mo.reset();    mo.setParam('Method', 2);    mo.optimize()"
   ]
  },
  {
   "cell_type": "code",
   "execution_count": 123,
   "metadata": {
    "code_folding": []
   },
   "outputs": [],
   "source": [
    "Exact_performance = {\n",
    "    'Builder': '0.7033028602600098',\n",
    "    'Simplex': '9082 iterations and 0.06 seconds', \n",
    "    'Barrier': '522 iterations and 0.42 seconds',\n",
    "    'Obj': mo.ObjVal\n",
    "}"
   ]
  },
  {
   "cell_type": "markdown",
   "metadata": {},
   "source": [
    "<div class=\"alert alert-block alert-warning\">\n",
    "Output\n",
    "</div>"
   ]
  },
  {
   "cell_type": "code",
   "execution_count": 124,
   "metadata": {},
   "outputs": [
    {
     "data": {
      "image/png": "[encoded data removed]",
      "text/plain": [
       "<Figure size 1080x1080 with 1 Axes>"
      ]
     },
     "metadata": {
      "needs_background": "light"
     },
     "output_type": "display_data"
    }
   ],
   "source": [
    "plt.figure(figsize = (15,15))\n",
    "plt.spy(γ.x, markersize=1, aspect = 5, markeredgecolor = 'orange', alpha=0.5);    plt.axis('off')\n",
    "plt.savefig(Main + nomᵤ[:-4] + '-' + nomᵥ[:-4] + p + '_Plot.pdf', bbox_inches='tight',transparent=True)\n",
    "plt.show()"
   ]
  },
  {
   "cell_type": "code",
   "execution_count": 63,
   "metadata": {
    "cell_style": "split"
   },
   "outputs": [
    {
     "data": {
      "image/png": "[encoded data removed]",
      "text/plain": [
       "<Figure size 432x288 with 1 Axes>"
      ]
     },
     "metadata": {
      "needs_background": "light"
     },
     "output_type": "display_data"
    }
   ],
   "source": [
    "plt.imshow(γ.x[:100,:100]);  plt.axis('off');  \n",
    "plt.show()"
   ]
  },
  {
   "cell_type": "code",
   "execution_count": 14,
   "metadata": {
    "cell_style": "split"
   },
   "outputs": [
    {
     "name": "stdout",
     "output_type": "stream",
     "text": [
      "[[0.         0.         0.        ]\n",
      " [0.         0.         0.        ]\n",
      " [0.         0.00064002 0.00030815]\n",
      " [0.         0.         0.        ]\n",
      " [0.         0.         0.        ]\n",
      " [0.         0.         0.        ]\n",
      " [0.         0.         0.        ]\n",
      " [0.         0.         0.        ]\n",
      " [0.         0.         0.        ]\n",
      " [0.         0.         0.        ]\n",
      " [0.         0.         0.        ]\n",
      " [0.         0.         0.        ]\n",
      " [0.         0.         0.        ]]\n"
     ]
    }
   ],
   "source": [
    "print(γ.x[:13,:3])"
   ]
  },
  {
   "cell_type": "markdown",
   "metadata": {},
   "source": [
    "Now we check that the conditional densities coincide:"
   ]
  },
  {
   "cell_type": "code",
   "execution_count": 15,
   "metadata": {},
   "outputs": [
    {
     "data": {
      "text/plain": [
       "(True, True)"
      ]
     },
     "execution_count": 15,
     "metadata": {},
     "output_type": "execute_result"
    }
   ],
   "source": [
    "allclose(γ.x.sum(0), n), allclose(γ.x.sum(1), m)"
   ]
  },
  {
   "cell_type": "code",
   "execution_count": 16,
   "metadata": {
    "cell_style": "split"
   },
   "outputs": [
    {
     "data": {
      "image/png": "[encoded data removed]",
      "text/plain": [
       "<Figure size 432x288 with 1 Axes>"
      ]
     },
     "metadata": {
      "needs_background": "light"
     },
     "output_type": "display_data"
    }
   ],
   "source": [
    "plt.plot( abs(γ.x.sum(0) - n) );    plt.show()"
   ]
  },
  {
   "cell_type": "code",
   "execution_count": 17,
   "metadata": {
    "cell_style": "split",
    "scrolled": true
   },
   "outputs": [
    {
     "data": {
      "image/png": "[encoded data removed]",
      "text/plain": [
       "<Figure size 432x288 with 1 Axes>"
      ]
     },
     "metadata": {
      "needs_background": "light"
     },
     "output_type": "display_data"
    }
   ],
   "source": [
    "plt.plot( abs(γ.x.sum(1) - m) );    plt.show()"
   ]
  },
  {
   "cell_type": "markdown",
   "metadata": {},
   "source": [
    "We can then export our inputs and outputs for comparison:"
   ]
  },
  {
   "cell_type": "code",
   "execution_count": 125,
   "metadata": {},
   "outputs": [],
   "source": [
    "np.save(Main + nomᵤ[:-4] + '-' + nomᵥ[:-4] + p + '_Cost',   c)    # Cost matrix c\n",
    "np.save(Main + nomᵤ[:-4] + '-' + nomᵥ[:-4] + p + '_m'   ,   m)    # Source measure m\n",
    "np.save(Main + nomᵤ[:-4] + '-' + nomᵥ[:-4] + p + '_n'   ,   n)    # Target measure m\n",
    "np.save(Main + nomᵤ[:-4] + '-' + nomᵥ[:-4] + p + '_Sol' , γ.x)    # Source measure m"
   ]
  },
  {
   "cell_type": "code",
   "execution_count": 126,
   "metadata": {},
   "outputs": [],
   "source": [
    "with open(Main + nomᵤ[:-4] + '-' + nomᵥ[:-4] + p + '_Time'+'.txt', 'w') as f:\n",
    "    print(Exact_performance, file=f)"
   ]
  },
  {
   "cell_type": "markdown",
   "metadata": {},
   "source": [
    "---"
   ]
  },
  {
   "cell_type": "markdown",
   "metadata": {},
   "source": [
    "Compress and scale"
   ]
  },
  {
   "cell_type": "code",
   "execution_count": 23,
   "metadata": {},
   "outputs": [],
   "source": [
    "import os, glob\n",
    "import h5py            # pip install -U h5py"
   ]
  },
  {
   "cell_type": "code",
   "execution_count": 25,
   "metadata": {},
   "outputs": [],
   "source": [
    "name = nomᵤ[:-4] + '-' + nomᵥ[:-4] + p + '_Sol'\n",
    "os.mkdir(Main + name)                                     # Create folder\n",
    "hf = h5py.File(Main + name + '/' + name + '.h5', 'w')\n",
    "hf.create_dataset(name, data = γ.x)\n",
    "hf.close()"
   ]
  },
  {
   "cell_type": "code",
   "execution_count": 27,
   "metadata": {},
   "outputs": [],
   "source": [
    "name = nomᵤ[:-4] + '-' + nomᵥ[:-4] + p + '_Cost'\n",
    "os.mkdir(Main + name)                                     # Create folder\n",
    "hf = h5py.File(Main + name + '/' + name + '.h5', 'w')\n",
    "hf.create_dataset(name, data = c)\n",
    "hf.close()"
   ]
  },
  {
   "cell_type": "code",
   "execution_count": 28,
   "metadata": {
    "scrolled": true
   },
   "outputs": [
    {
     "name": "stdout",
     "output_type": "stream",
     "text": [
      "./hdf5_manipulator-master/split.py --input data48_1009-data96_1009_p=S2_Cost/data48_1009-data96_1009_p=S2_Cost.h5 --size 5000\n"
     ]
    }
   ],
   "source": [
    "print('./hdf5_manipulator-master/split.py --input ' + name +'/'+name+'.h5 --size 5000')"
   ]
  },
  {
   "cell_type": "code",
   "execution_count": 4,
   "metadata": {},
   "outputs": [],
   "source": [
    "from skimage.transform import rescale"
   ]
  },
  {
   "cell_type": "code",
   "execution_count": 155,
   "metadata": {},
   "outputs": [],
   "source": [
    "μ = rescale(μ, 0.75)\n",
    "ν = rescale(ν, 0.75)"
   ]
  },
  {
   "cell_type": "code",
   "execution_count": 166,
   "metadata": {},
   "outputs": [
    {
     "data": {
      "text/plain": [
       "((47, 48), (95, 96))"
      ]
     },
     "execution_count": 166,
     "metadata": {},
     "output_type": "execute_result"
    }
   ],
   "source": [
    "μ.shape, ν.shape"
   ]
  },
  {
   "cell_type": "code",
   "execution_count": 167,
   "metadata": {},
   "outputs": [],
   "source": [
    "nomᵤ = 'data48_1009.csv'\n",
    "nomᵥ = 'data96_1009.csv'"
   ]
  },
  {
   "cell_type": "markdown",
   "metadata": {},
   "source": [
    "---"
   ]
  }
 ],
 "metadata": {
  "kernelspec": {
   "display_name": "Python 3",
   "language": "python",
   "name": "python3"
  },
  "language_info": {
   "codemirror_mode": {
    "name": "ipython",
    "version": 3
   },
   "file_extension": ".py",
   "mimetype": "text/x-python",
   "name": "python",
   "nbconvert_exporter": "python",
   "pygments_lexer": "ipython3",
   "version": "3.7.10"
  }
 },
 "nbformat": 4,
 "nbformat_minor": 4
}
