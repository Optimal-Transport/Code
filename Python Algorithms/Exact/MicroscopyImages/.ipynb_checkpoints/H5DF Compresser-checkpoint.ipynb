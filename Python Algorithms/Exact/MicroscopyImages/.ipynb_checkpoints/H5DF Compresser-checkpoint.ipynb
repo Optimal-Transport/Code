{
 "cells": [
  {
   "cell_type": "markdown",
   "id": "5e7bb8ec",
   "metadata": {},
   "source": [
    "# File Compression"
   ]
  },
  {
   "cell_type": "code",
   "execution_count": 14,
   "id": "15788cff",
   "metadata": {},
   "outputs": [],
   "source": [
    "import numpy as np\n",
    "import os, glob\n",
    "import h5py            # pip install -U h5py"
   ]
  },
  {
   "cell_type": "markdown",
   "id": "332cd60a",
   "metadata": {},
   "source": [
    "Check this out: [```https://www.christopherlovell.co.uk/blog/2016/04/27/h5py-intro.html```](https://www.christopherlovell.co.uk/blog/2016/04/27/h5py-intro.html)\n"
   ]
  },
  {
   "cell_type": "markdown",
   "id": "3cf3358d",
   "metadata": {},
   "source": [
    "Originally all the files were stored using the ```.npy``` format. However, these instances were too big. As a result, the cost and solution matrices were huge. Here a process to split these files as a dictionary to be later read is performed."
   ]
  },
  {
   "cell_type": "code",
   "execution_count": 27,
   "id": "fb36332e",
   "metadata": {},
   "outputs": [],
   "source": [
    "name = 'data256_1002-data32_1003_p=S2_Sol'\n",
    "c = np.load(name + '.npy')"
   ]
  },
  {
   "cell_type": "code",
   "execution_count": 28,
   "id": "74298102",
   "metadata": {},
   "outputs": [],
   "source": [
    "hf = h5py.File(name + '/' + name + '.h5', 'w')"
   ]
  },
  {
   "cell_type": "code",
   "execution_count": 29,
   "id": "d58c299f",
   "metadata": {},
   "outputs": [],
   "source": [
    "hf.create_dataset(name, data = c)\n",
    "hf.close()"
   ]
  },
  {
   "cell_type": "markdown",
   "id": "9094a640",
   "metadata": {},
   "source": [
    "---"
   ]
  },
  {
   "cell_type": "markdown",
   "id": "b5266eef",
   "metadata": {},
   "source": [
    "Now we split this file into several compressed files so that we can upload everything to GitHub. This is based on the following repo: https://github.com/TomaszGolan/hdf5_manipulator"
   ]
  },
  {
   "cell_type": "markdown",
   "id": "10d02ded",
   "metadata": {},
   "source": [
    "Then run\n",
    "```Python\n",
    "    ./hdf5_manipulator-master/split.py --input name/name.h5 --size 5000\n",
    "\n",
    "```\n",
    "and delete the ```name.h5``` file."
   ]
  },
  {
   "cell_type": "markdown",
   "id": "57f2bd03",
   "metadata": {},
   "source": [
    "To read back the files:"
   ]
  },
  {
   "cell_type": "markdown",
   "id": "c14e137b",
   "metadata": {},
   "source": [
    "```Python\n",
    "    ./hdf5_manipulator-master/merge.py --input name/name --output data.h5\n",
    "```"
   ]
  },
  {
   "cell_type": "code",
   "execution_count": 21,
   "id": "b5bdfb40",
   "metadata": {},
   "outputs": [],
   "source": [
    "hg = h5py.File('data.h5', 'r')"
   ]
  },
  {
   "cell_type": "code",
   "execution_count": 25,
   "id": "b3b4bd59",
   "metadata": {},
   "outputs": [],
   "source": [
    "h5Cost = np.array( hg.get('data256_1002-data32_1003_p=S2_Cost') )"
   ]
  },
  {
   "cell_type": "markdown",
   "id": "109fdadd",
   "metadata": {},
   "source": [
    "Let's check it:"
   ]
  },
  {
   "cell_type": "code",
   "execution_count": 26,
   "id": "3a03bd59",
   "metadata": {},
   "outputs": [
    {
     "data": {
      "text/plain": [
       "True"
      ]
     },
     "execution_count": 26,
     "metadata": {},
     "output_type": "execute_result"
    }
   ],
   "source": [
    "np.allclose(h5Cost, c)"
   ]
  },
  {
   "cell_type": "markdown",
   "id": "47ea47ef",
   "metadata": {},
   "source": [
    "---"
   ]
  },
  {
   "cell_type": "markdown",
   "id": "6c3ecebe",
   "metadata": {},
   "source": [
    "# Iterative loop"
   ]
  },
  {
   "cell_type": "markdown",
   "id": "f0fe27c8",
   "metadata": {},
   "source": [
    "## Costs"
   ]
  },
  {
   "cell_type": "code",
   "execution_count": 34,
   "id": "808c9514",
   "metadata": {},
   "outputs": [
    {
     "data": {
      "text/plain": [
       "['data256_1002-data32_1003_p=S2_Cost',\n",
       " 'data256_1002-data32_1003_p=1_Cost',\n",
       " 'data256_1002-data32_1003_p=4_Cost',\n",
       " 'data256_1002-data32_1003_p=1.5_Cost',\n",
       " 'data256_1002-data32_1003_p=2_Cost',\n",
       " 'data256_1002-data32_1003_p=∞_Cost']"
      ]
     },
     "execution_count": 34,
     "metadata": {},
     "output_type": "execute_result"
    }
   ],
   "source": [
    "Names = [file[:-4] for file in glob.glob(\"*Cost.npy\")]\n",
    "Names"
   ]
  },
  {
   "cell_type": "code",
   "execution_count": 37,
   "id": "4305a396",
   "metadata": {},
   "outputs": [
    {
     "name": "stdout",
     "output_type": "stream",
     "text": [
      "./hdf5_manipulator-master/split.py --input data256_1002-data32_1003_p=S2_Cost/data256_1002-data32_1003_p=S2_Cost.h5 --size 5000\n",
      "./hdf5_manipulator-master/split.py --input data256_1002-data32_1003_p=1_Cost/data256_1002-data32_1003_p=1_Cost.h5 --size 5000\n",
      "./hdf5_manipulator-master/split.py --input data256_1002-data32_1003_p=4_Cost/data256_1002-data32_1003_p=4_Cost.h5 --size 5000\n",
      "./hdf5_manipulator-master/split.py --input data256_1002-data32_1003_p=1.5_Cost/data256_1002-data32_1003_p=1.5_Cost.h5 --size 5000\n",
      "./hdf5_manipulator-master/split.py --input data256_1002-data32_1003_p=2_Cost/data256_1002-data32_1003_p=2_Cost.h5 --size 5000\n",
      "./hdf5_manipulator-master/split.py --input data256_1002-data32_1003_p=∞_Cost/data256_1002-data32_1003_p=∞_Cost.h5 --size 5000\n"
     ]
    }
   ],
   "source": [
    "for name in Names:\n",
    "    os.mkdir(name)                                     # Create folder\n",
    "    c  = np.load(name + '.npy')                        # Load matrix\n",
    "    hf = h5py.File(name + '/' + name + '.h5', 'w')     # Create h5 file\n",
    "    hf.create_dataset(name, data = c)                  # Store matrix\n",
    "    hf.close()\n",
    "    # Now run this in terminal:\n",
    "    print('./hdf5_manipulator-master/split.py --input ' + name +'/'+name+'.h5 --size 5000')"
   ]
  },
  {
   "cell_type": "code",
   "execution_count": 40,
   "id": "2ec4eecb",
   "metadata": {},
   "outputs": [],
   "source": [
    "# Now remove files\n",
    "for name in Names:    \n",
    "    if name != 'data256_1002-data32_1003_p=S2_Cost':\n",
    "        os.remove(name + '/' + name + '.h5')"
   ]
  },
  {
   "cell_type": "markdown",
   "id": "a310d867",
   "metadata": {},
   "source": [
    "## Costs"
   ]
  },
  {
   "cell_type": "code",
   "execution_count": 41,
   "id": "f74def82",
   "metadata": {},
   "outputs": [
    {
     "data": {
      "text/plain": [
       "['data256_1002-data32_1003_p=S2_Sol',\n",
       " 'data256_1002-data32_1003_p=1_Sol',\n",
       " 'data256_1002-data32_1003_p=2_Sol',\n",
       " 'data256_1002-data32_1003_p=1.5_Sol',\n",
       " 'data256_1002-data32_1003_p=∞_Sol',\n",
       " 'data256_1002-data32_1003_p=4_Sol']"
      ]
     },
     "execution_count": 41,
     "metadata": {},
     "output_type": "execute_result"
    }
   ],
   "source": [
    "Names = [file[:-4] for file in glob.glob(\"*Sol.npy\")]\n",
    "Names"
   ]
  },
  {
   "cell_type": "code",
   "execution_count": 44,
   "id": "04dbc5cc",
   "metadata": {},
   "outputs": [
    {
     "name": "stdout",
     "output_type": "stream",
     "text": [
      "./hdf5_manipulator-master/split.py --input data256_1002-data32_1003_p=S2_Sol/data256_1002-data32_1003_p=S2_Sol.h5 --size 5000\n",
      "./hdf5_manipulator-master/split.py --input data256_1002-data32_1003_p=1_Sol/data256_1002-data32_1003_p=1_Sol.h5 --size 5000\n",
      "./hdf5_manipulator-master/split.py --input data256_1002-data32_1003_p=2_Sol/data256_1002-data32_1003_p=2_Sol.h5 --size 5000\n",
      "./hdf5_manipulator-master/split.py --input data256_1002-data32_1003_p=1.5_Sol/data256_1002-data32_1003_p=1.5_Sol.h5 --size 5000\n",
      "./hdf5_manipulator-master/split.py --input data256_1002-data32_1003_p=∞_Sol/data256_1002-data32_1003_p=∞_Sol.h5 --size 5000\n",
      "./hdf5_manipulator-master/split.py --input data256_1002-data32_1003_p=4_Sol/data256_1002-data32_1003_p=4_Sol.h5 --size 5000\n"
     ]
    }
   ],
   "source": [
    "for name in Names:\n",
    "    os.mkdir(name)                                     # Create folder\n",
    "    c  = np.load(name + '.npy')                        # Load matrix\n",
    "    hf = h5py.File(name + '/' + name + '.h5', 'w')     # Create h5 file\n",
    "    hf.create_dataset(name, data = c)                  # Store matrix\n",
    "    hf.close()\n",
    "    # Now run this in terminal:\n",
    "    print('./hdf5_manipulator-master/split.py --input ' + name +'/'+name+'.h5 --size 5000')"
   ]
  },
  {
   "cell_type": "code",
   "execution_count": 45,
   "id": "fe2619e6",
   "metadata": {},
   "outputs": [],
   "source": [
    "# Now remove files\n",
    "for name in Names:        os.remove(name + '/' + name + '.h5')"
   ]
  },
  {
   "cell_type": "markdown",
   "id": "f226942a",
   "metadata": {},
   "source": [
    "---"
   ]
  }
 ],
 "metadata": {
  "kernelspec": {
   "display_name": "Python 3",
   "language": "python",
   "name": "python3"
  },
  "language_info": {
   "codemirror_mode": {
    "name": "ipython",
    "version": 3
   },
   "file_extension": ".py",
   "mimetype": "text/x-python",
   "name": "python",
   "nbconvert_exporter": "python",
   "pygments_lexer": "ipython3",
   "version": "3.7.10"
  }
 },
 "nbformat": 4,
 "nbformat_minor": 5
}
